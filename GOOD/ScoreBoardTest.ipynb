{
 "cells": [
  {
   "cell_type": "code",
   "execution_count": 1,
   "id": "e9ff304b-34cb-49ec-92f3-9da015052083",
   "metadata": {
    "tags": []
   },
   "outputs": [
    {
     "data": {
      "application/vnd.jupyter.widget-view+json": {
       "model_id": "80e28dea732e4087a0b1508a8392a239",
       "version_major": 2,
       "version_minor": 0
      },
      "text/plain": [
       "Output()"
      ]
     },
     "metadata": {},
     "output_type": "display_data"
    },
    {
     "data": {
      "application/vnd.jupyter.widget-view+json": {
       "model_id": "7cfc1f7da9954b79b97a5e8221895423",
       "version_major": 2,
       "version_minor": 0
      },
      "text/plain": [
       "ScoreBoard(children=(HTML(value='\\n<link rel=\"preconnect\" href=\"https://fonts.googleapis.com\">\\n<link rel=\"pre…"
      ]
     },
     "execution_count": 1,
     "metadata": {},
     "output_type": "execute_result"
    }
   ],
   "source": [
    "import Game\n",
    "import ScoreBoard\n",
    "import Stats\n",
    "import DigitalBoards\n",
    "\n",
    "import importlib\n",
    "importlib.reload(ScoreBoard)\n",
    "importlib.reload(Game)\n",
    "importlib.reload(Stats)\n",
    "importlib.reload(DigitalBoards)\n",
    "\n",
    "o = ScoreBoard.ScoreBoard('./data/Urbania.team', './data/12-Andata-Forlimpopoli.game', scale=0.4)\n",
    "\n",
    "display(o.tb.debug)\n",
    "o"
   ]
  },
  {
   "cell_type": "code",
   "execution_count": 12,
   "id": "11c0c47f-b1e2-4362-a95c-457a816b4921",
   "metadata": {
    "tags": []
   },
   "outputs": [],
   "source": [
    "o.scale = 0.4"
   ]
  },
  {
   "cell_type": "code",
   "execution_count": null,
   "id": "de7fa75d-db5a-47a3-8b45-04512200f02b",
   "metadata": {
    "tags": []
   },
   "outputs": [],
   "source": [
    "o.game.players_info"
   ]
  },
  {
   "cell_type": "code",
   "execution_count": null,
   "id": "bc0df31f-74bf-43a0-a397-6ac971dd7bd7",
   "metadata": {
    "tags": []
   },
   "outputs": [],
   "source": [
    "o.game.events_df"
   ]
  },
  {
   "cell_type": "code",
   "execution_count": null,
   "id": "0b9890ed-f8f0-4374-8d8e-6569b1c728e7",
   "metadata": {
    "tags": []
   },
   "outputs": [],
   "source": [
    "o.player_index"
   ]
  },
  {
   "cell_type": "code",
   "execution_count": null,
   "id": "afaaad9d-a8be-4812-b7a7-4e7705480f40",
   "metadata": {
    "tags": []
   },
   "outputs": [],
   "source": [
    "o.bench"
   ]
  },
  {
   "cell_type": "code",
   "execution_count": null,
   "id": "7398be13-3cca-4cc2-90df-cbb504e57295",
   "metadata": {
    "tags": []
   },
   "outputs": [],
   "source": [
    "o.toField('Aloi', 0)"
   ]
  },
  {
   "cell_type": "code",
   "execution_count": null,
   "id": "1ddd7d60-af8f-4e9d-beea-e65506547b6c",
   "metadata": {
    "tags": []
   },
   "outputs": [],
   "source": [
    "o.toField('Baldassarri', 0)"
   ]
  },
  {
   "cell_type": "code",
   "execution_count": null,
   "id": "c6f05bb3-ff26-4a58-9007-8bb5deaf12b3",
   "metadata": {
    "tags": []
   },
   "outputs": [],
   "source": [
    "o.toBench('Diana')"
   ]
  },
  {
   "cell_type": "code",
   "execution_count": null,
   "id": "b0918381-7377-4740-acad-a00956d724d0",
   "metadata": {
    "tags": []
   },
   "outputs": [],
   "source": [
    "o.toField('Colotti', 2)"
   ]
  },
  {
   "cell_type": "code",
   "execution_count": null,
   "id": "1f997279-bbc1-42a3-89ad-21dbef788cbb",
   "metadata": {
    "tags": []
   },
   "outputs": [],
   "source": [
    "o.game.on_field"
   ]
  },
  {
   "cell_type": "code",
   "execution_count": null,
   "id": "7d14068c-a75f-4d2d-b2e1-113577248bd9",
   "metadata": {
    "tags": []
   },
   "outputs": [],
   "source": [
    "o.tb.seconds = 347.6\n",
    "o.pb1.points = 37\n",
    "o.pb2.points = 25\n",
    "o.fb1.fouls = 3\n",
    "o.fb2.fouls = 5"
   ]
  },
  {
   "cell_type": "code",
   "execution_count": null,
   "id": "147ccbdc-524e-4e15-8644-73379d016c52",
   "metadata": {},
   "outputs": [],
   "source": [
    "o.tb.timer_stop"
   ]
  },
  {
   "cell_type": "code",
   "execution_count": null,
   "id": "465800d6-504f-4933-b601-e44114c0135e",
   "metadata": {
    "tags": []
   },
   "outputs": [],
   "source": [
    "o.player_selected"
   ]
  },
  {
   "cell_type": "code",
   "execution_count": null,
   "id": "f7cc79b2-683b-45b5-84b0-3f6591eb3713",
   "metadata": {},
   "outputs": [],
   "source": []
  }
 ],
 "metadata": {
  "kernelspec": {
   "display_name": "Python [interapro_env]",
   "language": "python",
   "name": "conda-env-interapro_env-py"
  },
  "language_info": {
   "codemirror_mode": {
    "name": "ipython",
    "version": 3
   },
   "file_extension": ".py",
   "mimetype": "text/x-python",
   "name": "python",
   "nbconvert_exporter": "python",
   "pygments_lexer": "ipython3",
   "version": "3.11.6"
  }
 },
 "nbformat": 4,
 "nbformat_minor": 5
}
