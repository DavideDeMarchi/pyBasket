{
 "cells": [
  {
   "cell_type": "markdown",
   "id": "08b2302b-88b0-4900-b81c-aca7ea0a5dff",
   "metadata": {},
   "source": [
    "### TimeBoard"
   ]
  },
  {
   "cell_type": "code",
   "execution_count": 40,
   "id": "6eac315b-587a-4598-819e-2b512b227123",
   "metadata": {
    "tags": []
   },
   "outputs": [
    {
     "data": {
      "application/vnd.jupyter.widget-view+json": {
       "model_id": "4c45d284930e4ef3963ca4f28fd29ad8",
       "version_major": 2,
       "version_minor": 0
      },
      "text/plain": [
       "Output()"
      ]
     },
     "metadata": {},
     "output_type": "display_data"
    },
    {
     "data": {
      "application/vnd.jupyter.widget-view+json": {
       "model_id": "ea04216ca8b44e629065c58361cc6e5e",
       "version_major": 2,
       "version_minor": 0
      },
      "text/plain": [
       "TimeBoard(children=(Card(children=[HTML(value='<svg version=\"1.1\" xmlns=\"http://www.w3.org/2000/svg\" xmlns:xli…"
      ]
     },
     "execution_count": 40,
     "metadata": {},
     "output_type": "execute_result"
    }
   ],
   "source": [
    "import DigitalBoards\n",
    "\n",
    "import importlib\n",
    "importlib.reload(DigitalBoards)\n",
    "\n",
    "def onstopped():\n",
    "    print('stopped')\n",
    "    \n",
    "def onterminated():\n",
    "    print('terminated')\n",
    "    tb.gameover = True\n",
    "\n",
    "#tb = DigitalBoards.TimeBoard(color_back='#ffffff', color_off='#f3f3f3')\n",
    "tb = DigitalBoards.TimeBoard(scale=0.5, onstopped=onstopped, onterminated=onterminated)\n",
    "tb.seconds = 2\n",
    "display(tb.debug)\n",
    "tb"
   ]
  },
  {
   "cell_type": "code",
   "execution_count": 41,
   "id": "30330d3b-9d83-40ad-bdea-b47f844c081e",
   "metadata": {
    "tags": []
   },
   "outputs": [],
   "source": [
    "tb.scale = 0.8"
   ]
  },
  {
   "cell_type": "code",
   "execution_count": 27,
   "id": "d2dde9ac-513c-47a9-824f-21a7838268af",
   "metadata": {
    "tags": []
   },
   "outputs": [
    {
     "data": {
      "text/plain": [
       "False"
      ]
     },
     "execution_count": 27,
     "metadata": {},
     "output_type": "execute_result"
    }
   ],
   "source": [
    "tb.gameover"
   ]
  },
  {
   "cell_type": "code",
   "execution_count": 85,
   "id": "bcc3e154-143d-4677-b413-c644081a365a",
   "metadata": {
    "tags": []
   },
   "outputs": [],
   "source": [
    "tb.seconds = 10"
   ]
  },
  {
   "cell_type": "code",
   "execution_count": null,
   "id": "2177e2a4-42e7-4996-8a1f-a796c521cc0b",
   "metadata": {
    "tags": []
   },
   "outputs": [],
   "source": [
    "tb.start()"
   ]
  },
  {
   "cell_type": "code",
   "execution_count": 13,
   "id": "b51be5a3-1ea8-46b3-9f38-f6c68a249415",
   "metadata": {
    "tags": []
   },
   "outputs": [
    {
     "name": "stdout",
     "output_type": "stream",
     "text": [
      "stopped\n"
     ]
    }
   ],
   "source": [
    "tb.stop()"
   ]
  },
  {
   "cell_type": "code",
   "execution_count": null,
   "id": "7ed29543-1733-4ab5-8d48-d30f16f091aa",
   "metadata": {
    "tags": []
   },
   "outputs": [],
   "source": [
    "from random import randrange\n",
    "\n",
    "for i in range(100):\n",
    "    s = randrange(700)\n",
    "    tb.seconds = s"
   ]
  },
  {
   "cell_type": "code",
   "execution_count": null,
   "id": "e024d542-6208-42e0-91e9-beeb733310dc",
   "metadata": {
    "tags": []
   },
   "outputs": [],
   "source": [
    "tb.seconds = 234.2"
   ]
  },
  {
   "cell_type": "markdown",
   "id": "7dacd21a-e3e5-4809-b427-6343ab893c05",
   "metadata": {},
   "source": [
    "### PointsBoard"
   ]
  },
  {
   "cell_type": "code",
   "execution_count": 45,
   "id": "af3585cf-9089-4781-aab3-78d9c4f6da03",
   "metadata": {
    "tags": []
   },
   "outputs": [
    {
     "data": {
      "application/vnd.jupyter.widget-view+json": {
       "model_id": "e832773346df41efbec71b5d1aa99bde",
       "version_major": 2,
       "version_minor": 0
      },
      "text/plain": [
       "Output()"
      ]
     },
     "metadata": {},
     "output_type": "display_data"
    },
    {
     "data": {
      "application/vnd.jupyter.widget-view+json": {
       "model_id": "b4b17432626d4ea5ac62885a7f4c560d",
       "version_major": 2,
       "version_minor": 0
      },
      "text/plain": [
       "HBox(children=(PointsBoard(children=(Card(children=[Output(layout=Layout(height='calc(16.000000vh + 14px)', ma…"
      ]
     },
     "execution_count": 45,
     "metadata": {},
     "output_type": "execute_result"
    }
   ],
   "source": [
    "from ipywidgets import widgets\n",
    "import DigitalBoards\n",
    "\n",
    "import importlib\n",
    "importlib.reload(DigitalBoards)\n",
    "\n",
    "out = widgets.Output()\n",
    "display(out)\n",
    "\n",
    "def onclick(x):\n",
    "    with out:\n",
    "        print(x)\n",
    "\n",
    "#tp = DigitalBoards.PointsBoard(width=14, height=16, color_back='#ffffff', color_off='#f3f3f3')\n",
    "tp1   = DigitalBoards.PointsBoard(onclick=onclick, left_align=False)\n",
    "colon = DigitalBoards.Colon()\n",
    "tp2   = DigitalBoards.PointsBoard(left_align=True)\n",
    "widgets.HBox([tp1, colon, tp2])"
   ]
  },
  {
   "cell_type": "code",
   "execution_count": 46,
   "id": "2d11cddb-2117-4aca-b5e9-9e3648e3da50",
   "metadata": {
    "tags": []
   },
   "outputs": [],
   "source": [
    "tp1.scale = colon.scale = tp2.scale = 0.5"
   ]
  },
  {
   "cell_type": "code",
   "execution_count": null,
   "id": "0d68241b-373f-4d5b-b6c3-5b30cd4e2fae",
   "metadata": {
    "tags": []
   },
   "outputs": [],
   "source": [
    "tp1.points = 27\n",
    "tp2.points = 45"
   ]
  },
  {
   "cell_type": "code",
   "execution_count": null,
   "id": "7b2f328f-76b7-41dc-83c8-9148f8157f1d",
   "metadata": {
    "tags": []
   },
   "outputs": [],
   "source": [
    "for i in range(10):\n",
    "    tp2.points -= 3"
   ]
  },
  {
   "cell_type": "code",
   "execution_count": null,
   "id": "d83b38a9-5791-4ebd-9684-3c219fcffc13",
   "metadata": {
    "tags": []
   },
   "outputs": [],
   "source": [
    "tp1.points"
   ]
  },
  {
   "cell_type": "markdown",
   "id": "bea66e16-1cc0-4e11-84aa-2025f887ff3e",
   "metadata": {},
   "source": [
    "### FoulsBoard"
   ]
  },
  {
   "cell_type": "code",
   "execution_count": 47,
   "id": "6127b002-e0da-4556-b5c2-591bd22d77e1",
   "metadata": {
    "tags": []
   },
   "outputs": [
    {
     "data": {
      "application/vnd.jupyter.widget-view+json": {
       "model_id": "79487ac9b9ab44b7aff55c6abe8756fb",
       "version_major": 2,
       "version_minor": 0
      },
      "text/plain": [
       "FoulsBoard(children=(Card(children=[Output(layout=Layout(height='calc(16.000000vh + 14px)', margin='0px 0px 0p…"
      ]
     },
     "execution_count": 47,
     "metadata": {},
     "output_type": "execute_result"
    }
   ],
   "source": [
    "import DigitalBoards\n",
    "\n",
    "import importlib\n",
    "importlib.reload(DigitalBoards)\n",
    "\n",
    "#tp = DigitalBoards.FoulsBoard(width=14, height=16, color_back='#ffffff', color_off='#f3f3f3')\n",
    "tf = DigitalBoards.FoulsBoard()\n",
    "tf"
   ]
  },
  {
   "cell_type": "code",
   "execution_count": 50,
   "id": "3ebccf00-398a-457c-bba3-3a9e05ffa306",
   "metadata": {
    "tags": []
   },
   "outputs": [],
   "source": [
    "tf.scale = 0.8"
   ]
  },
  {
   "cell_type": "code",
   "execution_count": null,
   "id": "50e25bee-6892-4c96-a1b8-e22dc24d5223",
   "metadata": {
    "tags": []
   },
   "outputs": [],
   "source": [
    "tf.fouls = 47"
   ]
  },
  {
   "cell_type": "code",
   "execution_count": null,
   "id": "f7cc79b2-683b-45b5-84b0-3f6591eb3713",
   "metadata": {},
   "outputs": [],
   "source": []
  }
 ],
 "metadata": {
  "kernelspec": {
   "display_name": "Python [interapro_env]",
   "language": "python",
   "name": "conda-env-interapro_env-py"
  },
  "language_info": {
   "codemirror_mode": {
    "name": "ipython",
    "version": 3
   },
   "file_extension": ".py",
   "mimetype": "text/x-python",
   "name": "python",
   "nbconvert_exporter": "python",
   "pygments_lexer": "ipython3",
   "version": "3.11.6"
  }
 },
 "nbformat": 4,
 "nbformat_minor": 5
}
