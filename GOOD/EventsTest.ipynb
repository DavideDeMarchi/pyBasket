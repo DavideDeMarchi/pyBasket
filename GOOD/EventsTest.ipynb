{
 "cells": [
  {
   "cell_type": "code",
   "execution_count": 1,
   "id": "e9ff304b-34cb-49ec-92f3-9da015052083",
   "metadata": {
    "tags": []
   },
   "outputs": [
    {
     "data": {
      "application/vnd.jupyter.widget-view+json": {
       "model_id": "e2d11a7831a94335827ed047f46656d5",
       "version_major": 2,
       "version_minor": 0
      },
      "text/plain": [
       "HTML(value='\\n<style>.jp-OutputPrompt {\\n    flex: 0 0 0 !important;\\n    display: inline !important;\\n    min…"
      ]
     },
     "metadata": {},
     "output_type": "display_data"
    },
    {
     "data": {
      "application/vnd.jupyter.widget-view+json": {
       "model_id": "d0ad68c219524f6eb1b4f88ebdf73085",
       "version_major": 2,
       "version_minor": 0
      },
      "text/plain": [
       "HTML(value='\\n<style>\\n.leaflet-popup-tip {\\n    width: 17px !important;\\n    height: 17px !important;\\n    pa…"
      ]
     },
     "metadata": {},
     "output_type": "display_data"
    },
    {
     "data": {
      "application/vnd.jupyter.widget-view+json": {
       "model_id": "149bf0c93c7244e1826de66bfd1dfefe",
       "version_major": 2,
       "version_minor": 0
      },
      "text/plain": [
       "ScoreBoard(children=(HTML(value='\\n<link rel=\"preconnect\" href=\"https://fonts.googleapis.com\">\\n<link rel=\"pre…"
      ]
     },
     "metadata": {},
     "output_type": "display_data"
    },
    {
     "data": {
      "application/vnd.jupyter.widget-view+json": {
       "model_id": "8927f8adcb6f443285ea35e649333cf6",
       "version_major": 2,
       "version_minor": 0
      },
      "text/plain": [
       "Events(children=(VBox(children=(HBox(children=(Card(children=[Html(children=['Tiro libero centrato'], layout=N…"
      ]
     },
     "metadata": {},
     "output_type": "display_data"
    },
    {
     "data": {
      "application/vnd.jupyter.widget-view+json": {
       "model_id": "a1464390e90f4d9a945fb895df1484c2",
       "version_major": 2,
       "version_minor": 0
      },
      "text/plain": [
       "Output(layout=Layout(height='0px', width='0px'))"
      ]
     },
     "metadata": {},
     "output_type": "display_data"
    }
   ],
   "source": [
    "import Events\n",
    "import Game\n",
    "import ScoreBoard\n",
    "import ThrowMap\n",
    "import Stats\n",
    "import DigitalBoards\n",
    "\n",
    "from ipywidgets import widgets, Layout\n",
    "\n",
    "output = widgets.Output(layout=Layout(width='0px', height='0px'))\n",
    "\n",
    "from vois import cssUtils\n",
    "cssUtils.allSettings()\n",
    "\n",
    "import importlib\n",
    "importlib.reload(DigitalBoards)\n",
    "importlib.reload(Stats)\n",
    "importlib.reload(ThrowMap)\n",
    "importlib.reload(ScoreBoard)\n",
    "importlib.reload(Game)\n",
    "importlib.reload(Events)\n",
    "\n",
    "\n",
    "#sb = ScoreBoard.ScoreBoard('./data/Urbania.team', './data/12-Andata-Forlimpopoli.game', scale=0.5, output=output)\n",
    "sb = ScoreBoard.ScoreBoard('./data/Urbania.team', './data/out.game', scale=0.5, output=output)\n",
    "#display(sb.tb.debug)\n",
    "display(sb)\n",
    "\n",
    "#sb.tb.seconds = 2.0\n",
    "\n",
    "e = Events.Events(sb)\n",
    "display(e)\n",
    "\n",
    "display(output)"
   ]
  },
  {
   "cell_type": "code",
   "execution_count": 80,
   "id": "abd6eee1-4d4c-4ba7-ae78-54cefff38db2",
   "metadata": {
    "tags": []
   },
   "outputs": [],
   "source": [
    "e.scale = 0.55"
   ]
  },
  {
   "cell_type": "code",
   "execution_count": 40,
   "id": "132f7595-f48b-4402-a481-b0e46419534b",
   "metadata": {
    "tags": []
   },
   "outputs": [],
   "source": [
    "sb.tb.seconds = 2.0"
   ]
  },
  {
   "cell_type": "code",
   "execution_count": 76,
   "id": "1822e2ce-93bd-4019-b97a-3533a198bd5a",
   "metadata": {
    "tags": []
   },
   "outputs": [
    {
     "data": {
      "text/plain": [
       "{'Lulaj': {'name': 'Lulaj',\n",
       "  'number': '1',\n",
       "  'time_on_field': 0.0,\n",
       "  'plusminus': 0},\n",
       " 'Aloi': {'name': 'Aloi',\n",
       "  'number': '2',\n",
       "  'time_on_field': 313.49999999999994,\n",
       "  'plusminus': 2},\n",
       " 'Baldassarri': {'name': 'Baldassarri',\n",
       "  'number': '4',\n",
       "  'time_on_field': 0.0,\n",
       "  'plusminus': 0},\n",
       " 'Di Francesco': {'name': 'Di Francesco',\n",
       "  'number': '5',\n",
       "  'time_on_field': 313.49999999999994,\n",
       "  'plusminus': 2},\n",
       " 'Colotti': {'name': 'Colotti',\n",
       "  'number': '8',\n",
       "  'time_on_field': 250.1408668913649,\n",
       "  'plusminus': -1},\n",
       " 'Pentucci': {'name': 'Pentucci',\n",
       "  'number': '9',\n",
       "  'time_on_field': 145.22954720488485,\n",
       "  'plusminus': 0},\n",
       " 'Dusels': {'name': 'Dusels',\n",
       "  'number': '10',\n",
       "  'time_on_field': 180.66191227682333,\n",
       "  'plusminus': 4},\n",
       " 'Manna': {'name': 'Manna',\n",
       "  'number': '13',\n",
       "  'time_on_field': 0.0,\n",
       "  'plusminus': 0},\n",
       " 'Diana': {'name': 'Diana',\n",
       "  'number': '14',\n",
       "  'time_on_field': 313.49999999999994,\n",
       "  'plusminus': 2},\n",
       " 'Matteucci': {'name': 'Matteucci',\n",
       "  'number': '16',\n",
       "  'time_on_field': 0.0,\n",
       "  'plusminus': 0},\n",
       " 'Campana': {'name': 'Campana',\n",
       "  'number': '21',\n",
       "  'time_on_field': 50.96767362692688,\n",
       "  'plusminus': -1},\n",
       " 'Marcantognini': {'name': 'Marcantognini',\n",
       "  'number': '34',\n",
       "  'time_on_field': 0.0,\n",
       "  'plusminus': 0}}"
      ]
     },
     "execution_count": 76,
     "metadata": {},
     "output_type": "execute_result"
    }
   ],
   "source": [
    "sb.game.players_info"
   ]
  },
  {
   "cell_type": "code",
   "execution_count": null,
   "id": "51ac6913-53db-4a50-98c7-3db9d8bceac3",
   "metadata": {
    "tags": []
   },
   "outputs": [],
   "source": [
    "sb.game.saveGame()"
   ]
  },
  {
   "cell_type": "code",
   "execution_count": 2,
   "id": "93a90eb6-5855-4a91-af24-323735b73da2",
   "metadata": {},
   "outputs": [
    {
     "data": {
      "text/html": [
       "<div>\n",
       "<style scoped>\n",
       "    .dataframe tbody tr th:only-of-type {\n",
       "        vertical-align: middle;\n",
       "    }\n",
       "\n",
       "    .dataframe tbody tr th {\n",
       "        vertical-align: top;\n",
       "    }\n",
       "\n",
       "    .dataframe thead th {\n",
       "        text-align: right;\n",
       "    }\n",
       "</style>\n",
       "<table border=\"1\" class=\"dataframe\">\n",
       "  <thead>\n",
       "    <tr style=\"text-align: right;\">\n",
       "      <th></th>\n",
       "      <th>team</th>\n",
       "      <th>player</th>\n",
       "      <th>event</th>\n",
       "      <th>event_name</th>\n",
       "      <th>event_description</th>\n",
       "      <th>quarter</th>\n",
       "      <th>seconds</th>\n",
       "      <th>x</th>\n",
       "      <th>y</th>\n",
       "    </tr>\n",
       "  </thead>\n",
       "  <tbody>\n",
       "    <tr>\n",
       "      <th>0</th>\n",
       "      <td>Opponents</td>\n",
       "      <td>Sampieri</td>\n",
       "      <td>4</td>\n",
       "      <td>T3ok</td>\n",
       "      <td>Tiro da 3 centrato</td>\n",
       "      <td>1</td>\n",
       "      <td>592.2</td>\n",
       "      <td>0.000000</td>\n",
       "      <td>0.000000</td>\n",
       "    </tr>\n",
       "    <tr>\n",
       "      <th>1</th>\n",
       "      <td>Team</td>\n",
       "      <td>Aloi</td>\n",
       "      <td>4</td>\n",
       "      <td>T3ok</td>\n",
       "      <td>Tiro da 3 centrato</td>\n",
       "      <td>1</td>\n",
       "      <td>584.0</td>\n",
       "      <td>42.625000</td>\n",
       "      <td>86.802783</td>\n",
       "    </tr>\n",
       "    <tr>\n",
       "      <th>2</th>\n",
       "      <td>Opponents</td>\n",
       "      <td>Fin</td>\n",
       "      <td>2</td>\n",
       "      <td>T2ok</td>\n",
       "      <td>Tiro da 2 centrato</td>\n",
       "      <td>1</td>\n",
       "      <td>579.6</td>\n",
       "      <td>0.000000</td>\n",
       "      <td>0.000000</td>\n",
       "    </tr>\n",
       "    <tr>\n",
       "      <th>3</th>\n",
       "      <td>Team</td>\n",
       "      <td>Di Francesco</td>\n",
       "      <td>3</td>\n",
       "      <td>T2err</td>\n",
       "      <td>Tiro da 2 sbagliato</td>\n",
       "      <td>1</td>\n",
       "      <td>572.5</td>\n",
       "      <td>21.140625</td>\n",
       "      <td>46.416351</td>\n",
       "    </tr>\n",
       "    <tr>\n",
       "      <th>4</th>\n",
       "      <td>Team</td>\n",
       "      <td>Pentucci</td>\n",
       "      <td>6</td>\n",
       "      <td>ROff</td>\n",
       "      <td>Rimbalzo offensivo</td>\n",
       "      <td>1</td>\n",
       "      <td>569.1</td>\n",
       "      <td>0.000000</td>\n",
       "      <td>0.000000</td>\n",
       "    </tr>\n",
       "    <tr>\n",
       "      <th>...</th>\n",
       "      <td>...</td>\n",
       "      <td>...</td>\n",
       "      <td>...</td>\n",
       "      <td>...</td>\n",
       "      <td>...</td>\n",
       "      <td>...</td>\n",
       "      <td>...</td>\n",
       "      <td>...</td>\n",
       "      <td>...</td>\n",
       "    </tr>\n",
       "    <tr>\n",
       "      <th>58</th>\n",
       "      <td>Opponents</td>\n",
       "      <td>Galletti</td>\n",
       "      <td>0</td>\n",
       "      <td>T1ok</td>\n",
       "      <td>Tiro libero centrato</td>\n",
       "      <td>1</td>\n",
       "      <td>292.0</td>\n",
       "      <td>0.000000</td>\n",
       "      <td>0.000000</td>\n",
       "    </tr>\n",
       "    <tr>\n",
       "      <th>59</th>\n",
       "      <td>Team</td>\n",
       "      <td>Pentucci</td>\n",
       "      <td>7</td>\n",
       "      <td>RDif</td>\n",
       "      <td>Rimbalzo difensivo</td>\n",
       "      <td>1</td>\n",
       "      <td>284.1</td>\n",
       "      <td>0.000000</td>\n",
       "      <td>0.000000</td>\n",
       "    </tr>\n",
       "    <tr>\n",
       "      <th>60</th>\n",
       "      <td>Team</td>\n",
       "      <td>Diana</td>\n",
       "      <td>11</td>\n",
       "      <td>SDat</td>\n",
       "      <td>Stoppata data</td>\n",
       "      <td>1</td>\n",
       "      <td>281.1</td>\n",
       "      <td>0.000000</td>\n",
       "      <td>0.000000</td>\n",
       "    </tr>\n",
       "    <tr>\n",
       "      <th>61</th>\n",
       "      <td>Team</td>\n",
       "      <td>Diana</td>\n",
       "      <td>8</td>\n",
       "      <td>PRec</td>\n",
       "      <td>Palla recuperata</td>\n",
       "      <td>1</td>\n",
       "      <td>279.7</td>\n",
       "      <td>0.000000</td>\n",
       "      <td>0.000000</td>\n",
       "    </tr>\n",
       "    <tr>\n",
       "      <th>62</th>\n",
       "      <td>Team</td>\n",
       "      <td>Di Francesco</td>\n",
       "      <td>12</td>\n",
       "      <td>SSub</td>\n",
       "      <td>Stoppata subita</td>\n",
       "      <td>1</td>\n",
       "      <td>275.0</td>\n",
       "      <td>0.000000</td>\n",
       "      <td>0.000000</td>\n",
       "    </tr>\n",
       "  </tbody>\n",
       "</table>\n",
       "<p>63 rows × 9 columns</p>\n",
       "</div>"
      ],
      "text/plain": [
       "         team        player  event event_name     event_description  quarter  \\\n",
       "0   Opponents      Sampieri      4       T3ok    Tiro da 3 centrato        1   \n",
       "1        Team          Aloi      4       T3ok    Tiro da 3 centrato        1   \n",
       "2   Opponents           Fin      2       T2ok    Tiro da 2 centrato        1   \n",
       "3        Team  Di Francesco      3      T2err   Tiro da 2 sbagliato        1   \n",
       "4        Team      Pentucci      6       ROff    Rimbalzo offensivo        1   \n",
       "..        ...           ...    ...        ...                   ...      ...   \n",
       "58  Opponents      Galletti      0       T1ok  Tiro libero centrato        1   \n",
       "59       Team      Pentucci      7       RDif    Rimbalzo difensivo        1   \n",
       "60       Team         Diana     11       SDat         Stoppata data        1   \n",
       "61       Team         Diana      8       PRec      Palla recuperata        1   \n",
       "62       Team  Di Francesco     12       SSub       Stoppata subita        1   \n",
       "\n",
       "    seconds          x          y  \n",
       "0     592.2   0.000000   0.000000  \n",
       "1     584.0  42.625000  86.802783  \n",
       "2     579.6   0.000000   0.000000  \n",
       "3     572.5  21.140625  46.416351  \n",
       "4     569.1   0.000000   0.000000  \n",
       "..      ...        ...        ...  \n",
       "58    292.0   0.000000   0.000000  \n",
       "59    284.1   0.000000   0.000000  \n",
       "60    281.1   0.000000   0.000000  \n",
       "61    279.7   0.000000   0.000000  \n",
       "62    275.0   0.000000   0.000000  \n",
       "\n",
       "[63 rows x 9 columns]"
      ]
     },
     "execution_count": 2,
     "metadata": {},
     "output_type": "execute_result"
    }
   ],
   "source": [
    "e.game.events_df"
   ]
  },
  {
   "cell_type": "code",
   "execution_count": null,
   "id": "2ec5db18-0334-4371-af60-60430e5346ed",
   "metadata": {
    "tags": []
   },
   "outputs": [],
   "source": [
    "e.board.game.game_data"
   ]
  },
  {
   "cell_type": "code",
   "execution_count": null,
   "id": "e5d2403b-b30c-444f-adad-e00c5f30d141",
   "metadata": {
    "tags": []
   },
   "outputs": [],
   "source": [
    "e.opponentsWith1Point()"
   ]
  },
  {
   "cell_type": "code",
   "execution_count": null,
   "id": "a4aedf18-b942-4e5d-b9ae-adf0a82f8c66",
   "metadata": {
    "tags": []
   },
   "outputs": [],
   "source": [
    "sb.throwmap.current_df"
   ]
  },
  {
   "cell_type": "code",
   "execution_count": null,
   "id": "c1aba5f1-463c-4573-a672-ee090e784cfe",
   "metadata": {},
   "outputs": [],
   "source": []
  }
 ],
 "metadata": {
  "kernelspec": {
   "display_name": "Python [interapro_env]",
   "language": "python",
   "name": "conda-env-interapro_env-py"
  },
  "language_info": {
   "codemirror_mode": {
    "name": "ipython",
    "version": 3
   },
   "file_extension": ".py",
   "mimetype": "text/x-python",
   "name": "python",
   "nbconvert_exporter": "python",
   "pygments_lexer": "ipython3",
   "version": "3.11.6"
  }
 },
 "nbformat": 4,
 "nbformat_minor": 5
}
