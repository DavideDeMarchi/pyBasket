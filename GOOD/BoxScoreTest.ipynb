{
 "cells": [
  {
   "cell_type": "markdown",
   "id": "2a6f94d4-3b26-4ee2-aeb7-55597d5ad74a",
   "metadata": {},
   "source": [
    "### Simple display"
   ]
  },
  {
   "cell_type": "code",
   "execution_count": 3,
   "id": "28792bf2-2123-4240-8515-e931d96bcdef",
   "metadata": {
    "tags": []
   },
   "outputs": [],
   "source": [
    "import pandas as pd\n",
    "from PIL import Image\n",
    "\n",
    "game_file = './data/out.game'\n",
    "\n",
    "with open(game_file) as f:\n",
    "    game_data = json.load(f)\n",
    "    \n",
    "team_logo_img = Image.open('./images/Logo.png')\n",
    "\n",
    "events_df = pd.DataFrame.from_records(game_data['events'])\n",
    "#events_df"
   ]
  },
  {
   "cell_type": "code",
   "execution_count": null,
   "id": "3d172e25-8da8-4a60-b03a-d3b28f557823",
   "metadata": {
    "tags": []
   },
   "outputs": [],
   "source": [
    "import BoxScore\n",
    "from ipywidgets import HTML\n",
    "\n",
    "import importlib\n",
    "importlib.reload(BoxScore)\n",
    "\n",
    "svg = BoxScore.svg(events_df, team_logo_img=team_logo_img, width=65.0)\n",
    "HTML(svg)"
   ]
  },
  {
   "cell_type": "markdown",
   "id": "cc8601b7-b7de-46e7-b55c-b1de841f3f53",
   "metadata": {},
   "source": [
    "### BoxScore display"
   ]
  },
  {
   "cell_type": "code",
   "execution_count": 45,
   "id": "95dd1245-ad1b-40ee-aed7-a5ea5a18b161",
   "metadata": {
    "tags": []
   },
   "outputs": [
    {
     "data": {
      "application/vnd.jupyter.widget-view+json": {
       "model_id": "dce9090b2f724a4fb292111f0f02934a",
       "version_major": 2,
       "version_minor": 0
      },
      "text/plain": [
       "Output()"
      ]
     },
     "metadata": {},
     "output_type": "display_data"
    },
    {
     "data": {
      "application/vnd.jupyter.widget-view+json": {
       "model_id": "68328c9b0723406aa0f03296a5742c60",
       "version_major": 2,
       "version_minor": 0
      },
      "text/plain": [
       "HTML(value='<svg version=\"1.1\" xmlns=\"http://www.w3.org/2000/svg\" xmlns:xlink=\"http://www.w3.org/1999/xlink\" x…"
      ]
     },
     "execution_count": 45,
     "metadata": {},
     "output_type": "execute_result"
    }
   ],
   "source": [
    "from ipywidgets import HTML\n",
    "\n",
    "import Game\n",
    "import ScoreBoard\n",
    "import BoxScore\n",
    "import Stats\n",
    "\n",
    "import importlib\n",
    "importlib.reload(Game)\n",
    "importlib.reload(ScoreBoard)\n",
    "importlib.reload(BoxScore)\n",
    "importlib.reload(Stats)\n",
    "\n",
    "from ipywidgets import widgets\n",
    "\n",
    "output = widgets.Output()\n",
    "display(output)\n",
    "\n",
    "board = ScoreBoard.ScoreBoard('./data/Urbania.team', './data/out.game', scale=0.4, output=output)\n",
    "svg = BoxScore.svg(board.game.events_df, game=board.game, width=65.0)\n",
    "HTML(svg)"
   ]
  },
  {
   "cell_type": "code",
   "execution_count": 20,
   "id": "5b5fc3b7-703e-4a78-8d88-98870c6f5768",
   "metadata": {
    "tags": []
   },
   "outputs": [
    {
     "data": {
      "text/plain": [
       "('', '')"
      ]
     },
     "execution_count": 20,
     "metadata": {},
     "output_type": "execute_result"
    }
   ],
   "source": [
    "Stats.tperc(board.game.events_df, 'Aloi', 2)"
   ]
  },
  {
   "cell_type": "code",
   "execution_count": 271,
   "id": "e361d810-d3df-4df8-811a-db1836e15096",
   "metadata": {},
   "outputs": [
    {
     "data": {
      "text/plain": [
       "['Lulaj',\n",
       " 'Aloi',\n",
       " 'Baldassarri',\n",
       " 'Di Francesco',\n",
       " 'Colotti',\n",
       " 'Pentucci',\n",
       " 'Dusels',\n",
       " 'Manna',\n",
       " 'Diana',\n",
       " 'Matteucci',\n",
       " 'Campana',\n",
       " 'Marcantognini']"
      ]
     },
     "execution_count": 271,
     "metadata": {},
     "output_type": "execute_result"
    }
   ],
   "source": [
    "board.game.players_by_number"
   ]
  },
  {
   "cell_type": "code",
   "execution_count": 273,
   "id": "3453a540-d96b-470a-9bec-99aa2e4fe704",
   "metadata": {
    "tags": []
   },
   "outputs": [
    {
     "data": {
      "text/plain": [
       "['1', '2', '4', '5', '8', '9', '10', '13', '14', '16', '21', '34']"
      ]
     },
     "execution_count": 273,
     "metadata": {},
     "output_type": "execute_result"
    }
   ],
   "source": [
    "board.game.players_numbers"
   ]
  },
  {
   "cell_type": "code",
   "execution_count": null,
   "id": "12afd2fe-898c-43cd-af86-915d5299c794",
   "metadata": {},
   "outputs": [],
   "source": []
  }
 ],
 "metadata": {
  "kernelspec": {
   "display_name": "Python [interapro_env]",
   "language": "python",
   "name": "conda-env-interapro_env-py"
  },
  "language_info": {
   "codemirror_mode": {
    "name": "ipython",
    "version": 3
   },
   "file_extension": ".py",
   "mimetype": "text/x-python",
   "name": "python",
   "nbconvert_exporter": "python",
   "pygments_lexer": "ipython3",
   "version": "3.11.6"
  }
 },
 "nbformat": 4,
 "nbformat_minor": 5
}
