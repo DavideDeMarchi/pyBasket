{
 "cells": [
  {
   "cell_type": "markdown",
   "id": "c6724805-0fba-4649-9b7c-5900d6e7ccce",
   "metadata": {
    "tags": []
   },
   "source": [
    "### Opponents"
   ]
  },
  {
   "cell_type": "code",
   "execution_count": null,
   "id": "d5ff279c-1fd7-420b-b5dc-6c85f9d709e2",
   "metadata": {
    "tags": []
   },
   "outputs": [],
   "source": [
    "from ipywidgets import widgets\n",
    "\n",
    "import Opponents\n",
    "import Game\n",
    "import ScoreBoard\n",
    "\n",
    "import importlib\n",
    "importlib.reload(Opponents)\n",
    "importlib.reload(Game)\n",
    "importlib.reload(ScoreBoard)\n",
    "\n",
    "from vois import cssUtils\n",
    "cssUtils.allSettings()\n",
    "\n",
    "output = widgets.Output()\n",
    "display(output)\n",
    "\n",
    "#sb = ScoreBoard.ScoreBoard('./data/Urbania.team', './data/12.a-Andata-BASKERS FORLIMPOPOLI.game', scale=0.4, output=output)\n",
    "sb = ScoreBoard.ScoreBoard('./data/Urbania.team', './data/5.a-Ritorno-BARTOLI FOSSOMBRONE .game', scale=0.4, output=output)\n",
    "\n",
    "o = Opponents.Opponents(sb)"
   ]
  },
  {
   "cell_type": "code",
   "execution_count": null,
   "id": "f50561ed-aab5-43fb-bdc9-048be02d3d6a",
   "metadata": {},
   "outputs": [],
   "source": [
    "o.sortablelist.items"
   ]
  },
  {
   "cell_type": "code",
   "execution_count": null,
   "id": "47da286f-49eb-4635-8a79-b258f3742ee3",
   "metadata": {},
   "outputs": [],
   "source": [
    "o.items"
   ]
  },
  {
   "cell_type": "code",
   "execution_count": null,
   "id": "03270e9c-5fb2-4e4a-b00b-2fb31575f361",
   "metadata": {},
   "outputs": [],
   "source": [
    "sb.game.opponents_info"
   ]
  },
  {
   "cell_type": "code",
   "execution_count": null,
   "id": "fedcfc0c-21c8-4b7b-89dd-88cdeb851767",
   "metadata": {
    "tags": []
   },
   "outputs": [],
   "source": [
    "sb.game.opponents_by_name"
   ]
  },
  {
   "cell_type": "code",
   "execution_count": null,
   "id": "de9f777d-0430-4088-8f69-3308eb961084",
   "metadata": {
    "tags": []
   },
   "outputs": [],
   "source": [
    "o = Opponents.Opponents(sb)"
   ]
  },
  {
   "cell_type": "code",
   "execution_count": null,
   "id": "40617ec5-ff95-4562-8e80-260849557441",
   "metadata": {},
   "outputs": [],
   "source": []
  }
 ],
 "metadata": {
  "kernelspec": {
   "display_name": "Python 3.11.9 (davide)",
   "language": "python",
   "name": "davide"
  },
  "language_info": {
   "codemirror_mode": {
    "name": "ipython",
    "version": 3
   },
   "file_extension": ".py",
   "mimetype": "text/x-python",
   "name": "python",
   "nbconvert_exporter": "python",
   "pygments_lexer": "ipython3",
   "version": "3.11.9"
  }
 },
 "nbformat": 4,
 "nbformat_minor": 5
}
