{
 "cells": [
  {
   "cell_type": "code",
   "execution_count": null,
   "id": "2934f4fc-47b0-4db3-b466-e4e88f584208",
   "metadata": {},
   "outputs": [],
   "source": [
    "import htmlsite\n",
    "\n",
    "import importlib\n",
    "importlib.reload(htmlsite)\n",
    "\n",
    "import ipyvuetify as v\n",
    "from vois.vuetify import settings, dialogMessage, dialogGeneric\n",
    "import ftplib\n",
    "\n",
    "from ipywidgets import widgets, HTML\n",
    "output = widgets.Output()\n",
    "display(output)\n",
    "\n",
    "messages = widgets.Output()\n",
    "display(messages)\n",
    "\n",
    "def on_ok():\n",
    "    try:\n",
    "        ftp_server = ftplib.FTP('ftp.daigio.it','2374799@aruba.it',tfp.v_model)\n",
    "        ftp_server.encoding = \"utf-8\"\n",
    "        \n",
    "        htmlsite.update(output, messages, ftp_server, dotest=True, test_file='./data/3.a-Ritorno-SUTOR MONTEGRANARO.game')\n",
    "        \n",
    "        ftp_server.quit()\n",
    "    except ftplib.all_errors as e:\n",
    "        errorcode = str(e)\n",
    "        dlg = dialogMessage.dialogMessage(title='Error',\n",
    "                                          titleheight=30,\n",
    "                                          text='Cannoy connect to FTP server!\\n\\nError: %s'%errorcode,\n",
    "                                          addclosebuttons=True,\n",
    "                                          show=True, width=450, output=output)\n",
    "\n",
    "tfp = v.TextField(v_model='', autofocus=True, type='password', label='Insert FTP password', color=settings.color_first, dense=False, class_=\"pa-0 ma-0 ml-8 mr-8\")\n",
    "dlg = dialogGeneric.dialogGeneric(title='Update pybasket HTML site',\n",
    "                                  text=' ', titleheight=30,\n",
    "                                  show=True, addclosebuttons=True, width=460,\n",
    "                                  addokcancelbuttons=True, on_ok=on_ok,\n",
    "                                  fullscreen=False, content=[tfp], output=output)"
   ]
  },
  {
   "cell_type": "code",
   "execution_count": null,
   "id": "99aa6d87-322a-4b7a-b0d2-31037149f521",
   "metadata": {},
   "outputs": [],
   "source": [
    "from ipywidgets import widgets, HTML\n",
    "import ScoreBoard\n",
    "import Stats\n",
    "import BoxScore\n",
    "import Config\n",
    "\n",
    "import importlib\n",
    "importlib.reload(ScoreBoard)\n",
    "importlib.reload(Stats)\n",
    "importlib.reload(BoxScore)\n",
    "importlib.reload(Config)\n",
    "\n",
    "\n",
    "test_file='./data/3.a-Ritorno-SUTOR MONTEGRANARO.game'\n",
    "\n",
    "sb = ScoreBoard.ScoreBoard('./data/Urbania.team', scale=0.4, output=output)\n",
    "\n",
    "sb.game.loadGame(test_file)\n",
    "g = sb.game.game_data\n",
    "\n",
    "points_team = Stats.points(sb.game.events_df)\n",
    "points_oppo = Stats.points(sb.game.events_df, team=Config.OPPO)\n",
    "\n",
    "svg = BoxScore.svg(sb.game.events_df, game=sb.game, width=65.0)\n",
    "display(HTML(svg))"
   ]
  },
  {
   "cell_type": "code",
   "execution_count": null,
   "id": "f9475b1f-f41c-4740-90ba-2289ea6bcd56",
   "metadata": {},
   "outputs": [],
   "source": [
    "sb.game.players_by_number"
   ]
  },
  {
   "cell_type": "code",
   "execution_count": null,
   "id": "4ad72457-ccb1-4361-9432-996d5a1f5cc5",
   "metadata": {},
   "outputs": [],
   "source": [
    "sb.game.game_data"
   ]
  },
  {
   "cell_type": "code",
   "execution_count": null,
   "id": "cc9e5346-5df4-4e48-a815-b1e65a6bca96",
   "metadata": {},
   "outputs": [],
   "source": [
    "sb.game.players_info"
   ]
  },
  {
   "cell_type": "code",
   "execution_count": null,
   "id": "8b84c2bb-f90f-434e-b7d2-c64c8822050e",
   "metadata": {},
   "outputs": [],
   "source": []
  }
 ],
 "metadata": {
  "kernelspec": {
   "display_name": "Python 3.11.9 (davide)",
   "language": "python",
   "name": "davide"
  },
  "language_info": {
   "codemirror_mode": {
    "name": "ipython",
    "version": 3
   },
   "file_extension": ".py",
   "mimetype": "text/x-python",
   "name": "python",
   "nbconvert_exporter": "python",
   "pygments_lexer": "ipython3",
   "version": "3.11.9"
  }
 },
 "nbformat": 4,
 "nbformat_minor": 5
}
