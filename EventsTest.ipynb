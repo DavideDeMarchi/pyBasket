{
 "cells": [
  {
   "cell_type": "code",
   "execution_count": null,
   "id": "bf19f7aa-a119-4208-b0d5-0099e81f2f18",
   "metadata": {
    "tags": []
   },
   "outputs": [],
   "source": [
    "import Events\n",
    "import Game\n",
    "import ScoreBoard\n",
    "import BoxScore\n",
    "import ThrowMap\n",
    "import Stats\n",
    "import DigitalBoards\n",
    "import Opponents\n",
    "import SelectGame\n",
    "\n",
    "from ipywidgets import widgets, HTML, Layout\n",
    "\n",
    "display(HTML('''\n",
    "<link rel=\"preconnect\" href=\"https://fonts.googleapis.com\">\n",
    "<link rel=\"preconnect\" href=\"https://fonts.gstatic.com\" crossorigin>\n",
    "<link href=\"https://fonts.googleapis.com/css2?family=Roboto+Condensed:ital,wght@0,100..900;1,100..900&display=swap\" rel=\"stylesheet\">\n",
    "<style>\n",
    ".black_background {\n",
    "    background-color: black;\n",
    "}\n",
    "</style>\n",
    "<style>\n",
    ".noselect {\n",
    "  -webkit-touch-callout: none; /* iOS Safari */\n",
    "    -webkit-user-select: none; /* Safari */\n",
    "     -khtml-user-select: none; /* Konqueror HTML */\n",
    "       -moz-user-select: none; /* Old versions of Firefox */\n",
    "        -ms-user-select: none; /* Internet Explorer/Edge */\n",
    "            user-select: none; /* Non-prefixed version, currently\n",
    "                                  supported by Chrome, Edge, Opera and Firefox */\n",
    "}\n",
    "</style>\n",
    "'''))\n",
    "\n",
    "display(HTML('''\n",
    "<style>.jp-OutputPrompt {\n",
    "    flex: 0 0 0 !important;\n",
    "    display: inline !important;\n",
    "    min-width: 0 !important;\n",
    "    padding: 0 !important;\n",
    "}\n",
    "</style>'''))\n",
    "\n",
    "\n",
    "output = widgets.Output(layout=Layout(width='0px', height='0px'))\n",
    "\n",
    "from vois import download\n",
    "display(download.output)\n",
    "\n",
    "\n",
    "import importlib\n",
    "importlib.reload(SelectGame)\n",
    "importlib.reload(Opponents)\n",
    "importlib.reload(DigitalBoards)\n",
    "importlib.reload(Stats)\n",
    "importlib.reload(ThrowMap)\n",
    "importlib.reload(ScoreBoard)\n",
    "importlib.reload(BoxScore)\n",
    "importlib.reload(Game)\n",
    "importlib.reload(Events)\n",
    "\n",
    "team_file = './data/Urbania.team'\n",
    "sb = ScoreBoard.ScoreBoard(team_file, './data/4.a-Ritorno-GIOVANE ROBUR OSIMO.game', scale=0.65, output=output)\n",
    "#display(sb.tb.debug)\n",
    "e = Events.Events(sb)\n",
    "display(e)\n",
    "\n",
    "display(output)"
   ]
  },
  {
   "cell_type": "code",
   "execution_count": null,
   "id": "e330c1ab-9655-4800-b781-2aa8438a856b",
   "metadata": {},
   "outputs": [],
   "source": [
    "e.board.width"
   ]
  },
  {
   "cell_type": "code",
   "execution_count": null,
   "id": "9b12c988-6749-4d04-826c-87f2c9be364f",
   "metadata": {
    "tags": []
   },
   "outputs": [],
   "source": [
    "e.board.tb.gameover = False"
   ]
  },
  {
   "cell_type": "code",
   "execution_count": null,
   "id": "6e08c535-a188-4e4a-a22d-56f9102f6a56",
   "metadata": {
    "tags": []
   },
   "outputs": [],
   "source": [
    "print(e.board.game.players_by_name)\n",
    "print(e.board.game.players_by_number)\n",
    "print(e.board.game.players_numbers)\n",
    "print(e.board.game.players_info)"
   ]
  },
  {
   "cell_type": "code",
   "execution_count": null,
   "id": "c70c99e3-ea35-42a7-b7c8-b0e390a5fff1",
   "metadata": {
    "tags": []
   },
   "outputs": [],
   "source": [
    "e.gameover()"
   ]
  },
  {
   "cell_type": "code",
   "execution_count": null,
   "id": "abd6eee1-4d4c-4ba7-ae78-54cefff38db2",
   "metadata": {
    "tags": []
   },
   "outputs": [],
   "source": [
    "e.scale = 0.55"
   ]
  },
  {
   "cell_type": "code",
   "execution_count": null,
   "id": "aa8aa598-025e-4f64-b12f-0e3098666123",
   "metadata": {
    "tags": []
   },
   "outputs": [],
   "source": [
    "sb.quarter"
   ]
  },
  {
   "cell_type": "code",
   "execution_count": null,
   "id": "132f7595-f48b-4402-a481-b0e46419534b",
   "metadata": {
    "tags": []
   },
   "outputs": [],
   "source": [
    "sb.tb.seconds = 2.0"
   ]
  },
  {
   "cell_type": "code",
   "execution_count": null,
   "id": "1822e2ce-93bd-4019-b97a-3533a198bd5a",
   "metadata": {
    "tags": []
   },
   "outputs": [],
   "source": [
    "sb.game.players_info"
   ]
  },
  {
   "cell_type": "code",
   "execution_count": null,
   "id": "51ac6913-53db-4a50-98c7-3db9d8bceac3",
   "metadata": {
    "tags": []
   },
   "outputs": [],
   "source": [
    "sb.game.saveGame()"
   ]
  },
  {
   "cell_type": "code",
   "execution_count": null,
   "id": "93a90eb6-5855-4a91-af24-323735b73da2",
   "metadata": {},
   "outputs": [],
   "source": [
    "e.game.events_df"
   ]
  },
  {
   "cell_type": "code",
   "execution_count": null,
   "id": "2ec5db18-0334-4371-af60-60430e5346ed",
   "metadata": {
    "tags": []
   },
   "outputs": [],
   "source": [
    "e.board.game.game_data"
   ]
  },
  {
   "cell_type": "code",
   "execution_count": null,
   "id": "e5d2403b-b30c-444f-adad-e00c5f30d141",
   "metadata": {
    "tags": []
   },
   "outputs": [],
   "source": [
    "e.opponentsWith1Point()"
   ]
  },
  {
   "cell_type": "code",
   "execution_count": null,
   "id": "a4aedf18-b942-4e5d-b9ae-adf0a82f8c66",
   "metadata": {
    "tags": []
   },
   "outputs": [],
   "source": [
    "sb.throwmap.current_df"
   ]
  },
  {
   "cell_type": "code",
   "execution_count": null,
   "id": "de658aa0-8d9e-422e-822e-681fa807c175",
   "metadata": {},
   "outputs": [],
   "source": []
  }
 ],
 "metadata": {
  "kernelspec": {
   "display_name": "Python 3.11.9 (davide)",
   "language": "python",
   "name": "davide"
  },
  "language_info": {
   "codemirror_mode": {
    "name": "ipython",
    "version": 3
   },
   "file_extension": ".py",
   "mimetype": "text/x-python",
   "name": "python",
   "nbconvert_exporter": "python",
   "pygments_lexer": "ipython3",
   "version": "3.11.9"
  }
 },
 "nbformat": 4,
 "nbformat_minor": 5
}
