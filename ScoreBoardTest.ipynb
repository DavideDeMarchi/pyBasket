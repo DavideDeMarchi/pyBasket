{
 "cells": [
  {
   "cell_type": "code",
   "execution_count": null,
   "id": "e9ff304b-34cb-49ec-92f3-9da015052083",
   "metadata": {
    "tags": []
   },
   "outputs": [],
   "source": [
    "from ipywidgets import widgets, HTML\n",
    "\n",
    "display(HTML('''\n",
    "<link rel=\"preconnect\" href=\"https://fonts.googleapis.com\">\n",
    "<link rel=\"preconnect\" href=\"https://fonts.gstatic.com\" crossorigin>\n",
    "<link href=\"https://fonts.googleapis.com/css2?family=Roboto+Condensed:ital,wght@0,100..900;1,100..900&display=swap\" rel=\"stylesheet\">\n",
    "<style>\n",
    ".black_background {\n",
    "    background-color: black;\n",
    "}\n",
    "</style>\n",
    "<style>\n",
    ".noselect {\n",
    "  -webkit-touch-callout: none; /* iOS Safari */\n",
    "    -webkit-user-select: none; /* Safari */\n",
    "     -khtml-user-select: none; /* Konqueror HTML */\n",
    "       -moz-user-select: none; /* Old versions of Firefox */\n",
    "        -ms-user-select: none; /* Internet Explorer/Edge */\n",
    "            user-select: none; /* Non-prefixed version, currently\n",
    "                                  supported by Chrome, Edge, Opera and Firefox */\n",
    "}\n",
    "</style>\n",
    "'''))\n",
    "\n",
    "display(HTML('''\n",
    "<style>.jp-OutputPrompt {\n",
    "    flex: 0 0 0 !important;\n",
    "    display: inline !important;\n",
    "    min-width: 0 !important;\n",
    "    padding: 0 !important;\n",
    "}\n",
    "</style>'''))\n",
    "\n",
    "import ThrowMap\n",
    "import Game\n",
    "import ScoreBoard\n",
    "import Stats\n",
    "import DigitalBoards\n",
    "\n",
    "import importlib\n",
    "importlib.reload(ScoreBoard)\n",
    "importlib.reload(Game)\n",
    "importlib.reload(Stats)\n",
    "importlib.reload(DigitalBoards)\n",
    "importlib.reload(ThrowMap)\n",
    "\n",
    "from vois import cssUtils\n",
    "cssUtils.allSettings()\n",
    "\n",
    "output = widgets.Output()\n",
    "display(output)\n",
    "\n",
    "o = ScoreBoard.ScoreBoard('./data/Urbania.team', './data/1.a-Ritorno-PORTO S.ELPIDIO.game', scale=0.525, output=output)\n",
    "\n",
    "display(o.tb.debug)\n",
    "o"
   ]
  },
  {
   "cell_type": "code",
   "execution_count": null,
   "id": "210b87af-8f79-4a9d-b120-ae7e635e2681",
   "metadata": {},
   "outputs": [],
   "source": [
    "o.team1"
   ]
  },
  {
   "cell_type": "code",
   "execution_count": null,
   "id": "11c0c47f-b1e2-4362-a95c-457a816b4921",
   "metadata": {
    "tags": []
   },
   "outputs": [],
   "source": [
    "o.scale = 0.5"
   ]
  },
  {
   "cell_type": "code",
   "execution_count": null,
   "id": "de7fa75d-db5a-47a3-8b45-04512200f02b",
   "metadata": {
    "tags": []
   },
   "outputs": [],
   "source": [
    "o.game.players_info"
   ]
  },
  {
   "cell_type": "code",
   "execution_count": null,
   "id": "bc0df31f-74bf-43a0-a397-6ac971dd7bd7",
   "metadata": {
    "tags": []
   },
   "outputs": [],
   "source": [
    "o.game.events_df"
   ]
  },
  {
   "cell_type": "code",
   "execution_count": null,
   "id": "0b9890ed-f8f0-4374-8d8e-6569b1c728e7",
   "metadata": {
    "tags": []
   },
   "outputs": [],
   "source": [
    "o.player_index"
   ]
  },
  {
   "cell_type": "code",
   "execution_count": null,
   "id": "afaaad9d-a8be-4812-b7a7-4e7705480f40",
   "metadata": {
    "tags": []
   },
   "outputs": [],
   "source": [
    "o.bench"
   ]
  },
  {
   "cell_type": "code",
   "execution_count": null,
   "id": "7398be13-3cca-4cc2-90df-cbb504e57295",
   "metadata": {
    "tags": []
   },
   "outputs": [],
   "source": [
    "o.toField('Aloi', 0)"
   ]
  },
  {
   "cell_type": "code",
   "execution_count": null,
   "id": "1ddd7d60-af8f-4e9d-beea-e65506547b6c",
   "metadata": {
    "tags": []
   },
   "outputs": [],
   "source": [
    "o.toField('Baldassarri', 0)"
   ]
  },
  {
   "cell_type": "code",
   "execution_count": null,
   "id": "c6f05bb3-ff26-4a58-9007-8bb5deaf12b3",
   "metadata": {
    "tags": []
   },
   "outputs": [],
   "source": [
    "o.toBench('Diana')"
   ]
  },
  {
   "cell_type": "code",
   "execution_count": null,
   "id": "b0918381-7377-4740-acad-a00956d724d0",
   "metadata": {
    "tags": []
   },
   "outputs": [],
   "source": [
    "o.toField('Colotti', 2)"
   ]
  },
  {
   "cell_type": "code",
   "execution_count": null,
   "id": "1f997279-bbc1-42a3-89ad-21dbef788cbb",
   "metadata": {
    "tags": []
   },
   "outputs": [],
   "source": [
    "o.game.on_field"
   ]
  },
  {
   "cell_type": "code",
   "execution_count": null,
   "id": "7d14068c-a75f-4d2d-b2e1-113577248bd9",
   "metadata": {
    "tags": []
   },
   "outputs": [],
   "source": [
    "o.tb.seconds = 347.6\n",
    "o.pb1.points = 37\n",
    "o.pb2.points = 25\n",
    "o.fb1.fouls = 3\n",
    "o.fb2.fouls = 5"
   ]
  },
  {
   "cell_type": "code",
   "execution_count": null,
   "id": "147ccbdc-524e-4e15-8644-73379d016c52",
   "metadata": {},
   "outputs": [],
   "source": [
    "o.tb.timer_stop"
   ]
  },
  {
   "cell_type": "code",
   "execution_count": null,
   "id": "465800d6-504f-4933-b601-e44114c0135e",
   "metadata": {
    "tags": []
   },
   "outputs": [],
   "source": [
    "o.player_selected"
   ]
  },
  {
   "cell_type": "code",
   "execution_count": null,
   "id": "f7cc79b2-683b-45b5-84b0-3f6591eb3713",
   "metadata": {},
   "outputs": [],
   "source": []
  },
  {
   "cell_type": "code",
   "execution_count": null,
   "id": "6ed34cab-9570-4041-a2f5-697ce2bde345",
   "metadata": {},
   "outputs": [],
   "source": []
  },
  {
   "cell_type": "code",
   "execution_count": null,
   "id": "5247ffaf-c0d5-4f98-9d1d-f3df718f0f0a",
   "metadata": {},
   "outputs": [],
   "source": []
  },
  {
   "cell_type": "code",
   "execution_count": null,
   "id": "93a8ab1f-d5be-4506-9db8-55ea20c00a2a",
   "metadata": {},
   "outputs": [],
   "source": [
    "from IPython.display import display\n",
    "from ipywidgets import widgets, Layout\n",
    "from datetime import datetime\n",
    "import ipyvuetify as v\n",
    "\n",
    "from vois.vuetify import settings, DatePicker, switch, dialogGeneric\n",
    "\n",
    "import Game\n",
    "import ScoreBoard\n",
    "\n",
    "from vois import cssUtils\n",
    "cssUtils.allSettings()\n",
    "\n",
    "output = widgets.Output()\n",
    "display(output)\n",
    "\n",
    "o = ScoreBoard.ScoreBoard('./data/Urbania.team', './data/1-Ritorno-PortoSant\\'Elpidio.game', scale=0.5, output=output)\n",
    "game = o.game\n",
    "\n",
    "spacer  = v.Html(tag='div', style_='width: 20px; height: 10px;', children=[''])\n",
    "spacerW = v.Html(tag='div', style_='width: 40px; height: 10px;', children=[''])\n",
    "spacerH = v.Html(tag='div', style_='width: 10px; height: 100px;', children=[''])\n",
    "\n",
    "if 'date' in game.game_data: gdate = datetime.strptime(game.game_data['date'], '%d/%m/%Y')\n",
    "else:                        gdate = datetime.today()\n",
    "d = DatePicker(date=gdate.strftime('%Y-%m-%d'), label='Game date:', offset_x=True, offset_y=False)\n",
    "\n",
    "home = switch.switch(True, \"Home\", inset=True, dense=False)\n",
    "if 'home' in game.game_data: home.value = game.game_data['home']\n",
    "\n",
    "t = v.TimePicker(format='24hr', elevation=0, color=settings.color_first, width=240)\n",
    "ct = v.Card(flat=True, min_width=300, max_width=300, children=['Game time:', t], class_='pa-0 ma-0 ml-4 mb-1')\n",
    "if 'time' in game.game_data: t.v_model = game.game_data['time']\n",
    "    \n",
    "st = 'min-width: 380px; max-width: 380px'\n",
    "championship = v.TextField(v_model='', label='Championship:', color=settings.color_first, style_=st)\n",
    "if 'championship' in game.game_data: championship.v_model = game.game_data['championship']\n",
    "\n",
    "season = v.TextField(v_model='', label='Season:', color=settings.color_first, style_=st)\n",
    "if 'season' in game.game_data: season.v_model = game.game_data['season']\n",
    "\n",
    "r = v.TextField(v_model='', label='Round:', color=settings.color_first, style_=st)\n",
    "if 'round' in game.game_data: r.v_model = game.game_data['round']\n",
    "\n",
    "phase = v.TextField(v_model='', label='Phase:', color=settings.color_first, style_=st)\n",
    "if 'phase' in game.game_data: phase.v_model = game.game_data['phase']\n",
    "\n",
    "location = v.TextField(v_model='', label='Location:', color=settings.color_first, style_=st)\n",
    "if 'location' in game.game_data: location.v_model = game.game_data['location']\n",
    "\n",
    "opponents = v.TextField(v_model='', label='Opponents:', color=settings.color_first, style_=st)\n",
    "if 'opponents' in game.game_data: opponents.v_model = game.game_data['opponents']\n",
    "\n",
    "abbreviation = v.TextField(v_model='', label='Abbreviation:', color=settings.color_first, style_=\"max-width: 90px\")\n",
    "if 'abbreviation' in game.game_data: abbreviation.v_model = game.game_data['abbreviation']\n",
    "\n",
    "trainer = v.TextField(v_model='', label='Trainer:', color=settings.color_first, style_='min-width: 250px; max-width: 250px')\n",
    "if 'trainer' in game.game_data: trainer.v_model = game.game_data['trainer']\n",
    "\n",
    "referee1 = v.TextField(v_model='', label='First referee:', color=settings.color_first, style_=st)\n",
    "if 'referee1' in game.game_data: referee1.v_model = game.game_data['referee1']\n",
    "\n",
    "referee2 = v.TextField(v_model='', label='Second referee:', color=settings.color_first, style_=st)\n",
    "if 'referee2' in game.game_data: referee2.v_model = game.game_data['referee2']\n",
    "\n",
    "content = widgets.HBox([spacer, widgets.VBox([\n",
    "    widgets.HBox([widgets.VBox([championship,season,r,phase, location], layout=Layout(min_width='420px')),\n",
    "                  widgets.HBox([widgets.VBox([d, spacerH, home.draw(), spacerH], layout=Layout(min_width='124px')), widgets.VBox([ct, spacer])])]),\n",
    "    widgets.HBox([opponents, spacerW, abbreviation, spacerW, trainer]),\n",
    "    widgets.HBox([referee1, spacerW, referee2])\n",
    "])])\n",
    "\n",
    "\n",
    "# Exit from the dialog with the OK button\n",
    "def on_ok():\n",
    "    game.game_data['date']         = datetime.strptime(d.date, '%Y-%m-%d').strftime('%d/%m/%Y')\n",
    "    game.game_data['home']         = home.value\n",
    "    game.game_data['time']         = t.v_model\n",
    "    game.game_data['championship'] = championship.v_model\n",
    "    game.game_data['season']       = season.v_model\n",
    "    game.game_data['round']        = r.v_model\n",
    "    game.game_data['phase']        = phase.v_model\n",
    "    game.game_data['location']     = location.v_model\n",
    "    game.game_data['opponents']    = opponents.v_model\n",
    "    game.game_data['abbreviation'] = abbreviation.v_model\n",
    "    game.game_data['trainer']      = trainer.v_model\n",
    "    game.game_data['referee1']     = referee1.v_model\n",
    "    game.game_data['referee2']     = referee2.v_model\n",
    "\n",
    "# Open the dialog-box\n",
    "dlg = dialogGeneric.dialogGeneric(title='Edit game info',\n",
    "                                  text='   ',\n",
    "                                  show=True, addclosebuttons=True, width=840,\n",
    "                                  addokcancelbuttons=True, on_ok=on_ok,\n",
    "                                  fullscreen=False, content=[content], output=output)"
   ]
  },
  {
   "cell_type": "code",
   "execution_count": null,
   "id": "0fbf58e9-c58f-4173-82c6-684c16683677",
   "metadata": {
    "tags": []
   },
   "outputs": [],
   "source": [
    "game.game_data"
   ]
  },
  {
   "cell_type": "code",
   "execution_count": null,
   "id": "a87b37cf-482a-43b9-b3c6-005f48d6dbc2",
   "metadata": {},
   "outputs": [],
   "source": [
    "from vois.vuetify import sliderFloat\n",
    "from ipywidgets import widgets\n",
    "from IPython.display import display\n",
    "\n",
    "output = widgets.Output()\n",
    "\n",
    "def onchange(value):\n",
    "    with output:\n",
    "        print(value)\n",
    "\n",
    "o = sliderFloat.sliderFloat(0.8, text='Size:', minvalue=0.0, maxvalue=1.0, onchange=onchange)\n",
    "\n",
    "display(o.draw())\n",
    "display(output)"
   ]
  },
  {
   "cell_type": "code",
   "execution_count": null,
   "id": "de1914ff-9b61-4436-ad32-90437a94d331",
   "metadata": {},
   "outputs": [],
   "source": []
  }
 ],
 "metadata": {
  "kernelspec": {
   "display_name": "Python 3.11.9 (davide)",
   "language": "python",
   "name": "davide"
  },
  "language_info": {
   "codemirror_mode": {
    "name": "ipython",
    "version": 3
   },
   "file_extension": ".py",
   "mimetype": "text/x-python",
   "name": "python",
   "nbconvert_exporter": "python",
   "pygments_lexer": "ipython3",
   "version": "3.11.9"
  }
 },
 "nbformat": 4,
 "nbformat_minor": 5
}
