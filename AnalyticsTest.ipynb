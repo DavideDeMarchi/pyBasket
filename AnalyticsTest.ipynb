{
 "cells": [
  {
   "cell_type": "code",
   "execution_count": null,
   "id": "2934f4fc-47b0-4db3-b466-e4e88f584208",
   "metadata": {},
   "outputs": [],
   "source": [
    "import Analytics\n",
    "\n",
    "import importlib\n",
    "importlib.reload(Analytics)\n",
    "\n",
    "from ipywidgets import widgets\n",
    "output = widgets.Output()\n",
    "display(output)\n",
    "\n",
    "df, players_info = Analytics.seasonEvents(output)\n",
    "df"
   ]
  },
  {
   "cell_type": "code",
   "execution_count": null,
   "id": "60a0cbff-ecac-45bc-a4ac-19b45963ed1d",
   "metadata": {},
   "outputs": [],
   "source": [
    "import Analytics\n",
    "\n",
    "import importlib\n",
    "importlib.reload(Analytics)\n",
    "\n",
    "# Palle Perse vs Palle recuperate\n",
    "staty = 'PRec'\n",
    "descry = 'Media palle recuperate'\n",
    "\n",
    "statx = 'PPer'\n",
    "descrx = 'Media palle perse'\n",
    "\n",
    "dfx = df[df['event_name']==statx]\n",
    "dfy = df[df['event_name']==staty]\n",
    "\n",
    "gx = dfx.groupby('player').count()['event']\n",
    "players = list(gx.index)\n",
    "x = list(gx)\n",
    "y = list(dfy.groupby('player').count()['event'])\n",
    "\n",
    "fig = Analytics.scatterChart(players, x, y, players_info, descrx, descry, size_on_time=True, show_bisector=True)\n",
    "fig"
   ]
  },
  {
   "cell_type": "code",
   "execution_count": null,
   "id": "c65cbfb2-1688-4910-b39c-234548184e05",
   "metadata": {},
   "outputs": [],
   "source": [
    "# Punti realizzati per minuti in campo\n",
    "import Stats\n",
    "\n",
    "descrx = 'Media punti realizzati'\n",
    "players = sorted(df['player'].unique())\n",
    "x = [Stats.points(df,p) for p in players]\n",
    "\n",
    "descry = 'Media minuti in campo'\n",
    "y = [players_info[x]['time_on_field']/60.0 for x in players]\n",
    "\n",
    "fig = Analytics.scatterChart(players, x, y, players_info, descrx, descry, size_on_time=True, show_bisector=False)\n",
    "fig"
   ]
  },
  {
   "cell_type": "code",
   "execution_count": null,
   "id": "89bf2346-08c8-4a5b-ba0a-b7993ea5c2f0",
   "metadata": {},
   "outputs": [],
   "source": [
    "# Valutazione Lega vs. True shooting\n",
    "import Stats\n",
    "\n",
    "descrx = 'Valutazione di lega media'\n",
    "players = sorted(df['player'].unique())\n",
    "x = [Stats.value(df,p)/players_info[p]['games'] for p in players]\n",
    "\n",
    "descry = 'True Shooting %'\n",
    "y = [Stats.trueshooting(df,p) for p in players]\n",
    "\n",
    "fig = Analytics.scatterChart(players, x, y, players_info, descrx, descry, size_on_time=True, show_bisector=False, do_average=False)\n",
    "fig"
   ]
  },
  {
   "cell_type": "code",
   "execution_count": null,
   "id": "a3bb0cfe-043c-45d6-b519-cacd26e88bd0",
   "metadata": {},
   "outputs": [],
   "source": [
    "# Valutazione +/- vs. True shooting\n",
    "import Stats\n",
    "\n",
    "descrx = 'Valutazione plus/minus media'\n",
    "players = sorted(df['player'].unique())\n",
    "x = [players_info[p]['plusminus']/players_info[p]['games'] for p in players]\n",
    "\n",
    "descry = 'True Shooting %'\n",
    "y = [Stats.trueshooting(df,p) for p in players]\n",
    "\n",
    "fig = Analytics.scatterChart(players, x, y, players_info, descrx, descry, size_on_time=False, show_bisector=False, do_average=False)\n",
    "fig"
   ]
  },
  {
   "cell_type": "code",
   "execution_count": null,
   "id": "5654a1d1-ee8e-4eee-b0ac-c7e0639828e1",
   "metadata": {},
   "outputs": [],
   "source": [
    "players_info"
   ]
  },
  {
   "cell_type": "code",
   "execution_count": null,
   "id": "942b7c56-d240-4333-b231-3c8f491b50d1",
   "metadata": {},
   "outputs": [],
   "source": [
    "# Salvataggio in HTML!!!\n",
    "fig.write_html(\"web/chart.html\")"
   ]
  },
  {
   "cell_type": "code",
   "execution_count": null,
   "id": "7b3d5e32-a784-4aff-b8f6-841ea8e7ecb6",
   "metadata": {},
   "outputs": [],
   "source": [
    "# Display throw map of all the season\n",
    "from ipywidgets import widgets, HTML, Layout\n",
    "import ipyvuetify as v\n",
    "import ThrowMap\n",
    "import ScoreBoard\n",
    "\n",
    "#from vois import cssUtils\n",
    "#cssUtils.allSettings()\n",
    "\n",
    "command = '''\n",
    "<style>.jp-OutputPrompt {\n",
    "    flex: 0 0 0 !important;\n",
    "    display: inline !important;\n",
    "    min-width: 0 !important;\n",
    "    padding: 0 !important;\n",
    "}\n",
    "</style>'''\n",
    "\n",
    "display(HTML(command))\n",
    "\n",
    "        \n",
    "import importlib\n",
    "importlib.reload(ScoreBoard)\n",
    "importlib.reload(ThrowMap)\n",
    "\n",
    "output = widgets.Output()\n",
    "display(output)\n",
    "\n",
    "sb = ScoreBoard.ScoreBoard('./data/Urbania.team', scale=0.5, output=output)\n",
    "m = ThrowMap.ThrowMap(board=sb, scale=1.0, field_left=True, small_points=True, output=output)\n",
    "m.updateThrows(df, player_name=None, background=True, display_full_stats=False)\n",
    "display(m)"
   ]
  },
  {
   "cell_type": "code",
   "execution_count": null,
   "id": "0d509fa7-7c17-47ac-b21c-bca86ae9e44c",
   "metadata": {},
   "outputs": [],
   "source": []
  }
 ],
 "metadata": {
  "kernelspec": {
   "display_name": "Python 3.11.9 (davide)",
   "language": "python",
   "name": "davide"
  },
  "language_info": {
   "codemirror_mode": {
    "name": "ipython",
    "version": 3
   },
   "file_extension": ".py",
   "mimetype": "text/x-python",
   "name": "python",
   "nbconvert_exporter": "python",
   "pygments_lexer": "ipython3",
   "version": "3.11.9"
  }
 },
 "nbformat": 4,
 "nbformat_minor": 5
}
