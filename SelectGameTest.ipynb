{
 "cells": [
  {
   "cell_type": "code",
   "execution_count": 2,
   "id": "55192709-eb84-468e-b56f-698dffb0c886",
   "metadata": {
    "tags": []
   },
   "outputs": [
    {
     "data": {
      "application/vnd.jupyter.widget-view+json": {
       "model_id": "5b388c77125041939ca761e4193a84f5",
       "version_major": 2,
       "version_minor": 0
      },
      "text/plain": [
       "HTML(value='\\n<style>.jp-OutputPrompt {\\n    flex: 0 0 0 !important;\\n    display: inline !important;\\n    min…"
      ]
     },
     "metadata": {},
     "output_type": "display_data"
    },
    {
     "data": {
      "application/vnd.jupyter.widget-view+json": {
       "model_id": "8fdad77c21c44254ba8db25c9382fd6a",
       "version_major": 2,
       "version_minor": 0
      },
      "text/plain": [
       "HTML(value='\\n<style>\\n.leaflet-popup-tip {\\n    width: 17px !important;\\n    height: 17px !important;\\n    pa…"
      ]
     },
     "metadata": {},
     "output_type": "display_data"
    },
    {
     "data": {
      "application/vnd.jupyter.widget-view+json": {
       "model_id": "fcfbee1eb7b146db8d279aa723611057",
       "version_major": 2,
       "version_minor": 0
      },
      "text/plain": [
       "Output()"
      ]
     },
     "metadata": {},
     "output_type": "display_data"
    }
   ],
   "source": [
    "from ipywidgets import widgets\n",
    "import SelectGame\n",
    "\n",
    "from vois import cssUtils\n",
    "cssUtils.allSettings()\n",
    "\n",
    "import importlib\n",
    "importlib.reload(SelectGame)\n",
    "\n",
    "output = widgets.Output()\n",
    "display(output)\n",
    "\n",
    "def on_ok(selected_path):\n",
    "    print(selected_path)\n",
    "    \n",
    "s = SelectGame.SelectGame(output=output, on_ok=on_ok)"
   ]
  },
  {
   "cell_type": "code",
   "execution_count": null,
   "id": "ca19c761-9c45-4f9a-8024-cb1bc8c44c9b",
   "metadata": {},
   "outputs": [],
   "source": []
  }
 ],
 "metadata": {
  "kernelspec": {
   "display_name": "Python 3.11.9 (davide)",
   "language": "python",
   "name": "davide"
  },
  "language_info": {
   "codemirror_mode": {
    "name": "ipython",
    "version": 3
   },
   "file_extension": ".py",
   "mimetype": "text/x-python",
   "name": "python",
   "nbconvert_exporter": "python",
   "pygments_lexer": "ipython3",
   "version": "3.11.9"
  }
 },
 "nbformat": 4,
 "nbformat_minor": 5
}
