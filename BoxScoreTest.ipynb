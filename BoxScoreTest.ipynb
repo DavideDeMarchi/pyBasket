{
 "cells": [
  {
   "cell_type": "markdown",
   "id": "cc8601b7-b7de-46e7-b55c-b1de841f3f53",
   "metadata": {},
   "source": [
    "### BoxScore display"
   ]
  },
  {
   "cell_type": "code",
   "execution_count": null,
   "id": "95dd1245-ad1b-40ee-aed7-a5ea5a18b161",
   "metadata": {
    "tags": []
   },
   "outputs": [],
   "source": [
    "from ipywidgets import HTML\n",
    "\n",
    "import Game\n",
    "import DigitalBoards\n",
    "import ScoreBoard\n",
    "import BoxScore\n",
    "import Stats\n",
    "\n",
    "import importlib\n",
    "importlib.reload(DigitalBoards)\n",
    "importlib.reload(Game)\n",
    "importlib.reload(ScoreBoard)\n",
    "importlib.reload(BoxScore)\n",
    "importlib.reload(Stats)\n",
    "\n",
    "from ipywidgets import widgets\n",
    "\n",
    "output = widgets.Output()\n",
    "display(output)\n",
    "\n",
    "board = ScoreBoard.ScoreBoard('./data/Urbania.team', './data/7.a-Ritorno-GUELFO BASKET.game', scale=0.4, output=output)\n",
    "svg = BoxScore.svg(board.game.events_df, game=board.game, width=65.0, quarter=None)\n",
    "HTML(svg)"
   ]
  },
  {
   "cell_type": "markdown",
   "id": "1556fd61-4198-4e07-9d9b-1a39d9781ddf",
   "metadata": {},
   "source": [
    "### BoxScore download in PNG format"
   ]
  },
  {
   "cell_type": "code",
   "execution_count": null,
   "id": "b0833d0e-ae95-4c80-b8bb-f471a49d6290",
   "metadata": {},
   "outputs": [],
   "source": [
    "# Download in PNG format\n",
    "from ipywidgets import widgets\n",
    "import io\n",
    "from cairosvg import svg2png\n",
    "from vois import download\n",
    "display(download.output)\n",
    "\n",
    "import ScoreBoard\n",
    "import BoxScore\n",
    "\n",
    "import importlib\n",
    "importlib.reload(ScoreBoard)\n",
    "importlib.reload(BoxScore)\n",
    "\n",
    "output = widgets.Output()\n",
    "display(output)\n",
    "\n",
    "board = ScoreBoard.ScoreBoard('./data/Urbania.team', './data/7.a-Ritorno-GUELFO BASKET.game', scale=0.4, output=output)\n",
    "svg = BoxScore.svg(board.game.events_df, game=board.game, width=65.0, quarter=None, downloadMode=True)\n",
    "png = svg2png(bytestring=svg, output_width=2200, output_height=1130)\n",
    "buf = io.BytesIO(png)\n",
    "buf.seek(0)\n",
    "b = buf.read()\n",
    "\n",
    "download.output.clear_output()\n",
    "with download.output:\n",
    "    download.downloadBytes(b, fileName='BoxSheet.png')\n",
    "download.output.clear_output()"
   ]
  },
  {
   "cell_type": "markdown",
   "id": "a29f6396-4883-472e-9844-ad0fba244e0b",
   "metadata": {
    "tags": []
   },
   "source": [
    "### Save Sheet to HTML format"
   ]
  },
  {
   "cell_type": "code",
   "execution_count": null,
   "id": "5f9d8f38-a299-494a-9591-51b4bdf63cdd",
   "metadata": {
    "tags": []
   },
   "outputs": [],
   "source": [
    "import Game\n",
    "import DigitalBoards\n",
    "import ScoreBoard\n",
    "import BoxScore\n",
    "import Stats\n",
    "\n",
    "import importlib\n",
    "importlib.reload(DigitalBoards)\n",
    "importlib.reload(Game)\n",
    "importlib.reload(ScoreBoard)\n",
    "importlib.reload(BoxScore)\n",
    "importlib.reload(Stats)\n",
    "\n",
    "from ipywidgets import widgets\n",
    "\n",
    "output = widgets.Output()\n",
    "display(output)\n",
    "\n",
    "board = ScoreBoard.ScoreBoard('./data/Urbania.team', './data/out.game', scale=0.4, output=output)\n",
    "\n",
    "html = BoxScore.html(board.game.events_df, game=board.game)\n",
    "with open('aaa.html','w') as f:\n",
    "    f.write(html)"
   ]
  },
  {
   "cell_type": "markdown",
   "id": "c890c658-02eb-4057-a66f-4e679aa3bf24",
   "metadata": {
    "tags": []
   },
   "source": [
    "### Game summary"
   ]
  },
  {
   "cell_type": "code",
   "execution_count": null,
   "id": "aa0820d0-83b7-4831-b07b-2a4ec3ed3f60",
   "metadata": {
    "tags": []
   },
   "outputs": [],
   "source": [
    "import Game\n",
    "import DigitalBoards\n",
    "import ScoreBoard\n",
    "import BoxScore\n",
    "import Stats\n",
    "\n",
    "import importlib\n",
    "importlib.reload(DigitalBoards)\n",
    "importlib.reload(Game)\n",
    "importlib.reload(ScoreBoard)\n",
    "importlib.reload(BoxScore)\n",
    "importlib.reload(Stats)\n",
    "\n",
    "from ipywidgets import widgets\n",
    "\n",
    "output = widgets.Output()\n",
    "display(output)\n",
    "\n",
    "board = ScoreBoard.ScoreBoard('./data/Urbania.team', './data/4.a-Ritorno-GIOVANE ROBUR OSIMO.game', scale=0.4, output=output)\n",
    "\n",
    "print(BoxScore.summary(board.game.events_df, game=board.game))"
   ]
  },
  {
   "cell_type": "markdown",
   "id": "c6e21d11-6caa-4c26-8514-a605e07bf19a",
   "metadata": {
    "tags": []
   },
   "source": [
    "### Points chart"
   ]
  },
  {
   "cell_type": "code",
   "execution_count": 12,
   "id": "e317c585-c746-4624-9367-232809b35a47",
   "metadata": {
    "tags": []
   },
   "outputs": [
    {
     "data": {
      "application/vnd.jupyter.widget-view+json": {
       "model_id": "b873279f0cf74849b7f7cabd3ddc6065",
       "version_major": 2,
       "version_minor": 0
      },
      "text/plain": [
       "Output()"
      ]
     },
     "metadata": {},
     "output_type": "display_data"
    },
    {
     "data": {
      "application/vnd.plotly.v1+json": {
       "config": {
        "plotlyServerURL": "https://plot.ly"
       },
       "data": [
        {
         "customdata": [
          "",
          "Di Francesco 3P",
          "Di Francesco 2P",
          "Diana 2P",
          "Diana 2P",
          "Dusels 2P",
          "Dusels 1P",
          "Dusels 1P",
          "Dusels 1P",
          "Dusels 1P",
          "Dusels 1P",
          "Dusels 3P",
          "Aloi 2P",
          "Pentucci 3P",
          "Matteucci 2P",
          "Aloi 3P",
          "Aloi 3P",
          "Di Francesco 3P",
          "Dusels 3P",
          "Diana 1P",
          "Diana 1P",
          "Dusels 3P",
          "Di Francesco 2P",
          "Pentucci 2P",
          "Dusels 1P",
          "Diana 1P",
          "Dusels 2P",
          "Dusels 2P",
          "Aloi 1P",
          "Aloi 3P",
          "Pentucci 2P",
          "Dusels 1P",
          "Dusels 1P",
          "Dusels 2P",
          "Diana 1P",
          "Diana 1P",
          "Diana 2P",
          "Diana 1P",
          "Diana 1P",
          "Diana 1P",
          "Diana 1P"
         ],
         "hovertemplate": "%{y} - %{customdata} - %{x|%M':%S\"}",
         "line": {
          "color": "green",
          "shape": "hv"
         },
         "marker": {
          "color": "green"
         },
         "mode": "lines+markers+text",
         "name": "PALLACANESTRO URBANIA",
         "text": [
          "0",
          "3",
          "5",
          "7",
          "9",
          "11",
          "12",
          "13",
          "14",
          "15",
          "16",
          "19",
          "21",
          "24",
          "26",
          "29",
          "32",
          "35",
          "38",
          "39",
          "40",
          "43",
          "45",
          "47",
          "48",
          "49",
          "51",
          "53",
          "54",
          "57",
          "59",
          "60",
          "61",
          "63",
          "64",
          "65",
          "67",
          "68",
          "69",
          "70",
          "71"
         ],
         "textfont": {
          "color": "green"
         },
         "textposition": [
          "top left",
          "top left",
          "top left",
          "top left",
          "top left",
          "top left",
          "top left",
          "top left",
          "top left",
          "top left",
          "top left",
          "top left",
          "top left",
          "top left",
          "top left",
          "top left",
          "top left",
          "top left",
          "top left",
          "top left",
          "top left",
          "top left",
          "top left",
          "top left",
          "top left",
          "top left",
          "top left",
          "top left",
          "top left",
          "top left",
          "top left",
          "top left",
          "top left",
          "top left",
          "top left",
          "top left",
          "top left",
          "top left",
          "top left",
          "top left",
          "top left"
         ],
         "type": "scatter",
         "x": [
          "2025-03-10T00:00:00",
          "2025-03-10T00:00:44",
          "2025-03-10T00:01:29",
          "2025-03-10T00:01:58",
          "2025-03-10T00:03:41",
          "2025-03-10T00:06:08",
          "2025-03-10T00:07:07",
          "2025-03-10T00:08:07",
          "2025-03-10T00:08:07",
          "2025-03-10T00:08:44",
          "2025-03-10T00:08:44",
          "2025-03-10T00:09:30",
          "2025-03-10T00:09:59",
          "2025-03-10T00:10:20",
          "2025-03-10T00:12:13",
          "2025-03-10T00:15:05",
          "2025-03-10T00:15:45",
          "2025-03-10T00:16:25",
          "2025-03-10T00:17:41",
          "2025-03-10T00:18:21",
          "2025-03-10T00:18:21",
          "2025-03-10T00:18:57",
          "2025-03-10T00:19:17",
          "2025-03-10T00:20:09",
          "2025-03-10T00:20:46",
          "2025-03-10T00:22:03",
          "2025-03-10T00:24:07",
          "2025-03-10T00:24:32",
          "2025-03-10T00:25:29",
          "2025-03-10T00:26:35",
          "2025-03-10T00:32:01",
          "2025-03-10T00:32:52",
          "2025-03-10T00:32:52",
          "2025-03-10T00:34:24",
          "2025-03-10T00:36:59",
          "2025-03-10T00:36:59",
          "2025-03-10T00:38:08",
          "2025-03-10T00:38:08",
          "2025-03-10T00:39:44",
          "2025-03-10T00:39:53",
          "2025-03-10T00:39:53"
         ],
         "y": [
          0,
          3,
          5,
          7,
          9,
          11,
          12,
          13,
          14,
          15,
          16,
          19,
          21,
          24,
          26,
          29,
          32,
          35,
          38,
          39,
          40,
          43,
          45,
          47,
          48,
          49,
          51,
          53,
          54,
          57,
          59,
          60,
          61,
          63,
          64,
          65,
          67,
          68,
          69,
          70,
          71
         ]
        },
        {
         "customdata": [
          "",
          "Santini 2P",
          "Martini 1P",
          "Martini 1P",
          "Castori 2P",
          "Naldi 2P",
          "Naldi 2P",
          "Curione 3P",
          "Curione 3P",
          "Bergami 2P",
          "Bergami 2P",
          "Savino 1P",
          "Savino 2P",
          "Bergami 2P",
          "Benedetti 2P",
          "Santini 2P",
          "Benedetti 2P",
          "Curione 2P",
          "Curione 1P",
          "Curione 1P",
          "Benedetti 2P",
          "Bergami 3P",
          "Bergami 1P",
          "Bergami 1P",
          "Curione 2P",
          "Martini 2P",
          "Bergami 2P",
          "Santini 3P",
          "Castori 2P",
          "Santini 1P",
          "Santini 1P",
          "Martini 2P",
          "Curione 2P",
          "Bergami 1P",
          "Curione 1P",
          "Curione 1P",
          "Martini 1P",
          "Martini 1P",
          "Naldi 2P",
          "Naldi 1P",
          "Curione 1P",
          "Curione 1P"
         ],
         "hovertemplate": "%{y} - %{customdata} - %{x|%M':%S\"}",
         "line": {
          "color": "red",
          "shape": "hv"
         },
         "marker": {
          "color": "red"
         },
         "mode": "lines+markers+text",
         "name": "GUELFO BASKET",
         "text": [
          "0",
          "2",
          "3",
          "4",
          "6",
          "8",
          "10",
          "13",
          "16",
          "18",
          "20",
          "21",
          "23",
          "25",
          "27",
          "29",
          "31",
          "33",
          "34",
          "35",
          "37",
          "40",
          "41",
          "42",
          "44",
          "46",
          "48",
          "51",
          "53",
          "54",
          "55",
          "57",
          "59",
          "60",
          "61",
          "62",
          "63",
          "64",
          "66",
          "67",
          "68",
          "69"
         ],
         "textfont": {
          "color": "red"
         },
         "textposition": [
          "bottom right",
          "top left",
          "bottom right",
          "bottom right",
          "bottom right",
          "bottom right",
          "bottom right",
          "bottom right",
          "bottom right",
          "bottom right",
          "bottom right",
          "bottom right",
          "bottom right",
          "bottom right",
          "bottom right",
          "bottom right",
          "bottom right",
          "bottom right",
          "bottom right",
          "bottom right",
          "bottom right",
          "bottom right",
          "bottom right",
          "bottom right",
          "bottom right",
          "bottom right",
          "bottom right",
          "bottom right",
          "bottom right",
          "bottom right",
          "bottom right",
          "bottom right",
          "bottom right",
          "bottom right",
          "bottom right",
          "bottom right",
          "bottom right",
          "bottom right",
          "bottom right",
          "bottom right",
          "bottom right",
          "bottom right"
         ],
         "type": "scatter",
         "x": [
          "2025-03-10T00:00:00",
          "2025-03-10T00:00:17",
          "2025-03-10T00:02:08",
          "2025-03-10T00:02:08",
          "2025-03-10T00:06:14",
          "2025-03-10T00:06:49",
          "2025-03-10T00:09:06",
          "2025-03-10T00:11:20",
          "2025-03-10T00:12:39",
          "2025-03-10T00:13:14",
          "2025-03-10T00:14:50",
          "2025-03-10T00:14:56",
          "2025-03-10T00:15:30",
          "2025-03-10T00:15:55",
          "2025-03-10T00:17:54",
          "2025-03-10T00:18:43",
          "2025-03-10T00:19:30",
          "2025-03-10T00:21:13",
          "2025-03-10T00:22:20",
          "2025-03-10T00:22:20",
          "2025-03-10T00:22:46",
          "2025-03-10T00:23:23",
          "2025-03-10T00:26:14",
          "2025-03-10T00:26:14",
          "2025-03-10T00:26:55",
          "2025-03-10T00:27:27",
          "2025-03-10T00:28:47",
          "2025-03-10T00:29:13",
          "2025-03-10T00:29:44",
          "2025-03-10T00:32:28",
          "2025-03-10T00:32:28",
          "2025-03-10T00:33:35",
          "2025-03-10T00:34:39",
          "2025-03-10T00:35:25",
          "2025-03-10T00:36:19",
          "2025-03-10T00:36:19",
          "2025-03-10T00:37:55",
          "2025-03-10T00:37:55",
          "2025-03-10T00:38:54",
          "2025-03-10T00:38:54",
          "2025-03-10T00:39:52",
          "2025-03-10T00:39:58"
         ],
         "y": [
          0,
          2,
          3,
          4,
          6,
          8,
          10,
          13,
          16,
          18,
          20,
          21,
          23,
          25,
          27,
          29,
          31,
          33,
          34,
          35,
          37,
          40,
          41,
          42,
          44,
          46,
          48,
          51,
          53,
          54,
          55,
          57,
          59,
          60,
          61,
          62,
          63,
          64,
          66,
          67,
          68,
          69
         ]
        }
       ],
       "layout": {
        "annotations": [
         {
          "showarrow": false,
          "text": "Q1: 10 - 21",
          "x": "2025-03-10T00:05:00",
          "y": 79
         },
         {
          "showarrow": false,
          "text": "Q2: 21 - 24 (31 - 45)",
          "x": "2025-03-10T00:15:00",
          "y": 79
         },
         {
          "showarrow": false,
          "text": "Q3: 22 - 12 (53 - 57)",
          "x": "2025-03-10T00:25:00",
          "y": 79
         },
         {
          "showarrow": false,
          "text": "Q4: 16 - 14 (69 - 71)",
          "x": "2025-03-10T00:35:00",
          "y": 79
         }
        ],
        "autosize": true,
        "font": {
         "family": "Arial",
         "size": 13
        },
        "legend": {
         "orientation": "v",
         "x": 1,
         "xanchor": "right",
         "y": 1.2,
         "yanchor": "top"
        },
        "margin": {
         "b": 30,
         "l": 26,
         "pad": 0,
         "r": 10,
         "t": 30
        },
        "shapes": [
         {
          "line": {
           "color": "rgb(90,90,90)",
           "dash": "dash",
           "width": 2
          },
          "type": "line",
          "x0": "2025-03-10T00:10:00",
          "x1": "2025-03-10T00:10:00",
          "xref": "x",
          "y0": 0,
          "y1": 1,
          "yref": "y domain"
         },
         {
          "line": {
           "color": "rgb(90,90,90)",
           "dash": "dash",
           "width": 2
          },
          "type": "line",
          "x0": "2025-03-10T00:20:00",
          "x1": "2025-03-10T00:20:00",
          "xref": "x",
          "y0": 0,
          "y1": 1,
          "yref": "y domain"
         },
         {
          "line": {
           "color": "rgb(90,90,90)",
           "dash": "dash",
           "width": 2
          },
          "type": "line",
          "x0": "2025-03-10T00:30:00",
          "x1": "2025-03-10T00:30:00",
          "xref": "x",
          "y0": 0,
          "y1": 1,
          "yref": "y domain"
         },
         {
          "line": {
           "color": "rgb(90,90,90)",
           "dash": "dash",
           "width": 2
          },
          "type": "line",
          "x0": "2025-03-10T00:40:00",
          "x1": "2025-03-10T00:40:00",
          "xref": "x",
          "y0": 0,
          "y1": 1,
          "yref": "y domain"
         },
         {
          "line": {
           "color": "rgb(90,90,90)",
           "dash": "dash",
           "width": 2
          },
          "type": "line",
          "x0": "2025-03-10T00:45:00",
          "x1": "2025-03-10T00:45:00",
          "xref": "x",
          "y0": 0,
          "y1": 1,
          "yref": "y domain"
         },
         {
          "line": {
           "color": "rgb(90,90,90)",
           "dash": "dash",
           "width": 2
          },
          "type": "line",
          "x0": "2025-03-10T00:50:00",
          "x1": "2025-03-10T00:50:00",
          "xref": "x",
          "y0": 0,
          "y1": 1,
          "yref": "y domain"
         },
         {
          "line": {
           "color": "rgb(90,90,90)",
           "dash": "dash",
           "width": 2
          },
          "type": "line",
          "x0": "2025-03-10T00:55:00",
          "x1": "2025-03-10T00:55:00",
          "xref": "x",
          "y0": 0,
          "y1": 1,
          "yref": "y domain"
         },
         {
          "line": {
           "color": "rgb(90,90,90)",
           "dash": "dash",
           "width": 2
          },
          "type": "line",
          "x0": "2025-03-10T01:00:00",
          "x1": "2025-03-10T01:00:00",
          "xref": "x",
          "y0": 0,
          "y1": 1,
          "yref": "y domain"
         }
        ],
        "template": {
         "data": {
          "bar": [
           {
            "error_x": {
             "color": "#2a3f5f"
            },
            "error_y": {
             "color": "#2a3f5f"
            },
            "marker": {
             "line": {
              "color": "white",
              "width": 0.5
             },
             "pattern": {
              "fillmode": "overlay",
              "size": 10,
              "solidity": 0.2
             }
            },
            "type": "bar"
           }
          ],
          "barpolar": [
           {
            "marker": {
             "line": {
              "color": "white",
              "width": 0.5
             },
             "pattern": {
              "fillmode": "overlay",
              "size": 10,
              "solidity": 0.2
             }
            },
            "type": "barpolar"
           }
          ],
          "carpet": [
           {
            "aaxis": {
             "endlinecolor": "#2a3f5f",
             "gridcolor": "#C8D4E3",
             "linecolor": "#C8D4E3",
             "minorgridcolor": "#C8D4E3",
             "startlinecolor": "#2a3f5f"
            },
            "baxis": {
             "endlinecolor": "#2a3f5f",
             "gridcolor": "#C8D4E3",
             "linecolor": "#C8D4E3",
             "minorgridcolor": "#C8D4E3",
             "startlinecolor": "#2a3f5f"
            },
            "type": "carpet"
           }
          ],
          "choropleth": [
           {
            "colorbar": {
             "outlinewidth": 0,
             "ticks": ""
            },
            "type": "choropleth"
           }
          ],
          "contour": [
           {
            "colorbar": {
             "outlinewidth": 0,
             "ticks": ""
            },
            "colorscale": [
             [
              0,
              "#0d0887"
             ],
             [
              0.1111111111111111,
              "#46039f"
             ],
             [
              0.2222222222222222,
              "#7201a8"
             ],
             [
              0.3333333333333333,
              "#9c179e"
             ],
             [
              0.4444444444444444,
              "#bd3786"
             ],
             [
              0.5555555555555556,
              "#d8576b"
             ],
             [
              0.6666666666666666,
              "#ed7953"
             ],
             [
              0.7777777777777778,
              "#fb9f3a"
             ],
             [
              0.8888888888888888,
              "#fdca26"
             ],
             [
              1,
              "#f0f921"
             ]
            ],
            "type": "contour"
           }
          ],
          "contourcarpet": [
           {
            "colorbar": {
             "outlinewidth": 0,
             "ticks": ""
            },
            "type": "contourcarpet"
           }
          ],
          "heatmap": [
           {
            "colorbar": {
             "outlinewidth": 0,
             "ticks": ""
            },
            "colorscale": [
             [
              0,
              "#0d0887"
             ],
             [
              0.1111111111111111,
              "#46039f"
             ],
             [
              0.2222222222222222,
              "#7201a8"
             ],
             [
              0.3333333333333333,
              "#9c179e"
             ],
             [
              0.4444444444444444,
              "#bd3786"
             ],
             [
              0.5555555555555556,
              "#d8576b"
             ],
             [
              0.6666666666666666,
              "#ed7953"
             ],
             [
              0.7777777777777778,
              "#fb9f3a"
             ],
             [
              0.8888888888888888,
              "#fdca26"
             ],
             [
              1,
              "#f0f921"
             ]
            ],
            "type": "heatmap"
           }
          ],
          "heatmapgl": [
           {
            "colorbar": {
             "outlinewidth": 0,
             "ticks": ""
            },
            "colorscale": [
             [
              0,
              "#0d0887"
             ],
             [
              0.1111111111111111,
              "#46039f"
             ],
             [
              0.2222222222222222,
              "#7201a8"
             ],
             [
              0.3333333333333333,
              "#9c179e"
             ],
             [
              0.4444444444444444,
              "#bd3786"
             ],
             [
              0.5555555555555556,
              "#d8576b"
             ],
             [
              0.6666666666666666,
              "#ed7953"
             ],
             [
              0.7777777777777778,
              "#fb9f3a"
             ],
             [
              0.8888888888888888,
              "#fdca26"
             ],
             [
              1,
              "#f0f921"
             ]
            ],
            "type": "heatmapgl"
           }
          ],
          "histogram": [
           {
            "marker": {
             "pattern": {
              "fillmode": "overlay",
              "size": 10,
              "solidity": 0.2
             }
            },
            "type": "histogram"
           }
          ],
          "histogram2d": [
           {
            "colorbar": {
             "outlinewidth": 0,
             "ticks": ""
            },
            "colorscale": [
             [
              0,
              "#0d0887"
             ],
             [
              0.1111111111111111,
              "#46039f"
             ],
             [
              0.2222222222222222,
              "#7201a8"
             ],
             [
              0.3333333333333333,
              "#9c179e"
             ],
             [
              0.4444444444444444,
              "#bd3786"
             ],
             [
              0.5555555555555556,
              "#d8576b"
             ],
             [
              0.6666666666666666,
              "#ed7953"
             ],
             [
              0.7777777777777778,
              "#fb9f3a"
             ],
             [
              0.8888888888888888,
              "#fdca26"
             ],
             [
              1,
              "#f0f921"
             ]
            ],
            "type": "histogram2d"
           }
          ],
          "histogram2dcontour": [
           {
            "colorbar": {
             "outlinewidth": 0,
             "ticks": ""
            },
            "colorscale": [
             [
              0,
              "#0d0887"
             ],
             [
              0.1111111111111111,
              "#46039f"
             ],
             [
              0.2222222222222222,
              "#7201a8"
             ],
             [
              0.3333333333333333,
              "#9c179e"
             ],
             [
              0.4444444444444444,
              "#bd3786"
             ],
             [
              0.5555555555555556,
              "#d8576b"
             ],
             [
              0.6666666666666666,
              "#ed7953"
             ],
             [
              0.7777777777777778,
              "#fb9f3a"
             ],
             [
              0.8888888888888888,
              "#fdca26"
             ],
             [
              1,
              "#f0f921"
             ]
            ],
            "type": "histogram2dcontour"
           }
          ],
          "mesh3d": [
           {
            "colorbar": {
             "outlinewidth": 0,
             "ticks": ""
            },
            "type": "mesh3d"
           }
          ],
          "parcoords": [
           {
            "line": {
             "colorbar": {
              "outlinewidth": 0,
              "ticks": ""
             }
            },
            "type": "parcoords"
           }
          ],
          "pie": [
           {
            "automargin": true,
            "type": "pie"
           }
          ],
          "scatter": [
           {
            "fillpattern": {
             "fillmode": "overlay",
             "size": 10,
             "solidity": 0.2
            },
            "type": "scatter"
           }
          ],
          "scatter3d": [
           {
            "line": {
             "colorbar": {
              "outlinewidth": 0,
              "ticks": ""
             }
            },
            "marker": {
             "colorbar": {
              "outlinewidth": 0,
              "ticks": ""
             }
            },
            "type": "scatter3d"
           }
          ],
          "scattercarpet": [
           {
            "marker": {
             "colorbar": {
              "outlinewidth": 0,
              "ticks": ""
             }
            },
            "type": "scattercarpet"
           }
          ],
          "scattergeo": [
           {
            "marker": {
             "colorbar": {
              "outlinewidth": 0,
              "ticks": ""
             }
            },
            "type": "scattergeo"
           }
          ],
          "scattergl": [
           {
            "marker": {
             "colorbar": {
              "outlinewidth": 0,
              "ticks": ""
             }
            },
            "type": "scattergl"
           }
          ],
          "scattermapbox": [
           {
            "marker": {
             "colorbar": {
              "outlinewidth": 0,
              "ticks": ""
             }
            },
            "type": "scattermapbox"
           }
          ],
          "scatterpolar": [
           {
            "marker": {
             "colorbar": {
              "outlinewidth": 0,
              "ticks": ""
             }
            },
            "type": "scatterpolar"
           }
          ],
          "scatterpolargl": [
           {
            "marker": {
             "colorbar": {
              "outlinewidth": 0,
              "ticks": ""
             }
            },
            "type": "scatterpolargl"
           }
          ],
          "scatterternary": [
           {
            "marker": {
             "colorbar": {
              "outlinewidth": 0,
              "ticks": ""
             }
            },
            "type": "scatterternary"
           }
          ],
          "surface": [
           {
            "colorbar": {
             "outlinewidth": 0,
             "ticks": ""
            },
            "colorscale": [
             [
              0,
              "#0d0887"
             ],
             [
              0.1111111111111111,
              "#46039f"
             ],
             [
              0.2222222222222222,
              "#7201a8"
             ],
             [
              0.3333333333333333,
              "#9c179e"
             ],
             [
              0.4444444444444444,
              "#bd3786"
             ],
             [
              0.5555555555555556,
              "#d8576b"
             ],
             [
              0.6666666666666666,
              "#ed7953"
             ],
             [
              0.7777777777777778,
              "#fb9f3a"
             ],
             [
              0.8888888888888888,
              "#fdca26"
             ],
             [
              1,
              "#f0f921"
             ]
            ],
            "type": "surface"
           }
          ],
          "table": [
           {
            "cells": {
             "fill": {
              "color": "#EBF0F8"
             },
             "line": {
              "color": "white"
             }
            },
            "header": {
             "fill": {
              "color": "#C8D4E3"
             },
             "line": {
              "color": "white"
             }
            },
            "type": "table"
           }
          ]
         },
         "layout": {
          "annotationdefaults": {
           "arrowcolor": "#2a3f5f",
           "arrowhead": 0,
           "arrowwidth": 1
          },
          "autotypenumbers": "strict",
          "coloraxis": {
           "colorbar": {
            "outlinewidth": 0,
            "ticks": ""
           }
          },
          "colorscale": {
           "diverging": [
            [
             0,
             "#8e0152"
            ],
            [
             0.1,
             "#c51b7d"
            ],
            [
             0.2,
             "#de77ae"
            ],
            [
             0.3,
             "#f1b6da"
            ],
            [
             0.4,
             "#fde0ef"
            ],
            [
             0.5,
             "#f7f7f7"
            ],
            [
             0.6,
             "#e6f5d0"
            ],
            [
             0.7,
             "#b8e186"
            ],
            [
             0.8,
             "#7fbc41"
            ],
            [
             0.9,
             "#4d9221"
            ],
            [
             1,
             "#276419"
            ]
           ],
           "sequential": [
            [
             0,
             "#0d0887"
            ],
            [
             0.1111111111111111,
             "#46039f"
            ],
            [
             0.2222222222222222,
             "#7201a8"
            ],
            [
             0.3333333333333333,
             "#9c179e"
            ],
            [
             0.4444444444444444,
             "#bd3786"
            ],
            [
             0.5555555555555556,
             "#d8576b"
            ],
            [
             0.6666666666666666,
             "#ed7953"
            ],
            [
             0.7777777777777778,
             "#fb9f3a"
            ],
            [
             0.8888888888888888,
             "#fdca26"
            ],
            [
             1,
             "#f0f921"
            ]
           ],
           "sequentialminus": [
            [
             0,
             "#0d0887"
            ],
            [
             0.1111111111111111,
             "#46039f"
            ],
            [
             0.2222222222222222,
             "#7201a8"
            ],
            [
             0.3333333333333333,
             "#9c179e"
            ],
            [
             0.4444444444444444,
             "#bd3786"
            ],
            [
             0.5555555555555556,
             "#d8576b"
            ],
            [
             0.6666666666666666,
             "#ed7953"
            ],
            [
             0.7777777777777778,
             "#fb9f3a"
            ],
            [
             0.8888888888888888,
             "#fdca26"
            ],
            [
             1,
             "#f0f921"
            ]
           ]
          },
          "colorway": [
           "#636efa",
           "#EF553B",
           "#00cc96",
           "#ab63fa",
           "#FFA15A",
           "#19d3f3",
           "#FF6692",
           "#B6E880",
           "#FF97FF",
           "#FECB52"
          ],
          "font": {
           "color": "#2a3f5f"
          },
          "geo": {
           "bgcolor": "white",
           "lakecolor": "white",
           "landcolor": "white",
           "showlakes": true,
           "showland": true,
           "subunitcolor": "#C8D4E3"
          },
          "hoverlabel": {
           "align": "left"
          },
          "hovermode": "closest",
          "mapbox": {
           "style": "light"
          },
          "paper_bgcolor": "white",
          "plot_bgcolor": "white",
          "polar": {
           "angularaxis": {
            "gridcolor": "#EBF0F8",
            "linecolor": "#EBF0F8",
            "ticks": ""
           },
           "bgcolor": "white",
           "radialaxis": {
            "gridcolor": "#EBF0F8",
            "linecolor": "#EBF0F8",
            "ticks": ""
           }
          },
          "scene": {
           "xaxis": {
            "backgroundcolor": "white",
            "gridcolor": "#DFE8F3",
            "gridwidth": 2,
            "linecolor": "#EBF0F8",
            "showbackground": true,
            "ticks": "",
            "zerolinecolor": "#EBF0F8"
           },
           "yaxis": {
            "backgroundcolor": "white",
            "gridcolor": "#DFE8F3",
            "gridwidth": 2,
            "linecolor": "#EBF0F8",
            "showbackground": true,
            "ticks": "",
            "zerolinecolor": "#EBF0F8"
           },
           "zaxis": {
            "backgroundcolor": "white",
            "gridcolor": "#DFE8F3",
            "gridwidth": 2,
            "linecolor": "#EBF0F8",
            "showbackground": true,
            "ticks": "",
            "zerolinecolor": "#EBF0F8"
           }
          },
          "shapedefaults": {
           "line": {
            "color": "#2a3f5f"
           }
          },
          "ternary": {
           "aaxis": {
            "gridcolor": "#DFE8F3",
            "linecolor": "#A2B1C6",
            "ticks": ""
           },
           "baxis": {
            "gridcolor": "#DFE8F3",
            "linecolor": "#A2B1C6",
            "ticks": ""
           },
           "bgcolor": "white",
           "caxis": {
            "gridcolor": "#DFE8F3",
            "linecolor": "#A2B1C6",
            "ticks": ""
           }
          },
          "title": {
           "x": 0.05
          },
          "xaxis": {
           "automargin": true,
           "gridcolor": "#EBF0F8",
           "linecolor": "#EBF0F8",
           "ticks": "",
           "title": {
            "standoff": 15
           },
           "zerolinecolor": "#EBF0F8",
           "zerolinewidth": 2
          },
          "yaxis": {
           "automargin": true,
           "gridcolor": "#EBF0F8",
           "linecolor": "#EBF0F8",
           "ticks": "",
           "title": {
            "standoff": 15
           },
           "zerolinecolor": "#EBF0F8",
           "zerolinewidth": 2
          }
         }
        },
        "title": {
         "font": {
          "family": "Arial"
         },
         "text": "<span style='font-size:22px; font-weight: 700;'>GUELFO BASKET - PALLACANESTRO URBANIA&nbsp;&nbsp;&nbsp;&nbsp;69 - 71</span>",
         "x": 0.02,
         "xanchor": "left",
         "y": 0.94,
         "yanchor": "top"
        },
        "xaxis": {
         "range": [
          "2025-03-09T23:59:30",
          "2025-03-10T00:40:30"
         ],
         "tickmode": "array",
         "ticktext": [
          "0'",
          "1'",
          "2'",
          "3'",
          "4'",
          "5'",
          "6'",
          "7'",
          "8'",
          "9'",
          "10'",
          "11'",
          "12'",
          "13'",
          "14'",
          "15'",
          "16'",
          "17'",
          "18'",
          "19'",
          "20'",
          "21'",
          "22'",
          "23'",
          "24'",
          "25'",
          "26'",
          "27'",
          "28'",
          "29'",
          "30'",
          "31'",
          "32'",
          "33'",
          "34'",
          "35'",
          "36'",
          "37'",
          "38'",
          "39'",
          "40'"
         ],
         "tickvals": [
          "2025-03-10T00:00:00",
          "2025-03-10T00:01:00",
          "2025-03-10T00:02:00",
          "2025-03-10T00:03:00",
          "2025-03-10T00:04:00",
          "2025-03-10T00:05:00",
          "2025-03-10T00:06:00",
          "2025-03-10T00:07:00",
          "2025-03-10T00:08:00",
          "2025-03-10T00:09:00",
          "2025-03-10T00:10:00",
          "2025-03-10T00:11:00",
          "2025-03-10T00:12:00",
          "2025-03-10T00:13:00",
          "2025-03-10T00:14:00",
          "2025-03-10T00:15:00",
          "2025-03-10T00:16:00",
          "2025-03-10T00:17:00",
          "2025-03-10T00:18:00",
          "2025-03-10T00:19:00",
          "2025-03-10T00:20:00",
          "2025-03-10T00:21:00",
          "2025-03-10T00:22:00",
          "2025-03-10T00:23:00",
          "2025-03-10T00:24:00",
          "2025-03-10T00:25:00",
          "2025-03-10T00:26:00",
          "2025-03-10T00:27:00",
          "2025-03-10T00:28:00",
          "2025-03-10T00:29:00",
          "2025-03-10T00:30:00",
          "2025-03-10T00:31:00",
          "2025-03-10T00:32:00",
          "2025-03-10T00:33:00",
          "2025-03-10T00:34:00",
          "2025-03-10T00:35:00",
          "2025-03-10T00:36:00",
          "2025-03-10T00:37:00",
          "2025-03-10T00:38:00",
          "2025-03-10T00:39:00",
          "2025-03-10T00:40:00"
         ],
         "title": {
          "text": "Minuti"
         },
         "type": "date"
        },
        "yaxis": {
         "range": [
          0,
          81
         ],
         "title": {
          "text": "Punti"
         },
         "type": "linear"
        }
       }
      },
      "image/png": "[encoded data removed]",
      "text/html": [
       "<div>                            <div id=\"e5be965e-2082-4d40-b903-521d8b74756f\" class=\"plotly-graph-div\" style=\"height:600px; width:100%;\"></div>            <script type=\"text/javascript\">                require([\"plotly\"], function(Plotly) {                    window.PLOTLYENV=window.PLOTLYENV || {};                                    if (document.getElementById(\"e5be965e-2082-4d40-b903-521d8b74756f\")) {                    Plotly.newPlot(                        \"e5be965e-2082-4d40-b903-521d8b74756f\",                        [{\"customdata\":[\"\",\"Di Francesco 3P\",\"Di Francesco 2P\",\"Diana 2P\",\"Diana 2P\",\"Dusels 2P\",\"Dusels 1P\",\"Dusels 1P\",\"Dusels 1P\",\"Dusels 1P\",\"Dusels 1P\",\"Dusels 3P\",\"Aloi 2P\",\"Pentucci 3P\",\"Matteucci 2P\",\"Aloi 3P\",\"Aloi 3P\",\"Di Francesco 3P\",\"Dusels 3P\",\"Diana 1P\",\"Diana 1P\",\"Dusels 3P\",\"Di Francesco 2P\",\"Pentucci 2P\",\"Dusels 1P\",\"Diana 1P\",\"Dusels 2P\",\"Dusels 2P\",\"Aloi 1P\",\"Aloi 3P\",\"Pentucci 2P\",\"Dusels 1P\",\"Dusels 1P\",\"Dusels 2P\",\"Diana 1P\",\"Diana 1P\",\"Diana 2P\",\"Diana 1P\",\"Diana 1P\",\"Diana 1P\",\"Diana 1P\"],\"hovertemplate\":\"%{y} - %{customdata} - %{x|%M':%S\\\"}\",\"line\":{\"color\":\"green\",\"shape\":\"hv\"},\"marker\":{\"color\":\"green\"},\"mode\":\"lines+markers+text\",\"name\":\"PALLACANESTRO URBANIA\",\"text\":[\"0\",\"3\",\"5\",\"7\",\"9\",\"11\",\"12\",\"13\",\"14\",\"15\",\"16\",\"19\",\"21\",\"24\",\"26\",\"29\",\"32\",\"35\",\"38\",\"39\",\"40\",\"43\",\"45\",\"47\",\"48\",\"49\",\"51\",\"53\",\"54\",\"57\",\"59\",\"60\",\"61\",\"63\",\"64\",\"65\",\"67\",\"68\",\"69\",\"70\",\"71\"],\"textposition\":[\"top left\",\"top left\",\"top left\",\"top left\",\"top left\",\"top left\",\"top left\",\"top left\",\"top left\",\"top left\",\"top left\",\"top left\",\"top left\",\"top left\",\"top left\",\"top left\",\"top left\",\"top left\",\"top left\",\"top left\",\"top left\",\"top left\",\"top left\",\"top left\",\"top left\",\"top left\",\"top left\",\"top left\",\"top left\",\"top left\",\"top left\",\"top left\",\"top left\",\"top left\",\"top left\",\"top left\",\"top left\",\"top left\",\"top left\",\"top left\",\"top left\"],\"x\":[\"2025-03-10T00:00:00\",\"2025-03-10T00:00:44\",\"2025-03-10T00:01:29\",\"2025-03-10T00:01:58\",\"2025-03-10T00:03:41\",\"2025-03-10T00:06:08\",\"2025-03-10T00:07:07\",\"2025-03-10T00:08:07\",\"2025-03-10T00:08:07\",\"2025-03-10T00:08:44\",\"2025-03-10T00:08:44\",\"2025-03-10T00:09:30\",\"2025-03-10T00:09:59\",\"2025-03-10T00:10:20\",\"2025-03-10T00:12:13\",\"2025-03-10T00:15:05\",\"2025-03-10T00:15:45\",\"2025-03-10T00:16:25\",\"2025-03-10T00:17:41\",\"2025-03-10T00:18:21\",\"2025-03-10T00:18:21\",\"2025-03-10T00:18:57\",\"2025-03-10T00:19:17\",\"2025-03-10T00:20:09\",\"2025-03-10T00:20:46\",\"2025-03-10T00:22:03\",\"2025-03-10T00:24:07\",\"2025-03-10T00:24:32\",\"2025-03-10T00:25:29\",\"2025-03-10T00:26:35\",\"2025-03-10T00:32:01\",\"2025-03-10T00:32:52\",\"2025-03-10T00:32:52\",\"2025-03-10T00:34:24\",\"2025-03-10T00:36:59\",\"2025-03-10T00:36:59\",\"2025-03-10T00:38:08\",\"2025-03-10T00:38:08\",\"2025-03-10T00:39:44\",\"2025-03-10T00:39:53\",\"2025-03-10T00:39:53\"],\"y\":[0,3,5,7,9,11,12,13,14,15,16,19,21,24,26,29,32,35,38,39,40,43,45,47,48,49,51,53,54,57,59,60,61,63,64,65,67,68,69,70,71],\"type\":\"scatter\",\"textfont\":{\"color\":\"green\"}},{\"customdata\":[\"\",\"Santini 2P\",\"Martini 1P\",\"Martini 1P\",\"Castori 2P\",\"Naldi 2P\",\"Naldi 2P\",\"Curione 3P\",\"Curione 3P\",\"Bergami 2P\",\"Bergami 2P\",\"Savino 1P\",\"Savino 2P\",\"Bergami 2P\",\"Benedetti 2P\",\"Santini 2P\",\"Benedetti 2P\",\"Curione 2P\",\"Curione 1P\",\"Curione 1P\",\"Benedetti 2P\",\"Bergami 3P\",\"Bergami 1P\",\"Bergami 1P\",\"Curione 2P\",\"Martini 2P\",\"Bergami 2P\",\"Santini 3P\",\"Castori 2P\",\"Santini 1P\",\"Santini 1P\",\"Martini 2P\",\"Curione 2P\",\"Bergami 1P\",\"Curione 1P\",\"Curione 1P\",\"Martini 1P\",\"Martini 1P\",\"Naldi 2P\",\"Naldi 1P\",\"Curione 1P\",\"Curione 1P\"],\"hovertemplate\":\"%{y} - %{customdata} - %{x|%M':%S\\\"}\",\"line\":{\"color\":\"red\",\"shape\":\"hv\"},\"marker\":{\"color\":\"red\"},\"mode\":\"lines+markers+text\",\"name\":\"GUELFO BASKET\",\"text\":[\"0\",\"2\",\"3\",\"4\",\"6\",\"8\",\"10\",\"13\",\"16\",\"18\",\"20\",\"21\",\"23\",\"25\",\"27\",\"29\",\"31\",\"33\",\"34\",\"35\",\"37\",\"40\",\"41\",\"42\",\"44\",\"46\",\"48\",\"51\",\"53\",\"54\",\"55\",\"57\",\"59\",\"60\",\"61\",\"62\",\"63\",\"64\",\"66\",\"67\",\"68\",\"69\"],\"textposition\":[\"bottom right\",\"top left\",\"bottom right\",\"bottom right\",\"bottom right\",\"bottom right\",\"bottom right\",\"bottom right\",\"bottom right\",\"bottom right\",\"bottom right\",\"bottom right\",\"bottom right\",\"bottom right\",\"bottom right\",\"bottom right\",\"bottom right\",\"bottom right\",\"bottom right\",\"bottom right\",\"bottom right\",\"bottom right\",\"bottom right\",\"bottom right\",\"bottom right\",\"bottom right\",\"bottom right\",\"bottom right\",\"bottom right\",\"bottom right\",\"bottom right\",\"bottom right\",\"bottom right\",\"bottom right\",\"bottom right\",\"bottom right\",\"bottom right\",\"bottom right\",\"bottom right\",\"bottom right\",\"bottom right\",\"bottom right\"],\"x\":[\"2025-03-10T00:00:00\",\"2025-03-10T00:00:17\",\"2025-03-10T00:02:08\",\"2025-03-10T00:02:08\",\"2025-03-10T00:06:14\",\"2025-03-10T00:06:49\",\"2025-03-10T00:09:06\",\"2025-03-10T00:11:20\",\"2025-03-10T00:12:39\",\"2025-03-10T00:13:14\",\"2025-03-10T00:14:50\",\"2025-03-10T00:14:56\",\"2025-03-10T00:15:30\",\"2025-03-10T00:15:55\",\"2025-03-10T00:17:54\",\"2025-03-10T00:18:43\",\"2025-03-10T00:19:30\",\"2025-03-10T00:21:13\",\"2025-03-10T00:22:20\",\"2025-03-10T00:22:20\",\"2025-03-10T00:22:46\",\"2025-03-10T00:23:23\",\"2025-03-10T00:26:14\",\"2025-03-10T00:26:14\",\"2025-03-10T00:26:55\",\"2025-03-10T00:27:27\",\"2025-03-10T00:28:47\",\"2025-03-10T00:29:13\",\"2025-03-10T00:29:44\",\"2025-03-10T00:32:28\",\"2025-03-10T00:32:28\",\"2025-03-10T00:33:35\",\"2025-03-10T00:34:39\",\"2025-03-10T00:35:25\",\"2025-03-10T00:36:19\",\"2025-03-10T00:36:19\",\"2025-03-10T00:37:55\",\"2025-03-10T00:37:55\",\"2025-03-10T00:38:54\",\"2025-03-10T00:38:54\",\"2025-03-10T00:39:52\",\"2025-03-10T00:39:58\"],\"y\":[0,2,3,4,6,8,10,13,16,18,20,21,23,25,27,29,31,33,34,35,37,40,41,42,44,46,48,51,53,54,55,57,59,60,61,62,63,64,66,67,68,69],\"type\":\"scatter\",\"textfont\":{\"color\":\"red\"}}],                        {\"template\":{\"data\":{\"barpolar\":[{\"marker\":{\"line\":{\"color\":\"white\",\"width\":0.5},\"pattern\":{\"fillmode\":\"overlay\",\"size\":10,\"solidity\":0.2}},\"type\":\"barpolar\"}],\"bar\":[{\"error_x\":{\"color\":\"#2a3f5f\"},\"error_y\":{\"color\":\"#2a3f5f\"},\"marker\":{\"line\":{\"color\":\"white\",\"width\":0.5},\"pattern\":{\"fillmode\":\"overlay\",\"size\":10,\"solidity\":0.2}},\"type\":\"bar\"}],\"carpet\":[{\"aaxis\":{\"endlinecolor\":\"#2a3f5f\",\"gridcolor\":\"#C8D4E3\",\"linecolor\":\"#C8D4E3\",\"minorgridcolor\":\"#C8D4E3\",\"startlinecolor\":\"#2a3f5f\"},\"baxis\":{\"endlinecolor\":\"#2a3f5f\",\"gridcolor\":\"#C8D4E3\",\"linecolor\":\"#C8D4E3\",\"minorgridcolor\":\"#C8D4E3\",\"startlinecolor\":\"#2a3f5f\"},\"type\":\"carpet\"}],\"choropleth\":[{\"colorbar\":{\"outlinewidth\":0,\"ticks\":\"\"},\"type\":\"choropleth\"}],\"contourcarpet\":[{\"colorbar\":{\"outlinewidth\":0,\"ticks\":\"\"},\"type\":\"contourcarpet\"}],\"contour\":[{\"colorbar\":{\"outlinewidth\":0,\"ticks\":\"\"},\"colorscale\":[[0.0,\"#0d0887\"],[0.1111111111111111,\"#46039f\"],[0.2222222222222222,\"#7201a8\"],[0.3333333333333333,\"#9c179e\"],[0.4444444444444444,\"#bd3786\"],[0.5555555555555556,\"#d8576b\"],[0.6666666666666666,\"#ed7953\"],[0.7777777777777778,\"#fb9f3a\"],[0.8888888888888888,\"#fdca26\"],[1.0,\"#f0f921\"]],\"type\":\"contour\"}],\"heatmapgl\":[{\"colorbar\":{\"outlinewidth\":0,\"ticks\":\"\"},\"colorscale\":[[0.0,\"#0d0887\"],[0.1111111111111111,\"#46039f\"],[0.2222222222222222,\"#7201a8\"],[0.3333333333333333,\"#9c179e\"],[0.4444444444444444,\"#bd3786\"],[0.5555555555555556,\"#d8576b\"],[0.6666666666666666,\"#ed7953\"],[0.7777777777777778,\"#fb9f3a\"],[0.8888888888888888,\"#fdca26\"],[1.0,\"#f0f921\"]],\"type\":\"heatmapgl\"}],\"heatmap\":[{\"colorbar\":{\"outlinewidth\":0,\"ticks\":\"\"},\"colorscale\":[[0.0,\"#0d0887\"],[0.1111111111111111,\"#46039f\"],[0.2222222222222222,\"#7201a8\"],[0.3333333333333333,\"#9c179e\"],[0.4444444444444444,\"#bd3786\"],[0.5555555555555556,\"#d8576b\"],[0.6666666666666666,\"#ed7953\"],[0.7777777777777778,\"#fb9f3a\"],[0.8888888888888888,\"#fdca26\"],[1.0,\"#f0f921\"]],\"type\":\"heatmap\"}],\"histogram2dcontour\":[{\"colorbar\":{\"outlinewidth\":0,\"ticks\":\"\"},\"colorscale\":[[0.0,\"#0d0887\"],[0.1111111111111111,\"#46039f\"],[0.2222222222222222,\"#7201a8\"],[0.3333333333333333,\"#9c179e\"],[0.4444444444444444,\"#bd3786\"],[0.5555555555555556,\"#d8576b\"],[0.6666666666666666,\"#ed7953\"],[0.7777777777777778,\"#fb9f3a\"],[0.8888888888888888,\"#fdca26\"],[1.0,\"#f0f921\"]],\"type\":\"histogram2dcontour\"}],\"histogram2d\":[{\"colorbar\":{\"outlinewidth\":0,\"ticks\":\"\"},\"colorscale\":[[0.0,\"#0d0887\"],[0.1111111111111111,\"#46039f\"],[0.2222222222222222,\"#7201a8\"],[0.3333333333333333,\"#9c179e\"],[0.4444444444444444,\"#bd3786\"],[0.5555555555555556,\"#d8576b\"],[0.6666666666666666,\"#ed7953\"],[0.7777777777777778,\"#fb9f3a\"],[0.8888888888888888,\"#fdca26\"],[1.0,\"#f0f921\"]],\"type\":\"histogram2d\"}],\"histogram\":[{\"marker\":{\"pattern\":{\"fillmode\":\"overlay\",\"size\":10,\"solidity\":0.2}},\"type\":\"histogram\"}],\"mesh3d\":[{\"colorbar\":{\"outlinewidth\":0,\"ticks\":\"\"},\"type\":\"mesh3d\"}],\"parcoords\":[{\"line\":{\"colorbar\":{\"outlinewidth\":0,\"ticks\":\"\"}},\"type\":\"parcoords\"}],\"pie\":[{\"automargin\":true,\"type\":\"pie\"}],\"scatter3d\":[{\"line\":{\"colorbar\":{\"outlinewidth\":0,\"ticks\":\"\"}},\"marker\":{\"colorbar\":{\"outlinewidth\":0,\"ticks\":\"\"}},\"type\":\"scatter3d\"}],\"scattercarpet\":[{\"marker\":{\"colorbar\":{\"outlinewidth\":0,\"ticks\":\"\"}},\"type\":\"scattercarpet\"}],\"scattergeo\":[{\"marker\":{\"colorbar\":{\"outlinewidth\":0,\"ticks\":\"\"}},\"type\":\"scattergeo\"}],\"scattergl\":[{\"marker\":{\"colorbar\":{\"outlinewidth\":0,\"ticks\":\"\"}},\"type\":\"scattergl\"}],\"scattermapbox\":[{\"marker\":{\"colorbar\":{\"outlinewidth\":0,\"ticks\":\"\"}},\"type\":\"scattermapbox\"}],\"scatterpolargl\":[{\"marker\":{\"colorbar\":{\"outlinewidth\":0,\"ticks\":\"\"}},\"type\":\"scatterpolargl\"}],\"scatterpolar\":[{\"marker\":{\"colorbar\":{\"outlinewidth\":0,\"ticks\":\"\"}},\"type\":\"scatterpolar\"}],\"scatter\":[{\"fillpattern\":{\"fillmode\":\"overlay\",\"size\":10,\"solidity\":0.2},\"type\":\"scatter\"}],\"scatterternary\":[{\"marker\":{\"colorbar\":{\"outlinewidth\":0,\"ticks\":\"\"}},\"type\":\"scatterternary\"}],\"surface\":[{\"colorbar\":{\"outlinewidth\":0,\"ticks\":\"\"},\"colorscale\":[[0.0,\"#0d0887\"],[0.1111111111111111,\"#46039f\"],[0.2222222222222222,\"#7201a8\"],[0.3333333333333333,\"#9c179e\"],[0.4444444444444444,\"#bd3786\"],[0.5555555555555556,\"#d8576b\"],[0.6666666666666666,\"#ed7953\"],[0.7777777777777778,\"#fb9f3a\"],[0.8888888888888888,\"#fdca26\"],[1.0,\"#f0f921\"]],\"type\":\"surface\"}],\"table\":[{\"cells\":{\"fill\":{\"color\":\"#EBF0F8\"},\"line\":{\"color\":\"white\"}},\"header\":{\"fill\":{\"color\":\"#C8D4E3\"},\"line\":{\"color\":\"white\"}},\"type\":\"table\"}]},\"layout\":{\"annotationdefaults\":{\"arrowcolor\":\"#2a3f5f\",\"arrowhead\":0,\"arrowwidth\":1},\"autotypenumbers\":\"strict\",\"coloraxis\":{\"colorbar\":{\"outlinewidth\":0,\"ticks\":\"\"}},\"colorscale\":{\"diverging\":[[0,\"#8e0152\"],[0.1,\"#c51b7d\"],[0.2,\"#de77ae\"],[0.3,\"#f1b6da\"],[0.4,\"#fde0ef\"],[0.5,\"#f7f7f7\"],[0.6,\"#e6f5d0\"],[0.7,\"#b8e186\"],[0.8,\"#7fbc41\"],[0.9,\"#4d9221\"],[1,\"#276419\"]],\"sequential\":[[0.0,\"#0d0887\"],[0.1111111111111111,\"#46039f\"],[0.2222222222222222,\"#7201a8\"],[0.3333333333333333,\"#9c179e\"],[0.4444444444444444,\"#bd3786\"],[0.5555555555555556,\"#d8576b\"],[0.6666666666666666,\"#ed7953\"],[0.7777777777777778,\"#fb9f3a\"],[0.8888888888888888,\"#fdca26\"],[1.0,\"#f0f921\"]],\"sequentialminus\":[[0.0,\"#0d0887\"],[0.1111111111111111,\"#46039f\"],[0.2222222222222222,\"#7201a8\"],[0.3333333333333333,\"#9c179e\"],[0.4444444444444444,\"#bd3786\"],[0.5555555555555556,\"#d8576b\"],[0.6666666666666666,\"#ed7953\"],[0.7777777777777778,\"#fb9f3a\"],[0.8888888888888888,\"#fdca26\"],[1.0,\"#f0f921\"]]},\"colorway\":[\"#636efa\",\"#EF553B\",\"#00cc96\",\"#ab63fa\",\"#FFA15A\",\"#19d3f3\",\"#FF6692\",\"#B6E880\",\"#FF97FF\",\"#FECB52\"],\"font\":{\"color\":\"#2a3f5f\"},\"geo\":{\"bgcolor\":\"white\",\"lakecolor\":\"white\",\"landcolor\":\"white\",\"showlakes\":true,\"showland\":true,\"subunitcolor\":\"#C8D4E3\"},\"hoverlabel\":{\"align\":\"left\"},\"hovermode\":\"closest\",\"mapbox\":{\"style\":\"light\"},\"paper_bgcolor\":\"white\",\"plot_bgcolor\":\"white\",\"polar\":{\"angularaxis\":{\"gridcolor\":\"#EBF0F8\",\"linecolor\":\"#EBF0F8\",\"ticks\":\"\"},\"bgcolor\":\"white\",\"radialaxis\":{\"gridcolor\":\"#EBF0F8\",\"linecolor\":\"#EBF0F8\",\"ticks\":\"\"}},\"scene\":{\"xaxis\":{\"backgroundcolor\":\"white\",\"gridcolor\":\"#DFE8F3\",\"gridwidth\":2,\"linecolor\":\"#EBF0F8\",\"showbackground\":true,\"ticks\":\"\",\"zerolinecolor\":\"#EBF0F8\"},\"yaxis\":{\"backgroundcolor\":\"white\",\"gridcolor\":\"#DFE8F3\",\"gridwidth\":2,\"linecolor\":\"#EBF0F8\",\"showbackground\":true,\"ticks\":\"\",\"zerolinecolor\":\"#EBF0F8\"},\"zaxis\":{\"backgroundcolor\":\"white\",\"gridcolor\":\"#DFE8F3\",\"gridwidth\":2,\"linecolor\":\"#EBF0F8\",\"showbackground\":true,\"ticks\":\"\",\"zerolinecolor\":\"#EBF0F8\"}},\"shapedefaults\":{\"line\":{\"color\":\"#2a3f5f\"}},\"ternary\":{\"aaxis\":{\"gridcolor\":\"#DFE8F3\",\"linecolor\":\"#A2B1C6\",\"ticks\":\"\"},\"baxis\":{\"gridcolor\":\"#DFE8F3\",\"linecolor\":\"#A2B1C6\",\"ticks\":\"\"},\"bgcolor\":\"white\",\"caxis\":{\"gridcolor\":\"#DFE8F3\",\"linecolor\":\"#A2B1C6\",\"ticks\":\"\"}},\"title\":{\"x\":0.05},\"xaxis\":{\"automargin\":true,\"gridcolor\":\"#EBF0F8\",\"linecolor\":\"#EBF0F8\",\"ticks\":\"\",\"title\":{\"standoff\":15},\"zerolinecolor\":\"#EBF0F8\",\"zerolinewidth\":2},\"yaxis\":{\"automargin\":true,\"gridcolor\":\"#EBF0F8\",\"linecolor\":\"#EBF0F8\",\"ticks\":\"\",\"title\":{\"standoff\":15},\"zerolinecolor\":\"#EBF0F8\",\"zerolinewidth\":2}}},\"shapes\":[{\"line\":{\"color\":\"rgb(90,90,90)\",\"dash\":\"dash\",\"width\":2},\"type\":\"line\",\"x0\":\"2025-03-10T00:10:00\",\"x1\":\"2025-03-10T00:10:00\",\"xref\":\"x\",\"y0\":0,\"y1\":1,\"yref\":\"y domain\"},{\"line\":{\"color\":\"rgb(90,90,90)\",\"dash\":\"dash\",\"width\":2},\"type\":\"line\",\"x0\":\"2025-03-10T00:20:00\",\"x1\":\"2025-03-10T00:20:00\",\"xref\":\"x\",\"y0\":0,\"y1\":1,\"yref\":\"y domain\"},{\"line\":{\"color\":\"rgb(90,90,90)\",\"dash\":\"dash\",\"width\":2},\"type\":\"line\",\"x0\":\"2025-03-10T00:30:00\",\"x1\":\"2025-03-10T00:30:00\",\"xref\":\"x\",\"y0\":0,\"y1\":1,\"yref\":\"y domain\"},{\"line\":{\"color\":\"rgb(90,90,90)\",\"dash\":\"dash\",\"width\":2},\"type\":\"line\",\"x0\":\"2025-03-10T00:40:00\",\"x1\":\"2025-03-10T00:40:00\",\"xref\":\"x\",\"y0\":0,\"y1\":1,\"yref\":\"y domain\"},{\"line\":{\"color\":\"rgb(90,90,90)\",\"dash\":\"dash\",\"width\":2},\"type\":\"line\",\"x0\":\"2025-03-10T00:45:00\",\"x1\":\"2025-03-10T00:45:00\",\"xref\":\"x\",\"y0\":0,\"y1\":1,\"yref\":\"y domain\"},{\"line\":{\"color\":\"rgb(90,90,90)\",\"dash\":\"dash\",\"width\":2},\"type\":\"line\",\"x0\":\"2025-03-10T00:50:00\",\"x1\":\"2025-03-10T00:50:00\",\"xref\":\"x\",\"y0\":0,\"y1\":1,\"yref\":\"y domain\"},{\"line\":{\"color\":\"rgb(90,90,90)\",\"dash\":\"dash\",\"width\":2},\"type\":\"line\",\"x0\":\"2025-03-10T00:55:00\",\"x1\":\"2025-03-10T00:55:00\",\"xref\":\"x\",\"y0\":0,\"y1\":1,\"yref\":\"y domain\"},{\"line\":{\"color\":\"rgb(90,90,90)\",\"dash\":\"dash\",\"width\":2},\"type\":\"line\",\"x0\":\"2025-03-10T01:00:00\",\"x1\":\"2025-03-10T01:00:00\",\"xref\":\"x\",\"y0\":0,\"y1\":1,\"yref\":\"y domain\"}],\"title\":{\"font\":{\"family\":\"Arial\"},\"text\":\"\\u003cspan style='font-size:22px; font-weight: 700;'\\u003eGUELFO BASKET - PALLACANESTRO URBANIA&nbsp;&nbsp;&nbsp;&nbsp;69 - 71\\u003c\\u002fspan\\u003e\",\"y\":0.94,\"x\":0.02,\"xanchor\":\"left\",\"yanchor\":\"top\"},\"font\":{\"family\":\"Arial\",\"size\":13},\"xaxis\":{\"title\":{\"text\":\"Minuti\"},\"range\":[\"2025-03-09T23:59:30\",\"2025-03-10T00:40:30\"],\"tickmode\":\"array\",\"tickvals\":[\"2025-03-10T00:00:00\",\"2025-03-10T00:01:00\",\"2025-03-10T00:02:00\",\"2025-03-10T00:03:00\",\"2025-03-10T00:04:00\",\"2025-03-10T00:05:00\",\"2025-03-10T00:06:00\",\"2025-03-10T00:07:00\",\"2025-03-10T00:08:00\",\"2025-03-10T00:09:00\",\"2025-03-10T00:10:00\",\"2025-03-10T00:11:00\",\"2025-03-10T00:12:00\",\"2025-03-10T00:13:00\",\"2025-03-10T00:14:00\",\"2025-03-10T00:15:00\",\"2025-03-10T00:16:00\",\"2025-03-10T00:17:00\",\"2025-03-10T00:18:00\",\"2025-03-10T00:19:00\",\"2025-03-10T00:20:00\",\"2025-03-10T00:21:00\",\"2025-03-10T00:22:00\",\"2025-03-10T00:23:00\",\"2025-03-10T00:24:00\",\"2025-03-10T00:25:00\",\"2025-03-10T00:26:00\",\"2025-03-10T00:27:00\",\"2025-03-10T00:28:00\",\"2025-03-10T00:29:00\",\"2025-03-10T00:30:00\",\"2025-03-10T00:31:00\",\"2025-03-10T00:32:00\",\"2025-03-10T00:33:00\",\"2025-03-10T00:34:00\",\"2025-03-10T00:35:00\",\"2025-03-10T00:36:00\",\"2025-03-10T00:37:00\",\"2025-03-10T00:38:00\",\"2025-03-10T00:39:00\",\"2025-03-10T00:40:00\"],\"ticktext\":[\"0'\",\"1'\",\"2'\",\"3'\",\"4'\",\"5'\",\"6'\",\"7'\",\"8'\",\"9'\",\"10'\",\"11'\",\"12'\",\"13'\",\"14'\",\"15'\",\"16'\",\"17'\",\"18'\",\"19'\",\"20'\",\"21'\",\"22'\",\"23'\",\"24'\",\"25'\",\"26'\",\"27'\",\"28'\",\"29'\",\"30'\",\"31'\",\"32'\",\"33'\",\"34'\",\"35'\",\"36'\",\"37'\",\"38'\",\"39'\",\"40'\"]},\"yaxis\":{\"title\":{\"text\":\"Punti\"},\"range\":[0,81]},\"margin\":{\"l\":26,\"r\":10,\"b\":30,\"t\":30,\"pad\":0},\"legend\":{\"orientation\":\"v\",\"yanchor\":\"top\",\"y\":1.2,\"xanchor\":\"right\",\"x\":1.0},\"height\":600,\"annotations\":[{\"showarrow\":false,\"text\":\"Q1: 10 - 21\",\"x\":\"2025-03-10T00:05:00\",\"y\":79},{\"showarrow\":false,\"text\":\"Q2: 21 - 24 (31 - 45)\",\"x\":\"2025-03-10T00:15:00\",\"y\":79},{\"showarrow\":false,\"text\":\"Q3: 22 - 12 (53 - 57)\",\"x\":\"2025-03-10T00:25:00\",\"y\":79},{\"showarrow\":false,\"text\":\"Q4: 16 - 14 (69 - 71)\",\"x\":\"2025-03-10T00:35:00\",\"y\":79}]},                        {\"responsive\": true}                    ).then(function(){\n",
       "                            \n",
       "var gd = document.getElementById('e5be965e-2082-4d40-b903-521d8b74756f');\n",
       "var x = new MutationObserver(function (mutations, observer) {{\n",
       "        var display = window.getComputedStyle(gd).display;\n",
       "        if (!display || display === 'none') {{\n",
       "            console.log([gd, 'removed!']);\n",
       "            Plotly.purge(gd);\n",
       "            observer.disconnect();\n",
       "        }}\n",
       "}});\n",
       "\n",
       "// Listen for the removal of the full notebook cells\n",
       "var notebookContainer = gd.closest('#notebook-container');\n",
       "if (notebookContainer) {{\n",
       "    x.observe(notebookContainer, {childList: true});\n",
       "}}\n",
       "\n",
       "// Listen for the clearing of the current output cell\n",
       "var outputEl = gd.closest('.output');\n",
       "if (outputEl) {{\n",
       "    x.observe(outputEl, {childList: true});\n",
       "}}\n",
       "\n",
       "                        })                };                });            </script>        </div>"
      ]
     },
     "metadata": {},
     "output_type": "display_data"
    }
   ],
   "source": [
    "import Game\n",
    "import DigitalBoards\n",
    "import ScoreBoard\n",
    "import BoxScore\n",
    "import Stats\n",
    "\n",
    "import importlib\n",
    "importlib.reload(DigitalBoards)\n",
    "importlib.reload(Game)\n",
    "importlib.reload(ScoreBoard)\n",
    "importlib.reload(BoxScore)\n",
    "importlib.reload(Stats)\n",
    "\n",
    "from ipywidgets import widgets\n",
    "\n",
    "output = widgets.Output()\n",
    "display(output)\n",
    "\n",
    "board = ScoreBoard.ScoreBoard('./data/Urbania.team', './data/7.a-Andata-GUELFO BASKET.game', scale=0.4, output=output)\n",
    "\n",
    "fig = BoxScore.pointsChart(board.game.events_df, game=board.game, template='plotly_white')\n",
    "\n",
    "# Save to PNG\n",
    "#bbb = fig.to_image('png', width=4000, height=1400)\n",
    "#with open('aaa.png', 'wb') as file:\n",
    "#    file.write(bbb)\n",
    "\n",
    "fig"
   ]
  },
  {
   "cell_type": "markdown",
   "id": "20c0372e-d8a9-4ee7-abea-250d29258f5f",
   "metadata": {
    "tags": []
   },
   "source": [
    "### Play by Play"
   ]
  },
  {
   "cell_type": "code",
   "execution_count": null,
   "id": "a39ba77c-389f-4bfc-b0c3-fe307d564412",
   "metadata": {
    "tags": []
   },
   "outputs": [],
   "source": [
    "from ipywidgets import HTML\n",
    "\n",
    "import Game\n",
    "import DigitalBoards\n",
    "import ScoreBoard\n",
    "import BoxScore\n",
    "import Stats\n",
    "\n",
    "import importlib\n",
    "importlib.reload(DigitalBoards)\n",
    "importlib.reload(Game)\n",
    "importlib.reload(ScoreBoard)\n",
    "importlib.reload(BoxScore)\n",
    "importlib.reload(Stats)\n",
    "\n",
    "from ipywidgets import widgets\n",
    "\n",
    "output = widgets.Output()\n",
    "display(output)\n",
    "\n",
    "board = ScoreBoard.ScoreBoard('./data/Urbania.team', './data/4.a-Ritorno-GIOVANE ROBUR OSIMO.game', scale=0.4, output=output)\n",
    "\n",
    "pbp = BoxScore.play_by_play(board.game.events_df, game=board.game)\n",
    "#HTML(pbp)"
   ]
  },
  {
   "cell_type": "code",
   "execution_count": null,
   "id": "d78c0304-0d9e-46d6-bcbb-7fad91bdc108",
   "metadata": {},
   "outputs": [],
   "source": [
    "html = '<div style=\"max-width: %fvw; max-height: 520px; overflow: auto; background-color: #ffffff;\">%s</div>'%(60.0,pbp)\n",
    "HTML(html)"
   ]
  },
  {
   "cell_type": "code",
   "execution_count": null,
   "id": "ef5294cf-6356-4242-aa17-23b3d174b2a3",
   "metadata": {},
   "outputs": [],
   "source": []
  }
 ],
 "metadata": {
  "kernelspec": {
   "display_name": "Python 3.11.9 (davide)",
   "language": "python",
   "name": "davide"
  },
  "language_info": {
   "codemirror_mode": {
    "name": "ipython",
    "version": 3
   },
   "file_extension": ".py",
   "mimetype": "text/x-python",
   "name": "python",
   "nbconvert_exporter": "python",
   "pygments_lexer": "ipython3",
   "version": "3.11.9"
  }
 },
 "nbformat": 4,
 "nbformat_minor": 5
}
