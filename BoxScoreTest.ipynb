{
 "cells": [
  {
   "cell_type": "markdown",
   "id": "cc8601b7-b7de-46e7-b55c-b1de841f3f53",
   "metadata": {},
   "source": [
    "### BoxScore display"
   ]
  },
  {
   "cell_type": "code",
   "execution_count": null,
   "id": "95dd1245-ad1b-40ee-aed7-a5ea5a18b161",
   "metadata": {
    "tags": []
   },
   "outputs": [],
   "source": [
    "from ipywidgets import HTML\n",
    "\n",
    "import Game\n",
    "import DigitalBoards\n",
    "import ScoreBoard\n",
    "import BoxScore\n",
    "import Stats\n",
    "\n",
    "import importlib\n",
    "importlib.reload(DigitalBoards)\n",
    "importlib.reload(Game)\n",
    "importlib.reload(ScoreBoard)\n",
    "importlib.reload(BoxScore)\n",
    "importlib.reload(Stats)\n",
    "\n",
    "from ipywidgets import widgets\n",
    "\n",
    "output = widgets.Output()\n",
    "display(output)\n",
    "\n",
    "board = ScoreBoard.ScoreBoard('./data/Urbania.team', './data/3.a-Ritorno-SUTOR MONTEGRANARO.game', scale=0.4, output=output)\n",
    "svg = BoxScore.svg(board.game.events_df, game=board.game, width=65.0)\n",
    "HTML(svg)"
   ]
  },
  {
   "cell_type": "markdown",
   "id": "a29f6396-4883-472e-9844-ad0fba244e0b",
   "metadata": {
    "tags": []
   },
   "source": [
    "### Save Sheet to HTML format"
   ]
  },
  {
   "cell_type": "code",
   "execution_count": null,
   "id": "5f9d8f38-a299-494a-9591-51b4bdf63cdd",
   "metadata": {
    "tags": []
   },
   "outputs": [],
   "source": [
    "import Game\n",
    "import DigitalBoards\n",
    "import ScoreBoard\n",
    "import BoxScore\n",
    "import Stats\n",
    "\n",
    "import importlib\n",
    "importlib.reload(DigitalBoards)\n",
    "importlib.reload(Game)\n",
    "importlib.reload(ScoreBoard)\n",
    "importlib.reload(BoxScore)\n",
    "importlib.reload(Stats)\n",
    "\n",
    "from ipywidgets import widgets\n",
    "\n",
    "output = widgets.Output()\n",
    "display(output)\n",
    "\n",
    "board = ScoreBoard.ScoreBoard('./data/Urbania.team', './data/out.game', scale=0.4, output=output)\n",
    "\n",
    "html = BoxScore.html(board.game.events_df, game=board.game)\n",
    "with open('aaa.html','w') as f:\n",
    "    f.write(html)"
   ]
  },
  {
   "cell_type": "markdown",
   "id": "c890c658-02eb-4057-a66f-4e679aa3bf24",
   "metadata": {
    "tags": []
   },
   "source": [
    "### Game summary"
   ]
  },
  {
   "cell_type": "code",
   "execution_count": null,
   "id": "aa0820d0-83b7-4831-b07b-2a4ec3ed3f60",
   "metadata": {
    "tags": []
   },
   "outputs": [],
   "source": [
    "import Game\n",
    "import DigitalBoards\n",
    "import ScoreBoard\n",
    "import BoxScore\n",
    "import Stats\n",
    "\n",
    "import importlib\n",
    "importlib.reload(DigitalBoards)\n",
    "importlib.reload(Game)\n",
    "importlib.reload(ScoreBoard)\n",
    "importlib.reload(BoxScore)\n",
    "importlib.reload(Stats)\n",
    "\n",
    "from ipywidgets import widgets\n",
    "\n",
    "output = widgets.Output()\n",
    "display(output)\n",
    "\n",
    "board = ScoreBoard.ScoreBoard('./data/Urbania.team', './data/out.game', scale=0.4, output=output)\n",
    "\n",
    "print(BoxScore.summary(board.game.events_df, game=board.game))"
   ]
  },
  {
   "cell_type": "markdown",
   "id": "c6e21d11-6caa-4c26-8514-a605e07bf19a",
   "metadata": {
    "tags": []
   },
   "source": [
    "### Points chart"
   ]
  },
  {
   "cell_type": "code",
   "execution_count": null,
   "id": "e317c585-c746-4624-9367-232809b35a47",
   "metadata": {
    "tags": []
   },
   "outputs": [],
   "source": [
    "import Game\n",
    "import DigitalBoards\n",
    "import ScoreBoard\n",
    "import BoxScore\n",
    "import Stats\n",
    "\n",
    "import importlib\n",
    "importlib.reload(DigitalBoards)\n",
    "importlib.reload(Game)\n",
    "importlib.reload(ScoreBoard)\n",
    "importlib.reload(BoxScore)\n",
    "importlib.reload(Stats)\n",
    "\n",
    "from ipywidgets import widgets\n",
    "\n",
    "output = widgets.Output()\n",
    "display(output)\n",
    "\n",
    "board = ScoreBoard.ScoreBoard('./data/Urbania.team', './data/out.game', scale=0.4, output=output)\n",
    "\n",
    "fig = BoxScore.pointsChart(board.game.events_df, game=board.game)\n",
    "fig"
   ]
  },
  {
   "cell_type": "markdown",
   "id": "20c0372e-d8a9-4ee7-abea-250d29258f5f",
   "metadata": {
    "tags": []
   },
   "source": [
    "### Play by Play"
   ]
  },
  {
   "cell_type": "code",
   "execution_count": null,
   "id": "a39ba77c-389f-4bfc-b0c3-fe307d564412",
   "metadata": {
    "tags": []
   },
   "outputs": [],
   "source": [
    "from ipywidgets import HTML\n",
    "\n",
    "import Game\n",
    "import DigitalBoards\n",
    "import ScoreBoard\n",
    "import BoxScore\n",
    "import Stats\n",
    "\n",
    "import importlib\n",
    "importlib.reload(DigitalBoards)\n",
    "importlib.reload(Game)\n",
    "importlib.reload(ScoreBoard)\n",
    "importlib.reload(BoxScore)\n",
    "importlib.reload(Stats)\n",
    "\n",
    "from ipywidgets import widgets\n",
    "\n",
    "output = widgets.Output()\n",
    "display(output)\n",
    "\n",
    "board = ScoreBoard.ScoreBoard('./data/Urbania.team', './data/out.game', scale=0.4, output=output)\n",
    "\n",
    "pbp = BoxScore.play_by_play(board.game.events_df, game=board.game)\n",
    "#HTML(pbp)"
   ]
  },
  {
   "cell_type": "code",
   "execution_count": null,
   "id": "d78c0304-0d9e-46d6-bcbb-7fad91bdc108",
   "metadata": {},
   "outputs": [],
   "source": [
    "html = '<div style=\"max-width: %fvw; max-height: 520px; overflow: auto; background-color: #ffffff;\">%s</div>'%(60.0,pbp)\n",
    "HTML(html)"
   ]
  },
  {
   "cell_type": "code",
   "execution_count": null,
   "id": "ef5294cf-6356-4242-aa17-23b3d174b2a3",
   "metadata": {},
   "outputs": [],
   "source": []
  }
 ],
 "metadata": {
  "kernelspec": {
   "display_name": "Python 3.11.9 (davide)",
   "language": "python",
   "name": "davide"
  },
  "language_info": {
   "codemirror_mode": {
    "name": "ipython",
    "version": 3
   },
   "file_extension": ".py",
   "mimetype": "text/x-python",
   "name": "python",
   "nbconvert_exporter": "python",
   "pygments_lexer": "ipython3",
   "version": "3.11.9"
  }
 },
 "nbformat": 4,
 "nbformat_minor": 5
}
