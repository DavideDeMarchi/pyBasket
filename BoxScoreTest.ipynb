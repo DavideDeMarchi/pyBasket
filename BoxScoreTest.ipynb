{
 "cells": [
  {
   "cell_type": "markdown",
   "id": "cc8601b7-b7de-46e7-b55c-b1de841f3f53",
   "metadata": {},
   "source": [
    "### BoxScore display"
   ]
  },
  {
   "cell_type": "code",
   "execution_count": null,
   "id": "95dd1245-ad1b-40ee-aed7-a5ea5a18b161",
   "metadata": {
    "tags": []
   },
   "outputs": [],
   "source": [
    "from ipywidgets import HTML\n",
    "\n",
    "import Game\n",
    "import DigitalBoards\n",
    "import ScoreBoard\n",
    "import BoxScore\n",
    "import Stats\n",
    "\n",
    "import importlib\n",
    "importlib.reload(DigitalBoards)\n",
    "importlib.reload(Game)\n",
    "importlib.reload(ScoreBoard)\n",
    "importlib.reload(BoxScore)\n",
    "importlib.reload(Stats)\n",
    "\n",
    "from ipywidgets import widgets\n",
    "\n",
    "output = widgets.Output()\n",
    "display(output)\n",
    "\n",
    "board = ScoreBoard.ScoreBoard('./data/Urbania.team', './data/3.a-Ritorno-SUTOR MONTEGRANARO.game', scale=0.4, output=output)\n",
    "svg = BoxScore.svg(board.game.events_df, game=board.game, width=65.0)\n",
    "HTML(svg)"
   ]
  },
  {
   "cell_type": "markdown",
   "id": "a29f6396-4883-472e-9844-ad0fba244e0b",
   "metadata": {
    "tags": []
   },
   "source": [
    "### Save Sheet to HTML format"
   ]
  },
  {
   "cell_type": "code",
   "execution_count": null,
   "id": "5f9d8f38-a299-494a-9591-51b4bdf63cdd",
   "metadata": {
    "tags": []
   },
   "outputs": [],
   "source": [
    "import Game\n",
    "import DigitalBoards\n",
    "import ScoreBoard\n",
    "import BoxScore\n",
    "import Stats\n",
    "\n",
    "import importlib\n",
    "importlib.reload(DigitalBoards)\n",
    "importlib.reload(Game)\n",
    "importlib.reload(ScoreBoard)\n",
    "importlib.reload(BoxScore)\n",
    "importlib.reload(Stats)\n",
    "\n",
    "from ipywidgets import widgets\n",
    "\n",
    "output = widgets.Output()\n",
    "display(output)\n",
    "\n",
    "board = ScoreBoard.ScoreBoard('./data/Urbania.team', './data/out.game', scale=0.4, output=output)\n",
    "\n",
    "html = BoxScore.html(board.game.events_df, game=board.game)\n",
    "with open('aaa.html','w') as f:\n",
    "    f.write(html)"
   ]
  },
  {
   "cell_type": "markdown",
   "id": "c890c658-02eb-4057-a66f-4e679aa3bf24",
   "metadata": {
    "tags": []
   },
   "source": [
    "### Game summary"
   ]
  },
  {
   "cell_type": "code",
   "execution_count": null,
   "id": "aa0820d0-83b7-4831-b07b-2a4ec3ed3f60",
   "metadata": {
    "tags": []
   },
   "outputs": [],
   "source": [
    "import Game\n",
    "import DigitalBoards\n",
    "import ScoreBoard\n",
    "import BoxScore\n",
    "import Stats\n",
    "\n",
    "import importlib\n",
    "importlib.reload(DigitalBoards)\n",
    "importlib.reload(Game)\n",
    "importlib.reload(ScoreBoard)\n",
    "importlib.reload(BoxScore)\n",
    "importlib.reload(Stats)\n",
    "\n",
    "from ipywidgets import widgets\n",
    "\n",
    "output = widgets.Output()\n",
    "display(output)\n",
    "\n",
    "board = ScoreBoard.ScoreBoard('./data/Urbania.team', './data/out.game', scale=0.4, output=output)\n",
    "\n",
    "print(BoxScore.summary(board.game.events_df, game=board.game))"
   ]
  },
  {
   "cell_type": "markdown",
   "id": "c6e21d11-6caa-4c26-8514-a605e07bf19a",
   "metadata": {
    "tags": []
   },
   "source": [
    "### Points chart"
   ]
  },
  {
   "cell_type": "code",
   "execution_count": 61,
   "id": "e317c585-c746-4624-9367-232809b35a47",
   "metadata": {
    "tags": []
   },
   "outputs": [
    {
     "data": {
      "application/vnd.jupyter.widget-view+json": {
       "model_id": "5ef112e2e6064cee98c10362bba973c0",
       "version_major": 2,
       "version_minor": 0
      },
      "text/plain": [
       "Output()"
      ]
     },
     "metadata": {},
     "output_type": "display_data"
    },
    {
     "data": {
      "application/vnd.plotly.v1+json": {
       "config": {
        "plotlyServerURL": "https://plot.ly"
       },
       "data": [
        {
         "customdata": [
          "",
          "Colotti 2P",
          "Colotti 2P",
          "Perez Da Rold 2P",
          "Diana 2P",
          "Marcantognini 2P",
          "Perez Da Rold 2P",
          "Perez Da Rold 1P",
          "Colotti 2P",
          "Diana 1P",
          "Diana 1P",
          "Diana 2P",
          "Lulaj 1P",
          "Baldassarri 1P",
          "Lulaj 1P",
          "Lulaj 1P",
          "Perez Da Rold 1P",
          "Lulaj 2P",
          "Perez Da Rold 1P",
          "Diana 2P",
          "Diana 3P",
          "Aloi 2P",
          "Pentucci 1P",
          "Pentucci 1P",
          "Campana 3P",
          "Perez Da Rold 1P",
          "Perez Da Rold 1P",
          "Aloi 2P",
          "Pentucci 2P",
          "Marcantognini 3P",
          "Marcantognini 3P",
          "Perez Da Rold 2P",
          "Colotti 2P",
          "Campana 2P",
          "Colotti 1P",
          "Perez Da Rold 1P",
          "Perez Da Rold 1P",
          "Diana 3P",
          "Aloi 2P",
          "Aloi 1P",
          "Aloi 1P",
          "Aloi 1P",
          "Aloi 3P"
         ],
         "hovertemplate": "%{y} - %{customdata} - %{x|%M':%S\"}",
         "line": {
          "color": "green"
         },
         "marker": {
          "color": "green"
         },
         "mode": "lines+markers+text",
         "name": "PALLACANESTRO URBANIA",
         "text": [
          "0",
          "2",
          "4",
          "6",
          "8",
          "10",
          "12",
          "13",
          "15",
          "16",
          "17",
          "19",
          "20",
          "21",
          "22",
          "23",
          "24",
          "26",
          "27",
          "29",
          "32",
          "34",
          "35",
          "36",
          "39",
          "40",
          "41",
          "43",
          "45",
          "48",
          "51",
          "53",
          "55",
          "57",
          "58",
          "59",
          "60",
          "63",
          "65",
          "66",
          "67",
          "68",
          "71"
         ],
         "textfont": {
          "color": "green"
         },
         "textposition": [
          "top center",
          "bottom center",
          "bottom center",
          "bottom center",
          "bottom center",
          "bottom center",
          "bottom center",
          "bottom right",
          "bottom center",
          "bottom right",
          "bottom right",
          "top center",
          "middle right",
          "bottom right",
          "bottom right",
          "bottom right",
          "bottom right",
          "bottom center",
          "bottom right",
          "bottom center",
          "top center",
          "top center",
          "middle right",
          "top right",
          "bottom center",
          "bottom right",
          "bottom right",
          "bottom center",
          "bottom center",
          "bottom center",
          "bottom center",
          "bottom center",
          "bottom center",
          "bottom center",
          "bottom right",
          "bottom right",
          "bottom right",
          "bottom center",
          "bottom center",
          "bottom right",
          "middle right",
          "bottom right",
          "top center"
         ],
         "type": "scatter",
         "x": [
          "2025-02-10T00:00:00",
          "2025-02-10T00:00:56",
          "2025-02-10T00:02:43",
          "2025-02-10T00:02:57",
          "2025-02-10T00:03:25",
          "2025-02-10T00:03:46",
          "2025-02-10T00:04:23",
          "2025-02-10T00:04:23",
          "2025-02-10T00:05:11",
          "2025-02-10T00:05:41",
          "2025-02-10T00:05:41",
          "2025-02-10T00:06:26",
          "2025-02-10T00:09:22",
          "2025-02-10T00:09:31",
          "2025-02-10T00:10:06",
          "2025-02-10T00:10:06",
          "2025-02-10T00:11:52",
          "2025-02-10T00:12:03",
          "2025-02-10T00:12:30",
          "2025-02-10T00:13:59",
          "2025-02-10T00:15:03",
          "2025-02-10T00:15:33",
          "2025-02-10T00:18:17",
          "2025-02-10T00:18:17",
          "2025-02-10T00:20:49",
          "2025-02-10T00:25:32",
          "2025-02-10T00:25:32",
          "2025-02-10T00:25:56",
          "2025-02-10T00:27:41",
          "2025-02-10T00:29:25",
          "2025-02-10T00:29:52",
          "2025-02-10T00:30:30",
          "2025-02-10T00:33:34",
          "2025-02-10T00:35:21",
          "2025-02-10T00:35:53",
          "2025-02-10T00:36:22",
          "2025-02-10T00:36:26",
          "2025-02-10T00:36:56",
          "2025-02-10T00:37:24",
          "2025-02-10T00:37:24",
          "2025-02-10T00:38:25",
          "2025-02-10T00:38:25",
          "2025-02-10T00:39:27"
         ],
         "y": [
          0,
          2,
          4,
          6,
          8,
          10,
          12,
          13,
          15,
          16,
          17,
          19,
          20,
          21,
          22,
          23,
          24,
          26,
          27,
          29,
          32,
          34,
          35,
          36,
          39,
          40,
          41,
          43,
          45,
          48,
          51,
          53,
          55,
          57,
          58,
          59,
          60,
          63,
          65,
          66,
          67,
          68,
          71
         ]
        },
        {
         "customdata": [
          "",
          "Carancini 3P",
          "Ortenzi 3P",
          "Cagnacci 3P",
          "Cagnacci 3P",
          "Cagnacci 2P",
          "Quinzi 1P",
          "Quinzi 1P",
          "Cagnacci 2P",
          "Quinzi 1P",
          "Quinzi 1P",
          "Carancini 3P",
          "Strappato 3P",
          "Ortenzi 1P",
          "Cagnacci 2P",
          "Cagnacci 2P",
          "Mentonelli 1P",
          "Ortenzi 3P",
          "Cagnacci 2P",
          "Cagnacci 3P",
          "Carancini 2P",
          "Carancini 3P",
          "Ortenzi 3P",
          "Ortenzi 1P",
          "Cagnacci 2P",
          "Cagnacci 2P",
          "Quinzi 3P",
          "Cagnacci 1P",
          "Bini 2P",
          "Cagnacci 2P",
          "Scabini 1P",
          "Cagnacci 1P",
          "Cagnacci 1P",
          "Ortenzi 2P",
          "Carancini 3P",
          "Carancini 1P"
         ],
         "hovertemplate": "%{y} - %{customdata} - %{x|%M':%S\"}",
         "line": {
          "color": "red"
         },
         "marker": {
          "color": "red"
         },
         "mode": "lines+markers+text",
         "name": "GIOVANE ROBUR OSIMO",
         "text": [
          "0",
          "3",
          "6",
          "9",
          "12",
          "14",
          "15",
          "16",
          "18",
          "19",
          "20",
          "23",
          "26",
          "27",
          "29",
          "31",
          "32",
          "35",
          "37",
          "40",
          "42",
          "45",
          "48",
          "49",
          "51",
          "53",
          "56",
          "57",
          "59",
          "61",
          "62",
          "63",
          "64",
          "66",
          "69",
          "70"
         ],
         "textfont": {
          "color": "red"
         },
         "textposition": [
          "bottom center",
          "top center",
          "top center",
          "top center",
          "top center",
          "top center",
          "top left",
          "top left",
          "top center",
          "middle left",
          "top left",
          "top center",
          "top center",
          "middle left",
          "top center",
          "top center",
          "bottom left",
          "top center",
          "top center",
          "top center",
          "top center",
          "top center",
          "top center",
          "middle left",
          "top center",
          "top center",
          "top center",
          "top left",
          "top center",
          "top center",
          "top left",
          "top left",
          "top left",
          "top center",
          "top center",
          "bottom left"
         ],
         "type": "scatter",
         "x": [
          "2025-02-10T00:00:00",
          "2025-02-10T00:00:22",
          "2025-02-10T00:02:43",
          "2025-02-10T00:02:43",
          "2025-02-10T00:03:09",
          "2025-02-10T00:04:04",
          "2025-02-10T00:04:33",
          "2025-02-10T00:04:33",
          "2025-02-10T00:05:25",
          "2025-02-10T00:07:41",
          "2025-02-10T00:07:41",
          "2025-02-10T00:08:30",
          "2025-02-10T00:10:28",
          "2025-02-10T00:11:27",
          "2025-02-10T00:13:37",
          "2025-02-10T00:14:40",
          "2025-02-10T00:15:05",
          "2025-02-10T00:15:46",
          "2025-02-10T00:18:39",
          "2025-02-10T00:19:05",
          "2025-02-10T00:19:18",
          "2025-02-10T00:21:00",
          "2025-02-10T00:22:10",
          "2025-02-10T00:22:52",
          "2025-02-10T00:23:32",
          "2025-02-10T00:25:12",
          "2025-02-10T00:26:17",
          "2025-02-10T00:27:54",
          "2025-02-10T00:28:17",
          "2025-02-10T00:28:41",
          "2025-02-10T00:28:41",
          "2025-02-10T00:28:41",
          "2025-02-10T00:28:41",
          "2025-02-10T00:33:11",
          "2025-02-10T00:33:58",
          "2025-02-10T00:39:56"
         ],
         "y": [
          0,
          3,
          6,
          9,
          12,
          14,
          15,
          16,
          18,
          19,
          20,
          23,
          26,
          27,
          29,
          31,
          32,
          35,
          37,
          40,
          42,
          45,
          48,
          49,
          51,
          53,
          56,
          57,
          59,
          61,
          62,
          63,
          64,
          66,
          69,
          70
         ]
        }
       ],
       "layout": {
        "annotations": [
         {
          "showarrow": false,
          "text": "Q1: 21 - 23",
          "x": "2025-02-10T00:05:00",
          "y": 79
         },
         {
          "showarrow": false,
          "text": "Q2: 15 - 19 (36 - 42)",
          "x": "2025-02-10T00:15:00",
          "y": 79
         },
         {
          "showarrow": false,
          "text": "Q3: 15 - 22 (51 - 64)",
          "x": "2025-02-10T00:25:00",
          "y": 79
         },
         {
          "showarrow": false,
          "text": "Q4: 20 - 6 (71 - 70)",
          "x": "2025-02-10T00:35:00",
          "y": 79
         }
        ],
        "autosize": true,
        "font": {
         "family": "Arial",
         "size": 13
        },
        "legend": {
         "orientation": "v",
         "x": 1,
         "xanchor": "right",
         "y": 1.2,
         "yanchor": "top"
        },
        "margin": {
         "b": 30,
         "l": 26,
         "pad": 0,
         "r": 10,
         "t": 30
        },
        "shapes": [
         {
          "line": {
           "color": "rgb(90,90,90)",
           "dash": "dash",
           "width": 2
          },
          "type": "line",
          "x0": "2025-02-10T00:10:00",
          "x1": "2025-02-10T00:10:00",
          "xref": "x",
          "y0": 0,
          "y1": 1,
          "yref": "y domain"
         },
         {
          "line": {
           "color": "rgb(90,90,90)",
           "dash": "dash",
           "width": 2
          },
          "type": "line",
          "x0": "2025-02-10T00:20:00",
          "x1": "2025-02-10T00:20:00",
          "xref": "x",
          "y0": 0,
          "y1": 1,
          "yref": "y domain"
         },
         {
          "line": {
           "color": "rgb(90,90,90)",
           "dash": "dash",
           "width": 2
          },
          "type": "line",
          "x0": "2025-02-10T00:30:00",
          "x1": "2025-02-10T00:30:00",
          "xref": "x",
          "y0": 0,
          "y1": 1,
          "yref": "y domain"
         },
         {
          "line": {
           "color": "rgb(90,90,90)",
           "dash": "dash",
           "width": 2
          },
          "type": "line",
          "x0": "2025-02-10T00:40:00",
          "x1": "2025-02-10T00:40:00",
          "xref": "x",
          "y0": 0,
          "y1": 1,
          "yref": "y domain"
         },
         {
          "line": {
           "color": "rgb(90,90,90)",
           "dash": "dash",
           "width": 2
          },
          "type": "line",
          "x0": "2025-02-10T00:45:00",
          "x1": "2025-02-10T00:45:00",
          "xref": "x",
          "y0": 0,
          "y1": 1,
          "yref": "y domain"
         },
         {
          "line": {
           "color": "rgb(90,90,90)",
           "dash": "dash",
           "width": 2
          },
          "type": "line",
          "x0": "2025-02-10T00:50:00",
          "x1": "2025-02-10T00:50:00",
          "xref": "x",
          "y0": 0,
          "y1": 1,
          "yref": "y domain"
         },
         {
          "line": {
           "color": "rgb(90,90,90)",
           "dash": "dash",
           "width": 2
          },
          "type": "line",
          "x0": "2025-02-10T00:55:00",
          "x1": "2025-02-10T00:55:00",
          "xref": "x",
          "y0": 0,
          "y1": 1,
          "yref": "y domain"
         },
         {
          "line": {
           "color": "rgb(90,90,90)",
           "dash": "dash",
           "width": 2
          },
          "type": "line",
          "x0": "2025-02-10T01:00:00",
          "x1": "2025-02-10T01:00:00",
          "xref": "x",
          "y0": 0,
          "y1": 1,
          "yref": "y domain"
         }
        ],
        "template": {
         "data": {
          "bar": [
           {
            "error_x": {
             "color": "#f2f5fa"
            },
            "error_y": {
             "color": "#f2f5fa"
            },
            "marker": {
             "line": {
              "color": "rgb(17,17,17)",
              "width": 0.5
             },
             "pattern": {
              "fillmode": "overlay",
              "size": 10,
              "solidity": 0.2
             }
            },
            "type": "bar"
           }
          ],
          "barpolar": [
           {
            "marker": {
             "line": {
              "color": "rgb(17,17,17)",
              "width": 0.5
             },
             "pattern": {
              "fillmode": "overlay",
              "size": 10,
              "solidity": 0.2
             }
            },
            "type": "barpolar"
           }
          ],
          "carpet": [
           {
            "aaxis": {
             "endlinecolor": "#A2B1C6",
             "gridcolor": "#506784",
             "linecolor": "#506784",
             "minorgridcolor": "#506784",
             "startlinecolor": "#A2B1C6"
            },
            "baxis": {
             "endlinecolor": "#A2B1C6",
             "gridcolor": "#506784",
             "linecolor": "#506784",
             "minorgridcolor": "#506784",
             "startlinecolor": "#A2B1C6"
            },
            "type": "carpet"
           }
          ],
          "choropleth": [
           {
            "colorbar": {
             "outlinewidth": 0,
             "ticks": ""
            },
            "type": "choropleth"
           }
          ],
          "contour": [
           {
            "colorbar": {
             "outlinewidth": 0,
             "ticks": ""
            },
            "colorscale": [
             [
              0,
              "#0d0887"
             ],
             [
              0.1111111111111111,
              "#46039f"
             ],
             [
              0.2222222222222222,
              "#7201a8"
             ],
             [
              0.3333333333333333,
              "#9c179e"
             ],
             [
              0.4444444444444444,
              "#bd3786"
             ],
             [
              0.5555555555555556,
              "#d8576b"
             ],
             [
              0.6666666666666666,
              "#ed7953"
             ],
             [
              0.7777777777777778,
              "#fb9f3a"
             ],
             [
              0.8888888888888888,
              "#fdca26"
             ],
             [
              1,
              "#f0f921"
             ]
            ],
            "type": "contour"
           }
          ],
          "contourcarpet": [
           {
            "colorbar": {
             "outlinewidth": 0,
             "ticks": ""
            },
            "type": "contourcarpet"
           }
          ],
          "heatmap": [
           {
            "colorbar": {
             "outlinewidth": 0,
             "ticks": ""
            },
            "colorscale": [
             [
              0,
              "#0d0887"
             ],
             [
              0.1111111111111111,
              "#46039f"
             ],
             [
              0.2222222222222222,
              "#7201a8"
             ],
             [
              0.3333333333333333,
              "#9c179e"
             ],
             [
              0.4444444444444444,
              "#bd3786"
             ],
             [
              0.5555555555555556,
              "#d8576b"
             ],
             [
              0.6666666666666666,
              "#ed7953"
             ],
             [
              0.7777777777777778,
              "#fb9f3a"
             ],
             [
              0.8888888888888888,
              "#fdca26"
             ],
             [
              1,
              "#f0f921"
             ]
            ],
            "type": "heatmap"
           }
          ],
          "heatmapgl": [
           {
            "colorbar": {
             "outlinewidth": 0,
             "ticks": ""
            },
            "colorscale": [
             [
              0,
              "#0d0887"
             ],
             [
              0.1111111111111111,
              "#46039f"
             ],
             [
              0.2222222222222222,
              "#7201a8"
             ],
             [
              0.3333333333333333,
              "#9c179e"
             ],
             [
              0.4444444444444444,
              "#bd3786"
             ],
             [
              0.5555555555555556,
              "#d8576b"
             ],
             [
              0.6666666666666666,
              "#ed7953"
             ],
             [
              0.7777777777777778,
              "#fb9f3a"
             ],
             [
              0.8888888888888888,
              "#fdca26"
             ],
             [
              1,
              "#f0f921"
             ]
            ],
            "type": "heatmapgl"
           }
          ],
          "histogram": [
           {
            "marker": {
             "pattern": {
              "fillmode": "overlay",
              "size": 10,
              "solidity": 0.2
             }
            },
            "type": "histogram"
           }
          ],
          "histogram2d": [
           {
            "colorbar": {
             "outlinewidth": 0,
             "ticks": ""
            },
            "colorscale": [
             [
              0,
              "#0d0887"
             ],
             [
              0.1111111111111111,
              "#46039f"
             ],
             [
              0.2222222222222222,
              "#7201a8"
             ],
             [
              0.3333333333333333,
              "#9c179e"
             ],
             [
              0.4444444444444444,
              "#bd3786"
             ],
             [
              0.5555555555555556,
              "#d8576b"
             ],
             [
              0.6666666666666666,
              "#ed7953"
             ],
             [
              0.7777777777777778,
              "#fb9f3a"
             ],
             [
              0.8888888888888888,
              "#fdca26"
             ],
             [
              1,
              "#f0f921"
             ]
            ],
            "type": "histogram2d"
           }
          ],
          "histogram2dcontour": [
           {
            "colorbar": {
             "outlinewidth": 0,
             "ticks": ""
            },
            "colorscale": [
             [
              0,
              "#0d0887"
             ],
             [
              0.1111111111111111,
              "#46039f"
             ],
             [
              0.2222222222222222,
              "#7201a8"
             ],
             [
              0.3333333333333333,
              "#9c179e"
             ],
             [
              0.4444444444444444,
              "#bd3786"
             ],
             [
              0.5555555555555556,
              "#d8576b"
             ],
             [
              0.6666666666666666,
              "#ed7953"
             ],
             [
              0.7777777777777778,
              "#fb9f3a"
             ],
             [
              0.8888888888888888,
              "#fdca26"
             ],
             [
              1,
              "#f0f921"
             ]
            ],
            "type": "histogram2dcontour"
           }
          ],
          "mesh3d": [
           {
            "colorbar": {
             "outlinewidth": 0,
             "ticks": ""
            },
            "type": "mesh3d"
           }
          ],
          "parcoords": [
           {
            "line": {
             "colorbar": {
              "outlinewidth": 0,
              "ticks": ""
             }
            },
            "type": "parcoords"
           }
          ],
          "pie": [
           {
            "automargin": true,
            "type": "pie"
           }
          ],
          "scatter": [
           {
            "marker": {
             "line": {
              "color": "#283442"
             }
            },
            "type": "scatter"
           }
          ],
          "scatter3d": [
           {
            "line": {
             "colorbar": {
              "outlinewidth": 0,
              "ticks": ""
             }
            },
            "marker": {
             "colorbar": {
              "outlinewidth": 0,
              "ticks": ""
             }
            },
            "type": "scatter3d"
           }
          ],
          "scattercarpet": [
           {
            "marker": {
             "colorbar": {
              "outlinewidth": 0,
              "ticks": ""
             }
            },
            "type": "scattercarpet"
           }
          ],
          "scattergeo": [
           {
            "marker": {
             "colorbar": {
              "outlinewidth": 0,
              "ticks": ""
             }
            },
            "type": "scattergeo"
           }
          ],
          "scattergl": [
           {
            "marker": {
             "line": {
              "color": "#283442"
             }
            },
            "type": "scattergl"
           }
          ],
          "scattermapbox": [
           {
            "marker": {
             "colorbar": {
              "outlinewidth": 0,
              "ticks": ""
             }
            },
            "type": "scattermapbox"
           }
          ],
          "scatterpolar": [
           {
            "marker": {
             "colorbar": {
              "outlinewidth": 0,
              "ticks": ""
             }
            },
            "type": "scatterpolar"
           }
          ],
          "scatterpolargl": [
           {
            "marker": {
             "colorbar": {
              "outlinewidth": 0,
              "ticks": ""
             }
            },
            "type": "scatterpolargl"
           }
          ],
          "scatterternary": [
           {
            "marker": {
             "colorbar": {
              "outlinewidth": 0,
              "ticks": ""
             }
            },
            "type": "scatterternary"
           }
          ],
          "surface": [
           {
            "colorbar": {
             "outlinewidth": 0,
             "ticks": ""
            },
            "colorscale": [
             [
              0,
              "#0d0887"
             ],
             [
              0.1111111111111111,
              "#46039f"
             ],
             [
              0.2222222222222222,
              "#7201a8"
             ],
             [
              0.3333333333333333,
              "#9c179e"
             ],
             [
              0.4444444444444444,
              "#bd3786"
             ],
             [
              0.5555555555555556,
              "#d8576b"
             ],
             [
              0.6666666666666666,
              "#ed7953"
             ],
             [
              0.7777777777777778,
              "#fb9f3a"
             ],
             [
              0.8888888888888888,
              "#fdca26"
             ],
             [
              1,
              "#f0f921"
             ]
            ],
            "type": "surface"
           }
          ],
          "table": [
           {
            "cells": {
             "fill": {
              "color": "#506784"
             },
             "line": {
              "color": "rgb(17,17,17)"
             }
            },
            "header": {
             "fill": {
              "color": "#2a3f5f"
             },
             "line": {
              "color": "rgb(17,17,17)"
             }
            },
            "type": "table"
           }
          ]
         },
         "layout": {
          "annotationdefaults": {
           "arrowcolor": "#f2f5fa",
           "arrowhead": 0,
           "arrowwidth": 1
          },
          "autotypenumbers": "strict",
          "coloraxis": {
           "colorbar": {
            "outlinewidth": 0,
            "ticks": ""
           }
          },
          "colorscale": {
           "diverging": [
            [
             0,
             "#8e0152"
            ],
            [
             0.1,
             "#c51b7d"
            ],
            [
             0.2,
             "#de77ae"
            ],
            [
             0.3,
             "#f1b6da"
            ],
            [
             0.4,
             "#fde0ef"
            ],
            [
             0.5,
             "#f7f7f7"
            ],
            [
             0.6,
             "#e6f5d0"
            ],
            [
             0.7,
             "#b8e186"
            ],
            [
             0.8,
             "#7fbc41"
            ],
            [
             0.9,
             "#4d9221"
            ],
            [
             1,
             "#276419"
            ]
           ],
           "sequential": [
            [
             0,
             "#0d0887"
            ],
            [
             0.1111111111111111,
             "#46039f"
            ],
            [
             0.2222222222222222,
             "#7201a8"
            ],
            [
             0.3333333333333333,
             "#9c179e"
            ],
            [
             0.4444444444444444,
             "#bd3786"
            ],
            [
             0.5555555555555556,
             "#d8576b"
            ],
            [
             0.6666666666666666,
             "#ed7953"
            ],
            [
             0.7777777777777778,
             "#fb9f3a"
            ],
            [
             0.8888888888888888,
             "#fdca26"
            ],
            [
             1,
             "#f0f921"
            ]
           ],
           "sequentialminus": [
            [
             0,
             "#0d0887"
            ],
            [
             0.1111111111111111,
             "#46039f"
            ],
            [
             0.2222222222222222,
             "#7201a8"
            ],
            [
             0.3333333333333333,
             "#9c179e"
            ],
            [
             0.4444444444444444,
             "#bd3786"
            ],
            [
             0.5555555555555556,
             "#d8576b"
            ],
            [
             0.6666666666666666,
             "#ed7953"
            ],
            [
             0.7777777777777778,
             "#fb9f3a"
            ],
            [
             0.8888888888888888,
             "#fdca26"
            ],
            [
             1,
             "#f0f921"
            ]
           ]
          },
          "colorway": [
           "#636efa",
           "#EF553B",
           "#00cc96",
           "#ab63fa",
           "#FFA15A",
           "#19d3f3",
           "#FF6692",
           "#B6E880",
           "#FF97FF",
           "#FECB52"
          ],
          "font": {
           "color": "#f2f5fa"
          },
          "geo": {
           "bgcolor": "rgb(17,17,17)",
           "lakecolor": "rgb(17,17,17)",
           "landcolor": "rgb(17,17,17)",
           "showlakes": true,
           "showland": true,
           "subunitcolor": "#506784"
          },
          "hoverlabel": {
           "align": "left"
          },
          "hovermode": "closest",
          "mapbox": {
           "style": "dark"
          },
          "paper_bgcolor": "rgb(17,17,17)",
          "plot_bgcolor": "rgb(17,17,17)",
          "polar": {
           "angularaxis": {
            "gridcolor": "#506784",
            "linecolor": "#506784",
            "ticks": ""
           },
           "bgcolor": "rgb(17,17,17)",
           "radialaxis": {
            "gridcolor": "#506784",
            "linecolor": "#506784",
            "ticks": ""
           }
          },
          "scene": {
           "xaxis": {
            "backgroundcolor": "rgb(17,17,17)",
            "gridcolor": "#506784",
            "gridwidth": 2,
            "linecolor": "#506784",
            "showbackground": true,
            "ticks": "",
            "zerolinecolor": "#C8D4E3"
           },
           "yaxis": {
            "backgroundcolor": "rgb(17,17,17)",
            "gridcolor": "#506784",
            "gridwidth": 2,
            "linecolor": "#506784",
            "showbackground": true,
            "ticks": "",
            "zerolinecolor": "#C8D4E3"
           },
           "zaxis": {
            "backgroundcolor": "rgb(17,17,17)",
            "gridcolor": "#506784",
            "gridwidth": 2,
            "linecolor": "#506784",
            "showbackground": true,
            "ticks": "",
            "zerolinecolor": "#C8D4E3"
           }
          },
          "shapedefaults": {
           "line": {
            "color": "#f2f5fa"
           }
          },
          "sliderdefaults": {
           "bgcolor": "#C8D4E3",
           "bordercolor": "rgb(17,17,17)",
           "borderwidth": 1,
           "tickwidth": 0
          },
          "ternary": {
           "aaxis": {
            "gridcolor": "#506784",
            "linecolor": "#506784",
            "ticks": ""
           },
           "baxis": {
            "gridcolor": "#506784",
            "linecolor": "#506784",
            "ticks": ""
           },
           "bgcolor": "rgb(17,17,17)",
           "caxis": {
            "gridcolor": "#506784",
            "linecolor": "#506784",
            "ticks": ""
           }
          },
          "title": {
           "x": 0.05
          },
          "updatemenudefaults": {
           "bgcolor": "#506784",
           "borderwidth": 0
          },
          "xaxis": {
           "automargin": true,
           "gridcolor": "#283442",
           "linecolor": "#506784",
           "ticks": "",
           "title": {
            "standoff": 15
           },
           "zerolinecolor": "#283442",
           "zerolinewidth": 2
          },
          "yaxis": {
           "automargin": true,
           "gridcolor": "#283442",
           "linecolor": "#506784",
           "ticks": "",
           "title": {
            "standoff": 15
           },
           "zerolinecolor": "#283442",
           "zerolinewidth": 2
          }
         }
        },
        "title": {
         "font": {
          "family": "Arial"
         },
         "text": "<span style='font-size:22px; font-weight: 700;'>PALLACANESTRO URBANIA - GIOVANE ROBUR OSIMO&nbsp;&nbsp;&nbsp;&nbsp;71 - 70</span>",
         "x": 0.02,
         "xanchor": "left",
         "y": 0.94,
         "yanchor": "top"
        },
        "xaxis": {
         "range": [
          "2025-02-09T23:59:54",
          "2025-02-10T00:40:06"
         ],
         "tickmode": "array",
         "ticktext": [
          "0'",
          "1'",
          "2'",
          "3'",
          "4'",
          "5'",
          "6'",
          "7'",
          "8'",
          "9'",
          "10'",
          "11'",
          "12'",
          "13'",
          "14'",
          "15'",
          "16'",
          "17'",
          "18'",
          "19'",
          "20'",
          "21'",
          "22'",
          "23'",
          "24'",
          "25'",
          "26'",
          "27'",
          "28'",
          "29'",
          "30'",
          "31'",
          "32'",
          "33'",
          "34'",
          "35'",
          "36'",
          "37'",
          "38'",
          "39'",
          "40'"
         ],
         "tickvals": [
          "2025-02-10T00:00:00",
          "2025-02-10T00:01:00",
          "2025-02-10T00:02:00",
          "2025-02-10T00:03:00",
          "2025-02-10T00:04:00",
          "2025-02-10T00:05:00",
          "2025-02-10T00:06:00",
          "2025-02-10T00:07:00",
          "2025-02-10T00:08:00",
          "2025-02-10T00:09:00",
          "2025-02-10T00:10:00",
          "2025-02-10T00:11:00",
          "2025-02-10T00:12:00",
          "2025-02-10T00:13:00",
          "2025-02-10T00:14:00",
          "2025-02-10T00:15:00",
          "2025-02-10T00:16:00",
          "2025-02-10T00:17:00",
          "2025-02-10T00:18:00",
          "2025-02-10T00:19:00",
          "2025-02-10T00:20:00",
          "2025-02-10T00:21:00",
          "2025-02-10T00:22:00",
          "2025-02-10T00:23:00",
          "2025-02-10T00:24:00",
          "2025-02-10T00:25:00",
          "2025-02-10T00:26:00",
          "2025-02-10T00:27:00",
          "2025-02-10T00:28:00",
          "2025-02-10T00:29:00",
          "2025-02-10T00:30:00",
          "2025-02-10T00:31:00",
          "2025-02-10T00:32:00",
          "2025-02-10T00:33:00",
          "2025-02-10T00:34:00",
          "2025-02-10T00:35:00",
          "2025-02-10T00:36:00",
          "2025-02-10T00:37:00",
          "2025-02-10T00:38:00",
          "2025-02-10T00:39:00",
          "2025-02-10T00:40:00"
         ],
         "title": {
          "text": "Minuti"
         },
         "type": "date"
        },
        "yaxis": {
         "range": [
          0,
          81
         ],
         "title": {
          "text": "Punti"
         },
         "type": "linear"
        }
       }
      },
      "image/png": "[encoded data removed]",
      "text/html": [
       "<div>                            <div id=\"7a4bdaf2-c8dd-445a-b35e-84a285ea14bc\" class=\"plotly-graph-div\" style=\"height:450px; width:100%;\"></div>            <script type=\"text/javascript\">                require([\"plotly\"], function(Plotly) {                    window.PLOTLYENV=window.PLOTLYENV || {};                                    if (document.getElementById(\"7a4bdaf2-c8dd-445a-b35e-84a285ea14bc\")) {                    Plotly.newPlot(                        \"7a4bdaf2-c8dd-445a-b35e-84a285ea14bc\",                        [{\"customdata\":[\"\",\"Colotti 2P\",\"Colotti 2P\",\"Perez Da Rold 2P\",\"Diana 2P\",\"Marcantognini 2P\",\"Perez Da Rold 2P\",\"Perez Da Rold 1P\",\"Colotti 2P\",\"Diana 1P\",\"Diana 1P\",\"Diana 2P\",\"Lulaj 1P\",\"Baldassarri 1P\",\"Lulaj 1P\",\"Lulaj 1P\",\"Perez Da Rold 1P\",\"Lulaj 2P\",\"Perez Da Rold 1P\",\"Diana 2P\",\"Diana 3P\",\"Aloi 2P\",\"Pentucci 1P\",\"Pentucci 1P\",\"Campana 3P\",\"Perez Da Rold 1P\",\"Perez Da Rold 1P\",\"Aloi 2P\",\"Pentucci 2P\",\"Marcantognini 3P\",\"Marcantognini 3P\",\"Perez Da Rold 2P\",\"Colotti 2P\",\"Campana 2P\",\"Colotti 1P\",\"Perez Da Rold 1P\",\"Perez Da Rold 1P\",\"Diana 3P\",\"Aloi 2P\",\"Aloi 1P\",\"Aloi 1P\",\"Aloi 1P\",\"Aloi 3P\"],\"hovertemplate\":\"%{y} - %{customdata} - %{x|%M':%S\\\"}\",\"line\":{\"color\":\"green\"},\"marker\":{\"color\":\"green\"},\"mode\":\"lines+markers+text\",\"name\":\"PALLACANESTRO URBANIA\",\"text\":[\"0\",\"2\",\"4\",\"6\",\"8\",\"10\",\"12\",\"13\",\"15\",\"16\",\"17\",\"19\",\"20\",\"21\",\"22\",\"23\",\"24\",\"26\",\"27\",\"29\",\"32\",\"34\",\"35\",\"36\",\"39\",\"40\",\"41\",\"43\",\"45\",\"48\",\"51\",\"53\",\"55\",\"57\",\"58\",\"59\",\"60\",\"63\",\"65\",\"66\",\"67\",\"68\",\"71\"],\"textposition\":[\"top center\",\"bottom center\",\"bottom center\",\"bottom center\",\"bottom center\",\"bottom center\",\"bottom center\",\"bottom right\",\"bottom center\",\"bottom right\",\"bottom right\",\"top center\",\"middle right\",\"bottom right\",\"bottom right\",\"bottom right\",\"bottom right\",\"bottom center\",\"bottom right\",\"bottom center\",\"top center\",\"top center\",\"middle right\",\"top right\",\"bottom center\",\"bottom right\",\"bottom right\",\"bottom center\",\"bottom center\",\"bottom center\",\"bottom center\",\"bottom center\",\"bottom center\",\"bottom center\",\"bottom right\",\"bottom right\",\"bottom right\",\"bottom center\",\"bottom center\",\"bottom right\",\"middle right\",\"bottom right\",\"top center\"],\"x\":[\"2025-02-10T00:00:00\",\"2025-02-10T00:00:56\",\"2025-02-10T00:02:43\",\"2025-02-10T00:02:57\",\"2025-02-10T00:03:25\",\"2025-02-10T00:03:46\",\"2025-02-10T00:04:23\",\"2025-02-10T00:04:23\",\"2025-02-10T00:05:11\",\"2025-02-10T00:05:41\",\"2025-02-10T00:05:41\",\"2025-02-10T00:06:26\",\"2025-02-10T00:09:22\",\"2025-02-10T00:09:31\",\"2025-02-10T00:10:06\",\"2025-02-10T00:10:06\",\"2025-02-10T00:11:52\",\"2025-02-10T00:12:03\",\"2025-02-10T00:12:30\",\"2025-02-10T00:13:59\",\"2025-02-10T00:15:03\",\"2025-02-10T00:15:33\",\"2025-02-10T00:18:17\",\"2025-02-10T00:18:17\",\"2025-02-10T00:20:49\",\"2025-02-10T00:25:32\",\"2025-02-10T00:25:32\",\"2025-02-10T00:25:56\",\"2025-02-10T00:27:41\",\"2025-02-10T00:29:25\",\"2025-02-10T00:29:52\",\"2025-02-10T00:30:30\",\"2025-02-10T00:33:34\",\"2025-02-10T00:35:21\",\"2025-02-10T00:35:53\",\"2025-02-10T00:36:22\",\"2025-02-10T00:36:26\",\"2025-02-10T00:36:56\",\"2025-02-10T00:37:24\",\"2025-02-10T00:37:24\",\"2025-02-10T00:38:25\",\"2025-02-10T00:38:25\",\"2025-02-10T00:39:27\"],\"y\":[0,2,4,6,8,10,12,13,15,16,17,19,20,21,22,23,24,26,27,29,32,34,35,36,39,40,41,43,45,48,51,53,55,57,58,59,60,63,65,66,67,68,71],\"type\":\"scatter\",\"textfont\":{\"color\":\"green\"}},{\"customdata\":[\"\",\"Carancini 3P\",\"Ortenzi 3P\",\"Cagnacci 3P\",\"Cagnacci 3P\",\"Cagnacci 2P\",\"Quinzi 1P\",\"Quinzi 1P\",\"Cagnacci 2P\",\"Quinzi 1P\",\"Quinzi 1P\",\"Carancini 3P\",\"Strappato 3P\",\"Ortenzi 1P\",\"Cagnacci 2P\",\"Cagnacci 2P\",\"Mentonelli 1P\",\"Ortenzi 3P\",\"Cagnacci 2P\",\"Cagnacci 3P\",\"Carancini 2P\",\"Carancini 3P\",\"Ortenzi 3P\",\"Ortenzi 1P\",\"Cagnacci 2P\",\"Cagnacci 2P\",\"Quinzi 3P\",\"Cagnacci 1P\",\"Bini 2P\",\"Cagnacci 2P\",\"Scabini 1P\",\"Cagnacci 1P\",\"Cagnacci 1P\",\"Ortenzi 2P\",\"Carancini 3P\",\"Carancini 1P\"],\"hovertemplate\":\"%{y} - %{customdata} - %{x|%M':%S\\\"}\",\"line\":{\"color\":\"red\"},\"marker\":{\"color\":\"red\"},\"mode\":\"lines+markers+text\",\"name\":\"GIOVANE ROBUR OSIMO\",\"text\":[\"0\",\"3\",\"6\",\"9\",\"12\",\"14\",\"15\",\"16\",\"18\",\"19\",\"20\",\"23\",\"26\",\"27\",\"29\",\"31\",\"32\",\"35\",\"37\",\"40\",\"42\",\"45\",\"48\",\"49\",\"51\",\"53\",\"56\",\"57\",\"59\",\"61\",\"62\",\"63\",\"64\",\"66\",\"69\",\"70\"],\"textposition\":[\"bottom center\",\"top center\",\"top center\",\"top center\",\"top center\",\"top center\",\"top left\",\"top left\",\"top center\",\"middle left\",\"top left\",\"top center\",\"top center\",\"middle left\",\"top center\",\"top center\",\"bottom left\",\"top center\",\"top center\",\"top center\",\"top center\",\"top center\",\"top center\",\"middle left\",\"top center\",\"top center\",\"top center\",\"top left\",\"top center\",\"top center\",\"top left\",\"top left\",\"top left\",\"top center\",\"top center\",\"bottom left\"],\"x\":[\"2025-02-10T00:00:00\",\"2025-02-10T00:00:22\",\"2025-02-10T00:02:43\",\"2025-02-10T00:02:43\",\"2025-02-10T00:03:09\",\"2025-02-10T00:04:04\",\"2025-02-10T00:04:33\",\"2025-02-10T00:04:33\",\"2025-02-10T00:05:25\",\"2025-02-10T00:07:41\",\"2025-02-10T00:07:41\",\"2025-02-10T00:08:30\",\"2025-02-10T00:10:28\",\"2025-02-10T00:11:27\",\"2025-02-10T00:13:37\",\"2025-02-10T00:14:40\",\"2025-02-10T00:15:05\",\"2025-02-10T00:15:46\",\"2025-02-10T00:18:39\",\"2025-02-10T00:19:05\",\"2025-02-10T00:19:18\",\"2025-02-10T00:21:00\",\"2025-02-10T00:22:10\",\"2025-02-10T00:22:52\",\"2025-02-10T00:23:32\",\"2025-02-10T00:25:12\",\"2025-02-10T00:26:17\",\"2025-02-10T00:27:54\",\"2025-02-10T00:28:17\",\"2025-02-10T00:28:41\",\"2025-02-10T00:28:41\",\"2025-02-10T00:28:41\",\"2025-02-10T00:28:41\",\"2025-02-10T00:33:11\",\"2025-02-10T00:33:58\",\"2025-02-10T00:39:56\"],\"y\":[0,3,6,9,12,14,15,16,18,19,20,23,26,27,29,31,32,35,37,40,42,45,48,49,51,53,56,57,59,61,62,63,64,66,69,70],\"type\":\"scatter\",\"textfont\":{\"color\":\"red\"}}],                        {\"template\":{\"data\":{\"barpolar\":[{\"marker\":{\"line\":{\"color\":\"rgb(17,17,17)\",\"width\":0.5},\"pattern\":{\"fillmode\":\"overlay\",\"size\":10,\"solidity\":0.2}},\"type\":\"barpolar\"}],\"bar\":[{\"error_x\":{\"color\":\"#f2f5fa\"},\"error_y\":{\"color\":\"#f2f5fa\"},\"marker\":{\"line\":{\"color\":\"rgb(17,17,17)\",\"width\":0.5},\"pattern\":{\"fillmode\":\"overlay\",\"size\":10,\"solidity\":0.2}},\"type\":\"bar\"}],\"carpet\":[{\"aaxis\":{\"endlinecolor\":\"#A2B1C6\",\"gridcolor\":\"#506784\",\"linecolor\":\"#506784\",\"minorgridcolor\":\"#506784\",\"startlinecolor\":\"#A2B1C6\"},\"baxis\":{\"endlinecolor\":\"#A2B1C6\",\"gridcolor\":\"#506784\",\"linecolor\":\"#506784\",\"minorgridcolor\":\"#506784\",\"startlinecolor\":\"#A2B1C6\"},\"type\":\"carpet\"}],\"choropleth\":[{\"colorbar\":{\"outlinewidth\":0,\"ticks\":\"\"},\"type\":\"choropleth\"}],\"contourcarpet\":[{\"colorbar\":{\"outlinewidth\":0,\"ticks\":\"\"},\"type\":\"contourcarpet\"}],\"contour\":[{\"colorbar\":{\"outlinewidth\":0,\"ticks\":\"\"},\"colorscale\":[[0.0,\"#0d0887\"],[0.1111111111111111,\"#46039f\"],[0.2222222222222222,\"#7201a8\"],[0.3333333333333333,\"#9c179e\"],[0.4444444444444444,\"#bd3786\"],[0.5555555555555556,\"#d8576b\"],[0.6666666666666666,\"#ed7953\"],[0.7777777777777778,\"#fb9f3a\"],[0.8888888888888888,\"#fdca26\"],[1.0,\"#f0f921\"]],\"type\":\"contour\"}],\"heatmapgl\":[{\"colorbar\":{\"outlinewidth\":0,\"ticks\":\"\"},\"colorscale\":[[0.0,\"#0d0887\"],[0.1111111111111111,\"#46039f\"],[0.2222222222222222,\"#7201a8\"],[0.3333333333333333,\"#9c179e\"],[0.4444444444444444,\"#bd3786\"],[0.5555555555555556,\"#d8576b\"],[0.6666666666666666,\"#ed7953\"],[0.7777777777777778,\"#fb9f3a\"],[0.8888888888888888,\"#fdca26\"],[1.0,\"#f0f921\"]],\"type\":\"heatmapgl\"}],\"heatmap\":[{\"colorbar\":{\"outlinewidth\":0,\"ticks\":\"\"},\"colorscale\":[[0.0,\"#0d0887\"],[0.1111111111111111,\"#46039f\"],[0.2222222222222222,\"#7201a8\"],[0.3333333333333333,\"#9c179e\"],[0.4444444444444444,\"#bd3786\"],[0.5555555555555556,\"#d8576b\"],[0.6666666666666666,\"#ed7953\"],[0.7777777777777778,\"#fb9f3a\"],[0.8888888888888888,\"#fdca26\"],[1.0,\"#f0f921\"]],\"type\":\"heatmap\"}],\"histogram2dcontour\":[{\"colorbar\":{\"outlinewidth\":0,\"ticks\":\"\"},\"colorscale\":[[0.0,\"#0d0887\"],[0.1111111111111111,\"#46039f\"],[0.2222222222222222,\"#7201a8\"],[0.3333333333333333,\"#9c179e\"],[0.4444444444444444,\"#bd3786\"],[0.5555555555555556,\"#d8576b\"],[0.6666666666666666,\"#ed7953\"],[0.7777777777777778,\"#fb9f3a\"],[0.8888888888888888,\"#fdca26\"],[1.0,\"#f0f921\"]],\"type\":\"histogram2dcontour\"}],\"histogram2d\":[{\"colorbar\":{\"outlinewidth\":0,\"ticks\":\"\"},\"colorscale\":[[0.0,\"#0d0887\"],[0.1111111111111111,\"#46039f\"],[0.2222222222222222,\"#7201a8\"],[0.3333333333333333,\"#9c179e\"],[0.4444444444444444,\"#bd3786\"],[0.5555555555555556,\"#d8576b\"],[0.6666666666666666,\"#ed7953\"],[0.7777777777777778,\"#fb9f3a\"],[0.8888888888888888,\"#fdca26\"],[1.0,\"#f0f921\"]],\"type\":\"histogram2d\"}],\"histogram\":[{\"marker\":{\"pattern\":{\"fillmode\":\"overlay\",\"size\":10,\"solidity\":0.2}},\"type\":\"histogram\"}],\"mesh3d\":[{\"colorbar\":{\"outlinewidth\":0,\"ticks\":\"\"},\"type\":\"mesh3d\"}],\"parcoords\":[{\"line\":{\"colorbar\":{\"outlinewidth\":0,\"ticks\":\"\"}},\"type\":\"parcoords\"}],\"pie\":[{\"automargin\":true,\"type\":\"pie\"}],\"scatter3d\":[{\"line\":{\"colorbar\":{\"outlinewidth\":0,\"ticks\":\"\"}},\"marker\":{\"colorbar\":{\"outlinewidth\":0,\"ticks\":\"\"}},\"type\":\"scatter3d\"}],\"scattercarpet\":[{\"marker\":{\"colorbar\":{\"outlinewidth\":0,\"ticks\":\"\"}},\"type\":\"scattercarpet\"}],\"scattergeo\":[{\"marker\":{\"colorbar\":{\"outlinewidth\":0,\"ticks\":\"\"}},\"type\":\"scattergeo\"}],\"scattergl\":[{\"marker\":{\"line\":{\"color\":\"#283442\"}},\"type\":\"scattergl\"}],\"scattermapbox\":[{\"marker\":{\"colorbar\":{\"outlinewidth\":0,\"ticks\":\"\"}},\"type\":\"scattermapbox\"}],\"scatterpolargl\":[{\"marker\":{\"colorbar\":{\"outlinewidth\":0,\"ticks\":\"\"}},\"type\":\"scatterpolargl\"}],\"scatterpolar\":[{\"marker\":{\"colorbar\":{\"outlinewidth\":0,\"ticks\":\"\"}},\"type\":\"scatterpolar\"}],\"scatter\":[{\"marker\":{\"line\":{\"color\":\"#283442\"}},\"type\":\"scatter\"}],\"scatterternary\":[{\"marker\":{\"colorbar\":{\"outlinewidth\":0,\"ticks\":\"\"}},\"type\":\"scatterternary\"}],\"surface\":[{\"colorbar\":{\"outlinewidth\":0,\"ticks\":\"\"},\"colorscale\":[[0.0,\"#0d0887\"],[0.1111111111111111,\"#46039f\"],[0.2222222222222222,\"#7201a8\"],[0.3333333333333333,\"#9c179e\"],[0.4444444444444444,\"#bd3786\"],[0.5555555555555556,\"#d8576b\"],[0.6666666666666666,\"#ed7953\"],[0.7777777777777778,\"#fb9f3a\"],[0.8888888888888888,\"#fdca26\"],[1.0,\"#f0f921\"]],\"type\":\"surface\"}],\"table\":[{\"cells\":{\"fill\":{\"color\":\"#506784\"},\"line\":{\"color\":\"rgb(17,17,17)\"}},\"header\":{\"fill\":{\"color\":\"#2a3f5f\"},\"line\":{\"color\":\"rgb(17,17,17)\"}},\"type\":\"table\"}]},\"layout\":{\"annotationdefaults\":{\"arrowcolor\":\"#f2f5fa\",\"arrowhead\":0,\"arrowwidth\":1},\"autotypenumbers\":\"strict\",\"coloraxis\":{\"colorbar\":{\"outlinewidth\":0,\"ticks\":\"\"}},\"colorscale\":{\"diverging\":[[0,\"#8e0152\"],[0.1,\"#c51b7d\"],[0.2,\"#de77ae\"],[0.3,\"#f1b6da\"],[0.4,\"#fde0ef\"],[0.5,\"#f7f7f7\"],[0.6,\"#e6f5d0\"],[0.7,\"#b8e186\"],[0.8,\"#7fbc41\"],[0.9,\"#4d9221\"],[1,\"#276419\"]],\"sequential\":[[0.0,\"#0d0887\"],[0.1111111111111111,\"#46039f\"],[0.2222222222222222,\"#7201a8\"],[0.3333333333333333,\"#9c179e\"],[0.4444444444444444,\"#bd3786\"],[0.5555555555555556,\"#d8576b\"],[0.6666666666666666,\"#ed7953\"],[0.7777777777777778,\"#fb9f3a\"],[0.8888888888888888,\"#fdca26\"],[1.0,\"#f0f921\"]],\"sequentialminus\":[[0.0,\"#0d0887\"],[0.1111111111111111,\"#46039f\"],[0.2222222222222222,\"#7201a8\"],[0.3333333333333333,\"#9c179e\"],[0.4444444444444444,\"#bd3786\"],[0.5555555555555556,\"#d8576b\"],[0.6666666666666666,\"#ed7953\"],[0.7777777777777778,\"#fb9f3a\"],[0.8888888888888888,\"#fdca26\"],[1.0,\"#f0f921\"]]},\"colorway\":[\"#636efa\",\"#EF553B\",\"#00cc96\",\"#ab63fa\",\"#FFA15A\",\"#19d3f3\",\"#FF6692\",\"#B6E880\",\"#FF97FF\",\"#FECB52\"],\"font\":{\"color\":\"#f2f5fa\"},\"geo\":{\"bgcolor\":\"rgb(17,17,17)\",\"lakecolor\":\"rgb(17,17,17)\",\"landcolor\":\"rgb(17,17,17)\",\"showlakes\":true,\"showland\":true,\"subunitcolor\":\"#506784\"},\"hoverlabel\":{\"align\":\"left\"},\"hovermode\":\"closest\",\"mapbox\":{\"style\":\"dark\"},\"paper_bgcolor\":\"rgb(17,17,17)\",\"plot_bgcolor\":\"rgb(17,17,17)\",\"polar\":{\"angularaxis\":{\"gridcolor\":\"#506784\",\"linecolor\":\"#506784\",\"ticks\":\"\"},\"bgcolor\":\"rgb(17,17,17)\",\"radialaxis\":{\"gridcolor\":\"#506784\",\"linecolor\":\"#506784\",\"ticks\":\"\"}},\"scene\":{\"xaxis\":{\"backgroundcolor\":\"rgb(17,17,17)\",\"gridcolor\":\"#506784\",\"gridwidth\":2,\"linecolor\":\"#506784\",\"showbackground\":true,\"ticks\":\"\",\"zerolinecolor\":\"#C8D4E3\"},\"yaxis\":{\"backgroundcolor\":\"rgb(17,17,17)\",\"gridcolor\":\"#506784\",\"gridwidth\":2,\"linecolor\":\"#506784\",\"showbackground\":true,\"ticks\":\"\",\"zerolinecolor\":\"#C8D4E3\"},\"zaxis\":{\"backgroundcolor\":\"rgb(17,17,17)\",\"gridcolor\":\"#506784\",\"gridwidth\":2,\"linecolor\":\"#506784\",\"showbackground\":true,\"ticks\":\"\",\"zerolinecolor\":\"#C8D4E3\"}},\"shapedefaults\":{\"line\":{\"color\":\"#f2f5fa\"}},\"sliderdefaults\":{\"bgcolor\":\"#C8D4E3\",\"bordercolor\":\"rgb(17,17,17)\",\"borderwidth\":1,\"tickwidth\":0},\"ternary\":{\"aaxis\":{\"gridcolor\":\"#506784\",\"linecolor\":\"#506784\",\"ticks\":\"\"},\"baxis\":{\"gridcolor\":\"#506784\",\"linecolor\":\"#506784\",\"ticks\":\"\"},\"bgcolor\":\"rgb(17,17,17)\",\"caxis\":{\"gridcolor\":\"#506784\",\"linecolor\":\"#506784\",\"ticks\":\"\"}},\"title\":{\"x\":0.05},\"updatemenudefaults\":{\"bgcolor\":\"#506784\",\"borderwidth\":0},\"xaxis\":{\"automargin\":true,\"gridcolor\":\"#283442\",\"linecolor\":\"#506784\",\"ticks\":\"\",\"title\":{\"standoff\":15},\"zerolinecolor\":\"#283442\",\"zerolinewidth\":2},\"yaxis\":{\"automargin\":true,\"gridcolor\":\"#283442\",\"linecolor\":\"#506784\",\"ticks\":\"\",\"title\":{\"standoff\":15},\"zerolinecolor\":\"#283442\",\"zerolinewidth\":2}}},\"shapes\":[{\"line\":{\"color\":\"rgb(90,90,90)\",\"dash\":\"dash\",\"width\":2},\"type\":\"line\",\"x0\":\"2025-02-10T00:10:00\",\"x1\":\"2025-02-10T00:10:00\",\"xref\":\"x\",\"y0\":0,\"y1\":1,\"yref\":\"y domain\"},{\"line\":{\"color\":\"rgb(90,90,90)\",\"dash\":\"dash\",\"width\":2},\"type\":\"line\",\"x0\":\"2025-02-10T00:20:00\",\"x1\":\"2025-02-10T00:20:00\",\"xref\":\"x\",\"y0\":0,\"y1\":1,\"yref\":\"y domain\"},{\"line\":{\"color\":\"rgb(90,90,90)\",\"dash\":\"dash\",\"width\":2},\"type\":\"line\",\"x0\":\"2025-02-10T00:30:00\",\"x1\":\"2025-02-10T00:30:00\",\"xref\":\"x\",\"y0\":0,\"y1\":1,\"yref\":\"y domain\"},{\"line\":{\"color\":\"rgb(90,90,90)\",\"dash\":\"dash\",\"width\":2},\"type\":\"line\",\"x0\":\"2025-02-10T00:40:00\",\"x1\":\"2025-02-10T00:40:00\",\"xref\":\"x\",\"y0\":0,\"y1\":1,\"yref\":\"y domain\"},{\"line\":{\"color\":\"rgb(90,90,90)\",\"dash\":\"dash\",\"width\":2},\"type\":\"line\",\"x0\":\"2025-02-10T00:45:00\",\"x1\":\"2025-02-10T00:45:00\",\"xref\":\"x\",\"y0\":0,\"y1\":1,\"yref\":\"y domain\"},{\"line\":{\"color\":\"rgb(90,90,90)\",\"dash\":\"dash\",\"width\":2},\"type\":\"line\",\"x0\":\"2025-02-10T00:50:00\",\"x1\":\"2025-02-10T00:50:00\",\"xref\":\"x\",\"y0\":0,\"y1\":1,\"yref\":\"y domain\"},{\"line\":{\"color\":\"rgb(90,90,90)\",\"dash\":\"dash\",\"width\":2},\"type\":\"line\",\"x0\":\"2025-02-10T00:55:00\",\"x1\":\"2025-02-10T00:55:00\",\"xref\":\"x\",\"y0\":0,\"y1\":1,\"yref\":\"y domain\"},{\"line\":{\"color\":\"rgb(90,90,90)\",\"dash\":\"dash\",\"width\":2},\"type\":\"line\",\"x0\":\"2025-02-10T01:00:00\",\"x1\":\"2025-02-10T01:00:00\",\"xref\":\"x\",\"y0\":0,\"y1\":1,\"yref\":\"y domain\"}],\"title\":{\"font\":{\"family\":\"Arial\"},\"text\":\"\\u003cspan style='font-size:22px; font-weight: 700;'\\u003ePALLACANESTRO URBANIA - GIOVANE ROBUR OSIMO&nbsp;&nbsp;&nbsp;&nbsp;71 - 70\\u003c\\u002fspan\\u003e\",\"y\":0.94,\"x\":0.02,\"xanchor\":\"left\",\"yanchor\":\"top\"},\"font\":{\"family\":\"Arial\",\"size\":13},\"xaxis\":{\"title\":{\"text\":\"Minuti\"},\"range\":[\"2025-02-09T23:59:54\",\"2025-02-10T00:40:06\"],\"tickmode\":\"array\",\"tickvals\":[\"2025-02-10T00:00:00\",\"2025-02-10T00:01:00\",\"2025-02-10T00:02:00\",\"2025-02-10T00:03:00\",\"2025-02-10T00:04:00\",\"2025-02-10T00:05:00\",\"2025-02-10T00:06:00\",\"2025-02-10T00:07:00\",\"2025-02-10T00:08:00\",\"2025-02-10T00:09:00\",\"2025-02-10T00:10:00\",\"2025-02-10T00:11:00\",\"2025-02-10T00:12:00\",\"2025-02-10T00:13:00\",\"2025-02-10T00:14:00\",\"2025-02-10T00:15:00\",\"2025-02-10T00:16:00\",\"2025-02-10T00:17:00\",\"2025-02-10T00:18:00\",\"2025-02-10T00:19:00\",\"2025-02-10T00:20:00\",\"2025-02-10T00:21:00\",\"2025-02-10T00:22:00\",\"2025-02-10T00:23:00\",\"2025-02-10T00:24:00\",\"2025-02-10T00:25:00\",\"2025-02-10T00:26:00\",\"2025-02-10T00:27:00\",\"2025-02-10T00:28:00\",\"2025-02-10T00:29:00\",\"2025-02-10T00:30:00\",\"2025-02-10T00:31:00\",\"2025-02-10T00:32:00\",\"2025-02-10T00:33:00\",\"2025-02-10T00:34:00\",\"2025-02-10T00:35:00\",\"2025-02-10T00:36:00\",\"2025-02-10T00:37:00\",\"2025-02-10T00:38:00\",\"2025-02-10T00:39:00\",\"2025-02-10T00:40:00\"],\"ticktext\":[\"0'\",\"1'\",\"2'\",\"3'\",\"4'\",\"5'\",\"6'\",\"7'\",\"8'\",\"9'\",\"10'\",\"11'\",\"12'\",\"13'\",\"14'\",\"15'\",\"16'\",\"17'\",\"18'\",\"19'\",\"20'\",\"21'\",\"22'\",\"23'\",\"24'\",\"25'\",\"26'\",\"27'\",\"28'\",\"29'\",\"30'\",\"31'\",\"32'\",\"33'\",\"34'\",\"35'\",\"36'\",\"37'\",\"38'\",\"39'\",\"40'\"]},\"yaxis\":{\"title\":{\"text\":\"Punti\"},\"range\":[0,81]},\"margin\":{\"l\":26,\"r\":10,\"b\":30,\"t\":30,\"pad\":0},\"legend\":{\"orientation\":\"v\",\"yanchor\":\"top\",\"y\":1.2,\"xanchor\":\"right\",\"x\":1.0},\"height\":450,\"annotations\":[{\"showarrow\":false,\"text\":\"Q1: 21 - 23\",\"x\":\"2025-02-10T00:05:00\",\"y\":79},{\"showarrow\":false,\"text\":\"Q2: 15 - 19 (36 - 42)\",\"x\":\"2025-02-10T00:15:00\",\"y\":79},{\"showarrow\":false,\"text\":\"Q3: 15 - 22 (51 - 64)\",\"x\":\"2025-02-10T00:25:00\",\"y\":79},{\"showarrow\":false,\"text\":\"Q4: 20 - 6 (71 - 70)\",\"x\":\"2025-02-10T00:35:00\",\"y\":79}]},                        {\"responsive\": true}                    ).then(function(){\n",
       "                            \n",
       "var gd = document.getElementById('7a4bdaf2-c8dd-445a-b35e-84a285ea14bc');\n",
       "var x = new MutationObserver(function (mutations, observer) {{\n",
       "        var display = window.getComputedStyle(gd).display;\n",
       "        if (!display || display === 'none') {{\n",
       "            console.log([gd, 'removed!']);\n",
       "            Plotly.purge(gd);\n",
       "            observer.disconnect();\n",
       "        }}\n",
       "}});\n",
       "\n",
       "// Listen for the removal of the full notebook cells\n",
       "var notebookContainer = gd.closest('#notebook-container');\n",
       "if (notebookContainer) {{\n",
       "    x.observe(notebookContainer, {childList: true});\n",
       "}}\n",
       "\n",
       "// Listen for the clearing of the current output cell\n",
       "var outputEl = gd.closest('.output');\n",
       "if (outputEl) {{\n",
       "    x.observe(outputEl, {childList: true});\n",
       "}}\n",
       "\n",
       "                        })                };                });            </script>        </div>"
      ]
     },
     "metadata": {},
     "output_type": "display_data"
    }
   ],
   "source": [
    "import Game\n",
    "import DigitalBoards\n",
    "import ScoreBoard\n",
    "import BoxScore\n",
    "import Stats\n",
    "\n",
    "import importlib\n",
    "importlib.reload(DigitalBoards)\n",
    "importlib.reload(Game)\n",
    "importlib.reload(ScoreBoard)\n",
    "importlib.reload(BoxScore)\n",
    "importlib.reload(Stats)\n",
    "\n",
    "from ipywidgets import widgets\n",
    "\n",
    "output = widgets.Output()\n",
    "display(output)\n",
    "\n",
    "board = ScoreBoard.ScoreBoard('./data/Urbania.team', './data/4.a-Ritorno-GIOVANE ROBUR OSIMO.game', scale=0.4, output=output)\n",
    "\n",
    "fig = BoxScore.pointsChart(board.game.events_df, game=board.game)\n",
    "fig"
   ]
  },
  {
   "cell_type": "markdown",
   "id": "20c0372e-d8a9-4ee7-abea-250d29258f5f",
   "metadata": {
    "tags": []
   },
   "source": [
    "### Play by Play"
   ]
  },
  {
   "cell_type": "code",
   "execution_count": null,
   "id": "a39ba77c-389f-4bfc-b0c3-fe307d564412",
   "metadata": {
    "tags": []
   },
   "outputs": [],
   "source": [
    "from ipywidgets import HTML\n",
    "\n",
    "import Game\n",
    "import DigitalBoards\n",
    "import ScoreBoard\n",
    "import BoxScore\n",
    "import Stats\n",
    "\n",
    "import importlib\n",
    "importlib.reload(DigitalBoards)\n",
    "importlib.reload(Game)\n",
    "importlib.reload(ScoreBoard)\n",
    "importlib.reload(BoxScore)\n",
    "importlib.reload(Stats)\n",
    "\n",
    "from ipywidgets import widgets\n",
    "\n",
    "output = widgets.Output()\n",
    "display(output)\n",
    "\n",
    "board = ScoreBoard.ScoreBoard('./data/Urbania.team', './data/out.game', scale=0.4, output=output)\n",
    "\n",
    "pbp = BoxScore.play_by_play(board.game.events_df, game=board.game)\n",
    "#HTML(pbp)"
   ]
  },
  {
   "cell_type": "code",
   "execution_count": null,
   "id": "d78c0304-0d9e-46d6-bcbb-7fad91bdc108",
   "metadata": {},
   "outputs": [],
   "source": [
    "html = '<div style=\"max-width: %fvw; max-height: 520px; overflow: auto; background-color: #ffffff;\">%s</div>'%(60.0,pbp)\n",
    "HTML(html)"
   ]
  },
  {
   "cell_type": "code",
   "execution_count": null,
   "id": "ef5294cf-6356-4242-aa17-23b3d174b2a3",
   "metadata": {},
   "outputs": [],
   "source": []
  }
 ],
 "metadata": {
  "kernelspec": {
   "display_name": "Python 3.11.9 (davide)",
   "language": "python",
   "name": "davide"
  },
  "language_info": {
   "codemirror_mode": {
    "name": "ipython",
    "version": 3
   },
   "file_extension": ".py",
   "mimetype": "text/x-python",
   "name": "python",
   "nbconvert_exporter": "python",
   "pygments_lexer": "ipython3",
   "version": "3.11.9"
  }
 },
 "nbformat": 4,
 "nbformat_minor": 5
}
