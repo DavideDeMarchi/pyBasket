{
 "cells": [
  {
   "cell_type": "markdown",
   "id": "cc8601b7-b7de-46e7-b55c-b1de841f3f53",
   "metadata": {},
   "source": [
    "### BoxScore display"
   ]
  },
  {
   "cell_type": "code",
   "execution_count": null,
   "id": "95dd1245-ad1b-40ee-aed7-a5ea5a18b161",
   "metadata": {
    "tags": []
   },
   "outputs": [],
   "source": [
    "from ipywidgets import HTML\n",
    "\n",
    "import Game\n",
    "import DigitalBoards\n",
    "import ScoreBoard\n",
    "import BoxScore\n",
    "import Stats\n",
    "\n",
    "import importlib\n",
    "importlib.reload(DigitalBoards)\n",
    "importlib.reload(Game)\n",
    "importlib.reload(ScoreBoard)\n",
    "importlib.reload(BoxScore)\n",
    "importlib.reload(Stats)\n",
    "\n",
    "from ipywidgets import widgets\n",
    "\n",
    "output = widgets.Output()\n",
    "display(output)\n",
    "\n",
    "board = ScoreBoard.ScoreBoard('./data/Urbania.team', './data/7.a-Ritorno-GUELFO BASKET.game', scale=0.4, output=output)\n",
    "svg = BoxScore.svg(board.game.events_df, game=board.game, width=65.0, quarter=None)\n",
    "HTML(svg)"
   ]
  },
  {
   "cell_type": "markdown",
   "id": "1556fd61-4198-4e07-9d9b-1a39d9781ddf",
   "metadata": {},
   "source": [
    "### BoxScore download in PNG format"
   ]
  },
  {
   "cell_type": "code",
   "execution_count": null,
   "id": "b0833d0e-ae95-4c80-b8bb-f471a49d6290",
   "metadata": {},
   "outputs": [],
   "source": [
    "# Download in PNG format\n",
    "from ipywidgets import widgets\n",
    "import io\n",
    "from cairosvg import svg2png\n",
    "from vois import download\n",
    "display(download.output)\n",
    "\n",
    "import ScoreBoard\n",
    "import BoxScore\n",
    "\n",
    "import importlib\n",
    "importlib.reload(ScoreBoard)\n",
    "importlib.reload(BoxScore)\n",
    "\n",
    "output = widgets.Output()\n",
    "display(output)\n",
    "\n",
    "board = ScoreBoard.ScoreBoard('./data/Urbania.team', './data/7.a-Ritorno-GUELFO BASKET.game', scale=0.4, output=output)\n",
    "svg = BoxScore.svg(board.game.events_df, game=board.game, width=65.0, quarter=None, downloadMode=True)\n",
    "png = svg2png(bytestring=svg, output_width=2200, output_height=1130)\n",
    "buf = io.BytesIO(png)\n",
    "buf.seek(0)\n",
    "b = buf.read()\n",
    "\n",
    "download.output.clear_output()\n",
    "with download.output:\n",
    "    download.downloadBytes(b, fileName='BoxSheet.png')\n",
    "download.output.clear_output()"
   ]
  },
  {
   "cell_type": "markdown",
   "id": "a29f6396-4883-472e-9844-ad0fba244e0b",
   "metadata": {
    "tags": []
   },
   "source": [
    "### Save Sheet to HTML format"
   ]
  },
  {
   "cell_type": "code",
   "execution_count": null,
   "id": "5f9d8f38-a299-494a-9591-51b4bdf63cdd",
   "metadata": {
    "tags": []
   },
   "outputs": [],
   "source": [
    "import Game\n",
    "import DigitalBoards\n",
    "import ScoreBoard\n",
    "import BoxScore\n",
    "import Stats\n",
    "\n",
    "import importlib\n",
    "importlib.reload(DigitalBoards)\n",
    "importlib.reload(Game)\n",
    "importlib.reload(ScoreBoard)\n",
    "importlib.reload(BoxScore)\n",
    "importlib.reload(Stats)\n",
    "\n",
    "from ipywidgets import widgets\n",
    "\n",
    "output = widgets.Output()\n",
    "display(output)\n",
    "\n",
    "board = ScoreBoard.ScoreBoard('./data/Urbania.team', './data/out.game', scale=0.4, output=output)\n",
    "\n",
    "html = BoxScore.html(board.game.events_df, game=board.game)\n",
    "with open('aaa.html','w') as f:\n",
    "    f.write(html)"
   ]
  },
  {
   "cell_type": "markdown",
   "id": "c890c658-02eb-4057-a66f-4e679aa3bf24",
   "metadata": {
    "tags": []
   },
   "source": [
    "### Game summary"
   ]
  },
  {
   "cell_type": "code",
   "execution_count": null,
   "id": "aa0820d0-83b7-4831-b07b-2a4ec3ed3f60",
   "metadata": {
    "tags": []
   },
   "outputs": [],
   "source": [
    "import Game\n",
    "import DigitalBoards\n",
    "import ScoreBoard\n",
    "import BoxScore\n",
    "import Stats\n",
    "\n",
    "import importlib\n",
    "importlib.reload(DigitalBoards)\n",
    "importlib.reload(Game)\n",
    "importlib.reload(ScoreBoard)\n",
    "importlib.reload(BoxScore)\n",
    "importlib.reload(Stats)\n",
    "\n",
    "from ipywidgets import widgets\n",
    "\n",
    "output = widgets.Output()\n",
    "display(output)\n",
    "\n",
    "board = ScoreBoard.ScoreBoard('./data/Urbania.team', './data/4.a-Ritorno-GIOVANE ROBUR OSIMO.game', scale=0.4, output=output)\n",
    "\n",
    "print(BoxScore.summary(board.game.events_df, game=board.game))"
   ]
  },
  {
   "cell_type": "markdown",
   "id": "c6e21d11-6caa-4c26-8514-a605e07bf19a",
   "metadata": {
    "tags": []
   },
   "source": [
    "### Points chart"
   ]
  },
  {
   "cell_type": "code",
   "execution_count": 66,
   "id": "e317c585-c746-4624-9367-232809b35a47",
   "metadata": {
    "tags": []
   },
   "outputs": [
    {
     "data": {
      "application/vnd.jupyter.widget-view+json": {
       "model_id": "033183e547184100ab1186cf835866b5",
       "version_major": 2,
       "version_minor": 0
      },
      "text/plain": [
       "Output()"
      ]
     },
     "metadata": {},
     "output_type": "display_data"
    },
    {
     "data": {
      "application/vnd.plotly.v1+json": {
       "config": {
        "plotlyServerURL": "https://plot.ly"
       },
       "data": [
        {
         "customdata": [
          "Pentucci 2P",
          "Marcantognini 1P",
          "Marcantognini 1P",
          "Pentucci 2P",
          "Marcantognini 2P",
          "Marcantognini 3P",
          "Diana 3P",
          "Diana 1P",
          "Baldassarri 3P",
          "Baldassarri 3P",
          "Diana 2P",
          "Baldassarri 2P",
          "Perez Da Rold 2P",
          "Di Francesco 2P",
          "Di Francesco 3P",
          "Pentucci 2P",
          "Perez Da Rold 2P",
          "Baldassarri 3P",
          "Pentucci 3P",
          "Jareci 3P",
          "Baldassarri 3P",
          "Marcantognini 3P",
          "Pentucci 1P",
          "Pentucci 1P",
          "Marcantognini 3P",
          "Aloi 2P",
          "Marcantognini 1P",
          "Di Francesco 1P",
          "Di Francesco 1P",
          "Baldassarri 1P",
          "Baldassarri 1P"
         ],
         "hovertemplate": "%{y} - %{customdata} - %{x|%M':%S\"}",
         "line": {
          "color": "green",
          "shape": "hv"
         },
         "marker": {
          "color": "green",
          "size": 15
         },
         "mode": "lines+markers+text",
         "name": "PALLACANESTRO URBANIA",
         "text": [
          "2",
          "3",
          "4",
          "6",
          "8",
          "11",
          "14",
          "15",
          "18",
          "21",
          "23",
          "25",
          "27",
          "29",
          "32",
          "34",
          "36",
          "39",
          "42",
          "45",
          "48",
          "51",
          "52",
          "53",
          "56",
          "58",
          "59",
          "60",
          "61",
          "62",
          "63"
         ],
         "textfont": {
          "color": "green"
         },
         "textposition": [
          "bottom right",
          "bottom right",
          "bottom right",
          "bottom right",
          "bottom right",
          "bottom right",
          "bottom right",
          "bottom right",
          "bottom right",
          "top left",
          "top left",
          "top left",
          "bottom right",
          "bottom right",
          "bottom right",
          "bottom right",
          "bottom right",
          "bottom right",
          "bottom right",
          "bottom right",
          "top left",
          "top left",
          "top left",
          "top left",
          "top left",
          "top left",
          "top left",
          "top left",
          "top left",
          "top left",
          "top left"
         ],
         "type": "scatter",
         "x": [
          "2025-03-11T00:02:48",
          "2025-03-11T00:03:22",
          "2025-03-11T00:03:22",
          "2025-03-11T00:04:10",
          "2025-03-11T00:04:30",
          "2025-03-11T00:05:09",
          "2025-03-11T00:08:00",
          "2025-03-11T00:09:18",
          "2025-03-11T00:12:19",
          "2025-03-11T00:13:00",
          "2025-03-11T00:14:05",
          "2025-03-11T00:15:10",
          "2025-03-11T00:17:53",
          "2025-03-11T00:19:15",
          "2025-03-11T00:20:51",
          "2025-03-11T00:21:58",
          "2025-03-11T00:25:28",
          "2025-03-11T00:26:26",
          "2025-03-11T00:28:06",
          "2025-03-11T00:30:29",
          "2025-03-11T00:31:18",
          "2025-03-11T00:32:13",
          "2025-03-11T00:33:59",
          "2025-03-11T00:33:59",
          "2025-03-11T00:34:28",
          "2025-03-11T00:35:48",
          "2025-03-11T00:37:49",
          "2025-03-11T00:39:08",
          "2025-03-11T00:39:08",
          "2025-03-11T00:39:43",
          "2025-03-11T00:39:43"
         ],
         "y": [
          2,
          3,
          4,
          6,
          8,
          11,
          14,
          15,
          18,
          21,
          23,
          25,
          27,
          29,
          32,
          34,
          36,
          39,
          42,
          45,
          48,
          51,
          52,
          53,
          56,
          58,
          59,
          60,
          61,
          62,
          63
         ]
        },
        {
         "customdata": [
          "Pentucci 2P",
          "Marcantognini 1P",
          "Marcantognini 1P",
          "Pentucci 2P",
          "Marcantognini 2P",
          "Marcantognini 3P",
          "Diana 3P",
          "Diana 1P",
          "Baldassarri 3P",
          "Baldassarri 3P",
          "Diana 2P",
          "Baldassarri 2P",
          "Perez Da Rold 2P",
          "Di Francesco 2P",
          "Di Francesco 3P",
          "Pentucci 2P",
          "Perez Da Rold 2P",
          "Baldassarri 3P",
          "Pentucci 3P",
          "Jareci 3P",
          "Baldassarri 3P",
          "Marcantognini 3P",
          "Pentucci 1P",
          "Pentucci 1P",
          "Marcantognini 3P",
          "Aloi 2P",
          "Marcantognini 1P",
          "Di Francesco 1P",
          "Di Francesco 1P",
          "Baldassarri 1P",
          "Baldassarri 1P"
         ],
         "hovertemplate": "%{y} - %{customdata} - %{x|%M':%S\"}",
         "marker": {
          "color": "white",
          "size": 0
         },
         "mode": "text",
         "name": "",
         "showlegend": false,
         "text": [
          "2",
          "1",
          "1",
          "2",
          "2",
          "3",
          "3",
          "1",
          "3",
          "3",
          "2",
          "2",
          "2",
          "2",
          "3",
          "2",
          "2",
          "3",
          "3",
          "3",
          "3",
          "3",
          "1",
          "1",
          "3",
          "2",
          "1",
          "1",
          "1",
          "1",
          "1"
         ],
         "textfont": {
          "color": "white",
          "family": "arial",
          "size": 11
         },
         "textposition": "middle center",
         "type": "scatter",
         "x": [
          "2025-03-11T00:02:48",
          "2025-03-11T00:03:22",
          "2025-03-11T00:03:22",
          "2025-03-11T00:04:10",
          "2025-03-11T00:04:30",
          "2025-03-11T00:05:09",
          "2025-03-11T00:08:00",
          "2025-03-11T00:09:18",
          "2025-03-11T00:12:19",
          "2025-03-11T00:13:00",
          "2025-03-11T00:14:05",
          "2025-03-11T00:15:10",
          "2025-03-11T00:17:53",
          "2025-03-11T00:19:15",
          "2025-03-11T00:20:51",
          "2025-03-11T00:21:58",
          "2025-03-11T00:25:28",
          "2025-03-11T00:26:26",
          "2025-03-11T00:28:06",
          "2025-03-11T00:30:29",
          "2025-03-11T00:31:18",
          "2025-03-11T00:32:13",
          "2025-03-11T00:33:59",
          "2025-03-11T00:33:59",
          "2025-03-11T00:34:28",
          "2025-03-11T00:35:48",
          "2025-03-11T00:37:49",
          "2025-03-11T00:39:08",
          "2025-03-11T00:39:08",
          "2025-03-11T00:39:43",
          "2025-03-11T00:39:43"
         ],
         "y": [
          2,
          3,
          4,
          6,
          8,
          11,
          14,
          15,
          18,
          21,
          23,
          25,
          27,
          29,
          32,
          34,
          36,
          39,
          42,
          45,
          48,
          51,
          52,
          53,
          56,
          58,
          59,
          60,
          61,
          62,
          63
         ]
        },
        {
         "customdata": [
          "Fusco 2P",
          "Macina 2P",
          "Botteghi T. 2P",
          "Felici 2P",
          "Fusco 3P",
          "Felici 2P",
          "Bomba 3P",
          "Fiorani 2P",
          "Lorenzi 1P",
          "Lorenzi 1P",
          "Lorenzi 1P",
          "Lorenzi 2P",
          "Lorenzi 3P",
          "Lorenzi 2P",
          "Felici 2P",
          "Felici 1P",
          "Felici 1P",
          "Macina 2P",
          "Macina 1P",
          "Botteghi T. 2P",
          "Felici 2P",
          "Fusco 2P",
          "Felici 2P",
          "Bomba 2P",
          "Lorenzi 2P",
          "Fusco 1P",
          "Fusco 1P",
          "Felici 1P",
          "Felici 1P",
          "Felici 1P",
          "Felici 2P",
          "Fusco 1P",
          "Fusco 1P"
         ],
         "hovertemplate": "%{y} - %{customdata} - %{x|%M':%S\"}",
         "line": {
          "color": "red",
          "shape": "hv"
         },
         "marker": {
          "color": "red",
          "size": 15
         },
         "mode": "lines+markers+text",
         "name": "TITANO SAN MARINO",
         "text": [
          "2",
          "4",
          "6",
          "8",
          "11",
          "13",
          "16",
          "18",
          "19",
          "20",
          "21",
          "23",
          "26",
          "28",
          "30",
          "31",
          "32",
          "34",
          "35",
          "37",
          "39",
          "41",
          "43",
          "45",
          "47",
          "48",
          "49",
          "50",
          "51",
          "52",
          "54",
          "55",
          "56"
         ],
         "textfont": {
          "color": "red"
         },
         "textposition": [
          "top left",
          "top left",
          "top left",
          "top left",
          "top left",
          "top left",
          "top left",
          "top left",
          "top left",
          "top left",
          "bottom right",
          "bottom right",
          "top left",
          "top left",
          "top left",
          "top left",
          "top left",
          "top left",
          "top left",
          "top left",
          "top left",
          "top left",
          "top left",
          "top left",
          "top left",
          "bottom right",
          "bottom right",
          "bottom right",
          "bottom right",
          "bottom right",
          "bottom right",
          "bottom right",
          "bottom right"
         ],
         "type": "scatter",
         "x": [
          "2025-03-11T00:00:23",
          "2025-03-11T00:00:42",
          "2025-03-11T00:01:52",
          "2025-03-11T00:02:28",
          "2025-03-11T00:03:53",
          "2025-03-11T00:05:39",
          "2025-03-11T00:07:40",
          "2025-03-11T00:10:49",
          "2025-03-11T00:12:02",
          "2025-03-11T00:12:02",
          "2025-03-11T00:13:24",
          "2025-03-11T00:14:19",
          "2025-03-11T00:15:30",
          "2025-03-11T00:16:13",
          "2025-03-11T00:16:48",
          "2025-03-11T00:17:34",
          "2025-03-11T00:17:34",
          "2025-03-11T00:18:58",
          "2025-03-11T00:18:58",
          "2025-03-11T00:21:06",
          "2025-03-11T00:23:05",
          "2025-03-11T00:24:30",
          "2025-03-11T00:25:41",
          "2025-03-11T00:27:39",
          "2025-03-11T00:29:26",
          "2025-03-11T00:32:28",
          "2025-03-11T00:32:28",
          "2025-03-11T00:37:28",
          "2025-03-11T00:39:04",
          "2025-03-11T00:39:04",
          "2025-03-11T00:39:22",
          "2025-03-11T00:39:41",
          "2025-03-11T00:39:41"
         ],
         "y": [
          2,
          4,
          6,
          8,
          11,
          13,
          16,
          18,
          19,
          20,
          21,
          23,
          26,
          28,
          30,
          31,
          32,
          34,
          35,
          37,
          39,
          41,
          43,
          45,
          47,
          48,
          49,
          50,
          51,
          52,
          54,
          55,
          56
         ]
        },
        {
         "customdata": [
          "Fusco 2P",
          "Macina 2P",
          "Botteghi T. 2P",
          "Felici 2P",
          "Fusco 3P",
          "Felici 2P",
          "Bomba 3P",
          "Fiorani 2P",
          "Lorenzi 1P",
          "Lorenzi 1P",
          "Lorenzi 1P",
          "Lorenzi 2P",
          "Lorenzi 3P",
          "Lorenzi 2P",
          "Felici 2P",
          "Felici 1P",
          "Felici 1P",
          "Macina 2P",
          "Macina 1P",
          "Botteghi T. 2P",
          "Felici 2P",
          "Fusco 2P",
          "Felici 2P",
          "Bomba 2P",
          "Lorenzi 2P",
          "Fusco 1P",
          "Fusco 1P",
          "Felici 1P",
          "Felici 1P",
          "Felici 1P",
          "Felici 2P",
          "Fusco 1P",
          "Fusco 1P"
         ],
         "hovertemplate": "%{y} - %{customdata} - %{x|%M':%S\"}",
         "marker": {
          "color": "white",
          "size": 0
         },
         "mode": "text",
         "name": "",
         "showlegend": false,
         "text": [
          "2",
          "2",
          "2",
          "2",
          "3",
          "2",
          "3",
          "2",
          "1",
          "1",
          "1",
          "2",
          "3",
          "2",
          "2",
          "1",
          "1",
          "2",
          "1",
          "2",
          "2",
          "2",
          "2",
          "2",
          "2",
          "1",
          "1",
          "1",
          "1",
          "1",
          "2",
          "1",
          "1"
         ],
         "textfont": {
          "color": "white",
          "family": "arial",
          "size": 11
         },
         "textposition": "middle center",
         "type": "scatter",
         "x": [
          "2025-03-11T00:00:23",
          "2025-03-11T00:00:42",
          "2025-03-11T00:01:52",
          "2025-03-11T00:02:28",
          "2025-03-11T00:03:53",
          "2025-03-11T00:05:39",
          "2025-03-11T00:07:40",
          "2025-03-11T00:10:49",
          "2025-03-11T00:12:02",
          "2025-03-11T00:12:02",
          "2025-03-11T00:13:24",
          "2025-03-11T00:14:19",
          "2025-03-11T00:15:30",
          "2025-03-11T00:16:13",
          "2025-03-11T00:16:48",
          "2025-03-11T00:17:34",
          "2025-03-11T00:17:34",
          "2025-03-11T00:18:58",
          "2025-03-11T00:18:58",
          "2025-03-11T00:21:06",
          "2025-03-11T00:23:05",
          "2025-03-11T00:24:30",
          "2025-03-11T00:25:41",
          "2025-03-11T00:27:39",
          "2025-03-11T00:29:26",
          "2025-03-11T00:32:28",
          "2025-03-11T00:32:28",
          "2025-03-11T00:37:28",
          "2025-03-11T00:39:04",
          "2025-03-11T00:39:04",
          "2025-03-11T00:39:22",
          "2025-03-11T00:39:41",
          "2025-03-11T00:39:41"
         ],
         "y": [
          2,
          4,
          6,
          8,
          11,
          13,
          16,
          18,
          19,
          20,
          21,
          23,
          26,
          28,
          30,
          31,
          32,
          34,
          35,
          37,
          39,
          41,
          43,
          45,
          47,
          48,
          49,
          50,
          51,
          52,
          54,
          55,
          56
         ]
        }
       ],
       "layout": {
        "annotations": [
         {
          "showarrow": false,
          "text": "Q1: 16 - 15",
          "x": "2025-03-11T00:05:00",
          "y": 70
         },
         {
          "showarrow": false,
          "text": "Q2: 19 - 14 (35 - 29)",
          "x": "2025-03-11T00:15:00",
          "y": 70
         },
         {
          "showarrow": false,
          "text": "Q3: 12 - 13 (47 - 42)",
          "x": "2025-03-11T00:25:00",
          "y": 70
         },
         {
          "showarrow": false,
          "text": "Q4: 9 - 21 (56 - 63)",
          "x": "2025-03-11T00:35:00",
          "y": 70
         }
        ],
        "autosize": true,
        "font": {
         "family": "Arial",
         "size": 13
        },
        "legend": {
         "orientation": "h",
         "x": 1,
         "xanchor": "right",
         "y": 1.05,
         "yanchor": "top"
        },
        "margin": {
         "b": 30,
         "l": 26,
         "pad": 0,
         "r": 10,
         "t": 80
        },
        "shapes": [
         {
          "line": {
           "color": "rgb(90,90,90)",
           "dash": "dash",
           "width": 2
          },
          "type": "line",
          "x0": "2025-03-11T00:10:00",
          "x1": "2025-03-11T00:10:00",
          "xref": "x",
          "y0": 0,
          "y1": 1,
          "yref": "y domain"
         },
         {
          "line": {
           "color": "rgb(90,90,90)",
           "dash": "dash",
           "width": 2
          },
          "type": "line",
          "x0": "2025-03-11T00:20:00",
          "x1": "2025-03-11T00:20:00",
          "xref": "x",
          "y0": 0,
          "y1": 1,
          "yref": "y domain"
         },
         {
          "line": {
           "color": "rgb(90,90,90)",
           "dash": "dash",
           "width": 2
          },
          "type": "line",
          "x0": "2025-03-11T00:30:00",
          "x1": "2025-03-11T00:30:00",
          "xref": "x",
          "y0": 0,
          "y1": 1,
          "yref": "y domain"
         },
         {
          "line": {
           "color": "rgb(90,90,90)",
           "dash": "dash",
           "width": 2
          },
          "type": "line",
          "x0": "2025-03-11T00:40:00",
          "x1": "2025-03-11T00:40:00",
          "xref": "x",
          "y0": 0,
          "y1": 1,
          "yref": "y domain"
         },
         {
          "line": {
           "color": "rgb(90,90,90)",
           "dash": "dash",
           "width": 2
          },
          "type": "line",
          "x0": "2025-03-11T00:45:00",
          "x1": "2025-03-11T00:45:00",
          "xref": "x",
          "y0": 0,
          "y1": 1,
          "yref": "y domain"
         },
         {
          "line": {
           "color": "rgb(90,90,90)",
           "dash": "dash",
           "width": 2
          },
          "type": "line",
          "x0": "2025-03-11T00:50:00",
          "x1": "2025-03-11T00:50:00",
          "xref": "x",
          "y0": 0,
          "y1": 1,
          "yref": "y domain"
         },
         {
          "line": {
           "color": "rgb(90,90,90)",
           "dash": "dash",
           "width": 2
          },
          "type": "line",
          "x0": "2025-03-11T00:55:00",
          "x1": "2025-03-11T00:55:00",
          "xref": "x",
          "y0": 0,
          "y1": 1,
          "yref": "y domain"
         },
         {
          "line": {
           "color": "rgb(90,90,90)",
           "dash": "dash",
           "width": 2
          },
          "type": "line",
          "x0": "2025-03-11T01:00:00",
          "x1": "2025-03-11T01:00:00",
          "xref": "x",
          "y0": 0,
          "y1": 1,
          "yref": "y domain"
         }
        ],
        "template": {
         "data": {
          "bar": [
           {
            "error_x": {
             "color": "#2a3f5f"
            },
            "error_y": {
             "color": "#2a3f5f"
            },
            "marker": {
             "line": {
              "color": "white",
              "width": 0.5
             },
             "pattern": {
              "fillmode": "overlay",
              "size": 10,
              "solidity": 0.2
             }
            },
            "type": "bar"
           }
          ],
          "barpolar": [
           {
            "marker": {
             "line": {
              "color": "white",
              "width": 0.5
             },
             "pattern": {
              "fillmode": "overlay",
              "size": 10,
              "solidity": 0.2
             }
            },
            "type": "barpolar"
           }
          ],
          "carpet": [
           {
            "aaxis": {
             "endlinecolor": "#2a3f5f",
             "gridcolor": "#C8D4E3",
             "linecolor": "#C8D4E3",
             "minorgridcolor": "#C8D4E3",
             "startlinecolor": "#2a3f5f"
            },
            "baxis": {
             "endlinecolor": "#2a3f5f",
             "gridcolor": "#C8D4E3",
             "linecolor": "#C8D4E3",
             "minorgridcolor": "#C8D4E3",
             "startlinecolor": "#2a3f5f"
            },
            "type": "carpet"
           }
          ],
          "choropleth": [
           {
            "colorbar": {
             "outlinewidth": 0,
             "ticks": ""
            },
            "type": "choropleth"
           }
          ],
          "contour": [
           {
            "colorbar": {
             "outlinewidth": 0,
             "ticks": ""
            },
            "colorscale": [
             [
              0,
              "#0d0887"
             ],
             [
              0.1111111111111111,
              "#46039f"
             ],
             [
              0.2222222222222222,
              "#7201a8"
             ],
             [
              0.3333333333333333,
              "#9c179e"
             ],
             [
              0.4444444444444444,
              "#bd3786"
             ],
             [
              0.5555555555555556,
              "#d8576b"
             ],
             [
              0.6666666666666666,
              "#ed7953"
             ],
             [
              0.7777777777777778,
              "#fb9f3a"
             ],
             [
              0.8888888888888888,
              "#fdca26"
             ],
             [
              1,
              "#f0f921"
             ]
            ],
            "type": "contour"
           }
          ],
          "contourcarpet": [
           {
            "colorbar": {
             "outlinewidth": 0,
             "ticks": ""
            },
            "type": "contourcarpet"
           }
          ],
          "heatmap": [
           {
            "colorbar": {
             "outlinewidth": 0,
             "ticks": ""
            },
            "colorscale": [
             [
              0,
              "#0d0887"
             ],
             [
              0.1111111111111111,
              "#46039f"
             ],
             [
              0.2222222222222222,
              "#7201a8"
             ],
             [
              0.3333333333333333,
              "#9c179e"
             ],
             [
              0.4444444444444444,
              "#bd3786"
             ],
             [
              0.5555555555555556,
              "#d8576b"
             ],
             [
              0.6666666666666666,
              "#ed7953"
             ],
             [
              0.7777777777777778,
              "#fb9f3a"
             ],
             [
              0.8888888888888888,
              "#fdca26"
             ],
             [
              1,
              "#f0f921"
             ]
            ],
            "type": "heatmap"
           }
          ],
          "heatmapgl": [
           {
            "colorbar": {
             "outlinewidth": 0,
             "ticks": ""
            },
            "colorscale": [
             [
              0,
              "#0d0887"
             ],
             [
              0.1111111111111111,
              "#46039f"
             ],
             [
              0.2222222222222222,
              "#7201a8"
             ],
             [
              0.3333333333333333,
              "#9c179e"
             ],
             [
              0.4444444444444444,
              "#bd3786"
             ],
             [
              0.5555555555555556,
              "#d8576b"
             ],
             [
              0.6666666666666666,
              "#ed7953"
             ],
             [
              0.7777777777777778,
              "#fb9f3a"
             ],
             [
              0.8888888888888888,
              "#fdca26"
             ],
             [
              1,
              "#f0f921"
             ]
            ],
            "type": "heatmapgl"
           }
          ],
          "histogram": [
           {
            "marker": {
             "pattern": {
              "fillmode": "overlay",
              "size": 10,
              "solidity": 0.2
             }
            },
            "type": "histogram"
           }
          ],
          "histogram2d": [
           {
            "colorbar": {
             "outlinewidth": 0,
             "ticks": ""
            },
            "colorscale": [
             [
              0,
              "#0d0887"
             ],
             [
              0.1111111111111111,
              "#46039f"
             ],
             [
              0.2222222222222222,
              "#7201a8"
             ],
             [
              0.3333333333333333,
              "#9c179e"
             ],
             [
              0.4444444444444444,
              "#bd3786"
             ],
             [
              0.5555555555555556,
              "#d8576b"
             ],
             [
              0.6666666666666666,
              "#ed7953"
             ],
             [
              0.7777777777777778,
              "#fb9f3a"
             ],
             [
              0.8888888888888888,
              "#fdca26"
             ],
             [
              1,
              "#f0f921"
             ]
            ],
            "type": "histogram2d"
           }
          ],
          "histogram2dcontour": [
           {
            "colorbar": {
             "outlinewidth": 0,
             "ticks": ""
            },
            "colorscale": [
             [
              0,
              "#0d0887"
             ],
             [
              0.1111111111111111,
              "#46039f"
             ],
             [
              0.2222222222222222,
              "#7201a8"
             ],
             [
              0.3333333333333333,
              "#9c179e"
             ],
             [
              0.4444444444444444,
              "#bd3786"
             ],
             [
              0.5555555555555556,
              "#d8576b"
             ],
             [
              0.6666666666666666,
              "#ed7953"
             ],
             [
              0.7777777777777778,
              "#fb9f3a"
             ],
             [
              0.8888888888888888,
              "#fdca26"
             ],
             [
              1,
              "#f0f921"
             ]
            ],
            "type": "histogram2dcontour"
           }
          ],
          "mesh3d": [
           {
            "colorbar": {
             "outlinewidth": 0,
             "ticks": ""
            },
            "type": "mesh3d"
           }
          ],
          "parcoords": [
           {
            "line": {
             "colorbar": {
              "outlinewidth": 0,
              "ticks": ""
             }
            },
            "type": "parcoords"
           }
          ],
          "pie": [
           {
            "automargin": true,
            "type": "pie"
           }
          ],
          "scatter": [
           {
            "fillpattern": {
             "fillmode": "overlay",
             "size": 10,
             "solidity": 0.2
            },
            "type": "scatter"
           }
          ],
          "scatter3d": [
           {
            "line": {
             "colorbar": {
              "outlinewidth": 0,
              "ticks": ""
             }
            },
            "marker": {
             "colorbar": {
              "outlinewidth": 0,
              "ticks": ""
             }
            },
            "type": "scatter3d"
           }
          ],
          "scattercarpet": [
           {
            "marker": {
             "colorbar": {
              "outlinewidth": 0,
              "ticks": ""
             }
            },
            "type": "scattercarpet"
           }
          ],
          "scattergeo": [
           {
            "marker": {
             "colorbar": {
              "outlinewidth": 0,
              "ticks": ""
             }
            },
            "type": "scattergeo"
           }
          ],
          "scattergl": [
           {
            "marker": {
             "colorbar": {
              "outlinewidth": 0,
              "ticks": ""
             }
            },
            "type": "scattergl"
           }
          ],
          "scattermapbox": [
           {
            "marker": {
             "colorbar": {
              "outlinewidth": 0,
              "ticks": ""
             }
            },
            "type": "scattermapbox"
           }
          ],
          "scatterpolar": [
           {
            "marker": {
             "colorbar": {
              "outlinewidth": 0,
              "ticks": ""
             }
            },
            "type": "scatterpolar"
           }
          ],
          "scatterpolargl": [
           {
            "marker": {
             "colorbar": {
              "outlinewidth": 0,
              "ticks": ""
             }
            },
            "type": "scatterpolargl"
           }
          ],
          "scatterternary": [
           {
            "marker": {
             "colorbar": {
              "outlinewidth": 0,
              "ticks": ""
             }
            },
            "type": "scatterternary"
           }
          ],
          "surface": [
           {
            "colorbar": {
             "outlinewidth": 0,
             "ticks": ""
            },
            "colorscale": [
             [
              0,
              "#0d0887"
             ],
             [
              0.1111111111111111,
              "#46039f"
             ],
             [
              0.2222222222222222,
              "#7201a8"
             ],
             [
              0.3333333333333333,
              "#9c179e"
             ],
             [
              0.4444444444444444,
              "#bd3786"
             ],
             [
              0.5555555555555556,
              "#d8576b"
             ],
             [
              0.6666666666666666,
              "#ed7953"
             ],
             [
              0.7777777777777778,
              "#fb9f3a"
             ],
             [
              0.8888888888888888,
              "#fdca26"
             ],
             [
              1,
              "#f0f921"
             ]
            ],
            "type": "surface"
           }
          ],
          "table": [
           {
            "cells": {
             "fill": {
              "color": "#EBF0F8"
             },
             "line": {
              "color": "white"
             }
            },
            "header": {
             "fill": {
              "color": "#C8D4E3"
             },
             "line": {
              "color": "white"
             }
            },
            "type": "table"
           }
          ]
         },
         "layout": {
          "annotationdefaults": {
           "arrowcolor": "#2a3f5f",
           "arrowhead": 0,
           "arrowwidth": 1
          },
          "autotypenumbers": "strict",
          "coloraxis": {
           "colorbar": {
            "outlinewidth": 0,
            "ticks": ""
           }
          },
          "colorscale": {
           "diverging": [
            [
             0,
             "#8e0152"
            ],
            [
             0.1,
             "#c51b7d"
            ],
            [
             0.2,
             "#de77ae"
            ],
            [
             0.3,
             "#f1b6da"
            ],
            [
             0.4,
             "#fde0ef"
            ],
            [
             0.5,
             "#f7f7f7"
            ],
            [
             0.6,
             "#e6f5d0"
            ],
            [
             0.7,
             "#b8e186"
            ],
            [
             0.8,
             "#7fbc41"
            ],
            [
             0.9,
             "#4d9221"
            ],
            [
             1,
             "#276419"
            ]
           ],
           "sequential": [
            [
             0,
             "#0d0887"
            ],
            [
             0.1111111111111111,
             "#46039f"
            ],
            [
             0.2222222222222222,
             "#7201a8"
            ],
            [
             0.3333333333333333,
             "#9c179e"
            ],
            [
             0.4444444444444444,
             "#bd3786"
            ],
            [
             0.5555555555555556,
             "#d8576b"
            ],
            [
             0.6666666666666666,
             "#ed7953"
            ],
            [
             0.7777777777777778,
             "#fb9f3a"
            ],
            [
             0.8888888888888888,
             "#fdca26"
            ],
            [
             1,
             "#f0f921"
            ]
           ],
           "sequentialminus": [
            [
             0,
             "#0d0887"
            ],
            [
             0.1111111111111111,
             "#46039f"
            ],
            [
             0.2222222222222222,
             "#7201a8"
            ],
            [
             0.3333333333333333,
             "#9c179e"
            ],
            [
             0.4444444444444444,
             "#bd3786"
            ],
            [
             0.5555555555555556,
             "#d8576b"
            ],
            [
             0.6666666666666666,
             "#ed7953"
            ],
            [
             0.7777777777777778,
             "#fb9f3a"
            ],
            [
             0.8888888888888888,
             "#fdca26"
            ],
            [
             1,
             "#f0f921"
            ]
           ]
          },
          "colorway": [
           "#636efa",
           "#EF553B",
           "#00cc96",
           "#ab63fa",
           "#FFA15A",
           "#19d3f3",
           "#FF6692",
           "#B6E880",
           "#FF97FF",
           "#FECB52"
          ],
          "font": {
           "color": "#2a3f5f"
          },
          "geo": {
           "bgcolor": "white",
           "lakecolor": "white",
           "landcolor": "white",
           "showlakes": true,
           "showland": true,
           "subunitcolor": "#C8D4E3"
          },
          "hoverlabel": {
           "align": "left"
          },
          "hovermode": "closest",
          "mapbox": {
           "style": "light"
          },
          "paper_bgcolor": "white",
          "plot_bgcolor": "white",
          "polar": {
           "angularaxis": {
            "gridcolor": "#EBF0F8",
            "linecolor": "#EBF0F8",
            "ticks": ""
           },
           "bgcolor": "white",
           "radialaxis": {
            "gridcolor": "#EBF0F8",
            "linecolor": "#EBF0F8",
            "ticks": ""
           }
          },
          "scene": {
           "xaxis": {
            "backgroundcolor": "white",
            "gridcolor": "#DFE8F3",
            "gridwidth": 2,
            "linecolor": "#EBF0F8",
            "showbackground": true,
            "ticks": "",
            "zerolinecolor": "#EBF0F8"
           },
           "yaxis": {
            "backgroundcolor": "white",
            "gridcolor": "#DFE8F3",
            "gridwidth": 2,
            "linecolor": "#EBF0F8",
            "showbackground": true,
            "ticks": "",
            "zerolinecolor": "#EBF0F8"
           },
           "zaxis": {
            "backgroundcolor": "white",
            "gridcolor": "#DFE8F3",
            "gridwidth": 2,
            "linecolor": "#EBF0F8",
            "showbackground": true,
            "ticks": "",
            "zerolinecolor": "#EBF0F8"
           }
          },
          "shapedefaults": {
           "line": {
            "color": "#2a3f5f"
           }
          },
          "ternary": {
           "aaxis": {
            "gridcolor": "#DFE8F3",
            "linecolor": "#A2B1C6",
            "ticks": ""
           },
           "baxis": {
            "gridcolor": "#DFE8F3",
            "linecolor": "#A2B1C6",
            "ticks": ""
           },
           "bgcolor": "white",
           "caxis": {
            "gridcolor": "#DFE8F3",
            "linecolor": "#A2B1C6",
            "ticks": ""
           }
          },
          "title": {
           "x": 0.05
          },
          "xaxis": {
           "automargin": true,
           "gridcolor": "#EBF0F8",
           "linecolor": "#EBF0F8",
           "ticks": "",
           "title": {
            "standoff": 15
           },
           "zerolinecolor": "#EBF0F8",
           "zerolinewidth": 2
          },
          "yaxis": {
           "automargin": true,
           "gridcolor": "#EBF0F8",
           "linecolor": "#EBF0F8",
           "ticks": "",
           "title": {
            "standoff": 15
           },
           "zerolinecolor": "#EBF0F8",
           "zerolinewidth": 2
          }
         }
        },
        "title": {
         "font": {
          "family": "Arial"
         },
         "text": "<span style='font-size:22px; font-weight: 700;'>TITANO SAN MARINO - PALL. URBANIA&nbsp;&nbsp;&nbsp;&nbsp;56 - 63</span><br><span style=\"font-size: 15px;\">3 cambi in testa&nbsp;&nbsp;&nbsp;&nbsp;&nbsp;Massimo vantaggio: +9&nbsp;&nbsp;&nbsp;&nbsp;&nbsp;Massimo svantaggio: -8.</span>",
         "x": 0.02,
         "xanchor": "left",
         "y": 0.98,
         "yanchor": "top"
        },
        "xaxis": {
         "range": [
          "2025-03-10T23:59:30",
          "2025-03-11T00:40:30"
         ],
         "tickmode": "array",
         "ticktext": [
          "0'",
          "1'",
          "2'",
          "3'",
          "4'",
          "5'",
          "6'",
          "7'",
          "8'",
          "9'",
          "10'",
          "11'",
          "12'",
          "13'",
          "14'",
          "15'",
          "16'",
          "17'",
          "18'",
          "19'",
          "20'",
          "21'",
          "22'",
          "23'",
          "24'",
          "25'",
          "26'",
          "27'",
          "28'",
          "29'",
          "30'",
          "31'",
          "32'",
          "33'",
          "34'",
          "35'",
          "36'",
          "37'",
          "38'",
          "39'",
          "40'"
         ],
         "tickvals": [
          "2025-03-11T00:00:00",
          "2025-03-11T00:01:00",
          "2025-03-11T00:02:00",
          "2025-03-11T00:03:00",
          "2025-03-11T00:04:00",
          "2025-03-11T00:05:00",
          "2025-03-11T00:06:00",
          "2025-03-11T00:07:00",
          "2025-03-11T00:08:00",
          "2025-03-11T00:09:00",
          "2025-03-11T00:10:00",
          "2025-03-11T00:11:00",
          "2025-03-11T00:12:00",
          "2025-03-11T00:13:00",
          "2025-03-11T00:14:00",
          "2025-03-11T00:15:00",
          "2025-03-11T00:16:00",
          "2025-03-11T00:17:00",
          "2025-03-11T00:18:00",
          "2025-03-11T00:19:00",
          "2025-03-11T00:20:00",
          "2025-03-11T00:21:00",
          "2025-03-11T00:22:00",
          "2025-03-11T00:23:00",
          "2025-03-11T00:24:00",
          "2025-03-11T00:25:00",
          "2025-03-11T00:26:00",
          "2025-03-11T00:27:00",
          "2025-03-11T00:28:00",
          "2025-03-11T00:29:00",
          "2025-03-11T00:30:00",
          "2025-03-11T00:31:00",
          "2025-03-11T00:32:00",
          "2025-03-11T00:33:00",
          "2025-03-11T00:34:00",
          "2025-03-11T00:35:00",
          "2025-03-11T00:36:00",
          "2025-03-11T00:37:00",
          "2025-03-11T00:38:00",
          "2025-03-11T00:39:00",
          "2025-03-11T00:40:00"
         ],
         "title": {
          "text": "Minuti"
         },
         "type": "date"
        },
        "yaxis": {
         "range": [
          0,
          72
         ],
         "title": {
          "text": "Punti"
         },
         "type": "linear"
        }
       }
      },
      "image/png": "[encoded data removed]",
      "text/html": [
       "<div>                            <div id=\"ba8bc960-c26e-4a00-ac97-8f122119f61b\" class=\"plotly-graph-div\" style=\"height:1000px; width:100%;\"></div>            <script type=\"text/javascript\">                require([\"plotly\"], function(Plotly) {                    window.PLOTLYENV=window.PLOTLYENV || {};                                    if (document.getElementById(\"ba8bc960-c26e-4a00-ac97-8f122119f61b\")) {                    Plotly.newPlot(                        \"ba8bc960-c26e-4a00-ac97-8f122119f61b\",                        [{\"customdata\":[\"Pentucci 2P\",\"Marcantognini 1P\",\"Marcantognini 1P\",\"Pentucci 2P\",\"Marcantognini 2P\",\"Marcantognini 3P\",\"Diana 3P\",\"Diana 1P\",\"Baldassarri 3P\",\"Baldassarri 3P\",\"Diana 2P\",\"Baldassarri 2P\",\"Perez Da Rold 2P\",\"Di Francesco 2P\",\"Di Francesco 3P\",\"Pentucci 2P\",\"Perez Da Rold 2P\",\"Baldassarri 3P\",\"Pentucci 3P\",\"Jareci 3P\",\"Baldassarri 3P\",\"Marcantognini 3P\",\"Pentucci 1P\",\"Pentucci 1P\",\"Marcantognini 3P\",\"Aloi 2P\",\"Marcantognini 1P\",\"Di Francesco 1P\",\"Di Francesco 1P\",\"Baldassarri 1P\",\"Baldassarri 1P\"],\"hovertemplate\":\"%{y} - %{customdata} - %{x|%M':%S\\\"}\",\"line\":{\"color\":\"green\",\"shape\":\"hv\"},\"marker\":{\"color\":\"green\",\"size\":15},\"mode\":\"lines+markers+text\",\"name\":\"PALLACANESTRO URBANIA\",\"text\":[\"2\",\"3\",\"4\",\"6\",\"8\",\"11\",\"14\",\"15\",\"18\",\"21\",\"23\",\"25\",\"27\",\"29\",\"32\",\"34\",\"36\",\"39\",\"42\",\"45\",\"48\",\"51\",\"52\",\"53\",\"56\",\"58\",\"59\",\"60\",\"61\",\"62\",\"63\"],\"textposition\":[\"bottom right\",\"bottom right\",\"bottom right\",\"bottom right\",\"bottom right\",\"bottom right\",\"bottom right\",\"bottom right\",\"bottom right\",\"top left\",\"top left\",\"top left\",\"bottom right\",\"bottom right\",\"bottom right\",\"bottom right\",\"bottom right\",\"bottom right\",\"bottom right\",\"bottom right\",\"top left\",\"top left\",\"top left\",\"top left\",\"top left\",\"top left\",\"top left\",\"top left\",\"top left\",\"top left\",\"top left\"],\"x\":[\"2025-03-11T00:02:48\",\"2025-03-11T00:03:22\",\"2025-03-11T00:03:22\",\"2025-03-11T00:04:10\",\"2025-03-11T00:04:30\",\"2025-03-11T00:05:09\",\"2025-03-11T00:08:00\",\"2025-03-11T00:09:18\",\"2025-03-11T00:12:19\",\"2025-03-11T00:13:00\",\"2025-03-11T00:14:05\",\"2025-03-11T00:15:10\",\"2025-03-11T00:17:53\",\"2025-03-11T00:19:15\",\"2025-03-11T00:20:51\",\"2025-03-11T00:21:58\",\"2025-03-11T00:25:28\",\"2025-03-11T00:26:26\",\"2025-03-11T00:28:06\",\"2025-03-11T00:30:29\",\"2025-03-11T00:31:18\",\"2025-03-11T00:32:13\",\"2025-03-11T00:33:59\",\"2025-03-11T00:33:59\",\"2025-03-11T00:34:28\",\"2025-03-11T00:35:48\",\"2025-03-11T00:37:49\",\"2025-03-11T00:39:08\",\"2025-03-11T00:39:08\",\"2025-03-11T00:39:43\",\"2025-03-11T00:39:43\"],\"y\":[2,3,4,6,8,11,14,15,18,21,23,25,27,29,32,34,36,39,42,45,48,51,52,53,56,58,59,60,61,62,63],\"type\":\"scatter\",\"textfont\":{\"color\":\"green\"}},{\"customdata\":[\"Pentucci 2P\",\"Marcantognini 1P\",\"Marcantognini 1P\",\"Pentucci 2P\",\"Marcantognini 2P\",\"Marcantognini 3P\",\"Diana 3P\",\"Diana 1P\",\"Baldassarri 3P\",\"Baldassarri 3P\",\"Diana 2P\",\"Baldassarri 2P\",\"Perez Da Rold 2P\",\"Di Francesco 2P\",\"Di Francesco 3P\",\"Pentucci 2P\",\"Perez Da Rold 2P\",\"Baldassarri 3P\",\"Pentucci 3P\",\"Jareci 3P\",\"Baldassarri 3P\",\"Marcantognini 3P\",\"Pentucci 1P\",\"Pentucci 1P\",\"Marcantognini 3P\",\"Aloi 2P\",\"Marcantognini 1P\",\"Di Francesco 1P\",\"Di Francesco 1P\",\"Baldassarri 1P\",\"Baldassarri 1P\"],\"hovertemplate\":\"%{y} - %{customdata} - %{x|%M':%S\\\"}\",\"marker\":{\"color\":\"white\",\"size\":0},\"mode\":\"text\",\"name\":\"\",\"showlegend\":false,\"text\":[\"2\",\"1\",\"1\",\"2\",\"2\",\"3\",\"3\",\"1\",\"3\",\"3\",\"2\",\"2\",\"2\",\"2\",\"3\",\"2\",\"2\",\"3\",\"3\",\"3\",\"3\",\"3\",\"1\",\"1\",\"3\",\"2\",\"1\",\"1\",\"1\",\"1\",\"1\"],\"textfont\":{\"color\":\"white\",\"family\":\"arial\",\"size\":11},\"textposition\":\"middle center\",\"x\":[\"2025-03-11T00:02:48\",\"2025-03-11T00:03:22\",\"2025-03-11T00:03:22\",\"2025-03-11T00:04:10\",\"2025-03-11T00:04:30\",\"2025-03-11T00:05:09\",\"2025-03-11T00:08:00\",\"2025-03-11T00:09:18\",\"2025-03-11T00:12:19\",\"2025-03-11T00:13:00\",\"2025-03-11T00:14:05\",\"2025-03-11T00:15:10\",\"2025-03-11T00:17:53\",\"2025-03-11T00:19:15\",\"2025-03-11T00:20:51\",\"2025-03-11T00:21:58\",\"2025-03-11T00:25:28\",\"2025-03-11T00:26:26\",\"2025-03-11T00:28:06\",\"2025-03-11T00:30:29\",\"2025-03-11T00:31:18\",\"2025-03-11T00:32:13\",\"2025-03-11T00:33:59\",\"2025-03-11T00:33:59\",\"2025-03-11T00:34:28\",\"2025-03-11T00:35:48\",\"2025-03-11T00:37:49\",\"2025-03-11T00:39:08\",\"2025-03-11T00:39:08\",\"2025-03-11T00:39:43\",\"2025-03-11T00:39:43\"],\"y\":[2,3,4,6,8,11,14,15,18,21,23,25,27,29,32,34,36,39,42,45,48,51,52,53,56,58,59,60,61,62,63],\"type\":\"scatter\"},{\"customdata\":[\"Fusco 2P\",\"Macina 2P\",\"Botteghi T. 2P\",\"Felici 2P\",\"Fusco 3P\",\"Felici 2P\",\"Bomba 3P\",\"Fiorani 2P\",\"Lorenzi 1P\",\"Lorenzi 1P\",\"Lorenzi 1P\",\"Lorenzi 2P\",\"Lorenzi 3P\",\"Lorenzi 2P\",\"Felici 2P\",\"Felici 1P\",\"Felici 1P\",\"Macina 2P\",\"Macina 1P\",\"Botteghi T. 2P\",\"Felici 2P\",\"Fusco 2P\",\"Felici 2P\",\"Bomba 2P\",\"Lorenzi 2P\",\"Fusco 1P\",\"Fusco 1P\",\"Felici 1P\",\"Felici 1P\",\"Felici 1P\",\"Felici 2P\",\"Fusco 1P\",\"Fusco 1P\"],\"hovertemplate\":\"%{y} - %{customdata} - %{x|%M':%S\\\"}\",\"line\":{\"color\":\"red\",\"shape\":\"hv\"},\"marker\":{\"color\":\"red\",\"size\":15},\"mode\":\"lines+markers+text\",\"name\":\"TITANO SAN MARINO\",\"text\":[\"2\",\"4\",\"6\",\"8\",\"11\",\"13\",\"16\",\"18\",\"19\",\"20\",\"21\",\"23\",\"26\",\"28\",\"30\",\"31\",\"32\",\"34\",\"35\",\"37\",\"39\",\"41\",\"43\",\"45\",\"47\",\"48\",\"49\",\"50\",\"51\",\"52\",\"54\",\"55\",\"56\"],\"textposition\":[\"top left\",\"top left\",\"top left\",\"top left\",\"top left\",\"top left\",\"top left\",\"top left\",\"top left\",\"top left\",\"bottom right\",\"bottom right\",\"top left\",\"top left\",\"top left\",\"top left\",\"top left\",\"top left\",\"top left\",\"top left\",\"top left\",\"top left\",\"top left\",\"top left\",\"top left\",\"bottom right\",\"bottom right\",\"bottom right\",\"bottom right\",\"bottom right\",\"bottom right\",\"bottom right\",\"bottom right\"],\"x\":[\"2025-03-11T00:00:23\",\"2025-03-11T00:00:42\",\"2025-03-11T00:01:52\",\"2025-03-11T00:02:28\",\"2025-03-11T00:03:53\",\"2025-03-11T00:05:39\",\"2025-03-11T00:07:40\",\"2025-03-11T00:10:49\",\"2025-03-11T00:12:02\",\"2025-03-11T00:12:02\",\"2025-03-11T00:13:24\",\"2025-03-11T00:14:19\",\"2025-03-11T00:15:30\",\"2025-03-11T00:16:13\",\"2025-03-11T00:16:48\",\"2025-03-11T00:17:34\",\"2025-03-11T00:17:34\",\"2025-03-11T00:18:58\",\"2025-03-11T00:18:58\",\"2025-03-11T00:21:06\",\"2025-03-11T00:23:05\",\"2025-03-11T00:24:30\",\"2025-03-11T00:25:41\",\"2025-03-11T00:27:39\",\"2025-03-11T00:29:26\",\"2025-03-11T00:32:28\",\"2025-03-11T00:32:28\",\"2025-03-11T00:37:28\",\"2025-03-11T00:39:04\",\"2025-03-11T00:39:04\",\"2025-03-11T00:39:22\",\"2025-03-11T00:39:41\",\"2025-03-11T00:39:41\"],\"y\":[2,4,6,8,11,13,16,18,19,20,21,23,26,28,30,31,32,34,35,37,39,41,43,45,47,48,49,50,51,52,54,55,56],\"type\":\"scatter\",\"textfont\":{\"color\":\"red\"}},{\"customdata\":[\"Fusco 2P\",\"Macina 2P\",\"Botteghi T. 2P\",\"Felici 2P\",\"Fusco 3P\",\"Felici 2P\",\"Bomba 3P\",\"Fiorani 2P\",\"Lorenzi 1P\",\"Lorenzi 1P\",\"Lorenzi 1P\",\"Lorenzi 2P\",\"Lorenzi 3P\",\"Lorenzi 2P\",\"Felici 2P\",\"Felici 1P\",\"Felici 1P\",\"Macina 2P\",\"Macina 1P\",\"Botteghi T. 2P\",\"Felici 2P\",\"Fusco 2P\",\"Felici 2P\",\"Bomba 2P\",\"Lorenzi 2P\",\"Fusco 1P\",\"Fusco 1P\",\"Felici 1P\",\"Felici 1P\",\"Felici 1P\",\"Felici 2P\",\"Fusco 1P\",\"Fusco 1P\"],\"hovertemplate\":\"%{y} - %{customdata} - %{x|%M':%S\\\"}\",\"marker\":{\"color\":\"white\",\"size\":0},\"mode\":\"text\",\"name\":\"\",\"showlegend\":false,\"text\":[\"2\",\"2\",\"2\",\"2\",\"3\",\"2\",\"3\",\"2\",\"1\",\"1\",\"1\",\"2\",\"3\",\"2\",\"2\",\"1\",\"1\",\"2\",\"1\",\"2\",\"2\",\"2\",\"2\",\"2\",\"2\",\"1\",\"1\",\"1\",\"1\",\"1\",\"2\",\"1\",\"1\"],\"textfont\":{\"color\":\"white\",\"family\":\"arial\",\"size\":11},\"textposition\":\"middle center\",\"x\":[\"2025-03-11T00:00:23\",\"2025-03-11T00:00:42\",\"2025-03-11T00:01:52\",\"2025-03-11T00:02:28\",\"2025-03-11T00:03:53\",\"2025-03-11T00:05:39\",\"2025-03-11T00:07:40\",\"2025-03-11T00:10:49\",\"2025-03-11T00:12:02\",\"2025-03-11T00:12:02\",\"2025-03-11T00:13:24\",\"2025-03-11T00:14:19\",\"2025-03-11T00:15:30\",\"2025-03-11T00:16:13\",\"2025-03-11T00:16:48\",\"2025-03-11T00:17:34\",\"2025-03-11T00:17:34\",\"2025-03-11T00:18:58\",\"2025-03-11T00:18:58\",\"2025-03-11T00:21:06\",\"2025-03-11T00:23:05\",\"2025-03-11T00:24:30\",\"2025-03-11T00:25:41\",\"2025-03-11T00:27:39\",\"2025-03-11T00:29:26\",\"2025-03-11T00:32:28\",\"2025-03-11T00:32:28\",\"2025-03-11T00:37:28\",\"2025-03-11T00:39:04\",\"2025-03-11T00:39:04\",\"2025-03-11T00:39:22\",\"2025-03-11T00:39:41\",\"2025-03-11T00:39:41\"],\"y\":[2,4,6,8,11,13,16,18,19,20,21,23,26,28,30,31,32,34,35,37,39,41,43,45,47,48,49,50,51,52,54,55,56],\"type\":\"scatter\"}],                        {\"template\":{\"data\":{\"barpolar\":[{\"marker\":{\"line\":{\"color\":\"white\",\"width\":0.5},\"pattern\":{\"fillmode\":\"overlay\",\"size\":10,\"solidity\":0.2}},\"type\":\"barpolar\"}],\"bar\":[{\"error_x\":{\"color\":\"#2a3f5f\"},\"error_y\":{\"color\":\"#2a3f5f\"},\"marker\":{\"line\":{\"color\":\"white\",\"width\":0.5},\"pattern\":{\"fillmode\":\"overlay\",\"size\":10,\"solidity\":0.2}},\"type\":\"bar\"}],\"carpet\":[{\"aaxis\":{\"endlinecolor\":\"#2a3f5f\",\"gridcolor\":\"#C8D4E3\",\"linecolor\":\"#C8D4E3\",\"minorgridcolor\":\"#C8D4E3\",\"startlinecolor\":\"#2a3f5f\"},\"baxis\":{\"endlinecolor\":\"#2a3f5f\",\"gridcolor\":\"#C8D4E3\",\"linecolor\":\"#C8D4E3\",\"minorgridcolor\":\"#C8D4E3\",\"startlinecolor\":\"#2a3f5f\"},\"type\":\"carpet\"}],\"choropleth\":[{\"colorbar\":{\"outlinewidth\":0,\"ticks\":\"\"},\"type\":\"choropleth\"}],\"contourcarpet\":[{\"colorbar\":{\"outlinewidth\":0,\"ticks\":\"\"},\"type\":\"contourcarpet\"}],\"contour\":[{\"colorbar\":{\"outlinewidth\":0,\"ticks\":\"\"},\"colorscale\":[[0.0,\"#0d0887\"],[0.1111111111111111,\"#46039f\"],[0.2222222222222222,\"#7201a8\"],[0.3333333333333333,\"#9c179e\"],[0.4444444444444444,\"#bd3786\"],[0.5555555555555556,\"#d8576b\"],[0.6666666666666666,\"#ed7953\"],[0.7777777777777778,\"#fb9f3a\"],[0.8888888888888888,\"#fdca26\"],[1.0,\"#f0f921\"]],\"type\":\"contour\"}],\"heatmapgl\":[{\"colorbar\":{\"outlinewidth\":0,\"ticks\":\"\"},\"colorscale\":[[0.0,\"#0d0887\"],[0.1111111111111111,\"#46039f\"],[0.2222222222222222,\"#7201a8\"],[0.3333333333333333,\"#9c179e\"],[0.4444444444444444,\"#bd3786\"],[0.5555555555555556,\"#d8576b\"],[0.6666666666666666,\"#ed7953\"],[0.7777777777777778,\"#fb9f3a\"],[0.8888888888888888,\"#fdca26\"],[1.0,\"#f0f921\"]],\"type\":\"heatmapgl\"}],\"heatmap\":[{\"colorbar\":{\"outlinewidth\":0,\"ticks\":\"\"},\"colorscale\":[[0.0,\"#0d0887\"],[0.1111111111111111,\"#46039f\"],[0.2222222222222222,\"#7201a8\"],[0.3333333333333333,\"#9c179e\"],[0.4444444444444444,\"#bd3786\"],[0.5555555555555556,\"#d8576b\"],[0.6666666666666666,\"#ed7953\"],[0.7777777777777778,\"#fb9f3a\"],[0.8888888888888888,\"#fdca26\"],[1.0,\"#f0f921\"]],\"type\":\"heatmap\"}],\"histogram2dcontour\":[{\"colorbar\":{\"outlinewidth\":0,\"ticks\":\"\"},\"colorscale\":[[0.0,\"#0d0887\"],[0.1111111111111111,\"#46039f\"],[0.2222222222222222,\"#7201a8\"],[0.3333333333333333,\"#9c179e\"],[0.4444444444444444,\"#bd3786\"],[0.5555555555555556,\"#d8576b\"],[0.6666666666666666,\"#ed7953\"],[0.7777777777777778,\"#fb9f3a\"],[0.8888888888888888,\"#fdca26\"],[1.0,\"#f0f921\"]],\"type\":\"histogram2dcontour\"}],\"histogram2d\":[{\"colorbar\":{\"outlinewidth\":0,\"ticks\":\"\"},\"colorscale\":[[0.0,\"#0d0887\"],[0.1111111111111111,\"#46039f\"],[0.2222222222222222,\"#7201a8\"],[0.3333333333333333,\"#9c179e\"],[0.4444444444444444,\"#bd3786\"],[0.5555555555555556,\"#d8576b\"],[0.6666666666666666,\"#ed7953\"],[0.7777777777777778,\"#fb9f3a\"],[0.8888888888888888,\"#fdca26\"],[1.0,\"#f0f921\"]],\"type\":\"histogram2d\"}],\"histogram\":[{\"marker\":{\"pattern\":{\"fillmode\":\"overlay\",\"size\":10,\"solidity\":0.2}},\"type\":\"histogram\"}],\"mesh3d\":[{\"colorbar\":{\"outlinewidth\":0,\"ticks\":\"\"},\"type\":\"mesh3d\"}],\"parcoords\":[{\"line\":{\"colorbar\":{\"outlinewidth\":0,\"ticks\":\"\"}},\"type\":\"parcoords\"}],\"pie\":[{\"automargin\":true,\"type\":\"pie\"}],\"scatter3d\":[{\"line\":{\"colorbar\":{\"outlinewidth\":0,\"ticks\":\"\"}},\"marker\":{\"colorbar\":{\"outlinewidth\":0,\"ticks\":\"\"}},\"type\":\"scatter3d\"}],\"scattercarpet\":[{\"marker\":{\"colorbar\":{\"outlinewidth\":0,\"ticks\":\"\"}},\"type\":\"scattercarpet\"}],\"scattergeo\":[{\"marker\":{\"colorbar\":{\"outlinewidth\":0,\"ticks\":\"\"}},\"type\":\"scattergeo\"}],\"scattergl\":[{\"marker\":{\"colorbar\":{\"outlinewidth\":0,\"ticks\":\"\"}},\"type\":\"scattergl\"}],\"scattermapbox\":[{\"marker\":{\"colorbar\":{\"outlinewidth\":0,\"ticks\":\"\"}},\"type\":\"scattermapbox\"}],\"scatterpolargl\":[{\"marker\":{\"colorbar\":{\"outlinewidth\":0,\"ticks\":\"\"}},\"type\":\"scatterpolargl\"}],\"scatterpolar\":[{\"marker\":{\"colorbar\":{\"outlinewidth\":0,\"ticks\":\"\"}},\"type\":\"scatterpolar\"}],\"scatter\":[{\"fillpattern\":{\"fillmode\":\"overlay\",\"size\":10,\"solidity\":0.2},\"type\":\"scatter\"}],\"scatterternary\":[{\"marker\":{\"colorbar\":{\"outlinewidth\":0,\"ticks\":\"\"}},\"type\":\"scatterternary\"}],\"surface\":[{\"colorbar\":{\"outlinewidth\":0,\"ticks\":\"\"},\"colorscale\":[[0.0,\"#0d0887\"],[0.1111111111111111,\"#46039f\"],[0.2222222222222222,\"#7201a8\"],[0.3333333333333333,\"#9c179e\"],[0.4444444444444444,\"#bd3786\"],[0.5555555555555556,\"#d8576b\"],[0.6666666666666666,\"#ed7953\"],[0.7777777777777778,\"#fb9f3a\"],[0.8888888888888888,\"#fdca26\"],[1.0,\"#f0f921\"]],\"type\":\"surface\"}],\"table\":[{\"cells\":{\"fill\":{\"color\":\"#EBF0F8\"},\"line\":{\"color\":\"white\"}},\"header\":{\"fill\":{\"color\":\"#C8D4E3\"},\"line\":{\"color\":\"white\"}},\"type\":\"table\"}]},\"layout\":{\"annotationdefaults\":{\"arrowcolor\":\"#2a3f5f\",\"arrowhead\":0,\"arrowwidth\":1},\"autotypenumbers\":\"strict\",\"coloraxis\":{\"colorbar\":{\"outlinewidth\":0,\"ticks\":\"\"}},\"colorscale\":{\"diverging\":[[0,\"#8e0152\"],[0.1,\"#c51b7d\"],[0.2,\"#de77ae\"],[0.3,\"#f1b6da\"],[0.4,\"#fde0ef\"],[0.5,\"#f7f7f7\"],[0.6,\"#e6f5d0\"],[0.7,\"#b8e186\"],[0.8,\"#7fbc41\"],[0.9,\"#4d9221\"],[1,\"#276419\"]],\"sequential\":[[0.0,\"#0d0887\"],[0.1111111111111111,\"#46039f\"],[0.2222222222222222,\"#7201a8\"],[0.3333333333333333,\"#9c179e\"],[0.4444444444444444,\"#bd3786\"],[0.5555555555555556,\"#d8576b\"],[0.6666666666666666,\"#ed7953\"],[0.7777777777777778,\"#fb9f3a\"],[0.8888888888888888,\"#fdca26\"],[1.0,\"#f0f921\"]],\"sequentialminus\":[[0.0,\"#0d0887\"],[0.1111111111111111,\"#46039f\"],[0.2222222222222222,\"#7201a8\"],[0.3333333333333333,\"#9c179e\"],[0.4444444444444444,\"#bd3786\"],[0.5555555555555556,\"#d8576b\"],[0.6666666666666666,\"#ed7953\"],[0.7777777777777778,\"#fb9f3a\"],[0.8888888888888888,\"#fdca26\"],[1.0,\"#f0f921\"]]},\"colorway\":[\"#636efa\",\"#EF553B\",\"#00cc96\",\"#ab63fa\",\"#FFA15A\",\"#19d3f3\",\"#FF6692\",\"#B6E880\",\"#FF97FF\",\"#FECB52\"],\"font\":{\"color\":\"#2a3f5f\"},\"geo\":{\"bgcolor\":\"white\",\"lakecolor\":\"white\",\"landcolor\":\"white\",\"showlakes\":true,\"showland\":true,\"subunitcolor\":\"#C8D4E3\"},\"hoverlabel\":{\"align\":\"left\"},\"hovermode\":\"closest\",\"mapbox\":{\"style\":\"light\"},\"paper_bgcolor\":\"white\",\"plot_bgcolor\":\"white\",\"polar\":{\"angularaxis\":{\"gridcolor\":\"#EBF0F8\",\"linecolor\":\"#EBF0F8\",\"ticks\":\"\"},\"bgcolor\":\"white\",\"radialaxis\":{\"gridcolor\":\"#EBF0F8\",\"linecolor\":\"#EBF0F8\",\"ticks\":\"\"}},\"scene\":{\"xaxis\":{\"backgroundcolor\":\"white\",\"gridcolor\":\"#DFE8F3\",\"gridwidth\":2,\"linecolor\":\"#EBF0F8\",\"showbackground\":true,\"ticks\":\"\",\"zerolinecolor\":\"#EBF0F8\"},\"yaxis\":{\"backgroundcolor\":\"white\",\"gridcolor\":\"#DFE8F3\",\"gridwidth\":2,\"linecolor\":\"#EBF0F8\",\"showbackground\":true,\"ticks\":\"\",\"zerolinecolor\":\"#EBF0F8\"},\"zaxis\":{\"backgroundcolor\":\"white\",\"gridcolor\":\"#DFE8F3\",\"gridwidth\":2,\"linecolor\":\"#EBF0F8\",\"showbackground\":true,\"ticks\":\"\",\"zerolinecolor\":\"#EBF0F8\"}},\"shapedefaults\":{\"line\":{\"color\":\"#2a3f5f\"}},\"ternary\":{\"aaxis\":{\"gridcolor\":\"#DFE8F3\",\"linecolor\":\"#A2B1C6\",\"ticks\":\"\"},\"baxis\":{\"gridcolor\":\"#DFE8F3\",\"linecolor\":\"#A2B1C6\",\"ticks\":\"\"},\"bgcolor\":\"white\",\"caxis\":{\"gridcolor\":\"#DFE8F3\",\"linecolor\":\"#A2B1C6\",\"ticks\":\"\"}},\"title\":{\"x\":0.05},\"xaxis\":{\"automargin\":true,\"gridcolor\":\"#EBF0F8\",\"linecolor\":\"#EBF0F8\",\"ticks\":\"\",\"title\":{\"standoff\":15},\"zerolinecolor\":\"#EBF0F8\",\"zerolinewidth\":2},\"yaxis\":{\"automargin\":true,\"gridcolor\":\"#EBF0F8\",\"linecolor\":\"#EBF0F8\",\"ticks\":\"\",\"title\":{\"standoff\":15},\"zerolinecolor\":\"#EBF0F8\",\"zerolinewidth\":2}}},\"shapes\":[{\"line\":{\"color\":\"rgb(90,90,90)\",\"dash\":\"dash\",\"width\":2},\"type\":\"line\",\"x0\":\"2025-03-11T00:10:00\",\"x1\":\"2025-03-11T00:10:00\",\"xref\":\"x\",\"y0\":0,\"y1\":1,\"yref\":\"y domain\"},{\"line\":{\"color\":\"rgb(90,90,90)\",\"dash\":\"dash\",\"width\":2},\"type\":\"line\",\"x0\":\"2025-03-11T00:20:00\",\"x1\":\"2025-03-11T00:20:00\",\"xref\":\"x\",\"y0\":0,\"y1\":1,\"yref\":\"y domain\"},{\"line\":{\"color\":\"rgb(90,90,90)\",\"dash\":\"dash\",\"width\":2},\"type\":\"line\",\"x0\":\"2025-03-11T00:30:00\",\"x1\":\"2025-03-11T00:30:00\",\"xref\":\"x\",\"y0\":0,\"y1\":1,\"yref\":\"y domain\"},{\"line\":{\"color\":\"rgb(90,90,90)\",\"dash\":\"dash\",\"width\":2},\"type\":\"line\",\"x0\":\"2025-03-11T00:40:00\",\"x1\":\"2025-03-11T00:40:00\",\"xref\":\"x\",\"y0\":0,\"y1\":1,\"yref\":\"y domain\"},{\"line\":{\"color\":\"rgb(90,90,90)\",\"dash\":\"dash\",\"width\":2},\"type\":\"line\",\"x0\":\"2025-03-11T00:45:00\",\"x1\":\"2025-03-11T00:45:00\",\"xref\":\"x\",\"y0\":0,\"y1\":1,\"yref\":\"y domain\"},{\"line\":{\"color\":\"rgb(90,90,90)\",\"dash\":\"dash\",\"width\":2},\"type\":\"line\",\"x0\":\"2025-03-11T00:50:00\",\"x1\":\"2025-03-11T00:50:00\",\"xref\":\"x\",\"y0\":0,\"y1\":1,\"yref\":\"y domain\"},{\"line\":{\"color\":\"rgb(90,90,90)\",\"dash\":\"dash\",\"width\":2},\"type\":\"line\",\"x0\":\"2025-03-11T00:55:00\",\"x1\":\"2025-03-11T00:55:00\",\"xref\":\"x\",\"y0\":0,\"y1\":1,\"yref\":\"y domain\"},{\"line\":{\"color\":\"rgb(90,90,90)\",\"dash\":\"dash\",\"width\":2},\"type\":\"line\",\"x0\":\"2025-03-11T01:00:00\",\"x1\":\"2025-03-11T01:00:00\",\"xref\":\"x\",\"y0\":0,\"y1\":1,\"yref\":\"y domain\"}],\"title\":{\"font\":{\"family\":\"Arial\"},\"text\":\"\\u003cspan style='font-size:22px; font-weight: 700;'\\u003eTITANO SAN MARINO - PALL. URBANIA&nbsp;&nbsp;&nbsp;&nbsp;56 - 63\\u003c\\u002fspan\\u003e\\u003cbr\\u003e\\u003cspan style=\\\"font-size: 15px;\\\"\\u003e3 cambi in testa&nbsp;&nbsp;&nbsp;&nbsp;&nbsp;Massimo vantaggio: +9&nbsp;&nbsp;&nbsp;&nbsp;&nbsp;Massimo svantaggio: -8.\\u003c\\u002fspan\\u003e\",\"y\":0.98,\"x\":0.02,\"xanchor\":\"left\",\"yanchor\":\"top\"},\"font\":{\"family\":\"Arial\",\"size\":13},\"xaxis\":{\"title\":{\"text\":\"Minuti\"},\"range\":[\"2025-03-10T23:59:30\",\"2025-03-11T00:40:30\"],\"tickmode\":\"array\",\"tickvals\":[\"2025-03-11T00:00:00\",\"2025-03-11T00:01:00\",\"2025-03-11T00:02:00\",\"2025-03-11T00:03:00\",\"2025-03-11T00:04:00\",\"2025-03-11T00:05:00\",\"2025-03-11T00:06:00\",\"2025-03-11T00:07:00\",\"2025-03-11T00:08:00\",\"2025-03-11T00:09:00\",\"2025-03-11T00:10:00\",\"2025-03-11T00:11:00\",\"2025-03-11T00:12:00\",\"2025-03-11T00:13:00\",\"2025-03-11T00:14:00\",\"2025-03-11T00:15:00\",\"2025-03-11T00:16:00\",\"2025-03-11T00:17:00\",\"2025-03-11T00:18:00\",\"2025-03-11T00:19:00\",\"2025-03-11T00:20:00\",\"2025-03-11T00:21:00\",\"2025-03-11T00:22:00\",\"2025-03-11T00:23:00\",\"2025-03-11T00:24:00\",\"2025-03-11T00:25:00\",\"2025-03-11T00:26:00\",\"2025-03-11T00:27:00\",\"2025-03-11T00:28:00\",\"2025-03-11T00:29:00\",\"2025-03-11T00:30:00\",\"2025-03-11T00:31:00\",\"2025-03-11T00:32:00\",\"2025-03-11T00:33:00\",\"2025-03-11T00:34:00\",\"2025-03-11T00:35:00\",\"2025-03-11T00:36:00\",\"2025-03-11T00:37:00\",\"2025-03-11T00:38:00\",\"2025-03-11T00:39:00\",\"2025-03-11T00:40:00\"],\"ticktext\":[\"0'\",\"1'\",\"2'\",\"3'\",\"4'\",\"5'\",\"6'\",\"7'\",\"8'\",\"9'\",\"10'\",\"11'\",\"12'\",\"13'\",\"14'\",\"15'\",\"16'\",\"17'\",\"18'\",\"19'\",\"20'\",\"21'\",\"22'\",\"23'\",\"24'\",\"25'\",\"26'\",\"27'\",\"28'\",\"29'\",\"30'\",\"31'\",\"32'\",\"33'\",\"34'\",\"35'\",\"36'\",\"37'\",\"38'\",\"39'\",\"40'\"]},\"yaxis\":{\"title\":{\"text\":\"Punti\"},\"range\":[0,72]},\"margin\":{\"l\":26,\"r\":10,\"b\":30,\"t\":80,\"pad\":0},\"legend\":{\"orientation\":\"h\",\"yanchor\":\"top\",\"y\":1.05,\"xanchor\":\"right\",\"x\":1.0},\"height\":1000,\"annotations\":[{\"showarrow\":false,\"text\":\"Q1: 16 - 15\",\"x\":\"2025-03-11T00:05:00\",\"y\":70},{\"showarrow\":false,\"text\":\"Q2: 19 - 14 (35 - 29)\",\"x\":\"2025-03-11T00:15:00\",\"y\":70},{\"showarrow\":false,\"text\":\"Q3: 12 - 13 (47 - 42)\",\"x\":\"2025-03-11T00:25:00\",\"y\":70},{\"showarrow\":false,\"text\":\"Q4: 9 - 21 (56 - 63)\",\"x\":\"2025-03-11T00:35:00\",\"y\":70}]},                        {\"responsive\": true}                    ).then(function(){\n",
       "                            \n",
       "var gd = document.getElementById('ba8bc960-c26e-4a00-ac97-8f122119f61b');\n",
       "var x = new MutationObserver(function (mutations, observer) {{\n",
       "        var display = window.getComputedStyle(gd).display;\n",
       "        if (!display || display === 'none') {{\n",
       "            console.log([gd, 'removed!']);\n",
       "            Plotly.purge(gd);\n",
       "            observer.disconnect();\n",
       "        }}\n",
       "}});\n",
       "\n",
       "// Listen for the removal of the full notebook cells\n",
       "var notebookContainer = gd.closest('#notebook-container');\n",
       "if (notebookContainer) {{\n",
       "    x.observe(notebookContainer, {childList: true});\n",
       "}}\n",
       "\n",
       "// Listen for the clearing of the current output cell\n",
       "var outputEl = gd.closest('.output');\n",
       "if (outputEl) {{\n",
       "    x.observe(outputEl, {childList: true});\n",
       "}}\n",
       "\n",
       "                        })                };                });            </script>        </div>"
      ]
     },
     "metadata": {},
     "output_type": "display_data"
    }
   ],
   "source": [
    "import Game\n",
    "import DigitalBoards\n",
    "import ScoreBoard\n",
    "import BoxScore\n",
    "import Stats\n",
    "\n",
    "import importlib\n",
    "importlib.reload(DigitalBoards)\n",
    "importlib.reload(Game)\n",
    "importlib.reload(ScoreBoard)\n",
    "importlib.reload(BoxScore)\n",
    "importlib.reload(Stats)\n",
    "\n",
    "from ipywidgets import widgets\n",
    "\n",
    "output = widgets.Output()\n",
    "display(output)\n",
    "\n",
    "board = ScoreBoard.ScoreBoard('./data/Urbania.team', './data/8.a-Ritorno-TITANO SAN MARINO.game', scale=0.4, output=output)\n",
    "\n",
    "fig = BoxScore.pointsChart(board.game.events_df, game=board.game, template='plotly_white', height_in_pixels=1000)\n",
    "\n",
    "# Save to PNG\n",
    "#bbb = fig.to_image('png', width=4000, height=1400)\n",
    "#with open('aaa.png', 'wb') as file:\n",
    "#    file.write(bbb)\n",
    "\n",
    "fig"
   ]
  },
  {
   "cell_type": "markdown",
   "id": "20c0372e-d8a9-4ee7-abea-250d29258f5f",
   "metadata": {
    "tags": []
   },
   "source": [
    "### Play by Play"
   ]
  },
  {
   "cell_type": "code",
   "execution_count": null,
   "id": "a39ba77c-389f-4bfc-b0c3-fe307d564412",
   "metadata": {
    "tags": []
   },
   "outputs": [],
   "source": [
    "from ipywidgets import HTML\n",
    "\n",
    "import Game\n",
    "import DigitalBoards\n",
    "import ScoreBoard\n",
    "import BoxScore\n",
    "import Stats\n",
    "\n",
    "import importlib\n",
    "importlib.reload(DigitalBoards)\n",
    "importlib.reload(Game)\n",
    "importlib.reload(ScoreBoard)\n",
    "importlib.reload(BoxScore)\n",
    "importlib.reload(Stats)\n",
    "\n",
    "from ipywidgets import widgets\n",
    "\n",
    "output = widgets.Output()\n",
    "display(output)\n",
    "\n",
    "board = ScoreBoard.ScoreBoard('./data/Urbania.team', './data/4.a-Ritorno-GIOVANE ROBUR OSIMO.game', scale=0.4, output=output)\n",
    "\n",
    "pbp = BoxScore.play_by_play(board.game.events_df, game=board.game)\n",
    "#HTML(pbp)"
   ]
  },
  {
   "cell_type": "code",
   "execution_count": null,
   "id": "d78c0304-0d9e-46d6-bcbb-7fad91bdc108",
   "metadata": {},
   "outputs": [],
   "source": [
    "html = '<div style=\"max-width: %fvw; max-height: 520px; overflow: auto; background-color: #ffffff;\">%s</div>'%(60.0,pbp)\n",
    "HTML(html)"
   ]
  },
  {
   "cell_type": "code",
   "execution_count": null,
   "id": "ef5294cf-6356-4242-aa17-23b3d174b2a3",
   "metadata": {},
   "outputs": [],
   "source": []
  }
 ],
 "metadata": {
  "kernelspec": {
   "display_name": "Python 3.11.9 (davide)",
   "language": "python",
   "name": "davide"
  },
  "language_info": {
   "codemirror_mode": {
    "name": "ipython",
    "version": 3
   },
   "file_extension": ".py",
   "mimetype": "text/x-python",
   "name": "python",
   "nbconvert_exporter": "python",
   "pygments_lexer": "ipython3",
   "version": "3.11.9"
  }
 },
 "nbformat": 4,
 "nbformat_minor": 5
}
