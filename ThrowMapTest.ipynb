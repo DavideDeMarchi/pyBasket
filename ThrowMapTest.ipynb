{
 "cells": [
  {
   "cell_type": "code",
   "execution_count": null,
   "id": "55192709-eb84-468e-b56f-698dffb0c886",
   "metadata": {
    "tags": []
   },
   "outputs": [],
   "source": [
    "from ipywidgets import widgets, HTML, Layout\n",
    "import ipyvuetify as v\n",
    "import ThrowMap\n",
    "import ScoreBoard\n",
    "\n",
    "#from vois import cssUtils\n",
    "#cssUtils.allSettings()\n",
    "\n",
    "command = '''\n",
    "<style>.jp-OutputPrompt {\n",
    "    flex: 0 0 0 !important;\n",
    "    display: inline !important;\n",
    "    min-width: 0 !important;\n",
    "    padding: 0 !important;\n",
    "}\n",
    "</style>'''\n",
    "\n",
    "display(HTML(command))\n",
    "\n",
    "        \n",
    "import importlib\n",
    "importlib.reload(ScoreBoard)\n",
    "importlib.reload(ThrowMap)\n",
    "\n",
    "output = widgets.Output()\n",
    "display(output)\n",
    "\n",
    "sb = ScoreBoard.ScoreBoard('./data/Urbania.team', './data/4.a-Ritorno-GIOVANE ROBUR OSIMO.game', scale=0.5, output=output)\n",
    "m = ThrowMap.ThrowMap(board=sb, scale=0.5, field_left=True, output=output)\n",
    "m.updateThrows(sb.game.events_df, player_name=None, background=True)\n",
    "display(m)\n",
    "\n",
    "m.debug"
   ]
  },
  {
   "cell_type": "code",
   "execution_count": null,
   "id": "c640c1c3-ec3b-449c-a1c8-ec7fcfb7e9b3",
   "metadata": {
    "tags": []
   },
   "outputs": [],
   "source": [
    "def onclick(x,y,argument):\n",
    "    with m.debug:\n",
    "        print(x,y,argument)\n",
    "    \n",
    "m.select(onclick=onclick, mode=2, scored=False)"
   ]
  },
  {
   "cell_type": "code",
   "execution_count": null,
   "id": "77d1f55e-0504-47a8-aa60-0f7539e1a84d",
   "metadata": {},
   "outputs": [],
   "source": [
    "m.outdraw"
   ]
  },
  {
   "cell_type": "code",
   "execution_count": null,
   "id": "5524c32f-0a7d-4c5f-9013-9826f9378154",
   "metadata": {},
   "outputs": [],
   "source": [
    "m.img"
   ]
  },
  {
   "cell_type": "code",
   "execution_count": null,
   "id": "da34ff46-8a54-4554-8593-27a120afbc9f",
   "metadata": {},
   "outputs": [],
   "source": [
    "m.img.width"
   ]
  },
  {
   "cell_type": "code",
   "execution_count": null,
   "id": "b23e4a9e-4279-48ea-b9b2-1a69469c8e55",
   "metadata": {},
   "outputs": [],
   "source": [
    "m.img.height"
   ]
  },
  {
   "cell_type": "code",
   "execution_count": null,
   "id": "c4ad0283-859b-4db5-8d13-8e0f7333eaa6",
   "metadata": {
    "tags": []
   },
   "outputs": [],
   "source": [
    "import io\n",
    "\n",
    "temp = io.BytesIO()\n",
    "m.imgBackground.save(temp, format=\"png\")"
   ]
  },
  {
   "cell_type": "code",
   "execution_count": null,
   "id": "f02d90a8-f417-4c22-b6c4-aadae3a496bd",
   "metadata": {
    "tags": []
   },
   "outputs": [],
   "source": [
    "type(temp.getvalue())"
   ]
  },
  {
   "cell_type": "code",
   "execution_count": null,
   "id": "1ad9041f-0b88-4909-abef-68bf66b7a3ab",
   "metadata": {
    "tags": []
   },
   "outputs": [],
   "source": [
    "m.scale = 0.3"
   ]
  },
  {
   "cell_type": "code",
   "execution_count": null,
   "id": "60a2a1e5-b9fd-42fe-8d0e-e52327897a80",
   "metadata": {
    "tags": []
   },
   "outputs": [],
   "source": [
    "m.imgBackground.size"
   ]
  },
  {
   "cell_type": "code",
   "execution_count": null,
   "id": "1099fe29-5271-4b01-8b1d-7723f534fcaf",
   "metadata": {
    "tags": []
   },
   "outputs": [],
   "source": [
    "m.mode = 1\n",
    "m.field_left = False"
   ]
  },
  {
   "cell_type": "code",
   "execution_count": null,
   "id": "065a1e52-2643-43a7-8d4a-89a56c017eed",
   "metadata": {
    "tags": []
   },
   "outputs": [],
   "source": [
    "m._width"
   ]
  },
  {
   "cell_type": "code",
   "execution_count": null,
   "id": "8fe73af8-7c94-454a-9aba-6f3ca046e5ee",
   "metadata": {
    "tags": []
   },
   "outputs": [],
   "source": [
    "m._height"
   ]
  },
  {
   "cell_type": "code",
   "execution_count": null,
   "id": "b8bbf17b-074e-4af7-bb25-ce8d10c1da36",
   "metadata": {
    "tags": []
   },
   "outputs": [],
   "source": [
    "m.debug"
   ]
  },
  {
   "cell_type": "code",
   "execution_count": null,
   "id": "10d8215b-b7cc-4e5d-8e2c-9a322a054bc5",
   "metadata": {},
   "outputs": [],
   "source": []
  }
 ],
 "metadata": {
  "kernelspec": {
   "display_name": "Python 3.11.9 (davide)",
   "language": "python",
   "name": "davide"
  },
  "language_info": {
   "codemirror_mode": {
    "name": "ipython",
    "version": 3
   },
   "file_extension": ".py",
   "mimetype": "text/x-python",
   "name": "python",
   "nbconvert_exporter": "python",
   "pygments_lexer": "ipython3",
   "version": "3.11.9"
  }
 },
 "nbformat": 4,
 "nbformat_minor": 5
}
