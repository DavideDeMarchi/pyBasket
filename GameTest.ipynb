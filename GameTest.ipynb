{
 "cells": [
  {
   "cell_type": "markdown",
   "id": "08b2302b-88b0-4900-b81c-aca7ea0a5dff",
   "metadata": {
    "tags": []
   },
   "source": [
    "### Players"
   ]
  },
  {
   "cell_type": "code",
   "execution_count": null,
   "id": "c3d0ce25-ea97-4bc1-a355-26abe5aca4dc",
   "metadata": {
    "tags": []
   },
   "outputs": [],
   "source": [
    "import Game\n",
    "import ScoreBoard\n",
    "\n",
    "import importlib\n",
    "importlib.reload(Game)\n",
    "importlib.reload(ScoreBoard)\n",
    "\n",
    "from ipywidgets import widgets\n",
    "output = widgets.Output()\n",
    "display(output)\n",
    "\n",
    "def on_selected(widget, event, data):\n",
    "    print(widget.id)\n",
    "\n",
    "#ob = ScoreBoard.ScoreBoard('./data/Urbania.team', './data/12-Andata-Forlimpopoli.game', scale=0.4, output=output)\n",
    "sb = ScoreBoard.ScoreBoard('./data/Urbania.team', './data/3.a-Ritorno-SUTOR MONTEGRANARO.game', scale=0.4, output=output)\n",
    "\n",
    "widget,cards = sb.game.playersList(['Aloi', 'Baldassarri', 'Perez Da Rold'], onclick=on_selected)\n",
    "widget"
   ]
  },
  {
   "cell_type": "code",
   "execution_count": 1,
   "id": "48015ef2-4264-4610-974d-a83524a4b42f",
   "metadata": {
    "tags": []
   },
   "outputs": [
    {
     "data": {
      "application/vnd.jupyter.widget-view+json": {
       "model_id": "11dc2760740f4a44891fe465b2962645",
       "version_major": 2,
       "version_minor": 0
      },
      "text/plain": [
       "Output()"
      ]
     },
     "metadata": {},
     "output_type": "display_data"
    },
    {
     "data": {
      "application/vnd.jupyter.widget-view+json": {
       "model_id": "68967b550107464cb2f4d041d5c828c4",
       "version_major": 2,
       "version_minor": 0
      },
      "text/plain": [
       "VBox(children=(HBox(children=(Card(children=[Html(children=['Lulaj'], layout=None, style_='text-align: center;…"
      ]
     },
     "metadata": {},
     "output_type": "display_data"
    },
    {
     "data": {
      "application/vnd.jupyter.widget-view+json": {
       "model_id": "a37c8fed0d0442c19fae19b604a432a4",
       "version_major": 2,
       "version_minor": 0
      },
      "text/plain": [
       "VBox(children=(HBox(children=(Card(children=[Html(children=['Perez Da Rold'], layout=None, style_='text-align:…"
      ]
     },
     "metadata": {},
     "output_type": "display_data"
    }
   ],
   "source": [
    "import Game\n",
    "import ScoreBoard\n",
    "\n",
    "import importlib\n",
    "importlib.reload(Game)\n",
    "importlib.reload(ScoreBoard)\n",
    "\n",
    "from ipywidgets import widgets\n",
    "\n",
    "output = widgets.Output()\n",
    "display(output)\n",
    "\n",
    "def on_selected(widget, event, data):\n",
    "    if widget.outlined:\n",
    "        print('Team')\n",
    "        widget.outlined = False\n",
    "    else:\n",
    "        print(widget.children[0].children[0])\n",
    "        for w in cards1+cards2: w.outlined = False\n",
    "        widget.outlined = True\n",
    "\n",
    "#ob = ScoreBoard.ScoreBoard('./data/Urbania.team', './data/12-Andata-Forlimpopoli.game', scale=0.4, output=output)\n",
    "#sb = ScoreBoard.ScoreBoard('./data/Urbania.team', './data/out.game', scale=0.4, output=output)\n",
    "sb = ScoreBoard.ScoreBoard('./data/Urbania.team', './data/3.a-Ritorno-SUTOR MONTEGRANARO.game', scale=0.4, output=output)\n",
    "\n",
    "widget1,cards1 = sb.game.playersList(sb.game.players_by_number[:6], onclick=on_selected, single_line=False, show_info=False, one_line_if_less_than=0)\n",
    "widget2,cards2 = sb.game.playersList(sb.game.players_by_number[6:], onclick=on_selected, single_line=False, show_info=False, one_line_if_less_than=0, initial_id=len(cards1))\n",
    "display(widget1)\n",
    "display(widget2)"
   ]
  },
  {
   "cell_type": "code",
   "execution_count": 20,
   "id": "e7d6a4c7-13e8-4de2-91f0-c8012c08d573",
   "metadata": {
    "tags": []
   },
   "outputs": [],
   "source": [
    "def onselect(name):\n",
    "    print(name)\n",
    "\n",
    "sb.game.selectFromBench(onselect=onselect)"
   ]
  },
  {
   "cell_type": "code",
   "execution_count": null,
   "id": "9b3afba3-b098-4706-b445-b2ba1e4b5b08",
   "metadata": {
    "tags": []
   },
   "outputs": [],
   "source": [
    "sb.game.players_info"
   ]
  },
  {
   "cell_type": "code",
   "execution_count": null,
   "id": "13a90c14-26ba-455b-b37d-560bf5273992",
   "metadata": {
    "tags": []
   },
   "outputs": [],
   "source": [
    "sb.game.players_by_name"
   ]
  },
  {
   "cell_type": "code",
   "execution_count": null,
   "id": "9e6cba63-5c79-4f80-b401-6273b00949fd",
   "metadata": {
    "tags": []
   },
   "outputs": [],
   "source": [
    "sb.game.players_by_number"
   ]
  },
  {
   "cell_type": "code",
   "execution_count": null,
   "id": "49aaca66-18a1-4eac-9198-80871e015dd5",
   "metadata": {
    "tags": []
   },
   "outputs": [],
   "source": [
    "sb.game.opponents_info"
   ]
  },
  {
   "cell_type": "code",
   "execution_count": null,
   "id": "9fac1d51-4eb4-4103-a180-bfffdce15976",
   "metadata": {
    "tags": []
   },
   "outputs": [],
   "source": [
    "sb.game.opponents_by_name"
   ]
  },
  {
   "cell_type": "code",
   "execution_count": null,
   "id": "2dc9b2d3-74c6-4e91-8d7f-4e7bda948812",
   "metadata": {
    "tags": []
   },
   "outputs": [],
   "source": [
    "sb.game.team_logo_img"
   ]
  },
  {
   "cell_type": "markdown",
   "id": "c6724805-0fba-4649-9b7c-5900d6e7ccce",
   "metadata": {
    "tags": []
   },
   "source": [
    "### Opponents"
   ]
  },
  {
   "cell_type": "code",
   "execution_count": null,
   "id": "d5ff279c-1fd7-420b-b5dc-6c85f9d709e2",
   "metadata": {
    "tags": []
   },
   "outputs": [],
   "source": [
    "import Game\n",
    "import ScoreBoard\n",
    "\n",
    "import importlib\n",
    "importlib.reload(Game)\n",
    "importlib.reload(ScoreBoard)\n",
    "\n",
    "from ipywidgets import widgets\n",
    "output = widgets.Output()\n",
    "display(output)\n",
    "\n",
    "def on_selected(widget, event, data):\n",
    "    print(sb.game.opponents_by_number[widget.id])\n",
    "\n",
    "sb = ScoreBoard.ScoreBoard('./data/Urbania.team', './data/12.a-Andata-BASKERS FORLIMPOPOLI.game', scale=0.4, output=output)\n",
    "\n",
    "widget,cards = sb.game.opponentsList(onclick=on_selected, single_line=False, opponents_list=['Fin', 'Bocchini', 'Grassi'])\n",
    "widget"
   ]
  },
  {
   "cell_type": "code",
   "execution_count": null,
   "id": "02dc39f7-edad-4f90-86d2-fe06c6fb4fe5",
   "metadata": {
    "tags": []
   },
   "outputs": [],
   "source": [
    "def onselect(name):\n",
    "    print(name)\n",
    "\n",
    "sb.game.selectOpponent(onselect=onselect, opponents_list=['Fin', 'Bocchini', 'Grassi'])"
   ]
  },
  {
   "cell_type": "code",
   "execution_count": null,
   "id": "47da286f-49eb-4635-8a79-b258f3742ee3",
   "metadata": {},
   "outputs": [],
   "source": [
    "sb.output is None"
   ]
  },
  {
   "cell_type": "code",
   "execution_count": null,
   "id": "67437e10-68e9-4352-a9c3-8d104d12c5b7",
   "metadata": {},
   "outputs": [],
   "source": []
  }
 ],
 "metadata": {
  "kernelspec": {
   "display_name": "Python 3.11.9 (davide)",
   "language": "python",
   "name": "davide"
  },
  "language_info": {
   "codemirror_mode": {
    "name": "ipython",
    "version": 3
   },
   "file_extension": ".py",
   "mimetype": "text/x-python",
   "name": "python",
   "nbconvert_exporter": "python",
   "pygments_lexer": "ipython3",
   "version": "3.11.9"
  }
 },
 "nbformat": 4,
 "nbformat_minor": 5
}
