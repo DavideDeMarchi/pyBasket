{
 "cells": [
  {
   "cell_type": "markdown",
   "id": "08b2302b-88b0-4900-b81c-aca7ea0a5dff",
   "metadata": {
    "tags": []
   },
   "source": [
    "### Players"
   ]
  },
  {
   "cell_type": "code",
   "execution_count": null,
   "id": "c3d0ce25-ea97-4bc1-a355-26abe5aca4dc",
   "metadata": {
    "tags": []
   },
   "outputs": [],
   "source": [
    "import Game\n",
    "import ScoreBoard\n",
    "\n",
    "import importlib\n",
    "importlib.reload(Game)\n",
    "importlib.reload(ScoreBoard)\n",
    "\n",
    "from ipywidgets import widgets\n",
    "output = widgets.Output()\n",
    "display(output)\n",
    "\n",
    "def on_selected(widget, event, data):\n",
    "    print(widget.id)\n",
    "\n",
    "#ob = ScoreBoard.ScoreBoard('./data/Urbania.team', './data/12-Andata-Forlimpopoli.game', scale=0.4, output=output)\n",
    "sb = ScoreBoard.ScoreBoard('./data/Urbania.team', './data/7.a-Ritorno-GUELFO BASKET.game', scale=0.4, output=output)\n",
    "\n",
    "widget,cards = sb.game.playersList(['Aloi', 'Baldassarri', 'Perez Da Rold', 'Jareci', 'Colotti', 'Campana'], onclick=on_selected)\n",
    "widget"
   ]
  },
  {
   "cell_type": "code",
   "execution_count": null,
   "id": "2909e34f-ef2a-4500-a99d-0d3c3de651f2",
   "metadata": {},
   "outputs": [],
   "source": [
    "widget,cards = sb.game.playersList(['Aloi', 'Baldassarri', 'Perez Da Rold', 'Jareci', 'Colotti', 'Campana'], onclick=on_selected)\n",
    "widget"
   ]
  },
  {
   "cell_type": "code",
   "execution_count": null,
   "id": "48015ef2-4264-4610-974d-a83524a4b42f",
   "metadata": {
    "tags": []
   },
   "outputs": [],
   "source": [
    "import Game\n",
    "import ScoreBoard\n",
    "\n",
    "import importlib\n",
    "importlib.reload(Game)\n",
    "importlib.reload(ScoreBoard)\n",
    "\n",
    "from ipywidgets import widgets\n",
    "\n",
    "output = widgets.Output()\n",
    "display(output)\n",
    "\n",
    "def on_selected(widget, event, data):\n",
    "    if widget.outlined:\n",
    "        print('Team')\n",
    "        widget.outlined = False\n",
    "    else:\n",
    "        print(widget.children[0].children[0])\n",
    "        for w in cards1+cards2: w.outlined = False\n",
    "        widget.outlined = True\n",
    "\n",
    "#ob = ScoreBoard.ScoreBoard('./data/Urbania.team', './data/12-Andata-Forlimpopoli.game', scale=0.4, output=output)\n",
    "#sb = ScoreBoard.ScoreBoard('./data/Urbania.team', './data/out.game', scale=0.4, output=output)\n",
    "sb = ScoreBoard.ScoreBoard('./data/Urbania.team', './data/7.a-Ritorno-GUELFO BASKET.game', scale=0.88, output=output)\n",
    "\n",
    "playerw = 'calc(%fvw - 25px)'%(sb.width/6)\n",
    "\n",
    "widget1,cards1 = sb.game.playersList(sb.game.players_by_number[:6], onclick=on_selected, single_line=False, show_info=False, one_line_if_less_than=0, w=playerw, initial_card_index=0)\n",
    "widget2,cards2 = sb.game.playersList(sb.game.players_by_number[6:], onclick=on_selected, single_line=False, show_info=False, one_line_if_less_than=0, w=playerw, initial_id=len(cards1), initial_card_index=6)\n",
    "display(widget1)\n",
    "display(widget2)"
   ]
  },
  {
   "cell_type": "code",
   "execution_count": null,
   "id": "e7d6a4c7-13e8-4de2-91f0-c8012c08d573",
   "metadata": {
    "tags": []
   },
   "outputs": [],
   "source": [
    "def onselect(name):\n",
    "    print(name)\n",
    "\n",
    "sb.game.selectFromBench(onselect=onselect)"
   ]
  },
  {
   "cell_type": "code",
   "execution_count": null,
   "id": "9b3afba3-b098-4706-b445-b2ba1e4b5b08",
   "metadata": {
    "tags": []
   },
   "outputs": [],
   "source": [
    "sb.game.players_info"
   ]
  },
  {
   "cell_type": "code",
   "execution_count": null,
   "id": "13a90c14-26ba-455b-b37d-560bf5273992",
   "metadata": {
    "tags": []
   },
   "outputs": [],
   "source": [
    "sb.game.players_by_name"
   ]
  },
  {
   "cell_type": "code",
   "execution_count": null,
   "id": "9e6cba63-5c79-4f80-b401-6273b00949fd",
   "metadata": {
    "tags": []
   },
   "outputs": [],
   "source": [
    "sb.game.players_by_number"
   ]
  },
  {
   "cell_type": "code",
   "execution_count": null,
   "id": "49aaca66-18a1-4eac-9198-80871e015dd5",
   "metadata": {
    "tags": []
   },
   "outputs": [],
   "source": [
    "sb.game.opponents_info"
   ]
  },
  {
   "cell_type": "code",
   "execution_count": null,
   "id": "9fac1d51-4eb4-4103-a180-bfffdce15976",
   "metadata": {
    "tags": []
   },
   "outputs": [],
   "source": [
    "sb.game.opponents_by_name"
   ]
  },
  {
   "cell_type": "code",
   "execution_count": null,
   "id": "2dc9b2d3-74c6-4e91-8d7f-4e7bda948812",
   "metadata": {
    "tags": []
   },
   "outputs": [],
   "source": [
    "sb.game.team_logo_img"
   ]
  },
  {
   "cell_type": "markdown",
   "id": "c6724805-0fba-4649-9b7c-5900d6e7ccce",
   "metadata": {
    "tags": []
   },
   "source": [
    "### Opponents"
   ]
  },
  {
   "cell_type": "code",
   "execution_count": null,
   "id": "d5ff279c-1fd7-420b-b5dc-6c85f9d709e2",
   "metadata": {
    "tags": []
   },
   "outputs": [],
   "source": [
    "import Game\n",
    "import ScoreBoard\n",
    "\n",
    "import importlib\n",
    "importlib.reload(Game)\n",
    "importlib.reload(ScoreBoard)\n",
    "\n",
    "from ipywidgets import widgets\n",
    "output = widgets.Output()\n",
    "display(output)\n",
    "\n",
    "def on_selected(widget, event, data):\n",
    "    print(sb.game.opponents_by_number[widget.id])\n",
    "\n",
    "sb = ScoreBoard.ScoreBoard('./data/Urbania.team', './data/12.a-Andata-BASKERS FORLIMPOPOLI.game', scale=0.4, output=output)\n",
    "\n",
    "widget,cards = sb.game.opponentsList(onclick=on_selected, single_line=False) #, opponents_list=['Fin', 'Bocchini', 'Grassi'])\n",
    "widget"
   ]
  },
  {
   "cell_type": "code",
   "execution_count": null,
   "id": "9dbb1af4-d277-4111-839c-f091f4a809a1",
   "metadata": {},
   "outputs": [],
   "source": [
    "widget,cards = sb.game.opponentsList(onclick=on_selected, single_line=False) #, opponents_list=['Fin', 'Bocchini', 'Grassi'])\n",
    "widget"
   ]
  },
  {
   "cell_type": "code",
   "execution_count": null,
   "id": "02dc39f7-edad-4f90-86d2-fe06c6fb4fe5",
   "metadata": {
    "tags": []
   },
   "outputs": [],
   "source": [
    "def onselect(name):\n",
    "    print(name)\n",
    "\n",
    "sb.game.selectOpponent(onselect=onselect, opponents_list=['Fin', 'Bocchini', 'Grassi'])"
   ]
  },
  {
   "cell_type": "code",
   "execution_count": null,
   "id": "47da286f-49eb-4635-8a79-b258f3742ee3",
   "metadata": {},
   "outputs": [],
   "source": [
    "sb.output is None"
   ]
  },
  {
   "cell_type": "markdown",
   "id": "4ae16ca7-fb28-4006-957f-153bdd9ee565",
   "metadata": {},
   "source": [
    "### Code to read and save files in github"
   ]
  },
  {
   "cell_type": "code",
   "execution_count": null,
   "id": "fc5227c3-259a-4093-a9f9-7ffb1f6ba8f1",
   "metadata": {},
   "outputs": [],
   "source": [
    "token = ''"
   ]
  },
  {
   "cell_type": "code",
   "execution_count": null,
   "id": "9c0052f2-1bfa-4298-b5f2-99d9016d24ab",
   "metadata": {},
   "outputs": [],
   "source": [
    "import requests\n",
    "import base64\n",
    "import json\n",
    "\n",
    "url = 'https://api.github.com/repos/DavideDeMarchi/pyBasket/contents/data/10.a-Ritorno-REAL BASKET PESARO.game'\n",
    "\n",
    "headers = {\n",
    "  'Accept': 'application/vnd.github+json',\n",
    "  'Authorization': 'Bearer %s'%token,\n",
    "}\n",
    "\n",
    "response = requests.request(\"GET\", url, headers=headers)\n",
    "\n",
    "data = response.json()\n",
    "data"
   ]
  },
  {
   "cell_type": "code",
   "execution_count": null,
   "id": "04507efd-9c81-4861-8c32-3f2df00d954d",
   "metadata": {},
   "outputs": [],
   "source": [
    "#s = base64.b64decode(data['content']).decode('utf-8')\n",
    "#s"
   ]
  },
  {
   "cell_type": "code",
   "execution_count": null,
   "id": "3b32e65b-7a0c-452e-a8e7-fb3c572dfab4",
   "metadata": {},
   "outputs": [],
   "source": [
    "j = json.loads(base64.b64decode(data['content']).decode('utf-8'))\n",
    "j['time'] = '20:30'\n",
    "j"
   ]
  },
  {
   "cell_type": "code",
   "execution_count": null,
   "id": "2a60b869-b93a-4e36-92e1-9749eceb63f7",
   "metadata": {},
   "outputs": [],
   "source": [
    "new_content = base64.b64encode(json.dumps(j, indent=4).encode())\n",
    "#new_content.decode(\"utf-8\")"
   ]
  },
  {
   "cell_type": "code",
   "execution_count": null,
   "id": "af2e0849-2548-40ee-93b1-1b4cd163c4a5",
   "metadata": {},
   "outputs": [],
   "source": [
    "new_data = {\n",
    "        \"message\": \"Updated file\",\n",
    "        \"committer\": {\"name\": \"Davide De Marchi\", \"email\": \"davide.demarchi@yahoo.it\" },\n",
    "        \"content\": new_content.decode(\"utf-8\"),\n",
    "        \"sha\": data['sha']\n",
    "}"
   ]
  },
  {
   "cell_type": "code",
   "execution_count": null,
   "id": "3bf03f8e-4d6f-45bc-8122-dbf39330ff2d",
   "metadata": {},
   "outputs": [],
   "source": [
    "response = requests.request(\"PUT\", url, headers=headers, data=json.dumps(new_data))\n",
    "res = response.json()\n",
    "res"
   ]
  }
 ],
 "metadata": {
  "kernelspec": {
   "display_name": "Python 3.11.9 (davide)",
   "language": "python",
   "name": "davide"
  },
  "language_info": {
   "codemirror_mode": {
    "name": "ipython",
    "version": 3
   },
   "file_extension": ".py",
   "mimetype": "text/x-python",
   "name": "python",
   "nbconvert_exporter": "python",
   "pygments_lexer": "ipython3",
   "version": "3.11.9"
  }
 },
 "nbformat": 4,
 "nbformat_minor": 5
}
