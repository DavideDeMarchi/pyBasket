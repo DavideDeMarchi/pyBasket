{
 "cells": [
  {
   "cell_type": "code",
   "execution_count": null,
   "id": "28792bf2-2123-4240-8515-e931d96bcdef",
   "metadata": {
    "tags": []
   },
   "outputs": [],
   "source": [
    "import pandas as pd\n",
    "import json\n",
    "\n",
    "game_file = './data/5.a-Ritorno-BARTOLI FOSSOMBRONE.game'\n",
    "\n",
    "with open(game_file) as f:\n",
    "    game_data = json.load(f)\n",
    "    \n",
    "events_df = pd.DataFrame.from_records(game_data['events'])\n",
    "events_df[events_df['player']=='Pentucci']"
   ]
  },
  {
   "cell_type": "code",
   "execution_count": null,
   "id": "f244d7df-53f0-40f3-9774-945c02764802",
   "metadata": {
    "tags": []
   },
   "outputs": [],
   "source": [
    "import pandas as pd\n",
    "import json\n",
    "\n",
    "game_file = './data/2.a-Playoff-PORTO S.ELPIDIO.game'\n",
    "\n",
    "with open(game_file) as f:\n",
    "    game_data = json.load(f)\n",
    "    \n",
    "events_df = pd.DataFrame.from_records(game_data['events'])\n",
    "events_df[events_df['player']=='Baldassarri']"
   ]
  },
  {
   "cell_type": "code",
   "execution_count": 7,
   "id": "3d172e25-8da8-4a60-b03a-d3b28f557823",
   "metadata": {
    "tags": []
   },
   "outputs": [
    {
     "name": "stdout",
     "output_type": "stream",
     "text": [
      "-2\n"
     ]
    }
   ],
   "source": [
    "import Stats\n",
    "\n",
    "import importlib\n",
    "importlib.reload(Stats)\n",
    "\n",
    "print(Stats.value(events_df, 'Baldassarri'))\n",
    "#print(Stats.trueshooting(events_df, 'Di Francesco'))"
   ]
  },
  {
   "cell_type": "code",
   "execution_count": null,
   "id": "55192709-eb84-468e-b56f-698dffb0c886",
   "metadata": {
    "tags": []
   },
   "outputs": [],
   "source": [
    "import Stats\n",
    "\n",
    "import importlib\n",
    "importlib.reload(Stats)\n",
    "\n",
    "print(Stats.points(events_df, 'Diana'))\n",
    "print(Stats.value(events_df, 'Diana'))\n",
    "print(Stats.oer(events_df, 'Diana'))\n",
    "print(Stats.vir(events_df, 'Diana', game_data['players_info']))\n",
    "print(Stats.plusminus('Diana', game_data['players_info']))\n",
    "print(Stats.trueshooting(events_df, 'Aloi'))\n",
    "print(Stats.points(events_df, 'Aloi'))\n",
    "print(Stats.fouls(events_df, 'Colotti'))\n",
    "print(Stats.value(events_df, 'Aloi'))"
   ]
  },
  {
   "cell_type": "code",
   "execution_count": null,
   "id": "3241e2e7-b6ff-4951-8573-2aae7a0a89d6",
   "metadata": {
    "tags": []
   },
   "outputs": [],
   "source": [
    "game_data['players_info']"
   ]
  },
  {
   "cell_type": "code",
   "execution_count": null,
   "id": "e361d810-d3df-4df8-811a-db1836e15096",
   "metadata": {},
   "outputs": [],
   "source": []
  }
 ],
 "metadata": {
  "kernelspec": {
   "display_name": "Python 3.11.9 (davide)",
   "language": "python",
   "name": "davide"
  },
  "language_info": {
   "codemirror_mode": {
    "name": "ipython",
    "version": 3
   },
   "file_extension": ".py",
   "mimetype": "text/x-python",
   "name": "python",
   "nbconvert_exporter": "python",
   "pygments_lexer": "ipython3",
   "version": "3.11.9"
  }
 },
 "nbformat": 4,
 "nbformat_minor": 5
}
