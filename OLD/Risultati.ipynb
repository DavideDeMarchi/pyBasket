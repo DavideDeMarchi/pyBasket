{
 "cells": [
  {
   "cell_type": "code",
   "execution_count": 17,
   "metadata": {},
   "outputs": [],
   "source": [
    "# Import\n",
    "import pandas as pd\n",
    "import numpy as np\n",
    "pd.set_option('display.float_format', '{:.2f}'.format)"
   ]
  },
  {
   "cell_type": "code",
   "execution_count": 18,
   "metadata": {},
   "outputs": [
    {
     "data": {
      "text/html": [
       "<div>\n",
       "<style scoped>\n",
       "    .dataframe tbody tr th:only-of-type {\n",
       "        vertical-align: middle;\n",
       "    }\n",
       "\n",
       "    .dataframe tbody tr th {\n",
       "        vertical-align: top;\n",
       "    }\n",
       "\n",
       "    .dataframe thead th {\n",
       "        text-align: right;\n",
       "    }\n",
       "</style>\n",
       "<table border=\"1\" class=\"dataframe\">\n",
       "  <thead>\n",
       "    <tr style=\"text-align: right;\">\n",
       "      <th></th>\n",
       "      <th>Squadra</th>\n",
       "      <th>ASCOLI</th>\n",
       "      <th>ASCOLI2</th>\n",
       "      <th>ASCOLI3</th>\n",
       "      <th>BASKET GIOVANE</th>\n",
       "      <th>BASKET GIOVANE2</th>\n",
       "      <th>BASKET GIOVANE3</th>\n",
       "      <th>FALCONARA</th>\n",
       "      <th>FALCONARA2</th>\n",
       "      <th>FALCONARA3</th>\n",
       "      <th>...</th>\n",
       "      <th>SPOLETO3</th>\n",
       "      <th>TOLENTINO</th>\n",
       "      <th>TOLENTINO2</th>\n",
       "      <th>TOLENTINO3</th>\n",
       "      <th>UMBERTIDE</th>\n",
       "      <th>UMBERTIDE2</th>\n",
       "      <th>UMBERTIDE3</th>\n",
       "      <th>URBANIA</th>\n",
       "      <th>URBANIA2</th>\n",
       "      <th>URBANIA3</th>\n",
       "    </tr>\n",
       "  </thead>\n",
       "  <tbody>\n",
       "    <tr>\n",
       "      <th>0</th>\n",
       "      <td>ASCOLI</td>\n",
       "      <td>NaN</td>\n",
       "      <td>NaN</td>\n",
       "      <td>NaN</td>\n",
       "      <td>NaN</td>\n",
       "      <td>NaN</td>\n",
       "      <td>NaN</td>\n",
       "      <td>NaN</td>\n",
       "      <td>NaN</td>\n",
       "      <td>NaN</td>\n",
       "      <td>...</td>\n",
       "      <td>NaN</td>\n",
       "      <td>1.00</td>\n",
       "      <td>52.00</td>\n",
       "      <td>89.00</td>\n",
       "      <td>11.00</td>\n",
       "      <td>76.00</td>\n",
       "      <td>64.00</td>\n",
       "      <td>NaN</td>\n",
       "      <td>NaN</td>\n",
       "      <td>NaN</td>\n",
       "    </tr>\n",
       "    <tr>\n",
       "      <th>1</th>\n",
       "      <td>BASKET GIOVANE</td>\n",
       "      <td>8.00</td>\n",
       "      <td>71.00</td>\n",
       "      <td>89.00</td>\n",
       "      <td>NaN</td>\n",
       "      <td>NaN</td>\n",
       "      <td>NaN</td>\n",
       "      <td>NaN</td>\n",
       "      <td>NaN</td>\n",
       "      <td>NaN</td>\n",
       "      <td>...</td>\n",
       "      <td>59.00</td>\n",
       "      <td>NaN</td>\n",
       "      <td>NaN</td>\n",
       "      <td>NaN</td>\n",
       "      <td>NaN</td>\n",
       "      <td>NaN</td>\n",
       "      <td>NaN</td>\n",
       "      <td>NaN</td>\n",
       "      <td>NaN</td>\n",
       "      <td>NaN</td>\n",
       "    </tr>\n",
       "    <tr>\n",
       "      <th>2</th>\n",
       "      <td>FALCONARA</td>\n",
       "      <td>NaN</td>\n",
       "      <td>NaN</td>\n",
       "      <td>NaN</td>\n",
       "      <td>5.00</td>\n",
       "      <td>72.00</td>\n",
       "      <td>64.00</td>\n",
       "      <td>NaN</td>\n",
       "      <td>NaN</td>\n",
       "      <td>NaN</td>\n",
       "      <td>...</td>\n",
       "      <td>NaN</td>\n",
       "      <td>10.00</td>\n",
       "      <td>77.00</td>\n",
       "      <td>67.00</td>\n",
       "      <td>NaN</td>\n",
       "      <td>NaN</td>\n",
       "      <td>NaN</td>\n",
       "      <td>12.00</td>\n",
       "      <td>63.00</td>\n",
       "      <td>69.00</td>\n",
       "    </tr>\n",
       "    <tr>\n",
       "      <th>3</th>\n",
       "      <td>FOSSOMBRONE</td>\n",
       "      <td>4.00</td>\n",
       "      <td>80.00</td>\n",
       "      <td>70.00</td>\n",
       "      <td>11.00</td>\n",
       "      <td>81.00</td>\n",
       "      <td>52.00</td>\n",
       "      <td>NaN</td>\n",
       "      <td>NaN</td>\n",
       "      <td>NaN</td>\n",
       "      <td>...</td>\n",
       "      <td>52.00</td>\n",
       "      <td>NaN</td>\n",
       "      <td>NaN</td>\n",
       "      <td>NaN</td>\n",
       "      <td>NaN</td>\n",
       "      <td>NaN</td>\n",
       "      <td>NaN</td>\n",
       "      <td>NaN</td>\n",
       "      <td>NaN</td>\n",
       "      <td>NaN</td>\n",
       "    </tr>\n",
       "    <tr>\n",
       "      <th>4</th>\n",
       "      <td>GUALDO</td>\n",
       "      <td>NaN</td>\n",
       "      <td>NaN</td>\n",
       "      <td>NaN</td>\n",
       "      <td>NaN</td>\n",
       "      <td>NaN</td>\n",
       "      <td>NaN</td>\n",
       "      <td>NaN</td>\n",
       "      <td>NaN</td>\n",
       "      <td>NaN</td>\n",
       "      <td>...</td>\n",
       "      <td>NaN</td>\n",
       "      <td>NaN</td>\n",
       "      <td>NaN</td>\n",
       "      <td>NaN</td>\n",
       "      <td>NaN</td>\n",
       "      <td>NaN</td>\n",
       "      <td>NaN</td>\n",
       "      <td>2.00</td>\n",
       "      <td>67.00</td>\n",
       "      <td>81.00</td>\n",
       "    </tr>\n",
       "    <tr>\n",
       "      <th>5</th>\n",
       "      <td>LORETO</td>\n",
       "      <td>NaN</td>\n",
       "      <td>NaN</td>\n",
       "      <td>NaN</td>\n",
       "      <td>1.00</td>\n",
       "      <td>105.00</td>\n",
       "      <td>45.00</td>\n",
       "      <td>6.00</td>\n",
       "      <td>86.00</td>\n",
       "      <td>61.00</td>\n",
       "      <td>...</td>\n",
       "      <td>NaN</td>\n",
       "      <td>NaN</td>\n",
       "      <td>NaN</td>\n",
       "      <td>NaN</td>\n",
       "      <td>4.00</td>\n",
       "      <td>103.00</td>\n",
       "      <td>45.00</td>\n",
       "      <td>8.00</td>\n",
       "      <td>94.00</td>\n",
       "      <td>67.00</td>\n",
       "    </tr>\n",
       "    <tr>\n",
       "      <th>6</th>\n",
       "      <td>OSIMO</td>\n",
       "      <td>12.00</td>\n",
       "      <td>88.00</td>\n",
       "      <td>84.00</td>\n",
       "      <td>NaN</td>\n",
       "      <td>NaN</td>\n",
       "      <td>NaN</td>\n",
       "      <td>NaN</td>\n",
       "      <td>NaN</td>\n",
       "      <td>NaN</td>\n",
       "      <td>...</td>\n",
       "      <td>69.00</td>\n",
       "      <td>8.00</td>\n",
       "      <td>84.00</td>\n",
       "      <td>71.00</td>\n",
       "      <td>7.00</td>\n",
       "      <td>100.00</td>\n",
       "      <td>64.00</td>\n",
       "      <td>NaN</td>\n",
       "      <td>NaN</td>\n",
       "      <td>NaN</td>\n",
       "    </tr>\n",
       "    <tr>\n",
       "      <th>7</th>\n",
       "      <td>P.S. GIORGIO</td>\n",
       "      <td>NaN</td>\n",
       "      <td>NaN</td>\n",
       "      <td>NaN</td>\n",
       "      <td>NaN</td>\n",
       "      <td>NaN</td>\n",
       "      <td>NaN</td>\n",
       "      <td>4.00</td>\n",
       "      <td>88.00</td>\n",
       "      <td>66.00</td>\n",
       "      <td>...</td>\n",
       "      <td>NaN</td>\n",
       "      <td>NaN</td>\n",
       "      <td>NaN</td>\n",
       "      <td>NaN</td>\n",
       "      <td>2.00</td>\n",
       "      <td>84.00</td>\n",
       "      <td>51.00</td>\n",
       "      <td>6.00</td>\n",
       "      <td>62.00</td>\n",
       "      <td>71.00</td>\n",
       "    </tr>\n",
       "    <tr>\n",
       "      <th>8</th>\n",
       "      <td>PERUGIA</td>\n",
       "      <td>6.00</td>\n",
       "      <td>85.00</td>\n",
       "      <td>72.00</td>\n",
       "      <td>NaN</td>\n",
       "      <td>NaN</td>\n",
       "      <td>NaN</td>\n",
       "      <td>NaN</td>\n",
       "      <td>NaN</td>\n",
       "      <td>NaN</td>\n",
       "      <td>...</td>\n",
       "      <td>49.00</td>\n",
       "      <td>NaN</td>\n",
       "      <td>NaN</td>\n",
       "      <td>NaN</td>\n",
       "      <td>NaN</td>\n",
       "      <td>NaN</td>\n",
       "      <td>NaN</td>\n",
       "      <td>NaN</td>\n",
       "      <td>NaN</td>\n",
       "      <td>NaN</td>\n",
       "    </tr>\n",
       "    <tr>\n",
       "      <th>9</th>\n",
       "      <td>RECANATI</td>\n",
       "      <td>NaN</td>\n",
       "      <td>NaN</td>\n",
       "      <td>NaN</td>\n",
       "      <td>NaN</td>\n",
       "      <td>NaN</td>\n",
       "      <td>NaN</td>\n",
       "      <td>2.00</td>\n",
       "      <td>85.00</td>\n",
       "      <td>68.00</td>\n",
       "      <td>...</td>\n",
       "      <td>NaN</td>\n",
       "      <td>NaN</td>\n",
       "      <td>NaN</td>\n",
       "      <td>NaN</td>\n",
       "      <td>NaN</td>\n",
       "      <td>NaN</td>\n",
       "      <td>NaN</td>\n",
       "      <td>4.00</td>\n",
       "      <td>73.00</td>\n",
       "      <td>55.00</td>\n",
       "    </tr>\n",
       "    <tr>\n",
       "      <th>10</th>\n",
       "      <td>SAN MARINO</td>\n",
       "      <td>2.00</td>\n",
       "      <td>65.00</td>\n",
       "      <td>50.00</td>\n",
       "      <td>9.00</td>\n",
       "      <td>80.00</td>\n",
       "      <td>67.00</td>\n",
       "      <td>NaN</td>\n",
       "      <td>NaN</td>\n",
       "      <td>NaN</td>\n",
       "      <td>...</td>\n",
       "      <td>NaN</td>\n",
       "      <td>NaN</td>\n",
       "      <td>NaN</td>\n",
       "      <td>NaN</td>\n",
       "      <td>NaN</td>\n",
       "      <td>NaN</td>\n",
       "      <td>NaN</td>\n",
       "      <td>NaN</td>\n",
       "      <td>NaN</td>\n",
       "      <td>NaN</td>\n",
       "    </tr>\n",
       "    <tr>\n",
       "      <th>11</th>\n",
       "      <td>SPOLETO</td>\n",
       "      <td>NaN</td>\n",
       "      <td>NaN</td>\n",
       "      <td>NaN</td>\n",
       "      <td>NaN</td>\n",
       "      <td>NaN</td>\n",
       "      <td>NaN</td>\n",
       "      <td>11.00</td>\n",
       "      <td>60.00</td>\n",
       "      <td>71.00</td>\n",
       "      <td>...</td>\n",
       "      <td>NaN</td>\n",
       "      <td>12.00</td>\n",
       "      <td>67.00</td>\n",
       "      <td>68.00</td>\n",
       "      <td>9.00</td>\n",
       "      <td>53.00</td>\n",
       "      <td>59.00</td>\n",
       "      <td>NaN</td>\n",
       "      <td>NaN</td>\n",
       "      <td>NaN</td>\n",
       "    </tr>\n",
       "    <tr>\n",
       "      <th>12</th>\n",
       "      <td>TOLENTINO</td>\n",
       "      <td>NaN</td>\n",
       "      <td>NaN</td>\n",
       "      <td>NaN</td>\n",
       "      <td>NaN</td>\n",
       "      <td>NaN</td>\n",
       "      <td>NaN</td>\n",
       "      <td>NaN</td>\n",
       "      <td>NaN</td>\n",
       "      <td>NaN</td>\n",
       "      <td>...</td>\n",
       "      <td>NaN</td>\n",
       "      <td>NaN</td>\n",
       "      <td>NaN</td>\n",
       "      <td>NaN</td>\n",
       "      <td>NaN</td>\n",
       "      <td>NaN</td>\n",
       "      <td>NaN</td>\n",
       "      <td>NaN</td>\n",
       "      <td>NaN</td>\n",
       "      <td>NaN</td>\n",
       "    </tr>\n",
       "    <tr>\n",
       "      <th>13</th>\n",
       "      <td>UMBERTIDE</td>\n",
       "      <td>NaN</td>\n",
       "      <td>NaN</td>\n",
       "      <td>NaN</td>\n",
       "      <td>3.00</td>\n",
       "      <td>91.00</td>\n",
       "      <td>68.00</td>\n",
       "      <td>8.00</td>\n",
       "      <td>73.00</td>\n",
       "      <td>69.00</td>\n",
       "      <td>...</td>\n",
       "      <td>NaN</td>\n",
       "      <td>6.00</td>\n",
       "      <td>77.00</td>\n",
       "      <td>82.00</td>\n",
       "      <td>NaN</td>\n",
       "      <td>NaN</td>\n",
       "      <td>NaN</td>\n",
       "      <td>10.00</td>\n",
       "      <td>59.00</td>\n",
       "      <td>86.00</td>\n",
       "    </tr>\n",
       "    <tr>\n",
       "      <th>14</th>\n",
       "      <td>URBANIA</td>\n",
       "      <td>NaN</td>\n",
       "      <td>NaN</td>\n",
       "      <td>NaN</td>\n",
       "      <td>7.00</td>\n",
       "      <td>83.00</td>\n",
       "      <td>70.00</td>\n",
       "      <td>NaN</td>\n",
       "      <td>NaN</td>\n",
       "      <td>NaN</td>\n",
       "      <td>...</td>\n",
       "      <td>NaN</td>\n",
       "      <td>NaN</td>\n",
       "      <td>NaN</td>\n",
       "      <td>NaN</td>\n",
       "      <td>NaN</td>\n",
       "      <td>NaN</td>\n",
       "      <td>NaN</td>\n",
       "      <td>NaN</td>\n",
       "      <td>NaN</td>\n",
       "      <td>NaN</td>\n",
       "    </tr>\n",
       "  </tbody>\n",
       "</table>\n",
       "<p>15 rows × 46 columns</p>\n",
       "</div>"
      ],
      "text/plain": [
       "           Squadra  ASCOLI  ASCOLI2  ASCOLI3  BASKET GIOVANE  BASKET GIOVANE2  \\\n",
       "0           ASCOLI     NaN      NaN      NaN             NaN              NaN   \n",
       "1   BASKET GIOVANE    8.00    71.00    89.00             NaN              NaN   \n",
       "2        FALCONARA     NaN      NaN      NaN            5.00            72.00   \n",
       "3      FOSSOMBRONE    4.00    80.00    70.00           11.00            81.00   \n",
       "4           GUALDO     NaN      NaN      NaN             NaN              NaN   \n",
       "5           LORETO     NaN      NaN      NaN            1.00           105.00   \n",
       "6            OSIMO   12.00    88.00    84.00             NaN              NaN   \n",
       "7     P.S. GIORGIO     NaN      NaN      NaN             NaN              NaN   \n",
       "8          PERUGIA    6.00    85.00    72.00             NaN              NaN   \n",
       "9         RECANATI     NaN      NaN      NaN             NaN              NaN   \n",
       "10      SAN MARINO    2.00    65.00    50.00            9.00            80.00   \n",
       "11         SPOLETO     NaN      NaN      NaN             NaN              NaN   \n",
       "12       TOLENTINO     NaN      NaN      NaN             NaN              NaN   \n",
       "13       UMBERTIDE     NaN      NaN      NaN            3.00            91.00   \n",
       "14         URBANIA     NaN      NaN      NaN            7.00            83.00   \n",
       "\n",
       "    BASKET GIOVANE3  FALCONARA  FALCONARA2  FALCONARA3  ...  SPOLETO3  \\\n",
       "0               NaN        NaN         NaN         NaN  ...       NaN   \n",
       "1               NaN        NaN         NaN         NaN  ...     59.00   \n",
       "2             64.00        NaN         NaN         NaN  ...       NaN   \n",
       "3             52.00        NaN         NaN         NaN  ...     52.00   \n",
       "4               NaN        NaN         NaN         NaN  ...       NaN   \n",
       "5             45.00       6.00       86.00       61.00  ...       NaN   \n",
       "6               NaN        NaN         NaN         NaN  ...     69.00   \n",
       "7               NaN       4.00       88.00       66.00  ...       NaN   \n",
       "8               NaN        NaN         NaN         NaN  ...     49.00   \n",
       "9               NaN       2.00       85.00       68.00  ...       NaN   \n",
       "10            67.00        NaN         NaN         NaN  ...       NaN   \n",
       "11              NaN      11.00       60.00       71.00  ...       NaN   \n",
       "12              NaN        NaN         NaN         NaN  ...       NaN   \n",
       "13            68.00       8.00       73.00       69.00  ...       NaN   \n",
       "14            70.00        NaN         NaN         NaN  ...       NaN   \n",
       "\n",
       "    TOLENTINO  TOLENTINO2  TOLENTINO3  UMBERTIDE  UMBERTIDE2  UMBERTIDE3  \\\n",
       "0        1.00       52.00       89.00      11.00       76.00       64.00   \n",
       "1         NaN         NaN         NaN        NaN         NaN         NaN   \n",
       "2       10.00       77.00       67.00        NaN         NaN         NaN   \n",
       "3         NaN         NaN         NaN        NaN         NaN         NaN   \n",
       "4         NaN         NaN         NaN        NaN         NaN         NaN   \n",
       "5         NaN         NaN         NaN       4.00      103.00       45.00   \n",
       "6        8.00       84.00       71.00       7.00      100.00       64.00   \n",
       "7         NaN         NaN         NaN       2.00       84.00       51.00   \n",
       "8         NaN         NaN         NaN        NaN         NaN         NaN   \n",
       "9         NaN         NaN         NaN        NaN         NaN         NaN   \n",
       "10        NaN         NaN         NaN        NaN         NaN         NaN   \n",
       "11      12.00       67.00       68.00       9.00       53.00       59.00   \n",
       "12        NaN         NaN         NaN        NaN         NaN         NaN   \n",
       "13       6.00       77.00       82.00        NaN         NaN         NaN   \n",
       "14        NaN         NaN         NaN        NaN         NaN         NaN   \n",
       "\n",
       "    URBANIA  URBANIA2  URBANIA3  \n",
       "0       NaN       NaN       NaN  \n",
       "1       NaN       NaN       NaN  \n",
       "2     12.00     63.00     69.00  \n",
       "3       NaN       NaN       NaN  \n",
       "4      2.00     67.00     81.00  \n",
       "5      8.00     94.00     67.00  \n",
       "6       NaN       NaN       NaN  \n",
       "7      6.00     62.00     71.00  \n",
       "8       NaN       NaN       NaN  \n",
       "9      4.00     73.00     55.00  \n",
       "10      NaN       NaN       NaN  \n",
       "11      NaN       NaN       NaN  \n",
       "12      NaN       NaN       NaN  \n",
       "13    10.00     59.00     86.00  \n",
       "14      NaN       NaN       NaN  \n",
       "\n",
       "[15 rows x 46 columns]"
      ]
     },
     "metadata": {},
     "output_type": "display_data"
    }
   ],
   "source": [
    "# Lettura dei risultati\n",
    "dfRisultati = pd.read_csv('Risultati.csv')\n",
    "\n",
    "# Eliminazione righe nulle\n",
    "dfRisultati = dfRisultati[dfRisultati['Squadra'].notnull()]\n",
    "\n",
    "# Cambio dei nomi delle colonne\n",
    "columns = dfRisultati.columns\n",
    "newnames = []\n",
    "for index, c in enumerate(columns):\n",
    "    if c[:8] != 'Unnamed:':\n",
    "        newnames.append(c)\n",
    "        \n",
    "newnames = newnames[1:]\n",
    "newnames = ['Squadra'] + [x+ndx for x in newnames for ndx in ('', '2','3')]\n",
    "\n",
    "dfRisultati.columns = newnames\n",
    "dfRisultati.to_csv('TabellaRisultati.csv')\n",
    "display(dfRisultati)"
   ]
  },
  {
   "cell_type": "code",
   "execution_count": 19,
   "metadata": {},
   "outputs": [],
   "source": [
    "# Nomi delle squadre\n",
    "squadre = dfRisultati['Squadra'].unique()\n",
    "\n",
    "# Estrazione delle statistiche di squadra ad una determinata giornata\n",
    "def EstraiStats(finoallagiornata=999):\n",
    "    # Raccolta informazioni su ciascuna squadra\n",
    "    partite_totali  = []\n",
    "    partite_casa    = []\n",
    "    partite_fuori   = []\n",
    "    vittorie_totali = []\n",
    "    vittorie_casa   = []\n",
    "    vittorie_fuori  = []\n",
    "    difcan_totali   = []\n",
    "    difcan_casa     = []\n",
    "    difcan_fuori    = []\n",
    "    segnati_totali  = []\n",
    "    segnati_casa    = []\n",
    "    segnati_fuori   = []\n",
    "    subiti_totali   = []\n",
    "    subiti_casa     = []\n",
    "    subiti_fuori    = []\n",
    "\n",
    "    for s in squadre:\n",
    "        pt = 0\n",
    "        pc = 0\n",
    "        pf = 0\n",
    "        vt = 0\n",
    "        vc = 0\n",
    "        vf = 0\n",
    "        dt = 0\n",
    "        dc = 0\n",
    "        df = 0\n",
    "        st = 0\n",
    "        sc = 0\n",
    "        sf = 0\n",
    "        ut = 0\n",
    "        uc = 0\n",
    "        uf = 0\n",
    "\n",
    "        # Ciclo sulle partite in casa\n",
    "        dfs = dfRisultati[dfRisultati['Squadra']==s]\n",
    "        for a in squadre:\n",
    "            dfcasa = dfs[dfs[a].notnull()][[a, a+'2',a+'3']]\n",
    "            if dfcasa.shape[0] > 0:\n",
    "                punteggio = list(dfcasa.iloc[0])\n",
    "                giornata = punteggio[0]\n",
    "                if giornata <= finoallagiornata:\n",
    "                    pt += 1\n",
    "                    pc += 1\n",
    "                    ps = punteggio[1]\n",
    "                    pa = punteggio[2]\n",
    "                    st += ps\n",
    "                    sc += ps\n",
    "                    ut += pa\n",
    "                    uc += pa\n",
    "                    dt += ps - pa\n",
    "                    dc += ps - pa\n",
    "                    if ps > pa:\n",
    "                        vt += 1\n",
    "                        vc += 1\n",
    "\n",
    "        # Ciclo sulle partite in trasferta\n",
    "        dfs = dfRisultati[dfRisultati[s].notnull()][['Squadra',s,s+'2',s+'3']]\n",
    "        for index, row in dfs.iterrows():\n",
    "            giornata = row[s]\n",
    "            if giornata <= finoallagiornata:\n",
    "                a = row['Squadra']\n",
    "                pa = row[s+'2']\n",
    "                ps = row[s+'3']\n",
    "                st += ps\n",
    "                sf += ps\n",
    "                ut += pa\n",
    "                uf += pa\n",
    "                pt += 1\n",
    "                pf += 1\n",
    "                dt += ps - pa\n",
    "                df += ps - pa\n",
    "                if ps > pa:\n",
    "                    vt += 1\n",
    "                    vf += 1\n",
    "\n",
    "        partite_totali.append(pt)\n",
    "        partite_casa.append(pc)\n",
    "        partite_fuori.append(pf)\n",
    "        vittorie_totali.append(vt)\n",
    "        vittorie_casa.append(vc)\n",
    "        vittorie_fuori.append(vf)\n",
    "        difcan_totali.append(dt)\n",
    "        difcan_casa.append(dc)\n",
    "        difcan_fuori.append(df)\n",
    "        segnati_totali.append(st)\n",
    "        segnati_casa.append(sc)\n",
    "        segnati_fuori.append(sf)\n",
    "        subiti_totali.append(ut)\n",
    "        subiti_casa.append(uc)\n",
    "        subiti_fuori.append(uf)\n",
    "        \n",
    "    # Creazione del DataFrame delle statistiche di squadra\n",
    "    dfStats = pd.DataFrame({'Squadra'       : squadre,\n",
    "                            'PartiteTotali' : partite_totali,\n",
    "                            'PartiteCasa'   : partite_casa,\n",
    "                            'PartiteFuori'  : partite_fuori,\n",
    "                            'VittorieTotali': vittorie_totali,\n",
    "                            'VittorieCasa'  : vittorie_casa,\n",
    "                            'VittorieFuori' : vittorie_fuori,\n",
    "                            'DifCanTotali'  : difcan_totali,\n",
    "                            'DifCanCasa'    : difcan_casa,\n",
    "                            'DifCanFuori'   : difcan_fuori,\n",
    "                            'SegnatiTotali' : segnati_totali,\n",
    "                            'SegnatiCasa'   : segnati_casa,\n",
    "                            'SegnatiFuori'  : segnati_fuori,\n",
    "                            'SubitiTotali'  : subiti_totali,\n",
    "                            'SubitiCasa'    : subiti_casa,\n",
    "                            'SubitiFuori'   : subiti_fuori,\n",
    "                            'Punti'         : [x*2 for x in vittorie_totali]\n",
    "                          })\n",
    "\n",
    "    # Conversione di tutte le colonne numeriche ad intere\n",
    "    m = dfStats.select_dtypes(np.number)\n",
    "    dfStats[m.columns] = m.round().astype('Int64')\n",
    "    \n",
    "    # Medie segnati e subiti\n",
    "    dfStats['MediaSegnatiTotali'] = dfStats['SegnatiTotali'] / dfStats['PartiteTotali']\n",
    "    dfStats['MediaSegnatiCasa']   = dfStats['SegnatiCasa']   / dfStats['PartiteCasa']\n",
    "    dfStats['MediaSegnatiFuori']  = dfStats['SegnatiFuori']  / dfStats['PartiteFuori']\n",
    "    \n",
    "    dfStats['MediaSubitiTotali'] = dfStats['SubitiTotali'] / dfStats['PartiteTotali']\n",
    "    dfStats['MediaSubitiCasa']   = dfStats['SubitiCasa']   / dfStats['PartiteCasa']\n",
    "    dfStats['MediaSubitiFuori']  = dfStats['SubitiFuori']  / dfStats['PartiteFuori']\n",
    "\n",
    "    # Differenza Canestri media\n",
    "    dfStats['MediaDifCanTotali'] = dfStats['DifCanTotali'] / dfStats['PartiteTotali']\n",
    "    dfStats['MediaDifCanCasa']   = dfStats['DifCanCasa']   / dfStats['PartiteCasa']\n",
    "    dfStats['MediaDifCanFuori']  = dfStats['DifCanFuori']  / dfStats['PartiteFuori']\n",
    "    \n",
    "    # Percentuale vittorie per turno\n",
    "    dfStats['PercVittorieTotali'] = 100.0 * dfStats['VittorieTotali'] / dfStats['PartiteTotali']\n",
    "    dfStats['PercVittorieCasa']   = 100.0 * dfStats['VittorieCasa']   / dfStats['PartiteCasa']\n",
    "    dfStats['PercVittorieFuori']  = 100.0 * dfStats['VittorieFuori']  / dfStats['PartiteFuori']\n",
    "    \n",
    "    # Ordinamento per classifica\n",
    "    dfStats = dfStats.sort_values(['Punti', 'DifCanTotali'], ascending=[False, False])\n",
    "    \n",
    "    # Index su squadra\n",
    "    dfStats = dfStats.reset_index().set_index('Squadra')\n",
    "\n",
    "    # Index sulla posizione partendo da 1\n",
    "    dfStats = dfStats.reset_index()\n",
    "    dfStats.index += 1 \n",
    "    \n",
    "    return dfStats"
   ]
  },
  {
   "cell_type": "code",
   "execution_count": 20,
   "metadata": {},
   "outputs": [
    {
     "data": {
      "text/html": [
       "<div>\n",
       "<style scoped>\n",
       "    .dataframe tbody tr th:only-of-type {\n",
       "        vertical-align: middle;\n",
       "    }\n",
       "\n",
       "    .dataframe tbody tr th {\n",
       "        vertical-align: top;\n",
       "    }\n",
       "\n",
       "    .dataframe thead th {\n",
       "        text-align: right;\n",
       "    }\n",
       "</style>\n",
       "<table border=\"1\" class=\"dataframe\">\n",
       "  <thead>\n",
       "    <tr style=\"text-align: right;\">\n",
       "      <th></th>\n",
       "      <th>Squadra</th>\n",
       "      <th>Pt</th>\n",
       "      <th>G</th>\n",
       "      <th>V</th>\n",
       "      <th>P</th>\n",
       "      <th>Pse</th>\n",
       "      <th>Psu</th>\n",
       "      <th>Mse</th>\n",
       "      <th>Msu</th>\n",
       "      <th>D</th>\n",
       "    </tr>\n",
       "    <tr>\n",
       "      <th>Posizione</th>\n",
       "      <th></th>\n",
       "      <th></th>\n",
       "      <th></th>\n",
       "      <th></th>\n",
       "      <th></th>\n",
       "      <th></th>\n",
       "      <th></th>\n",
       "      <th></th>\n",
       "      <th></th>\n",
       "      <th></th>\n",
       "    </tr>\n",
       "  </thead>\n",
       "  <tbody>\n",
       "    <tr>\n",
       "      <th>1</th>\n",
       "      <td>LORETO</td>\n",
       "      <td>22</td>\n",
       "      <td>11</td>\n",
       "      <td>11</td>\n",
       "      <td>0</td>\n",
       "      <td>945</td>\n",
       "      <td>580</td>\n",
       "      <td>85.91</td>\n",
       "      <td>52.73</td>\n",
       "      <td>365</td>\n",
       "    </tr>\n",
       "    <tr>\n",
       "      <th>2</th>\n",
       "      <td>URBANIA</td>\n",
       "      <td>18</td>\n",
       "      <td>11</td>\n",
       "      <td>9</td>\n",
       "      <td>2</td>\n",
       "      <td>817</td>\n",
       "      <td>716</td>\n",
       "      <td>74.27</td>\n",
       "      <td>65.09</td>\n",
       "      <td>101</td>\n",
       "    </tr>\n",
       "    <tr>\n",
       "      <th>3</th>\n",
       "      <td>FOSSOMBRONE</td>\n",
       "      <td>16</td>\n",
       "      <td>12</td>\n",
       "      <td>8</td>\n",
       "      <td>4</td>\n",
       "      <td>936</td>\n",
       "      <td>783</td>\n",
       "      <td>78.00</td>\n",
       "      <td>65.25</td>\n",
       "      <td>153</td>\n",
       "    </tr>\n",
       "    <tr>\n",
       "      <th>4</th>\n",
       "      <td>PERUGIA</td>\n",
       "      <td>16</td>\n",
       "      <td>12</td>\n",
       "      <td>8</td>\n",
       "      <td>4</td>\n",
       "      <td>877</td>\n",
       "      <td>815</td>\n",
       "      <td>73.08</td>\n",
       "      <td>67.92</td>\n",
       "      <td>62</td>\n",
       "    </tr>\n",
       "    <tr>\n",
       "      <th>5</th>\n",
       "      <td>RECANATI</td>\n",
       "      <td>14</td>\n",
       "      <td>12</td>\n",
       "      <td>7</td>\n",
       "      <td>5</td>\n",
       "      <td>884</td>\n",
       "      <td>783</td>\n",
       "      <td>73.67</td>\n",
       "      <td>65.25</td>\n",
       "      <td>101</td>\n",
       "    </tr>\n",
       "    <tr>\n",
       "      <th>6</th>\n",
       "      <td>SAN MARINO</td>\n",
       "      <td>14</td>\n",
       "      <td>11</td>\n",
       "      <td>7</td>\n",
       "      <td>4</td>\n",
       "      <td>774</td>\n",
       "      <td>714</td>\n",
       "      <td>70.36</td>\n",
       "      <td>64.91</td>\n",
       "      <td>60</td>\n",
       "    </tr>\n",
       "    <tr>\n",
       "      <th>7</th>\n",
       "      <td>GUALDO</td>\n",
       "      <td>14</td>\n",
       "      <td>11</td>\n",
       "      <td>7</td>\n",
       "      <td>4</td>\n",
       "      <td>782</td>\n",
       "      <td>767</td>\n",
       "      <td>71.09</td>\n",
       "      <td>69.73</td>\n",
       "      <td>15</td>\n",
       "    </tr>\n",
       "    <tr>\n",
       "      <th>8</th>\n",
       "      <td>P.S. GIORGIO</td>\n",
       "      <td>10</td>\n",
       "      <td>11</td>\n",
       "      <td>5</td>\n",
       "      <td>6</td>\n",
       "      <td>796</td>\n",
       "      <td>784</td>\n",
       "      <td>72.36</td>\n",
       "      <td>71.27</td>\n",
       "      <td>12</td>\n",
       "    </tr>\n",
       "    <tr>\n",
       "      <th>9</th>\n",
       "      <td>OSIMO</td>\n",
       "      <td>10</td>\n",
       "      <td>11</td>\n",
       "      <td>5</td>\n",
       "      <td>6</td>\n",
       "      <td>779</td>\n",
       "      <td>807</td>\n",
       "      <td>70.82</td>\n",
       "      <td>73.36</td>\n",
       "      <td>-28</td>\n",
       "    </tr>\n",
       "    <tr>\n",
       "      <th>10</th>\n",
       "      <td>TOLENTINO</td>\n",
       "      <td>8</td>\n",
       "      <td>11</td>\n",
       "      <td>4</td>\n",
       "      <td>7</td>\n",
       "      <td>720</td>\n",
       "      <td>768</td>\n",
       "      <td>65.45</td>\n",
       "      <td>69.82</td>\n",
       "      <td>-48</td>\n",
       "    </tr>\n",
       "    <tr>\n",
       "      <th>11</th>\n",
       "      <td>FALCONARA</td>\n",
       "      <td>8</td>\n",
       "      <td>11</td>\n",
       "      <td>4</td>\n",
       "      <td>7</td>\n",
       "      <td>725</td>\n",
       "      <td>823</td>\n",
       "      <td>65.91</td>\n",
       "      <td>74.82</td>\n",
       "      <td>-98</td>\n",
       "    </tr>\n",
       "    <tr>\n",
       "      <th>12</th>\n",
       "      <td>ASCOLI</td>\n",
       "      <td>6</td>\n",
       "      <td>11</td>\n",
       "      <td>3</td>\n",
       "      <td>8</td>\n",
       "      <td>759</td>\n",
       "      <td>882</td>\n",
       "      <td>69.00</td>\n",
       "      <td>80.18</td>\n",
       "      <td>-123</td>\n",
       "    </tr>\n",
       "    <tr>\n",
       "      <th>13</th>\n",
       "      <td>UMBERTIDE</td>\n",
       "      <td>6</td>\n",
       "      <td>11</td>\n",
       "      <td>3</td>\n",
       "      <td>8</td>\n",
       "      <td>690</td>\n",
       "      <td>890</td>\n",
       "      <td>62.73</td>\n",
       "      <td>80.91</td>\n",
       "      <td>-200</td>\n",
       "    </tr>\n",
       "    <tr>\n",
       "      <th>14</th>\n",
       "      <td>BASKET GIOVANE</td>\n",
       "      <td>4</td>\n",
       "      <td>11</td>\n",
       "      <td>2</td>\n",
       "      <td>9</td>\n",
       "      <td>712</td>\n",
       "      <td>886</td>\n",
       "      <td>64.73</td>\n",
       "      <td>80.55</td>\n",
       "      <td>-174</td>\n",
       "    </tr>\n",
       "    <tr>\n",
       "      <th>15</th>\n",
       "      <td>SPOLETO</td>\n",
       "      <td>2</td>\n",
       "      <td>11</td>\n",
       "      <td>1</td>\n",
       "      <td>10</td>\n",
       "      <td>644</td>\n",
       "      <td>842</td>\n",
       "      <td>58.55</td>\n",
       "      <td>76.55</td>\n",
       "      <td>-198</td>\n",
       "    </tr>\n",
       "  </tbody>\n",
       "</table>\n",
       "</div>"
      ],
      "text/plain": [
       "                  Squadra  Pt   G   V   P  Pse  Psu   Mse   Msu     D\n",
       "Posizione                                                            \n",
       "1                  LORETO  22  11  11   0  945  580 85.91 52.73   365\n",
       "2                 URBANIA  18  11   9   2  817  716 74.27 65.09   101\n",
       "3             FOSSOMBRONE  16  12   8   4  936  783 78.00 65.25   153\n",
       "4                 PERUGIA  16  12   8   4  877  815 73.08 67.92    62\n",
       "5                RECANATI  14  12   7   5  884  783 73.67 65.25   101\n",
       "6              SAN MARINO  14  11   7   4  774  714 70.36 64.91    60\n",
       "7                  GUALDO  14  11   7   4  782  767 71.09 69.73    15\n",
       "8            P.S. GIORGIO  10  11   5   6  796  784 72.36 71.27    12\n",
       "9                   OSIMO  10  11   5   6  779  807 70.82 73.36   -28\n",
       "10              TOLENTINO   8  11   4   7  720  768 65.45 69.82   -48\n",
       "11              FALCONARA   8  11   4   7  725  823 65.91 74.82   -98\n",
       "12                 ASCOLI   6  11   3   8  759  882 69.00 80.18  -123\n",
       "13              UMBERTIDE   6  11   3   8  690  890 62.73 80.91  -200\n",
       "14         BASKET GIOVANE   4  11   2   9  712  886 64.73 80.55  -174\n",
       "15                SPOLETO   2  11   1  10  644  842 58.55 76.55  -198"
      ]
     },
     "execution_count": 20,
     "metadata": {},
     "output_type": "execute_result"
    }
   ],
   "source": [
    "# Classifica attuale nel formato BasketMarche\n",
    "dfStats = EstraiStats()\n",
    "dfClassifica = dfStats[['Squadra','Punti','PartiteTotali','VittorieTotali', 'SegnatiTotali', 'SubitiTotali', 'DifCanTotali', 'MediaSegnatiTotali', 'MediaSubitiTotali']]\n",
    "dfClassifica = dfClassifica.rename(columns = {'Punti':'Pt', 'PartiteTotali': 'G', 'VittorieTotali': 'V',\n",
    "                                              'SegnatiTotali': 'Pse', 'SubitiTotali': 'Psu', 'DifCanTotali': 'D',\n",
    "                                              'MediaSegnatiTotali': 'Mse', 'MediaSubitiTotali': 'Msu'})\n",
    "dfClassifica['P'] = dfClassifica['G'] - dfClassifica['V']\n",
    "dfClassifica = dfClassifica[['Squadra','Pt','G','V','P','Pse','Psu','Mse','Msu','D']]\n",
    "dfClassifica.index.name = 'Posizione'\n",
    "dfClassifica.to_csv('Classifica.csv')\n",
    "dfClassifica"
   ]
  },
  {
   "cell_type": "code",
   "execution_count": 21,
   "metadata": {},
   "outputs": [
    {
     "data": {
      "text/html": [
       "<div>\n",
       "<style scoped>\n",
       "    .dataframe tbody tr th:only-of-type {\n",
       "        vertical-align: middle;\n",
       "    }\n",
       "\n",
       "    .dataframe tbody tr th {\n",
       "        vertical-align: top;\n",
       "    }\n",
       "\n",
       "    .dataframe thead th {\n",
       "        text-align: right;\n",
       "    }\n",
       "</style>\n",
       "<table border=\"1\" class=\"dataframe\">\n",
       "  <thead>\n",
       "    <tr style=\"text-align: right;\">\n",
       "      <th></th>\n",
       "      <th>Squadra</th>\n",
       "      <th>PartiteTotali1</th>\n",
       "      <th>PartiteCasa1</th>\n",
       "      <th>PartiteFuori1</th>\n",
       "      <th>VittorieTotali1</th>\n",
       "      <th>VittorieCasa1</th>\n",
       "      <th>VittorieFuori1</th>\n",
       "      <th>DifCanTotali1</th>\n",
       "      <th>DifCanCasa1</th>\n",
       "      <th>DifCanFuori1</th>\n",
       "      <th>...</th>\n",
       "      <th>MediaSubitiTotali12</th>\n",
       "      <th>MediaSubitiCasa12</th>\n",
       "      <th>MediaSubitiFuori12</th>\n",
       "      <th>MediaDifCanTotali12</th>\n",
       "      <th>MediaDifCanCasa12</th>\n",
       "      <th>MediaDifCanFuori12</th>\n",
       "      <th>PercVittorieTotali12</th>\n",
       "      <th>PercVittorieCasa12</th>\n",
       "      <th>PercVittorieFuori12</th>\n",
       "      <th>Difficolta12</th>\n",
       "    </tr>\n",
       "  </thead>\n",
       "  <tbody>\n",
       "    <tr>\n",
       "      <th>1</th>\n",
       "      <td>LORETO</td>\n",
       "      <td>1</td>\n",
       "      <td>1</td>\n",
       "      <td>0</td>\n",
       "      <td>1</td>\n",
       "      <td>1</td>\n",
       "      <td>0</td>\n",
       "      <td>60</td>\n",
       "      <td>60</td>\n",
       "      <td>0</td>\n",
       "      <td>...</td>\n",
       "      <td>52.73</td>\n",
       "      <td>57.17</td>\n",
       "      <td>47.40</td>\n",
       "      <td>33.18</td>\n",
       "      <td>33.00</td>\n",
       "      <td>33.40</td>\n",
       "      <td>100.00</td>\n",
       "      <td>100.00</td>\n",
       "      <td>100.00</td>\n",
       "      <td>7.34</td>\n",
       "    </tr>\n",
       "    <tr>\n",
       "      <th>2</th>\n",
       "      <td>URBANIA</td>\n",
       "      <td>1</td>\n",
       "      <td>1</td>\n",
       "      <td>0</td>\n",
       "      <td>1</td>\n",
       "      <td>1</td>\n",
       "      <td>0</td>\n",
       "      <td>30</td>\n",
       "      <td>30</td>\n",
       "      <td>0</td>\n",
       "      <td>...</td>\n",
       "      <td>65.09</td>\n",
       "      <td>59.60</td>\n",
       "      <td>69.67</td>\n",
       "      <td>9.18</td>\n",
       "      <td>18.00</td>\n",
       "      <td>1.83</td>\n",
       "      <td>81.82</td>\n",
       "      <td>100.00</td>\n",
       "      <td>66.67</td>\n",
       "      <td>9.80</td>\n",
       "    </tr>\n",
       "    <tr>\n",
       "      <th>3</th>\n",
       "      <td>FOSSOMBRONE</td>\n",
       "      <td>1</td>\n",
       "      <td>0</td>\n",
       "      <td>1</td>\n",
       "      <td>1</td>\n",
       "      <td>0</td>\n",
       "      <td>1</td>\n",
       "      <td>32</td>\n",
       "      <td>0</td>\n",
       "      <td>32</td>\n",
       "      <td>...</td>\n",
       "      <td>65.25</td>\n",
       "      <td>58.20</td>\n",
       "      <td>70.29</td>\n",
       "      <td>12.75</td>\n",
       "      <td>27.20</td>\n",
       "      <td>2.43</td>\n",
       "      <td>66.67</td>\n",
       "      <td>100.00</td>\n",
       "      <td>42.86</td>\n",
       "      <td>9.52</td>\n",
       "    </tr>\n",
       "    <tr>\n",
       "      <th>4</th>\n",
       "      <td>PERUGIA</td>\n",
       "      <td>1</td>\n",
       "      <td>0</td>\n",
       "      <td>1</td>\n",
       "      <td>1</td>\n",
       "      <td>0</td>\n",
       "      <td>1</td>\n",
       "      <td>10</td>\n",
       "      <td>0</td>\n",
       "      <td>10</td>\n",
       "      <td>...</td>\n",
       "      <td>67.92</td>\n",
       "      <td>62.20</td>\n",
       "      <td>72.00</td>\n",
       "      <td>5.17</td>\n",
       "      <td>13.80</td>\n",
       "      <td>-1.00</td>\n",
       "      <td>66.67</td>\n",
       "      <td>80.00</td>\n",
       "      <td>57.14</td>\n",
       "      <td>8.81</td>\n",
       "    </tr>\n",
       "    <tr>\n",
       "      <th>5</th>\n",
       "      <td>RECANATI</td>\n",
       "      <td>1</td>\n",
       "      <td>0</td>\n",
       "      <td>1</td>\n",
       "      <td>1</td>\n",
       "      <td>0</td>\n",
       "      <td>1</td>\n",
       "      <td>23</td>\n",
       "      <td>0</td>\n",
       "      <td>23</td>\n",
       "      <td>...</td>\n",
       "      <td>65.25</td>\n",
       "      <td>68.40</td>\n",
       "      <td>63.00</td>\n",
       "      <td>8.42</td>\n",
       "      <td>7.60</td>\n",
       "      <td>9.00</td>\n",
       "      <td>58.33</td>\n",
       "      <td>60.00</td>\n",
       "      <td>57.14</td>\n",
       "      <td>8.44</td>\n",
       "    </tr>\n",
       "    <tr>\n",
       "      <th>6</th>\n",
       "      <td>SAN MARINO</td>\n",
       "      <td>1</td>\n",
       "      <td>0</td>\n",
       "      <td>1</td>\n",
       "      <td>0</td>\n",
       "      <td>0</td>\n",
       "      <td>0</td>\n",
       "      <td>-30</td>\n",
       "      <td>0</td>\n",
       "      <td>-30</td>\n",
       "      <td>...</td>\n",
       "      <td>64.91</td>\n",
       "      <td>63.75</td>\n",
       "      <td>65.57</td>\n",
       "      <td>5.45</td>\n",
       "      <td>7.75</td>\n",
       "      <td>4.14</td>\n",
       "      <td>63.64</td>\n",
       "      <td>75.00</td>\n",
       "      <td>57.14</td>\n",
       "      <td>10.32</td>\n",
       "    </tr>\n",
       "    <tr>\n",
       "      <th>7</th>\n",
       "      <td>GUALDO</td>\n",
       "      <td>1</td>\n",
       "      <td>0</td>\n",
       "      <td>1</td>\n",
       "      <td>1</td>\n",
       "      <td>0</td>\n",
       "      <td>1</td>\n",
       "      <td>10</td>\n",
       "      <td>0</td>\n",
       "      <td>10</td>\n",
       "      <td>...</td>\n",
       "      <td>69.73</td>\n",
       "      <td>71.60</td>\n",
       "      <td>68.17</td>\n",
       "      <td>1.36</td>\n",
       "      <td>-4.40</td>\n",
       "      <td>6.17</td>\n",
       "      <td>63.64</td>\n",
       "      <td>40.00</td>\n",
       "      <td>83.33</td>\n",
       "      <td>9.59</td>\n",
       "    </tr>\n",
       "    <tr>\n",
       "      <th>8</th>\n",
       "      <td>P.S. GIORGIO</td>\n",
       "      <td>0</td>\n",
       "      <td>0</td>\n",
       "      <td>0</td>\n",
       "      <td>0</td>\n",
       "      <td>0</td>\n",
       "      <td>0</td>\n",
       "      <td>0</td>\n",
       "      <td>0</td>\n",
       "      <td>0</td>\n",
       "      <td>...</td>\n",
       "      <td>71.27</td>\n",
       "      <td>69.67</td>\n",
       "      <td>73.20</td>\n",
       "      <td>1.09</td>\n",
       "      <td>7.50</td>\n",
       "      <td>-6.60</td>\n",
       "      <td>45.45</td>\n",
       "      <td>66.67</td>\n",
       "      <td>20.00</td>\n",
       "      <td>8.82</td>\n",
       "    </tr>\n",
       "    <tr>\n",
       "      <th>9</th>\n",
       "      <td>OSIMO</td>\n",
       "      <td>1</td>\n",
       "      <td>1</td>\n",
       "      <td>0</td>\n",
       "      <td>0</td>\n",
       "      <td>0</td>\n",
       "      <td>0</td>\n",
       "      <td>-23</td>\n",
       "      <td>-23</td>\n",
       "      <td>0</td>\n",
       "      <td>...</td>\n",
       "      <td>73.36</td>\n",
       "      <td>75.00</td>\n",
       "      <td>70.50</td>\n",
       "      <td>-2.55</td>\n",
       "      <td>0.57</td>\n",
       "      <td>-8.00</td>\n",
       "      <td>45.45</td>\n",
       "      <td>57.14</td>\n",
       "      <td>25.00</td>\n",
       "      <td>8.11</td>\n",
       "    </tr>\n",
       "    <tr>\n",
       "      <th>10</th>\n",
       "      <td>TOLENTINO</td>\n",
       "      <td>1</td>\n",
       "      <td>0</td>\n",
       "      <td>1</td>\n",
       "      <td>1</td>\n",
       "      <td>0</td>\n",
       "      <td>1</td>\n",
       "      <td>37</td>\n",
       "      <td>0</td>\n",
       "      <td>37</td>\n",
       "      <td>...</td>\n",
       "      <td>69.82</td>\n",
       "      <td>68.50</td>\n",
       "      <td>71.40</td>\n",
       "      <td>-4.36</td>\n",
       "      <td>-11.33</td>\n",
       "      <td>4.00</td>\n",
       "      <td>36.36</td>\n",
       "      <td>16.67</td>\n",
       "      <td>60.00</td>\n",
       "      <td>8.64</td>\n",
       "    </tr>\n",
       "    <tr>\n",
       "      <th>11</th>\n",
       "      <td>FALCONARA</td>\n",
       "      <td>1</td>\n",
       "      <td>1</td>\n",
       "      <td>0</td>\n",
       "      <td>0</td>\n",
       "      <td>0</td>\n",
       "      <td>0</td>\n",
       "      <td>-32</td>\n",
       "      <td>-32</td>\n",
       "      <td>0</td>\n",
       "      <td>...</td>\n",
       "      <td>74.82</td>\n",
       "      <td>71.83</td>\n",
       "      <td>78.40</td>\n",
       "      <td>-8.91</td>\n",
       "      <td>-6.83</td>\n",
       "      <td>-11.40</td>\n",
       "      <td>36.36</td>\n",
       "      <td>50.00</td>\n",
       "      <td>20.00</td>\n",
       "      <td>9.23</td>\n",
       "    </tr>\n",
       "    <tr>\n",
       "      <th>12</th>\n",
       "      <td>ASCOLI</td>\n",
       "      <td>1</td>\n",
       "      <td>1</td>\n",
       "      <td>0</td>\n",
       "      <td>0</td>\n",
       "      <td>0</td>\n",
       "      <td>0</td>\n",
       "      <td>-37</td>\n",
       "      <td>-37</td>\n",
       "      <td>0</td>\n",
       "      <td>...</td>\n",
       "      <td>80.18</td>\n",
       "      <td>82.17</td>\n",
       "      <td>77.80</td>\n",
       "      <td>-11.18</td>\n",
       "      <td>-16.50</td>\n",
       "      <td>-4.80</td>\n",
       "      <td>27.27</td>\n",
       "      <td>33.33</td>\n",
       "      <td>20.00</td>\n",
       "      <td>9.73</td>\n",
       "    </tr>\n",
       "    <tr>\n",
       "      <th>13</th>\n",
       "      <td>UMBERTIDE</td>\n",
       "      <td>1</td>\n",
       "      <td>1</td>\n",
       "      <td>0</td>\n",
       "      <td>0</td>\n",
       "      <td>0</td>\n",
       "      <td>0</td>\n",
       "      <td>-10</td>\n",
       "      <td>-10</td>\n",
       "      <td>0</td>\n",
       "      <td>...</td>\n",
       "      <td>80.91</td>\n",
       "      <td>79.00</td>\n",
       "      <td>83.20</td>\n",
       "      <td>-18.18</td>\n",
       "      <td>-11.17</td>\n",
       "      <td>-26.60</td>\n",
       "      <td>27.27</td>\n",
       "      <td>33.33</td>\n",
       "      <td>20.00</td>\n",
       "      <td>8.43</td>\n",
       "    </tr>\n",
       "    <tr>\n",
       "      <th>14</th>\n",
       "      <td>BASKET GIOVANE</td>\n",
       "      <td>1</td>\n",
       "      <td>0</td>\n",
       "      <td>1</td>\n",
       "      <td>0</td>\n",
       "      <td>0</td>\n",
       "      <td>0</td>\n",
       "      <td>-60</td>\n",
       "      <td>0</td>\n",
       "      <td>-60</td>\n",
       "      <td>...</td>\n",
       "      <td>80.55</td>\n",
       "      <td>74.80</td>\n",
       "      <td>85.33</td>\n",
       "      <td>-15.82</td>\n",
       "      <td>-5.60</td>\n",
       "      <td>-24.33</td>\n",
       "      <td>18.18</td>\n",
       "      <td>40.00</td>\n",
       "      <td>0.00</td>\n",
       "      <td>9.73</td>\n",
       "    </tr>\n",
       "    <tr>\n",
       "      <th>15</th>\n",
       "      <td>SPOLETO</td>\n",
       "      <td>1</td>\n",
       "      <td>1</td>\n",
       "      <td>0</td>\n",
       "      <td>0</td>\n",
       "      <td>0</td>\n",
       "      <td>0</td>\n",
       "      <td>-10</td>\n",
       "      <td>-10</td>\n",
       "      <td>0</td>\n",
       "      <td>...</td>\n",
       "      <td>76.55</td>\n",
       "      <td>70.14</td>\n",
       "      <td>87.75</td>\n",
       "      <td>-18.00</td>\n",
       "      <td>-10.86</td>\n",
       "      <td>-30.50</td>\n",
       "      <td>9.09</td>\n",
       "      <td>14.29</td>\n",
       "      <td>0.00</td>\n",
       "      <td>9.05</td>\n",
       "    </tr>\n",
       "  </tbody>\n",
       "</table>\n",
       "<p>15 rows × 349 columns</p>\n",
       "</div>"
      ],
      "text/plain": [
       "           Squadra  PartiteTotali1  PartiteCasa1  PartiteFuori1  \\\n",
       "1           LORETO               1             1              0   \n",
       "2          URBANIA               1             1              0   \n",
       "3      FOSSOMBRONE               1             0              1   \n",
       "4          PERUGIA               1             0              1   \n",
       "5         RECANATI               1             0              1   \n",
       "6       SAN MARINO               1             0              1   \n",
       "7           GUALDO               1             0              1   \n",
       "8     P.S. GIORGIO               0             0              0   \n",
       "9            OSIMO               1             1              0   \n",
       "10       TOLENTINO               1             0              1   \n",
       "11       FALCONARA               1             1              0   \n",
       "12          ASCOLI               1             1              0   \n",
       "13       UMBERTIDE               1             1              0   \n",
       "14  BASKET GIOVANE               1             0              1   \n",
       "15         SPOLETO               1             1              0   \n",
       "\n",
       "    VittorieTotali1  VittorieCasa1  VittorieFuori1  DifCanTotali1  \\\n",
       "1                 1              1               0             60   \n",
       "2                 1              1               0             30   \n",
       "3                 1              0               1             32   \n",
       "4                 1              0               1             10   \n",
       "5                 1              0               1             23   \n",
       "6                 0              0               0            -30   \n",
       "7                 1              0               1             10   \n",
       "8                 0              0               0              0   \n",
       "9                 0              0               0            -23   \n",
       "10                1              0               1             37   \n",
       "11                0              0               0            -32   \n",
       "12                0              0               0            -37   \n",
       "13                0              0               0            -10   \n",
       "14                0              0               0            -60   \n",
       "15                0              0               0            -10   \n",
       "\n",
       "    DifCanCasa1  DifCanFuori1  ...  MediaSubitiTotali12  MediaSubitiCasa12  \\\n",
       "1            60             0  ...                52.73              57.17   \n",
       "2            30             0  ...                65.09              59.60   \n",
       "3             0            32  ...                65.25              58.20   \n",
       "4             0            10  ...                67.92              62.20   \n",
       "5             0            23  ...                65.25              68.40   \n",
       "6             0           -30  ...                64.91              63.75   \n",
       "7             0            10  ...                69.73              71.60   \n",
       "8             0             0  ...                71.27              69.67   \n",
       "9           -23             0  ...                73.36              75.00   \n",
       "10            0            37  ...                69.82              68.50   \n",
       "11          -32             0  ...                74.82              71.83   \n",
       "12          -37             0  ...                80.18              82.17   \n",
       "13          -10             0  ...                80.91              79.00   \n",
       "14            0           -60  ...                80.55              74.80   \n",
       "15          -10             0  ...                76.55              70.14   \n",
       "\n",
       "    MediaSubitiFuori12  MediaDifCanTotali12  MediaDifCanCasa12  \\\n",
       "1                47.40                33.18              33.00   \n",
       "2                69.67                 9.18              18.00   \n",
       "3                70.29                12.75              27.20   \n",
       "4                72.00                 5.17              13.80   \n",
       "5                63.00                 8.42               7.60   \n",
       "6                65.57                 5.45               7.75   \n",
       "7                68.17                 1.36              -4.40   \n",
       "8                73.20                 1.09               7.50   \n",
       "9                70.50                -2.55               0.57   \n",
       "10               71.40                -4.36             -11.33   \n",
       "11               78.40                -8.91              -6.83   \n",
       "12               77.80               -11.18             -16.50   \n",
       "13               83.20               -18.18             -11.17   \n",
       "14               85.33               -15.82              -5.60   \n",
       "15               87.75               -18.00             -10.86   \n",
       "\n",
       "    MediaDifCanFuori12  PercVittorieTotali12  PercVittorieCasa12  \\\n",
       "1                33.40                100.00              100.00   \n",
       "2                 1.83                 81.82              100.00   \n",
       "3                 2.43                 66.67              100.00   \n",
       "4                -1.00                 66.67               80.00   \n",
       "5                 9.00                 58.33               60.00   \n",
       "6                 4.14                 63.64               75.00   \n",
       "7                 6.17                 63.64               40.00   \n",
       "8                -6.60                 45.45               66.67   \n",
       "9                -8.00                 45.45               57.14   \n",
       "10                4.00                 36.36               16.67   \n",
       "11              -11.40                 36.36               50.00   \n",
       "12               -4.80                 27.27               33.33   \n",
       "13              -26.60                 27.27               33.33   \n",
       "14              -24.33                 18.18               40.00   \n",
       "15              -30.50                  9.09               14.29   \n",
       "\n",
       "    PercVittorieFuori12  Difficolta12  \n",
       "1                100.00          7.34  \n",
       "2                 66.67          9.80  \n",
       "3                 42.86          9.52  \n",
       "4                 57.14          8.81  \n",
       "5                 57.14          8.44  \n",
       "6                 57.14         10.32  \n",
       "7                 83.33          9.59  \n",
       "8                 20.00          8.82  \n",
       "9                 25.00          8.11  \n",
       "10                60.00          8.64  \n",
       "11                20.00          9.23  \n",
       "12                20.00          9.73  \n",
       "13                20.00          8.43  \n",
       "14                 0.00          9.73  \n",
       "15                 0.00          9.05  \n",
       "\n",
       "[15 rows x 349 columns]"
      ]
     },
     "execution_count": 21,
     "metadata": {},
     "output_type": "execute_result"
    }
   ],
   "source": [
    "# Calcola la difficoltà nell'affrontare una squadra basandosi sulla posizione corrente in classifica.\n",
    "# Torna un valore da 1 (ultima in classifica) a 15, prima in classifica\n",
    "def DifficoltaSquadra(squadra):\n",
    "    posizione = list(dfClassifica[dfClassifica['Squadra']==squadra].index)[0]\n",
    "    return len(squadre) + 1 - posizione\n",
    "\n",
    "\n",
    "# Estrae dai risultati tutte le partite disputate da una squadra\n",
    "def TutteLePartite(squadra):\n",
    "    partite = []\n",
    "    # Ciclo sulle partite in casa\n",
    "    dfs = dfRisultati[dfRisultati['Squadra']==squadra]\n",
    "    for a in squadre:\n",
    "        dfcasa = dfs[dfs[a].notnull()][[a, a+'2',a+'3']]\n",
    "        if dfcasa.shape[0] > 0:\n",
    "            punteggio = list(dfcasa.iloc[0])\n",
    "            giornata       = int(punteggio[0])\n",
    "            puntisquadra   = int(punteggio[1])\n",
    "            puntiavversari = int(punteggio[2])\n",
    "            difficolta = DifficoltaSquadra(a)\n",
    "            partite.append((squadra,True,giornata,a,puntisquadra,puntiavversari,difficolta))\n",
    "            \n",
    "    # Ciclo sulle partite in trasferta\n",
    "    dfs = dfRisultati[dfRisultati[squadra].notnull()][['Squadra',squadra,squadra+'2',squadra+'3']]\n",
    "    for index, row in dfs.iterrows():\n",
    "        avversario = row['Squadra']\n",
    "        giornata       = int(row[squadra])\n",
    "        puntisquadra   = int(row[squadra+'3'])\n",
    "        puntiavversari = int(row[squadra+'2'])\n",
    "        difficolta = DifficoltaSquadra(avversario) * 1.25\n",
    "        partite.append((squadra,False,giornata,avversario,puntisquadra,puntiavversari,difficolta))\n",
    "            \n",
    "    return sorted(partite,  key=lambda x: x[2])\n",
    "\n",
    "\n",
    "elenco_partite = {}\n",
    "for s in squadre:\n",
    "    elenco_partite[s] = TutteLePartite(s)\n",
    "\n",
    "    \n",
    "# Torna la difficolta media delle partite affrontate da una squadra fino ad una determinata giornata    \n",
    "def difficoltaMedia(squadra, giornata):\n",
    "    partite = [x for x in elenco_partite[squadra] if x[2] <= giornata]\n",
    "    casa      = [x[6] for x in partite if x[1]]\n",
    "    trasferta = [x[6] for x in partite if not x[1]]\n",
    "    if len(partite) > 0:\n",
    "        return (sum(casa) + sum(trasferta))/float(len(partite))\n",
    "    else:\n",
    "        return 0\n",
    "\n",
    "\n",
    "# Estrazione dei dati su tutte le giornate disputate fino ad ora\n",
    "\n",
    "# Numero giornate disputate\n",
    "numerogiornate = int(dfRisultati[squadre].fillna(0).to_numpy().max())\n",
    "\n",
    "dfStats = None\n",
    "for n in range(1,numerogiornate+1):\n",
    "    dfStatsG = EstraiStats(n)\n",
    "    dfStatsG.columns = ['Squadra'] + [x+str(n) for x in dfStatsG.columns if x != 'Squadra']\n",
    "    dfStatsG = dfStatsG.drop('index'+str(n), axis=1)\n",
    "    \n",
    "    dfStatsG['Difficolta'+str(n)] = [difficoltaMedia(s,n) for s in dfStatsG['Squadra']]\n",
    "        \n",
    "    if dfStats is None:\n",
    "        dfStats = dfStatsG\n",
    "    else:\n",
    "        dfStats = pd.merge(dfStats, dfStatsG,  how='left', left_on=['Squadra'], right_on=['Squadra'])\n",
    "\n",
    "\n",
    "# Ordinamento per classifica\n",
    "dfStats = dfStats.sort_values(['Punti'+str(numerogiornate), 'DifCanTotali'+str(numerogiornate)], ascending=[False, False])\n",
    "\n",
    "# Index sulla posizione partendo da 1\n",
    "dfStats = dfStats.reset_index()\n",
    "dfStats.index += 1 \n",
    "\n",
    "dfStats = dfStats.drop('index', axis=1)\n",
    "dfStats"
   ]
  },
  {
   "cell_type": "code",
   "execution_count": 22,
   "metadata": {},
   "outputs": [
    {
     "data": {
      "text/html": [
       "<div>\n",
       "<style scoped>\n",
       "    .dataframe tbody tr th:only-of-type {\n",
       "        vertical-align: middle;\n",
       "    }\n",
       "\n",
       "    .dataframe tbody tr th {\n",
       "        vertical-align: top;\n",
       "    }\n",
       "\n",
       "    .dataframe thead th {\n",
       "        text-align: right;\n",
       "    }\n",
       "</style>\n",
       "<table border=\"1\" class=\"dataframe\">\n",
       "  <thead>\n",
       "    <tr style=\"text-align: right;\">\n",
       "      <th></th>\n",
       "      <th>Squadra</th>\n",
       "      <th>1</th>\n",
       "      <th>2</th>\n",
       "      <th>3</th>\n",
       "      <th>4</th>\n",
       "      <th>5</th>\n",
       "      <th>6</th>\n",
       "      <th>7</th>\n",
       "      <th>8</th>\n",
       "      <th>9</th>\n",
       "      <th>10</th>\n",
       "      <th>11</th>\n",
       "      <th>12</th>\n",
       "    </tr>\n",
       "  </thead>\n",
       "  <tbody>\n",
       "    <tr>\n",
       "      <th>1</th>\n",
       "      <td>LORETO</td>\n",
       "      <td>100.00</td>\n",
       "      <td>100.00</td>\n",
       "      <td>100.00</td>\n",
       "      <td>100.00</td>\n",
       "      <td>100.00</td>\n",
       "      <td>100.00</td>\n",
       "      <td>100.00</td>\n",
       "      <td>100.00</td>\n",
       "      <td>100.00</td>\n",
       "      <td>100.00</td>\n",
       "      <td>100.00</td>\n",
       "      <td>100.00</td>\n",
       "    </tr>\n",
       "    <tr>\n",
       "      <th>2</th>\n",
       "      <td>URBANIA</td>\n",
       "      <td>100.00</td>\n",
       "      <td>100.00</td>\n",
       "      <td>100.00</td>\n",
       "      <td>75.00</td>\n",
       "      <td>80.00</td>\n",
       "      <td>83.33</td>\n",
       "      <td>85.71</td>\n",
       "      <td>75.00</td>\n",
       "      <td>75.00</td>\n",
       "      <td>77.78</td>\n",
       "      <td>80.00</td>\n",
       "      <td>81.82</td>\n",
       "    </tr>\n",
       "    <tr>\n",
       "      <th>3</th>\n",
       "      <td>FOSSOMBRONE</td>\n",
       "      <td>100.00</td>\n",
       "      <td>100.00</td>\n",
       "      <td>66.67</td>\n",
       "      <td>75.00</td>\n",
       "      <td>60.00</td>\n",
       "      <td>66.67</td>\n",
       "      <td>71.43</td>\n",
       "      <td>75.00</td>\n",
       "      <td>77.78</td>\n",
       "      <td>70.00</td>\n",
       "      <td>72.73</td>\n",
       "      <td>66.67</td>\n",
       "    </tr>\n",
       "    <tr>\n",
       "      <th>4</th>\n",
       "      <td>PERUGIA</td>\n",
       "      <td>100.00</td>\n",
       "      <td>100.00</td>\n",
       "      <td>100.00</td>\n",
       "      <td>100.00</td>\n",
       "      <td>80.00</td>\n",
       "      <td>83.33</td>\n",
       "      <td>85.71</td>\n",
       "      <td>75.00</td>\n",
       "      <td>66.67</td>\n",
       "      <td>70.00</td>\n",
       "      <td>63.64</td>\n",
       "      <td>66.67</td>\n",
       "    </tr>\n",
       "    <tr>\n",
       "      <th>5</th>\n",
       "      <td>RECANATI</td>\n",
       "      <td>100.00</td>\n",
       "      <td>100.00</td>\n",
       "      <td>100.00</td>\n",
       "      <td>100.00</td>\n",
       "      <td>100.00</td>\n",
       "      <td>83.33</td>\n",
       "      <td>71.43</td>\n",
       "      <td>62.50</td>\n",
       "      <td>66.67</td>\n",
       "      <td>60.00</td>\n",
       "      <td>63.64</td>\n",
       "      <td>58.33</td>\n",
       "    </tr>\n",
       "    <tr>\n",
       "      <th>6</th>\n",
       "      <td>SAN MARINO</td>\n",
       "      <td>0.00</td>\n",
       "      <td>50.00</td>\n",
       "      <td>66.67</td>\n",
       "      <td>75.00</td>\n",
       "      <td>80.00</td>\n",
       "      <td>83.33</td>\n",
       "      <td>71.43</td>\n",
       "      <td>62.50</td>\n",
       "      <td>66.67</td>\n",
       "      <td>60.00</td>\n",
       "      <td>60.00</td>\n",
       "      <td>63.64</td>\n",
       "    </tr>\n",
       "    <tr>\n",
       "      <th>7</th>\n",
       "      <td>GUALDO</td>\n",
       "      <td>100.00</td>\n",
       "      <td>50.00</td>\n",
       "      <td>66.67</td>\n",
       "      <td>50.00</td>\n",
       "      <td>60.00</td>\n",
       "      <td>50.00</td>\n",
       "      <td>57.14</td>\n",
       "      <td>62.50</td>\n",
       "      <td>66.67</td>\n",
       "      <td>70.00</td>\n",
       "      <td>63.64</td>\n",
       "      <td>63.64</td>\n",
       "    </tr>\n",
       "    <tr>\n",
       "      <th>8</th>\n",
       "      <td>P.S. GIORGIO</td>\n",
       "      <td>NaN</td>\n",
       "      <td>100.00</td>\n",
       "      <td>100.00</td>\n",
       "      <td>100.00</td>\n",
       "      <td>75.00</td>\n",
       "      <td>60.00</td>\n",
       "      <td>50.00</td>\n",
       "      <td>57.14</td>\n",
       "      <td>50.00</td>\n",
       "      <td>55.56</td>\n",
       "      <td>50.00</td>\n",
       "      <td>45.45</td>\n",
       "    </tr>\n",
       "    <tr>\n",
       "      <th>9</th>\n",
       "      <td>OSIMO</td>\n",
       "      <td>0.00</td>\n",
       "      <td>0.00</td>\n",
       "      <td>0.00</td>\n",
       "      <td>25.00</td>\n",
       "      <td>20.00</td>\n",
       "      <td>20.00</td>\n",
       "      <td>33.33</td>\n",
       "      <td>42.86</td>\n",
       "      <td>37.50</td>\n",
       "      <td>44.44</td>\n",
       "      <td>40.00</td>\n",
       "      <td>45.45</td>\n",
       "    </tr>\n",
       "    <tr>\n",
       "      <th>10</th>\n",
       "      <td>TOLENTINO</td>\n",
       "      <td>100.00</td>\n",
       "      <td>50.00</td>\n",
       "      <td>33.33</td>\n",
       "      <td>33.33</td>\n",
       "      <td>25.00</td>\n",
       "      <td>40.00</td>\n",
       "      <td>33.33</td>\n",
       "      <td>28.57</td>\n",
       "      <td>25.00</td>\n",
       "      <td>22.22</td>\n",
       "      <td>30.00</td>\n",
       "      <td>36.36</td>\n",
       "    </tr>\n",
       "    <tr>\n",
       "      <th>11</th>\n",
       "      <td>FALCONARA</td>\n",
       "      <td>0.00</td>\n",
       "      <td>0.00</td>\n",
       "      <td>0.00</td>\n",
       "      <td>0.00</td>\n",
       "      <td>20.00</td>\n",
       "      <td>16.67</td>\n",
       "      <td>16.67</td>\n",
       "      <td>14.29</td>\n",
       "      <td>25.00</td>\n",
       "      <td>33.33</td>\n",
       "      <td>40.00</td>\n",
       "      <td>36.36</td>\n",
       "    </tr>\n",
       "    <tr>\n",
       "      <th>12</th>\n",
       "      <td>ASCOLI</td>\n",
       "      <td>0.00</td>\n",
       "      <td>0.00</td>\n",
       "      <td>0.00</td>\n",
       "      <td>0.00</td>\n",
       "      <td>0.00</td>\n",
       "      <td>0.00</td>\n",
       "      <td>14.29</td>\n",
       "      <td>25.00</td>\n",
       "      <td>22.22</td>\n",
       "      <td>22.22</td>\n",
       "      <td>30.00</td>\n",
       "      <td>27.27</td>\n",
       "    </tr>\n",
       "    <tr>\n",
       "      <th>13</th>\n",
       "      <td>UMBERTIDE</td>\n",
       "      <td>0.00</td>\n",
       "      <td>0.00</td>\n",
       "      <td>33.33</td>\n",
       "      <td>25.00</td>\n",
       "      <td>25.00</td>\n",
       "      <td>20.00</td>\n",
       "      <td>16.67</td>\n",
       "      <td>28.57</td>\n",
       "      <td>37.50</td>\n",
       "      <td>33.33</td>\n",
       "      <td>30.00</td>\n",
       "      <td>27.27</td>\n",
       "    </tr>\n",
       "    <tr>\n",
       "      <th>14</th>\n",
       "      <td>BASKET GIOVANE</td>\n",
       "      <td>0.00</td>\n",
       "      <td>0.00</td>\n",
       "      <td>0.00</td>\n",
       "      <td>0.00</td>\n",
       "      <td>0.00</td>\n",
       "      <td>20.00</td>\n",
       "      <td>16.67</td>\n",
       "      <td>14.29</td>\n",
       "      <td>12.50</td>\n",
       "      <td>11.11</td>\n",
       "      <td>10.00</td>\n",
       "      <td>18.18</td>\n",
       "    </tr>\n",
       "    <tr>\n",
       "      <th>15</th>\n",
       "      <td>SPOLETO</td>\n",
       "      <td>0.00</td>\n",
       "      <td>0.00</td>\n",
       "      <td>0.00</td>\n",
       "      <td>0.00</td>\n",
       "      <td>20.00</td>\n",
       "      <td>16.67</td>\n",
       "      <td>14.29</td>\n",
       "      <td>14.29</td>\n",
       "      <td>12.50</td>\n",
       "      <td>11.11</td>\n",
       "      <td>10.00</td>\n",
       "      <td>9.09</td>\n",
       "    </tr>\n",
       "  </tbody>\n",
       "</table>\n",
       "</div>"
      ],
      "text/plain": [
       "           Squadra      1      2      3      4      5      6      7      8  \\\n",
       "1           LORETO 100.00 100.00 100.00 100.00 100.00 100.00 100.00 100.00   \n",
       "2          URBANIA 100.00 100.00 100.00  75.00  80.00  83.33  85.71  75.00   \n",
       "3      FOSSOMBRONE 100.00 100.00  66.67  75.00  60.00  66.67  71.43  75.00   \n",
       "4          PERUGIA 100.00 100.00 100.00 100.00  80.00  83.33  85.71  75.00   \n",
       "5         RECANATI 100.00 100.00 100.00 100.00 100.00  83.33  71.43  62.50   \n",
       "6       SAN MARINO   0.00  50.00  66.67  75.00  80.00  83.33  71.43  62.50   \n",
       "7           GUALDO 100.00  50.00  66.67  50.00  60.00  50.00  57.14  62.50   \n",
       "8     P.S. GIORGIO    NaN 100.00 100.00 100.00  75.00  60.00  50.00  57.14   \n",
       "9            OSIMO   0.00   0.00   0.00  25.00  20.00  20.00  33.33  42.86   \n",
       "10       TOLENTINO 100.00  50.00  33.33  33.33  25.00  40.00  33.33  28.57   \n",
       "11       FALCONARA   0.00   0.00   0.00   0.00  20.00  16.67  16.67  14.29   \n",
       "12          ASCOLI   0.00   0.00   0.00   0.00   0.00   0.00  14.29  25.00   \n",
       "13       UMBERTIDE   0.00   0.00  33.33  25.00  25.00  20.00  16.67  28.57   \n",
       "14  BASKET GIOVANE   0.00   0.00   0.00   0.00   0.00  20.00  16.67  14.29   \n",
       "15         SPOLETO   0.00   0.00   0.00   0.00  20.00  16.67  14.29  14.29   \n",
       "\n",
       "        9     10     11     12  \n",
       "1  100.00 100.00 100.00 100.00  \n",
       "2   75.00  77.78  80.00  81.82  \n",
       "3   77.78  70.00  72.73  66.67  \n",
       "4   66.67  70.00  63.64  66.67  \n",
       "5   66.67  60.00  63.64  58.33  \n",
       "6   66.67  60.00  60.00  63.64  \n",
       "7   66.67  70.00  63.64  63.64  \n",
       "8   50.00  55.56  50.00  45.45  \n",
       "9   37.50  44.44  40.00  45.45  \n",
       "10  25.00  22.22  30.00  36.36  \n",
       "11  25.00  33.33  40.00  36.36  \n",
       "12  22.22  22.22  30.00  27.27  \n",
       "13  37.50  33.33  30.00  27.27  \n",
       "14  12.50  11.11  10.00  18.18  \n",
       "15  12.50  11.11  10.00   9.09  "
      ]
     },
     "execution_count": 22,
     "metadata": {},
     "output_type": "execute_result"
    }
   ],
   "source": [
    "def EstraiTimeline(dfStats, numerogiornate, nomecampo):\n",
    "    # Lista delle colonne dei punti di tutte le giornate\n",
    "    colonne = [nomecampo+str(x+1) for x in range(numerogiornate)]\n",
    "    renamed = [str(x+1) for x in range(numerogiornate)]\n",
    "\n",
    "    # Evoluzione dei punti nelle giornate  --> Grafico\n",
    "    return dfStats[['Squadra']+colonne].rename(columns = dict(zip(colonne,renamed)))\n",
    "    \n",
    "\n",
    "#dfTimeline = EstraiTimeline(dfStats, numerogiornate, 'Punti')\n",
    "#dfTimeline = EstraiTimeline(dfStats, numerogiornate, 'DifCanTotali')\n",
    "#dfTimeline = EstraiTimeline(dfStats, numerogiornate, 'MediaSubitiTotali')\n",
    "dfTimeline = EstraiTimeline(dfStats, numerogiornate, 'PercVittorieTotali')\n",
    "dfTimeline = dfTimeline.fillna(0.0)  # Non funziona!\n",
    "#dfTimeline = dfTimeline.replace(np.nan, 0)  # Non funziona!\n",
    "dfTimeline"
   ]
  },
  {
   "cell_type": "code",
   "execution_count": 23,
   "metadata": {},
   "outputs": [
    {
     "data": {
      "text/html": [
       "<div>\n",
       "<style scoped>\n",
       "    .dataframe tbody tr th:only-of-type {\n",
       "        vertical-align: middle;\n",
       "    }\n",
       "\n",
       "    .dataframe tbody tr th {\n",
       "        vertical-align: top;\n",
       "    }\n",
       "\n",
       "    .dataframe thead th {\n",
       "        text-align: right;\n",
       "    }\n",
       "</style>\n",
       "<table border=\"1\" class=\"dataframe\">\n",
       "  <thead>\n",
       "    <tr style=\"text-align: right;\">\n",
       "      <th></th>\n",
       "      <th>Squadra</th>\n",
       "      <th>1</th>\n",
       "      <th>2</th>\n",
       "      <th>3</th>\n",
       "      <th>4</th>\n",
       "      <th>5</th>\n",
       "      <th>6</th>\n",
       "      <th>7</th>\n",
       "      <th>8</th>\n",
       "      <th>9</th>\n",
       "      <th>10</th>\n",
       "      <th>11</th>\n",
       "      <th>12</th>\n",
       "    </tr>\n",
       "  </thead>\n",
       "  <tbody>\n",
       "    <tr>\n",
       "      <th>1</th>\n",
       "      <td>LORETO</td>\n",
       "      <td>2.00</td>\n",
       "      <td>4.75</td>\n",
       "      <td>4.75</td>\n",
       "      <td>4.17</td>\n",
       "      <td>5.31</td>\n",
       "      <td>5.25</td>\n",
       "      <td>4.58</td>\n",
       "      <td>5.93</td>\n",
       "      <td>5.81</td>\n",
       "      <td>6.28</td>\n",
       "      <td>6.78</td>\n",
       "      <td>7.34</td>\n",
       "    </tr>\n",
       "    <tr>\n",
       "      <th>2</th>\n",
       "      <td>URBANIA</td>\n",
       "      <td>10.00</td>\n",
       "      <td>10.62</td>\n",
       "      <td>11.42</td>\n",
       "      <td>12.00</td>\n",
       "      <td>12.00</td>\n",
       "      <td>11.67</td>\n",
       "      <td>10.29</td>\n",
       "      <td>11.34</td>\n",
       "      <td>11.34</td>\n",
       "      <td>10.50</td>\n",
       "      <td>10.15</td>\n",
       "      <td>9.80</td>\n",
       "    </tr>\n",
       "    <tr>\n",
       "      <th>3</th>\n",
       "      <td>FOSSOMBRONE</td>\n",
       "      <td>6.25</td>\n",
       "      <td>3.62</td>\n",
       "      <td>8.25</td>\n",
       "      <td>7.19</td>\n",
       "      <td>8.25</td>\n",
       "      <td>8.38</td>\n",
       "      <td>8.25</td>\n",
       "      <td>8.94</td>\n",
       "      <td>9.28</td>\n",
       "      <td>9.35</td>\n",
       "      <td>8.68</td>\n",
       "      <td>9.52</td>\n",
       "    </tr>\n",
       "    <tr>\n",
       "      <th>4</th>\n",
       "      <td>PERUGIA</td>\n",
       "      <td>3.75</td>\n",
       "      <td>5.38</td>\n",
       "      <td>5.67</td>\n",
       "      <td>4.50</td>\n",
       "      <td>7.10</td>\n",
       "      <td>6.58</td>\n",
       "      <td>7.43</td>\n",
       "      <td>7.62</td>\n",
       "      <td>8.58</td>\n",
       "      <td>8.82</td>\n",
       "      <td>8.70</td>\n",
       "      <td>8.81</td>\n",
       "    </tr>\n",
       "    <tr>\n",
       "      <th>5</th>\n",
       "      <td>RECANATI</td>\n",
       "      <td>8.75</td>\n",
       "      <td>6.88</td>\n",
       "      <td>5.00</td>\n",
       "      <td>7.25</td>\n",
       "      <td>6.80</td>\n",
       "      <td>7.33</td>\n",
       "      <td>7.89</td>\n",
       "      <td>8.53</td>\n",
       "      <td>8.42</td>\n",
       "      <td>9.07</td>\n",
       "      <td>8.98</td>\n",
       "      <td>8.44</td>\n",
       "    </tr>\n",
       "    <tr>\n",
       "      <th>6</th>\n",
       "      <td>SAN MARINO</td>\n",
       "      <td>17.50</td>\n",
       "      <td>10.75</td>\n",
       "      <td>9.67</td>\n",
       "      <td>10.06</td>\n",
       "      <td>10.65</td>\n",
       "      <td>11.17</td>\n",
       "      <td>11.29</td>\n",
       "      <td>11.12</td>\n",
       "      <td>10.11</td>\n",
       "      <td>10.97</td>\n",
       "      <td>10.97</td>\n",
       "      <td>10.32</td>\n",
       "    </tr>\n",
       "    <tr>\n",
       "      <th>7</th>\n",
       "      <td>GUALDO</td>\n",
       "      <td>1.25</td>\n",
       "      <td>7.62</td>\n",
       "      <td>6.75</td>\n",
       "      <td>7.56</td>\n",
       "      <td>7.55</td>\n",
       "      <td>9.00</td>\n",
       "      <td>9.29</td>\n",
       "      <td>10.00</td>\n",
       "      <td>9.78</td>\n",
       "      <td>9.05</td>\n",
       "      <td>9.59</td>\n",
       "      <td>9.59</td>\n",
       "    </tr>\n",
       "    <tr>\n",
       "      <th>8</th>\n",
       "      <td>P.S. GIORGIO</td>\n",
       "      <td>0.00</td>\n",
       "      <td>3.00</td>\n",
       "      <td>5.88</td>\n",
       "      <td>5.58</td>\n",
       "      <td>4.50</td>\n",
       "      <td>6.40</td>\n",
       "      <td>6.17</td>\n",
       "      <td>6.71</td>\n",
       "      <td>7.28</td>\n",
       "      <td>7.92</td>\n",
       "      <td>8.50</td>\n",
       "      <td>8.82</td>\n",
       "    </tr>\n",
       "    <tr>\n",
       "      <th>9</th>\n",
       "      <td>OSIMO</td>\n",
       "      <td>11.00</td>\n",
       "      <td>13.00</td>\n",
       "      <td>11.33</td>\n",
       "      <td>9.12</td>\n",
       "      <td>10.30</td>\n",
       "      <td>10.30</td>\n",
       "      <td>9.08</td>\n",
       "      <td>8.64</td>\n",
       "      <td>8.34</td>\n",
       "      <td>7.53</td>\n",
       "      <td>8.53</td>\n",
       "      <td>8.11</td>\n",
       "    </tr>\n",
       "    <tr>\n",
       "      <th>10</th>\n",
       "      <td>TOLENTINO</td>\n",
       "      <td>5.00</td>\n",
       "      <td>10.00</td>\n",
       "      <td>10.00</td>\n",
       "      <td>10.00</td>\n",
       "      <td>9.75</td>\n",
       "      <td>8.55</td>\n",
       "      <td>9.29</td>\n",
       "      <td>9.21</td>\n",
       "      <td>9.44</td>\n",
       "      <td>9.08</td>\n",
       "      <td>9.38</td>\n",
       "      <td>8.64</td>\n",
       "    </tr>\n",
       "    <tr>\n",
       "      <th>11</th>\n",
       "      <td>FALCONARA</td>\n",
       "      <td>13.00</td>\n",
       "      <td>13.38</td>\n",
       "      <td>12.92</td>\n",
       "      <td>12.19</td>\n",
       "      <td>10.15</td>\n",
       "      <td>11.58</td>\n",
       "      <td>11.58</td>\n",
       "      <td>10.46</td>\n",
       "      <td>10.03</td>\n",
       "      <td>9.58</td>\n",
       "      <td>8.75</td>\n",
       "      <td>9.23</td>\n",
       "    </tr>\n",
       "    <tr>\n",
       "      <th>12</th>\n",
       "      <td>ASCOLI</td>\n",
       "      <td>6.00</td>\n",
       "      <td>9.25</td>\n",
       "      <td>9.17</td>\n",
       "      <td>10.94</td>\n",
       "      <td>10.95</td>\n",
       "      <td>11.62</td>\n",
       "      <td>11.11</td>\n",
       "      <td>10.03</td>\n",
       "      <td>10.58</td>\n",
       "      <td>10.58</td>\n",
       "      <td>9.82</td>\n",
       "      <td>9.73</td>\n",
       "    </tr>\n",
       "    <tr>\n",
       "      <th>13</th>\n",
       "      <td>UMBERTIDE</td>\n",
       "      <td>12.00</td>\n",
       "      <td>11.00</td>\n",
       "      <td>8.00</td>\n",
       "      <td>10.69</td>\n",
       "      <td>10.69</td>\n",
       "      <td>9.75</td>\n",
       "      <td>9.58</td>\n",
       "      <td>8.93</td>\n",
       "      <td>7.97</td>\n",
       "      <td>8.64</td>\n",
       "      <td>8.28</td>\n",
       "      <td>8.43</td>\n",
       "    </tr>\n",
       "    <tr>\n",
       "      <th>14</th>\n",
       "      <td>BASKET GIOVANE</td>\n",
       "      <td>18.75</td>\n",
       "      <td>18.75</td>\n",
       "      <td>11.25</td>\n",
       "      <td>9.83</td>\n",
       "      <td>8.94</td>\n",
       "      <td>7.35</td>\n",
       "      <td>9.04</td>\n",
       "      <td>8.32</td>\n",
       "      <td>8.84</td>\n",
       "      <td>8.86</td>\n",
       "      <td>9.60</td>\n",
       "      <td>9.73</td>\n",
       "    </tr>\n",
       "    <tr>\n",
       "      <th>15</th>\n",
       "      <td>SPOLETO</td>\n",
       "      <td>9.00</td>\n",
       "      <td>12.62</td>\n",
       "      <td>12.08</td>\n",
       "      <td>12.81</td>\n",
       "      <td>11.85</td>\n",
       "      <td>10.29</td>\n",
       "      <td>10.96</td>\n",
       "      <td>10.96</td>\n",
       "      <td>9.97</td>\n",
       "      <td>9.83</td>\n",
       "      <td>9.35</td>\n",
       "      <td>9.05</td>\n",
       "    </tr>\n",
       "  </tbody>\n",
       "</table>\n",
       "</div>"
      ],
      "text/plain": [
       "           Squadra     1     2     3     4     5     6     7     8     9  \\\n",
       "1           LORETO  2.00  4.75  4.75  4.17  5.31  5.25  4.58  5.93  5.81   \n",
       "2          URBANIA 10.00 10.62 11.42 12.00 12.00 11.67 10.29 11.34 11.34   \n",
       "3      FOSSOMBRONE  6.25  3.62  8.25  7.19  8.25  8.38  8.25  8.94  9.28   \n",
       "4          PERUGIA  3.75  5.38  5.67  4.50  7.10  6.58  7.43  7.62  8.58   \n",
       "5         RECANATI  8.75  6.88  5.00  7.25  6.80  7.33  7.89  8.53  8.42   \n",
       "6       SAN MARINO 17.50 10.75  9.67 10.06 10.65 11.17 11.29 11.12 10.11   \n",
       "7           GUALDO  1.25  7.62  6.75  7.56  7.55  9.00  9.29 10.00  9.78   \n",
       "8     P.S. GIORGIO  0.00  3.00  5.88  5.58  4.50  6.40  6.17  6.71  7.28   \n",
       "9            OSIMO 11.00 13.00 11.33  9.12 10.30 10.30  9.08  8.64  8.34   \n",
       "10       TOLENTINO  5.00 10.00 10.00 10.00  9.75  8.55  9.29  9.21  9.44   \n",
       "11       FALCONARA 13.00 13.38 12.92 12.19 10.15 11.58 11.58 10.46 10.03   \n",
       "12          ASCOLI  6.00  9.25  9.17 10.94 10.95 11.62 11.11 10.03 10.58   \n",
       "13       UMBERTIDE 12.00 11.00  8.00 10.69 10.69  9.75  9.58  8.93  7.97   \n",
       "14  BASKET GIOVANE 18.75 18.75 11.25  9.83  8.94  7.35  9.04  8.32  8.84   \n",
       "15         SPOLETO  9.00 12.62 12.08 12.81 11.85 10.29 10.96 10.96  9.97   \n",
       "\n",
       "      10    11    12  \n",
       "1   6.28  6.78  7.34  \n",
       "2  10.50 10.15  9.80  \n",
       "3   9.35  8.68  9.52  \n",
       "4   8.82  8.70  8.81  \n",
       "5   9.07  8.98  8.44  \n",
       "6  10.97 10.97 10.32  \n",
       "7   9.05  9.59  9.59  \n",
       "8   7.92  8.50  8.82  \n",
       "9   7.53  8.53  8.11  \n",
       "10  9.08  9.38  8.64  \n",
       "11  9.58  8.75  9.23  \n",
       "12 10.58  9.82  9.73  \n",
       "13  8.64  8.28  8.43  \n",
       "14  8.86  9.60  9.73  \n",
       "15  9.83  9.35  9.05  "
      ]
     },
     "execution_count": 23,
     "metadata": {},
     "output_type": "execute_result"
    }
   ],
   "source": [
    "dfTimeline = EstraiTimeline(dfStats, numerogiornate, 'Difficolta')\n",
    "dfTimeline"
   ]
  },
  {
   "cell_type": "code",
   "execution_count": 24,
   "metadata": {},
   "outputs": [
    {
     "data": {
      "text/plain": [
       "'\\nIdee per i grafici\\n\\ntimeline punti in classifica\\ntimeline punti segnati totali/casa/fuori\\ntimeline punti subiti totali/casa/fuori\\ntimeline percentuale vittorie totali/casa/fuori\\n'"
      ]
     },
     "execution_count": 24,
     "metadata": {},
     "output_type": "execute_result"
    }
   ],
   "source": [
    "'''\n",
    "Idee per i grafici\n",
    "\n",
    "timeline punti in classifica\n",
    "timeline punti segnati totali/casa/fuori\n",
    "timeline punti subiti totali/casa/fuori\n",
    "timeline percentuale vittorie totali/casa/fuori\n",
    "'''"
   ]
  },
  {
   "cell_type": "code",
   "execution_count": 25,
   "metadata": {},
   "outputs": [],
   "source": [
    "import plotly.express as px\n",
    "import plotly.graph_objects as go"
   ]
  },
  {
   "cell_type": "code",
   "execution_count": 26,
   "metadata": {},
   "outputs": [
    {
     "data": {
      "application/vnd.plotly.v1+json": {
       "config": {
        "plotlyServerURL": "https://plot.ly"
       },
       "data": [
        {
         "line": {
          "color": "red"
         },
         "mode": "lines+markers",
         "name": "URBANIA",
         "type": "scatter",
         "x": [
          "1",
          "2",
          "3",
          "4",
          "5",
          "6",
          "7",
          "8",
          "9",
          "10",
          "11",
          "12"
         ],
         "y": [
          10,
          10.625,
          11.416666666666666,
          12,
          12,
          11.666666666666666,
          10.285714285714286,
          11.34375,
          11.34375,
          10.5,
          10.15,
          9.795454545454545
         ]
        },
        {
         "line": {
          "color": "blue"
         },
         "mode": "lines+markers",
         "name": "P.S. GIORGIO",
         "type": "scatter",
         "x": [
          "1",
          "2",
          "3",
          "4",
          "5",
          "6",
          "7",
          "8",
          "9",
          "10",
          "11",
          "12"
         ],
         "y": [
          0,
          3,
          5.875,
          5.583333333333333,
          4.5,
          6.4,
          6.166666666666667,
          6.714285714285714,
          7.28125,
          7.916666666666667,
          8.5,
          8.818181818181818
         ]
        }
       ],
       "layout": {
        "autosize": true,
        "margin": {
         "b": 20,
         "l": 20,
         "r": 20,
         "t": 50
        },
        "template": {
         "data": {
          "bar": [
           {
            "error_x": {
             "color": "#2a3f5f"
            },
            "error_y": {
             "color": "#2a3f5f"
            },
            "marker": {
             "line": {
              "color": "#E5ECF6",
              "width": 0.5
             },
             "pattern": {
              "fillmode": "overlay",
              "size": 10,
              "solidity": 0.2
             }
            },
            "type": "bar"
           }
          ],
          "barpolar": [
           {
            "marker": {
             "line": {
              "color": "#E5ECF6",
              "width": 0.5
             },
             "pattern": {
              "fillmode": "overlay",
              "size": 10,
              "solidity": 0.2
             }
            },
            "type": "barpolar"
           }
          ],
          "carpet": [
           {
            "aaxis": {
             "endlinecolor": "#2a3f5f",
             "gridcolor": "white",
             "linecolor": "white",
             "minorgridcolor": "white",
             "startlinecolor": "#2a3f5f"
            },
            "baxis": {
             "endlinecolor": "#2a3f5f",
             "gridcolor": "white",
             "linecolor": "white",
             "minorgridcolor": "white",
             "startlinecolor": "#2a3f5f"
            },
            "type": "carpet"
           }
          ],
          "choropleth": [
           {
            "colorbar": {
             "outlinewidth": 0,
             "ticks": ""
            },
            "type": "choropleth"
           }
          ],
          "contour": [
           {
            "colorbar": {
             "outlinewidth": 0,
             "ticks": ""
            },
            "colorscale": [
             [
              0,
              "#0d0887"
             ],
             [
              0.1111111111111111,
              "#46039f"
             ],
             [
              0.2222222222222222,
              "#7201a8"
             ],
             [
              0.3333333333333333,
              "#9c179e"
             ],
             [
              0.4444444444444444,
              "#bd3786"
             ],
             [
              0.5555555555555556,
              "#d8576b"
             ],
             [
              0.6666666666666666,
              "#ed7953"
             ],
             [
              0.7777777777777778,
              "#fb9f3a"
             ],
             [
              0.8888888888888888,
              "#fdca26"
             ],
             [
              1,
              "#f0f921"
             ]
            ],
            "type": "contour"
           }
          ],
          "contourcarpet": [
           {
            "colorbar": {
             "outlinewidth": 0,
             "ticks": ""
            },
            "type": "contourcarpet"
           }
          ],
          "heatmap": [
           {
            "colorbar": {
             "outlinewidth": 0,
             "ticks": ""
            },
            "colorscale": [
             [
              0,
              "#0d0887"
             ],
             [
              0.1111111111111111,
              "#46039f"
             ],
             [
              0.2222222222222222,
              "#7201a8"
             ],
             [
              0.3333333333333333,
              "#9c179e"
             ],
             [
              0.4444444444444444,
              "#bd3786"
             ],
             [
              0.5555555555555556,
              "#d8576b"
             ],
             [
              0.6666666666666666,
              "#ed7953"
             ],
             [
              0.7777777777777778,
              "#fb9f3a"
             ],
             [
              0.8888888888888888,
              "#fdca26"
             ],
             [
              1,
              "#f0f921"
             ]
            ],
            "type": "heatmap"
           }
          ],
          "heatmapgl": [
           {
            "colorbar": {
             "outlinewidth": 0,
             "ticks": ""
            },
            "colorscale": [
             [
              0,
              "#0d0887"
             ],
             [
              0.1111111111111111,
              "#46039f"
             ],
             [
              0.2222222222222222,
              "#7201a8"
             ],
             [
              0.3333333333333333,
              "#9c179e"
             ],
             [
              0.4444444444444444,
              "#bd3786"
             ],
             [
              0.5555555555555556,
              "#d8576b"
             ],
             [
              0.6666666666666666,
              "#ed7953"
             ],
             [
              0.7777777777777778,
              "#fb9f3a"
             ],
             [
              0.8888888888888888,
              "#fdca26"
             ],
             [
              1,
              "#f0f921"
             ]
            ],
            "type": "heatmapgl"
           }
          ],
          "histogram": [
           {
            "marker": {
             "pattern": {
              "fillmode": "overlay",
              "size": 10,
              "solidity": 0.2
             }
            },
            "type": "histogram"
           }
          ],
          "histogram2d": [
           {
            "colorbar": {
             "outlinewidth": 0,
             "ticks": ""
            },
            "colorscale": [
             [
              0,
              "#0d0887"
             ],
             [
              0.1111111111111111,
              "#46039f"
             ],
             [
              0.2222222222222222,
              "#7201a8"
             ],
             [
              0.3333333333333333,
              "#9c179e"
             ],
             [
              0.4444444444444444,
              "#bd3786"
             ],
             [
              0.5555555555555556,
              "#d8576b"
             ],
             [
              0.6666666666666666,
              "#ed7953"
             ],
             [
              0.7777777777777778,
              "#fb9f3a"
             ],
             [
              0.8888888888888888,
              "#fdca26"
             ],
             [
              1,
              "#f0f921"
             ]
            ],
            "type": "histogram2d"
           }
          ],
          "histogram2dcontour": [
           {
            "colorbar": {
             "outlinewidth": 0,
             "ticks": ""
            },
            "colorscale": [
             [
              0,
              "#0d0887"
             ],
             [
              0.1111111111111111,
              "#46039f"
             ],
             [
              0.2222222222222222,
              "#7201a8"
             ],
             [
              0.3333333333333333,
              "#9c179e"
             ],
             [
              0.4444444444444444,
              "#bd3786"
             ],
             [
              0.5555555555555556,
              "#d8576b"
             ],
             [
              0.6666666666666666,
              "#ed7953"
             ],
             [
              0.7777777777777778,
              "#fb9f3a"
             ],
             [
              0.8888888888888888,
              "#fdca26"
             ],
             [
              1,
              "#f0f921"
             ]
            ],
            "type": "histogram2dcontour"
           }
          ],
          "mesh3d": [
           {
            "colorbar": {
             "outlinewidth": 0,
             "ticks": ""
            },
            "type": "mesh3d"
           }
          ],
          "parcoords": [
           {
            "line": {
             "colorbar": {
              "outlinewidth": 0,
              "ticks": ""
             }
            },
            "type": "parcoords"
           }
          ],
          "pie": [
           {
            "automargin": true,
            "type": "pie"
           }
          ],
          "scatter": [
           {
            "fillpattern": {
             "fillmode": "overlay",
             "size": 10,
             "solidity": 0.2
            },
            "type": "scatter"
           }
          ],
          "scatter3d": [
           {
            "line": {
             "colorbar": {
              "outlinewidth": 0,
              "ticks": ""
             }
            },
            "marker": {
             "colorbar": {
              "outlinewidth": 0,
              "ticks": ""
             }
            },
            "type": "scatter3d"
           }
          ],
          "scattercarpet": [
           {
            "marker": {
             "colorbar": {
              "outlinewidth": 0,
              "ticks": ""
             }
            },
            "type": "scattercarpet"
           }
          ],
          "scattergeo": [
           {
            "marker": {
             "colorbar": {
              "outlinewidth": 0,
              "ticks": ""
             }
            },
            "type": "scattergeo"
           }
          ],
          "scattergl": [
           {
            "marker": {
             "colorbar": {
              "outlinewidth": 0,
              "ticks": ""
             }
            },
            "type": "scattergl"
           }
          ],
          "scattermapbox": [
           {
            "marker": {
             "colorbar": {
              "outlinewidth": 0,
              "ticks": ""
             }
            },
            "type": "scattermapbox"
           }
          ],
          "scatterpolar": [
           {
            "marker": {
             "colorbar": {
              "outlinewidth": 0,
              "ticks": ""
             }
            },
            "type": "scatterpolar"
           }
          ],
          "scatterpolargl": [
           {
            "marker": {
             "colorbar": {
              "outlinewidth": 0,
              "ticks": ""
             }
            },
            "type": "scatterpolargl"
           }
          ],
          "scatterternary": [
           {
            "marker": {
             "colorbar": {
              "outlinewidth": 0,
              "ticks": ""
             }
            },
            "type": "scatterternary"
           }
          ],
          "surface": [
           {
            "colorbar": {
             "outlinewidth": 0,
             "ticks": ""
            },
            "colorscale": [
             [
              0,
              "#0d0887"
             ],
             [
              0.1111111111111111,
              "#46039f"
             ],
             [
              0.2222222222222222,
              "#7201a8"
             ],
             [
              0.3333333333333333,
              "#9c179e"
             ],
             [
              0.4444444444444444,
              "#bd3786"
             ],
             [
              0.5555555555555556,
              "#d8576b"
             ],
             [
              0.6666666666666666,
              "#ed7953"
             ],
             [
              0.7777777777777778,
              "#fb9f3a"
             ],
             [
              0.8888888888888888,
              "#fdca26"
             ],
             [
              1,
              "#f0f921"
             ]
            ],
            "type": "surface"
           }
          ],
          "table": [
           {
            "cells": {
             "fill": {
              "color": "#EBF0F8"
             },
             "line": {
              "color": "white"
             }
            },
            "header": {
             "fill": {
              "color": "#C8D4E3"
             },
             "line": {
              "color": "white"
             }
            },
            "type": "table"
           }
          ]
         },
         "layout": {
          "annotationdefaults": {
           "arrowcolor": "#2a3f5f",
           "arrowhead": 0,
           "arrowwidth": 1
          },
          "autotypenumbers": "strict",
          "coloraxis": {
           "colorbar": {
            "outlinewidth": 0,
            "ticks": ""
           }
          },
          "colorscale": {
           "diverging": [
            [
             0,
             "#8e0152"
            ],
            [
             0.1,
             "#c51b7d"
            ],
            [
             0.2,
             "#de77ae"
            ],
            [
             0.3,
             "#f1b6da"
            ],
            [
             0.4,
             "#fde0ef"
            ],
            [
             0.5,
             "#f7f7f7"
            ],
            [
             0.6,
             "#e6f5d0"
            ],
            [
             0.7,
             "#b8e186"
            ],
            [
             0.8,
             "#7fbc41"
            ],
            [
             0.9,
             "#4d9221"
            ],
            [
             1,
             "#276419"
            ]
           ],
           "sequential": [
            [
             0,
             "#0d0887"
            ],
            [
             0.1111111111111111,
             "#46039f"
            ],
            [
             0.2222222222222222,
             "#7201a8"
            ],
            [
             0.3333333333333333,
             "#9c179e"
            ],
            [
             0.4444444444444444,
             "#bd3786"
            ],
            [
             0.5555555555555556,
             "#d8576b"
            ],
            [
             0.6666666666666666,
             "#ed7953"
            ],
            [
             0.7777777777777778,
             "#fb9f3a"
            ],
            [
             0.8888888888888888,
             "#fdca26"
            ],
            [
             1,
             "#f0f921"
            ]
           ],
           "sequentialminus": [
            [
             0,
             "#0d0887"
            ],
            [
             0.1111111111111111,
             "#46039f"
            ],
            [
             0.2222222222222222,
             "#7201a8"
            ],
            [
             0.3333333333333333,
             "#9c179e"
            ],
            [
             0.4444444444444444,
             "#bd3786"
            ],
            [
             0.5555555555555556,
             "#d8576b"
            ],
            [
             0.6666666666666666,
             "#ed7953"
            ],
            [
             0.7777777777777778,
             "#fb9f3a"
            ],
            [
             0.8888888888888888,
             "#fdca26"
            ],
            [
             1,
             "#f0f921"
            ]
           ]
          },
          "colorway": [
           "#636efa",
           "#EF553B",
           "#00cc96",
           "#ab63fa",
           "#FFA15A",
           "#19d3f3",
           "#FF6692",
           "#B6E880",
           "#FF97FF",
           "#FECB52"
          ],
          "font": {
           "color": "#2a3f5f"
          },
          "geo": {
           "bgcolor": "white",
           "lakecolor": "white",
           "landcolor": "#E5ECF6",
           "showlakes": true,
           "showland": true,
           "subunitcolor": "white"
          },
          "hoverlabel": {
           "align": "left"
          },
          "hovermode": "closest",
          "mapbox": {
           "style": "light"
          },
          "paper_bgcolor": "white",
          "plot_bgcolor": "#E5ECF6",
          "polar": {
           "angularaxis": {
            "gridcolor": "white",
            "linecolor": "white",
            "ticks": ""
           },
           "bgcolor": "#E5ECF6",
           "radialaxis": {
            "gridcolor": "white",
            "linecolor": "white",
            "ticks": ""
           }
          },
          "scene": {
           "xaxis": {
            "backgroundcolor": "#E5ECF6",
            "gridcolor": "white",
            "gridwidth": 2,
            "linecolor": "white",
            "showbackground": true,
            "ticks": "",
            "zerolinecolor": "white"
           },
           "yaxis": {
            "backgroundcolor": "#E5ECF6",
            "gridcolor": "white",
            "gridwidth": 2,
            "linecolor": "white",
            "showbackground": true,
            "ticks": "",
            "zerolinecolor": "white"
           },
           "zaxis": {
            "backgroundcolor": "#E5ECF6",
            "gridcolor": "white",
            "gridwidth": 2,
            "linecolor": "white",
            "showbackground": true,
            "ticks": "",
            "zerolinecolor": "white"
           }
          },
          "shapedefaults": {
           "line": {
            "color": "#2a3f5f"
           }
          },
          "ternary": {
           "aaxis": {
            "gridcolor": "white",
            "linecolor": "white",
            "ticks": ""
           },
           "baxis": {
            "gridcolor": "white",
            "linecolor": "white",
            "ticks": ""
           },
           "bgcolor": "#E5ECF6",
           "caxis": {
            "gridcolor": "white",
            "linecolor": "white",
            "ticks": ""
           }
          },
          "title": {
           "x": 0.05
          },
          "xaxis": {
           "automargin": true,
           "gridcolor": "white",
           "linecolor": "white",
           "ticks": "",
           "title": {
            "standoff": 15
           },
           "zerolinecolor": "white",
           "zerolinewidth": 2
          },
          "yaxis": {
           "automargin": true,
           "gridcolor": "white",
           "linecolor": "white",
           "ticks": "",
           "title": {
            "standoff": 15
           },
           "zerolinecolor": "white",
           "zerolinewidth": 2
          }
         }
        },
        "title": {
         "text": "Timeline della percentuale di vittorie",
         "x": 0.5,
         "xanchor": "center",
         "y": 0.95,
         "yanchor": "top"
        },
        "xaxis": {
         "autorange": true,
         "range": [
          -0.6562715538476697,
          11.65627155384767
         ],
         "title": {
          "text": "Giornate"
         },
         "type": "category"
        },
        "yaxis": {
         "autorange": true,
         "range": [
          -0.8900804289544235,
          12.890080428954423
         ],
         "type": "linear"
        }
       }
      },
      "image/png": "[encoded data removed]",
      "text/html": [
       "<div>                            <div id=\"c7b3dd02-c7df-483b-84e3-e3806c8632a3\" class=\"plotly-graph-div\" style=\"height:300px; width:100%;\"></div>            <script type=\"text/javascript\">                require([\"plotly\"], function(Plotly) {                    window.PLOTLYENV=window.PLOTLYENV || {};                                    if (document.getElementById(\"c7b3dd02-c7df-483b-84e3-e3806c8632a3\")) {                    Plotly.newPlot(                        \"c7b3dd02-c7df-483b-84e3-e3806c8632a3\",                        [{\"line\":{\"color\":\"red\"},\"mode\":\"lines+markers\",\"name\":\"URBANIA\",\"x\":[\"1\",\"2\",\"3\",\"4\",\"5\",\"6\",\"7\",\"8\",\"9\",\"10\",\"11\",\"12\"],\"y\":[10.0,10.625,11.416666666666666,12.0,12.0,11.666666666666666,10.285714285714286,11.34375,11.34375,10.5,10.15,9.795454545454545],\"type\":\"scatter\"},{\"line\":{\"color\":\"blue\"},\"mode\":\"lines+markers\",\"name\":\"P.S. GIORGIO\",\"x\":[\"1\",\"2\",\"3\",\"4\",\"5\",\"6\",\"7\",\"8\",\"9\",\"10\",\"11\",\"12\"],\"y\":[0.0,3.0,5.875,5.583333333333333,4.5,6.4,6.166666666666667,6.714285714285714,7.28125,7.916666666666667,8.5,8.818181818181818],\"type\":\"scatter\"}],                        {\"template\":{\"data\":{\"histogram2dcontour\":[{\"type\":\"histogram2dcontour\",\"colorbar\":{\"outlinewidth\":0,\"ticks\":\"\"},\"colorscale\":[[0.0,\"#0d0887\"],[0.1111111111111111,\"#46039f\"],[0.2222222222222222,\"#7201a8\"],[0.3333333333333333,\"#9c179e\"],[0.4444444444444444,\"#bd3786\"],[0.5555555555555556,\"#d8576b\"],[0.6666666666666666,\"#ed7953\"],[0.7777777777777778,\"#fb9f3a\"],[0.8888888888888888,\"#fdca26\"],[1.0,\"#f0f921\"]]}],\"choropleth\":[{\"type\":\"choropleth\",\"colorbar\":{\"outlinewidth\":0,\"ticks\":\"\"}}],\"histogram2d\":[{\"type\":\"histogram2d\",\"colorbar\":{\"outlinewidth\":0,\"ticks\":\"\"},\"colorscale\":[[0.0,\"#0d0887\"],[0.1111111111111111,\"#46039f\"],[0.2222222222222222,\"#7201a8\"],[0.3333333333333333,\"#9c179e\"],[0.4444444444444444,\"#bd3786\"],[0.5555555555555556,\"#d8576b\"],[0.6666666666666666,\"#ed7953\"],[0.7777777777777778,\"#fb9f3a\"],[0.8888888888888888,\"#fdca26\"],[1.0,\"#f0f921\"]]}],\"heatmap\":[{\"type\":\"heatmap\",\"colorbar\":{\"outlinewidth\":0,\"ticks\":\"\"},\"colorscale\":[[0.0,\"#0d0887\"],[0.1111111111111111,\"#46039f\"],[0.2222222222222222,\"#7201a8\"],[0.3333333333333333,\"#9c179e\"],[0.4444444444444444,\"#bd3786\"],[0.5555555555555556,\"#d8576b\"],[0.6666666666666666,\"#ed7953\"],[0.7777777777777778,\"#fb9f3a\"],[0.8888888888888888,\"#fdca26\"],[1.0,\"#f0f921\"]]}],\"heatmapgl\":[{\"type\":\"heatmapgl\",\"colorbar\":{\"outlinewidth\":0,\"ticks\":\"\"},\"colorscale\":[[0.0,\"#0d0887\"],[0.1111111111111111,\"#46039f\"],[0.2222222222222222,\"#7201a8\"],[0.3333333333333333,\"#9c179e\"],[0.4444444444444444,\"#bd3786\"],[0.5555555555555556,\"#d8576b\"],[0.6666666666666666,\"#ed7953\"],[0.7777777777777778,\"#fb9f3a\"],[0.8888888888888888,\"#fdca26\"],[1.0,\"#f0f921\"]]}],\"contourcarpet\":[{\"type\":\"contourcarpet\",\"colorbar\":{\"outlinewidth\":0,\"ticks\":\"\"}}],\"contour\":[{\"type\":\"contour\",\"colorbar\":{\"outlinewidth\":0,\"ticks\":\"\"},\"colorscale\":[[0.0,\"#0d0887\"],[0.1111111111111111,\"#46039f\"],[0.2222222222222222,\"#7201a8\"],[0.3333333333333333,\"#9c179e\"],[0.4444444444444444,\"#bd3786\"],[0.5555555555555556,\"#d8576b\"],[0.6666666666666666,\"#ed7953\"],[0.7777777777777778,\"#fb9f3a\"],[0.8888888888888888,\"#fdca26\"],[1.0,\"#f0f921\"]]}],\"surface\":[{\"type\":\"surface\",\"colorbar\":{\"outlinewidth\":0,\"ticks\":\"\"},\"colorscale\":[[0.0,\"#0d0887\"],[0.1111111111111111,\"#46039f\"],[0.2222222222222222,\"#7201a8\"],[0.3333333333333333,\"#9c179e\"],[0.4444444444444444,\"#bd3786\"],[0.5555555555555556,\"#d8576b\"],[0.6666666666666666,\"#ed7953\"],[0.7777777777777778,\"#fb9f3a\"],[0.8888888888888888,\"#fdca26\"],[1.0,\"#f0f921\"]]}],\"mesh3d\":[{\"type\":\"mesh3d\",\"colorbar\":{\"outlinewidth\":0,\"ticks\":\"\"}}],\"scatter\":[{\"fillpattern\":{\"fillmode\":\"overlay\",\"size\":10,\"solidity\":0.2},\"type\":\"scatter\"}],\"parcoords\":[{\"type\":\"parcoords\",\"line\":{\"colorbar\":{\"outlinewidth\":0,\"ticks\":\"\"}}}],\"scatterpolargl\":[{\"type\":\"scatterpolargl\",\"marker\":{\"colorbar\":{\"outlinewidth\":0,\"ticks\":\"\"}}}],\"bar\":[{\"error_x\":{\"color\":\"#2a3f5f\"},\"error_y\":{\"color\":\"#2a3f5f\"},\"marker\":{\"line\":{\"color\":\"#E5ECF6\",\"width\":0.5},\"pattern\":{\"fillmode\":\"overlay\",\"size\":10,\"solidity\":0.2}},\"type\":\"bar\"}],\"scattergeo\":[{\"type\":\"scattergeo\",\"marker\":{\"colorbar\":{\"outlinewidth\":0,\"ticks\":\"\"}}}],\"scatterpolar\":[{\"type\":\"scatterpolar\",\"marker\":{\"colorbar\":{\"outlinewidth\":0,\"ticks\":\"\"}}}],\"histogram\":[{\"marker\":{\"pattern\":{\"fillmode\":\"overlay\",\"size\":10,\"solidity\":0.2}},\"type\":\"histogram\"}],\"scattergl\":[{\"type\":\"scattergl\",\"marker\":{\"colorbar\":{\"outlinewidth\":0,\"ticks\":\"\"}}}],\"scatter3d\":[{\"type\":\"scatter3d\",\"line\":{\"colorbar\":{\"outlinewidth\":0,\"ticks\":\"\"}},\"marker\":{\"colorbar\":{\"outlinewidth\":0,\"ticks\":\"\"}}}],\"scattermapbox\":[{\"type\":\"scattermapbox\",\"marker\":{\"colorbar\":{\"outlinewidth\":0,\"ticks\":\"\"}}}],\"scatterternary\":[{\"type\":\"scatterternary\",\"marker\":{\"colorbar\":{\"outlinewidth\":0,\"ticks\":\"\"}}}],\"scattercarpet\":[{\"type\":\"scattercarpet\",\"marker\":{\"colorbar\":{\"outlinewidth\":0,\"ticks\":\"\"}}}],\"carpet\":[{\"aaxis\":{\"endlinecolor\":\"#2a3f5f\",\"gridcolor\":\"white\",\"linecolor\":\"white\",\"minorgridcolor\":\"white\",\"startlinecolor\":\"#2a3f5f\"},\"baxis\":{\"endlinecolor\":\"#2a3f5f\",\"gridcolor\":\"white\",\"linecolor\":\"white\",\"minorgridcolor\":\"white\",\"startlinecolor\":\"#2a3f5f\"},\"type\":\"carpet\"}],\"table\":[{\"cells\":{\"fill\":{\"color\":\"#EBF0F8\"},\"line\":{\"color\":\"white\"}},\"header\":{\"fill\":{\"color\":\"#C8D4E3\"},\"line\":{\"color\":\"white\"}},\"type\":\"table\"}],\"barpolar\":[{\"marker\":{\"line\":{\"color\":\"#E5ECF6\",\"width\":0.5},\"pattern\":{\"fillmode\":\"overlay\",\"size\":10,\"solidity\":0.2}},\"type\":\"barpolar\"}],\"pie\":[{\"automargin\":true,\"type\":\"pie\"}]},\"layout\":{\"autotypenumbers\":\"strict\",\"colorway\":[\"#636efa\",\"#EF553B\",\"#00cc96\",\"#ab63fa\",\"#FFA15A\",\"#19d3f3\",\"#FF6692\",\"#B6E880\",\"#FF97FF\",\"#FECB52\"],\"font\":{\"color\":\"#2a3f5f\"},\"hovermode\":\"closest\",\"hoverlabel\":{\"align\":\"left\"},\"paper_bgcolor\":\"white\",\"plot_bgcolor\":\"#E5ECF6\",\"polar\":{\"bgcolor\":\"#E5ECF6\",\"angularaxis\":{\"gridcolor\":\"white\",\"linecolor\":\"white\",\"ticks\":\"\"},\"radialaxis\":{\"gridcolor\":\"white\",\"linecolor\":\"white\",\"ticks\":\"\"}},\"ternary\":{\"bgcolor\":\"#E5ECF6\",\"aaxis\":{\"gridcolor\":\"white\",\"linecolor\":\"white\",\"ticks\":\"\"},\"baxis\":{\"gridcolor\":\"white\",\"linecolor\":\"white\",\"ticks\":\"\"},\"caxis\":{\"gridcolor\":\"white\",\"linecolor\":\"white\",\"ticks\":\"\"}},\"coloraxis\":{\"colorbar\":{\"outlinewidth\":0,\"ticks\":\"\"}},\"colorscale\":{\"sequential\":[[0.0,\"#0d0887\"],[0.1111111111111111,\"#46039f\"],[0.2222222222222222,\"#7201a8\"],[0.3333333333333333,\"#9c179e\"],[0.4444444444444444,\"#bd3786\"],[0.5555555555555556,\"#d8576b\"],[0.6666666666666666,\"#ed7953\"],[0.7777777777777778,\"#fb9f3a\"],[0.8888888888888888,\"#fdca26\"],[1.0,\"#f0f921\"]],\"sequentialminus\":[[0.0,\"#0d0887\"],[0.1111111111111111,\"#46039f\"],[0.2222222222222222,\"#7201a8\"],[0.3333333333333333,\"#9c179e\"],[0.4444444444444444,\"#bd3786\"],[0.5555555555555556,\"#d8576b\"],[0.6666666666666666,\"#ed7953\"],[0.7777777777777778,\"#fb9f3a\"],[0.8888888888888888,\"#fdca26\"],[1.0,\"#f0f921\"]],\"diverging\":[[0,\"#8e0152\"],[0.1,\"#c51b7d\"],[0.2,\"#de77ae\"],[0.3,\"#f1b6da\"],[0.4,\"#fde0ef\"],[0.5,\"#f7f7f7\"],[0.6,\"#e6f5d0\"],[0.7,\"#b8e186\"],[0.8,\"#7fbc41\"],[0.9,\"#4d9221\"],[1,\"#276419\"]]},\"xaxis\":{\"gridcolor\":\"white\",\"linecolor\":\"white\",\"ticks\":\"\",\"title\":{\"standoff\":15},\"zerolinecolor\":\"white\",\"automargin\":true,\"zerolinewidth\":2},\"yaxis\":{\"gridcolor\":\"white\",\"linecolor\":\"white\",\"ticks\":\"\",\"title\":{\"standoff\":15},\"zerolinecolor\":\"white\",\"automargin\":true,\"zerolinewidth\":2},\"scene\":{\"xaxis\":{\"backgroundcolor\":\"#E5ECF6\",\"gridcolor\":\"white\",\"linecolor\":\"white\",\"showbackground\":true,\"ticks\":\"\",\"zerolinecolor\":\"white\",\"gridwidth\":2},\"yaxis\":{\"backgroundcolor\":\"#E5ECF6\",\"gridcolor\":\"white\",\"linecolor\":\"white\",\"showbackground\":true,\"ticks\":\"\",\"zerolinecolor\":\"white\",\"gridwidth\":2},\"zaxis\":{\"backgroundcolor\":\"#E5ECF6\",\"gridcolor\":\"white\",\"linecolor\":\"white\",\"showbackground\":true,\"ticks\":\"\",\"zerolinecolor\":\"white\",\"gridwidth\":2}},\"shapedefaults\":{\"line\":{\"color\":\"#2a3f5f\"}},\"annotationdefaults\":{\"arrowcolor\":\"#2a3f5f\",\"arrowhead\":0,\"arrowwidth\":1},\"geo\":{\"bgcolor\":\"white\",\"landcolor\":\"#E5ECF6\",\"subunitcolor\":\"white\",\"showland\":true,\"showlakes\":true,\"lakecolor\":\"white\"},\"title\":{\"x\":0.05},\"mapbox\":{\"style\":\"light\"}}},\"margin\":{\"l\":20,\"r\":20,\"t\":50,\"b\":20},\"title\":{\"text\":\"Timeline della percentuale di vittorie\",\"y\":0.95,\"x\":0.5,\"xanchor\":\"center\",\"yanchor\":\"top\"},\"height\":300,\"xaxis\":{\"title\":{\"text\":\"Giornate\"}}},                        {\"responsive\": true}                    ).then(function(){\n",
       "                            \n",
       "var gd = document.getElementById('c7b3dd02-c7df-483b-84e3-e3806c8632a3');\n",
       "var x = new MutationObserver(function (mutations, observer) {{\n",
       "        var display = window.getComputedStyle(gd).display;\n",
       "        if (!display || display === 'none') {{\n",
       "            console.log([gd, 'removed!']);\n",
       "            Plotly.purge(gd);\n",
       "            observer.disconnect();\n",
       "        }}\n",
       "}});\n",
       "\n",
       "// Listen for the removal of the full notebook cells\n",
       "var notebookContainer = gd.closest('#notebook-container');\n",
       "if (notebookContainer) {{\n",
       "    x.observe(notebookContainer, {childList: true});\n",
       "}}\n",
       "\n",
       "// Listen for the clearing of the current output cell\n",
       "var outputEl = gd.closest('.output');\n",
       "if (outputEl) {{\n",
       "    x.observe(outputEl, {childList: true});\n",
       "}}\n",
       "\n",
       "                        })                };                });            </script>        </div>"
      ]
     },
     "metadata": {},
     "output_type": "display_data"
    }
   ],
   "source": [
    "# Aggiunge un line chart per una squadra\n",
    "def addTrace(fig, dfTimeline, squadra, color='red'):\n",
    "    df = dfTimeline[dfTimeline['Squadra']==squadra]\n",
    "    df.set_index('Squadra')\n",
    "    fig.add_traces(go.Scatter(x=df.columns[1:],\n",
    "                              y=df.values.flatten().tolist()[1:], \n",
    "                              mode='lines+markers',\n",
    "                              line=dict(color=color),\n",
    "                              name=squadra))\n",
    "\n",
    "# Crea un chart con una o più squadre\n",
    "fig = go.Figure()\n",
    "addTrace(fig,dfTimeline, 'URBANIA',      'red')\n",
    "addTrace(fig,dfTimeline, 'P.S. GIORGIO', 'blue')\n",
    "fig.update_layout(margin=dict(l=20, r=20, t=50, b=20),\n",
    "                  height=300,\n",
    "                  title={'text': \"Timeline della percentuale di vittorie\", 'y':0.95, 'x':0.5, 'xanchor': 'center', 'yanchor': 'top'},\n",
    "                  xaxis_title=\"Giornate\",)\n",
    "fig.show()"
   ]
  },
  {
   "cell_type": "code",
   "execution_count": 27,
   "metadata": {},
   "outputs": [
    {
     "data": {
      "text/plain": [
       "15"
      ]
     },
     "execution_count": 27,
     "metadata": {},
     "output_type": "execute_result"
    }
   ],
   "source": [
    "len(squadre)"
   ]
  },
  {
   "cell_type": "code",
   "execution_count": 28,
   "metadata": {},
   "outputs": [
    {
     "data": {
      "text/html": [
       "<table><tr><th style=\"text-align: left; padding-top: 3px; padding-bottom: 3px; padding-left: 1px; padding-right: 1px;\" colspan=\"3\"><font size=\"3\" face=\"arial\" color=\"black\">Giornata</font></th><th style=\"text-align: left; padding-top: 3px; padding-bottom: 3px; padding-left: 1px; padding-right: 1px;\" width=\"300px;\" colspan=\"4\"><font size=\"3\" face=\"arial\" color=\"black\">LORETO</font></th><th style=\"text-align: left; padding-top: 3px; padding-bottom: 3px; padding-left: 1px; padding-right: 1px;\" width=\"90px;\" colspan=\"4\"><font size=\"3\" face=\"arial\" color=\"black\">Risultato</font></th><th style=\"text-align: left; padding-top: 3px; padding-bottom: 3px; padding-left: 1px; padding-right: 1px;\" colspan=\"3\"><font size=\"3\" face=\"arial\" color=\"black\">Scarto</font></th><th style=\"text-align: right; padding-top: 3px; padding-bottom: 3px; padding-left: 1px; padding-right: 1px;\" colspan=\"3\"><font size=\"3\" face=\"arial\" color=\"black\">Difficoltà   80.75</font></th></tr><tr><td style=\"text-align: left; padding-top: 3px; padding-bottom: 3px; padding-left: 1px; padding-right: 1px;\"><font size=\"3\" face=\"arial\" color=\"black\">1.a</font></td><td style=\"text-align: left; padding-top: 3px; padding-bottom: 3px; padding-left: 20px; padding-right: 20px;\"></td><td style=\"text-align: left; padding-top: 3px; padding-bottom: 3px; padding-left: 20px; padding-right: 20px;\"></td><td style=\"text-align: left; padding-top: 3px; padding-bottom: 3px; padding-left: 1px; padding-right: 1px;\"><font size=\"3\" face=\"arial\" color=\"green\">LORETO</font></td><td style=\"text-align: left; padding-top: 3px; padding-bottom: 3px; padding-left: 1px; padding-right: 1px;\"><font size=\"3\" face=\"arial\" color=\"black\">-</font></td><td style=\"text-align: left; padding-top: 3px; padding-bottom: 3px; padding-left: 1px; padding-right: 1px;\"><font size=\"3\" face=\"arial\" color=\"green\">BASKET GIOVANE</font></td><td style=\"text-align: left; padding-top: 3px; padding-bottom: 3px; padding-left: 20px; padding-right: 20px;\"></td><td style=\"text-align: left; padding-top: 3px; padding-bottom: 3px; padding-left: 1px; padding-right: 1px;\"><font size=\"3\" face=\"arial\" color=\"black\">105</font></td><td style=\"text-align: left; padding-top: 3px; padding-bottom: 3px; padding-left: 1px; padding-right: 1px;\"><font size=\"3\" face=\"arial\" color=\"black\">-</font></td><td style=\"text-align: left; padding-top: 3px; padding-bottom: 3px; padding-left: 1px; padding-right: 1px;\"><font size=\"3\" face=\"arial\" color=\"black\">45</font></td><td style=\"text-align: left; padding-top: 3px; padding-bottom: 3px; padding-left: 20px; padding-right: 20px;\"></td><td style=\"text-align: left; padding-top: 3px; padding-bottom: 3px; padding-left: 1px; padding-right: 1px;\">+</td><td style=\"text-align: left; padding-top: 3px; padding-bottom: 3px; padding-left: 1px; padding-right: 1px;\"><font size=\"3\" face=\"arial\" color=\"black\">60</font></td><td style=\"text-align: left; padding-top: 3px; padding-bottom: 3px; padding-left: 20px; padding-right: 20px;\"></td><td style=\"text-align: left; padding-top: 3px; padding-bottom: 3px; padding-left: 20px; padding-right: 20px;\"></td><td style=\"text-align: right; padding-top: 3px; padding-bottom: 3px; padding-left: 1px; padding-right: 1px;\"><font size=\"3\" face=\"arial\" color=\"black\">2.00</font></td><td style=\"text-align: left; padding-top: 3px; padding-bottom: 3px; padding-left: 20px; padding-right: 20px;\"></td></tr><tr><td style=\"text-align: left; padding-top: 3px; padding-bottom: 3px; padding-left: 1px; padding-right: 1px;\"><font size=\"3\" face=\"arial\" color=\"black\">2.a</font></td><td style=\"text-align: left; padding-top: 3px; padding-bottom: 3px; padding-left: 20px; padding-right: 20px;\"></td><td style=\"text-align: left; padding-top: 3px; padding-bottom: 3px; padding-left: 20px; padding-right: 20px;\"></td><td style=\"text-align: left; padding-top: 3px; padding-bottom: 3px; padding-left: 1px; padding-right: 1px;\"><font size=\"3\" face=\"arial\" color=\"green\">TOLENTINO</font></td><td style=\"text-align: left; padding-top: 3px; padding-bottom: 3px; padding-left: 1px; padding-right: 1px;\"><font size=\"3\" face=\"arial\" color=\"black\">-</font></td><td style=\"text-align: left; padding-top: 3px; padding-bottom: 3px; padding-left: 1px; padding-right: 1px;\"><font size=\"3\" face=\"arial\" color=\"green\">LORETO</font></td><td style=\"text-align: left; padding-top: 3px; padding-bottom: 3px; padding-left: 20px; padding-right: 20px;\"></td><td style=\"text-align: left; padding-top: 3px; padding-bottom: 3px; padding-left: 1px; padding-right: 1px;\"><font size=\"3\" face=\"arial\" color=\"black\">53</font></td><td style=\"text-align: left; padding-top: 3px; padding-bottom: 3px; padding-left: 1px; padding-right: 1px;\"><font size=\"3\" face=\"arial\" color=\"black\">-</font></td><td style=\"text-align: left; padding-top: 3px; padding-bottom: 3px; padding-left: 1px; padding-right: 1px;\"><font size=\"3\" face=\"arial\" color=\"black\">68</font></td><td style=\"text-align: left; padding-top: 3px; padding-bottom: 3px; padding-left: 20px; padding-right: 20px;\"></td><td style=\"text-align: left; padding-top: 3px; padding-bottom: 3px; padding-left: 1px; padding-right: 1px;\">+</td><td style=\"text-align: left; padding-top: 3px; padding-bottom: 3px; padding-left: 1px; padding-right: 1px;\"><font size=\"3\" face=\"arial\" color=\"black\">15</font></td><td style=\"text-align: left; padding-top: 3px; padding-bottom: 3px; padding-left: 20px; padding-right: 20px;\"></td><td style=\"text-align: left; padding-top: 3px; padding-bottom: 3px; padding-left: 20px; padding-right: 20px;\"></td><td style=\"text-align: right; padding-top: 3px; padding-bottom: 3px; padding-left: 1px; padding-right: 1px;\"><font size=\"3\" face=\"arial\" color=\"black\">7.50</font></td><td style=\"text-align: left; padding-top: 3px; padding-bottom: 3px; padding-left: 20px; padding-right: 20px;\"></td></tr><tr><td style=\"text-align: left; padding-top: 3px; padding-bottom: 3px; padding-left: 1px; padding-right: 1px;\"><font size=\"3\" face=\"arial\" color=\"black\">4.a</font></td><td style=\"text-align: left; padding-top: 3px; padding-bottom: 3px; padding-left: 20px; padding-right: 20px;\"></td><td style=\"text-align: left; padding-top: 3px; padding-bottom: 3px; padding-left: 20px; padding-right: 20px;\"></td><td style=\"text-align: left; padding-top: 3px; padding-bottom: 3px; padding-left: 1px; padding-right: 1px;\"><font size=\"3\" face=\"arial\" color=\"green\">LORETO</font></td><td style=\"text-align: left; padding-top: 3px; padding-bottom: 3px; padding-left: 1px; padding-right: 1px;\"><font size=\"3\" face=\"arial\" color=\"black\">-</font></td><td style=\"text-align: left; padding-top: 3px; padding-bottom: 3px; padding-left: 1px; padding-right: 1px;\"><font size=\"3\" face=\"arial\" color=\"green\">UMBERTIDE</font></td><td style=\"text-align: left; padding-top: 3px; padding-bottom: 3px; padding-left: 20px; padding-right: 20px;\"></td><td style=\"text-align: left; padding-top: 3px; padding-bottom: 3px; padding-left: 1px; padding-right: 1px;\"><font size=\"3\" face=\"arial\" color=\"black\">103</font></td><td style=\"text-align: left; padding-top: 3px; padding-bottom: 3px; padding-left: 1px; padding-right: 1px;\"><font size=\"3\" face=\"arial\" color=\"black\">-</font></td><td style=\"text-align: left; padding-top: 3px; padding-bottom: 3px; padding-left: 1px; padding-right: 1px;\"><font size=\"3\" face=\"arial\" color=\"black\">45</font></td><td style=\"text-align: left; padding-top: 3px; padding-bottom: 3px; padding-left: 20px; padding-right: 20px;\"></td><td style=\"text-align: left; padding-top: 3px; padding-bottom: 3px; padding-left: 1px; padding-right: 1px;\">+</td><td style=\"text-align: left; padding-top: 3px; padding-bottom: 3px; padding-left: 1px; padding-right: 1px;\"><font size=\"3\" face=\"arial\" color=\"black\">58</font></td><td style=\"text-align: left; padding-top: 3px; padding-bottom: 3px; padding-left: 20px; padding-right: 20px;\"></td><td style=\"text-align: left; padding-top: 3px; padding-bottom: 3px; padding-left: 20px; padding-right: 20px;\"></td><td style=\"text-align: right; padding-top: 3px; padding-bottom: 3px; padding-left: 1px; padding-right: 1px;\"><font size=\"3\" face=\"arial\" color=\"black\">3.00</font></td><td style=\"text-align: left; padding-top: 3px; padding-bottom: 3px; padding-left: 20px; padding-right: 20px;\"></td></tr><tr><td style=\"text-align: left; padding-top: 3px; padding-bottom: 3px; padding-left: 1px; padding-right: 1px;\"><font size=\"3\" face=\"arial\" color=\"black\">5.a</font></td><td style=\"text-align: left; padding-top: 3px; padding-bottom: 3px; padding-left: 20px; padding-right: 20px;\"></td><td style=\"text-align: left; padding-top: 3px; padding-bottom: 3px; padding-left: 20px; padding-right: 20px;\"></td><td style=\"text-align: left; padding-top: 3px; padding-bottom: 3px; padding-left: 1px; padding-right: 1px;\"><font size=\"3\" face=\"arial\" color=\"green\">OSIMO</font></td><td style=\"text-align: left; padding-top: 3px; padding-bottom: 3px; padding-left: 1px; padding-right: 1px;\"><font size=\"3\" face=\"arial\" color=\"black\">-</font></td><td style=\"text-align: left; padding-top: 3px; padding-bottom: 3px; padding-left: 1px; padding-right: 1px;\"><font size=\"3\" face=\"arial\" color=\"green\">LORETO</font></td><td style=\"text-align: left; padding-top: 3px; padding-bottom: 3px; padding-left: 20px; padding-right: 20px;\"></td><td style=\"text-align: left; padding-top: 3px; padding-bottom: 3px; padding-left: 1px; padding-right: 1px;\"><font size=\"3\" face=\"arial\" color=\"black\">53</font></td><td style=\"text-align: left; padding-top: 3px; padding-bottom: 3px; padding-left: 1px; padding-right: 1px;\"><font size=\"3\" face=\"arial\" color=\"black\">-</font></td><td style=\"text-align: left; padding-top: 3px; padding-bottom: 3px; padding-left: 1px; padding-right: 1px;\"><font size=\"3\" face=\"arial\" color=\"black\">99</font></td><td style=\"text-align: left; padding-top: 3px; padding-bottom: 3px; padding-left: 20px; padding-right: 20px;\"></td><td style=\"text-align: left; padding-top: 3px; padding-bottom: 3px; padding-left: 1px; padding-right: 1px;\">+</td><td style=\"text-align: left; padding-top: 3px; padding-bottom: 3px; padding-left: 1px; padding-right: 1px;\"><font size=\"3\" face=\"arial\" color=\"black\">46</font></td><td style=\"text-align: left; padding-top: 3px; padding-bottom: 3px; padding-left: 20px; padding-right: 20px;\"></td><td style=\"text-align: left; padding-top: 3px; padding-bottom: 3px; padding-left: 20px; padding-right: 20px;\"></td><td style=\"text-align: right; padding-top: 3px; padding-bottom: 3px; padding-left: 1px; padding-right: 1px;\"><font size=\"3\" face=\"arial\" color=\"black\">8.75</font></td><td style=\"text-align: left; padding-top: 3px; padding-bottom: 3px; padding-left: 20px; padding-right: 20px;\"></td></tr><tr><td style=\"text-align: left; padding-top: 3px; padding-bottom: 3px; padding-left: 1px; padding-right: 1px;\"><font size=\"3\" face=\"arial\" color=\"black\">6.a</font></td><td style=\"text-align: left; padding-top: 3px; padding-bottom: 3px; padding-left: 20px; padding-right: 20px;\"></td><td style=\"text-align: left; padding-top: 3px; padding-bottom: 3px; padding-left: 20px; padding-right: 20px;\"></td><td style=\"text-align: left; padding-top: 3px; padding-bottom: 3px; padding-left: 1px; padding-right: 1px;\"><font size=\"3\" face=\"arial\" color=\"green\">LORETO</font></td><td style=\"text-align: left; padding-top: 3px; padding-bottom: 3px; padding-left: 1px; padding-right: 1px;\"><font size=\"3\" face=\"arial\" color=\"black\">-</font></td><td style=\"text-align: left; padding-top: 3px; padding-bottom: 3px; padding-left: 1px; padding-right: 1px;\"><font size=\"3\" face=\"arial\" color=\"green\">FALCONARA</font></td><td style=\"text-align: left; padding-top: 3px; padding-bottom: 3px; padding-left: 20px; padding-right: 20px;\"></td><td style=\"text-align: left; padding-top: 3px; padding-bottom: 3px; padding-left: 1px; padding-right: 1px;\"><font size=\"3\" face=\"arial\" color=\"black\">86</font></td><td style=\"text-align: left; padding-top: 3px; padding-bottom: 3px; padding-left: 1px; padding-right: 1px;\"><font size=\"3\" face=\"arial\" color=\"black\">-</font></td><td style=\"text-align: left; padding-top: 3px; padding-bottom: 3px; padding-left: 1px; padding-right: 1px;\"><font size=\"3\" face=\"arial\" color=\"black\">61</font></td><td style=\"text-align: left; padding-top: 3px; padding-bottom: 3px; padding-left: 20px; padding-right: 20px;\"></td><td style=\"text-align: left; padding-top: 3px; padding-bottom: 3px; padding-left: 1px; padding-right: 1px;\">+</td><td style=\"text-align: left; padding-top: 3px; padding-bottom: 3px; padding-left: 1px; padding-right: 1px;\"><font size=\"3\" face=\"arial\" color=\"black\">25</font></td><td style=\"text-align: left; padding-top: 3px; padding-bottom: 3px; padding-left: 20px; padding-right: 20px;\"></td><td style=\"text-align: left; padding-top: 3px; padding-bottom: 3px; padding-left: 20px; padding-right: 20px;\"></td><td style=\"text-align: right; padding-top: 3px; padding-bottom: 3px; padding-left: 1px; padding-right: 1px;\"><font size=\"3\" face=\"arial\" color=\"black\">5.00</font></td><td style=\"text-align: left; padding-top: 3px; padding-bottom: 3px; padding-left: 20px; padding-right: 20px;\"></td></tr><tr><td style=\"text-align: left; padding-top: 3px; padding-bottom: 3px; padding-left: 1px; padding-right: 1px;\"><font size=\"3\" face=\"arial\" color=\"black\">7.a</font></td><td style=\"text-align: left; padding-top: 3px; padding-bottom: 3px; padding-left: 20px; padding-right: 20px;\"></td><td style=\"text-align: left; padding-top: 3px; padding-bottom: 3px; padding-left: 20px; padding-right: 20px;\"></td><td style=\"text-align: left; padding-top: 3px; padding-bottom: 3px; padding-left: 1px; padding-right: 1px;\"><font size=\"3\" face=\"arial\" color=\"green\">SPOLETO</font></td><td style=\"text-align: left; padding-top: 3px; padding-bottom: 3px; padding-left: 1px; padding-right: 1px;\"><font size=\"3\" face=\"arial\" color=\"black\">-</font></td><td style=\"text-align: left; padding-top: 3px; padding-bottom: 3px; padding-left: 1px; padding-right: 1px;\"><font size=\"3\" face=\"arial\" color=\"green\">LORETO</font></td><td style=\"text-align: left; padding-top: 3px; padding-bottom: 3px; padding-left: 20px; padding-right: 20px;\"></td><td style=\"text-align: left; padding-top: 3px; padding-bottom: 3px; padding-left: 1px; padding-right: 1px;\"><font size=\"3\" face=\"arial\" color=\"black\">44</font></td><td style=\"text-align: left; padding-top: 3px; padding-bottom: 3px; padding-left: 1px; padding-right: 1px;\"><font size=\"3\" face=\"arial\" color=\"black\">-</font></td><td style=\"text-align: left; padding-top: 3px; padding-bottom: 3px; padding-left: 1px; padding-right: 1px;\"><font size=\"3\" face=\"arial\" color=\"black\">83</font></td><td style=\"text-align: left; padding-top: 3px; padding-bottom: 3px; padding-left: 20px; padding-right: 20px;\"></td><td style=\"text-align: left; padding-top: 3px; padding-bottom: 3px; padding-left: 1px; padding-right: 1px;\">+</td><td style=\"text-align: left; padding-top: 3px; padding-bottom: 3px; padding-left: 1px; padding-right: 1px;\"><font size=\"3\" face=\"arial\" color=\"black\">39</font></td><td style=\"text-align: left; padding-top: 3px; padding-bottom: 3px; padding-left: 20px; padding-right: 20px;\"></td><td style=\"text-align: left; padding-top: 3px; padding-bottom: 3px; padding-left: 20px; padding-right: 20px;\"></td><td style=\"text-align: right; padding-top: 3px; padding-bottom: 3px; padding-left: 1px; padding-right: 1px;\"><font size=\"3\" face=\"arial\" color=\"black\">1.25</font></td><td style=\"text-align: left; padding-top: 3px; padding-bottom: 3px; padding-left: 20px; padding-right: 20px;\"></td></tr><tr><td style=\"text-align: left; padding-top: 3px; padding-bottom: 3px; padding-left: 1px; padding-right: 1px;\"><font size=\"3\" face=\"arial\" color=\"black\">8.a</font></td><td style=\"text-align: left; padding-top: 3px; padding-bottom: 3px; padding-left: 20px; padding-right: 20px;\"></td><td style=\"text-align: left; padding-top: 3px; padding-bottom: 3px; padding-left: 20px; padding-right: 20px;\"></td><td style=\"text-align: left; padding-top: 3px; padding-bottom: 3px; padding-left: 1px; padding-right: 1px;\"><font size=\"3\" face=\"arial\" color=\"green\">LORETO</font></td><td style=\"text-align: left; padding-top: 3px; padding-bottom: 3px; padding-left: 1px; padding-right: 1px;\"><font size=\"3\" face=\"arial\" color=\"black\">-</font></td><td style=\"text-align: left; padding-top: 3px; padding-bottom: 3px; padding-left: 1px; padding-right: 1px;\"><font size=\"3\" face=\"arial\" color=\"green\">URBANIA</font></td><td style=\"text-align: left; padding-top: 3px; padding-bottom: 3px; padding-left: 20px; padding-right: 20px;\"></td><td style=\"text-align: left; padding-top: 3px; padding-bottom: 3px; padding-left: 1px; padding-right: 1px;\"><font size=\"3\" face=\"arial\" color=\"black\">94</font></td><td style=\"text-align: left; padding-top: 3px; padding-bottom: 3px; padding-left: 1px; padding-right: 1px;\"><font size=\"3\" face=\"arial\" color=\"black\">-</font></td><td style=\"text-align: left; padding-top: 3px; padding-bottom: 3px; padding-left: 1px; padding-right: 1px;\"><font size=\"3\" face=\"arial\" color=\"black\">67</font></td><td style=\"text-align: left; padding-top: 3px; padding-bottom: 3px; padding-left: 20px; padding-right: 20px;\"></td><td style=\"text-align: left; padding-top: 3px; padding-bottom: 3px; padding-left: 1px; padding-right: 1px;\">+</td><td style=\"text-align: left; padding-top: 3px; padding-bottom: 3px; padding-left: 1px; padding-right: 1px;\"><font size=\"3\" face=\"arial\" color=\"black\">27</font></td><td style=\"text-align: left; padding-top: 3px; padding-bottom: 3px; padding-left: 20px; padding-right: 20px;\"></td><td style=\"text-align: left; padding-top: 3px; padding-bottom: 3px; padding-left: 20px; padding-right: 20px;\"></td><td style=\"text-align: right; padding-top: 3px; padding-bottom: 3px; padding-left: 1px; padding-right: 1px;\"><font size=\"3\" face=\"arial\" color=\"black\">14.00</font></td><td style=\"text-align: left; padding-top: 3px; padding-bottom: 3px; padding-left: 20px; padding-right: 20px;\"></td></tr><tr><td style=\"text-align: left; padding-top: 3px; padding-bottom: 3px; padding-left: 1px; padding-right: 1px;\"><font size=\"3\" face=\"arial\" color=\"black\">9.a</font></td><td style=\"text-align: left; padding-top: 3px; padding-bottom: 3px; padding-left: 20px; padding-right: 20px;\"></td><td style=\"text-align: left; padding-top: 3px; padding-bottom: 3px; padding-left: 20px; padding-right: 20px;\"></td><td style=\"text-align: left; padding-top: 3px; padding-bottom: 3px; padding-left: 1px; padding-right: 1px;\"><font size=\"3\" face=\"arial\" color=\"green\">ASCOLI</font></td><td style=\"text-align: left; padding-top: 3px; padding-bottom: 3px; padding-left: 1px; padding-right: 1px;\"><font size=\"3\" face=\"arial\" color=\"black\">-</font></td><td style=\"text-align: left; padding-top: 3px; padding-bottom: 3px; padding-left: 1px; padding-right: 1px;\"><font size=\"3\" face=\"arial\" color=\"green\">LORETO</font></td><td style=\"text-align: left; padding-top: 3px; padding-bottom: 3px; padding-left: 20px; padding-right: 20px;\"></td><td style=\"text-align: left; padding-top: 3px; padding-bottom: 3px; padding-left: 1px; padding-right: 1px;\"><font size=\"3\" face=\"arial\" color=\"black\">42</font></td><td style=\"text-align: left; padding-top: 3px; padding-bottom: 3px; padding-left: 1px; padding-right: 1px;\"><font size=\"3\" face=\"arial\" color=\"black\">-</font></td><td style=\"text-align: left; padding-top: 3px; padding-bottom: 3px; padding-left: 1px; padding-right: 1px;\"><font size=\"3\" face=\"arial\" color=\"black\">83</font></td><td style=\"text-align: left; padding-top: 3px; padding-bottom: 3px; padding-left: 20px; padding-right: 20px;\"></td><td style=\"text-align: left; padding-top: 3px; padding-bottom: 3px; padding-left: 1px; padding-right: 1px;\">+</td><td style=\"text-align: left; padding-top: 3px; padding-bottom: 3px; padding-left: 1px; padding-right: 1px;\"><font size=\"3\" face=\"arial\" color=\"black\">41</font></td><td style=\"text-align: left; padding-top: 3px; padding-bottom: 3px; padding-left: 20px; padding-right: 20px;\"></td><td style=\"text-align: left; padding-top: 3px; padding-bottom: 3px; padding-left: 20px; padding-right: 20px;\"></td><td style=\"text-align: right; padding-top: 3px; padding-bottom: 3px; padding-left: 1px; padding-right: 1px;\"><font size=\"3\" face=\"arial\" color=\"black\">5.00</font></td><td style=\"text-align: left; padding-top: 3px; padding-bottom: 3px; padding-left: 20px; padding-right: 20px;\"></td></tr><tr><td style=\"text-align: left; padding-top: 3px; padding-bottom: 3px; padding-left: 1px; padding-right: 1px;\"><font size=\"3\" face=\"arial\" color=\"black\">10.a</font></td><td style=\"text-align: left; padding-top: 3px; padding-bottom: 3px; padding-left: 20px; padding-right: 20px;\"></td><td style=\"text-align: left; padding-top: 3px; padding-bottom: 3px; padding-left: 20px; padding-right: 20px;\"></td><td style=\"text-align: left; padding-top: 3px; padding-bottom: 3px; padding-left: 1px; padding-right: 1px;\"><font size=\"3\" face=\"arial\" color=\"green\">LORETO</font></td><td style=\"text-align: left; padding-top: 3px; padding-bottom: 3px; padding-left: 1px; padding-right: 1px;\"><font size=\"3\" face=\"arial\" color=\"black\">-</font></td><td style=\"text-align: left; padding-top: 3px; padding-bottom: 3px; padding-left: 1px; padding-right: 1px;\"><font size=\"3\" face=\"arial\" color=\"green\">SAN MARINO</font></td><td style=\"text-align: left; padding-top: 3px; padding-bottom: 3px; padding-left: 20px; padding-right: 20px;\"></td><td style=\"text-align: left; padding-top: 3px; padding-bottom: 3px; padding-left: 1px; padding-right: 1px;\"><font size=\"3\" face=\"arial\" color=\"black\">73</font></td><td style=\"text-align: left; padding-top: 3px; padding-bottom: 3px; padding-left: 1px; padding-right: 1px;\"><font size=\"3\" face=\"arial\" color=\"black\">-</font></td><td style=\"text-align: left; padding-top: 3px; padding-bottom: 3px; padding-left: 1px; padding-right: 1px;\"><font size=\"3\" face=\"arial\" color=\"black\">55</font></td><td style=\"text-align: left; padding-top: 3px; padding-bottom: 3px; padding-left: 20px; padding-right: 20px;\"></td><td style=\"text-align: left; padding-top: 3px; padding-bottom: 3px; padding-left: 1px; padding-right: 1px;\">+</td><td style=\"text-align: left; padding-top: 3px; padding-bottom: 3px; padding-left: 1px; padding-right: 1px;\"><font size=\"3\" face=\"arial\" color=\"black\">18</font></td><td style=\"text-align: left; padding-top: 3px; padding-bottom: 3px; padding-left: 20px; padding-right: 20px;\"></td><td style=\"text-align: left; padding-top: 3px; padding-bottom: 3px; padding-left: 20px; padding-right: 20px;\"></td><td style=\"text-align: right; padding-top: 3px; padding-bottom: 3px; padding-left: 1px; padding-right: 1px;\"><font size=\"3\" face=\"arial\" color=\"black\">10.00</font></td><td style=\"text-align: left; padding-top: 3px; padding-bottom: 3px; padding-left: 20px; padding-right: 20px;\"></td></tr><tr><td style=\"text-align: left; padding-top: 3px; padding-bottom: 3px; padding-left: 1px; padding-right: 1px;\"><font size=\"3\" face=\"arial\" color=\"black\">11.a</font></td><td style=\"text-align: left; padding-top: 3px; padding-bottom: 3px; padding-left: 20px; padding-right: 20px;\"></td><td style=\"text-align: left; padding-top: 3px; padding-bottom: 3px; padding-left: 20px; padding-right: 20px;\"></td><td style=\"text-align: left; padding-top: 3px; padding-bottom: 3px; padding-left: 1px; padding-right: 1px;\"><font size=\"3\" face=\"arial\" color=\"green\">GUALDO</font></td><td style=\"text-align: left; padding-top: 3px; padding-bottom: 3px; padding-left: 1px; padding-right: 1px;\"><font size=\"3\" face=\"arial\" color=\"black\">-</font></td><td style=\"text-align: left; padding-top: 3px; padding-bottom: 3px; padding-left: 1px; padding-right: 1px;\"><font size=\"3\" face=\"arial\" color=\"green\">LORETO</font></td><td style=\"text-align: left; padding-top: 3px; padding-bottom: 3px; padding-left: 20px; padding-right: 20px;\"></td><td style=\"text-align: left; padding-top: 3px; padding-bottom: 3px; padding-left: 1px; padding-right: 1px;\"><font size=\"3\" face=\"arial\" color=\"black\">45</font></td><td style=\"text-align: left; padding-top: 3px; padding-bottom: 3px; padding-left: 1px; padding-right: 1px;\"><font size=\"3\" face=\"arial\" color=\"black\">-</font></td><td style=\"text-align: left; padding-top: 3px; padding-bottom: 3px; padding-left: 1px; padding-right: 1px;\"><font size=\"3\" face=\"arial\" color=\"black\">71</font></td><td style=\"text-align: left; padding-top: 3px; padding-bottom: 3px; padding-left: 20px; padding-right: 20px;\"></td><td style=\"text-align: left; padding-top: 3px; padding-bottom: 3px; padding-left: 1px; padding-right: 1px;\">+</td><td style=\"text-align: left; padding-top: 3px; padding-bottom: 3px; padding-left: 1px; padding-right: 1px;\"><font size=\"3\" face=\"arial\" color=\"black\">26</font></td><td style=\"text-align: left; padding-top: 3px; padding-bottom: 3px; padding-left: 20px; padding-right: 20px;\"></td><td style=\"text-align: left; padding-top: 3px; padding-bottom: 3px; padding-left: 20px; padding-right: 20px;\"></td><td style=\"text-align: right; padding-top: 3px; padding-bottom: 3px; padding-left: 1px; padding-right: 1px;\"><font size=\"3\" face=\"arial\" color=\"black\">11.25</font></td><td style=\"text-align: left; padding-top: 3px; padding-bottom: 3px; padding-left: 20px; padding-right: 20px;\"></td></tr><tr><td style=\"text-align: left; padding-top: 3px; padding-bottom: 3px; padding-left: 1px; padding-right: 1px;\"><font size=\"3\" face=\"arial\" color=\"black\">12.a</font></td><td style=\"text-align: left; padding-top: 3px; padding-bottom: 3px; padding-left: 20px; padding-right: 20px;\"></td><td style=\"text-align: left; padding-top: 3px; padding-bottom: 3px; padding-left: 20px; padding-right: 20px;\"></td><td style=\"text-align: left; padding-top: 3px; padding-bottom: 3px; padding-left: 1px; padding-right: 1px;\"><font size=\"3\" face=\"arial\" color=\"green\">LORETO</font></td><td style=\"text-align: left; padding-top: 3px; padding-bottom: 3px; padding-left: 1px; padding-right: 1px;\"><font size=\"3\" face=\"arial\" color=\"black\">-</font></td><td style=\"text-align: left; padding-top: 3px; padding-bottom: 3px; padding-left: 1px; padding-right: 1px;\"><font size=\"3\" face=\"arial\" color=\"green\">FOSSOMBRONE</font></td><td style=\"text-align: left; padding-top: 3px; padding-bottom: 3px; padding-left: 20px; padding-right: 20px;\"></td><td style=\"text-align: left; padding-top: 3px; padding-bottom: 3px; padding-left: 1px; padding-right: 1px;\"><font size=\"3\" face=\"arial\" color=\"black\">80</font></td><td style=\"text-align: left; padding-top: 3px; padding-bottom: 3px; padding-left: 1px; padding-right: 1px;\"><font size=\"3\" face=\"arial\" color=\"black\">-</font></td><td style=\"text-align: left; padding-top: 3px; padding-bottom: 3px; padding-left: 1px; padding-right: 1px;\"><font size=\"3\" face=\"arial\" color=\"black\">70</font></td><td style=\"text-align: left; padding-top: 3px; padding-bottom: 3px; padding-left: 20px; padding-right: 20px;\"></td><td style=\"text-align: left; padding-top: 3px; padding-bottom: 3px; padding-left: 1px; padding-right: 1px;\">+</td><td style=\"text-align: left; padding-top: 3px; padding-bottom: 3px; padding-left: 1px; padding-right: 1px;\"><font size=\"3\" face=\"arial\" color=\"black\">10</font></td><td style=\"text-align: left; padding-top: 3px; padding-bottom: 3px; padding-left: 20px; padding-right: 20px;\"></td><td style=\"text-align: left; padding-top: 3px; padding-bottom: 3px; padding-left: 20px; padding-right: 20px;\"></td><td style=\"text-align: right; padding-top: 3px; padding-bottom: 3px; padding-left: 1px; padding-right: 1px;\"><font size=\"3\" face=\"arial\" color=\"black\">13.00</font></td><td style=\"text-align: left; padding-top: 3px; padding-bottom: 3px; padding-left: 20px; padding-right: 20px;\"></td></tr></table>"
      ],
      "text/plain": [
       "<IPython.core.display.HTML object>"
      ]
     },
     "metadata": {},
     "output_type": "display_data"
    },
    {
     "data": {
      "text/html": [
       "<table><tr><th style=\"text-align: left; padding-top: 3px; padding-bottom: 3px; padding-left: 1px; padding-right: 1px;\" colspan=\"3\"><font size=\"3\" face=\"arial\" color=\"black\">Giornata</font></th><th style=\"text-align: left; padding-top: 3px; padding-bottom: 3px; padding-left: 1px; padding-right: 1px;\" width=\"300px;\" colspan=\"4\"><font size=\"3\" face=\"arial\" color=\"black\">URBANIA</font></th><th style=\"text-align: left; padding-top: 3px; padding-bottom: 3px; padding-left: 1px; padding-right: 1px;\" width=\"90px;\" colspan=\"4\"><font size=\"3\" face=\"arial\" color=\"black\">Risultato</font></th><th style=\"text-align: left; padding-top: 3px; padding-bottom: 3px; padding-left: 1px; padding-right: 1px;\" colspan=\"3\"><font size=\"3\" face=\"arial\" color=\"black\">Scarto</font></th><th style=\"text-align: right; padding-top: 3px; padding-bottom: 3px; padding-left: 1px; padding-right: 1px;\" colspan=\"3\"><font size=\"3\" face=\"arial\" color=\"black\">Difficoltà   107.75</font></th></tr><tr><td style=\"text-align: left; padding-top: 3px; padding-bottom: 3px; padding-left: 1px; padding-right: 1px;\"><font size=\"3\" face=\"arial\" color=\"black\">1.a</font></td><td style=\"text-align: left; padding-top: 3px; padding-bottom: 3px; padding-left: 20px; padding-right: 20px;\"></td><td style=\"text-align: left; padding-top: 3px; padding-bottom: 3px; padding-left: 20px; padding-right: 20px;\"></td><td style=\"text-align: left; padding-top: 3px; padding-bottom: 3px; padding-left: 1px; padding-right: 1px;\"><font size=\"3\" face=\"arial\" color=\"green\">URBANIA</font></td><td style=\"text-align: left; padding-top: 3px; padding-bottom: 3px; padding-left: 1px; padding-right: 1px;\"><font size=\"3\" face=\"arial\" color=\"black\">-</font></td><td style=\"text-align: left; padding-top: 3px; padding-bottom: 3px; padding-left: 1px; padding-right: 1px;\"><font size=\"3\" face=\"arial\" color=\"green\">SAN MARINO</font></td><td style=\"text-align: left; padding-top: 3px; padding-bottom: 3px; padding-left: 20px; padding-right: 20px;\"></td><td style=\"text-align: left; padding-top: 3px; padding-bottom: 3px; padding-left: 1px; padding-right: 1px;\"><font size=\"3\" face=\"arial\" color=\"black\">75</font></td><td style=\"text-align: left; padding-top: 3px; padding-bottom: 3px; padding-left: 1px; padding-right: 1px;\"><font size=\"3\" face=\"arial\" color=\"black\">-</font></td><td style=\"text-align: left; padding-top: 3px; padding-bottom: 3px; padding-left: 1px; padding-right: 1px;\"><font size=\"3\" face=\"arial\" color=\"black\">45</font></td><td style=\"text-align: left; padding-top: 3px; padding-bottom: 3px; padding-left: 20px; padding-right: 20px;\"></td><td style=\"text-align: left; padding-top: 3px; padding-bottom: 3px; padding-left: 1px; padding-right: 1px;\">+</td><td style=\"text-align: left; padding-top: 3px; padding-bottom: 3px; padding-left: 1px; padding-right: 1px;\"><font size=\"3\" face=\"arial\" color=\"black\">30</font></td><td style=\"text-align: left; padding-top: 3px; padding-bottom: 3px; padding-left: 20px; padding-right: 20px;\"></td><td style=\"text-align: left; padding-top: 3px; padding-bottom: 3px; padding-left: 20px; padding-right: 20px;\"></td><td style=\"text-align: right; padding-top: 3px; padding-bottom: 3px; padding-left: 1px; padding-right: 1px;\"><font size=\"3\" face=\"arial\" color=\"black\">10.00</font></td><td style=\"text-align: left; padding-top: 3px; padding-bottom: 3px; padding-left: 20px; padding-right: 20px;\"></td></tr><tr><td style=\"text-align: left; padding-top: 3px; padding-bottom: 3px; padding-left: 1px; padding-right: 1px;\"><font size=\"3\" face=\"arial\" color=\"black\">2.a</font></td><td style=\"text-align: left; padding-top: 3px; padding-bottom: 3px; padding-left: 20px; padding-right: 20px;\"></td><td style=\"text-align: left; padding-top: 3px; padding-bottom: 3px; padding-left: 20px; padding-right: 20px;\"></td><td style=\"text-align: left; padding-top: 3px; padding-bottom: 3px; padding-left: 1px; padding-right: 1px;\"><font size=\"3\" face=\"arial\" color=\"green\">GUALDO</font></td><td style=\"text-align: left; padding-top: 3px; padding-bottom: 3px; padding-left: 1px; padding-right: 1px;\"><font size=\"3\" face=\"arial\" color=\"black\">-</font></td><td style=\"text-align: left; padding-top: 3px; padding-bottom: 3px; padding-left: 1px; padding-right: 1px;\"><font size=\"3\" face=\"arial\" color=\"green\">URBANIA</font></td><td style=\"text-align: left; padding-top: 3px; padding-bottom: 3px; padding-left: 20px; padding-right: 20px;\"></td><td style=\"text-align: left; padding-top: 3px; padding-bottom: 3px; padding-left: 1px; padding-right: 1px;\"><font size=\"3\" face=\"arial\" color=\"black\">67</font></td><td style=\"text-align: left; padding-top: 3px; padding-bottom: 3px; padding-left: 1px; padding-right: 1px;\"><font size=\"3\" face=\"arial\" color=\"black\">-</font></td><td style=\"text-align: left; padding-top: 3px; padding-bottom: 3px; padding-left: 1px; padding-right: 1px;\"><font size=\"3\" face=\"arial\" color=\"black\">81</font></td><td style=\"text-align: left; padding-top: 3px; padding-bottom: 3px; padding-left: 20px; padding-right: 20px;\"></td><td style=\"text-align: left; padding-top: 3px; padding-bottom: 3px; padding-left: 1px; padding-right: 1px;\">+</td><td style=\"text-align: left; padding-top: 3px; padding-bottom: 3px; padding-left: 1px; padding-right: 1px;\"><font size=\"3\" face=\"arial\" color=\"black\">14</font></td><td style=\"text-align: left; padding-top: 3px; padding-bottom: 3px; padding-left: 20px; padding-right: 20px;\"></td><td style=\"text-align: left; padding-top: 3px; padding-bottom: 3px; padding-left: 20px; padding-right: 20px;\"></td><td style=\"text-align: right; padding-top: 3px; padding-bottom: 3px; padding-left: 1px; padding-right: 1px;\"><font size=\"3\" face=\"arial\" color=\"black\">11.25</font></td><td style=\"text-align: left; padding-top: 3px; padding-bottom: 3px; padding-left: 20px; padding-right: 20px;\"></td></tr><tr><td style=\"text-align: left; padding-top: 3px; padding-bottom: 3px; padding-left: 1px; padding-right: 1px;\"><font size=\"3\" face=\"arial\" color=\"black\">3.a</font></td><td style=\"text-align: left; padding-top: 3px; padding-bottom: 3px; padding-left: 20px; padding-right: 20px;\"></td><td style=\"text-align: left; padding-top: 3px; padding-bottom: 3px; padding-left: 20px; padding-right: 20px;\"></td><td style=\"text-align: left; padding-top: 3px; padding-bottom: 3px; padding-left: 1px; padding-right: 1px;\"><font size=\"3\" face=\"arial\" color=\"green\">URBANIA</font></td><td style=\"text-align: left; padding-top: 3px; padding-bottom: 3px; padding-left: 1px; padding-right: 1px;\"><font size=\"3\" face=\"arial\" color=\"black\">-</font></td><td style=\"text-align: left; padding-top: 3px; padding-bottom: 3px; padding-left: 1px; padding-right: 1px;\"><font size=\"3\" face=\"arial\" color=\"green\">FOSSOMBRONE</font></td><td style=\"text-align: left; padding-top: 3px; padding-bottom: 3px; padding-left: 20px; padding-right: 20px;\"></td><td style=\"text-align: left; padding-top: 3px; padding-bottom: 3px; padding-left: 1px; padding-right: 1px;\"><font size=\"3\" face=\"arial\" color=\"black\">75</font></td><td style=\"text-align: left; padding-top: 3px; padding-bottom: 3px; padding-left: 1px; padding-right: 1px;\"><font size=\"3\" face=\"arial\" color=\"black\">-</font></td><td style=\"text-align: left; padding-top: 3px; padding-bottom: 3px; padding-left: 1px; padding-right: 1px;\"><font size=\"3\" face=\"arial\" color=\"black\">64</font></td><td style=\"text-align: left; padding-top: 3px; padding-bottom: 3px; padding-left: 20px; padding-right: 20px;\"></td><td style=\"text-align: left; padding-top: 3px; padding-bottom: 3px; padding-left: 1px; padding-right: 1px;\">+</td><td style=\"text-align: left; padding-top: 3px; padding-bottom: 3px; padding-left: 1px; padding-right: 1px;\"><font size=\"3\" face=\"arial\" color=\"black\">11</font></td><td style=\"text-align: left; padding-top: 3px; padding-bottom: 3px; padding-left: 20px; padding-right: 20px;\"></td><td style=\"text-align: left; padding-top: 3px; padding-bottom: 3px; padding-left: 20px; padding-right: 20px;\"></td><td style=\"text-align: right; padding-top: 3px; padding-bottom: 3px; padding-left: 1px; padding-right: 1px;\"><font size=\"3\" face=\"arial\" color=\"black\">13.00</font></td><td style=\"text-align: left; padding-top: 3px; padding-bottom: 3px; padding-left: 20px; padding-right: 20px;\"></td></tr><tr><td style=\"text-align: left; padding-top: 3px; padding-bottom: 3px; padding-left: 1px; padding-right: 1px;\"><font size=\"3\" face=\"arial\" color=\"black\">4.a</font></td><td style=\"text-align: left; padding-top: 3px; padding-bottom: 3px; padding-left: 20px; padding-right: 20px;\"></td><td style=\"text-align: left; padding-top: 3px; padding-bottom: 3px; padding-left: 20px; padding-right: 20px;\"></td><td style=\"text-align: left; padding-top: 3px; padding-bottom: 3px; padding-left: 1px; padding-right: 1px;\"><font size=\"3\" face=\"arial\" color=\"red\">RECANATI</font></td><td style=\"text-align: left; padding-top: 3px; padding-bottom: 3px; padding-left: 1px; padding-right: 1px;\"><font size=\"3\" face=\"arial\" color=\"black\">-</font></td><td style=\"text-align: left; padding-top: 3px; padding-bottom: 3px; padding-left: 1px; padding-right: 1px;\"><font size=\"3\" face=\"arial\" color=\"red\">URBANIA</font></td><td style=\"text-align: left; padding-top: 3px; padding-bottom: 3px; padding-left: 20px; padding-right: 20px;\"></td><td style=\"text-align: left; padding-top: 3px; padding-bottom: 3px; padding-left: 1px; padding-right: 1px;\"><font size=\"3\" face=\"arial\" color=\"black\">73</font></td><td style=\"text-align: left; padding-top: 3px; padding-bottom: 3px; padding-left: 1px; padding-right: 1px;\"><font size=\"3\" face=\"arial\" color=\"black\">-</font></td><td style=\"text-align: left; padding-top: 3px; padding-bottom: 3px; padding-left: 1px; padding-right: 1px;\"><font size=\"3\" face=\"arial\" color=\"black\">55</font></td><td style=\"text-align: left; padding-top: 3px; padding-bottom: 3px; padding-left: 20px; padding-right: 20px;\"></td><td style=\"text-align: left; padding-top: 3px; padding-bottom: 3px; padding-left: 1px; padding-right: 1px;\">-</td><td style=\"text-align: left; padding-top: 3px; padding-bottom: 3px; padding-left: 1px; padding-right: 1px;\"><font size=\"3\" face=\"arial\" color=\"black\">18</font></td><td style=\"text-align: left; padding-top: 3px; padding-bottom: 3px; padding-left: 20px; padding-right: 20px;\"></td><td style=\"text-align: left; padding-top: 3px; padding-bottom: 3px; padding-left: 20px; padding-right: 20px;\"></td><td style=\"text-align: right; padding-top: 3px; padding-bottom: 3px; padding-left: 1px; padding-right: 1px;\"><font size=\"3\" face=\"arial\" color=\"black\">13.75</font></td><td style=\"text-align: left; padding-top: 3px; padding-bottom: 3px; padding-left: 20px; padding-right: 20px;\"></td></tr><tr><td style=\"text-align: left; padding-top: 3px; padding-bottom: 3px; padding-left: 1px; padding-right: 1px;\"><font size=\"3\" face=\"arial\" color=\"black\">5.a</font></td><td style=\"text-align: left; padding-top: 3px; padding-bottom: 3px; padding-left: 20px; padding-right: 20px;\"></td><td style=\"text-align: left; padding-top: 3px; padding-bottom: 3px; padding-left: 20px; padding-right: 20px;\"></td><td style=\"text-align: left; padding-top: 3px; padding-bottom: 3px; padding-left: 1px; padding-right: 1px;\"><font size=\"3\" face=\"arial\" color=\"green\">URBANIA</font></td><td style=\"text-align: left; padding-top: 3px; padding-bottom: 3px; padding-left: 1px; padding-right: 1px;\"><font size=\"3\" face=\"arial\" color=\"black\">-</font></td><td style=\"text-align: left; padding-top: 3px; padding-bottom: 3px; padding-left: 1px; padding-right: 1px;\"><font size=\"3\" face=\"arial\" color=\"green\">PERUGIA</font></td><td style=\"text-align: left; padding-top: 3px; padding-bottom: 3px; padding-left: 20px; padding-right: 20px;\"></td><td style=\"text-align: left; padding-top: 3px; padding-bottom: 3px; padding-left: 1px; padding-right: 1px;\"><font size=\"3\" face=\"arial\" color=\"black\">67</font></td><td style=\"text-align: left; padding-top: 3px; padding-bottom: 3px; padding-left: 1px; padding-right: 1px;\"><font size=\"3\" face=\"arial\" color=\"black\">-</font></td><td style=\"text-align: left; padding-top: 3px; padding-bottom: 3px; padding-left: 1px; padding-right: 1px;\"><font size=\"3\" face=\"arial\" color=\"black\">54</font></td><td style=\"text-align: left; padding-top: 3px; padding-bottom: 3px; padding-left: 20px; padding-right: 20px;\"></td><td style=\"text-align: left; padding-top: 3px; padding-bottom: 3px; padding-left: 1px; padding-right: 1px;\">+</td><td style=\"text-align: left; padding-top: 3px; padding-bottom: 3px; padding-left: 1px; padding-right: 1px;\"><font size=\"3\" face=\"arial\" color=\"black\">13</font></td><td style=\"text-align: left; padding-top: 3px; padding-bottom: 3px; padding-left: 20px; padding-right: 20px;\"></td><td style=\"text-align: left; padding-top: 3px; padding-bottom: 3px; padding-left: 20px; padding-right: 20px;\"></td><td style=\"text-align: right; padding-top: 3px; padding-bottom: 3px; padding-left: 1px; padding-right: 1px;\"><font size=\"3\" face=\"arial\" color=\"black\">12.00</font></td><td style=\"text-align: left; padding-top: 3px; padding-bottom: 3px; padding-left: 20px; padding-right: 20px;\"></td></tr><tr><td style=\"text-align: left; padding-top: 3px; padding-bottom: 3px; padding-left: 1px; padding-right: 1px;\"><font size=\"3\" face=\"arial\" color=\"black\">6.a</font></td><td style=\"text-align: left; padding-top: 3px; padding-bottom: 3px; padding-left: 20px; padding-right: 20px;\"></td><td style=\"text-align: left; padding-top: 3px; padding-bottom: 3px; padding-left: 20px; padding-right: 20px;\"></td><td style=\"text-align: left; padding-top: 3px; padding-bottom: 3px; padding-left: 1px; padding-right: 1px;\"><font size=\"3\" face=\"arial\" color=\"green\">P.S. GIORGIO</font></td><td style=\"text-align: left; padding-top: 3px; padding-bottom: 3px; padding-left: 1px; padding-right: 1px;\"><font size=\"3\" face=\"arial\" color=\"black\">-</font></td><td style=\"text-align: left; padding-top: 3px; padding-bottom: 3px; padding-left: 1px; padding-right: 1px;\"><font size=\"3\" face=\"arial\" color=\"green\">URBANIA</font></td><td style=\"text-align: left; padding-top: 3px; padding-bottom: 3px; padding-left: 20px; padding-right: 20px;\"></td><td style=\"text-align: left; padding-top: 3px; padding-bottom: 3px; padding-left: 1px; padding-right: 1px;\"><font size=\"3\" face=\"arial\" color=\"black\">62</font></td><td style=\"text-align: left; padding-top: 3px; padding-bottom: 3px; padding-left: 1px; padding-right: 1px;\"><font size=\"3\" face=\"arial\" color=\"black\">-</font></td><td style=\"text-align: left; padding-top: 3px; padding-bottom: 3px; padding-left: 1px; padding-right: 1px;\"><font size=\"3\" face=\"arial\" color=\"black\">71</font></td><td style=\"text-align: left; padding-top: 3px; padding-bottom: 3px; padding-left: 20px; padding-right: 20px;\"></td><td style=\"text-align: left; padding-top: 3px; padding-bottom: 3px; padding-left: 1px; padding-right: 1px;\">+</td><td style=\"text-align: left; padding-top: 3px; padding-bottom: 3px; padding-left: 1px; padding-right: 1px;\"><font size=\"3\" face=\"arial\" color=\"black\">9</font></td><td style=\"text-align: left; padding-top: 3px; padding-bottom: 3px; padding-left: 20px; padding-right: 20px;\"></td><td style=\"text-align: left; padding-top: 3px; padding-bottom: 3px; padding-left: 20px; padding-right: 20px;\"></td><td style=\"text-align: right; padding-top: 3px; padding-bottom: 3px; padding-left: 1px; padding-right: 1px;\"><font size=\"3\" face=\"arial\" color=\"black\">10.00</font></td><td style=\"text-align: left; padding-top: 3px; padding-bottom: 3px; padding-left: 20px; padding-right: 20px;\"></td></tr><tr><td style=\"text-align: left; padding-top: 3px; padding-bottom: 3px; padding-left: 1px; padding-right: 1px;\"><font size=\"3\" face=\"arial\" color=\"black\">7.a</font></td><td style=\"text-align: left; padding-top: 3px; padding-bottom: 3px; padding-left: 20px; padding-right: 20px;\"></td><td style=\"text-align: left; padding-top: 3px; padding-bottom: 3px; padding-left: 20px; padding-right: 20px;\"></td><td style=\"text-align: left; padding-top: 3px; padding-bottom: 3px; padding-left: 1px; padding-right: 1px;\"><font size=\"3\" face=\"arial\" color=\"green\">URBANIA</font></td><td style=\"text-align: left; padding-top: 3px; padding-bottom: 3px; padding-left: 1px; padding-right: 1px;\"><font size=\"3\" face=\"arial\" color=\"black\">-</font></td><td style=\"text-align: left; padding-top: 3px; padding-bottom: 3px; padding-left: 1px; padding-right: 1px;\"><font size=\"3\" face=\"arial\" color=\"green\">BASKET GIOVANE</font></td><td style=\"text-align: left; padding-top: 3px; padding-bottom: 3px; padding-left: 20px; padding-right: 20px;\"></td><td style=\"text-align: left; padding-top: 3px; padding-bottom: 3px; padding-left: 1px; padding-right: 1px;\"><font size=\"3\" face=\"arial\" color=\"black\">83</font></td><td style=\"text-align: left; padding-top: 3px; padding-bottom: 3px; padding-left: 1px; padding-right: 1px;\"><font size=\"3\" face=\"arial\" color=\"black\">-</font></td><td style=\"text-align: left; padding-top: 3px; padding-bottom: 3px; padding-left: 1px; padding-right: 1px;\"><font size=\"3\" face=\"arial\" color=\"black\">70</font></td><td style=\"text-align: left; padding-top: 3px; padding-bottom: 3px; padding-left: 20px; padding-right: 20px;\"></td><td style=\"text-align: left; padding-top: 3px; padding-bottom: 3px; padding-left: 1px; padding-right: 1px;\">+</td><td style=\"text-align: left; padding-top: 3px; padding-bottom: 3px; padding-left: 1px; padding-right: 1px;\"><font size=\"3\" face=\"arial\" color=\"black\">13</font></td><td style=\"text-align: left; padding-top: 3px; padding-bottom: 3px; padding-left: 20px; padding-right: 20px;\"></td><td style=\"text-align: left; padding-top: 3px; padding-bottom: 3px; padding-left: 20px; padding-right: 20px;\"></td><td style=\"text-align: right; padding-top: 3px; padding-bottom: 3px; padding-left: 1px; padding-right: 1px;\"><font size=\"3\" face=\"arial\" color=\"black\">2.00</font></td><td style=\"text-align: left; padding-top: 3px; padding-bottom: 3px; padding-left: 20px; padding-right: 20px;\"></td></tr><tr><td style=\"text-align: left; padding-top: 3px; padding-bottom: 3px; padding-left: 1px; padding-right: 1px;\"><font size=\"3\" face=\"arial\" color=\"black\">8.a</font></td><td style=\"text-align: left; padding-top: 3px; padding-bottom: 3px; padding-left: 20px; padding-right: 20px;\"></td><td style=\"text-align: left; padding-top: 3px; padding-bottom: 3px; padding-left: 20px; padding-right: 20px;\"></td><td style=\"text-align: left; padding-top: 3px; padding-bottom: 3px; padding-left: 1px; padding-right: 1px;\"><font size=\"3\" face=\"arial\" color=\"red\">LORETO</font></td><td style=\"text-align: left; padding-top: 3px; padding-bottom: 3px; padding-left: 1px; padding-right: 1px;\"><font size=\"3\" face=\"arial\" color=\"black\">-</font></td><td style=\"text-align: left; padding-top: 3px; padding-bottom: 3px; padding-left: 1px; padding-right: 1px;\"><font size=\"3\" face=\"arial\" color=\"red\">URBANIA</font></td><td style=\"text-align: left; padding-top: 3px; padding-bottom: 3px; padding-left: 20px; padding-right: 20px;\"></td><td style=\"text-align: left; padding-top: 3px; padding-bottom: 3px; padding-left: 1px; padding-right: 1px;\"><font size=\"3\" face=\"arial\" color=\"black\">94</font></td><td style=\"text-align: left; padding-top: 3px; padding-bottom: 3px; padding-left: 1px; padding-right: 1px;\"><font size=\"3\" face=\"arial\" color=\"black\">-</font></td><td style=\"text-align: left; padding-top: 3px; padding-bottom: 3px; padding-left: 1px; padding-right: 1px;\"><font size=\"3\" face=\"arial\" color=\"black\">67</font></td><td style=\"text-align: left; padding-top: 3px; padding-bottom: 3px; padding-left: 20px; padding-right: 20px;\"></td><td style=\"text-align: left; padding-top: 3px; padding-bottom: 3px; padding-left: 1px; padding-right: 1px;\">-</td><td style=\"text-align: left; padding-top: 3px; padding-bottom: 3px; padding-left: 1px; padding-right: 1px;\"><font size=\"3\" face=\"arial\" color=\"black\">27</font></td><td style=\"text-align: left; padding-top: 3px; padding-bottom: 3px; padding-left: 20px; padding-right: 20px;\"></td><td style=\"text-align: left; padding-top: 3px; padding-bottom: 3px; padding-left: 20px; padding-right: 20px;\"></td><td style=\"text-align: right; padding-top: 3px; padding-bottom: 3px; padding-left: 1px; padding-right: 1px;\"><font size=\"3\" face=\"arial\" color=\"black\">18.75</font></td><td style=\"text-align: left; padding-top: 3px; padding-bottom: 3px; padding-left: 20px; padding-right: 20px;\"></td></tr><tr><td style=\"text-align: left; padding-top: 3px; padding-bottom: 3px; padding-left: 1px; padding-right: 1px;\"><font size=\"3\" face=\"arial\" color=\"black\">10.a</font></td><td style=\"text-align: left; padding-top: 3px; padding-bottom: 3px; padding-left: 20px; padding-right: 20px;\"></td><td style=\"text-align: left; padding-top: 3px; padding-bottom: 3px; padding-left: 20px; padding-right: 20px;\"></td><td style=\"text-align: left; padding-top: 3px; padding-bottom: 3px; padding-left: 1px; padding-right: 1px;\"><font size=\"3\" face=\"arial\" color=\"green\">UMBERTIDE</font></td><td style=\"text-align: left; padding-top: 3px; padding-bottom: 3px; padding-left: 1px; padding-right: 1px;\"><font size=\"3\" face=\"arial\" color=\"black\">-</font></td><td style=\"text-align: left; padding-top: 3px; padding-bottom: 3px; padding-left: 1px; padding-right: 1px;\"><font size=\"3\" face=\"arial\" color=\"green\">URBANIA</font></td><td style=\"text-align: left; padding-top: 3px; padding-bottom: 3px; padding-left: 20px; padding-right: 20px;\"></td><td style=\"text-align: left; padding-top: 3px; padding-bottom: 3px; padding-left: 1px; padding-right: 1px;\"><font size=\"3\" face=\"arial\" color=\"black\">59</font></td><td style=\"text-align: left; padding-top: 3px; padding-bottom: 3px; padding-left: 1px; padding-right: 1px;\"><font size=\"3\" face=\"arial\" color=\"black\">-</font></td><td style=\"text-align: left; padding-top: 3px; padding-bottom: 3px; padding-left: 1px; padding-right: 1px;\"><font size=\"3\" face=\"arial\" color=\"black\">86</font></td><td style=\"text-align: left; padding-top: 3px; padding-bottom: 3px; padding-left: 20px; padding-right: 20px;\"></td><td style=\"text-align: left; padding-top: 3px; padding-bottom: 3px; padding-left: 1px; padding-right: 1px;\">+</td><td style=\"text-align: left; padding-top: 3px; padding-bottom: 3px; padding-left: 1px; padding-right: 1px;\"><font size=\"3\" face=\"arial\" color=\"black\">27</font></td><td style=\"text-align: left; padding-top: 3px; padding-bottom: 3px; padding-left: 20px; padding-right: 20px;\"></td><td style=\"text-align: left; padding-top: 3px; padding-bottom: 3px; padding-left: 20px; padding-right: 20px;\"></td><td style=\"text-align: right; padding-top: 3px; padding-bottom: 3px; padding-left: 1px; padding-right: 1px;\"><font size=\"3\" face=\"arial\" color=\"black\">3.75</font></td><td style=\"text-align: left; padding-top: 3px; padding-bottom: 3px; padding-left: 20px; padding-right: 20px;\"></td></tr><tr><td style=\"text-align: left; padding-top: 3px; padding-bottom: 3px; padding-left: 1px; padding-right: 1px;\"><font size=\"3\" face=\"arial\" color=\"black\">11.a</font></td><td style=\"text-align: left; padding-top: 3px; padding-bottom: 3px; padding-left: 20px; padding-right: 20px;\"></td><td style=\"text-align: left; padding-top: 3px; padding-bottom: 3px; padding-left: 20px; padding-right: 20px;\"></td><td style=\"text-align: left; padding-top: 3px; padding-bottom: 3px; padding-left: 1px; padding-right: 1px;\"><font size=\"3\" face=\"arial\" color=\"green\">URBANIA</font></td><td style=\"text-align: left; padding-top: 3px; padding-bottom: 3px; padding-left: 1px; padding-right: 1px;\"><font size=\"3\" face=\"arial\" color=\"black\">-</font></td><td style=\"text-align: left; padding-top: 3px; padding-bottom: 3px; padding-left: 1px; padding-right: 1px;\"><font size=\"3\" face=\"arial\" color=\"green\">OSIMO</font></td><td style=\"text-align: left; padding-top: 3px; padding-bottom: 3px; padding-left: 20px; padding-right: 20px;\"></td><td style=\"text-align: left; padding-top: 3px; padding-bottom: 3px; padding-left: 1px; padding-right: 1px;\"><font size=\"3\" face=\"arial\" color=\"black\">88</font></td><td style=\"text-align: left; padding-top: 3px; padding-bottom: 3px; padding-left: 1px; padding-right: 1px;\"><font size=\"3\" face=\"arial\" color=\"black\">-</font></td><td style=\"text-align: left; padding-top: 3px; padding-bottom: 3px; padding-left: 1px; padding-right: 1px;\"><font size=\"3\" face=\"arial\" color=\"black\">65</font></td><td style=\"text-align: left; padding-top: 3px; padding-bottom: 3px; padding-left: 20px; padding-right: 20px;\"></td><td style=\"text-align: left; padding-top: 3px; padding-bottom: 3px; padding-left: 1px; padding-right: 1px;\">+</td><td style=\"text-align: left; padding-top: 3px; padding-bottom: 3px; padding-left: 1px; padding-right: 1px;\"><font size=\"3\" face=\"arial\" color=\"black\">23</font></td><td style=\"text-align: left; padding-top: 3px; padding-bottom: 3px; padding-left: 20px; padding-right: 20px;\"></td><td style=\"text-align: left; padding-top: 3px; padding-bottom: 3px; padding-left: 20px; padding-right: 20px;\"></td><td style=\"text-align: right; padding-top: 3px; padding-bottom: 3px; padding-left: 1px; padding-right: 1px;\"><font size=\"3\" face=\"arial\" color=\"black\">7.00</font></td><td style=\"text-align: left; padding-top: 3px; padding-bottom: 3px; padding-left: 20px; padding-right: 20px;\"></td></tr><tr><td style=\"text-align: left; padding-top: 3px; padding-bottom: 3px; padding-left: 1px; padding-right: 1px;\"><font size=\"3\" face=\"arial\" color=\"black\">12.a</font></td><td style=\"text-align: left; padding-top: 3px; padding-bottom: 3px; padding-left: 20px; padding-right: 20px;\"></td><td style=\"text-align: left; padding-top: 3px; padding-bottom: 3px; padding-left: 20px; padding-right: 20px;\"></td><td style=\"text-align: left; padding-top: 3px; padding-bottom: 3px; padding-left: 1px; padding-right: 1px;\"><font size=\"3\" face=\"arial\" color=\"green\">FALCONARA</font></td><td style=\"text-align: left; padding-top: 3px; padding-bottom: 3px; padding-left: 1px; padding-right: 1px;\"><font size=\"3\" face=\"arial\" color=\"black\">-</font></td><td style=\"text-align: left; padding-top: 3px; padding-bottom: 3px; padding-left: 1px; padding-right: 1px;\"><font size=\"3\" face=\"arial\" color=\"green\">URBANIA</font></td><td style=\"text-align: left; padding-top: 3px; padding-bottom: 3px; padding-left: 20px; padding-right: 20px;\"></td><td style=\"text-align: left; padding-top: 3px; padding-bottom: 3px; padding-left: 1px; padding-right: 1px;\"><font size=\"3\" face=\"arial\" color=\"black\">63</font></td><td style=\"text-align: left; padding-top: 3px; padding-bottom: 3px; padding-left: 1px; padding-right: 1px;\"><font size=\"3\" face=\"arial\" color=\"black\">-</font></td><td style=\"text-align: left; padding-top: 3px; padding-bottom: 3px; padding-left: 1px; padding-right: 1px;\"><font size=\"3\" face=\"arial\" color=\"black\">69</font></td><td style=\"text-align: left; padding-top: 3px; padding-bottom: 3px; padding-left: 20px; padding-right: 20px;\"></td><td style=\"text-align: left; padding-top: 3px; padding-bottom: 3px; padding-left: 1px; padding-right: 1px;\">+</td><td style=\"text-align: left; padding-top: 3px; padding-bottom: 3px; padding-left: 1px; padding-right: 1px;\"><font size=\"3\" face=\"arial\" color=\"black\">6</font></td><td style=\"text-align: left; padding-top: 3px; padding-bottom: 3px; padding-left: 20px; padding-right: 20px;\"></td><td style=\"text-align: left; padding-top: 3px; padding-bottom: 3px; padding-left: 20px; padding-right: 20px;\"></td><td style=\"text-align: right; padding-top: 3px; padding-bottom: 3px; padding-left: 1px; padding-right: 1px;\"><font size=\"3\" face=\"arial\" color=\"black\">6.25</font></td><td style=\"text-align: left; padding-top: 3px; padding-bottom: 3px; padding-left: 20px; padding-right: 20px;\"></td></tr></table>"
      ],
      "text/plain": [
       "<IPython.core.display.HTML object>"
      ]
     },
     "metadata": {},
     "output_type": "display_data"
    },
    {
     "data": {
      "text/html": [
       "<table><tr><th style=\"text-align: left; padding-top: 3px; padding-bottom: 3px; padding-left: 1px; padding-right: 1px;\" colspan=\"3\"><font size=\"3\" face=\"arial\" color=\"black\">Giornata</font></th><th style=\"text-align: left; padding-top: 3px; padding-bottom: 3px; padding-left: 1px; padding-right: 1px;\" width=\"300px;\" colspan=\"4\"><font size=\"3\" face=\"arial\" color=\"black\">FOSSOMBRONE</font></th><th style=\"text-align: left; padding-top: 3px; padding-bottom: 3px; padding-left: 1px; padding-right: 1px;\" width=\"90px;\" colspan=\"4\"><font size=\"3\" face=\"arial\" color=\"black\">Risultato</font></th><th style=\"text-align: left; padding-top: 3px; padding-bottom: 3px; padding-left: 1px; padding-right: 1px;\" colspan=\"3\"><font size=\"3\" face=\"arial\" color=\"black\">Scarto</font></th><th style=\"text-align: right; padding-top: 3px; padding-bottom: 3px; padding-left: 1px; padding-right: 1px;\" colspan=\"3\"><font size=\"3\" face=\"arial\" color=\"black\">Difficoltà   114.25</font></th></tr><tr><td style=\"text-align: left; padding-top: 3px; padding-bottom: 3px; padding-left: 1px; padding-right: 1px;\"><font size=\"3\" face=\"arial\" color=\"black\">1.a</font></td><td style=\"text-align: left; padding-top: 3px; padding-bottom: 3px; padding-left: 20px; padding-right: 20px;\"></td><td style=\"text-align: left; padding-top: 3px; padding-bottom: 3px; padding-left: 20px; padding-right: 20px;\"></td><td style=\"text-align: left; padding-top: 3px; padding-bottom: 3px; padding-left: 1px; padding-right: 1px;\"><font size=\"3\" face=\"arial\" color=\"green\">FALCONARA</font></td><td style=\"text-align: left; padding-top: 3px; padding-bottom: 3px; padding-left: 1px; padding-right: 1px;\"><font size=\"3\" face=\"arial\" color=\"black\">-</font></td><td style=\"text-align: left; padding-top: 3px; padding-bottom: 3px; padding-left: 1px; padding-right: 1px;\"><font size=\"3\" face=\"arial\" color=\"green\">FOSSOMBRONE</font></td><td style=\"text-align: left; padding-top: 3px; padding-bottom: 3px; padding-left: 20px; padding-right: 20px;\"></td><td style=\"text-align: left; padding-top: 3px; padding-bottom: 3px; padding-left: 1px; padding-right: 1px;\"><font size=\"3\" face=\"arial\" color=\"black\">51</font></td><td style=\"text-align: left; padding-top: 3px; padding-bottom: 3px; padding-left: 1px; padding-right: 1px;\"><font size=\"3\" face=\"arial\" color=\"black\">-</font></td><td style=\"text-align: left; padding-top: 3px; padding-bottom: 3px; padding-left: 1px; padding-right: 1px;\"><font size=\"3\" face=\"arial\" color=\"black\">83</font></td><td style=\"text-align: left; padding-top: 3px; padding-bottom: 3px; padding-left: 20px; padding-right: 20px;\"></td><td style=\"text-align: left; padding-top: 3px; padding-bottom: 3px; padding-left: 1px; padding-right: 1px;\">+</td><td style=\"text-align: left; padding-top: 3px; padding-bottom: 3px; padding-left: 1px; padding-right: 1px;\"><font size=\"3\" face=\"arial\" color=\"black\">32</font></td><td style=\"text-align: left; padding-top: 3px; padding-bottom: 3px; padding-left: 20px; padding-right: 20px;\"></td><td style=\"text-align: left; padding-top: 3px; padding-bottom: 3px; padding-left: 20px; padding-right: 20px;\"></td><td style=\"text-align: right; padding-top: 3px; padding-bottom: 3px; padding-left: 1px; padding-right: 1px;\"><font size=\"3\" face=\"arial\" color=\"black\">6.25</font></td><td style=\"text-align: left; padding-top: 3px; padding-bottom: 3px; padding-left: 20px; padding-right: 20px;\"></td></tr><tr><td style=\"text-align: left; padding-top: 3px; padding-bottom: 3px; padding-left: 1px; padding-right: 1px;\"><font size=\"3\" face=\"arial\" color=\"black\">2.a</font></td><td style=\"text-align: left; padding-top: 3px; padding-bottom: 3px; padding-left: 20px; padding-right: 20px;\"></td><td style=\"text-align: left; padding-top: 3px; padding-bottom: 3px; padding-left: 20px; padding-right: 20px;\"></td><td style=\"text-align: left; padding-top: 3px; padding-bottom: 3px; padding-left: 1px; padding-right: 1px;\"><font size=\"3\" face=\"arial\" color=\"green\">FOSSOMBRONE</font></td><td style=\"text-align: left; padding-top: 3px; padding-bottom: 3px; padding-left: 1px; padding-right: 1px;\"><font size=\"3\" face=\"arial\" color=\"black\">-</font></td><td style=\"text-align: left; padding-top: 3px; padding-bottom: 3px; padding-left: 1px; padding-right: 1px;\"><font size=\"3\" face=\"arial\" color=\"green\">SPOLETO</font></td><td style=\"text-align: left; padding-top: 3px; padding-bottom: 3px; padding-left: 20px; padding-right: 20px;\"></td><td style=\"text-align: left; padding-top: 3px; padding-bottom: 3px; padding-left: 1px; padding-right: 1px;\"><font size=\"3\" face=\"arial\" color=\"black\">89</font></td><td style=\"text-align: left; padding-top: 3px; padding-bottom: 3px; padding-left: 1px; padding-right: 1px;\"><font size=\"3\" face=\"arial\" color=\"black\">-</font></td><td style=\"text-align: left; padding-top: 3px; padding-bottom: 3px; padding-left: 1px; padding-right: 1px;\"><font size=\"3\" face=\"arial\" color=\"black\">52</font></td><td style=\"text-align: left; padding-top: 3px; padding-bottom: 3px; padding-left: 20px; padding-right: 20px;\"></td><td style=\"text-align: left; padding-top: 3px; padding-bottom: 3px; padding-left: 1px; padding-right: 1px;\">+</td><td style=\"text-align: left; padding-top: 3px; padding-bottom: 3px; padding-left: 1px; padding-right: 1px;\"><font size=\"3\" face=\"arial\" color=\"black\">37</font></td><td style=\"text-align: left; padding-top: 3px; padding-bottom: 3px; padding-left: 20px; padding-right: 20px;\"></td><td style=\"text-align: left; padding-top: 3px; padding-bottom: 3px; padding-left: 20px; padding-right: 20px;\"></td><td style=\"text-align: right; padding-top: 3px; padding-bottom: 3px; padding-left: 1px; padding-right: 1px;\"><font size=\"3\" face=\"arial\" color=\"black\">1.00</font></td><td style=\"text-align: left; padding-top: 3px; padding-bottom: 3px; padding-left: 20px; padding-right: 20px;\"></td></tr><tr><td style=\"text-align: left; padding-top: 3px; padding-bottom: 3px; padding-left: 1px; padding-right: 1px;\"><font size=\"3\" face=\"arial\" color=\"black\">3.a</font></td><td style=\"text-align: left; padding-top: 3px; padding-bottom: 3px; padding-left: 20px; padding-right: 20px;\"></td><td style=\"text-align: left; padding-top: 3px; padding-bottom: 3px; padding-left: 20px; padding-right: 20px;\"></td><td style=\"text-align: left; padding-top: 3px; padding-bottom: 3px; padding-left: 1px; padding-right: 1px;\"><font size=\"3\" face=\"arial\" color=\"red\">URBANIA</font></td><td style=\"text-align: left; padding-top: 3px; padding-bottom: 3px; padding-left: 1px; padding-right: 1px;\"><font size=\"3\" face=\"arial\" color=\"black\">-</font></td><td style=\"text-align: left; padding-top: 3px; padding-bottom: 3px; padding-left: 1px; padding-right: 1px;\"><font size=\"3\" face=\"arial\" color=\"red\">FOSSOMBRONE</font></td><td style=\"text-align: left; padding-top: 3px; padding-bottom: 3px; padding-left: 20px; padding-right: 20px;\"></td><td style=\"text-align: left; padding-top: 3px; padding-bottom: 3px; padding-left: 1px; padding-right: 1px;\"><font size=\"3\" face=\"arial\" color=\"black\">75</font></td><td style=\"text-align: left; padding-top: 3px; padding-bottom: 3px; padding-left: 1px; padding-right: 1px;\"><font size=\"3\" face=\"arial\" color=\"black\">-</font></td><td style=\"text-align: left; padding-top: 3px; padding-bottom: 3px; padding-left: 1px; padding-right: 1px;\"><font size=\"3\" face=\"arial\" color=\"black\">64</font></td><td style=\"text-align: left; padding-top: 3px; padding-bottom: 3px; padding-left: 20px; padding-right: 20px;\"></td><td style=\"text-align: left; padding-top: 3px; padding-bottom: 3px; padding-left: 1px; padding-right: 1px;\">-</td><td style=\"text-align: left; padding-top: 3px; padding-bottom: 3px; padding-left: 1px; padding-right: 1px;\"><font size=\"3\" face=\"arial\" color=\"black\">11</font></td><td style=\"text-align: left; padding-top: 3px; padding-bottom: 3px; padding-left: 20px; padding-right: 20px;\"></td><td style=\"text-align: left; padding-top: 3px; padding-bottom: 3px; padding-left: 20px; padding-right: 20px;\"></td><td style=\"text-align: right; padding-top: 3px; padding-bottom: 3px; padding-left: 1px; padding-right: 1px;\"><font size=\"3\" face=\"arial\" color=\"black\">17.50</font></td><td style=\"text-align: left; padding-top: 3px; padding-bottom: 3px; padding-left: 20px; padding-right: 20px;\"></td></tr><tr><td style=\"text-align: left; padding-top: 3px; padding-bottom: 3px; padding-left: 1px; padding-right: 1px;\"><font size=\"3\" face=\"arial\" color=\"black\">4.a</font></td><td style=\"text-align: left; padding-top: 3px; padding-bottom: 3px; padding-left: 20px; padding-right: 20px;\"></td><td style=\"text-align: left; padding-top: 3px; padding-bottom: 3px; padding-left: 20px; padding-right: 20px;\"></td><td style=\"text-align: left; padding-top: 3px; padding-bottom: 3px; padding-left: 1px; padding-right: 1px;\"><font size=\"3\" face=\"arial\" color=\"green\">FOSSOMBRONE</font></td><td style=\"text-align: left; padding-top: 3px; padding-bottom: 3px; padding-left: 1px; padding-right: 1px;\"><font size=\"3\" face=\"arial\" color=\"black\">-</font></td><td style=\"text-align: left; padding-top: 3px; padding-bottom: 3px; padding-left: 1px; padding-right: 1px;\"><font size=\"3\" face=\"arial\" color=\"green\">ASCOLI</font></td><td style=\"text-align: left; padding-top: 3px; padding-bottom: 3px; padding-left: 20px; padding-right: 20px;\"></td><td style=\"text-align: left; padding-top: 3px; padding-bottom: 3px; padding-left: 1px; padding-right: 1px;\"><font size=\"3\" face=\"arial\" color=\"black\">80</font></td><td style=\"text-align: left; padding-top: 3px; padding-bottom: 3px; padding-left: 1px; padding-right: 1px;\"><font size=\"3\" face=\"arial\" color=\"black\">-</font></td><td style=\"text-align: left; padding-top: 3px; padding-bottom: 3px; padding-left: 1px; padding-right: 1px;\"><font size=\"3\" face=\"arial\" color=\"black\">70</font></td><td style=\"text-align: left; padding-top: 3px; padding-bottom: 3px; padding-left: 20px; padding-right: 20px;\"></td><td style=\"text-align: left; padding-top: 3px; padding-bottom: 3px; padding-left: 1px; padding-right: 1px;\">+</td><td style=\"text-align: left; padding-top: 3px; padding-bottom: 3px; padding-left: 1px; padding-right: 1px;\"><font size=\"3\" face=\"arial\" color=\"black\">10</font></td><td style=\"text-align: left; padding-top: 3px; padding-bottom: 3px; padding-left: 20px; padding-right: 20px;\"></td><td style=\"text-align: left; padding-top: 3px; padding-bottom: 3px; padding-left: 20px; padding-right: 20px;\"></td><td style=\"text-align: right; padding-top: 3px; padding-bottom: 3px; padding-left: 1px; padding-right: 1px;\"><font size=\"3\" face=\"arial\" color=\"black\">4.00</font></td><td style=\"text-align: left; padding-top: 3px; padding-bottom: 3px; padding-left: 20px; padding-right: 20px;\"></td></tr><tr><td style=\"text-align: left; padding-top: 3px; padding-bottom: 3px; padding-left: 1px; padding-right: 1px;\"><font size=\"3\" face=\"arial\" color=\"black\">5.a</font></td><td style=\"text-align: left; padding-top: 3px; padding-bottom: 3px; padding-left: 20px; padding-right: 20px;\"></td><td style=\"text-align: left; padding-top: 3px; padding-bottom: 3px; padding-left: 20px; padding-right: 20px;\"></td><td style=\"text-align: left; padding-top: 3px; padding-bottom: 3px; padding-left: 1px; padding-right: 1px;\"><font size=\"3\" face=\"arial\" color=\"red\">SAN MARINO</font></td><td style=\"text-align: left; padding-top: 3px; padding-bottom: 3px; padding-left: 1px; padding-right: 1px;\"><font size=\"3\" face=\"arial\" color=\"black\">-</font></td><td style=\"text-align: left; padding-top: 3px; padding-bottom: 3px; padding-left: 1px; padding-right: 1px;\"><font size=\"3\" face=\"arial\" color=\"red\">FOSSOMBRONE</font></td><td style=\"text-align: left; padding-top: 3px; padding-bottom: 3px; padding-left: 20px; padding-right: 20px;\"></td><td style=\"text-align: left; padding-top: 3px; padding-bottom: 3px; padding-left: 1px; padding-right: 1px;\"><font size=\"3\" face=\"arial\" color=\"black\">67</font></td><td style=\"text-align: left; padding-top: 3px; padding-bottom: 3px; padding-left: 1px; padding-right: 1px;\"><font size=\"3\" face=\"arial\" color=\"black\">-</font></td><td style=\"text-align: left; padding-top: 3px; padding-bottom: 3px; padding-left: 1px; padding-right: 1px;\"><font size=\"3\" face=\"arial\" color=\"black\">63</font></td><td style=\"text-align: left; padding-top: 3px; padding-bottom: 3px; padding-left: 20px; padding-right: 20px;\"></td><td style=\"text-align: left; padding-top: 3px; padding-bottom: 3px; padding-left: 1px; padding-right: 1px;\">-</td><td style=\"text-align: left; padding-top: 3px; padding-bottom: 3px; padding-left: 1px; padding-right: 1px;\"><font size=\"3\" face=\"arial\" color=\"black\">4</font></td><td style=\"text-align: left; padding-top: 3px; padding-bottom: 3px; padding-left: 20px; padding-right: 20px;\"></td><td style=\"text-align: left; padding-top: 3px; padding-bottom: 3px; padding-left: 20px; padding-right: 20px;\"></td><td style=\"text-align: right; padding-top: 3px; padding-bottom: 3px; padding-left: 1px; padding-right: 1px;\"><font size=\"3\" face=\"arial\" color=\"black\">12.50</font></td><td style=\"text-align: left; padding-top: 3px; padding-bottom: 3px; padding-left: 20px; padding-right: 20px;\"></td></tr><tr><td style=\"text-align: left; padding-top: 3px; padding-bottom: 3px; padding-left: 1px; padding-right: 1px;\"><font size=\"3\" face=\"arial\" color=\"black\">6.a</font></td><td style=\"text-align: left; padding-top: 3px; padding-bottom: 3px; padding-left: 20px; padding-right: 20px;\"></td><td style=\"text-align: left; padding-top: 3px; padding-bottom: 3px; padding-left: 20px; padding-right: 20px;\"></td><td style=\"text-align: left; padding-top: 3px; padding-bottom: 3px; padding-left: 1px; padding-right: 1px;\"><font size=\"3\" face=\"arial\" color=\"green\">FOSSOMBRONE</font></td><td style=\"text-align: left; padding-top: 3px; padding-bottom: 3px; padding-left: 1px; padding-right: 1px;\"><font size=\"3\" face=\"arial\" color=\"black\">-</font></td><td style=\"text-align: left; padding-top: 3px; padding-bottom: 3px; padding-left: 1px; padding-right: 1px;\"><font size=\"3\" face=\"arial\" color=\"green\">GUALDO</font></td><td style=\"text-align: left; padding-top: 3px; padding-bottom: 3px; padding-left: 20px; padding-right: 20px;\"></td><td style=\"text-align: left; padding-top: 3px; padding-bottom: 3px; padding-left: 1px; padding-right: 1px;\"><font size=\"3\" face=\"arial\" color=\"black\">79</font></td><td style=\"text-align: left; padding-top: 3px; padding-bottom: 3px; padding-left: 1px; padding-right: 1px;\"><font size=\"3\" face=\"arial\" color=\"black\">-</font></td><td style=\"text-align: left; padding-top: 3px; padding-bottom: 3px; padding-left: 1px; padding-right: 1px;\"><font size=\"3\" face=\"arial\" color=\"black\">60</font></td><td style=\"text-align: left; padding-top: 3px; padding-bottom: 3px; padding-left: 20px; padding-right: 20px;\"></td><td style=\"text-align: left; padding-top: 3px; padding-bottom: 3px; padding-left: 1px; padding-right: 1px;\">+</td><td style=\"text-align: left; padding-top: 3px; padding-bottom: 3px; padding-left: 1px; padding-right: 1px;\"><font size=\"3\" face=\"arial\" color=\"black\">19</font></td><td style=\"text-align: left; padding-top: 3px; padding-bottom: 3px; padding-left: 20px; padding-right: 20px;\"></td><td style=\"text-align: left; padding-top: 3px; padding-bottom: 3px; padding-left: 20px; padding-right: 20px;\"></td><td style=\"text-align: right; padding-top: 3px; padding-bottom: 3px; padding-left: 1px; padding-right: 1px;\"><font size=\"3\" face=\"arial\" color=\"black\">9.00</font></td><td style=\"text-align: left; padding-top: 3px; padding-bottom: 3px; padding-left: 20px; padding-right: 20px;\"></td></tr><tr><td style=\"text-align: left; padding-top: 3px; padding-bottom: 3px; padding-left: 1px; padding-right: 1px;\"><font size=\"3\" face=\"arial\" color=\"black\">7.a</font></td><td style=\"text-align: left; padding-top: 3px; padding-bottom: 3px; padding-left: 20px; padding-right: 20px;\"></td><td style=\"text-align: left; padding-top: 3px; padding-bottom: 3px; padding-left: 20px; padding-right: 20px;\"></td><td style=\"text-align: left; padding-top: 3px; padding-bottom: 3px; padding-left: 1px; padding-right: 1px;\"><font size=\"3\" face=\"arial\" color=\"green\">TOLENTINO</font></td><td style=\"text-align: left; padding-top: 3px; padding-bottom: 3px; padding-left: 1px; padding-right: 1px;\"><font size=\"3\" face=\"arial\" color=\"black\">-</font></td><td style=\"text-align: left; padding-top: 3px; padding-bottom: 3px; padding-left: 1px; padding-right: 1px;\"><font size=\"3\" face=\"arial\" color=\"green\">FOSSOMBRONE</font></td><td style=\"text-align: left; padding-top: 3px; padding-bottom: 3px; padding-left: 20px; padding-right: 20px;\"></td><td style=\"text-align: left; padding-top: 3px; padding-bottom: 3px; padding-left: 1px; padding-right: 1px;\"><font size=\"3\" face=\"arial\" color=\"black\">55</font></td><td style=\"text-align: left; padding-top: 3px; padding-bottom: 3px; padding-left: 1px; padding-right: 1px;\"><font size=\"3\" face=\"arial\" color=\"black\">-</font></td><td style=\"text-align: left; padding-top: 3px; padding-bottom: 3px; padding-left: 1px; padding-right: 1px;\"><font size=\"3\" face=\"arial\" color=\"black\">68</font></td><td style=\"text-align: left; padding-top: 3px; padding-bottom: 3px; padding-left: 20px; padding-right: 20px;\"></td><td style=\"text-align: left; padding-top: 3px; padding-bottom: 3px; padding-left: 1px; padding-right: 1px;\">+</td><td style=\"text-align: left; padding-top: 3px; padding-bottom: 3px; padding-left: 1px; padding-right: 1px;\"><font size=\"3\" face=\"arial\" color=\"black\">13</font></td><td style=\"text-align: left; padding-top: 3px; padding-bottom: 3px; padding-left: 20px; padding-right: 20px;\"></td><td style=\"text-align: left; padding-top: 3px; padding-bottom: 3px; padding-left: 20px; padding-right: 20px;\"></td><td style=\"text-align: right; padding-top: 3px; padding-bottom: 3px; padding-left: 1px; padding-right: 1px;\"><font size=\"3\" face=\"arial\" color=\"black\">7.50</font></td><td style=\"text-align: left; padding-top: 3px; padding-bottom: 3px; padding-left: 20px; padding-right: 20px;\"></td></tr><tr><td style=\"text-align: left; padding-top: 3px; padding-bottom: 3px; padding-left: 1px; padding-right: 1px;\"><font size=\"3\" face=\"arial\" color=\"black\">8.a</font></td><td style=\"text-align: left; padding-top: 3px; padding-bottom: 3px; padding-left: 20px; padding-right: 20px;\"></td><td style=\"text-align: left; padding-top: 3px; padding-bottom: 3px; padding-left: 20px; padding-right: 20px;\"></td><td style=\"text-align: left; padding-top: 3px; padding-bottom: 3px; padding-left: 1px; padding-right: 1px;\"><font size=\"3\" face=\"arial\" color=\"green\">RECANATI</font></td><td style=\"text-align: left; padding-top: 3px; padding-bottom: 3px; padding-left: 1px; padding-right: 1px;\"><font size=\"3\" face=\"arial\" color=\"black\">-</font></td><td style=\"text-align: left; padding-top: 3px; padding-bottom: 3px; padding-left: 1px; padding-right: 1px;\"><font size=\"3\" face=\"arial\" color=\"green\">FOSSOMBRONE</font></td><td style=\"text-align: left; padding-top: 3px; padding-bottom: 3px; padding-left: 20px; padding-right: 20px;\"></td><td style=\"text-align: left; padding-top: 3px; padding-bottom: 3px; padding-left: 1px; padding-right: 1px;\"><font size=\"3\" face=\"arial\" color=\"black\">80</font></td><td style=\"text-align: left; padding-top: 3px; padding-bottom: 3px; padding-left: 1px; padding-right: 1px;\"><font size=\"3\" face=\"arial\" color=\"black\">-</font></td><td style=\"text-align: left; padding-top: 3px; padding-bottom: 3px; padding-left: 1px; padding-right: 1px;\"><font size=\"3\" face=\"arial\" color=\"black\">83</font></td><td style=\"text-align: left; padding-top: 3px; padding-bottom: 3px; padding-left: 20px; padding-right: 20px;\"></td><td style=\"text-align: left; padding-top: 3px; padding-bottom: 3px; padding-left: 1px; padding-right: 1px;\">+</td><td style=\"text-align: left; padding-top: 3px; padding-bottom: 3px; padding-left: 1px; padding-right: 1px;\"><font size=\"3\" face=\"arial\" color=\"black\">3</font></td><td style=\"text-align: left; padding-top: 3px; padding-bottom: 3px; padding-left: 20px; padding-right: 20px;\"></td><td style=\"text-align: left; padding-top: 3px; padding-bottom: 3px; padding-left: 20px; padding-right: 20px;\"></td><td style=\"text-align: right; padding-top: 3px; padding-bottom: 3px; padding-left: 1px; padding-right: 1px;\"><font size=\"3\" face=\"arial\" color=\"black\">13.75</font></td><td style=\"text-align: left; padding-top: 3px; padding-bottom: 3px; padding-left: 20px; padding-right: 20px;\"></td></tr><tr><td style=\"text-align: left; padding-top: 3px; padding-bottom: 3px; padding-left: 1px; padding-right: 1px;\"><font size=\"3\" face=\"arial\" color=\"black\">9.a</font></td><td style=\"text-align: left; padding-top: 3px; padding-bottom: 3px; padding-left: 20px; padding-right: 20px;\"></td><td style=\"text-align: left; padding-top: 3px; padding-bottom: 3px; padding-left: 20px; padding-right: 20px;\"></td><td style=\"text-align: left; padding-top: 3px; padding-bottom: 3px; padding-left: 1px; padding-right: 1px;\"><font size=\"3\" face=\"arial\" color=\"green\">FOSSOMBRONE</font></td><td style=\"text-align: left; padding-top: 3px; padding-bottom: 3px; padding-left: 1px; padding-right: 1px;\"><font size=\"3\" face=\"arial\" color=\"black\">-</font></td><td style=\"text-align: left; padding-top: 3px; padding-bottom: 3px; padding-left: 1px; padding-right: 1px;\"><font size=\"3\" face=\"arial\" color=\"green\">PERUGIA</font></td><td style=\"text-align: left; padding-top: 3px; padding-bottom: 3px; padding-left: 20px; padding-right: 20px;\"></td><td style=\"text-align: left; padding-top: 3px; padding-bottom: 3px; padding-left: 1px; padding-right: 1px;\"><font size=\"3\" face=\"arial\" color=\"black\">98</font></td><td style=\"text-align: left; padding-top: 3px; padding-bottom: 3px; padding-left: 1px; padding-right: 1px;\"><font size=\"3\" face=\"arial\" color=\"black\">-</font></td><td style=\"text-align: left; padding-top: 3px; padding-bottom: 3px; padding-left: 1px; padding-right: 1px;\"><font size=\"3\" face=\"arial\" color=\"black\">57</font></td><td style=\"text-align: left; padding-top: 3px; padding-bottom: 3px; padding-left: 20px; padding-right: 20px;\"></td><td style=\"text-align: left; padding-top: 3px; padding-bottom: 3px; padding-left: 1px; padding-right: 1px;\">+</td><td style=\"text-align: left; padding-top: 3px; padding-bottom: 3px; padding-left: 1px; padding-right: 1px;\"><font size=\"3\" face=\"arial\" color=\"black\">41</font></td><td style=\"text-align: left; padding-top: 3px; padding-bottom: 3px; padding-left: 20px; padding-right: 20px;\"></td><td style=\"text-align: left; padding-top: 3px; padding-bottom: 3px; padding-left: 20px; padding-right: 20px;\"></td><td style=\"text-align: right; padding-top: 3px; padding-bottom: 3px; padding-left: 1px; padding-right: 1px;\"><font size=\"3\" face=\"arial\" color=\"black\">12.00</font></td><td style=\"text-align: left; padding-top: 3px; padding-bottom: 3px; padding-left: 20px; padding-right: 20px;\"></td></tr><tr><td style=\"text-align: left; padding-top: 3px; padding-bottom: 3px; padding-left: 1px; padding-right: 1px;\"><font size=\"3\" face=\"arial\" color=\"black\">10.a</font></td><td style=\"text-align: left; padding-top: 3px; padding-bottom: 3px; padding-left: 20px; padding-right: 20px;\"></td><td style=\"text-align: left; padding-top: 3px; padding-bottom: 3px; padding-left: 20px; padding-right: 20px;\"></td><td style=\"text-align: left; padding-top: 3px; padding-bottom: 3px; padding-left: 1px; padding-right: 1px;\"><font size=\"3\" face=\"arial\" color=\"red\">P.S. GIORGIO</font></td><td style=\"text-align: left; padding-top: 3px; padding-bottom: 3px; padding-left: 1px; padding-right: 1px;\"><font size=\"3\" face=\"arial\" color=\"black\">-</font></td><td style=\"text-align: left; padding-top: 3px; padding-bottom: 3px; padding-left: 1px; padding-right: 1px;\"><font size=\"3\" face=\"arial\" color=\"red\">FOSSOMBRONE</font></td><td style=\"text-align: left; padding-top: 3px; padding-bottom: 3px; padding-left: 20px; padding-right: 20px;\"></td><td style=\"text-align: left; padding-top: 3px; padding-bottom: 3px; padding-left: 1px; padding-right: 1px;\"><font size=\"3\" face=\"arial\" color=\"black\">84</font></td><td style=\"text-align: left; padding-top: 3px; padding-bottom: 3px; padding-left: 1px; padding-right: 1px;\"><font size=\"3\" face=\"arial\" color=\"black\">-</font></td><td style=\"text-align: left; padding-top: 3px; padding-bottom: 3px; padding-left: 1px; padding-right: 1px;\"><font size=\"3\" face=\"arial\" color=\"black\">78</font></td><td style=\"text-align: left; padding-top: 3px; padding-bottom: 3px; padding-left: 20px; padding-right: 20px;\"></td><td style=\"text-align: left; padding-top: 3px; padding-bottom: 3px; padding-left: 1px; padding-right: 1px;\">-</td><td style=\"text-align: left; padding-top: 3px; padding-bottom: 3px; padding-left: 1px; padding-right: 1px;\"><font size=\"3\" face=\"arial\" color=\"black\">6</font></td><td style=\"text-align: left; padding-top: 3px; padding-bottom: 3px; padding-left: 20px; padding-right: 20px;\"></td><td style=\"text-align: left; padding-top: 3px; padding-bottom: 3px; padding-left: 20px; padding-right: 20px;\"></td><td style=\"text-align: right; padding-top: 3px; padding-bottom: 3px; padding-left: 1px; padding-right: 1px;\"><font size=\"3\" face=\"arial\" color=\"black\">10.00</font></td><td style=\"text-align: left; padding-top: 3px; padding-bottom: 3px; padding-left: 20px; padding-right: 20px;\"></td></tr><tr><td style=\"text-align: left; padding-top: 3px; padding-bottom: 3px; padding-left: 1px; padding-right: 1px;\"><font size=\"3\" face=\"arial\" color=\"black\">11.a</font></td><td style=\"text-align: left; padding-top: 3px; padding-bottom: 3px; padding-left: 20px; padding-right: 20px;\"></td><td style=\"text-align: left; padding-top: 3px; padding-bottom: 3px; padding-left: 20px; padding-right: 20px;\"></td><td style=\"text-align: left; padding-top: 3px; padding-bottom: 3px; padding-left: 1px; padding-right: 1px;\"><font size=\"3\" face=\"arial\" color=\"green\">FOSSOMBRONE</font></td><td style=\"text-align: left; padding-top: 3px; padding-bottom: 3px; padding-left: 1px; padding-right: 1px;\"><font size=\"3\" face=\"arial\" color=\"black\">-</font></td><td style=\"text-align: left; padding-top: 3px; padding-bottom: 3px; padding-left: 1px; padding-right: 1px;\"><font size=\"3\" face=\"arial\" color=\"green\">BASKET GIOVANE</font></td><td style=\"text-align: left; padding-top: 3px; padding-bottom: 3px; padding-left: 20px; padding-right: 20px;\"></td><td style=\"text-align: left; padding-top: 3px; padding-bottom: 3px; padding-left: 1px; padding-right: 1px;\"><font size=\"3\" face=\"arial\" color=\"black\">81</font></td><td style=\"text-align: left; padding-top: 3px; padding-bottom: 3px; padding-left: 1px; padding-right: 1px;\"><font size=\"3\" face=\"arial\" color=\"black\">-</font></td><td style=\"text-align: left; padding-top: 3px; padding-bottom: 3px; padding-left: 1px; padding-right: 1px;\"><font size=\"3\" face=\"arial\" color=\"black\">52</font></td><td style=\"text-align: left; padding-top: 3px; padding-bottom: 3px; padding-left: 20px; padding-right: 20px;\"></td><td style=\"text-align: left; padding-top: 3px; padding-bottom: 3px; padding-left: 1px; padding-right: 1px;\">+</td><td style=\"text-align: left; padding-top: 3px; padding-bottom: 3px; padding-left: 1px; padding-right: 1px;\"><font size=\"3\" face=\"arial\" color=\"black\">29</font></td><td style=\"text-align: left; padding-top: 3px; padding-bottom: 3px; padding-left: 20px; padding-right: 20px;\"></td><td style=\"text-align: left; padding-top: 3px; padding-bottom: 3px; padding-left: 20px; padding-right: 20px;\"></td><td style=\"text-align: right; padding-top: 3px; padding-bottom: 3px; padding-left: 1px; padding-right: 1px;\"><font size=\"3\" face=\"arial\" color=\"black\">2.00</font></td><td style=\"text-align: left; padding-top: 3px; padding-bottom: 3px; padding-left: 20px; padding-right: 20px;\"></td></tr><tr><td style=\"text-align: left; padding-top: 3px; padding-bottom: 3px; padding-left: 1px; padding-right: 1px;\"><font size=\"3\" face=\"arial\" color=\"black\">12.a</font></td><td style=\"text-align: left; padding-top: 3px; padding-bottom: 3px; padding-left: 20px; padding-right: 20px;\"></td><td style=\"text-align: left; padding-top: 3px; padding-bottom: 3px; padding-left: 20px; padding-right: 20px;\"></td><td style=\"text-align: left; padding-top: 3px; padding-bottom: 3px; padding-left: 1px; padding-right: 1px;\"><font size=\"3\" face=\"arial\" color=\"red\">LORETO</font></td><td style=\"text-align: left; padding-top: 3px; padding-bottom: 3px; padding-left: 1px; padding-right: 1px;\"><font size=\"3\" face=\"arial\" color=\"black\">-</font></td><td style=\"text-align: left; padding-top: 3px; padding-bottom: 3px; padding-left: 1px; padding-right: 1px;\"><font size=\"3\" face=\"arial\" color=\"red\">FOSSOMBRONE</font></td><td style=\"text-align: left; padding-top: 3px; padding-bottom: 3px; padding-left: 20px; padding-right: 20px;\"></td><td style=\"text-align: left; padding-top: 3px; padding-bottom: 3px; padding-left: 1px; padding-right: 1px;\"><font size=\"3\" face=\"arial\" color=\"black\">80</font></td><td style=\"text-align: left; padding-top: 3px; padding-bottom: 3px; padding-left: 1px; padding-right: 1px;\"><font size=\"3\" face=\"arial\" color=\"black\">-</font></td><td style=\"text-align: left; padding-top: 3px; padding-bottom: 3px; padding-left: 1px; padding-right: 1px;\"><font size=\"3\" face=\"arial\" color=\"black\">70</font></td><td style=\"text-align: left; padding-top: 3px; padding-bottom: 3px; padding-left: 20px; padding-right: 20px;\"></td><td style=\"text-align: left; padding-top: 3px; padding-bottom: 3px; padding-left: 1px; padding-right: 1px;\">-</td><td style=\"text-align: left; padding-top: 3px; padding-bottom: 3px; padding-left: 1px; padding-right: 1px;\"><font size=\"3\" face=\"arial\" color=\"black\">10</font></td><td style=\"text-align: left; padding-top: 3px; padding-bottom: 3px; padding-left: 20px; padding-right: 20px;\"></td><td style=\"text-align: left; padding-top: 3px; padding-bottom: 3px; padding-left: 20px; padding-right: 20px;\"></td><td style=\"text-align: right; padding-top: 3px; padding-bottom: 3px; padding-left: 1px; padding-right: 1px;\"><font size=\"3\" face=\"arial\" color=\"black\">18.75</font></td><td style=\"text-align: left; padding-top: 3px; padding-bottom: 3px; padding-left: 20px; padding-right: 20px;\"></td></tr></table>"
      ],
      "text/plain": [
       "<IPython.core.display.HTML object>"
      ]
     },
     "metadata": {},
     "output_type": "display_data"
    },
    {
     "data": {
      "text/html": [
       "<table><tr><th style=\"text-align: left; padding-top: 3px; padding-bottom: 3px; padding-left: 1px; padding-right: 1px;\" colspan=\"3\"><font size=\"3\" face=\"arial\" color=\"black\">Giornata</font></th><th style=\"text-align: left; padding-top: 3px; padding-bottom: 3px; padding-left: 1px; padding-right: 1px;\" width=\"300px;\" colspan=\"4\"><font size=\"3\" face=\"arial\" color=\"black\">PERUGIA</font></th><th style=\"text-align: left; padding-top: 3px; padding-bottom: 3px; padding-left: 1px; padding-right: 1px;\" width=\"90px;\" colspan=\"4\"><font size=\"3\" face=\"arial\" color=\"black\">Risultato</font></th><th style=\"text-align: left; padding-top: 3px; padding-bottom: 3px; padding-left: 1px; padding-right: 1px;\" colspan=\"3\"><font size=\"3\" face=\"arial\" color=\"black\">Scarto</font></th><th style=\"text-align: right; padding-top: 3px; padding-bottom: 3px; padding-left: 1px; padding-right: 1px;\" colspan=\"3\"><font size=\"3\" face=\"arial\" color=\"black\">Difficoltà   105.75</font></th></tr><tr><td style=\"text-align: left; padding-top: 3px; padding-bottom: 3px; padding-left: 1px; padding-right: 1px;\"><font size=\"3\" face=\"arial\" color=\"black\">1.a</font></td><td style=\"text-align: left; padding-top: 3px; padding-bottom: 3px; padding-left: 20px; padding-right: 20px;\"></td><td style=\"text-align: left; padding-top: 3px; padding-bottom: 3px; padding-left: 20px; padding-right: 20px;\"></td><td style=\"text-align: left; padding-top: 3px; padding-bottom: 3px; padding-left: 1px; padding-right: 1px;\"><font size=\"3\" face=\"arial\" color=\"green\">UMBERTIDE</font></td><td style=\"text-align: left; padding-top: 3px; padding-bottom: 3px; padding-left: 1px; padding-right: 1px;\"><font size=\"3\" face=\"arial\" color=\"black\">-</font></td><td style=\"text-align: left; padding-top: 3px; padding-bottom: 3px; padding-left: 1px; padding-right: 1px;\"><font size=\"3\" face=\"arial\" color=\"green\">PERUGIA</font></td><td style=\"text-align: left; padding-top: 3px; padding-bottom: 3px; padding-left: 20px; padding-right: 20px;\"></td><td style=\"text-align: left; padding-top: 3px; padding-bottom: 3px; padding-left: 1px; padding-right: 1px;\"><font size=\"3\" face=\"arial\" color=\"black\">68</font></td><td style=\"text-align: left; padding-top: 3px; padding-bottom: 3px; padding-left: 1px; padding-right: 1px;\"><font size=\"3\" face=\"arial\" color=\"black\">-</font></td><td style=\"text-align: left; padding-top: 3px; padding-bottom: 3px; padding-left: 1px; padding-right: 1px;\"><font size=\"3\" face=\"arial\" color=\"black\">78</font></td><td style=\"text-align: left; padding-top: 3px; padding-bottom: 3px; padding-left: 20px; padding-right: 20px;\"></td><td style=\"text-align: left; padding-top: 3px; padding-bottom: 3px; padding-left: 1px; padding-right: 1px;\">+</td><td style=\"text-align: left; padding-top: 3px; padding-bottom: 3px; padding-left: 1px; padding-right: 1px;\"><font size=\"3\" face=\"arial\" color=\"black\">10</font></td><td style=\"text-align: left; padding-top: 3px; padding-bottom: 3px; padding-left: 20px; padding-right: 20px;\"></td><td style=\"text-align: left; padding-top: 3px; padding-bottom: 3px; padding-left: 20px; padding-right: 20px;\"></td><td style=\"text-align: right; padding-top: 3px; padding-bottom: 3px; padding-left: 1px; padding-right: 1px;\"><font size=\"3\" face=\"arial\" color=\"black\">3.75</font></td><td style=\"text-align: left; padding-top: 3px; padding-bottom: 3px; padding-left: 20px; padding-right: 20px;\"></td></tr><tr><td style=\"text-align: left; padding-top: 3px; padding-bottom: 3px; padding-left: 1px; padding-right: 1px;\"><font size=\"3\" face=\"arial\" color=\"black\">2.a</font></td><td style=\"text-align: left; padding-top: 3px; padding-bottom: 3px; padding-left: 20px; padding-right: 20px;\"></td><td style=\"text-align: left; padding-top: 3px; padding-bottom: 3px; padding-left: 20px; padding-right: 20px;\"></td><td style=\"text-align: left; padding-top: 3px; padding-bottom: 3px; padding-left: 1px; padding-right: 1px;\"><font size=\"3\" face=\"arial\" color=\"green\">PERUGIA</font></td><td style=\"text-align: left; padding-top: 3px; padding-bottom: 3px; padding-left: 1px; padding-right: 1px;\"><font size=\"3\" face=\"arial\" color=\"black\">-</font></td><td style=\"text-align: left; padding-top: 3px; padding-bottom: 3px; padding-left: 1px; padding-right: 1px;\"><font size=\"3\" face=\"arial\" color=\"green\">OSIMO</font></td><td style=\"text-align: left; padding-top: 3px; padding-bottom: 3px; padding-left: 20px; padding-right: 20px;\"></td><td style=\"text-align: left; padding-top: 3px; padding-bottom: 3px; padding-left: 1px; padding-right: 1px;\"><font size=\"3\" face=\"arial\" color=\"black\">74</font></td><td style=\"text-align: left; padding-top: 3px; padding-bottom: 3px; padding-left: 1px; padding-right: 1px;\"><font size=\"3\" face=\"arial\" color=\"black\">-</font></td><td style=\"text-align: left; padding-top: 3px; padding-bottom: 3px; padding-left: 1px; padding-right: 1px;\"><font size=\"3\" face=\"arial\" color=\"black\">54</font></td><td style=\"text-align: left; padding-top: 3px; padding-bottom: 3px; padding-left: 20px; padding-right: 20px;\"></td><td style=\"text-align: left; padding-top: 3px; padding-bottom: 3px; padding-left: 1px; padding-right: 1px;\">+</td><td style=\"text-align: left; padding-top: 3px; padding-bottom: 3px; padding-left: 1px; padding-right: 1px;\"><font size=\"3\" face=\"arial\" color=\"black\">20</font></td><td style=\"text-align: left; padding-top: 3px; padding-bottom: 3px; padding-left: 20px; padding-right: 20px;\"></td><td style=\"text-align: left; padding-top: 3px; padding-bottom: 3px; padding-left: 20px; padding-right: 20px;\"></td><td style=\"text-align: right; padding-top: 3px; padding-bottom: 3px; padding-left: 1px; padding-right: 1px;\"><font size=\"3\" face=\"arial\" color=\"black\">7.00</font></td><td style=\"text-align: left; padding-top: 3px; padding-bottom: 3px; padding-left: 20px; padding-right: 20px;\"></td></tr><tr><td style=\"text-align: left; padding-top: 3px; padding-bottom: 3px; padding-left: 1px; padding-right: 1px;\"><font size=\"3\" face=\"arial\" color=\"black\">3.a</font></td><td style=\"text-align: left; padding-top: 3px; padding-bottom: 3px; padding-left: 20px; padding-right: 20px;\"></td><td style=\"text-align: left; padding-top: 3px; padding-bottom: 3px; padding-left: 20px; padding-right: 20px;\"></td><td style=\"text-align: left; padding-top: 3px; padding-bottom: 3px; padding-left: 1px; padding-right: 1px;\"><font size=\"3\" face=\"arial\" color=\"green\">FALCONARA</font></td><td style=\"text-align: left; padding-top: 3px; padding-bottom: 3px; padding-left: 1px; padding-right: 1px;\"><font size=\"3\" face=\"arial\" color=\"black\">-</font></td><td style=\"text-align: left; padding-top: 3px; padding-bottom: 3px; padding-left: 1px; padding-right: 1px;\"><font size=\"3\" face=\"arial\" color=\"green\">PERUGIA</font></td><td style=\"text-align: left; padding-top: 3px; padding-bottom: 3px; padding-left: 20px; padding-right: 20px;\"></td><td style=\"text-align: left; padding-top: 3px; padding-bottom: 3px; padding-left: 1px; padding-right: 1px;\"><font size=\"3\" face=\"arial\" color=\"black\">62</font></td><td style=\"text-align: left; padding-top: 3px; padding-bottom: 3px; padding-left: 1px; padding-right: 1px;\"><font size=\"3\" face=\"arial\" color=\"black\">-</font></td><td style=\"text-align: left; padding-top: 3px; padding-bottom: 3px; padding-left: 1px; padding-right: 1px;\"><font size=\"3\" face=\"arial\" color=\"black\">93</font></td><td style=\"text-align: left; padding-top: 3px; padding-bottom: 3px; padding-left: 20px; padding-right: 20px;\"></td><td style=\"text-align: left; padding-top: 3px; padding-bottom: 3px; padding-left: 1px; padding-right: 1px;\">+</td><td style=\"text-align: left; padding-top: 3px; padding-bottom: 3px; padding-left: 1px; padding-right: 1px;\"><font size=\"3\" face=\"arial\" color=\"black\">31</font></td><td style=\"text-align: left; padding-top: 3px; padding-bottom: 3px; padding-left: 20px; padding-right: 20px;\"></td><td style=\"text-align: left; padding-top: 3px; padding-bottom: 3px; padding-left: 20px; padding-right: 20px;\"></td><td style=\"text-align: right; padding-top: 3px; padding-bottom: 3px; padding-left: 1px; padding-right: 1px;\"><font size=\"3\" face=\"arial\" color=\"black\">6.25</font></td><td style=\"text-align: left; padding-top: 3px; padding-bottom: 3px; padding-left: 20px; padding-right: 20px;\"></td></tr><tr><td style=\"text-align: left; padding-top: 3px; padding-bottom: 3px; padding-left: 1px; padding-right: 1px;\"><font size=\"3\" face=\"arial\" color=\"black\">4.a</font></td><td style=\"text-align: left; padding-top: 3px; padding-bottom: 3px; padding-left: 20px; padding-right: 20px;\"></td><td style=\"text-align: left; padding-top: 3px; padding-bottom: 3px; padding-left: 20px; padding-right: 20px;\"></td><td style=\"text-align: left; padding-top: 3px; padding-bottom: 3px; padding-left: 1px; padding-right: 1px;\"><font size=\"3\" face=\"arial\" color=\"green\">PERUGIA</font></td><td style=\"text-align: left; padding-top: 3px; padding-bottom: 3px; padding-left: 1px; padding-right: 1px;\"><font size=\"3\" face=\"arial\" color=\"black\">-</font></td><td style=\"text-align: left; padding-top: 3px; padding-bottom: 3px; padding-left: 1px; padding-right: 1px;\"><font size=\"3\" face=\"arial\" color=\"green\">SPOLETO</font></td><td style=\"text-align: left; padding-top: 3px; padding-bottom: 3px; padding-left: 20px; padding-right: 20px;\"></td><td style=\"text-align: left; padding-top: 3px; padding-bottom: 3px; padding-left: 1px; padding-right: 1px;\"><font size=\"3\" face=\"arial\" color=\"black\">94</font></td><td style=\"text-align: left; padding-top: 3px; padding-bottom: 3px; padding-left: 1px; padding-right: 1px;\"><font size=\"3\" face=\"arial\" color=\"black\">-</font></td><td style=\"text-align: left; padding-top: 3px; padding-bottom: 3px; padding-left: 1px; padding-right: 1px;\"><font size=\"3\" face=\"arial\" color=\"black\">49</font></td><td style=\"text-align: left; padding-top: 3px; padding-bottom: 3px; padding-left: 20px; padding-right: 20px;\"></td><td style=\"text-align: left; padding-top: 3px; padding-bottom: 3px; padding-left: 1px; padding-right: 1px;\">+</td><td style=\"text-align: left; padding-top: 3px; padding-bottom: 3px; padding-left: 1px; padding-right: 1px;\"><font size=\"3\" face=\"arial\" color=\"black\">45</font></td><td style=\"text-align: left; padding-top: 3px; padding-bottom: 3px; padding-left: 20px; padding-right: 20px;\"></td><td style=\"text-align: left; padding-top: 3px; padding-bottom: 3px; padding-left: 20px; padding-right: 20px;\"></td><td style=\"text-align: right; padding-top: 3px; padding-bottom: 3px; padding-left: 1px; padding-right: 1px;\"><font size=\"3\" face=\"arial\" color=\"black\">1.00</font></td><td style=\"text-align: left; padding-top: 3px; padding-bottom: 3px; padding-left: 20px; padding-right: 20px;\"></td></tr><tr><td style=\"text-align: left; padding-top: 3px; padding-bottom: 3px; padding-left: 1px; padding-right: 1px;\"><font size=\"3\" face=\"arial\" color=\"black\">5.a</font></td><td style=\"text-align: left; padding-top: 3px; padding-bottom: 3px; padding-left: 20px; padding-right: 20px;\"></td><td style=\"text-align: left; padding-top: 3px; padding-bottom: 3px; padding-left: 20px; padding-right: 20px;\"></td><td style=\"text-align: left; padding-top: 3px; padding-bottom: 3px; padding-left: 1px; padding-right: 1px;\"><font size=\"3\" face=\"arial\" color=\"red\">URBANIA</font></td><td style=\"text-align: left; padding-top: 3px; padding-bottom: 3px; padding-left: 1px; padding-right: 1px;\"><font size=\"3\" face=\"arial\" color=\"black\">-</font></td><td style=\"text-align: left; padding-top: 3px; padding-bottom: 3px; padding-left: 1px; padding-right: 1px;\"><font size=\"3\" face=\"arial\" color=\"red\">PERUGIA</font></td><td style=\"text-align: left; padding-top: 3px; padding-bottom: 3px; padding-left: 20px; padding-right: 20px;\"></td><td style=\"text-align: left; padding-top: 3px; padding-bottom: 3px; padding-left: 1px; padding-right: 1px;\"><font size=\"3\" face=\"arial\" color=\"black\">67</font></td><td style=\"text-align: left; padding-top: 3px; padding-bottom: 3px; padding-left: 1px; padding-right: 1px;\"><font size=\"3\" face=\"arial\" color=\"black\">-</font></td><td style=\"text-align: left; padding-top: 3px; padding-bottom: 3px; padding-left: 1px; padding-right: 1px;\"><font size=\"3\" face=\"arial\" color=\"black\">54</font></td><td style=\"text-align: left; padding-top: 3px; padding-bottom: 3px; padding-left: 20px; padding-right: 20px;\"></td><td style=\"text-align: left; padding-top: 3px; padding-bottom: 3px; padding-left: 1px; padding-right: 1px;\">-</td><td style=\"text-align: left; padding-top: 3px; padding-bottom: 3px; padding-left: 1px; padding-right: 1px;\"><font size=\"3\" face=\"arial\" color=\"black\">13</font></td><td style=\"text-align: left; padding-top: 3px; padding-bottom: 3px; padding-left: 20px; padding-right: 20px;\"></td><td style=\"text-align: left; padding-top: 3px; padding-bottom: 3px; padding-left: 20px; padding-right: 20px;\"></td><td style=\"text-align: right; padding-top: 3px; padding-bottom: 3px; padding-left: 1px; padding-right: 1px;\"><font size=\"3\" face=\"arial\" color=\"black\">17.50</font></td><td style=\"text-align: left; padding-top: 3px; padding-bottom: 3px; padding-left: 20px; padding-right: 20px;\"></td></tr><tr><td style=\"text-align: left; padding-top: 3px; padding-bottom: 3px; padding-left: 1px; padding-right: 1px;\"><font size=\"3\" face=\"arial\" color=\"black\">6.a</font></td><td style=\"text-align: left; padding-top: 3px; padding-bottom: 3px; padding-left: 20px; padding-right: 20px;\"></td><td style=\"text-align: left; padding-top: 3px; padding-bottom: 3px; padding-left: 20px; padding-right: 20px;\"></td><td style=\"text-align: left; padding-top: 3px; padding-bottom: 3px; padding-left: 1px; padding-right: 1px;\"><font size=\"3\" face=\"arial\" color=\"green\">PERUGIA</font></td><td style=\"text-align: left; padding-top: 3px; padding-bottom: 3px; padding-left: 1px; padding-right: 1px;\"><font size=\"3\" face=\"arial\" color=\"black\">-</font></td><td style=\"text-align: left; padding-top: 3px; padding-bottom: 3px; padding-left: 1px; padding-right: 1px;\"><font size=\"3\" face=\"arial\" color=\"green\">ASCOLI</font></td><td style=\"text-align: left; padding-top: 3px; padding-bottom: 3px; padding-left: 20px; padding-right: 20px;\"></td><td style=\"text-align: left; padding-top: 3px; padding-bottom: 3px; padding-left: 1px; padding-right: 1px;\"><font size=\"3\" face=\"arial\" color=\"black\">85</font></td><td style=\"text-align: left; padding-top: 3px; padding-bottom: 3px; padding-left: 1px; padding-right: 1px;\"><font size=\"3\" face=\"arial\" color=\"black\">-</font></td><td style=\"text-align: left; padding-top: 3px; padding-bottom: 3px; padding-left: 1px; padding-right: 1px;\"><font size=\"3\" face=\"arial\" color=\"black\">72</font></td><td style=\"text-align: left; padding-top: 3px; padding-bottom: 3px; padding-left: 20px; padding-right: 20px;\"></td><td style=\"text-align: left; padding-top: 3px; padding-bottom: 3px; padding-left: 1px; padding-right: 1px;\">+</td><td style=\"text-align: left; padding-top: 3px; padding-bottom: 3px; padding-left: 1px; padding-right: 1px;\"><font size=\"3\" face=\"arial\" color=\"black\">13</font></td><td style=\"text-align: left; padding-top: 3px; padding-bottom: 3px; padding-left: 20px; padding-right: 20px;\"></td><td style=\"text-align: left; padding-top: 3px; padding-bottom: 3px; padding-left: 20px; padding-right: 20px;\"></td><td style=\"text-align: right; padding-top: 3px; padding-bottom: 3px; padding-left: 1px; padding-right: 1px;\"><font size=\"3\" face=\"arial\" color=\"black\">4.00</font></td><td style=\"text-align: left; padding-top: 3px; padding-bottom: 3px; padding-left: 20px; padding-right: 20px;\"></td></tr><tr><td style=\"text-align: left; padding-top: 3px; padding-bottom: 3px; padding-left: 1px; padding-right: 1px;\"><font size=\"3\" face=\"arial\" color=\"black\">7.a</font></td><td style=\"text-align: left; padding-top: 3px; padding-bottom: 3px; padding-left: 20px; padding-right: 20px;\"></td><td style=\"text-align: left; padding-top: 3px; padding-bottom: 3px; padding-left: 20px; padding-right: 20px;\"></td><td style=\"text-align: left; padding-top: 3px; padding-bottom: 3px; padding-left: 1px; padding-right: 1px;\"><font size=\"3\" face=\"arial\" color=\"green\">SAN MARINO</font></td><td style=\"text-align: left; padding-top: 3px; padding-bottom: 3px; padding-left: 1px; padding-right: 1px;\"><font size=\"3\" face=\"arial\" color=\"black\">-</font></td><td style=\"text-align: left; padding-top: 3px; padding-bottom: 3px; padding-left: 1px; padding-right: 1px;\"><font size=\"3\" face=\"arial\" color=\"green\">PERUGIA</font></td><td style=\"text-align: left; padding-top: 3px; padding-bottom: 3px; padding-left: 20px; padding-right: 20px;\"></td><td style=\"text-align: left; padding-top: 3px; padding-bottom: 3px; padding-left: 1px; padding-right: 1px;\"><font size=\"3\" face=\"arial\" color=\"black\">74</font></td><td style=\"text-align: left; padding-top: 3px; padding-bottom: 3px; padding-left: 1px; padding-right: 1px;\"><font size=\"3\" face=\"arial\" color=\"black\">-</font></td><td style=\"text-align: left; padding-top: 3px; padding-bottom: 3px; padding-left: 1px; padding-right: 1px;\"><font size=\"3\" face=\"arial\" color=\"black\">75</font></td><td style=\"text-align: left; padding-top: 3px; padding-bottom: 3px; padding-left: 20px; padding-right: 20px;\"></td><td style=\"text-align: left; padding-top: 3px; padding-bottom: 3px; padding-left: 1px; padding-right: 1px;\">+</td><td style=\"text-align: left; padding-top: 3px; padding-bottom: 3px; padding-left: 1px; padding-right: 1px;\"><font size=\"3\" face=\"arial\" color=\"black\">1</font></td><td style=\"text-align: left; padding-top: 3px; padding-bottom: 3px; padding-left: 20px; padding-right: 20px;\"></td><td style=\"text-align: left; padding-top: 3px; padding-bottom: 3px; padding-left: 20px; padding-right: 20px;\"></td><td style=\"text-align: right; padding-top: 3px; padding-bottom: 3px; padding-left: 1px; padding-right: 1px;\"><font size=\"3\" face=\"arial\" color=\"black\">12.50</font></td><td style=\"text-align: left; padding-top: 3px; padding-bottom: 3px; padding-left: 20px; padding-right: 20px;\"></td></tr><tr><td style=\"text-align: left; padding-top: 3px; padding-bottom: 3px; padding-left: 1px; padding-right: 1px;\"><font size=\"3\" face=\"arial\" color=\"black\">8.a</font></td><td style=\"text-align: left; padding-top: 3px; padding-bottom: 3px; padding-left: 20px; padding-right: 20px;\"></td><td style=\"text-align: left; padding-top: 3px; padding-bottom: 3px; padding-left: 20px; padding-right: 20px;\"></td><td style=\"text-align: left; padding-top: 3px; padding-bottom: 3px; padding-left: 1px; padding-right: 1px;\"><font size=\"3\" face=\"arial\" color=\"red\">PERUGIA</font></td><td style=\"text-align: left; padding-top: 3px; padding-bottom: 3px; padding-left: 1px; padding-right: 1px;\"><font size=\"3\" face=\"arial\" color=\"black\">-</font></td><td style=\"text-align: left; padding-top: 3px; padding-bottom: 3px; padding-left: 1px; padding-right: 1px;\"><font size=\"3\" face=\"arial\" color=\"red\">GUALDO</font></td><td style=\"text-align: left; padding-top: 3px; padding-bottom: 3px; padding-left: 20px; padding-right: 20px;\"></td><td style=\"text-align: left; padding-top: 3px; padding-bottom: 3px; padding-left: 1px; padding-right: 1px;\"><font size=\"3\" face=\"arial\" color=\"black\">58</font></td><td style=\"text-align: left; padding-top: 3px; padding-bottom: 3px; padding-left: 1px; padding-right: 1px;\"><font size=\"3\" face=\"arial\" color=\"black\">-</font></td><td style=\"text-align: left; padding-top: 3px; padding-bottom: 3px; padding-left: 1px; padding-right: 1px;\"><font size=\"3\" face=\"arial\" color=\"black\">74</font></td><td style=\"text-align: left; padding-top: 3px; padding-bottom: 3px; padding-left: 20px; padding-right: 20px;\"></td><td style=\"text-align: left; padding-top: 3px; padding-bottom: 3px; padding-left: 1px; padding-right: 1px;\">-</td><td style=\"text-align: left; padding-top: 3px; padding-bottom: 3px; padding-left: 1px; padding-right: 1px;\"><font size=\"3\" face=\"arial\" color=\"black\">16</font></td><td style=\"text-align: left; padding-top: 3px; padding-bottom: 3px; padding-left: 20px; padding-right: 20px;\"></td><td style=\"text-align: left; padding-top: 3px; padding-bottom: 3px; padding-left: 20px; padding-right: 20px;\"></td><td style=\"text-align: right; padding-top: 3px; padding-bottom: 3px; padding-left: 1px; padding-right: 1px;\"><font size=\"3\" face=\"arial\" color=\"black\">9.00</font></td><td style=\"text-align: left; padding-top: 3px; padding-bottom: 3px; padding-left: 20px; padding-right: 20px;\"></td></tr><tr><td style=\"text-align: left; padding-top: 3px; padding-bottom: 3px; padding-left: 1px; padding-right: 1px;\"><font size=\"3\" face=\"arial\" color=\"black\">9.a</font></td><td style=\"text-align: left; padding-top: 3px; padding-bottom: 3px; padding-left: 20px; padding-right: 20px;\"></td><td style=\"text-align: left; padding-top: 3px; padding-bottom: 3px; padding-left: 20px; padding-right: 20px;\"></td><td style=\"text-align: left; padding-top: 3px; padding-bottom: 3px; padding-left: 1px; padding-right: 1px;\"><font size=\"3\" face=\"arial\" color=\"red\">FOSSOMBRONE</font></td><td style=\"text-align: left; padding-top: 3px; padding-bottom: 3px; padding-left: 1px; padding-right: 1px;\"><font size=\"3\" face=\"arial\" color=\"black\">-</font></td><td style=\"text-align: left; padding-top: 3px; padding-bottom: 3px; padding-left: 1px; padding-right: 1px;\"><font size=\"3\" face=\"arial\" color=\"red\">PERUGIA</font></td><td style=\"text-align: left; padding-top: 3px; padding-bottom: 3px; padding-left: 20px; padding-right: 20px;\"></td><td style=\"text-align: left; padding-top: 3px; padding-bottom: 3px; padding-left: 1px; padding-right: 1px;\"><font size=\"3\" face=\"arial\" color=\"black\">98</font></td><td style=\"text-align: left; padding-top: 3px; padding-bottom: 3px; padding-left: 1px; padding-right: 1px;\"><font size=\"3\" face=\"arial\" color=\"black\">-</font></td><td style=\"text-align: left; padding-top: 3px; padding-bottom: 3px; padding-left: 1px; padding-right: 1px;\"><font size=\"3\" face=\"arial\" color=\"black\">57</font></td><td style=\"text-align: left; padding-top: 3px; padding-bottom: 3px; padding-left: 20px; padding-right: 20px;\"></td><td style=\"text-align: left; padding-top: 3px; padding-bottom: 3px; padding-left: 1px; padding-right: 1px;\">-</td><td style=\"text-align: left; padding-top: 3px; padding-bottom: 3px; padding-left: 1px; padding-right: 1px;\"><font size=\"3\" face=\"arial\" color=\"black\">41</font></td><td style=\"text-align: left; padding-top: 3px; padding-bottom: 3px; padding-left: 20px; padding-right: 20px;\"></td><td style=\"text-align: left; padding-top: 3px; padding-bottom: 3px; padding-left: 20px; padding-right: 20px;\"></td><td style=\"text-align: right; padding-top: 3px; padding-bottom: 3px; padding-left: 1px; padding-right: 1px;\"><font size=\"3\" face=\"arial\" color=\"black\">16.25</font></td><td style=\"text-align: left; padding-top: 3px; padding-bottom: 3px; padding-left: 20px; padding-right: 20px;\"></td></tr><tr><td style=\"text-align: left; padding-top: 3px; padding-bottom: 3px; padding-left: 1px; padding-right: 1px;\"><font size=\"3\" face=\"arial\" color=\"black\">10.a</font></td><td style=\"text-align: left; padding-top: 3px; padding-bottom: 3px; padding-left: 20px; padding-right: 20px;\"></td><td style=\"text-align: left; padding-top: 3px; padding-bottom: 3px; padding-left: 20px; padding-right: 20px;\"></td><td style=\"text-align: left; padding-top: 3px; padding-bottom: 3px; padding-left: 1px; padding-right: 1px;\"><font size=\"3\" face=\"arial\" color=\"green\">PERUGIA</font></td><td style=\"text-align: left; padding-top: 3px; padding-bottom: 3px; padding-left: 1px; padding-right: 1px;\"><font size=\"3\" face=\"arial\" color=\"black\">-</font></td><td style=\"text-align: left; padding-top: 3px; padding-bottom: 3px; padding-left: 1px; padding-right: 1px;\"><font size=\"3\" face=\"arial\" color=\"green\">RECANATI</font></td><td style=\"text-align: left; padding-top: 3px; padding-bottom: 3px; padding-left: 20px; padding-right: 20px;\"></td><td style=\"text-align: left; padding-top: 3px; padding-bottom: 3px; padding-left: 1px; padding-right: 1px;\"><font size=\"3\" face=\"arial\" color=\"black\">69</font></td><td style=\"text-align: left; padding-top: 3px; padding-bottom: 3px; padding-left: 1px; padding-right: 1px;\"><font size=\"3\" face=\"arial\" color=\"black\">-</font></td><td style=\"text-align: left; padding-top: 3px; padding-bottom: 3px; padding-left: 1px; padding-right: 1px;\"><font size=\"3\" face=\"arial\" color=\"black\">62</font></td><td style=\"text-align: left; padding-top: 3px; padding-bottom: 3px; padding-left: 20px; padding-right: 20px;\"></td><td style=\"text-align: left; padding-top: 3px; padding-bottom: 3px; padding-left: 1px; padding-right: 1px;\">+</td><td style=\"text-align: left; padding-top: 3px; padding-bottom: 3px; padding-left: 1px; padding-right: 1px;\"><font size=\"3\" face=\"arial\" color=\"black\">7</font></td><td style=\"text-align: left; padding-top: 3px; padding-bottom: 3px; padding-left: 20px; padding-right: 20px;\"></td><td style=\"text-align: left; padding-top: 3px; padding-bottom: 3px; padding-left: 20px; padding-right: 20px;\"></td><td style=\"text-align: right; padding-top: 3px; padding-bottom: 3px; padding-left: 1px; padding-right: 1px;\"><font size=\"3\" face=\"arial\" color=\"black\">11.00</font></td><td style=\"text-align: left; padding-top: 3px; padding-bottom: 3px; padding-left: 20px; padding-right: 20px;\"></td></tr><tr><td style=\"text-align: left; padding-top: 3px; padding-bottom: 3px; padding-left: 1px; padding-right: 1px;\"><font size=\"3\" face=\"arial\" color=\"black\">11.a</font></td><td style=\"text-align: left; padding-top: 3px; padding-bottom: 3px; padding-left: 20px; padding-right: 20px;\"></td><td style=\"text-align: left; padding-top: 3px; padding-bottom: 3px; padding-left: 20px; padding-right: 20px;\"></td><td style=\"text-align: left; padding-top: 3px; padding-bottom: 3px; padding-left: 1px; padding-right: 1px;\"><font size=\"3\" face=\"arial\" color=\"red\">TOLENTINO</font></td><td style=\"text-align: left; padding-top: 3px; padding-bottom: 3px; padding-left: 1px; padding-right: 1px;\"><font size=\"3\" face=\"arial\" color=\"black\">-</font></td><td style=\"text-align: left; padding-top: 3px; padding-bottom: 3px; padding-left: 1px; padding-right: 1px;\"><font size=\"3\" face=\"arial\" color=\"red\">PERUGIA</font></td><td style=\"text-align: left; padding-top: 3px; padding-bottom: 3px; padding-left: 20px; padding-right: 20px;\"></td><td style=\"text-align: left; padding-top: 3px; padding-bottom: 3px; padding-left: 1px; padding-right: 1px;\"><font size=\"3\" face=\"arial\" color=\"black\">68</font></td><td style=\"text-align: left; padding-top: 3px; padding-bottom: 3px; padding-left: 1px; padding-right: 1px;\"><font size=\"3\" face=\"arial\" color=\"black\">-</font></td><td style=\"text-align: left; padding-top: 3px; padding-bottom: 3px; padding-left: 1px; padding-right: 1px;\"><font size=\"3\" face=\"arial\" color=\"black\">62</font></td><td style=\"text-align: left; padding-top: 3px; padding-bottom: 3px; padding-left: 20px; padding-right: 20px;\"></td><td style=\"text-align: left; padding-top: 3px; padding-bottom: 3px; padding-left: 1px; padding-right: 1px;\">-</td><td style=\"text-align: left; padding-top: 3px; padding-bottom: 3px; padding-left: 1px; padding-right: 1px;\"><font size=\"3\" face=\"arial\" color=\"black\">6</font></td><td style=\"text-align: left; padding-top: 3px; padding-bottom: 3px; padding-left: 20px; padding-right: 20px;\"></td><td style=\"text-align: left; padding-top: 3px; padding-bottom: 3px; padding-left: 20px; padding-right: 20px;\"></td><td style=\"text-align: right; padding-top: 3px; padding-bottom: 3px; padding-left: 1px; padding-right: 1px;\"><font size=\"3\" face=\"arial\" color=\"black\">7.50</font></td><td style=\"text-align: left; padding-top: 3px; padding-bottom: 3px; padding-left: 20px; padding-right: 20px;\"></td></tr><tr><td style=\"text-align: left; padding-top: 3px; padding-bottom: 3px; padding-left: 1px; padding-right: 1px;\"><font size=\"3\" face=\"arial\" color=\"black\">12.a</font></td><td style=\"text-align: left; padding-top: 3px; padding-bottom: 3px; padding-left: 20px; padding-right: 20px;\"></td><td style=\"text-align: left; padding-top: 3px; padding-bottom: 3px; padding-left: 20px; padding-right: 20px;\"></td><td style=\"text-align: left; padding-top: 3px; padding-bottom: 3px; padding-left: 1px; padding-right: 1px;\"><font size=\"3\" face=\"arial\" color=\"green\">P.S. GIORGIO</font></td><td style=\"text-align: left; padding-top: 3px; padding-bottom: 3px; padding-left: 1px; padding-right: 1px;\"><font size=\"3\" face=\"arial\" color=\"black\">-</font></td><td style=\"text-align: left; padding-top: 3px; padding-bottom: 3px; padding-left: 1px; padding-right: 1px;\"><font size=\"3\" face=\"arial\" color=\"green\">PERUGIA</font></td><td style=\"text-align: left; padding-top: 3px; padding-bottom: 3px; padding-left: 20px; padding-right: 20px;\"></td><td style=\"text-align: left; padding-top: 3px; padding-bottom: 3px; padding-left: 1px; padding-right: 1px;\"><font size=\"3\" face=\"arial\" color=\"black\">67</font></td><td style=\"text-align: left; padding-top: 3px; padding-bottom: 3px; padding-left: 1px; padding-right: 1px;\"><font size=\"3\" face=\"arial\" color=\"black\">-</font></td><td style=\"text-align: left; padding-top: 3px; padding-bottom: 3px; padding-left: 1px; padding-right: 1px;\"><font size=\"3\" face=\"arial\" color=\"black\">78</font></td><td style=\"text-align: left; padding-top: 3px; padding-bottom: 3px; padding-left: 20px; padding-right: 20px;\"></td><td style=\"text-align: left; padding-top: 3px; padding-bottom: 3px; padding-left: 1px; padding-right: 1px;\">+</td><td style=\"text-align: left; padding-top: 3px; padding-bottom: 3px; padding-left: 1px; padding-right: 1px;\"><font size=\"3\" face=\"arial\" color=\"black\">11</font></td><td style=\"text-align: left; padding-top: 3px; padding-bottom: 3px; padding-left: 20px; padding-right: 20px;\"></td><td style=\"text-align: left; padding-top: 3px; padding-bottom: 3px; padding-left: 20px; padding-right: 20px;\"></td><td style=\"text-align: right; padding-top: 3px; padding-bottom: 3px; padding-left: 1px; padding-right: 1px;\"><font size=\"3\" face=\"arial\" color=\"black\">10.00</font></td><td style=\"text-align: left; padding-top: 3px; padding-bottom: 3px; padding-left: 20px; padding-right: 20px;\"></td></tr></table>"
      ],
      "text/plain": [
       "<IPython.core.display.HTML object>"
      ]
     },
     "metadata": {},
     "output_type": "display_data"
    },
    {
     "data": {
      "text/html": [
       "<table><tr><th style=\"text-align: left; padding-top: 3px; padding-bottom: 3px; padding-left: 1px; padding-right: 1px;\" colspan=\"3\"><font size=\"3\" face=\"arial\" color=\"black\">Giornata</font></th><th style=\"text-align: left; padding-top: 3px; padding-bottom: 3px; padding-left: 1px; padding-right: 1px;\" width=\"300px;\" colspan=\"4\"><font size=\"3\" face=\"arial\" color=\"black\">RECANATI</font></th><th style=\"text-align: left; padding-top: 3px; padding-bottom: 3px; padding-left: 1px; padding-right: 1px;\" width=\"90px;\" colspan=\"4\"><font size=\"3\" face=\"arial\" color=\"black\">Risultato</font></th><th style=\"text-align: left; padding-top: 3px; padding-bottom: 3px; padding-left: 1px; padding-right: 1px;\" colspan=\"3\"><font size=\"3\" face=\"arial\" color=\"black\">Scarto</font></th><th style=\"text-align: right; padding-top: 3px; padding-bottom: 3px; padding-left: 1px; padding-right: 1px;\" colspan=\"3\"><font size=\"3\" face=\"arial\" color=\"black\">Difficoltà   101.25</font></th></tr><tr><td style=\"text-align: left; padding-top: 3px; padding-bottom: 3px; padding-left: 1px; padding-right: 1px;\"><font size=\"3\" face=\"arial\" color=\"black\">1.a</font></td><td style=\"text-align: left; padding-top: 3px; padding-bottom: 3px; padding-left: 20px; padding-right: 20px;\"></td><td style=\"text-align: left; padding-top: 3px; padding-bottom: 3px; padding-left: 20px; padding-right: 20px;\"></td><td style=\"text-align: left; padding-top: 3px; padding-bottom: 3px; padding-left: 1px; padding-right: 1px;\"><font size=\"3\" face=\"arial\" color=\"green\">OSIMO</font></td><td style=\"text-align: left; padding-top: 3px; padding-bottom: 3px; padding-left: 1px; padding-right: 1px;\"><font size=\"3\" face=\"arial\" color=\"black\">-</font></td><td style=\"text-align: left; padding-top: 3px; padding-bottom: 3px; padding-left: 1px; padding-right: 1px;\"><font size=\"3\" face=\"arial\" color=\"green\">RECANATI</font></td><td style=\"text-align: left; padding-top: 3px; padding-bottom: 3px; padding-left: 20px; padding-right: 20px;\"></td><td style=\"text-align: left; padding-top: 3px; padding-bottom: 3px; padding-left: 1px; padding-right: 1px;\"><font size=\"3\" face=\"arial\" color=\"black\">53</font></td><td style=\"text-align: left; padding-top: 3px; padding-bottom: 3px; padding-left: 1px; padding-right: 1px;\"><font size=\"3\" face=\"arial\" color=\"black\">-</font></td><td style=\"text-align: left; padding-top: 3px; padding-bottom: 3px; padding-left: 1px; padding-right: 1px;\"><font size=\"3\" face=\"arial\" color=\"black\">76</font></td><td style=\"text-align: left; padding-top: 3px; padding-bottom: 3px; padding-left: 20px; padding-right: 20px;\"></td><td style=\"text-align: left; padding-top: 3px; padding-bottom: 3px; padding-left: 1px; padding-right: 1px;\">+</td><td style=\"text-align: left; padding-top: 3px; padding-bottom: 3px; padding-left: 1px; padding-right: 1px;\"><font size=\"3\" face=\"arial\" color=\"black\">23</font></td><td style=\"text-align: left; padding-top: 3px; padding-bottom: 3px; padding-left: 20px; padding-right: 20px;\"></td><td style=\"text-align: left; padding-top: 3px; padding-bottom: 3px; padding-left: 20px; padding-right: 20px;\"></td><td style=\"text-align: right; padding-top: 3px; padding-bottom: 3px; padding-left: 1px; padding-right: 1px;\"><font size=\"3\" face=\"arial\" color=\"black\">8.75</font></td><td style=\"text-align: left; padding-top: 3px; padding-bottom: 3px; padding-left: 20px; padding-right: 20px;\"></td></tr><tr><td style=\"text-align: left; padding-top: 3px; padding-bottom: 3px; padding-left: 1px; padding-right: 1px;\"><font size=\"3\" face=\"arial\" color=\"black\">2.a</font></td><td style=\"text-align: left; padding-top: 3px; padding-bottom: 3px; padding-left: 20px; padding-right: 20px;\"></td><td style=\"text-align: left; padding-top: 3px; padding-bottom: 3px; padding-left: 20px; padding-right: 20px;\"></td><td style=\"text-align: left; padding-top: 3px; padding-bottom: 3px; padding-left: 1px; padding-right: 1px;\"><font size=\"3\" face=\"arial\" color=\"green\">RECANATI</font></td><td style=\"text-align: left; padding-top: 3px; padding-bottom: 3px; padding-left: 1px; padding-right: 1px;\"><font size=\"3\" face=\"arial\" color=\"black\">-</font></td><td style=\"text-align: left; padding-top: 3px; padding-bottom: 3px; padding-left: 1px; padding-right: 1px;\"><font size=\"3\" face=\"arial\" color=\"green\">FALCONARA</font></td><td style=\"text-align: left; padding-top: 3px; padding-bottom: 3px; padding-left: 20px; padding-right: 20px;\"></td><td style=\"text-align: left; padding-top: 3px; padding-bottom: 3px; padding-left: 1px; padding-right: 1px;\"><font size=\"3\" face=\"arial\" color=\"black\">85</font></td><td style=\"text-align: left; padding-top: 3px; padding-bottom: 3px; padding-left: 1px; padding-right: 1px;\"><font size=\"3\" face=\"arial\" color=\"black\">-</font></td><td style=\"text-align: left; padding-top: 3px; padding-bottom: 3px; padding-left: 1px; padding-right: 1px;\"><font size=\"3\" face=\"arial\" color=\"black\">68</font></td><td style=\"text-align: left; padding-top: 3px; padding-bottom: 3px; padding-left: 20px; padding-right: 20px;\"></td><td style=\"text-align: left; padding-top: 3px; padding-bottom: 3px; padding-left: 1px; padding-right: 1px;\">+</td><td style=\"text-align: left; padding-top: 3px; padding-bottom: 3px; padding-left: 1px; padding-right: 1px;\"><font size=\"3\" face=\"arial\" color=\"black\">17</font></td><td style=\"text-align: left; padding-top: 3px; padding-bottom: 3px; padding-left: 20px; padding-right: 20px;\"></td><td style=\"text-align: left; padding-top: 3px; padding-bottom: 3px; padding-left: 20px; padding-right: 20px;\"></td><td style=\"text-align: right; padding-top: 3px; padding-bottom: 3px; padding-left: 1px; padding-right: 1px;\"><font size=\"3\" face=\"arial\" color=\"black\">5.00</font></td><td style=\"text-align: left; padding-top: 3px; padding-bottom: 3px; padding-left: 20px; padding-right: 20px;\"></td></tr><tr><td style=\"text-align: left; padding-top: 3px; padding-bottom: 3px; padding-left: 1px; padding-right: 1px;\"><font size=\"3\" face=\"arial\" color=\"black\">3.a</font></td><td style=\"text-align: left; padding-top: 3px; padding-bottom: 3px; padding-left: 20px; padding-right: 20px;\"></td><td style=\"text-align: left; padding-top: 3px; padding-bottom: 3px; padding-left: 20px; padding-right: 20px;\"></td><td style=\"text-align: left; padding-top: 3px; padding-bottom: 3px; padding-left: 1px; padding-right: 1px;\"><font size=\"3\" face=\"arial\" color=\"green\">SPOLETO</font></td><td style=\"text-align: left; padding-top: 3px; padding-bottom: 3px; padding-left: 1px; padding-right: 1px;\"><font size=\"3\" face=\"arial\" color=\"black\">-</font></td><td style=\"text-align: left; padding-top: 3px; padding-bottom: 3px; padding-left: 1px; padding-right: 1px;\"><font size=\"3\" face=\"arial\" color=\"green\">RECANATI</font></td><td style=\"text-align: left; padding-top: 3px; padding-bottom: 3px; padding-left: 20px; padding-right: 20px;\"></td><td style=\"text-align: left; padding-top: 3px; padding-bottom: 3px; padding-left: 1px; padding-right: 1px;\"><font size=\"3\" face=\"arial\" color=\"black\">44</font></td><td style=\"text-align: left; padding-top: 3px; padding-bottom: 3px; padding-left: 1px; padding-right: 1px;\"><font size=\"3\" face=\"arial\" color=\"black\">-</font></td><td style=\"text-align: left; padding-top: 3px; padding-bottom: 3px; padding-left: 1px; padding-right: 1px;\"><font size=\"3\" face=\"arial\" color=\"black\">63</font></td><td style=\"text-align: left; padding-top: 3px; padding-bottom: 3px; padding-left: 20px; padding-right: 20px;\"></td><td style=\"text-align: left; padding-top: 3px; padding-bottom: 3px; padding-left: 1px; padding-right: 1px;\">+</td><td style=\"text-align: left; padding-top: 3px; padding-bottom: 3px; padding-left: 1px; padding-right: 1px;\"><font size=\"3\" face=\"arial\" color=\"black\">19</font></td><td style=\"text-align: left; padding-top: 3px; padding-bottom: 3px; padding-left: 20px; padding-right: 20px;\"></td><td style=\"text-align: left; padding-top: 3px; padding-bottom: 3px; padding-left: 20px; padding-right: 20px;\"></td><td style=\"text-align: right; padding-top: 3px; padding-bottom: 3px; padding-left: 1px; padding-right: 1px;\"><font size=\"3\" face=\"arial\" color=\"black\">1.25</font></td><td style=\"text-align: left; padding-top: 3px; padding-bottom: 3px; padding-left: 20px; padding-right: 20px;\"></td></tr><tr><td style=\"text-align: left; padding-top: 3px; padding-bottom: 3px; padding-left: 1px; padding-right: 1px;\"><font size=\"3\" face=\"arial\" color=\"black\">4.a</font></td><td style=\"text-align: left; padding-top: 3px; padding-bottom: 3px; padding-left: 20px; padding-right: 20px;\"></td><td style=\"text-align: left; padding-top: 3px; padding-bottom: 3px; padding-left: 20px; padding-right: 20px;\"></td><td style=\"text-align: left; padding-top: 3px; padding-bottom: 3px; padding-left: 1px; padding-right: 1px;\"><font size=\"3\" face=\"arial\" color=\"green\">RECANATI</font></td><td style=\"text-align: left; padding-top: 3px; padding-bottom: 3px; padding-left: 1px; padding-right: 1px;\"><font size=\"3\" face=\"arial\" color=\"black\">-</font></td><td style=\"text-align: left; padding-top: 3px; padding-bottom: 3px; padding-left: 1px; padding-right: 1px;\"><font size=\"3\" face=\"arial\" color=\"green\">URBANIA</font></td><td style=\"text-align: left; padding-top: 3px; padding-bottom: 3px; padding-left: 20px; padding-right: 20px;\"></td><td style=\"text-align: left; padding-top: 3px; padding-bottom: 3px; padding-left: 1px; padding-right: 1px;\"><font size=\"3\" face=\"arial\" color=\"black\">73</font></td><td style=\"text-align: left; padding-top: 3px; padding-bottom: 3px; padding-left: 1px; padding-right: 1px;\"><font size=\"3\" face=\"arial\" color=\"black\">-</font></td><td style=\"text-align: left; padding-top: 3px; padding-bottom: 3px; padding-left: 1px; padding-right: 1px;\"><font size=\"3\" face=\"arial\" color=\"black\">55</font></td><td style=\"text-align: left; padding-top: 3px; padding-bottom: 3px; padding-left: 20px; padding-right: 20px;\"></td><td style=\"text-align: left; padding-top: 3px; padding-bottom: 3px; padding-left: 1px; padding-right: 1px;\">+</td><td style=\"text-align: left; padding-top: 3px; padding-bottom: 3px; padding-left: 1px; padding-right: 1px;\"><font size=\"3\" face=\"arial\" color=\"black\">18</font></td><td style=\"text-align: left; padding-top: 3px; padding-bottom: 3px; padding-left: 20px; padding-right: 20px;\"></td><td style=\"text-align: left; padding-top: 3px; padding-bottom: 3px; padding-left: 20px; padding-right: 20px;\"></td><td style=\"text-align: right; padding-top: 3px; padding-bottom: 3px; padding-left: 1px; padding-right: 1px;\"><font size=\"3\" face=\"arial\" color=\"black\">14.00</font></td><td style=\"text-align: left; padding-top: 3px; padding-bottom: 3px; padding-left: 20px; padding-right: 20px;\"></td></tr><tr><td style=\"text-align: left; padding-top: 3px; padding-bottom: 3px; padding-left: 1px; padding-right: 1px;\"><font size=\"3\" face=\"arial\" color=\"black\">5.a</font></td><td style=\"text-align: left; padding-top: 3px; padding-bottom: 3px; padding-left: 20px; padding-right: 20px;\"></td><td style=\"text-align: left; padding-top: 3px; padding-bottom: 3px; padding-left: 20px; padding-right: 20px;\"></td><td style=\"text-align: left; padding-top: 3px; padding-bottom: 3px; padding-left: 1px; padding-right: 1px;\"><font size=\"3\" face=\"arial\" color=\"green\">ASCOLI</font></td><td style=\"text-align: left; padding-top: 3px; padding-bottom: 3px; padding-left: 1px; padding-right: 1px;\"><font size=\"3\" face=\"arial\" color=\"black\">-</font></td><td style=\"text-align: left; padding-top: 3px; padding-bottom: 3px; padding-left: 1px; padding-right: 1px;\"><font size=\"3\" face=\"arial\" color=\"green\">RECANATI</font></td><td style=\"text-align: left; padding-top: 3px; padding-bottom: 3px; padding-left: 20px; padding-right: 20px;\"></td><td style=\"text-align: left; padding-top: 3px; padding-bottom: 3px; padding-left: 1px; padding-right: 1px;\"><font size=\"3\" face=\"arial\" color=\"black\">70</font></td><td style=\"text-align: left; padding-top: 3px; padding-bottom: 3px; padding-left: 1px; padding-right: 1px;\"><font size=\"3\" face=\"arial\" color=\"black\">-</font></td><td style=\"text-align: left; padding-top: 3px; padding-bottom: 3px; padding-left: 1px; padding-right: 1px;\"><font size=\"3\" face=\"arial\" color=\"black\">93</font></td><td style=\"text-align: left; padding-top: 3px; padding-bottom: 3px; padding-left: 20px; padding-right: 20px;\"></td><td style=\"text-align: left; padding-top: 3px; padding-bottom: 3px; padding-left: 1px; padding-right: 1px;\">+</td><td style=\"text-align: left; padding-top: 3px; padding-bottom: 3px; padding-left: 1px; padding-right: 1px;\"><font size=\"3\" face=\"arial\" color=\"black\">23</font></td><td style=\"text-align: left; padding-top: 3px; padding-bottom: 3px; padding-left: 20px; padding-right: 20px;\"></td><td style=\"text-align: left; padding-top: 3px; padding-bottom: 3px; padding-left: 20px; padding-right: 20px;\"></td><td style=\"text-align: right; padding-top: 3px; padding-bottom: 3px; padding-left: 1px; padding-right: 1px;\"><font size=\"3\" face=\"arial\" color=\"black\">5.00</font></td><td style=\"text-align: left; padding-top: 3px; padding-bottom: 3px; padding-left: 20px; padding-right: 20px;\"></td></tr><tr><td style=\"text-align: left; padding-top: 3px; padding-bottom: 3px; padding-left: 1px; padding-right: 1px;\"><font size=\"3\" face=\"arial\" color=\"black\">6.a</font></td><td style=\"text-align: left; padding-top: 3px; padding-bottom: 3px; padding-left: 20px; padding-right: 20px;\"></td><td style=\"text-align: left; padding-top: 3px; padding-bottom: 3px; padding-left: 20px; padding-right: 20px;\"></td><td style=\"text-align: left; padding-top: 3px; padding-bottom: 3px; padding-left: 1px; padding-right: 1px;\"><font size=\"3\" face=\"arial\" color=\"red\">RECANATI</font></td><td style=\"text-align: left; padding-top: 3px; padding-bottom: 3px; padding-left: 1px; padding-right: 1px;\"><font size=\"3\" face=\"arial\" color=\"black\">-</font></td><td style=\"text-align: left; padding-top: 3px; padding-bottom: 3px; padding-left: 1px; padding-right: 1px;\"><font size=\"3\" face=\"arial\" color=\"red\">SAN MARINO</font></td><td style=\"text-align: left; padding-top: 3px; padding-bottom: 3px; padding-left: 20px; padding-right: 20px;\"></td><td style=\"text-align: left; padding-top: 3px; padding-bottom: 3px; padding-left: 1px; padding-right: 1px;\"><font size=\"3\" face=\"arial\" color=\"black\">67</font></td><td style=\"text-align: left; padding-top: 3px; padding-bottom: 3px; padding-left: 1px; padding-right: 1px;\"><font size=\"3\" face=\"arial\" color=\"black\">-</font></td><td style=\"text-align: left; padding-top: 3px; padding-bottom: 3px; padding-left: 1px; padding-right: 1px;\"><font size=\"3\" face=\"arial\" color=\"black\">70</font></td><td style=\"text-align: left; padding-top: 3px; padding-bottom: 3px; padding-left: 20px; padding-right: 20px;\"></td><td style=\"text-align: left; padding-top: 3px; padding-bottom: 3px; padding-left: 1px; padding-right: 1px;\">-</td><td style=\"text-align: left; padding-top: 3px; padding-bottom: 3px; padding-left: 1px; padding-right: 1px;\"><font size=\"3\" face=\"arial\" color=\"black\">3</font></td><td style=\"text-align: left; padding-top: 3px; padding-bottom: 3px; padding-left: 20px; padding-right: 20px;\"></td><td style=\"text-align: left; padding-top: 3px; padding-bottom: 3px; padding-left: 20px; padding-right: 20px;\"></td><td style=\"text-align: right; padding-top: 3px; padding-bottom: 3px; padding-left: 1px; padding-right: 1px;\"><font size=\"3\" face=\"arial\" color=\"black\">10.00</font></td><td style=\"text-align: left; padding-top: 3px; padding-bottom: 3px; padding-left: 20px; padding-right: 20px;\"></td></tr><tr><td style=\"text-align: left; padding-top: 3px; padding-bottom: 3px; padding-left: 1px; padding-right: 1px;\"><font size=\"3\" face=\"arial\" color=\"black\">7.a</font></td><td style=\"text-align: left; padding-top: 3px; padding-bottom: 3px; padding-left: 20px; padding-right: 20px;\"></td><td style=\"text-align: left; padding-top: 3px; padding-bottom: 3px; padding-left: 20px; padding-right: 20px;\"></td><td style=\"text-align: left; padding-top: 3px; padding-bottom: 3px; padding-left: 1px; padding-right: 1px;\"><font size=\"3\" face=\"arial\" color=\"red\">GUALDO</font></td><td style=\"text-align: left; padding-top: 3px; padding-bottom: 3px; padding-left: 1px; padding-right: 1px;\"><font size=\"3\" face=\"arial\" color=\"black\">-</font></td><td style=\"text-align: left; padding-top: 3px; padding-bottom: 3px; padding-left: 1px; padding-right: 1px;\"><font size=\"3\" face=\"arial\" color=\"red\">RECANATI</font></td><td style=\"text-align: left; padding-top: 3px; padding-bottom: 3px; padding-left: 20px; padding-right: 20px;\"></td><td style=\"text-align: left; padding-top: 3px; padding-bottom: 3px; padding-left: 1px; padding-right: 1px;\"><font size=\"3\" face=\"arial\" color=\"black\">77</font></td><td style=\"text-align: left; padding-top: 3px; padding-bottom: 3px; padding-left: 1px; padding-right: 1px;\"><font size=\"3\" face=\"arial\" color=\"black\">-</font></td><td style=\"text-align: left; padding-top: 3px; padding-bottom: 3px; padding-left: 1px; padding-right: 1px;\"><font size=\"3\" face=\"arial\" color=\"black\">68</font></td><td style=\"text-align: left; padding-top: 3px; padding-bottom: 3px; padding-left: 20px; padding-right: 20px;\"></td><td style=\"text-align: left; padding-top: 3px; padding-bottom: 3px; padding-left: 1px; padding-right: 1px;\">-</td><td style=\"text-align: left; padding-top: 3px; padding-bottom: 3px; padding-left: 1px; padding-right: 1px;\"><font size=\"3\" face=\"arial\" color=\"black\">9</font></td><td style=\"text-align: left; padding-top: 3px; padding-bottom: 3px; padding-left: 20px; padding-right: 20px;\"></td><td style=\"text-align: left; padding-top: 3px; padding-bottom: 3px; padding-left: 20px; padding-right: 20px;\"></td><td style=\"text-align: right; padding-top: 3px; padding-bottom: 3px; padding-left: 1px; padding-right: 1px;\"><font size=\"3\" face=\"arial\" color=\"black\">11.25</font></td><td style=\"text-align: left; padding-top: 3px; padding-bottom: 3px; padding-left: 20px; padding-right: 20px;\"></td></tr><tr><td style=\"text-align: left; padding-top: 3px; padding-bottom: 3px; padding-left: 1px; padding-right: 1px;\"><font size=\"3\" face=\"arial\" color=\"black\">8.a</font></td><td style=\"text-align: left; padding-top: 3px; padding-bottom: 3px; padding-left: 20px; padding-right: 20px;\"></td><td style=\"text-align: left; padding-top: 3px; padding-bottom: 3px; padding-left: 20px; padding-right: 20px;\"></td><td style=\"text-align: left; padding-top: 3px; padding-bottom: 3px; padding-left: 1px; padding-right: 1px;\"><font size=\"3\" face=\"arial\" color=\"red\">RECANATI</font></td><td style=\"text-align: left; padding-top: 3px; padding-bottom: 3px; padding-left: 1px; padding-right: 1px;\"><font size=\"3\" face=\"arial\" color=\"black\">-</font></td><td style=\"text-align: left; padding-top: 3px; padding-bottom: 3px; padding-left: 1px; padding-right: 1px;\"><font size=\"3\" face=\"arial\" color=\"red\">FOSSOMBRONE</font></td><td style=\"text-align: left; padding-top: 3px; padding-bottom: 3px; padding-left: 20px; padding-right: 20px;\"></td><td style=\"text-align: left; padding-top: 3px; padding-bottom: 3px; padding-left: 1px; padding-right: 1px;\"><font size=\"3\" face=\"arial\" color=\"black\">80</font></td><td style=\"text-align: left; padding-top: 3px; padding-bottom: 3px; padding-left: 1px; padding-right: 1px;\"><font size=\"3\" face=\"arial\" color=\"black\">-</font></td><td style=\"text-align: left; padding-top: 3px; padding-bottom: 3px; padding-left: 1px; padding-right: 1px;\"><font size=\"3\" face=\"arial\" color=\"black\">83</font></td><td style=\"text-align: left; padding-top: 3px; padding-bottom: 3px; padding-left: 20px; padding-right: 20px;\"></td><td style=\"text-align: left; padding-top: 3px; padding-bottom: 3px; padding-left: 1px; padding-right: 1px;\">-</td><td style=\"text-align: left; padding-top: 3px; padding-bottom: 3px; padding-left: 1px; padding-right: 1px;\"><font size=\"3\" face=\"arial\" color=\"black\">3</font></td><td style=\"text-align: left; padding-top: 3px; padding-bottom: 3px; padding-left: 20px; padding-right: 20px;\"></td><td style=\"text-align: left; padding-top: 3px; padding-bottom: 3px; padding-left: 20px; padding-right: 20px;\"></td><td style=\"text-align: right; padding-top: 3px; padding-bottom: 3px; padding-left: 1px; padding-right: 1px;\"><font size=\"3\" face=\"arial\" color=\"black\">13.00</font></td><td style=\"text-align: left; padding-top: 3px; padding-bottom: 3px; padding-left: 20px; padding-right: 20px;\"></td></tr><tr><td style=\"text-align: left; padding-top: 3px; padding-bottom: 3px; padding-left: 1px; padding-right: 1px;\"><font size=\"3\" face=\"arial\" color=\"black\">9.a</font></td><td style=\"text-align: left; padding-top: 3px; padding-bottom: 3px; padding-left: 20px; padding-right: 20px;\"></td><td style=\"text-align: left; padding-top: 3px; padding-bottom: 3px; padding-left: 20px; padding-right: 20px;\"></td><td style=\"text-align: left; padding-top: 3px; padding-bottom: 3px; padding-left: 1px; padding-right: 1px;\"><font size=\"3\" face=\"arial\" color=\"green\">TOLENTINO</font></td><td style=\"text-align: left; padding-top: 3px; padding-bottom: 3px; padding-left: 1px; padding-right: 1px;\"><font size=\"3\" face=\"arial\" color=\"black\">-</font></td><td style=\"text-align: left; padding-top: 3px; padding-bottom: 3px; padding-left: 1px; padding-right: 1px;\"><font size=\"3\" face=\"arial\" color=\"green\">RECANATI</font></td><td style=\"text-align: left; padding-top: 3px; padding-bottom: 3px; padding-left: 20px; padding-right: 20px;\"></td><td style=\"text-align: left; padding-top: 3px; padding-bottom: 3px; padding-left: 1px; padding-right: 1px;\"><font size=\"3\" face=\"arial\" color=\"black\">56</font></td><td style=\"text-align: left; padding-top: 3px; padding-bottom: 3px; padding-left: 1px; padding-right: 1px;\"><font size=\"3\" face=\"arial\" color=\"black\">-</font></td><td style=\"text-align: left; padding-top: 3px; padding-bottom: 3px; padding-left: 1px; padding-right: 1px;\"><font size=\"3\" face=\"arial\" color=\"black\">75</font></td><td style=\"text-align: left; padding-top: 3px; padding-bottom: 3px; padding-left: 20px; padding-right: 20px;\"></td><td style=\"text-align: left; padding-top: 3px; padding-bottom: 3px; padding-left: 1px; padding-right: 1px;\">+</td><td style=\"text-align: left; padding-top: 3px; padding-bottom: 3px; padding-left: 1px; padding-right: 1px;\"><font size=\"3\" face=\"arial\" color=\"black\">19</font></td><td style=\"text-align: left; padding-top: 3px; padding-bottom: 3px; padding-left: 20px; padding-right: 20px;\"></td><td style=\"text-align: left; padding-top: 3px; padding-bottom: 3px; padding-left: 20px; padding-right: 20px;\"></td><td style=\"text-align: right; padding-top: 3px; padding-bottom: 3px; padding-left: 1px; padding-right: 1px;\"><font size=\"3\" face=\"arial\" color=\"black\">7.50</font></td><td style=\"text-align: left; padding-top: 3px; padding-bottom: 3px; padding-left: 20px; padding-right: 20px;\"></td></tr><tr><td style=\"text-align: left; padding-top: 3px; padding-bottom: 3px; padding-left: 1px; padding-right: 1px;\"><font size=\"3\" face=\"arial\" color=\"black\">10.a</font></td><td style=\"text-align: left; padding-top: 3px; padding-bottom: 3px; padding-left: 20px; padding-right: 20px;\"></td><td style=\"text-align: left; padding-top: 3px; padding-bottom: 3px; padding-left: 20px; padding-right: 20px;\"></td><td style=\"text-align: left; padding-top: 3px; padding-bottom: 3px; padding-left: 1px; padding-right: 1px;\"><font size=\"3\" face=\"arial\" color=\"red\">PERUGIA</font></td><td style=\"text-align: left; padding-top: 3px; padding-bottom: 3px; padding-left: 1px; padding-right: 1px;\"><font size=\"3\" face=\"arial\" color=\"black\">-</font></td><td style=\"text-align: left; padding-top: 3px; padding-bottom: 3px; padding-left: 1px; padding-right: 1px;\"><font size=\"3\" face=\"arial\" color=\"red\">RECANATI</font></td><td style=\"text-align: left; padding-top: 3px; padding-bottom: 3px; padding-left: 20px; padding-right: 20px;\"></td><td style=\"text-align: left; padding-top: 3px; padding-bottom: 3px; padding-left: 1px; padding-right: 1px;\"><font size=\"3\" face=\"arial\" color=\"black\">69</font></td><td style=\"text-align: left; padding-top: 3px; padding-bottom: 3px; padding-left: 1px; padding-right: 1px;\"><font size=\"3\" face=\"arial\" color=\"black\">-</font></td><td style=\"text-align: left; padding-top: 3px; padding-bottom: 3px; padding-left: 1px; padding-right: 1px;\"><font size=\"3\" face=\"arial\" color=\"black\">62</font></td><td style=\"text-align: left; padding-top: 3px; padding-bottom: 3px; padding-left: 20px; padding-right: 20px;\"></td><td style=\"text-align: left; padding-top: 3px; padding-bottom: 3px; padding-left: 1px; padding-right: 1px;\">-</td><td style=\"text-align: left; padding-top: 3px; padding-bottom: 3px; padding-left: 1px; padding-right: 1px;\"><font size=\"3\" face=\"arial\" color=\"black\">7</font></td><td style=\"text-align: left; padding-top: 3px; padding-bottom: 3px; padding-left: 20px; padding-right: 20px;\"></td><td style=\"text-align: left; padding-top: 3px; padding-bottom: 3px; padding-left: 20px; padding-right: 20px;\"></td><td style=\"text-align: right; padding-top: 3px; padding-bottom: 3px; padding-left: 1px; padding-right: 1px;\"><font size=\"3\" face=\"arial\" color=\"black\">15.00</font></td><td style=\"text-align: left; padding-top: 3px; padding-bottom: 3px; padding-left: 20px; padding-right: 20px;\"></td></tr><tr><td style=\"text-align: left; padding-top: 3px; padding-bottom: 3px; padding-left: 1px; padding-right: 1px;\"><font size=\"3\" face=\"arial\" color=\"black\">11.a</font></td><td style=\"text-align: left; padding-top: 3px; padding-bottom: 3px; padding-left: 20px; padding-right: 20px;\"></td><td style=\"text-align: left; padding-top: 3px; padding-bottom: 3px; padding-left: 20px; padding-right: 20px;\"></td><td style=\"text-align: left; padding-top: 3px; padding-bottom: 3px; padding-left: 1px; padding-right: 1px;\"><font size=\"3\" face=\"arial\" color=\"green\">RECANATI</font></td><td style=\"text-align: left; padding-top: 3px; padding-bottom: 3px; padding-left: 1px; padding-right: 1px;\"><font size=\"3\" face=\"arial\" color=\"black\">-</font></td><td style=\"text-align: left; padding-top: 3px; padding-bottom: 3px; padding-left: 1px; padding-right: 1px;\"><font size=\"3\" face=\"arial\" color=\"green\">P.S. GIORGIO</font></td><td style=\"text-align: left; padding-top: 3px; padding-bottom: 3px; padding-left: 20px; padding-right: 20px;\"></td><td style=\"text-align: left; padding-top: 3px; padding-bottom: 3px; padding-left: 1px; padding-right: 1px;\"><font size=\"3\" face=\"arial\" color=\"black\">75</font></td><td style=\"text-align: left; padding-top: 3px; padding-bottom: 3px; padding-left: 1px; padding-right: 1px;\"><font size=\"3\" face=\"arial\" color=\"black\">-</font></td><td style=\"text-align: left; padding-top: 3px; padding-bottom: 3px; padding-left: 1px; padding-right: 1px;\"><font size=\"3\" face=\"arial\" color=\"black\">66</font></td><td style=\"text-align: left; padding-top: 3px; padding-bottom: 3px; padding-left: 20px; padding-right: 20px;\"></td><td style=\"text-align: left; padding-top: 3px; padding-bottom: 3px; padding-left: 1px; padding-right: 1px;\">+</td><td style=\"text-align: left; padding-top: 3px; padding-bottom: 3px; padding-left: 1px; padding-right: 1px;\"><font size=\"3\" face=\"arial\" color=\"black\">9</font></td><td style=\"text-align: left; padding-top: 3px; padding-bottom: 3px; padding-left: 20px; padding-right: 20px;\"></td><td style=\"text-align: left; padding-top: 3px; padding-bottom: 3px; padding-left: 20px; padding-right: 20px;\"></td><td style=\"text-align: right; padding-top: 3px; padding-bottom: 3px; padding-left: 1px; padding-right: 1px;\"><font size=\"3\" face=\"arial\" color=\"black\">8.00</font></td><td style=\"text-align: left; padding-top: 3px; padding-bottom: 3px; padding-left: 20px; padding-right: 20px;\"></td></tr><tr><td style=\"text-align: left; padding-top: 3px; padding-bottom: 3px; padding-left: 1px; padding-right: 1px;\"><font size=\"3\" face=\"arial\" color=\"black\">12.a</font></td><td style=\"text-align: left; padding-top: 3px; padding-bottom: 3px; padding-left: 20px; padding-right: 20px;\"></td><td style=\"text-align: left; padding-top: 3px; padding-bottom: 3px; padding-left: 20px; padding-right: 20px;\"></td><td style=\"text-align: left; padding-top: 3px; padding-bottom: 3px; padding-left: 1px; padding-right: 1px;\"><font size=\"3\" face=\"arial\" color=\"red\">BASKET GIOVANE</font></td><td style=\"text-align: left; padding-top: 3px; padding-bottom: 3px; padding-left: 1px; padding-right: 1px;\"><font size=\"3\" face=\"arial\" color=\"black\">-</font></td><td style=\"text-align: left; padding-top: 3px; padding-bottom: 3px; padding-left: 1px; padding-right: 1px;\"><font size=\"3\" face=\"arial\" color=\"red\">RECANATI</font></td><td style=\"text-align: left; padding-top: 3px; padding-bottom: 3px; padding-left: 20px; padding-right: 20px;\"></td><td style=\"text-align: left; padding-top: 3px; padding-bottom: 3px; padding-left: 1px; padding-right: 1px;\"><font size=\"3\" face=\"arial\" color=\"black\">72</font></td><td style=\"text-align: left; padding-top: 3px; padding-bottom: 3px; padding-left: 1px; padding-right: 1px;\"><font size=\"3\" face=\"arial\" color=\"black\">-</font></td><td style=\"text-align: left; padding-top: 3px; padding-bottom: 3px; padding-left: 1px; padding-right: 1px;\"><font size=\"3\" face=\"arial\" color=\"black\">67</font></td><td style=\"text-align: left; padding-top: 3px; padding-bottom: 3px; padding-left: 20px; padding-right: 20px;\"></td><td style=\"text-align: left; padding-top: 3px; padding-bottom: 3px; padding-left: 1px; padding-right: 1px;\">-</td><td style=\"text-align: left; padding-top: 3px; padding-bottom: 3px; padding-left: 1px; padding-right: 1px;\"><font size=\"3\" face=\"arial\" color=\"black\">5</font></td><td style=\"text-align: left; padding-top: 3px; padding-bottom: 3px; padding-left: 20px; padding-right: 20px;\"></td><td style=\"text-align: left; padding-top: 3px; padding-bottom: 3px; padding-left: 20px; padding-right: 20px;\"></td><td style=\"text-align: right; padding-top: 3px; padding-bottom: 3px; padding-left: 1px; padding-right: 1px;\"><font size=\"3\" face=\"arial\" color=\"black\">2.50</font></td><td style=\"text-align: left; padding-top: 3px; padding-bottom: 3px; padding-left: 20px; padding-right: 20px;\"></td></tr></table>"
      ],
      "text/plain": [
       "<IPython.core.display.HTML object>"
      ]
     },
     "metadata": {},
     "output_type": "display_data"
    },
    {
     "data": {
      "text/html": [
       "<table><tr><th style=\"text-align: left; padding-top: 3px; padding-bottom: 3px; padding-left: 1px; padding-right: 1px;\" colspan=\"3\"><font size=\"3\" face=\"arial\" color=\"black\">Giornata</font></th><th style=\"text-align: left; padding-top: 3px; padding-bottom: 3px; padding-left: 1px; padding-right: 1px;\" width=\"300px;\" colspan=\"4\"><font size=\"3\" face=\"arial\" color=\"black\">SAN MARINO</font></th><th style=\"text-align: left; padding-top: 3px; padding-bottom: 3px; padding-left: 1px; padding-right: 1px;\" width=\"90px;\" colspan=\"4\"><font size=\"3\" face=\"arial\" color=\"black\">Risultato</font></th><th style=\"text-align: left; padding-top: 3px; padding-bottom: 3px; padding-left: 1px; padding-right: 1px;\" colspan=\"3\"><font size=\"3\" face=\"arial\" color=\"black\">Scarto</font></th><th style=\"text-align: right; padding-top: 3px; padding-bottom: 3px; padding-left: 1px; padding-right: 1px;\" colspan=\"3\"><font size=\"3\" face=\"arial\" color=\"black\">Difficoltà   113.50</font></th></tr><tr><td style=\"text-align: left; padding-top: 3px; padding-bottom: 3px; padding-left: 1px; padding-right: 1px;\"><font size=\"3\" face=\"arial\" color=\"black\">1.a</font></td><td style=\"text-align: left; padding-top: 3px; padding-bottom: 3px; padding-left: 20px; padding-right: 20px;\"></td><td style=\"text-align: left; padding-top: 3px; padding-bottom: 3px; padding-left: 20px; padding-right: 20px;\"></td><td style=\"text-align: left; padding-top: 3px; padding-bottom: 3px; padding-left: 1px; padding-right: 1px;\"><font size=\"3\" face=\"arial\" color=\"red\">URBANIA</font></td><td style=\"text-align: left; padding-top: 3px; padding-bottom: 3px; padding-left: 1px; padding-right: 1px;\"><font size=\"3\" face=\"arial\" color=\"black\">-</font></td><td style=\"text-align: left; padding-top: 3px; padding-bottom: 3px; padding-left: 1px; padding-right: 1px;\"><font size=\"3\" face=\"arial\" color=\"red\">SAN MARINO</font></td><td style=\"text-align: left; padding-top: 3px; padding-bottom: 3px; padding-left: 20px; padding-right: 20px;\"></td><td style=\"text-align: left; padding-top: 3px; padding-bottom: 3px; padding-left: 1px; padding-right: 1px;\"><font size=\"3\" face=\"arial\" color=\"black\">75</font></td><td style=\"text-align: left; padding-top: 3px; padding-bottom: 3px; padding-left: 1px; padding-right: 1px;\"><font size=\"3\" face=\"arial\" color=\"black\">-</font></td><td style=\"text-align: left; padding-top: 3px; padding-bottom: 3px; padding-left: 1px; padding-right: 1px;\"><font size=\"3\" face=\"arial\" color=\"black\">45</font></td><td style=\"text-align: left; padding-top: 3px; padding-bottom: 3px; padding-left: 20px; padding-right: 20px;\"></td><td style=\"text-align: left; padding-top: 3px; padding-bottom: 3px; padding-left: 1px; padding-right: 1px;\">-</td><td style=\"text-align: left; padding-top: 3px; padding-bottom: 3px; padding-left: 1px; padding-right: 1px;\"><font size=\"3\" face=\"arial\" color=\"black\">30</font></td><td style=\"text-align: left; padding-top: 3px; padding-bottom: 3px; padding-left: 20px; padding-right: 20px;\"></td><td style=\"text-align: left; padding-top: 3px; padding-bottom: 3px; padding-left: 20px; padding-right: 20px;\"></td><td style=\"text-align: right; padding-top: 3px; padding-bottom: 3px; padding-left: 1px; padding-right: 1px;\"><font size=\"3\" face=\"arial\" color=\"black\">17.50</font></td><td style=\"text-align: left; padding-top: 3px; padding-bottom: 3px; padding-left: 20px; padding-right: 20px;\"></td></tr><tr><td style=\"text-align: left; padding-top: 3px; padding-bottom: 3px; padding-left: 1px; padding-right: 1px;\"><font size=\"3\" face=\"arial\" color=\"black\">2.a</font></td><td style=\"text-align: left; padding-top: 3px; padding-bottom: 3px; padding-left: 20px; padding-right: 20px;\"></td><td style=\"text-align: left; padding-top: 3px; padding-bottom: 3px; padding-left: 20px; padding-right: 20px;\"></td><td style=\"text-align: left; padding-top: 3px; padding-bottom: 3px; padding-left: 1px; padding-right: 1px;\"><font size=\"3\" face=\"arial\" color=\"green\">SAN MARINO</font></td><td style=\"text-align: left; padding-top: 3px; padding-bottom: 3px; padding-left: 1px; padding-right: 1px;\"><font size=\"3\" face=\"arial\" color=\"black\">-</font></td><td style=\"text-align: left; padding-top: 3px; padding-bottom: 3px; padding-left: 1px; padding-right: 1px;\"><font size=\"3\" face=\"arial\" color=\"green\">ASCOLI</font></td><td style=\"text-align: left; padding-top: 3px; padding-bottom: 3px; padding-left: 20px; padding-right: 20px;\"></td><td style=\"text-align: left; padding-top: 3px; padding-bottom: 3px; padding-left: 1px; padding-right: 1px;\"><font size=\"3\" face=\"arial\" color=\"black\">65</font></td><td style=\"text-align: left; padding-top: 3px; padding-bottom: 3px; padding-left: 1px; padding-right: 1px;\"><font size=\"3\" face=\"arial\" color=\"black\">-</font></td><td style=\"text-align: left; padding-top: 3px; padding-bottom: 3px; padding-left: 1px; padding-right: 1px;\"><font size=\"3\" face=\"arial\" color=\"black\">50</font></td><td style=\"text-align: left; padding-top: 3px; padding-bottom: 3px; padding-left: 20px; padding-right: 20px;\"></td><td style=\"text-align: left; padding-top: 3px; padding-bottom: 3px; padding-left: 1px; padding-right: 1px;\">+</td><td style=\"text-align: left; padding-top: 3px; padding-bottom: 3px; padding-left: 1px; padding-right: 1px;\"><font size=\"3\" face=\"arial\" color=\"black\">15</font></td><td style=\"text-align: left; padding-top: 3px; padding-bottom: 3px; padding-left: 20px; padding-right: 20px;\"></td><td style=\"text-align: left; padding-top: 3px; padding-bottom: 3px; padding-left: 20px; padding-right: 20px;\"></td><td style=\"text-align: right; padding-top: 3px; padding-bottom: 3px; padding-left: 1px; padding-right: 1px;\"><font size=\"3\" face=\"arial\" color=\"black\">4.00</font></td><td style=\"text-align: left; padding-top: 3px; padding-bottom: 3px; padding-left: 20px; padding-right: 20px;\"></td></tr><tr><td style=\"text-align: left; padding-top: 3px; padding-bottom: 3px; padding-left: 1px; padding-right: 1px;\"><font size=\"3\" face=\"arial\" color=\"black\">3.a</font></td><td style=\"text-align: left; padding-top: 3px; padding-bottom: 3px; padding-left: 20px; padding-right: 20px;\"></td><td style=\"text-align: left; padding-top: 3px; padding-bottom: 3px; padding-left: 20px; padding-right: 20px;\"></td><td style=\"text-align: left; padding-top: 3px; padding-bottom: 3px; padding-left: 1px; padding-right: 1px;\"><font size=\"3\" face=\"arial\" color=\"green\">TOLENTINO</font></td><td style=\"text-align: left; padding-top: 3px; padding-bottom: 3px; padding-left: 1px; padding-right: 1px;\"><font size=\"3\" face=\"arial\" color=\"black\">-</font></td><td style=\"text-align: left; padding-top: 3px; padding-bottom: 3px; padding-left: 1px; padding-right: 1px;\"><font size=\"3\" face=\"arial\" color=\"green\">SAN MARINO</font></td><td style=\"text-align: left; padding-top: 3px; padding-bottom: 3px; padding-left: 20px; padding-right: 20px;\"></td><td style=\"text-align: left; padding-top: 3px; padding-bottom: 3px; padding-left: 1px; padding-right: 1px;\"><font size=\"3\" face=\"arial\" color=\"black\">58</font></td><td style=\"text-align: left; padding-top: 3px; padding-bottom: 3px; padding-left: 1px; padding-right: 1px;\"><font size=\"3\" face=\"arial\" color=\"black\">-</font></td><td style=\"text-align: left; padding-top: 3px; padding-bottom: 3px; padding-left: 1px; padding-right: 1px;\"><font size=\"3\" face=\"arial\" color=\"black\">75</font></td><td style=\"text-align: left; padding-top: 3px; padding-bottom: 3px; padding-left: 20px; padding-right: 20px;\"></td><td style=\"text-align: left; padding-top: 3px; padding-bottom: 3px; padding-left: 1px; padding-right: 1px;\">+</td><td style=\"text-align: left; padding-top: 3px; padding-bottom: 3px; padding-left: 1px; padding-right: 1px;\"><font size=\"3\" face=\"arial\" color=\"black\">17</font></td><td style=\"text-align: left; padding-top: 3px; padding-bottom: 3px; padding-left: 20px; padding-right: 20px;\"></td><td style=\"text-align: left; padding-top: 3px; padding-bottom: 3px; padding-left: 20px; padding-right: 20px;\"></td><td style=\"text-align: right; padding-top: 3px; padding-bottom: 3px; padding-left: 1px; padding-right: 1px;\"><font size=\"3\" face=\"arial\" color=\"black\">7.50</font></td><td style=\"text-align: left; padding-top: 3px; padding-bottom: 3px; padding-left: 20px; padding-right: 20px;\"></td></tr><tr><td style=\"text-align: left; padding-top: 3px; padding-bottom: 3px; padding-left: 1px; padding-right: 1px;\"><font size=\"3\" face=\"arial\" color=\"black\">4.a</font></td><td style=\"text-align: left; padding-top: 3px; padding-bottom: 3px; padding-left: 20px; padding-right: 20px;\"></td><td style=\"text-align: left; padding-top: 3px; padding-bottom: 3px; padding-left: 20px; padding-right: 20px;\"></td><td style=\"text-align: left; padding-top: 3px; padding-bottom: 3px; padding-left: 1px; padding-right: 1px;\"><font size=\"3\" face=\"arial\" color=\"green\">GUALDO</font></td><td style=\"text-align: left; padding-top: 3px; padding-bottom: 3px; padding-left: 1px; padding-right: 1px;\"><font size=\"3\" face=\"arial\" color=\"black\">-</font></td><td style=\"text-align: left; padding-top: 3px; padding-bottom: 3px; padding-left: 1px; padding-right: 1px;\"><font size=\"3\" face=\"arial\" color=\"green\">SAN MARINO</font></td><td style=\"text-align: left; padding-top: 3px; padding-bottom: 3px; padding-left: 20px; padding-right: 20px;\"></td><td style=\"text-align: left; padding-top: 3px; padding-bottom: 3px; padding-left: 1px; padding-right: 1px;\"><font size=\"3\" face=\"arial\" color=\"black\">69</font></td><td style=\"text-align: left; padding-top: 3px; padding-bottom: 3px; padding-left: 1px; padding-right: 1px;\"><font size=\"3\" face=\"arial\" color=\"black\">-</font></td><td style=\"text-align: left; padding-top: 3px; padding-bottom: 3px; padding-left: 1px; padding-right: 1px;\"><font size=\"3\" face=\"arial\" color=\"black\">78</font></td><td style=\"text-align: left; padding-top: 3px; padding-bottom: 3px; padding-left: 20px; padding-right: 20px;\"></td><td style=\"text-align: left; padding-top: 3px; padding-bottom: 3px; padding-left: 1px; padding-right: 1px;\">+</td><td style=\"text-align: left; padding-top: 3px; padding-bottom: 3px; padding-left: 1px; padding-right: 1px;\"><font size=\"3\" face=\"arial\" color=\"black\">9</font></td><td style=\"text-align: left; padding-top: 3px; padding-bottom: 3px; padding-left: 20px; padding-right: 20px;\"></td><td style=\"text-align: left; padding-top: 3px; padding-bottom: 3px; padding-left: 20px; padding-right: 20px;\"></td><td style=\"text-align: right; padding-top: 3px; padding-bottom: 3px; padding-left: 1px; padding-right: 1px;\"><font size=\"3\" face=\"arial\" color=\"black\">11.25</font></td><td style=\"text-align: left; padding-top: 3px; padding-bottom: 3px; padding-left: 20px; padding-right: 20px;\"></td></tr><tr><td style=\"text-align: left; padding-top: 3px; padding-bottom: 3px; padding-left: 1px; padding-right: 1px;\"><font size=\"3\" face=\"arial\" color=\"black\">5.a</font></td><td style=\"text-align: left; padding-top: 3px; padding-bottom: 3px; padding-left: 20px; padding-right: 20px;\"></td><td style=\"text-align: left; padding-top: 3px; padding-bottom: 3px; padding-left: 20px; padding-right: 20px;\"></td><td style=\"text-align: left; padding-top: 3px; padding-bottom: 3px; padding-left: 1px; padding-right: 1px;\"><font size=\"3\" face=\"arial\" color=\"green\">SAN MARINO</font></td><td style=\"text-align: left; padding-top: 3px; padding-bottom: 3px; padding-left: 1px; padding-right: 1px;\"><font size=\"3\" face=\"arial\" color=\"black\">-</font></td><td style=\"text-align: left; padding-top: 3px; padding-bottom: 3px; padding-left: 1px; padding-right: 1px;\"><font size=\"3\" face=\"arial\" color=\"green\">FOSSOMBRONE</font></td><td style=\"text-align: left; padding-top: 3px; padding-bottom: 3px; padding-left: 20px; padding-right: 20px;\"></td><td style=\"text-align: left; padding-top: 3px; padding-bottom: 3px; padding-left: 1px; padding-right: 1px;\"><font size=\"3\" face=\"arial\" color=\"black\">67</font></td><td style=\"text-align: left; padding-top: 3px; padding-bottom: 3px; padding-left: 1px; padding-right: 1px;\"><font size=\"3\" face=\"arial\" color=\"black\">-</font></td><td style=\"text-align: left; padding-top: 3px; padding-bottom: 3px; padding-left: 1px; padding-right: 1px;\"><font size=\"3\" face=\"arial\" color=\"black\">63</font></td><td style=\"text-align: left; padding-top: 3px; padding-bottom: 3px; padding-left: 20px; padding-right: 20px;\"></td><td style=\"text-align: left; padding-top: 3px; padding-bottom: 3px; padding-left: 1px; padding-right: 1px;\">+</td><td style=\"text-align: left; padding-top: 3px; padding-bottom: 3px; padding-left: 1px; padding-right: 1px;\"><font size=\"3\" face=\"arial\" color=\"black\">4</font></td><td style=\"text-align: left; padding-top: 3px; padding-bottom: 3px; padding-left: 20px; padding-right: 20px;\"></td><td style=\"text-align: left; padding-top: 3px; padding-bottom: 3px; padding-left: 20px; padding-right: 20px;\"></td><td style=\"text-align: right; padding-top: 3px; padding-bottom: 3px; padding-left: 1px; padding-right: 1px;\"><font size=\"3\" face=\"arial\" color=\"black\">13.00</font></td><td style=\"text-align: left; padding-top: 3px; padding-bottom: 3px; padding-left: 20px; padding-right: 20px;\"></td></tr><tr><td style=\"text-align: left; padding-top: 3px; padding-bottom: 3px; padding-left: 1px; padding-right: 1px;\"><font size=\"3\" face=\"arial\" color=\"black\">6.a</font></td><td style=\"text-align: left; padding-top: 3px; padding-bottom: 3px; padding-left: 20px; padding-right: 20px;\"></td><td style=\"text-align: left; padding-top: 3px; padding-bottom: 3px; padding-left: 20px; padding-right: 20px;\"></td><td style=\"text-align: left; padding-top: 3px; padding-bottom: 3px; padding-left: 1px; padding-right: 1px;\"><font size=\"3\" face=\"arial\" color=\"green\">RECANATI</font></td><td style=\"text-align: left; padding-top: 3px; padding-bottom: 3px; padding-left: 1px; padding-right: 1px;\"><font size=\"3\" face=\"arial\" color=\"black\">-</font></td><td style=\"text-align: left; padding-top: 3px; padding-bottom: 3px; padding-left: 1px; padding-right: 1px;\"><font size=\"3\" face=\"arial\" color=\"green\">SAN MARINO</font></td><td style=\"text-align: left; padding-top: 3px; padding-bottom: 3px; padding-left: 20px; padding-right: 20px;\"></td><td style=\"text-align: left; padding-top: 3px; padding-bottom: 3px; padding-left: 1px; padding-right: 1px;\"><font size=\"3\" face=\"arial\" color=\"black\">67</font></td><td style=\"text-align: left; padding-top: 3px; padding-bottom: 3px; padding-left: 1px; padding-right: 1px;\"><font size=\"3\" face=\"arial\" color=\"black\">-</font></td><td style=\"text-align: left; padding-top: 3px; padding-bottom: 3px; padding-left: 1px; padding-right: 1px;\"><font size=\"3\" face=\"arial\" color=\"black\">70</font></td><td style=\"text-align: left; padding-top: 3px; padding-bottom: 3px; padding-left: 20px; padding-right: 20px;\"></td><td style=\"text-align: left; padding-top: 3px; padding-bottom: 3px; padding-left: 1px; padding-right: 1px;\">+</td><td style=\"text-align: left; padding-top: 3px; padding-bottom: 3px; padding-left: 1px; padding-right: 1px;\"><font size=\"3\" face=\"arial\" color=\"black\">3</font></td><td style=\"text-align: left; padding-top: 3px; padding-bottom: 3px; padding-left: 20px; padding-right: 20px;\"></td><td style=\"text-align: left; padding-top: 3px; padding-bottom: 3px; padding-left: 20px; padding-right: 20px;\"></td><td style=\"text-align: right; padding-top: 3px; padding-bottom: 3px; padding-left: 1px; padding-right: 1px;\"><font size=\"3\" face=\"arial\" color=\"black\">13.75</font></td><td style=\"text-align: left; padding-top: 3px; padding-bottom: 3px; padding-left: 20px; padding-right: 20px;\"></td></tr><tr><td style=\"text-align: left; padding-top: 3px; padding-bottom: 3px; padding-left: 1px; padding-right: 1px;\"><font size=\"3\" face=\"arial\" color=\"black\">7.a</font></td><td style=\"text-align: left; padding-top: 3px; padding-bottom: 3px; padding-left: 20px; padding-right: 20px;\"></td><td style=\"text-align: left; padding-top: 3px; padding-bottom: 3px; padding-left: 20px; padding-right: 20px;\"></td><td style=\"text-align: left; padding-top: 3px; padding-bottom: 3px; padding-left: 1px; padding-right: 1px;\"><font size=\"3\" face=\"arial\" color=\"red\">SAN MARINO</font></td><td style=\"text-align: left; padding-top: 3px; padding-bottom: 3px; padding-left: 1px; padding-right: 1px;\"><font size=\"3\" face=\"arial\" color=\"black\">-</font></td><td style=\"text-align: left; padding-top: 3px; padding-bottom: 3px; padding-left: 1px; padding-right: 1px;\"><font size=\"3\" face=\"arial\" color=\"red\">PERUGIA</font></td><td style=\"text-align: left; padding-top: 3px; padding-bottom: 3px; padding-left: 20px; padding-right: 20px;\"></td><td style=\"text-align: left; padding-top: 3px; padding-bottom: 3px; padding-left: 1px; padding-right: 1px;\"><font size=\"3\" face=\"arial\" color=\"black\">74</font></td><td style=\"text-align: left; padding-top: 3px; padding-bottom: 3px; padding-left: 1px; padding-right: 1px;\"><font size=\"3\" face=\"arial\" color=\"black\">-</font></td><td style=\"text-align: left; padding-top: 3px; padding-bottom: 3px; padding-left: 1px; padding-right: 1px;\"><font size=\"3\" face=\"arial\" color=\"black\">75</font></td><td style=\"text-align: left; padding-top: 3px; padding-bottom: 3px; padding-left: 20px; padding-right: 20px;\"></td><td style=\"text-align: left; padding-top: 3px; padding-bottom: 3px; padding-left: 1px; padding-right: 1px;\">-</td><td style=\"text-align: left; padding-top: 3px; padding-bottom: 3px; padding-left: 1px; padding-right: 1px;\"><font size=\"3\" face=\"arial\" color=\"black\">1</font></td><td style=\"text-align: left; padding-top: 3px; padding-bottom: 3px; padding-left: 20px; padding-right: 20px;\"></td><td style=\"text-align: left; padding-top: 3px; padding-bottom: 3px; padding-left: 20px; padding-right: 20px;\"></td><td style=\"text-align: right; padding-top: 3px; padding-bottom: 3px; padding-left: 1px; padding-right: 1px;\"><font size=\"3\" face=\"arial\" color=\"black\">12.00</font></td><td style=\"text-align: left; padding-top: 3px; padding-bottom: 3px; padding-left: 20px; padding-right: 20px;\"></td></tr><tr><td style=\"text-align: left; padding-top: 3px; padding-bottom: 3px; padding-left: 1px; padding-right: 1px;\"><font size=\"3\" face=\"arial\" color=\"black\">8.a</font></td><td style=\"text-align: left; padding-top: 3px; padding-bottom: 3px; padding-left: 20px; padding-right: 20px;\"></td><td style=\"text-align: left; padding-top: 3px; padding-bottom: 3px; padding-left: 20px; padding-right: 20px;\"></td><td style=\"text-align: left; padding-top: 3px; padding-bottom: 3px; padding-left: 1px; padding-right: 1px;\"><font size=\"3\" face=\"arial\" color=\"red\">P.S. GIORGIO</font></td><td style=\"text-align: left; padding-top: 3px; padding-bottom: 3px; padding-left: 1px; padding-right: 1px;\"><font size=\"3\" face=\"arial\" color=\"black\">-</font></td><td style=\"text-align: left; padding-top: 3px; padding-bottom: 3px; padding-left: 1px; padding-right: 1px;\"><font size=\"3\" face=\"arial\" color=\"red\">SAN MARINO</font></td><td style=\"text-align: left; padding-top: 3px; padding-bottom: 3px; padding-left: 20px; padding-right: 20px;\"></td><td style=\"text-align: left; padding-top: 3px; padding-bottom: 3px; padding-left: 1px; padding-right: 1px;\"><font size=\"3\" face=\"arial\" color=\"black\">78</font></td><td style=\"text-align: left; padding-top: 3px; padding-bottom: 3px; padding-left: 1px; padding-right: 1px;\"><font size=\"3\" face=\"arial\" color=\"black\">-</font></td><td style=\"text-align: left; padding-top: 3px; padding-bottom: 3px; padding-left: 1px; padding-right: 1px;\"><font size=\"3\" face=\"arial\" color=\"black\">74</font></td><td style=\"text-align: left; padding-top: 3px; padding-bottom: 3px; padding-left: 20px; padding-right: 20px;\"></td><td style=\"text-align: left; padding-top: 3px; padding-bottom: 3px; padding-left: 1px; padding-right: 1px;\">-</td><td style=\"text-align: left; padding-top: 3px; padding-bottom: 3px; padding-left: 1px; padding-right: 1px;\"><font size=\"3\" face=\"arial\" color=\"black\">4</font></td><td style=\"text-align: left; padding-top: 3px; padding-bottom: 3px; padding-left: 20px; padding-right: 20px;\"></td><td style=\"text-align: left; padding-top: 3px; padding-bottom: 3px; padding-left: 20px; padding-right: 20px;\"></td><td style=\"text-align: right; padding-top: 3px; padding-bottom: 3px; padding-left: 1px; padding-right: 1px;\"><font size=\"3\" face=\"arial\" color=\"black\">10.00</font></td><td style=\"text-align: left; padding-top: 3px; padding-bottom: 3px; padding-left: 20px; padding-right: 20px;\"></td></tr><tr><td style=\"text-align: left; padding-top: 3px; padding-bottom: 3px; padding-left: 1px; padding-right: 1px;\"><font size=\"3\" face=\"arial\" color=\"black\">9.a</font></td><td style=\"text-align: left; padding-top: 3px; padding-bottom: 3px; padding-left: 20px; padding-right: 20px;\"></td><td style=\"text-align: left; padding-top: 3px; padding-bottom: 3px; padding-left: 20px; padding-right: 20px;\"></td><td style=\"text-align: left; padding-top: 3px; padding-bottom: 3px; padding-left: 1px; padding-right: 1px;\"><font size=\"3\" face=\"arial\" color=\"green\">SAN MARINO</font></td><td style=\"text-align: left; padding-top: 3px; padding-bottom: 3px; padding-left: 1px; padding-right: 1px;\"><font size=\"3\" face=\"arial\" color=\"black\">-</font></td><td style=\"text-align: left; padding-top: 3px; padding-bottom: 3px; padding-left: 1px; padding-right: 1px;\"><font size=\"3\" face=\"arial\" color=\"green\">BASKET GIOVANE</font></td><td style=\"text-align: left; padding-top: 3px; padding-bottom: 3px; padding-left: 20px; padding-right: 20px;\"></td><td style=\"text-align: left; padding-top: 3px; padding-bottom: 3px; padding-left: 1px; padding-right: 1px;\"><font size=\"3\" face=\"arial\" color=\"black\">80</font></td><td style=\"text-align: left; padding-top: 3px; padding-bottom: 3px; padding-left: 1px; padding-right: 1px;\"><font size=\"3\" face=\"arial\" color=\"black\">-</font></td><td style=\"text-align: left; padding-top: 3px; padding-bottom: 3px; padding-left: 1px; padding-right: 1px;\"><font size=\"3\" face=\"arial\" color=\"black\">67</font></td><td style=\"text-align: left; padding-top: 3px; padding-bottom: 3px; padding-left: 20px; padding-right: 20px;\"></td><td style=\"text-align: left; padding-top: 3px; padding-bottom: 3px; padding-left: 1px; padding-right: 1px;\">+</td><td style=\"text-align: left; padding-top: 3px; padding-bottom: 3px; padding-left: 1px; padding-right: 1px;\"><font size=\"3\" face=\"arial\" color=\"black\">13</font></td><td style=\"text-align: left; padding-top: 3px; padding-bottom: 3px; padding-left: 20px; padding-right: 20px;\"></td><td style=\"text-align: left; padding-top: 3px; padding-bottom: 3px; padding-left: 20px; padding-right: 20px;\"></td><td style=\"text-align: right; padding-top: 3px; padding-bottom: 3px; padding-left: 1px; padding-right: 1px;\"><font size=\"3\" face=\"arial\" color=\"black\">2.00</font></td><td style=\"text-align: left; padding-top: 3px; padding-bottom: 3px; padding-left: 20px; padding-right: 20px;\"></td></tr><tr><td style=\"text-align: left; padding-top: 3px; padding-bottom: 3px; padding-left: 1px; padding-right: 1px;\"><font size=\"3\" face=\"arial\" color=\"black\">10.a</font></td><td style=\"text-align: left; padding-top: 3px; padding-bottom: 3px; padding-left: 20px; padding-right: 20px;\"></td><td style=\"text-align: left; padding-top: 3px; padding-bottom: 3px; padding-left: 20px; padding-right: 20px;\"></td><td style=\"text-align: left; padding-top: 3px; padding-bottom: 3px; padding-left: 1px; padding-right: 1px;\"><font size=\"3\" face=\"arial\" color=\"red\">LORETO</font></td><td style=\"text-align: left; padding-top: 3px; padding-bottom: 3px; padding-left: 1px; padding-right: 1px;\"><font size=\"3\" face=\"arial\" color=\"black\">-</font></td><td style=\"text-align: left; padding-top: 3px; padding-bottom: 3px; padding-left: 1px; padding-right: 1px;\"><font size=\"3\" face=\"arial\" color=\"red\">SAN MARINO</font></td><td style=\"text-align: left; padding-top: 3px; padding-bottom: 3px; padding-left: 20px; padding-right: 20px;\"></td><td style=\"text-align: left; padding-top: 3px; padding-bottom: 3px; padding-left: 1px; padding-right: 1px;\"><font size=\"3\" face=\"arial\" color=\"black\">73</font></td><td style=\"text-align: left; padding-top: 3px; padding-bottom: 3px; padding-left: 1px; padding-right: 1px;\"><font size=\"3\" face=\"arial\" color=\"black\">-</font></td><td style=\"text-align: left; padding-top: 3px; padding-bottom: 3px; padding-left: 1px; padding-right: 1px;\"><font size=\"3\" face=\"arial\" color=\"black\">55</font></td><td style=\"text-align: left; padding-top: 3px; padding-bottom: 3px; padding-left: 20px; padding-right: 20px;\"></td><td style=\"text-align: left; padding-top: 3px; padding-bottom: 3px; padding-left: 1px; padding-right: 1px;\">-</td><td style=\"text-align: left; padding-top: 3px; padding-bottom: 3px; padding-left: 1px; padding-right: 1px;\"><font size=\"3\" face=\"arial\" color=\"black\">18</font></td><td style=\"text-align: left; padding-top: 3px; padding-bottom: 3px; padding-left: 20px; padding-right: 20px;\"></td><td style=\"text-align: left; padding-top: 3px; padding-bottom: 3px; padding-left: 20px; padding-right: 20px;\"></td><td style=\"text-align: right; padding-top: 3px; padding-bottom: 3px; padding-left: 1px; padding-right: 1px;\"><font size=\"3\" face=\"arial\" color=\"black\">18.75</font></td><td style=\"text-align: left; padding-top: 3px; padding-bottom: 3px; padding-left: 20px; padding-right: 20px;\"></td></tr><tr><td style=\"text-align: left; padding-top: 3px; padding-bottom: 3px; padding-left: 1px; padding-right: 1px;\"><font size=\"3\" face=\"arial\" color=\"black\">12.a</font></td><td style=\"text-align: left; padding-top: 3px; padding-bottom: 3px; padding-left: 20px; padding-right: 20px;\"></td><td style=\"text-align: left; padding-top: 3px; padding-bottom: 3px; padding-left: 20px; padding-right: 20px;\"></td><td style=\"text-align: left; padding-top: 3px; padding-bottom: 3px; padding-left: 1px; padding-right: 1px;\"><font size=\"3\" face=\"arial\" color=\"green\">UMBERTIDE</font></td><td style=\"text-align: left; padding-top: 3px; padding-bottom: 3px; padding-left: 1px; padding-right: 1px;\"><font size=\"3\" face=\"arial\" color=\"black\">-</font></td><td style=\"text-align: left; padding-top: 3px; padding-bottom: 3px; padding-left: 1px; padding-right: 1px;\"><font size=\"3\" face=\"arial\" color=\"green\">SAN MARINO</font></td><td style=\"text-align: left; padding-top: 3px; padding-bottom: 3px; padding-left: 20px; padding-right: 20px;\"></td><td style=\"text-align: left; padding-top: 3px; padding-bottom: 3px; padding-left: 1px; padding-right: 1px;\"><font size=\"3\" face=\"arial\" color=\"black\">39</font></td><td style=\"text-align: left; padding-top: 3px; padding-bottom: 3px; padding-left: 1px; padding-right: 1px;\"><font size=\"3\" face=\"arial\" color=\"black\">-</font></td><td style=\"text-align: left; padding-top: 3px; padding-bottom: 3px; padding-left: 1px; padding-right: 1px;\"><font size=\"3\" face=\"arial\" color=\"black\">91</font></td><td style=\"text-align: left; padding-top: 3px; padding-bottom: 3px; padding-left: 20px; padding-right: 20px;\"></td><td style=\"text-align: left; padding-top: 3px; padding-bottom: 3px; padding-left: 1px; padding-right: 1px;\">+</td><td style=\"text-align: left; padding-top: 3px; padding-bottom: 3px; padding-left: 1px; padding-right: 1px;\"><font size=\"3\" face=\"arial\" color=\"black\">52</font></td><td style=\"text-align: left; padding-top: 3px; padding-bottom: 3px; padding-left: 20px; padding-right: 20px;\"></td><td style=\"text-align: left; padding-top: 3px; padding-bottom: 3px; padding-left: 20px; padding-right: 20px;\"></td><td style=\"text-align: right; padding-top: 3px; padding-bottom: 3px; padding-left: 1px; padding-right: 1px;\"><font size=\"3\" face=\"arial\" color=\"black\">3.75</font></td><td style=\"text-align: left; padding-top: 3px; padding-bottom: 3px; padding-left: 20px; padding-right: 20px;\"></td></tr></table>"
      ],
      "text/plain": [
       "<IPython.core.display.HTML object>"
      ]
     },
     "metadata": {},
     "output_type": "display_data"
    },
    {
     "data": {
      "text/html": [
       "<table><tr><th style=\"text-align: left; padding-top: 3px; padding-bottom: 3px; padding-left: 1px; padding-right: 1px;\" colspan=\"3\"><font size=\"3\" face=\"arial\" color=\"black\">Giornata</font></th><th style=\"text-align: left; padding-top: 3px; padding-bottom: 3px; padding-left: 1px; padding-right: 1px;\" width=\"300px;\" colspan=\"4\"><font size=\"3\" face=\"arial\" color=\"black\">GUALDO</font></th><th style=\"text-align: left; padding-top: 3px; padding-bottom: 3px; padding-left: 1px; padding-right: 1px;\" width=\"90px;\" colspan=\"4\"><font size=\"3\" face=\"arial\" color=\"black\">Risultato</font></th><th style=\"text-align: left; padding-top: 3px; padding-bottom: 3px; padding-left: 1px; padding-right: 1px;\" colspan=\"3\"><font size=\"3\" face=\"arial\" color=\"black\">Scarto</font></th><th style=\"text-align: right; padding-top: 3px; padding-bottom: 3px; padding-left: 1px; padding-right: 1px;\" colspan=\"3\"><font size=\"3\" face=\"arial\" color=\"black\">Difficoltà   105.50</font></th></tr><tr><td style=\"text-align: left; padding-top: 3px; padding-bottom: 3px; padding-left: 1px; padding-right: 1px;\"><font size=\"3\" face=\"arial\" color=\"black\">1.a</font></td><td style=\"text-align: left; padding-top: 3px; padding-bottom: 3px; padding-left: 20px; padding-right: 20px;\"></td><td style=\"text-align: left; padding-top: 3px; padding-bottom: 3px; padding-left: 20px; padding-right: 20px;\"></td><td style=\"text-align: left; padding-top: 3px; padding-bottom: 3px; padding-left: 1px; padding-right: 1px;\"><font size=\"3\" face=\"arial\" color=\"green\">SPOLETO</font></td><td style=\"text-align: left; padding-top: 3px; padding-bottom: 3px; padding-left: 1px; padding-right: 1px;\"><font size=\"3\" face=\"arial\" color=\"black\">-</font></td><td style=\"text-align: left; padding-top: 3px; padding-bottom: 3px; padding-left: 1px; padding-right: 1px;\"><font size=\"3\" face=\"arial\" color=\"green\">GUALDO</font></td><td style=\"text-align: left; padding-top: 3px; padding-bottom: 3px; padding-left: 20px; padding-right: 20px;\"></td><td style=\"text-align: left; padding-top: 3px; padding-bottom: 3px; padding-left: 1px; padding-right: 1px;\"><font size=\"3\" face=\"arial\" color=\"black\">68</font></td><td style=\"text-align: left; padding-top: 3px; padding-bottom: 3px; padding-left: 1px; padding-right: 1px;\"><font size=\"3\" face=\"arial\" color=\"black\">-</font></td><td style=\"text-align: left; padding-top: 3px; padding-bottom: 3px; padding-left: 1px; padding-right: 1px;\"><font size=\"3\" face=\"arial\" color=\"black\">78</font></td><td style=\"text-align: left; padding-top: 3px; padding-bottom: 3px; padding-left: 20px; padding-right: 20px;\"></td><td style=\"text-align: left; padding-top: 3px; padding-bottom: 3px; padding-left: 1px; padding-right: 1px;\">+</td><td style=\"text-align: left; padding-top: 3px; padding-bottom: 3px; padding-left: 1px; padding-right: 1px;\"><font size=\"3\" face=\"arial\" color=\"black\">10</font></td><td style=\"text-align: left; padding-top: 3px; padding-bottom: 3px; padding-left: 20px; padding-right: 20px;\"></td><td style=\"text-align: left; padding-top: 3px; padding-bottom: 3px; padding-left: 20px; padding-right: 20px;\"></td><td style=\"text-align: right; padding-top: 3px; padding-bottom: 3px; padding-left: 1px; padding-right: 1px;\"><font size=\"3\" face=\"arial\" color=\"black\">1.25</font></td><td style=\"text-align: left; padding-top: 3px; padding-bottom: 3px; padding-left: 20px; padding-right: 20px;\"></td></tr><tr><td style=\"text-align: left; padding-top: 3px; padding-bottom: 3px; padding-left: 1px; padding-right: 1px;\"><font size=\"3\" face=\"arial\" color=\"black\">2.a</font></td><td style=\"text-align: left; padding-top: 3px; padding-bottom: 3px; padding-left: 20px; padding-right: 20px;\"></td><td style=\"text-align: left; padding-top: 3px; padding-bottom: 3px; padding-left: 20px; padding-right: 20px;\"></td><td style=\"text-align: left; padding-top: 3px; padding-bottom: 3px; padding-left: 1px; padding-right: 1px;\"><font size=\"3\" face=\"arial\" color=\"red\">GUALDO</font></td><td style=\"text-align: left; padding-top: 3px; padding-bottom: 3px; padding-left: 1px; padding-right: 1px;\"><font size=\"3\" face=\"arial\" color=\"black\">-</font></td><td style=\"text-align: left; padding-top: 3px; padding-bottom: 3px; padding-left: 1px; padding-right: 1px;\"><font size=\"3\" face=\"arial\" color=\"red\">URBANIA</font></td><td style=\"text-align: left; padding-top: 3px; padding-bottom: 3px; padding-left: 20px; padding-right: 20px;\"></td><td style=\"text-align: left; padding-top: 3px; padding-bottom: 3px; padding-left: 1px; padding-right: 1px;\"><font size=\"3\" face=\"arial\" color=\"black\">67</font></td><td style=\"text-align: left; padding-top: 3px; padding-bottom: 3px; padding-left: 1px; padding-right: 1px;\"><font size=\"3\" face=\"arial\" color=\"black\">-</font></td><td style=\"text-align: left; padding-top: 3px; padding-bottom: 3px; padding-left: 1px; padding-right: 1px;\"><font size=\"3\" face=\"arial\" color=\"black\">81</font></td><td style=\"text-align: left; padding-top: 3px; padding-bottom: 3px; padding-left: 20px; padding-right: 20px;\"></td><td style=\"text-align: left; padding-top: 3px; padding-bottom: 3px; padding-left: 1px; padding-right: 1px;\">-</td><td style=\"text-align: left; padding-top: 3px; padding-bottom: 3px; padding-left: 1px; padding-right: 1px;\"><font size=\"3\" face=\"arial\" color=\"black\">14</font></td><td style=\"text-align: left; padding-top: 3px; padding-bottom: 3px; padding-left: 20px; padding-right: 20px;\"></td><td style=\"text-align: left; padding-top: 3px; padding-bottom: 3px; padding-left: 20px; padding-right: 20px;\"></td><td style=\"text-align: right; padding-top: 3px; padding-bottom: 3px; padding-left: 1px; padding-right: 1px;\"><font size=\"3\" face=\"arial\" color=\"black\">14.00</font></td><td style=\"text-align: left; padding-top: 3px; padding-bottom: 3px; padding-left: 20px; padding-right: 20px;\"></td></tr><tr><td style=\"text-align: left; padding-top: 3px; padding-bottom: 3px; padding-left: 1px; padding-right: 1px;\"><font size=\"3\" face=\"arial\" color=\"black\">3.a</font></td><td style=\"text-align: left; padding-top: 3px; padding-bottom: 3px; padding-left: 20px; padding-right: 20px;\"></td><td style=\"text-align: left; padding-top: 3px; padding-bottom: 3px; padding-left: 20px; padding-right: 20px;\"></td><td style=\"text-align: left; padding-top: 3px; padding-bottom: 3px; padding-left: 1px; padding-right: 1px;\"><font size=\"3\" face=\"arial\" color=\"green\">ASCOLI</font></td><td style=\"text-align: left; padding-top: 3px; padding-bottom: 3px; padding-left: 1px; padding-right: 1px;\"><font size=\"3\" face=\"arial\" color=\"black\">-</font></td><td style=\"text-align: left; padding-top: 3px; padding-bottom: 3px; padding-left: 1px; padding-right: 1px;\"><font size=\"3\" face=\"arial\" color=\"green\">GUALDO</font></td><td style=\"text-align: left; padding-top: 3px; padding-bottom: 3px; padding-left: 20px; padding-right: 20px;\"></td><td style=\"text-align: left; padding-top: 3px; padding-bottom: 3px; padding-left: 1px; padding-right: 1px;\"><font size=\"3\" face=\"arial\" color=\"black\">75</font></td><td style=\"text-align: left; padding-top: 3px; padding-bottom: 3px; padding-left: 1px; padding-right: 1px;\"><font size=\"3\" face=\"arial\" color=\"black\">-</font></td><td style=\"text-align: left; padding-top: 3px; padding-bottom: 3px; padding-left: 1px; padding-right: 1px;\"><font size=\"3\" face=\"arial\" color=\"black\">88</font></td><td style=\"text-align: left; padding-top: 3px; padding-bottom: 3px; padding-left: 20px; padding-right: 20px;\"></td><td style=\"text-align: left; padding-top: 3px; padding-bottom: 3px; padding-left: 1px; padding-right: 1px;\">+</td><td style=\"text-align: left; padding-top: 3px; padding-bottom: 3px; padding-left: 1px; padding-right: 1px;\"><font size=\"3\" face=\"arial\" color=\"black\">13</font></td><td style=\"text-align: left; padding-top: 3px; padding-bottom: 3px; padding-left: 20px; padding-right: 20px;\"></td><td style=\"text-align: left; padding-top: 3px; padding-bottom: 3px; padding-left: 20px; padding-right: 20px;\"></td><td style=\"text-align: right; padding-top: 3px; padding-bottom: 3px; padding-left: 1px; padding-right: 1px;\"><font size=\"3\" face=\"arial\" color=\"black\">5.00</font></td><td style=\"text-align: left; padding-top: 3px; padding-bottom: 3px; padding-left: 20px; padding-right: 20px;\"></td></tr><tr><td style=\"text-align: left; padding-top: 3px; padding-bottom: 3px; padding-left: 1px; padding-right: 1px;\"><font size=\"3\" face=\"arial\" color=\"black\">4.a</font></td><td style=\"text-align: left; padding-top: 3px; padding-bottom: 3px; padding-left: 20px; padding-right: 20px;\"></td><td style=\"text-align: left; padding-top: 3px; padding-bottom: 3px; padding-left: 20px; padding-right: 20px;\"></td><td style=\"text-align: left; padding-top: 3px; padding-bottom: 3px; padding-left: 1px; padding-right: 1px;\"><font size=\"3\" face=\"arial\" color=\"red\">GUALDO</font></td><td style=\"text-align: left; padding-top: 3px; padding-bottom: 3px; padding-left: 1px; padding-right: 1px;\"><font size=\"3\" face=\"arial\" color=\"black\">-</font></td><td style=\"text-align: left; padding-top: 3px; padding-bottom: 3px; padding-left: 1px; padding-right: 1px;\"><font size=\"3\" face=\"arial\" color=\"red\">SAN MARINO</font></td><td style=\"text-align: left; padding-top: 3px; padding-bottom: 3px; padding-left: 20px; padding-right: 20px;\"></td><td style=\"text-align: left; padding-top: 3px; padding-bottom: 3px; padding-left: 1px; padding-right: 1px;\"><font size=\"3\" face=\"arial\" color=\"black\">69</font></td><td style=\"text-align: left; padding-top: 3px; padding-bottom: 3px; padding-left: 1px; padding-right: 1px;\"><font size=\"3\" face=\"arial\" color=\"black\">-</font></td><td style=\"text-align: left; padding-top: 3px; padding-bottom: 3px; padding-left: 1px; padding-right: 1px;\"><font size=\"3\" face=\"arial\" color=\"black\">78</font></td><td style=\"text-align: left; padding-top: 3px; padding-bottom: 3px; padding-left: 20px; padding-right: 20px;\"></td><td style=\"text-align: left; padding-top: 3px; padding-bottom: 3px; padding-left: 1px; padding-right: 1px;\">-</td><td style=\"text-align: left; padding-top: 3px; padding-bottom: 3px; padding-left: 1px; padding-right: 1px;\"><font size=\"3\" face=\"arial\" color=\"black\">9</font></td><td style=\"text-align: left; padding-top: 3px; padding-bottom: 3px; padding-left: 20px; padding-right: 20px;\"></td><td style=\"text-align: left; padding-top: 3px; padding-bottom: 3px; padding-left: 20px; padding-right: 20px;\"></td><td style=\"text-align: right; padding-top: 3px; padding-bottom: 3px; padding-left: 1px; padding-right: 1px;\"><font size=\"3\" face=\"arial\" color=\"black\">10.00</font></td><td style=\"text-align: left; padding-top: 3px; padding-bottom: 3px; padding-left: 20px; padding-right: 20px;\"></td></tr><tr><td style=\"text-align: left; padding-top: 3px; padding-bottom: 3px; padding-left: 1px; padding-right: 1px;\"><font size=\"3\" face=\"arial\" color=\"black\">5.a</font></td><td style=\"text-align: left; padding-top: 3px; padding-bottom: 3px; padding-left: 20px; padding-right: 20px;\"></td><td style=\"text-align: left; padding-top: 3px; padding-bottom: 3px; padding-left: 20px; padding-right: 20px;\"></td><td style=\"text-align: left; padding-top: 3px; padding-bottom: 3px; padding-left: 1px; padding-right: 1px;\"><font size=\"3\" face=\"arial\" color=\"green\">TOLENTINO</font></td><td style=\"text-align: left; padding-top: 3px; padding-bottom: 3px; padding-left: 1px; padding-right: 1px;\"><font size=\"3\" face=\"arial\" color=\"black\">-</font></td><td style=\"text-align: left; padding-top: 3px; padding-bottom: 3px; padding-left: 1px; padding-right: 1px;\"><font size=\"3\" face=\"arial\" color=\"green\">GUALDO</font></td><td style=\"text-align: left; padding-top: 3px; padding-bottom: 3px; padding-left: 20px; padding-right: 20px;\"></td><td style=\"text-align: left; padding-top: 3px; padding-bottom: 3px; padding-left: 1px; padding-right: 1px;\"><font size=\"3\" face=\"arial\" color=\"black\">53</font></td><td style=\"text-align: left; padding-top: 3px; padding-bottom: 3px; padding-left: 1px; padding-right: 1px;\"><font size=\"3\" face=\"arial\" color=\"black\">-</font></td><td style=\"text-align: left; padding-top: 3px; padding-bottom: 3px; padding-left: 1px; padding-right: 1px;\"><font size=\"3\" face=\"arial\" color=\"black\">63</font></td><td style=\"text-align: left; padding-top: 3px; padding-bottom: 3px; padding-left: 20px; padding-right: 20px;\"></td><td style=\"text-align: left; padding-top: 3px; padding-bottom: 3px; padding-left: 1px; padding-right: 1px;\">+</td><td style=\"text-align: left; padding-top: 3px; padding-bottom: 3px; padding-left: 1px; padding-right: 1px;\"><font size=\"3\" face=\"arial\" color=\"black\">10</font></td><td style=\"text-align: left; padding-top: 3px; padding-bottom: 3px; padding-left: 20px; padding-right: 20px;\"></td><td style=\"text-align: left; padding-top: 3px; padding-bottom: 3px; padding-left: 20px; padding-right: 20px;\"></td><td style=\"text-align: right; padding-top: 3px; padding-bottom: 3px; padding-left: 1px; padding-right: 1px;\"><font size=\"3\" face=\"arial\" color=\"black\">7.50</font></td><td style=\"text-align: left; padding-top: 3px; padding-bottom: 3px; padding-left: 20px; padding-right: 20px;\"></td></tr><tr><td style=\"text-align: left; padding-top: 3px; padding-bottom: 3px; padding-left: 1px; padding-right: 1px;\"><font size=\"3\" face=\"arial\" color=\"black\">6.a</font></td><td style=\"text-align: left; padding-top: 3px; padding-bottom: 3px; padding-left: 20px; padding-right: 20px;\"></td><td style=\"text-align: left; padding-top: 3px; padding-bottom: 3px; padding-left: 20px; padding-right: 20px;\"></td><td style=\"text-align: left; padding-top: 3px; padding-bottom: 3px; padding-left: 1px; padding-right: 1px;\"><font size=\"3\" face=\"arial\" color=\"red\">FOSSOMBRONE</font></td><td style=\"text-align: left; padding-top: 3px; padding-bottom: 3px; padding-left: 1px; padding-right: 1px;\"><font size=\"3\" face=\"arial\" color=\"black\">-</font></td><td style=\"text-align: left; padding-top: 3px; padding-bottom: 3px; padding-left: 1px; padding-right: 1px;\"><font size=\"3\" face=\"arial\" color=\"red\">GUALDO</font></td><td style=\"text-align: left; padding-top: 3px; padding-bottom: 3px; padding-left: 20px; padding-right: 20px;\"></td><td style=\"text-align: left; padding-top: 3px; padding-bottom: 3px; padding-left: 1px; padding-right: 1px;\"><font size=\"3\" face=\"arial\" color=\"black\">79</font></td><td style=\"text-align: left; padding-top: 3px; padding-bottom: 3px; padding-left: 1px; padding-right: 1px;\"><font size=\"3\" face=\"arial\" color=\"black\">-</font></td><td style=\"text-align: left; padding-top: 3px; padding-bottom: 3px; padding-left: 1px; padding-right: 1px;\"><font size=\"3\" face=\"arial\" color=\"black\">60</font></td><td style=\"text-align: left; padding-top: 3px; padding-bottom: 3px; padding-left: 20px; padding-right: 20px;\"></td><td style=\"text-align: left; padding-top: 3px; padding-bottom: 3px; padding-left: 1px; padding-right: 1px;\">-</td><td style=\"text-align: left; padding-top: 3px; padding-bottom: 3px; padding-left: 1px; padding-right: 1px;\"><font size=\"3\" face=\"arial\" color=\"black\">19</font></td><td style=\"text-align: left; padding-top: 3px; padding-bottom: 3px; padding-left: 20px; padding-right: 20px;\"></td><td style=\"text-align: left; padding-top: 3px; padding-bottom: 3px; padding-left: 20px; padding-right: 20px;\"></td><td style=\"text-align: right; padding-top: 3px; padding-bottom: 3px; padding-left: 1px; padding-right: 1px;\"><font size=\"3\" face=\"arial\" color=\"black\">16.25</font></td><td style=\"text-align: left; padding-top: 3px; padding-bottom: 3px; padding-left: 20px; padding-right: 20px;\"></td></tr><tr><td style=\"text-align: left; padding-top: 3px; padding-bottom: 3px; padding-left: 1px; padding-right: 1px;\"><font size=\"3\" face=\"arial\" color=\"black\">7.a</font></td><td style=\"text-align: left; padding-top: 3px; padding-bottom: 3px; padding-left: 20px; padding-right: 20px;\"></td><td style=\"text-align: left; padding-top: 3px; padding-bottom: 3px; padding-left: 20px; padding-right: 20px;\"></td><td style=\"text-align: left; padding-top: 3px; padding-bottom: 3px; padding-left: 1px; padding-right: 1px;\"><font size=\"3\" face=\"arial\" color=\"green\">GUALDO</font></td><td style=\"text-align: left; padding-top: 3px; padding-bottom: 3px; padding-left: 1px; padding-right: 1px;\"><font size=\"3\" face=\"arial\" color=\"black\">-</font></td><td style=\"text-align: left; padding-top: 3px; padding-bottom: 3px; padding-left: 1px; padding-right: 1px;\"><font size=\"3\" face=\"arial\" color=\"green\">RECANATI</font></td><td style=\"text-align: left; padding-top: 3px; padding-bottom: 3px; padding-left: 20px; padding-right: 20px;\"></td><td style=\"text-align: left; padding-top: 3px; padding-bottom: 3px; padding-left: 1px; padding-right: 1px;\"><font size=\"3\" face=\"arial\" color=\"black\">77</font></td><td style=\"text-align: left; padding-top: 3px; padding-bottom: 3px; padding-left: 1px; padding-right: 1px;\"><font size=\"3\" face=\"arial\" color=\"black\">-</font></td><td style=\"text-align: left; padding-top: 3px; padding-bottom: 3px; padding-left: 1px; padding-right: 1px;\"><font size=\"3\" face=\"arial\" color=\"black\">68</font></td><td style=\"text-align: left; padding-top: 3px; padding-bottom: 3px; padding-left: 20px; padding-right: 20px;\"></td><td style=\"text-align: left; padding-top: 3px; padding-bottom: 3px; padding-left: 1px; padding-right: 1px;\">+</td><td style=\"text-align: left; padding-top: 3px; padding-bottom: 3px; padding-left: 1px; padding-right: 1px;\"><font size=\"3\" face=\"arial\" color=\"black\">9</font></td><td style=\"text-align: left; padding-top: 3px; padding-bottom: 3px; padding-left: 20px; padding-right: 20px;\"></td><td style=\"text-align: left; padding-top: 3px; padding-bottom: 3px; padding-left: 20px; padding-right: 20px;\"></td><td style=\"text-align: right; padding-top: 3px; padding-bottom: 3px; padding-left: 1px; padding-right: 1px;\"><font size=\"3\" face=\"arial\" color=\"black\">11.00</font></td><td style=\"text-align: left; padding-top: 3px; padding-bottom: 3px; padding-left: 20px; padding-right: 20px;\"></td></tr><tr><td style=\"text-align: left; padding-top: 3px; padding-bottom: 3px; padding-left: 1px; padding-right: 1px;\"><font size=\"3\" face=\"arial\" color=\"black\">8.a</font></td><td style=\"text-align: left; padding-top: 3px; padding-bottom: 3px; padding-left: 20px; padding-right: 20px;\"></td><td style=\"text-align: left; padding-top: 3px; padding-bottom: 3px; padding-left: 20px; padding-right: 20px;\"></td><td style=\"text-align: left; padding-top: 3px; padding-bottom: 3px; padding-left: 1px; padding-right: 1px;\"><font size=\"3\" face=\"arial\" color=\"green\">PERUGIA</font></td><td style=\"text-align: left; padding-top: 3px; padding-bottom: 3px; padding-left: 1px; padding-right: 1px;\"><font size=\"3\" face=\"arial\" color=\"black\">-</font></td><td style=\"text-align: left; padding-top: 3px; padding-bottom: 3px; padding-left: 1px; padding-right: 1px;\"><font size=\"3\" face=\"arial\" color=\"green\">GUALDO</font></td><td style=\"text-align: left; padding-top: 3px; padding-bottom: 3px; padding-left: 20px; padding-right: 20px;\"></td><td style=\"text-align: left; padding-top: 3px; padding-bottom: 3px; padding-left: 1px; padding-right: 1px;\"><font size=\"3\" face=\"arial\" color=\"black\">58</font></td><td style=\"text-align: left; padding-top: 3px; padding-bottom: 3px; padding-left: 1px; padding-right: 1px;\"><font size=\"3\" face=\"arial\" color=\"black\">-</font></td><td style=\"text-align: left; padding-top: 3px; padding-bottom: 3px; padding-left: 1px; padding-right: 1px;\"><font size=\"3\" face=\"arial\" color=\"black\">74</font></td><td style=\"text-align: left; padding-top: 3px; padding-bottom: 3px; padding-left: 20px; padding-right: 20px;\"></td><td style=\"text-align: left; padding-top: 3px; padding-bottom: 3px; padding-left: 1px; padding-right: 1px;\">+</td><td style=\"text-align: left; padding-top: 3px; padding-bottom: 3px; padding-left: 1px; padding-right: 1px;\"><font size=\"3\" face=\"arial\" color=\"black\">16</font></td><td style=\"text-align: left; padding-top: 3px; padding-bottom: 3px; padding-left: 20px; padding-right: 20px;\"></td><td style=\"text-align: left; padding-top: 3px; padding-bottom: 3px; padding-left: 20px; padding-right: 20px;\"></td><td style=\"text-align: right; padding-top: 3px; padding-bottom: 3px; padding-left: 1px; padding-right: 1px;\"><font size=\"3\" face=\"arial\" color=\"black\">15.00</font></td><td style=\"text-align: left; padding-top: 3px; padding-bottom: 3px; padding-left: 20px; padding-right: 20px;\"></td></tr><tr><td style=\"text-align: left; padding-top: 3px; padding-bottom: 3px; padding-left: 1px; padding-right: 1px;\"><font size=\"3\" face=\"arial\" color=\"black\">9.a</font></td><td style=\"text-align: left; padding-top: 3px; padding-bottom: 3px; padding-left: 20px; padding-right: 20px;\"></td><td style=\"text-align: left; padding-top: 3px; padding-bottom: 3px; padding-left: 20px; padding-right: 20px;\"></td><td style=\"text-align: left; padding-top: 3px; padding-bottom: 3px; padding-left: 1px; padding-right: 1px;\"><font size=\"3\" face=\"arial\" color=\"green\">GUALDO</font></td><td style=\"text-align: left; padding-top: 3px; padding-bottom: 3px; padding-left: 1px; padding-right: 1px;\"><font size=\"3\" face=\"arial\" color=\"black\">-</font></td><td style=\"text-align: left; padding-top: 3px; padding-bottom: 3px; padding-left: 1px; padding-right: 1px;\"><font size=\"3\" face=\"arial\" color=\"green\">P.S. GIORGIO</font></td><td style=\"text-align: left; padding-top: 3px; padding-bottom: 3px; padding-left: 20px; padding-right: 20px;\"></td><td style=\"text-align: left; padding-top: 3px; padding-bottom: 3px; padding-left: 1px; padding-right: 1px;\"><font size=\"3\" face=\"arial\" color=\"black\">78</font></td><td style=\"text-align: left; padding-top: 3px; padding-bottom: 3px; padding-left: 1px; padding-right: 1px;\"><font size=\"3\" face=\"arial\" color=\"black\">-</font></td><td style=\"text-align: left; padding-top: 3px; padding-bottom: 3px; padding-left: 1px; padding-right: 1px;\"><font size=\"3\" face=\"arial\" color=\"black\">60</font></td><td style=\"text-align: left; padding-top: 3px; padding-bottom: 3px; padding-left: 20px; padding-right: 20px;\"></td><td style=\"text-align: left; padding-top: 3px; padding-bottom: 3px; padding-left: 1px; padding-right: 1px;\">+</td><td style=\"text-align: left; padding-top: 3px; padding-bottom: 3px; padding-left: 1px; padding-right: 1px;\"><font size=\"3\" face=\"arial\" color=\"black\">18</font></td><td style=\"text-align: left; padding-top: 3px; padding-bottom: 3px; padding-left: 20px; padding-right: 20px;\"></td><td style=\"text-align: left; padding-top: 3px; padding-bottom: 3px; padding-left: 20px; padding-right: 20px;\"></td><td style=\"text-align: right; padding-top: 3px; padding-bottom: 3px; padding-left: 1px; padding-right: 1px;\"><font size=\"3\" face=\"arial\" color=\"black\">8.00</font></td><td style=\"text-align: left; padding-top: 3px; padding-bottom: 3px; padding-left: 20px; padding-right: 20px;\"></td></tr><tr><td style=\"text-align: left; padding-top: 3px; padding-bottom: 3px; padding-left: 1px; padding-right: 1px;\"><font size=\"3\" face=\"arial\" color=\"black\">10.a</font></td><td style=\"text-align: left; padding-top: 3px; padding-bottom: 3px; padding-left: 20px; padding-right: 20px;\"></td><td style=\"text-align: left; padding-top: 3px; padding-bottom: 3px; padding-left: 20px; padding-right: 20px;\"></td><td style=\"text-align: left; padding-top: 3px; padding-bottom: 3px; padding-left: 1px; padding-right: 1px;\"><font size=\"3\" face=\"arial\" color=\"green\">BASKET GIOVANE</font></td><td style=\"text-align: left; padding-top: 3px; padding-bottom: 3px; padding-left: 1px; padding-right: 1px;\"><font size=\"3\" face=\"arial\" color=\"black\">-</font></td><td style=\"text-align: left; padding-top: 3px; padding-bottom: 3px; padding-left: 1px; padding-right: 1px;\"><font size=\"3\" face=\"arial\" color=\"green\">GUALDO</font></td><td style=\"text-align: left; padding-top: 3px; padding-bottom: 3px; padding-left: 20px; padding-right: 20px;\"></td><td style=\"text-align: left; padding-top: 3px; padding-bottom: 3px; padding-left: 1px; padding-right: 1px;\"><font size=\"3\" face=\"arial\" color=\"black\">76</font></td><td style=\"text-align: left; padding-top: 3px; padding-bottom: 3px; padding-left: 1px; padding-right: 1px;\"><font size=\"3\" face=\"arial\" color=\"black\">-</font></td><td style=\"text-align: left; padding-top: 3px; padding-bottom: 3px; padding-left: 1px; padding-right: 1px;\"><font size=\"3\" face=\"arial\" color=\"black\">83</font></td><td style=\"text-align: left; padding-top: 3px; padding-bottom: 3px; padding-left: 20px; padding-right: 20px;\"></td><td style=\"text-align: left; padding-top: 3px; padding-bottom: 3px; padding-left: 1px; padding-right: 1px;\">+</td><td style=\"text-align: left; padding-top: 3px; padding-bottom: 3px; padding-left: 1px; padding-right: 1px;\"><font size=\"3\" face=\"arial\" color=\"black\">7</font></td><td style=\"text-align: left; padding-top: 3px; padding-bottom: 3px; padding-left: 20px; padding-right: 20px;\"></td><td style=\"text-align: left; padding-top: 3px; padding-bottom: 3px; padding-left: 20px; padding-right: 20px;\"></td><td style=\"text-align: right; padding-top: 3px; padding-bottom: 3px; padding-left: 1px; padding-right: 1px;\"><font size=\"3\" face=\"arial\" color=\"black\">2.50</font></td><td style=\"text-align: left; padding-top: 3px; padding-bottom: 3px; padding-left: 20px; padding-right: 20px;\"></td></tr><tr><td style=\"text-align: left; padding-top: 3px; padding-bottom: 3px; padding-left: 1px; padding-right: 1px;\"><font size=\"3\" face=\"arial\" color=\"black\">11.a</font></td><td style=\"text-align: left; padding-top: 3px; padding-bottom: 3px; padding-left: 20px; padding-right: 20px;\"></td><td style=\"text-align: left; padding-top: 3px; padding-bottom: 3px; padding-left: 20px; padding-right: 20px;\"></td><td style=\"text-align: left; padding-top: 3px; padding-bottom: 3px; padding-left: 1px; padding-right: 1px;\"><font size=\"3\" face=\"arial\" color=\"red\">GUALDO</font></td><td style=\"text-align: left; padding-top: 3px; padding-bottom: 3px; padding-left: 1px; padding-right: 1px;\"><font size=\"3\" face=\"arial\" color=\"black\">-</font></td><td style=\"text-align: left; padding-top: 3px; padding-bottom: 3px; padding-left: 1px; padding-right: 1px;\"><font size=\"3\" face=\"arial\" color=\"red\">LORETO</font></td><td style=\"text-align: left; padding-top: 3px; padding-bottom: 3px; padding-left: 20px; padding-right: 20px;\"></td><td style=\"text-align: left; padding-top: 3px; padding-bottom: 3px; padding-left: 1px; padding-right: 1px;\"><font size=\"3\" face=\"arial\" color=\"black\">45</font></td><td style=\"text-align: left; padding-top: 3px; padding-bottom: 3px; padding-left: 1px; padding-right: 1px;\"><font size=\"3\" face=\"arial\" color=\"black\">-</font></td><td style=\"text-align: left; padding-top: 3px; padding-bottom: 3px; padding-left: 1px; padding-right: 1px;\"><font size=\"3\" face=\"arial\" color=\"black\">71</font></td><td style=\"text-align: left; padding-top: 3px; padding-bottom: 3px; padding-left: 20px; padding-right: 20px;\"></td><td style=\"text-align: left; padding-top: 3px; padding-bottom: 3px; padding-left: 1px; padding-right: 1px;\">-</td><td style=\"text-align: left; padding-top: 3px; padding-bottom: 3px; padding-left: 1px; padding-right: 1px;\"><font size=\"3\" face=\"arial\" color=\"black\">26</font></td><td style=\"text-align: left; padding-top: 3px; padding-bottom: 3px; padding-left: 20px; padding-right: 20px;\"></td><td style=\"text-align: left; padding-top: 3px; padding-bottom: 3px; padding-left: 20px; padding-right: 20px;\"></td><td style=\"text-align: right; padding-top: 3px; padding-bottom: 3px; padding-left: 1px; padding-right: 1px;\"><font size=\"3\" face=\"arial\" color=\"black\">15.00</font></td><td style=\"text-align: left; padding-top: 3px; padding-bottom: 3px; padding-left: 20px; padding-right: 20px;\"></td></tr></table>"
      ],
      "text/plain": [
       "<IPython.core.display.HTML object>"
      ]
     },
     "metadata": {},
     "output_type": "display_data"
    },
    {
     "data": {
      "text/html": [
       "<table><tr><th style=\"text-align: left; padding-top: 3px; padding-bottom: 3px; padding-left: 1px; padding-right: 1px;\" colspan=\"3\"><font size=\"3\" face=\"arial\" color=\"black\">Giornata</font></th><th style=\"text-align: left; padding-top: 3px; padding-bottom: 3px; padding-left: 1px; padding-right: 1px;\" width=\"300px;\" colspan=\"4\"><font size=\"3\" face=\"arial\" color=\"black\">P.S. GIORGIO</font></th><th style=\"text-align: left; padding-top: 3px; padding-bottom: 3px; padding-left: 1px; padding-right: 1px;\" width=\"90px;\" colspan=\"4\"><font size=\"3\" face=\"arial\" color=\"black\">Risultato</font></th><th style=\"text-align: left; padding-top: 3px; padding-bottom: 3px; padding-left: 1px; padding-right: 1px;\" colspan=\"3\"><font size=\"3\" face=\"arial\" color=\"black\">Scarto</font></th><th style=\"text-align: right; padding-top: 3px; padding-bottom: 3px; padding-left: 1px; padding-right: 1px;\" colspan=\"3\"><font size=\"3\" face=\"arial\" color=\"black\">Difficoltà   97.00</font></th></tr><tr><td style=\"text-align: left; padding-top: 3px; padding-bottom: 3px; padding-left: 1px; padding-right: 1px;\"><font size=\"3\" face=\"arial\" color=\"black\">2.a</font></td><td style=\"text-align: left; padding-top: 3px; padding-bottom: 3px; padding-left: 20px; padding-right: 20px;\"></td><td style=\"text-align: left; padding-top: 3px; padding-bottom: 3px; padding-left: 20px; padding-right: 20px;\"></td><td style=\"text-align: left; padding-top: 3px; padding-bottom: 3px; padding-left: 1px; padding-right: 1px;\"><font size=\"3\" face=\"arial\" color=\"green\">P.S. GIORGIO</font></td><td style=\"text-align: left; padding-top: 3px; padding-bottom: 3px; padding-left: 1px; padding-right: 1px;\"><font size=\"3\" face=\"arial\" color=\"black\">-</font></td><td style=\"text-align: left; padding-top: 3px; padding-bottom: 3px; padding-left: 1px; padding-right: 1px;\"><font size=\"3\" face=\"arial\" color=\"green\">UMBERTIDE</font></td><td style=\"text-align: left; padding-top: 3px; padding-bottom: 3px; padding-left: 20px; padding-right: 20px;\"></td><td style=\"text-align: left; padding-top: 3px; padding-bottom: 3px; padding-left: 1px; padding-right: 1px;\"><font size=\"3\" face=\"arial\" color=\"black\">84</font></td><td style=\"text-align: left; padding-top: 3px; padding-bottom: 3px; padding-left: 1px; padding-right: 1px;\"><font size=\"3\" face=\"arial\" color=\"black\">-</font></td><td style=\"text-align: left; padding-top: 3px; padding-bottom: 3px; padding-left: 1px; padding-right: 1px;\"><font size=\"3\" face=\"arial\" color=\"black\">51</font></td><td style=\"text-align: left; padding-top: 3px; padding-bottom: 3px; padding-left: 20px; padding-right: 20px;\"></td><td style=\"text-align: left; padding-top: 3px; padding-bottom: 3px; padding-left: 1px; padding-right: 1px;\">+</td><td style=\"text-align: left; padding-top: 3px; padding-bottom: 3px; padding-left: 1px; padding-right: 1px;\"><font size=\"3\" face=\"arial\" color=\"black\">33</font></td><td style=\"text-align: left; padding-top: 3px; padding-bottom: 3px; padding-left: 20px; padding-right: 20px;\"></td><td style=\"text-align: left; padding-top: 3px; padding-bottom: 3px; padding-left: 20px; padding-right: 20px;\"></td><td style=\"text-align: right; padding-top: 3px; padding-bottom: 3px; padding-left: 1px; padding-right: 1px;\"><font size=\"3\" face=\"arial\" color=\"black\">3.00</font></td><td style=\"text-align: left; padding-top: 3px; padding-bottom: 3px; padding-left: 20px; padding-right: 20px;\"></td></tr><tr><td style=\"text-align: left; padding-top: 3px; padding-bottom: 3px; padding-left: 1px; padding-right: 1px;\"><font size=\"3\" face=\"arial\" color=\"black\">3.a</font></td><td style=\"text-align: left; padding-top: 3px; padding-bottom: 3px; padding-left: 20px; padding-right: 20px;\"></td><td style=\"text-align: left; padding-top: 3px; padding-bottom: 3px; padding-left: 20px; padding-right: 20px;\"></td><td style=\"text-align: left; padding-top: 3px; padding-bottom: 3px; padding-left: 1px; padding-right: 1px;\"><font size=\"3\" face=\"arial\" color=\"green\">OSIMO</font></td><td style=\"text-align: left; padding-top: 3px; padding-bottom: 3px; padding-left: 1px; padding-right: 1px;\"><font size=\"3\" face=\"arial\" color=\"black\">-</font></td><td style=\"text-align: left; padding-top: 3px; padding-bottom: 3px; padding-left: 1px; padding-right: 1px;\"><font size=\"3\" face=\"arial\" color=\"green\">P.S. GIORGIO</font></td><td style=\"text-align: left; padding-top: 3px; padding-bottom: 3px; padding-left: 20px; padding-right: 20px;\"></td><td style=\"text-align: left; padding-top: 3px; padding-bottom: 3px; padding-left: 1px; padding-right: 1px;\"><font size=\"3\" face=\"arial\" color=\"black\">55</font></td><td style=\"text-align: left; padding-top: 3px; padding-bottom: 3px; padding-left: 1px; padding-right: 1px;\"><font size=\"3\" face=\"arial\" color=\"black\">-</font></td><td style=\"text-align: left; padding-top: 3px; padding-bottom: 3px; padding-left: 1px; padding-right: 1px;\"><font size=\"3\" face=\"arial\" color=\"black\">62</font></td><td style=\"text-align: left; padding-top: 3px; padding-bottom: 3px; padding-left: 20px; padding-right: 20px;\"></td><td style=\"text-align: left; padding-top: 3px; padding-bottom: 3px; padding-left: 1px; padding-right: 1px;\">+</td><td style=\"text-align: left; padding-top: 3px; padding-bottom: 3px; padding-left: 1px; padding-right: 1px;\"><font size=\"3\" face=\"arial\" color=\"black\">7</font></td><td style=\"text-align: left; padding-top: 3px; padding-bottom: 3px; padding-left: 20px; padding-right: 20px;\"></td><td style=\"text-align: left; padding-top: 3px; padding-bottom: 3px; padding-left: 20px; padding-right: 20px;\"></td><td style=\"text-align: right; padding-top: 3px; padding-bottom: 3px; padding-left: 1px; padding-right: 1px;\"><font size=\"3\" face=\"arial\" color=\"black\">8.75</font></td><td style=\"text-align: left; padding-top: 3px; padding-bottom: 3px; padding-left: 20px; padding-right: 20px;\"></td></tr><tr><td style=\"text-align: left; padding-top: 3px; padding-bottom: 3px; padding-left: 1px; padding-right: 1px;\"><font size=\"3\" face=\"arial\" color=\"black\">4.a</font></td><td style=\"text-align: left; padding-top: 3px; padding-bottom: 3px; padding-left: 20px; padding-right: 20px;\"></td><td style=\"text-align: left; padding-top: 3px; padding-bottom: 3px; padding-left: 20px; padding-right: 20px;\"></td><td style=\"text-align: left; padding-top: 3px; padding-bottom: 3px; padding-left: 1px; padding-right: 1px;\"><font size=\"3\" face=\"arial\" color=\"green\">P.S. GIORGIO</font></td><td style=\"text-align: left; padding-top: 3px; padding-bottom: 3px; padding-left: 1px; padding-right: 1px;\"><font size=\"3\" face=\"arial\" color=\"black\">-</font></td><td style=\"text-align: left; padding-top: 3px; padding-bottom: 3px; padding-left: 1px; padding-right: 1px;\"><font size=\"3\" face=\"arial\" color=\"green\">FALCONARA</font></td><td style=\"text-align: left; padding-top: 3px; padding-bottom: 3px; padding-left: 20px; padding-right: 20px;\"></td><td style=\"text-align: left; padding-top: 3px; padding-bottom: 3px; padding-left: 1px; padding-right: 1px;\"><font size=\"3\" face=\"arial\" color=\"black\">88</font></td><td style=\"text-align: left; padding-top: 3px; padding-bottom: 3px; padding-left: 1px; padding-right: 1px;\"><font size=\"3\" face=\"arial\" color=\"black\">-</font></td><td style=\"text-align: left; padding-top: 3px; padding-bottom: 3px; padding-left: 1px; padding-right: 1px;\"><font size=\"3\" face=\"arial\" color=\"black\">66</font></td><td style=\"text-align: left; padding-top: 3px; padding-bottom: 3px; padding-left: 20px; padding-right: 20px;\"></td><td style=\"text-align: left; padding-top: 3px; padding-bottom: 3px; padding-left: 1px; padding-right: 1px;\">+</td><td style=\"text-align: left; padding-top: 3px; padding-bottom: 3px; padding-left: 1px; padding-right: 1px;\"><font size=\"3\" face=\"arial\" color=\"black\">22</font></td><td style=\"text-align: left; padding-top: 3px; padding-bottom: 3px; padding-left: 20px; padding-right: 20px;\"></td><td style=\"text-align: left; padding-top: 3px; padding-bottom: 3px; padding-left: 20px; padding-right: 20px;\"></td><td style=\"text-align: right; padding-top: 3px; padding-bottom: 3px; padding-left: 1px; padding-right: 1px;\"><font size=\"3\" face=\"arial\" color=\"black\">5.00</font></td><td style=\"text-align: left; padding-top: 3px; padding-bottom: 3px; padding-left: 20px; padding-right: 20px;\"></td></tr><tr><td style=\"text-align: left; padding-top: 3px; padding-bottom: 3px; padding-left: 1px; padding-right: 1px;\"><font size=\"3\" face=\"arial\" color=\"black\">5.a</font></td><td style=\"text-align: left; padding-top: 3px; padding-bottom: 3px; padding-left: 20px; padding-right: 20px;\"></td><td style=\"text-align: left; padding-top: 3px; padding-bottom: 3px; padding-left: 20px; padding-right: 20px;\"></td><td style=\"text-align: left; padding-top: 3px; padding-bottom: 3px; padding-left: 1px; padding-right: 1px;\"><font size=\"3\" face=\"arial\" color=\"red\">SPOLETO</font></td><td style=\"text-align: left; padding-top: 3px; padding-bottom: 3px; padding-left: 1px; padding-right: 1px;\"><font size=\"3\" face=\"arial\" color=\"black\">-</font></td><td style=\"text-align: left; padding-top: 3px; padding-bottom: 3px; padding-left: 1px; padding-right: 1px;\"><font size=\"3\" face=\"arial\" color=\"red\">P.S. GIORGIO</font></td><td style=\"text-align: left; padding-top: 3px; padding-bottom: 3px; padding-left: 20px; padding-right: 20px;\"></td><td style=\"text-align: left; padding-top: 3px; padding-bottom: 3px; padding-left: 1px; padding-right: 1px;\"><font size=\"3\" face=\"arial\" color=\"black\">79</font></td><td style=\"text-align: left; padding-top: 3px; padding-bottom: 3px; padding-left: 1px; padding-right: 1px;\"><font size=\"3\" face=\"arial\" color=\"black\">-</font></td><td style=\"text-align: left; padding-top: 3px; padding-bottom: 3px; padding-left: 1px; padding-right: 1px;\"><font size=\"3\" face=\"arial\" color=\"black\">69</font></td><td style=\"text-align: left; padding-top: 3px; padding-bottom: 3px; padding-left: 20px; padding-right: 20px;\"></td><td style=\"text-align: left; padding-top: 3px; padding-bottom: 3px; padding-left: 1px; padding-right: 1px;\">-</td><td style=\"text-align: left; padding-top: 3px; padding-bottom: 3px; padding-left: 1px; padding-right: 1px;\"><font size=\"3\" face=\"arial\" color=\"black\">10</font></td><td style=\"text-align: left; padding-top: 3px; padding-bottom: 3px; padding-left: 20px; padding-right: 20px;\"></td><td style=\"text-align: left; padding-top: 3px; padding-bottom: 3px; padding-left: 20px; padding-right: 20px;\"></td><td style=\"text-align: right; padding-top: 3px; padding-bottom: 3px; padding-left: 1px; padding-right: 1px;\"><font size=\"3\" face=\"arial\" color=\"black\">1.25</font></td><td style=\"text-align: left; padding-top: 3px; padding-bottom: 3px; padding-left: 20px; padding-right: 20px;\"></td></tr><tr><td style=\"text-align: left; padding-top: 3px; padding-bottom: 3px; padding-left: 1px; padding-right: 1px;\"><font size=\"3\" face=\"arial\" color=\"black\">6.a</font></td><td style=\"text-align: left; padding-top: 3px; padding-bottom: 3px; padding-left: 20px; padding-right: 20px;\"></td><td style=\"text-align: left; padding-top: 3px; padding-bottom: 3px; padding-left: 20px; padding-right: 20px;\"></td><td style=\"text-align: left; padding-top: 3px; padding-bottom: 3px; padding-left: 1px; padding-right: 1px;\"><font size=\"3\" face=\"arial\" color=\"red\">P.S. GIORGIO</font></td><td style=\"text-align: left; padding-top: 3px; padding-bottom: 3px; padding-left: 1px; padding-right: 1px;\"><font size=\"3\" face=\"arial\" color=\"black\">-</font></td><td style=\"text-align: left; padding-top: 3px; padding-bottom: 3px; padding-left: 1px; padding-right: 1px;\"><font size=\"3\" face=\"arial\" color=\"red\">URBANIA</font></td><td style=\"text-align: left; padding-top: 3px; padding-bottom: 3px; padding-left: 20px; padding-right: 20px;\"></td><td style=\"text-align: left; padding-top: 3px; padding-bottom: 3px; padding-left: 1px; padding-right: 1px;\"><font size=\"3\" face=\"arial\" color=\"black\">62</font></td><td style=\"text-align: left; padding-top: 3px; padding-bottom: 3px; padding-left: 1px; padding-right: 1px;\"><font size=\"3\" face=\"arial\" color=\"black\">-</font></td><td style=\"text-align: left; padding-top: 3px; padding-bottom: 3px; padding-left: 1px; padding-right: 1px;\"><font size=\"3\" face=\"arial\" color=\"black\">71</font></td><td style=\"text-align: left; padding-top: 3px; padding-bottom: 3px; padding-left: 20px; padding-right: 20px;\"></td><td style=\"text-align: left; padding-top: 3px; padding-bottom: 3px; padding-left: 1px; padding-right: 1px;\">-</td><td style=\"text-align: left; padding-top: 3px; padding-bottom: 3px; padding-left: 1px; padding-right: 1px;\"><font size=\"3\" face=\"arial\" color=\"black\">9</font></td><td style=\"text-align: left; padding-top: 3px; padding-bottom: 3px; padding-left: 20px; padding-right: 20px;\"></td><td style=\"text-align: left; padding-top: 3px; padding-bottom: 3px; padding-left: 20px; padding-right: 20px;\"></td><td style=\"text-align: right; padding-top: 3px; padding-bottom: 3px; padding-left: 1px; padding-right: 1px;\"><font size=\"3\" face=\"arial\" color=\"black\">14.00</font></td><td style=\"text-align: left; padding-top: 3px; padding-bottom: 3px; padding-left: 20px; padding-right: 20px;\"></td></tr><tr><td style=\"text-align: left; padding-top: 3px; padding-bottom: 3px; padding-left: 1px; padding-right: 1px;\"><font size=\"3\" face=\"arial\" color=\"black\">7.a</font></td><td style=\"text-align: left; padding-top: 3px; padding-bottom: 3px; padding-left: 20px; padding-right: 20px;\"></td><td style=\"text-align: left; padding-top: 3px; padding-bottom: 3px; padding-left: 20px; padding-right: 20px;\"></td><td style=\"text-align: left; padding-top: 3px; padding-bottom: 3px; padding-left: 1px; padding-right: 1px;\"><font size=\"3\" face=\"arial\" color=\"red\">ASCOLI</font></td><td style=\"text-align: left; padding-top: 3px; padding-bottom: 3px; padding-left: 1px; padding-right: 1px;\"><font size=\"3\" face=\"arial\" color=\"black\">-</font></td><td style=\"text-align: left; padding-top: 3px; padding-bottom: 3px; padding-left: 1px; padding-right: 1px;\"><font size=\"3\" face=\"arial\" color=\"red\">P.S. GIORGIO</font></td><td style=\"text-align: left; padding-top: 3px; padding-bottom: 3px; padding-left: 20px; padding-right: 20px;\"></td><td style=\"text-align: left; padding-top: 3px; padding-bottom: 3px; padding-left: 1px; padding-right: 1px;\"><font size=\"3\" face=\"arial\" color=\"black\">79</font></td><td style=\"text-align: left; padding-top: 3px; padding-bottom: 3px; padding-left: 1px; padding-right: 1px;\"><font size=\"3\" face=\"arial\" color=\"black\">-</font></td><td style=\"text-align: left; padding-top: 3px; padding-bottom: 3px; padding-left: 1px; padding-right: 1px;\"><font size=\"3\" face=\"arial\" color=\"black\">76</font></td><td style=\"text-align: left; padding-top: 3px; padding-bottom: 3px; padding-left: 20px; padding-right: 20px;\"></td><td style=\"text-align: left; padding-top: 3px; padding-bottom: 3px; padding-left: 1px; padding-right: 1px;\">-</td><td style=\"text-align: left; padding-top: 3px; padding-bottom: 3px; padding-left: 1px; padding-right: 1px;\"><font size=\"3\" face=\"arial\" color=\"black\">3</font></td><td style=\"text-align: left; padding-top: 3px; padding-bottom: 3px; padding-left: 20px; padding-right: 20px;\"></td><td style=\"text-align: left; padding-top: 3px; padding-bottom: 3px; padding-left: 20px; padding-right: 20px;\"></td><td style=\"text-align: right; padding-top: 3px; padding-bottom: 3px; padding-left: 1px; padding-right: 1px;\"><font size=\"3\" face=\"arial\" color=\"black\">5.00</font></td><td style=\"text-align: left; padding-top: 3px; padding-bottom: 3px; padding-left: 20px; padding-right: 20px;\"></td></tr><tr><td style=\"text-align: left; padding-top: 3px; padding-bottom: 3px; padding-left: 1px; padding-right: 1px;\"><font size=\"3\" face=\"arial\" color=\"black\">8.a</font></td><td style=\"text-align: left; padding-top: 3px; padding-bottom: 3px; padding-left: 20px; padding-right: 20px;\"></td><td style=\"text-align: left; padding-top: 3px; padding-bottom: 3px; padding-left: 20px; padding-right: 20px;\"></td><td style=\"text-align: left; padding-top: 3px; padding-bottom: 3px; padding-left: 1px; padding-right: 1px;\"><font size=\"3\" face=\"arial\" color=\"green\">P.S. GIORGIO</font></td><td style=\"text-align: left; padding-top: 3px; padding-bottom: 3px; padding-left: 1px; padding-right: 1px;\"><font size=\"3\" face=\"arial\" color=\"black\">-</font></td><td style=\"text-align: left; padding-top: 3px; padding-bottom: 3px; padding-left: 1px; padding-right: 1px;\"><font size=\"3\" face=\"arial\" color=\"green\">SAN MARINO</font></td><td style=\"text-align: left; padding-top: 3px; padding-bottom: 3px; padding-left: 20px; padding-right: 20px;\"></td><td style=\"text-align: left; padding-top: 3px; padding-bottom: 3px; padding-left: 1px; padding-right: 1px;\"><font size=\"3\" face=\"arial\" color=\"black\">78</font></td><td style=\"text-align: left; padding-top: 3px; padding-bottom: 3px; padding-left: 1px; padding-right: 1px;\"><font size=\"3\" face=\"arial\" color=\"black\">-</font></td><td style=\"text-align: left; padding-top: 3px; padding-bottom: 3px; padding-left: 1px; padding-right: 1px;\"><font size=\"3\" face=\"arial\" color=\"black\">74</font></td><td style=\"text-align: left; padding-top: 3px; padding-bottom: 3px; padding-left: 20px; padding-right: 20px;\"></td><td style=\"text-align: left; padding-top: 3px; padding-bottom: 3px; padding-left: 1px; padding-right: 1px;\">+</td><td style=\"text-align: left; padding-top: 3px; padding-bottom: 3px; padding-left: 1px; padding-right: 1px;\"><font size=\"3\" face=\"arial\" color=\"black\">4</font></td><td style=\"text-align: left; padding-top: 3px; padding-bottom: 3px; padding-left: 20px; padding-right: 20px;\"></td><td style=\"text-align: left; padding-top: 3px; padding-bottom: 3px; padding-left: 20px; padding-right: 20px;\"></td><td style=\"text-align: right; padding-top: 3px; padding-bottom: 3px; padding-left: 1px; padding-right: 1px;\"><font size=\"3\" face=\"arial\" color=\"black\">10.00</font></td><td style=\"text-align: left; padding-top: 3px; padding-bottom: 3px; padding-left: 20px; padding-right: 20px;\"></td></tr><tr><td style=\"text-align: left; padding-top: 3px; padding-bottom: 3px; padding-left: 1px; padding-right: 1px;\"><font size=\"3\" face=\"arial\" color=\"black\">9.a</font></td><td style=\"text-align: left; padding-top: 3px; padding-bottom: 3px; padding-left: 20px; padding-right: 20px;\"></td><td style=\"text-align: left; padding-top: 3px; padding-bottom: 3px; padding-left: 20px; padding-right: 20px;\"></td><td style=\"text-align: left; padding-top: 3px; padding-bottom: 3px; padding-left: 1px; padding-right: 1px;\"><font size=\"3\" face=\"arial\" color=\"red\">GUALDO</font></td><td style=\"text-align: left; padding-top: 3px; padding-bottom: 3px; padding-left: 1px; padding-right: 1px;\"><font size=\"3\" face=\"arial\" color=\"black\">-</font></td><td style=\"text-align: left; padding-top: 3px; padding-bottom: 3px; padding-left: 1px; padding-right: 1px;\"><font size=\"3\" face=\"arial\" color=\"red\">P.S. GIORGIO</font></td><td style=\"text-align: left; padding-top: 3px; padding-bottom: 3px; padding-left: 20px; padding-right: 20px;\"></td><td style=\"text-align: left; padding-top: 3px; padding-bottom: 3px; padding-left: 1px; padding-right: 1px;\"><font size=\"3\" face=\"arial\" color=\"black\">78</font></td><td style=\"text-align: left; padding-top: 3px; padding-bottom: 3px; padding-left: 1px; padding-right: 1px;\"><font size=\"3\" face=\"arial\" color=\"black\">-</font></td><td style=\"text-align: left; padding-top: 3px; padding-bottom: 3px; padding-left: 1px; padding-right: 1px;\"><font size=\"3\" face=\"arial\" color=\"black\">60</font></td><td style=\"text-align: left; padding-top: 3px; padding-bottom: 3px; padding-left: 20px; padding-right: 20px;\"></td><td style=\"text-align: left; padding-top: 3px; padding-bottom: 3px; padding-left: 1px; padding-right: 1px;\">-</td><td style=\"text-align: left; padding-top: 3px; padding-bottom: 3px; padding-left: 1px; padding-right: 1px;\"><font size=\"3\" face=\"arial\" color=\"black\">18</font></td><td style=\"text-align: left; padding-top: 3px; padding-bottom: 3px; padding-left: 20px; padding-right: 20px;\"></td><td style=\"text-align: left; padding-top: 3px; padding-bottom: 3px; padding-left: 20px; padding-right: 20px;\"></td><td style=\"text-align: right; padding-top: 3px; padding-bottom: 3px; padding-left: 1px; padding-right: 1px;\"><font size=\"3\" face=\"arial\" color=\"black\">11.25</font></td><td style=\"text-align: left; padding-top: 3px; padding-bottom: 3px; padding-left: 20px; padding-right: 20px;\"></td></tr><tr><td style=\"text-align: left; padding-top: 3px; padding-bottom: 3px; padding-left: 1px; padding-right: 1px;\"><font size=\"3\" face=\"arial\" color=\"black\">10.a</font></td><td style=\"text-align: left; padding-top: 3px; padding-bottom: 3px; padding-left: 20px; padding-right: 20px;\"></td><td style=\"text-align: left; padding-top: 3px; padding-bottom: 3px; padding-left: 20px; padding-right: 20px;\"></td><td style=\"text-align: left; padding-top: 3px; padding-bottom: 3px; padding-left: 1px; padding-right: 1px;\"><font size=\"3\" face=\"arial\" color=\"green\">P.S. GIORGIO</font></td><td style=\"text-align: left; padding-top: 3px; padding-bottom: 3px; padding-left: 1px; padding-right: 1px;\"><font size=\"3\" face=\"arial\" color=\"black\">-</font></td><td style=\"text-align: left; padding-top: 3px; padding-bottom: 3px; padding-left: 1px; padding-right: 1px;\"><font size=\"3\" face=\"arial\" color=\"green\">FOSSOMBRONE</font></td><td style=\"text-align: left; padding-top: 3px; padding-bottom: 3px; padding-left: 20px; padding-right: 20px;\"></td><td style=\"text-align: left; padding-top: 3px; padding-bottom: 3px; padding-left: 1px; padding-right: 1px;\"><font size=\"3\" face=\"arial\" color=\"black\">84</font></td><td style=\"text-align: left; padding-top: 3px; padding-bottom: 3px; padding-left: 1px; padding-right: 1px;\"><font size=\"3\" face=\"arial\" color=\"black\">-</font></td><td style=\"text-align: left; padding-top: 3px; padding-bottom: 3px; padding-left: 1px; padding-right: 1px;\"><font size=\"3\" face=\"arial\" color=\"black\">78</font></td><td style=\"text-align: left; padding-top: 3px; padding-bottom: 3px; padding-left: 20px; padding-right: 20px;\"></td><td style=\"text-align: left; padding-top: 3px; padding-bottom: 3px; padding-left: 1px; padding-right: 1px;\">+</td><td style=\"text-align: left; padding-top: 3px; padding-bottom: 3px; padding-left: 1px; padding-right: 1px;\"><font size=\"3\" face=\"arial\" color=\"black\">6</font></td><td style=\"text-align: left; padding-top: 3px; padding-bottom: 3px; padding-left: 20px; padding-right: 20px;\"></td><td style=\"text-align: left; padding-top: 3px; padding-bottom: 3px; padding-left: 20px; padding-right: 20px;\"></td><td style=\"text-align: right; padding-top: 3px; padding-bottom: 3px; padding-left: 1px; padding-right: 1px;\"><font size=\"3\" face=\"arial\" color=\"black\">13.00</font></td><td style=\"text-align: left; padding-top: 3px; padding-bottom: 3px; padding-left: 20px; padding-right: 20px;\"></td></tr><tr><td style=\"text-align: left; padding-top: 3px; padding-bottom: 3px; padding-left: 1px; padding-right: 1px;\"><font size=\"3\" face=\"arial\" color=\"black\">11.a</font></td><td style=\"text-align: left; padding-top: 3px; padding-bottom: 3px; padding-left: 20px; padding-right: 20px;\"></td><td style=\"text-align: left; padding-top: 3px; padding-bottom: 3px; padding-left: 20px; padding-right: 20px;\"></td><td style=\"text-align: left; padding-top: 3px; padding-bottom: 3px; padding-left: 1px; padding-right: 1px;\"><font size=\"3\" face=\"arial\" color=\"red\">RECANATI</font></td><td style=\"text-align: left; padding-top: 3px; padding-bottom: 3px; padding-left: 1px; padding-right: 1px;\"><font size=\"3\" face=\"arial\" color=\"black\">-</font></td><td style=\"text-align: left; padding-top: 3px; padding-bottom: 3px; padding-left: 1px; padding-right: 1px;\"><font size=\"3\" face=\"arial\" color=\"red\">P.S. GIORGIO</font></td><td style=\"text-align: left; padding-top: 3px; padding-bottom: 3px; padding-left: 20px; padding-right: 20px;\"></td><td style=\"text-align: left; padding-top: 3px; padding-bottom: 3px; padding-left: 1px; padding-right: 1px;\"><font size=\"3\" face=\"arial\" color=\"black\">75</font></td><td style=\"text-align: left; padding-top: 3px; padding-bottom: 3px; padding-left: 1px; padding-right: 1px;\"><font size=\"3\" face=\"arial\" color=\"black\">-</font></td><td style=\"text-align: left; padding-top: 3px; padding-bottom: 3px; padding-left: 1px; padding-right: 1px;\"><font size=\"3\" face=\"arial\" color=\"black\">66</font></td><td style=\"text-align: left; padding-top: 3px; padding-bottom: 3px; padding-left: 20px; padding-right: 20px;\"></td><td style=\"text-align: left; padding-top: 3px; padding-bottom: 3px; padding-left: 1px; padding-right: 1px;\">-</td><td style=\"text-align: left; padding-top: 3px; padding-bottom: 3px; padding-left: 1px; padding-right: 1px;\"><font size=\"3\" face=\"arial\" color=\"black\">9</font></td><td style=\"text-align: left; padding-top: 3px; padding-bottom: 3px; padding-left: 20px; padding-right: 20px;\"></td><td style=\"text-align: left; padding-top: 3px; padding-bottom: 3px; padding-left: 20px; padding-right: 20px;\"></td><td style=\"text-align: right; padding-top: 3px; padding-bottom: 3px; padding-left: 1px; padding-right: 1px;\"><font size=\"3\" face=\"arial\" color=\"black\">13.75</font></td><td style=\"text-align: left; padding-top: 3px; padding-bottom: 3px; padding-left: 20px; padding-right: 20px;\"></td></tr><tr><td style=\"text-align: left; padding-top: 3px; padding-bottom: 3px; padding-left: 1px; padding-right: 1px;\"><font size=\"3\" face=\"arial\" color=\"black\">12.a</font></td><td style=\"text-align: left; padding-top: 3px; padding-bottom: 3px; padding-left: 20px; padding-right: 20px;\"></td><td style=\"text-align: left; padding-top: 3px; padding-bottom: 3px; padding-left: 20px; padding-right: 20px;\"></td><td style=\"text-align: left; padding-top: 3px; padding-bottom: 3px; padding-left: 1px; padding-right: 1px;\"><font size=\"3\" face=\"arial\" color=\"red\">P.S. GIORGIO</font></td><td style=\"text-align: left; padding-top: 3px; padding-bottom: 3px; padding-left: 1px; padding-right: 1px;\"><font size=\"3\" face=\"arial\" color=\"black\">-</font></td><td style=\"text-align: left; padding-top: 3px; padding-bottom: 3px; padding-left: 1px; padding-right: 1px;\"><font size=\"3\" face=\"arial\" color=\"red\">PERUGIA</font></td><td style=\"text-align: left; padding-top: 3px; padding-bottom: 3px; padding-left: 20px; padding-right: 20px;\"></td><td style=\"text-align: left; padding-top: 3px; padding-bottom: 3px; padding-left: 1px; padding-right: 1px;\"><font size=\"3\" face=\"arial\" color=\"black\">67</font></td><td style=\"text-align: left; padding-top: 3px; padding-bottom: 3px; padding-left: 1px; padding-right: 1px;\"><font size=\"3\" face=\"arial\" color=\"black\">-</font></td><td style=\"text-align: left; padding-top: 3px; padding-bottom: 3px; padding-left: 1px; padding-right: 1px;\"><font size=\"3\" face=\"arial\" color=\"black\">78</font></td><td style=\"text-align: left; padding-top: 3px; padding-bottom: 3px; padding-left: 20px; padding-right: 20px;\"></td><td style=\"text-align: left; padding-top: 3px; padding-bottom: 3px; padding-left: 1px; padding-right: 1px;\">-</td><td style=\"text-align: left; padding-top: 3px; padding-bottom: 3px; padding-left: 1px; padding-right: 1px;\"><font size=\"3\" face=\"arial\" color=\"black\">11</font></td><td style=\"text-align: left; padding-top: 3px; padding-bottom: 3px; padding-left: 20px; padding-right: 20px;\"></td><td style=\"text-align: left; padding-top: 3px; padding-bottom: 3px; padding-left: 20px; padding-right: 20px;\"></td><td style=\"text-align: right; padding-top: 3px; padding-bottom: 3px; padding-left: 1px; padding-right: 1px;\"><font size=\"3\" face=\"arial\" color=\"black\">12.00</font></td><td style=\"text-align: left; padding-top: 3px; padding-bottom: 3px; padding-left: 20px; padding-right: 20px;\"></td></tr></table>"
      ],
      "text/plain": [
       "<IPython.core.display.HTML object>"
      ]
     },
     "metadata": {},
     "output_type": "display_data"
    },
    {
     "data": {
      "text/html": [
       "<table><tr><th style=\"text-align: left; padding-top: 3px; padding-bottom: 3px; padding-left: 1px; padding-right: 1px;\" colspan=\"3\"><font size=\"3\" face=\"arial\" color=\"black\">Giornata</font></th><th style=\"text-align: left; padding-top: 3px; padding-bottom: 3px; padding-left: 1px; padding-right: 1px;\" width=\"300px;\" colspan=\"4\"><font size=\"3\" face=\"arial\" color=\"black\">OSIMO</font></th><th style=\"text-align: left; padding-top: 3px; padding-bottom: 3px; padding-left: 1px; padding-right: 1px;\" width=\"90px;\" colspan=\"4\"><font size=\"3\" face=\"arial\" color=\"black\">Risultato</font></th><th style=\"text-align: left; padding-top: 3px; padding-bottom: 3px; padding-left: 1px; padding-right: 1px;\" colspan=\"3\"><font size=\"3\" face=\"arial\" color=\"black\">Scarto</font></th><th style=\"text-align: right; padding-top: 3px; padding-bottom: 3px; padding-left: 1px; padding-right: 1px;\" colspan=\"3\"><font size=\"3\" face=\"arial\" color=\"black\">Difficoltà   89.25</font></th></tr><tr><td style=\"text-align: left; padding-top: 3px; padding-bottom: 3px; padding-left: 1px; padding-right: 1px;\"><font size=\"3\" face=\"arial\" color=\"black\">1.a</font></td><td style=\"text-align: left; padding-top: 3px; padding-bottom: 3px; padding-left: 20px; padding-right: 20px;\"></td><td style=\"text-align: left; padding-top: 3px; padding-bottom: 3px; padding-left: 20px; padding-right: 20px;\"></td><td style=\"text-align: left; padding-top: 3px; padding-bottom: 3px; padding-left: 1px; padding-right: 1px;\"><font size=\"3\" face=\"arial\" color=\"red\">OSIMO</font></td><td style=\"text-align: left; padding-top: 3px; padding-bottom: 3px; padding-left: 1px; padding-right: 1px;\"><font size=\"3\" face=\"arial\" color=\"black\">-</font></td><td style=\"text-align: left; padding-top: 3px; padding-bottom: 3px; padding-left: 1px; padding-right: 1px;\"><font size=\"3\" face=\"arial\" color=\"red\">RECANATI</font></td><td style=\"text-align: left; padding-top: 3px; padding-bottom: 3px; padding-left: 20px; padding-right: 20px;\"></td><td style=\"text-align: left; padding-top: 3px; padding-bottom: 3px; padding-left: 1px; padding-right: 1px;\"><font size=\"3\" face=\"arial\" color=\"black\">53</font></td><td style=\"text-align: left; padding-top: 3px; padding-bottom: 3px; padding-left: 1px; padding-right: 1px;\"><font size=\"3\" face=\"arial\" color=\"black\">-</font></td><td style=\"text-align: left; padding-top: 3px; padding-bottom: 3px; padding-left: 1px; padding-right: 1px;\"><font size=\"3\" face=\"arial\" color=\"black\">76</font></td><td style=\"text-align: left; padding-top: 3px; padding-bottom: 3px; padding-left: 20px; padding-right: 20px;\"></td><td style=\"text-align: left; padding-top: 3px; padding-bottom: 3px; padding-left: 1px; padding-right: 1px;\">-</td><td style=\"text-align: left; padding-top: 3px; padding-bottom: 3px; padding-left: 1px; padding-right: 1px;\"><font size=\"3\" face=\"arial\" color=\"black\">23</font></td><td style=\"text-align: left; padding-top: 3px; padding-bottom: 3px; padding-left: 20px; padding-right: 20px;\"></td><td style=\"text-align: left; padding-top: 3px; padding-bottom: 3px; padding-left: 20px; padding-right: 20px;\"></td><td style=\"text-align: right; padding-top: 3px; padding-bottom: 3px; padding-left: 1px; padding-right: 1px;\"><font size=\"3\" face=\"arial\" color=\"black\">11.00</font></td><td style=\"text-align: left; padding-top: 3px; padding-bottom: 3px; padding-left: 20px; padding-right: 20px;\"></td></tr><tr><td style=\"text-align: left; padding-top: 3px; padding-bottom: 3px; padding-left: 1px; padding-right: 1px;\"><font size=\"3\" face=\"arial\" color=\"black\">2.a</font></td><td style=\"text-align: left; padding-top: 3px; padding-bottom: 3px; padding-left: 20px; padding-right: 20px;\"></td><td style=\"text-align: left; padding-top: 3px; padding-bottom: 3px; padding-left: 20px; padding-right: 20px;\"></td><td style=\"text-align: left; padding-top: 3px; padding-bottom: 3px; padding-left: 1px; padding-right: 1px;\"><font size=\"3\" face=\"arial\" color=\"red\">PERUGIA</font></td><td style=\"text-align: left; padding-top: 3px; padding-bottom: 3px; padding-left: 1px; padding-right: 1px;\"><font size=\"3\" face=\"arial\" color=\"black\">-</font></td><td style=\"text-align: left; padding-top: 3px; padding-bottom: 3px; padding-left: 1px; padding-right: 1px;\"><font size=\"3\" face=\"arial\" color=\"red\">OSIMO</font></td><td style=\"text-align: left; padding-top: 3px; padding-bottom: 3px; padding-left: 20px; padding-right: 20px;\"></td><td style=\"text-align: left; padding-top: 3px; padding-bottom: 3px; padding-left: 1px; padding-right: 1px;\"><font size=\"3\" face=\"arial\" color=\"black\">74</font></td><td style=\"text-align: left; padding-top: 3px; padding-bottom: 3px; padding-left: 1px; padding-right: 1px;\"><font size=\"3\" face=\"arial\" color=\"black\">-</font></td><td style=\"text-align: left; padding-top: 3px; padding-bottom: 3px; padding-left: 1px; padding-right: 1px;\"><font size=\"3\" face=\"arial\" color=\"black\">54</font></td><td style=\"text-align: left; padding-top: 3px; padding-bottom: 3px; padding-left: 20px; padding-right: 20px;\"></td><td style=\"text-align: left; padding-top: 3px; padding-bottom: 3px; padding-left: 1px; padding-right: 1px;\">-</td><td style=\"text-align: left; padding-top: 3px; padding-bottom: 3px; padding-left: 1px; padding-right: 1px;\"><font size=\"3\" face=\"arial\" color=\"black\">20</font></td><td style=\"text-align: left; padding-top: 3px; padding-bottom: 3px; padding-left: 20px; padding-right: 20px;\"></td><td style=\"text-align: left; padding-top: 3px; padding-bottom: 3px; padding-left: 20px; padding-right: 20px;\"></td><td style=\"text-align: right; padding-top: 3px; padding-bottom: 3px; padding-left: 1px; padding-right: 1px;\"><font size=\"3\" face=\"arial\" color=\"black\">15.00</font></td><td style=\"text-align: left; padding-top: 3px; padding-bottom: 3px; padding-left: 20px; padding-right: 20px;\"></td></tr><tr><td style=\"text-align: left; padding-top: 3px; padding-bottom: 3px; padding-left: 1px; padding-right: 1px;\"><font size=\"3\" face=\"arial\" color=\"black\">3.a</font></td><td style=\"text-align: left; padding-top: 3px; padding-bottom: 3px; padding-left: 20px; padding-right: 20px;\"></td><td style=\"text-align: left; padding-top: 3px; padding-bottom: 3px; padding-left: 20px; padding-right: 20px;\"></td><td style=\"text-align: left; padding-top: 3px; padding-bottom: 3px; padding-left: 1px; padding-right: 1px;\"><font size=\"3\" face=\"arial\" color=\"red\">OSIMO</font></td><td style=\"text-align: left; padding-top: 3px; padding-bottom: 3px; padding-left: 1px; padding-right: 1px;\"><font size=\"3\" face=\"arial\" color=\"black\">-</font></td><td style=\"text-align: left; padding-top: 3px; padding-bottom: 3px; padding-left: 1px; padding-right: 1px;\"><font size=\"3\" face=\"arial\" color=\"red\">P.S. GIORGIO</font></td><td style=\"text-align: left; padding-top: 3px; padding-bottom: 3px; padding-left: 20px; padding-right: 20px;\"></td><td style=\"text-align: left; padding-top: 3px; padding-bottom: 3px; padding-left: 1px; padding-right: 1px;\"><font size=\"3\" face=\"arial\" color=\"black\">55</font></td><td style=\"text-align: left; padding-top: 3px; padding-bottom: 3px; padding-left: 1px; padding-right: 1px;\"><font size=\"3\" face=\"arial\" color=\"black\">-</font></td><td style=\"text-align: left; padding-top: 3px; padding-bottom: 3px; padding-left: 1px; padding-right: 1px;\"><font size=\"3\" face=\"arial\" color=\"black\">62</font></td><td style=\"text-align: left; padding-top: 3px; padding-bottom: 3px; padding-left: 20px; padding-right: 20px;\"></td><td style=\"text-align: left; padding-top: 3px; padding-bottom: 3px; padding-left: 1px; padding-right: 1px;\">-</td><td style=\"text-align: left; padding-top: 3px; padding-bottom: 3px; padding-left: 1px; padding-right: 1px;\"><font size=\"3\" face=\"arial\" color=\"black\">7</font></td><td style=\"text-align: left; padding-top: 3px; padding-bottom: 3px; padding-left: 20px; padding-right: 20px;\"></td><td style=\"text-align: left; padding-top: 3px; padding-bottom: 3px; padding-left: 20px; padding-right: 20px;\"></td><td style=\"text-align: right; padding-top: 3px; padding-bottom: 3px; padding-left: 1px; padding-right: 1px;\"><font size=\"3\" face=\"arial\" color=\"black\">8.00</font></td><td style=\"text-align: left; padding-top: 3px; padding-bottom: 3px; padding-left: 20px; padding-right: 20px;\"></td></tr><tr><td style=\"text-align: left; padding-top: 3px; padding-bottom: 3px; padding-left: 1px; padding-right: 1px;\"><font size=\"3\" face=\"arial\" color=\"black\">4.a</font></td><td style=\"text-align: left; padding-top: 3px; padding-bottom: 3px; padding-left: 20px; padding-right: 20px;\"></td><td style=\"text-align: left; padding-top: 3px; padding-bottom: 3px; padding-left: 20px; padding-right: 20px;\"></td><td style=\"text-align: left; padding-top: 3px; padding-bottom: 3px; padding-left: 1px; padding-right: 1px;\"><font size=\"3\" face=\"arial\" color=\"green\">BASKET GIOVANE</font></td><td style=\"text-align: left; padding-top: 3px; padding-bottom: 3px; padding-left: 1px; padding-right: 1px;\"><font size=\"3\" face=\"arial\" color=\"black\">-</font></td><td style=\"text-align: left; padding-top: 3px; padding-bottom: 3px; padding-left: 1px; padding-right: 1px;\"><font size=\"3\" face=\"arial\" color=\"green\">OSIMO</font></td><td style=\"text-align: left; padding-top: 3px; padding-bottom: 3px; padding-left: 20px; padding-right: 20px;\"></td><td style=\"text-align: left; padding-top: 3px; padding-bottom: 3px; padding-left: 1px; padding-right: 1px;\"><font size=\"3\" face=\"arial\" color=\"black\">55</font></td><td style=\"text-align: left; padding-top: 3px; padding-bottom: 3px; padding-left: 1px; padding-right: 1px;\"><font size=\"3\" face=\"arial\" color=\"black\">-</font></td><td style=\"text-align: left; padding-top: 3px; padding-bottom: 3px; padding-left: 1px; padding-right: 1px;\"><font size=\"3\" face=\"arial\" color=\"black\">76</font></td><td style=\"text-align: left; padding-top: 3px; padding-bottom: 3px; padding-left: 20px; padding-right: 20px;\"></td><td style=\"text-align: left; padding-top: 3px; padding-bottom: 3px; padding-left: 1px; padding-right: 1px;\">+</td><td style=\"text-align: left; padding-top: 3px; padding-bottom: 3px; padding-left: 1px; padding-right: 1px;\"><font size=\"3\" face=\"arial\" color=\"black\">21</font></td><td style=\"text-align: left; padding-top: 3px; padding-bottom: 3px; padding-left: 20px; padding-right: 20px;\"></td><td style=\"text-align: left; padding-top: 3px; padding-bottom: 3px; padding-left: 20px; padding-right: 20px;\"></td><td style=\"text-align: right; padding-top: 3px; padding-bottom: 3px; padding-left: 1px; padding-right: 1px;\"><font size=\"3\" face=\"arial\" color=\"black\">2.50</font></td><td style=\"text-align: left; padding-top: 3px; padding-bottom: 3px; padding-left: 20px; padding-right: 20px;\"></td></tr><tr><td style=\"text-align: left; padding-top: 3px; padding-bottom: 3px; padding-left: 1px; padding-right: 1px;\"><font size=\"3\" face=\"arial\" color=\"black\">5.a</font></td><td style=\"text-align: left; padding-top: 3px; padding-bottom: 3px; padding-left: 20px; padding-right: 20px;\"></td><td style=\"text-align: left; padding-top: 3px; padding-bottom: 3px; padding-left: 20px; padding-right: 20px;\"></td><td style=\"text-align: left; padding-top: 3px; padding-bottom: 3px; padding-left: 1px; padding-right: 1px;\"><font size=\"3\" face=\"arial\" color=\"red\">OSIMO</font></td><td style=\"text-align: left; padding-top: 3px; padding-bottom: 3px; padding-left: 1px; padding-right: 1px;\"><font size=\"3\" face=\"arial\" color=\"black\">-</font></td><td style=\"text-align: left; padding-top: 3px; padding-bottom: 3px; padding-left: 1px; padding-right: 1px;\"><font size=\"3\" face=\"arial\" color=\"red\">LORETO</font></td><td style=\"text-align: left; padding-top: 3px; padding-bottom: 3px; padding-left: 20px; padding-right: 20px;\"></td><td style=\"text-align: left; padding-top: 3px; padding-bottom: 3px; padding-left: 1px; padding-right: 1px;\"><font size=\"3\" face=\"arial\" color=\"black\">53</font></td><td style=\"text-align: left; padding-top: 3px; padding-bottom: 3px; padding-left: 1px; padding-right: 1px;\"><font size=\"3\" face=\"arial\" color=\"black\">-</font></td><td style=\"text-align: left; padding-top: 3px; padding-bottom: 3px; padding-left: 1px; padding-right: 1px;\"><font size=\"3\" face=\"arial\" color=\"black\">99</font></td><td style=\"text-align: left; padding-top: 3px; padding-bottom: 3px; padding-left: 20px; padding-right: 20px;\"></td><td style=\"text-align: left; padding-top: 3px; padding-bottom: 3px; padding-left: 1px; padding-right: 1px;\">-</td><td style=\"text-align: left; padding-top: 3px; padding-bottom: 3px; padding-left: 1px; padding-right: 1px;\"><font size=\"3\" face=\"arial\" color=\"black\">46</font></td><td style=\"text-align: left; padding-top: 3px; padding-bottom: 3px; padding-left: 20px; padding-right: 20px;\"></td><td style=\"text-align: left; padding-top: 3px; padding-bottom: 3px; padding-left: 20px; padding-right: 20px;\"></td><td style=\"text-align: right; padding-top: 3px; padding-bottom: 3px; padding-left: 1px; padding-right: 1px;\"><font size=\"3\" face=\"arial\" color=\"black\">15.00</font></td><td style=\"text-align: left; padding-top: 3px; padding-bottom: 3px; padding-left: 20px; padding-right: 20px;\"></td></tr><tr><td style=\"text-align: left; padding-top: 3px; padding-bottom: 3px; padding-left: 1px; padding-right: 1px;\"><font size=\"3\" face=\"arial\" color=\"black\">7.a</font></td><td style=\"text-align: left; padding-top: 3px; padding-bottom: 3px; padding-left: 20px; padding-right: 20px;\"></td><td style=\"text-align: left; padding-top: 3px; padding-bottom: 3px; padding-left: 20px; padding-right: 20px;\"></td><td style=\"text-align: left; padding-top: 3px; padding-bottom: 3px; padding-left: 1px; padding-right: 1px;\"><font size=\"3\" face=\"arial\" color=\"green\">OSIMO</font></td><td style=\"text-align: left; padding-top: 3px; padding-bottom: 3px; padding-left: 1px; padding-right: 1px;\"><font size=\"3\" face=\"arial\" color=\"black\">-</font></td><td style=\"text-align: left; padding-top: 3px; padding-bottom: 3px; padding-left: 1px; padding-right: 1px;\"><font size=\"3\" face=\"arial\" color=\"green\">UMBERTIDE</font></td><td style=\"text-align: left; padding-top: 3px; padding-bottom: 3px; padding-left: 20px; padding-right: 20px;\"></td><td style=\"text-align: left; padding-top: 3px; padding-bottom: 3px; padding-left: 1px; padding-right: 1px;\"><font size=\"3\" face=\"arial\" color=\"black\">100</font></td><td style=\"text-align: left; padding-top: 3px; padding-bottom: 3px; padding-left: 1px; padding-right: 1px;\"><font size=\"3\" face=\"arial\" color=\"black\">-</font></td><td style=\"text-align: left; padding-top: 3px; padding-bottom: 3px; padding-left: 1px; padding-right: 1px;\"><font size=\"3\" face=\"arial\" color=\"black\">64</font></td><td style=\"text-align: left; padding-top: 3px; padding-bottom: 3px; padding-left: 20px; padding-right: 20px;\"></td><td style=\"text-align: left; padding-top: 3px; padding-bottom: 3px; padding-left: 1px; padding-right: 1px;\">+</td><td style=\"text-align: left; padding-top: 3px; padding-bottom: 3px; padding-left: 1px; padding-right: 1px;\"><font size=\"3\" face=\"arial\" color=\"black\">36</font></td><td style=\"text-align: left; padding-top: 3px; padding-bottom: 3px; padding-left: 20px; padding-right: 20px;\"></td><td style=\"text-align: left; padding-top: 3px; padding-bottom: 3px; padding-left: 20px; padding-right: 20px;\"></td><td style=\"text-align: right; padding-top: 3px; padding-bottom: 3px; padding-left: 1px; padding-right: 1px;\"><font size=\"3\" face=\"arial\" color=\"black\">3.00</font></td><td style=\"text-align: left; padding-top: 3px; padding-bottom: 3px; padding-left: 20px; padding-right: 20px;\"></td></tr><tr><td style=\"text-align: left; padding-top: 3px; padding-bottom: 3px; padding-left: 1px; padding-right: 1px;\"><font size=\"3\" face=\"arial\" color=\"black\">8.a</font></td><td style=\"text-align: left; padding-top: 3px; padding-bottom: 3px; padding-left: 20px; padding-right: 20px;\"></td><td style=\"text-align: left; padding-top: 3px; padding-bottom: 3px; padding-left: 20px; padding-right: 20px;\"></td><td style=\"text-align: left; padding-top: 3px; padding-bottom: 3px; padding-left: 1px; padding-right: 1px;\"><font size=\"3\" face=\"arial\" color=\"green\">OSIMO</font></td><td style=\"text-align: left; padding-top: 3px; padding-bottom: 3px; padding-left: 1px; padding-right: 1px;\"><font size=\"3\" face=\"arial\" color=\"black\">-</font></td><td style=\"text-align: left; padding-top: 3px; padding-bottom: 3px; padding-left: 1px; padding-right: 1px;\"><font size=\"3\" face=\"arial\" color=\"green\">TOLENTINO</font></td><td style=\"text-align: left; padding-top: 3px; padding-bottom: 3px; padding-left: 20px; padding-right: 20px;\"></td><td style=\"text-align: left; padding-top: 3px; padding-bottom: 3px; padding-left: 1px; padding-right: 1px;\"><font size=\"3\" face=\"arial\" color=\"black\">84</font></td><td style=\"text-align: left; padding-top: 3px; padding-bottom: 3px; padding-left: 1px; padding-right: 1px;\"><font size=\"3\" face=\"arial\" color=\"black\">-</font></td><td style=\"text-align: left; padding-top: 3px; padding-bottom: 3px; padding-left: 1px; padding-right: 1px;\"><font size=\"3\" face=\"arial\" color=\"black\">71</font></td><td style=\"text-align: left; padding-top: 3px; padding-bottom: 3px; padding-left: 20px; padding-right: 20px;\"></td><td style=\"text-align: left; padding-top: 3px; padding-bottom: 3px; padding-left: 1px; padding-right: 1px;\">+</td><td style=\"text-align: left; padding-top: 3px; padding-bottom: 3px; padding-left: 1px; padding-right: 1px;\"><font size=\"3\" face=\"arial\" color=\"black\">13</font></td><td style=\"text-align: left; padding-top: 3px; padding-bottom: 3px; padding-left: 20px; padding-right: 20px;\"></td><td style=\"text-align: left; padding-top: 3px; padding-bottom: 3px; padding-left: 20px; padding-right: 20px;\"></td><td style=\"text-align: right; padding-top: 3px; padding-bottom: 3px; padding-left: 1px; padding-right: 1px;\"><font size=\"3\" face=\"arial\" color=\"black\">6.00</font></td><td style=\"text-align: left; padding-top: 3px; padding-bottom: 3px; padding-left: 20px; padding-right: 20px;\"></td></tr><tr><td style=\"text-align: left; padding-top: 3px; padding-bottom: 3px; padding-left: 1px; padding-right: 1px;\"><font size=\"3\" face=\"arial\" color=\"black\">9.a</font></td><td style=\"text-align: left; padding-top: 3px; padding-bottom: 3px; padding-left: 20px; padding-right: 20px;\"></td><td style=\"text-align: left; padding-top: 3px; padding-bottom: 3px; padding-left: 20px; padding-right: 20px;\"></td><td style=\"text-align: left; padding-top: 3px; padding-bottom: 3px; padding-left: 1px; padding-right: 1px;\"><font size=\"3\" face=\"arial\" color=\"red\">FALCONARA</font></td><td style=\"text-align: left; padding-top: 3px; padding-bottom: 3px; padding-left: 1px; padding-right: 1px;\"><font size=\"3\" face=\"arial\" color=\"black\">-</font></td><td style=\"text-align: left; padding-top: 3px; padding-bottom: 3px; padding-left: 1px; padding-right: 1px;\"><font size=\"3\" face=\"arial\" color=\"red\">OSIMO</font></td><td style=\"text-align: left; padding-top: 3px; padding-bottom: 3px; padding-left: 20px; padding-right: 20px;\"></td><td style=\"text-align: left; padding-top: 3px; padding-bottom: 3px; padding-left: 1px; padding-right: 1px;\"><font size=\"3\" face=\"arial\" color=\"black\">65</font></td><td style=\"text-align: left; padding-top: 3px; padding-bottom: 3px; padding-left: 1px; padding-right: 1px;\"><font size=\"3\" face=\"arial\" color=\"black\">-</font></td><td style=\"text-align: left; padding-top: 3px; padding-bottom: 3px; padding-left: 1px; padding-right: 1px;\"><font size=\"3\" face=\"arial\" color=\"black\">55</font></td><td style=\"text-align: left; padding-top: 3px; padding-bottom: 3px; padding-left: 20px; padding-right: 20px;\"></td><td style=\"text-align: left; padding-top: 3px; padding-bottom: 3px; padding-left: 1px; padding-right: 1px;\">-</td><td style=\"text-align: left; padding-top: 3px; padding-bottom: 3px; padding-left: 1px; padding-right: 1px;\"><font size=\"3\" face=\"arial\" color=\"black\">10</font></td><td style=\"text-align: left; padding-top: 3px; padding-bottom: 3px; padding-left: 20px; padding-right: 20px;\"></td><td style=\"text-align: left; padding-top: 3px; padding-bottom: 3px; padding-left: 20px; padding-right: 20px;\"></td><td style=\"text-align: right; padding-top: 3px; padding-bottom: 3px; padding-left: 1px; padding-right: 1px;\"><font size=\"3\" face=\"arial\" color=\"black\">6.25</font></td><td style=\"text-align: left; padding-top: 3px; padding-bottom: 3px; padding-left: 20px; padding-right: 20px;\"></td></tr><tr><td style=\"text-align: left; padding-top: 3px; padding-bottom: 3px; padding-left: 1px; padding-right: 1px;\"><font size=\"3\" face=\"arial\" color=\"black\">10.a</font></td><td style=\"text-align: left; padding-top: 3px; padding-bottom: 3px; padding-left: 20px; padding-right: 20px;\"></td><td style=\"text-align: left; padding-top: 3px; padding-bottom: 3px; padding-left: 20px; padding-right: 20px;\"></td><td style=\"text-align: left; padding-top: 3px; padding-bottom: 3px; padding-left: 1px; padding-right: 1px;\"><font size=\"3\" face=\"arial\" color=\"green\">OSIMO</font></td><td style=\"text-align: left; padding-top: 3px; padding-bottom: 3px; padding-left: 1px; padding-right: 1px;\"><font size=\"3\" face=\"arial\" color=\"black\">-</font></td><td style=\"text-align: left; padding-top: 3px; padding-bottom: 3px; padding-left: 1px; padding-right: 1px;\"><font size=\"3\" face=\"arial\" color=\"green\">SPOLETO</font></td><td style=\"text-align: left; padding-top: 3px; padding-bottom: 3px; padding-left: 20px; padding-right: 20px;\"></td><td style=\"text-align: left; padding-top: 3px; padding-bottom: 3px; padding-left: 1px; padding-right: 1px;\"><font size=\"3\" face=\"arial\" color=\"black\">96</font></td><td style=\"text-align: left; padding-top: 3px; padding-bottom: 3px; padding-left: 1px; padding-right: 1px;\"><font size=\"3\" face=\"arial\" color=\"black\">-</font></td><td style=\"text-align: left; padding-top: 3px; padding-bottom: 3px; padding-left: 1px; padding-right: 1px;\"><font size=\"3\" face=\"arial\" color=\"black\">69</font></td><td style=\"text-align: left; padding-top: 3px; padding-bottom: 3px; padding-left: 20px; padding-right: 20px;\"></td><td style=\"text-align: left; padding-top: 3px; padding-bottom: 3px; padding-left: 1px; padding-right: 1px;\">+</td><td style=\"text-align: left; padding-top: 3px; padding-bottom: 3px; padding-left: 1px; padding-right: 1px;\"><font size=\"3\" face=\"arial\" color=\"black\">27</font></td><td style=\"text-align: left; padding-top: 3px; padding-bottom: 3px; padding-left: 20px; padding-right: 20px;\"></td><td style=\"text-align: left; padding-top: 3px; padding-bottom: 3px; padding-left: 20px; padding-right: 20px;\"></td><td style=\"text-align: right; padding-top: 3px; padding-bottom: 3px; padding-left: 1px; padding-right: 1px;\"><font size=\"3\" face=\"arial\" color=\"black\">1.00</font></td><td style=\"text-align: left; padding-top: 3px; padding-bottom: 3px; padding-left: 20px; padding-right: 20px;\"></td></tr><tr><td style=\"text-align: left; padding-top: 3px; padding-bottom: 3px; padding-left: 1px; padding-right: 1px;\"><font size=\"3\" face=\"arial\" color=\"black\">11.a</font></td><td style=\"text-align: left; padding-top: 3px; padding-bottom: 3px; padding-left: 20px; padding-right: 20px;\"></td><td style=\"text-align: left; padding-top: 3px; padding-bottom: 3px; padding-left: 20px; padding-right: 20px;\"></td><td style=\"text-align: left; padding-top: 3px; padding-bottom: 3px; padding-left: 1px; padding-right: 1px;\"><font size=\"3\" face=\"arial\" color=\"red\">URBANIA</font></td><td style=\"text-align: left; padding-top: 3px; padding-bottom: 3px; padding-left: 1px; padding-right: 1px;\"><font size=\"3\" face=\"arial\" color=\"black\">-</font></td><td style=\"text-align: left; padding-top: 3px; padding-bottom: 3px; padding-left: 1px; padding-right: 1px;\"><font size=\"3\" face=\"arial\" color=\"red\">OSIMO</font></td><td style=\"text-align: left; padding-top: 3px; padding-bottom: 3px; padding-left: 20px; padding-right: 20px;\"></td><td style=\"text-align: left; padding-top: 3px; padding-bottom: 3px; padding-left: 1px; padding-right: 1px;\"><font size=\"3\" face=\"arial\" color=\"black\">88</font></td><td style=\"text-align: left; padding-top: 3px; padding-bottom: 3px; padding-left: 1px; padding-right: 1px;\"><font size=\"3\" face=\"arial\" color=\"black\">-</font></td><td style=\"text-align: left; padding-top: 3px; padding-bottom: 3px; padding-left: 1px; padding-right: 1px;\"><font size=\"3\" face=\"arial\" color=\"black\">65</font></td><td style=\"text-align: left; padding-top: 3px; padding-bottom: 3px; padding-left: 20px; padding-right: 20px;\"></td><td style=\"text-align: left; padding-top: 3px; padding-bottom: 3px; padding-left: 1px; padding-right: 1px;\">-</td><td style=\"text-align: left; padding-top: 3px; padding-bottom: 3px; padding-left: 1px; padding-right: 1px;\"><font size=\"3\" face=\"arial\" color=\"black\">23</font></td><td style=\"text-align: left; padding-top: 3px; padding-bottom: 3px; padding-left: 20px; padding-right: 20px;\"></td><td style=\"text-align: left; padding-top: 3px; padding-bottom: 3px; padding-left: 20px; padding-right: 20px;\"></td><td style=\"text-align: right; padding-top: 3px; padding-bottom: 3px; padding-left: 1px; padding-right: 1px;\"><font size=\"3\" face=\"arial\" color=\"black\">17.50</font></td><td style=\"text-align: left; padding-top: 3px; padding-bottom: 3px; padding-left: 20px; padding-right: 20px;\"></td></tr><tr><td style=\"text-align: left; padding-top: 3px; padding-bottom: 3px; padding-left: 1px; padding-right: 1px;\"><font size=\"3\" face=\"arial\" color=\"black\">12.a</font></td><td style=\"text-align: left; padding-top: 3px; padding-bottom: 3px; padding-left: 20px; padding-right: 20px;\"></td><td style=\"text-align: left; padding-top: 3px; padding-bottom: 3px; padding-left: 20px; padding-right: 20px;\"></td><td style=\"text-align: left; padding-top: 3px; padding-bottom: 3px; padding-left: 1px; padding-right: 1px;\"><font size=\"3\" face=\"arial\" color=\"green\">OSIMO</font></td><td style=\"text-align: left; padding-top: 3px; padding-bottom: 3px; padding-left: 1px; padding-right: 1px;\"><font size=\"3\" face=\"arial\" color=\"black\">-</font></td><td style=\"text-align: left; padding-top: 3px; padding-bottom: 3px; padding-left: 1px; padding-right: 1px;\"><font size=\"3\" face=\"arial\" color=\"green\">ASCOLI</font></td><td style=\"text-align: left; padding-top: 3px; padding-bottom: 3px; padding-left: 20px; padding-right: 20px;\"></td><td style=\"text-align: left; padding-top: 3px; padding-bottom: 3px; padding-left: 1px; padding-right: 1px;\"><font size=\"3\" face=\"arial\" color=\"black\">88</font></td><td style=\"text-align: left; padding-top: 3px; padding-bottom: 3px; padding-left: 1px; padding-right: 1px;\"><font size=\"3\" face=\"arial\" color=\"black\">-</font></td><td style=\"text-align: left; padding-top: 3px; padding-bottom: 3px; padding-left: 1px; padding-right: 1px;\"><font size=\"3\" face=\"arial\" color=\"black\">84</font></td><td style=\"text-align: left; padding-top: 3px; padding-bottom: 3px; padding-left: 20px; padding-right: 20px;\"></td><td style=\"text-align: left; padding-top: 3px; padding-bottom: 3px; padding-left: 1px; padding-right: 1px;\">+</td><td style=\"text-align: left; padding-top: 3px; padding-bottom: 3px; padding-left: 1px; padding-right: 1px;\"><font size=\"3\" face=\"arial\" color=\"black\">4</font></td><td style=\"text-align: left; padding-top: 3px; padding-bottom: 3px; padding-left: 20px; padding-right: 20px;\"></td><td style=\"text-align: left; padding-top: 3px; padding-bottom: 3px; padding-left: 20px; padding-right: 20px;\"></td><td style=\"text-align: right; padding-top: 3px; padding-bottom: 3px; padding-left: 1px; padding-right: 1px;\"><font size=\"3\" face=\"arial\" color=\"black\">4.00</font></td><td style=\"text-align: left; padding-top: 3px; padding-bottom: 3px; padding-left: 20px; padding-right: 20px;\"></td></tr></table>"
      ],
      "text/plain": [
       "<IPython.core.display.HTML object>"
      ]
     },
     "metadata": {},
     "output_type": "display_data"
    },
    {
     "data": {
      "text/html": [
       "<table><tr><th style=\"text-align: left; padding-top: 3px; padding-bottom: 3px; padding-left: 1px; padding-right: 1px;\" colspan=\"3\"><font size=\"3\" face=\"arial\" color=\"black\">Giornata</font></th><th style=\"text-align: left; padding-top: 3px; padding-bottom: 3px; padding-left: 1px; padding-right: 1px;\" width=\"300px;\" colspan=\"4\"><font size=\"3\" face=\"arial\" color=\"black\">TOLENTINO</font></th><th style=\"text-align: left; padding-top: 3px; padding-bottom: 3px; padding-left: 1px; padding-right: 1px;\" width=\"90px;\" colspan=\"4\"><font size=\"3\" face=\"arial\" color=\"black\">Risultato</font></th><th style=\"text-align: left; padding-top: 3px; padding-bottom: 3px; padding-left: 1px; padding-right: 1px;\" colspan=\"3\"><font size=\"3\" face=\"arial\" color=\"black\">Scarto</font></th><th style=\"text-align: right; padding-top: 3px; padding-bottom: 3px; padding-left: 1px; padding-right: 1px;\" colspan=\"3\"><font size=\"3\" face=\"arial\" color=\"black\">Difficoltà   95.00</font></th></tr><tr><td style=\"text-align: left; padding-top: 3px; padding-bottom: 3px; padding-left: 1px; padding-right: 1px;\"><font size=\"3\" face=\"arial\" color=\"black\">1.a</font></td><td style=\"text-align: left; padding-top: 3px; padding-bottom: 3px; padding-left: 20px; padding-right: 20px;\"></td><td style=\"text-align: left; padding-top: 3px; padding-bottom: 3px; padding-left: 20px; padding-right: 20px;\"></td><td style=\"text-align: left; padding-top: 3px; padding-bottom: 3px; padding-left: 1px; padding-right: 1px;\"><font size=\"3\" face=\"arial\" color=\"green\">ASCOLI</font></td><td style=\"text-align: left; padding-top: 3px; padding-bottom: 3px; padding-left: 1px; padding-right: 1px;\"><font size=\"3\" face=\"arial\" color=\"black\">-</font></td><td style=\"text-align: left; padding-top: 3px; padding-bottom: 3px; padding-left: 1px; padding-right: 1px;\"><font size=\"3\" face=\"arial\" color=\"green\">TOLENTINO</font></td><td style=\"text-align: left; padding-top: 3px; padding-bottom: 3px; padding-left: 20px; padding-right: 20px;\"></td><td style=\"text-align: left; padding-top: 3px; padding-bottom: 3px; padding-left: 1px; padding-right: 1px;\"><font size=\"3\" face=\"arial\" color=\"black\">52</font></td><td style=\"text-align: left; padding-top: 3px; padding-bottom: 3px; padding-left: 1px; padding-right: 1px;\"><font size=\"3\" face=\"arial\" color=\"black\">-</font></td><td style=\"text-align: left; padding-top: 3px; padding-bottom: 3px; padding-left: 1px; padding-right: 1px;\"><font size=\"3\" face=\"arial\" color=\"black\">89</font></td><td style=\"text-align: left; padding-top: 3px; padding-bottom: 3px; padding-left: 20px; padding-right: 20px;\"></td><td style=\"text-align: left; padding-top: 3px; padding-bottom: 3px; padding-left: 1px; padding-right: 1px;\">+</td><td style=\"text-align: left; padding-top: 3px; padding-bottom: 3px; padding-left: 1px; padding-right: 1px;\"><font size=\"3\" face=\"arial\" color=\"black\">37</font></td><td style=\"text-align: left; padding-top: 3px; padding-bottom: 3px; padding-left: 20px; padding-right: 20px;\"></td><td style=\"text-align: left; padding-top: 3px; padding-bottom: 3px; padding-left: 20px; padding-right: 20px;\"></td><td style=\"text-align: right; padding-top: 3px; padding-bottom: 3px; padding-left: 1px; padding-right: 1px;\"><font size=\"3\" face=\"arial\" color=\"black\">5.00</font></td><td style=\"text-align: left; padding-top: 3px; padding-bottom: 3px; padding-left: 20px; padding-right: 20px;\"></td></tr><tr><td style=\"text-align: left; padding-top: 3px; padding-bottom: 3px; padding-left: 1px; padding-right: 1px;\"><font size=\"3\" face=\"arial\" color=\"black\">2.a</font></td><td style=\"text-align: left; padding-top: 3px; padding-bottom: 3px; padding-left: 20px; padding-right: 20px;\"></td><td style=\"text-align: left; padding-top: 3px; padding-bottom: 3px; padding-left: 20px; padding-right: 20px;\"></td><td style=\"text-align: left; padding-top: 3px; padding-bottom: 3px; padding-left: 1px; padding-right: 1px;\"><font size=\"3\" face=\"arial\" color=\"red\">TOLENTINO</font></td><td style=\"text-align: left; padding-top: 3px; padding-bottom: 3px; padding-left: 1px; padding-right: 1px;\"><font size=\"3\" face=\"arial\" color=\"black\">-</font></td><td style=\"text-align: left; padding-top: 3px; padding-bottom: 3px; padding-left: 1px; padding-right: 1px;\"><font size=\"3\" face=\"arial\" color=\"red\">LORETO</font></td><td style=\"text-align: left; padding-top: 3px; padding-bottom: 3px; padding-left: 20px; padding-right: 20px;\"></td><td style=\"text-align: left; padding-top: 3px; padding-bottom: 3px; padding-left: 1px; padding-right: 1px;\"><font size=\"3\" face=\"arial\" color=\"black\">53</font></td><td style=\"text-align: left; padding-top: 3px; padding-bottom: 3px; padding-left: 1px; padding-right: 1px;\"><font size=\"3\" face=\"arial\" color=\"black\">-</font></td><td style=\"text-align: left; padding-top: 3px; padding-bottom: 3px; padding-left: 1px; padding-right: 1px;\"><font size=\"3\" face=\"arial\" color=\"black\">68</font></td><td style=\"text-align: left; padding-top: 3px; padding-bottom: 3px; padding-left: 20px; padding-right: 20px;\"></td><td style=\"text-align: left; padding-top: 3px; padding-bottom: 3px; padding-left: 1px; padding-right: 1px;\">-</td><td style=\"text-align: left; padding-top: 3px; padding-bottom: 3px; padding-left: 1px; padding-right: 1px;\"><font size=\"3\" face=\"arial\" color=\"black\">15</font></td><td style=\"text-align: left; padding-top: 3px; padding-bottom: 3px; padding-left: 20px; padding-right: 20px;\"></td><td style=\"text-align: left; padding-top: 3px; padding-bottom: 3px; padding-left: 20px; padding-right: 20px;\"></td><td style=\"text-align: right; padding-top: 3px; padding-bottom: 3px; padding-left: 1px; padding-right: 1px;\"><font size=\"3\" face=\"arial\" color=\"black\">15.00</font></td><td style=\"text-align: left; padding-top: 3px; padding-bottom: 3px; padding-left: 20px; padding-right: 20px;\"></td></tr><tr><td style=\"text-align: left; padding-top: 3px; padding-bottom: 3px; padding-left: 1px; padding-right: 1px;\"><font size=\"3\" face=\"arial\" color=\"black\">3.a</font></td><td style=\"text-align: left; padding-top: 3px; padding-bottom: 3px; padding-left: 20px; padding-right: 20px;\"></td><td style=\"text-align: left; padding-top: 3px; padding-bottom: 3px; padding-left: 20px; padding-right: 20px;\"></td><td style=\"text-align: left; padding-top: 3px; padding-bottom: 3px; padding-left: 1px; padding-right: 1px;\"><font size=\"3\" face=\"arial\" color=\"red\">TOLENTINO</font></td><td style=\"text-align: left; padding-top: 3px; padding-bottom: 3px; padding-left: 1px; padding-right: 1px;\"><font size=\"3\" face=\"arial\" color=\"black\">-</font></td><td style=\"text-align: left; padding-top: 3px; padding-bottom: 3px; padding-left: 1px; padding-right: 1px;\"><font size=\"3\" face=\"arial\" color=\"red\">SAN MARINO</font></td><td style=\"text-align: left; padding-top: 3px; padding-bottom: 3px; padding-left: 20px; padding-right: 20px;\"></td><td style=\"text-align: left; padding-top: 3px; padding-bottom: 3px; padding-left: 1px; padding-right: 1px;\"><font size=\"3\" face=\"arial\" color=\"black\">58</font></td><td style=\"text-align: left; padding-top: 3px; padding-bottom: 3px; padding-left: 1px; padding-right: 1px;\"><font size=\"3\" face=\"arial\" color=\"black\">-</font></td><td style=\"text-align: left; padding-top: 3px; padding-bottom: 3px; padding-left: 1px; padding-right: 1px;\"><font size=\"3\" face=\"arial\" color=\"black\">75</font></td><td style=\"text-align: left; padding-top: 3px; padding-bottom: 3px; padding-left: 20px; padding-right: 20px;\"></td><td style=\"text-align: left; padding-top: 3px; padding-bottom: 3px; padding-left: 1px; padding-right: 1px;\">-</td><td style=\"text-align: left; padding-top: 3px; padding-bottom: 3px; padding-left: 1px; padding-right: 1px;\"><font size=\"3\" face=\"arial\" color=\"black\">17</font></td><td style=\"text-align: left; padding-top: 3px; padding-bottom: 3px; padding-left: 20px; padding-right: 20px;\"></td><td style=\"text-align: left; padding-top: 3px; padding-bottom: 3px; padding-left: 20px; padding-right: 20px;\"></td><td style=\"text-align: right; padding-top: 3px; padding-bottom: 3px; padding-left: 1px; padding-right: 1px;\"><font size=\"3\" face=\"arial\" color=\"black\">10.00</font></td><td style=\"text-align: left; padding-top: 3px; padding-bottom: 3px; padding-left: 20px; padding-right: 20px;\"></td></tr><tr><td style=\"text-align: left; padding-top: 3px; padding-bottom: 3px; padding-left: 1px; padding-right: 1px;\"><font size=\"3\" face=\"arial\" color=\"black\">5.a</font></td><td style=\"text-align: left; padding-top: 3px; padding-bottom: 3px; padding-left: 20px; padding-right: 20px;\"></td><td style=\"text-align: left; padding-top: 3px; padding-bottom: 3px; padding-left: 20px; padding-right: 20px;\"></td><td style=\"text-align: left; padding-top: 3px; padding-bottom: 3px; padding-left: 1px; padding-right: 1px;\"><font size=\"3\" face=\"arial\" color=\"red\">TOLENTINO</font></td><td style=\"text-align: left; padding-top: 3px; padding-bottom: 3px; padding-left: 1px; padding-right: 1px;\"><font size=\"3\" face=\"arial\" color=\"black\">-</font></td><td style=\"text-align: left; padding-top: 3px; padding-bottom: 3px; padding-left: 1px; padding-right: 1px;\"><font size=\"3\" face=\"arial\" color=\"red\">GUALDO</font></td><td style=\"text-align: left; padding-top: 3px; padding-bottom: 3px; padding-left: 20px; padding-right: 20px;\"></td><td style=\"text-align: left; padding-top: 3px; padding-bottom: 3px; padding-left: 1px; padding-right: 1px;\"><font size=\"3\" face=\"arial\" color=\"black\">53</font></td><td style=\"text-align: left; padding-top: 3px; padding-bottom: 3px; padding-left: 1px; padding-right: 1px;\"><font size=\"3\" face=\"arial\" color=\"black\">-</font></td><td style=\"text-align: left; padding-top: 3px; padding-bottom: 3px; padding-left: 1px; padding-right: 1px;\"><font size=\"3\" face=\"arial\" color=\"black\">63</font></td><td style=\"text-align: left; padding-top: 3px; padding-bottom: 3px; padding-left: 20px; padding-right: 20px;\"></td><td style=\"text-align: left; padding-top: 3px; padding-bottom: 3px; padding-left: 1px; padding-right: 1px;\">-</td><td style=\"text-align: left; padding-top: 3px; padding-bottom: 3px; padding-left: 1px; padding-right: 1px;\"><font size=\"3\" face=\"arial\" color=\"black\">10</font></td><td style=\"text-align: left; padding-top: 3px; padding-bottom: 3px; padding-left: 20px; padding-right: 20px;\"></td><td style=\"text-align: left; padding-top: 3px; padding-bottom: 3px; padding-left: 20px; padding-right: 20px;\"></td><td style=\"text-align: right; padding-top: 3px; padding-bottom: 3px; padding-left: 1px; padding-right: 1px;\"><font size=\"3\" face=\"arial\" color=\"black\">9.00</font></td><td style=\"text-align: left; padding-top: 3px; padding-bottom: 3px; padding-left: 20px; padding-right: 20px;\"></td></tr><tr><td style=\"text-align: left; padding-top: 3px; padding-bottom: 3px; padding-left: 1px; padding-right: 1px;\"><font size=\"3\" face=\"arial\" color=\"black\">6.a</font></td><td style=\"text-align: left; padding-top: 3px; padding-bottom: 3px; padding-left: 20px; padding-right: 20px;\"></td><td style=\"text-align: left; padding-top: 3px; padding-bottom: 3px; padding-left: 20px; padding-right: 20px;\"></td><td style=\"text-align: left; padding-top: 3px; padding-bottom: 3px; padding-left: 1px; padding-right: 1px;\"><font size=\"3\" face=\"arial\" color=\"green\">UMBERTIDE</font></td><td style=\"text-align: left; padding-top: 3px; padding-bottom: 3px; padding-left: 1px; padding-right: 1px;\"><font size=\"3\" face=\"arial\" color=\"black\">-</font></td><td style=\"text-align: left; padding-top: 3px; padding-bottom: 3px; padding-left: 1px; padding-right: 1px;\"><font size=\"3\" face=\"arial\" color=\"green\">TOLENTINO</font></td><td style=\"text-align: left; padding-top: 3px; padding-bottom: 3px; padding-left: 20px; padding-right: 20px;\"></td><td style=\"text-align: left; padding-top: 3px; padding-bottom: 3px; padding-left: 1px; padding-right: 1px;\"><font size=\"3\" face=\"arial\" color=\"black\">77</font></td><td style=\"text-align: left; padding-top: 3px; padding-bottom: 3px; padding-left: 1px; padding-right: 1px;\"><font size=\"3\" face=\"arial\" color=\"black\">-</font></td><td style=\"text-align: left; padding-top: 3px; padding-bottom: 3px; padding-left: 1px; padding-right: 1px;\"><font size=\"3\" face=\"arial\" color=\"black\">82</font></td><td style=\"text-align: left; padding-top: 3px; padding-bottom: 3px; padding-left: 20px; padding-right: 20px;\"></td><td style=\"text-align: left; padding-top: 3px; padding-bottom: 3px; padding-left: 1px; padding-right: 1px;\">+</td><td style=\"text-align: left; padding-top: 3px; padding-bottom: 3px; padding-left: 1px; padding-right: 1px;\"><font size=\"3\" face=\"arial\" color=\"black\">5</font></td><td style=\"text-align: left; padding-top: 3px; padding-bottom: 3px; padding-left: 20px; padding-right: 20px;\"></td><td style=\"text-align: left; padding-top: 3px; padding-bottom: 3px; padding-left: 20px; padding-right: 20px;\"></td><td style=\"text-align: right; padding-top: 3px; padding-bottom: 3px; padding-left: 1px; padding-right: 1px;\"><font size=\"3\" face=\"arial\" color=\"black\">3.75</font></td><td style=\"text-align: left; padding-top: 3px; padding-bottom: 3px; padding-left: 20px; padding-right: 20px;\"></td></tr><tr><td style=\"text-align: left; padding-top: 3px; padding-bottom: 3px; padding-left: 1px; padding-right: 1px;\"><font size=\"3\" face=\"arial\" color=\"black\">7.a</font></td><td style=\"text-align: left; padding-top: 3px; padding-bottom: 3px; padding-left: 20px; padding-right: 20px;\"></td><td style=\"text-align: left; padding-top: 3px; padding-bottom: 3px; padding-left: 20px; padding-right: 20px;\"></td><td style=\"text-align: left; padding-top: 3px; padding-bottom: 3px; padding-left: 1px; padding-right: 1px;\"><font size=\"3\" face=\"arial\" color=\"red\">TOLENTINO</font></td><td style=\"text-align: left; padding-top: 3px; padding-bottom: 3px; padding-left: 1px; padding-right: 1px;\"><font size=\"3\" face=\"arial\" color=\"black\">-</font></td><td style=\"text-align: left; padding-top: 3px; padding-bottom: 3px; padding-left: 1px; padding-right: 1px;\"><font size=\"3\" face=\"arial\" color=\"red\">FOSSOMBRONE</font></td><td style=\"text-align: left; padding-top: 3px; padding-bottom: 3px; padding-left: 20px; padding-right: 20px;\"></td><td style=\"text-align: left; padding-top: 3px; padding-bottom: 3px; padding-left: 1px; padding-right: 1px;\"><font size=\"3\" face=\"arial\" color=\"black\">55</font></td><td style=\"text-align: left; padding-top: 3px; padding-bottom: 3px; padding-left: 1px; padding-right: 1px;\"><font size=\"3\" face=\"arial\" color=\"black\">-</font></td><td style=\"text-align: left; padding-top: 3px; padding-bottom: 3px; padding-left: 1px; padding-right: 1px;\"><font size=\"3\" face=\"arial\" color=\"black\">68</font></td><td style=\"text-align: left; padding-top: 3px; padding-bottom: 3px; padding-left: 20px; padding-right: 20px;\"></td><td style=\"text-align: left; padding-top: 3px; padding-bottom: 3px; padding-left: 1px; padding-right: 1px;\">-</td><td style=\"text-align: left; padding-top: 3px; padding-bottom: 3px; padding-left: 1px; padding-right: 1px;\"><font size=\"3\" face=\"arial\" color=\"black\">13</font></td><td style=\"text-align: left; padding-top: 3px; padding-bottom: 3px; padding-left: 20px; padding-right: 20px;\"></td><td style=\"text-align: left; padding-top: 3px; padding-bottom: 3px; padding-left: 20px; padding-right: 20px;\"></td><td style=\"text-align: right; padding-top: 3px; padding-bottom: 3px; padding-left: 1px; padding-right: 1px;\"><font size=\"3\" face=\"arial\" color=\"black\">13.00</font></td><td style=\"text-align: left; padding-top: 3px; padding-bottom: 3px; padding-left: 20px; padding-right: 20px;\"></td></tr><tr><td style=\"text-align: left; padding-top: 3px; padding-bottom: 3px; padding-left: 1px; padding-right: 1px;\"><font size=\"3\" face=\"arial\" color=\"black\">8.a</font></td><td style=\"text-align: left; padding-top: 3px; padding-bottom: 3px; padding-left: 20px; padding-right: 20px;\"></td><td style=\"text-align: left; padding-top: 3px; padding-bottom: 3px; padding-left: 20px; padding-right: 20px;\"></td><td style=\"text-align: left; padding-top: 3px; padding-bottom: 3px; padding-left: 1px; padding-right: 1px;\"><font size=\"3\" face=\"arial\" color=\"red\">OSIMO</font></td><td style=\"text-align: left; padding-top: 3px; padding-bottom: 3px; padding-left: 1px; padding-right: 1px;\"><font size=\"3\" face=\"arial\" color=\"black\">-</font></td><td style=\"text-align: left; padding-top: 3px; padding-bottom: 3px; padding-left: 1px; padding-right: 1px;\"><font size=\"3\" face=\"arial\" color=\"red\">TOLENTINO</font></td><td style=\"text-align: left; padding-top: 3px; padding-bottom: 3px; padding-left: 20px; padding-right: 20px;\"></td><td style=\"text-align: left; padding-top: 3px; padding-bottom: 3px; padding-left: 1px; padding-right: 1px;\"><font size=\"3\" face=\"arial\" color=\"black\">84</font></td><td style=\"text-align: left; padding-top: 3px; padding-bottom: 3px; padding-left: 1px; padding-right: 1px;\"><font size=\"3\" face=\"arial\" color=\"black\">-</font></td><td style=\"text-align: left; padding-top: 3px; padding-bottom: 3px; padding-left: 1px; padding-right: 1px;\"><font size=\"3\" face=\"arial\" color=\"black\">71</font></td><td style=\"text-align: left; padding-top: 3px; padding-bottom: 3px; padding-left: 20px; padding-right: 20px;\"></td><td style=\"text-align: left; padding-top: 3px; padding-bottom: 3px; padding-left: 1px; padding-right: 1px;\">-</td><td style=\"text-align: left; padding-top: 3px; padding-bottom: 3px; padding-left: 1px; padding-right: 1px;\"><font size=\"3\" face=\"arial\" color=\"black\">13</font></td><td style=\"text-align: left; padding-top: 3px; padding-bottom: 3px; padding-left: 20px; padding-right: 20px;\"></td><td style=\"text-align: left; padding-top: 3px; padding-bottom: 3px; padding-left: 20px; padding-right: 20px;\"></td><td style=\"text-align: right; padding-top: 3px; padding-bottom: 3px; padding-left: 1px; padding-right: 1px;\"><font size=\"3\" face=\"arial\" color=\"black\">8.75</font></td><td style=\"text-align: left; padding-top: 3px; padding-bottom: 3px; padding-left: 20px; padding-right: 20px;\"></td></tr><tr><td style=\"text-align: left; padding-top: 3px; padding-bottom: 3px; padding-left: 1px; padding-right: 1px;\"><font size=\"3\" face=\"arial\" color=\"black\">9.a</font></td><td style=\"text-align: left; padding-top: 3px; padding-bottom: 3px; padding-left: 20px; padding-right: 20px;\"></td><td style=\"text-align: left; padding-top: 3px; padding-bottom: 3px; padding-left: 20px; padding-right: 20px;\"></td><td style=\"text-align: left; padding-top: 3px; padding-bottom: 3px; padding-left: 1px; padding-right: 1px;\"><font size=\"3\" face=\"arial\" color=\"red\">TOLENTINO</font></td><td style=\"text-align: left; padding-top: 3px; padding-bottom: 3px; padding-left: 1px; padding-right: 1px;\"><font size=\"3\" face=\"arial\" color=\"black\">-</font></td><td style=\"text-align: left; padding-top: 3px; padding-bottom: 3px; padding-left: 1px; padding-right: 1px;\"><font size=\"3\" face=\"arial\" color=\"red\">RECANATI</font></td><td style=\"text-align: left; padding-top: 3px; padding-bottom: 3px; padding-left: 20px; padding-right: 20px;\"></td><td style=\"text-align: left; padding-top: 3px; padding-bottom: 3px; padding-left: 1px; padding-right: 1px;\"><font size=\"3\" face=\"arial\" color=\"black\">56</font></td><td style=\"text-align: left; padding-top: 3px; padding-bottom: 3px; padding-left: 1px; padding-right: 1px;\"><font size=\"3\" face=\"arial\" color=\"black\">-</font></td><td style=\"text-align: left; padding-top: 3px; padding-bottom: 3px; padding-left: 1px; padding-right: 1px;\"><font size=\"3\" face=\"arial\" color=\"black\">75</font></td><td style=\"text-align: left; padding-top: 3px; padding-bottom: 3px; padding-left: 20px; padding-right: 20px;\"></td><td style=\"text-align: left; padding-top: 3px; padding-bottom: 3px; padding-left: 1px; padding-right: 1px;\">-</td><td style=\"text-align: left; padding-top: 3px; padding-bottom: 3px; padding-left: 1px; padding-right: 1px;\"><font size=\"3\" face=\"arial\" color=\"black\">19</font></td><td style=\"text-align: left; padding-top: 3px; padding-bottom: 3px; padding-left: 20px; padding-right: 20px;\"></td><td style=\"text-align: left; padding-top: 3px; padding-bottom: 3px; padding-left: 20px; padding-right: 20px;\"></td><td style=\"text-align: right; padding-top: 3px; padding-bottom: 3px; padding-left: 1px; padding-right: 1px;\"><font size=\"3\" face=\"arial\" color=\"black\">11.00</font></td><td style=\"text-align: left; padding-top: 3px; padding-bottom: 3px; padding-left: 20px; padding-right: 20px;\"></td></tr><tr><td style=\"text-align: left; padding-top: 3px; padding-bottom: 3px; padding-left: 1px; padding-right: 1px;\"><font size=\"3\" face=\"arial\" color=\"black\">10.a</font></td><td style=\"text-align: left; padding-top: 3px; padding-bottom: 3px; padding-left: 20px; padding-right: 20px;\"></td><td style=\"text-align: left; padding-top: 3px; padding-bottom: 3px; padding-left: 20px; padding-right: 20px;\"></td><td style=\"text-align: left; padding-top: 3px; padding-bottom: 3px; padding-left: 1px; padding-right: 1px;\"><font size=\"3\" face=\"arial\" color=\"red\">FALCONARA</font></td><td style=\"text-align: left; padding-top: 3px; padding-bottom: 3px; padding-left: 1px; padding-right: 1px;\"><font size=\"3\" face=\"arial\" color=\"black\">-</font></td><td style=\"text-align: left; padding-top: 3px; padding-bottom: 3px; padding-left: 1px; padding-right: 1px;\"><font size=\"3\" face=\"arial\" color=\"red\">TOLENTINO</font></td><td style=\"text-align: left; padding-top: 3px; padding-bottom: 3px; padding-left: 20px; padding-right: 20px;\"></td><td style=\"text-align: left; padding-top: 3px; padding-bottom: 3px; padding-left: 1px; padding-right: 1px;\"><font size=\"3\" face=\"arial\" color=\"black\">77</font></td><td style=\"text-align: left; padding-top: 3px; padding-bottom: 3px; padding-left: 1px; padding-right: 1px;\"><font size=\"3\" face=\"arial\" color=\"black\">-</font></td><td style=\"text-align: left; padding-top: 3px; padding-bottom: 3px; padding-left: 1px; padding-right: 1px;\"><font size=\"3\" face=\"arial\" color=\"black\">67</font></td><td style=\"text-align: left; padding-top: 3px; padding-bottom: 3px; padding-left: 20px; padding-right: 20px;\"></td><td style=\"text-align: left; padding-top: 3px; padding-bottom: 3px; padding-left: 1px; padding-right: 1px;\">-</td><td style=\"text-align: left; padding-top: 3px; padding-bottom: 3px; padding-left: 1px; padding-right: 1px;\"><font size=\"3\" face=\"arial\" color=\"black\">10</font></td><td style=\"text-align: left; padding-top: 3px; padding-bottom: 3px; padding-left: 20px; padding-right: 20px;\"></td><td style=\"text-align: left; padding-top: 3px; padding-bottom: 3px; padding-left: 20px; padding-right: 20px;\"></td><td style=\"text-align: right; padding-top: 3px; padding-bottom: 3px; padding-left: 1px; padding-right: 1px;\"><font size=\"3\" face=\"arial\" color=\"black\">6.25</font></td><td style=\"text-align: left; padding-top: 3px; padding-bottom: 3px; padding-left: 20px; padding-right: 20px;\"></td></tr><tr><td style=\"text-align: left; padding-top: 3px; padding-bottom: 3px; padding-left: 1px; padding-right: 1px;\"><font size=\"3\" face=\"arial\" color=\"black\">11.a</font></td><td style=\"text-align: left; padding-top: 3px; padding-bottom: 3px; padding-left: 20px; padding-right: 20px;\"></td><td style=\"text-align: left; padding-top: 3px; padding-bottom: 3px; padding-left: 20px; padding-right: 20px;\"></td><td style=\"text-align: left; padding-top: 3px; padding-bottom: 3px; padding-left: 1px; padding-right: 1px;\"><font size=\"3\" face=\"arial\" color=\"green\">TOLENTINO</font></td><td style=\"text-align: left; padding-top: 3px; padding-bottom: 3px; padding-left: 1px; padding-right: 1px;\"><font size=\"3\" face=\"arial\" color=\"black\">-</font></td><td style=\"text-align: left; padding-top: 3px; padding-bottom: 3px; padding-left: 1px; padding-right: 1px;\"><font size=\"3\" face=\"arial\" color=\"green\">PERUGIA</font></td><td style=\"text-align: left; padding-top: 3px; padding-bottom: 3px; padding-left: 20px; padding-right: 20px;\"></td><td style=\"text-align: left; padding-top: 3px; padding-bottom: 3px; padding-left: 1px; padding-right: 1px;\"><font size=\"3\" face=\"arial\" color=\"black\">68</font></td><td style=\"text-align: left; padding-top: 3px; padding-bottom: 3px; padding-left: 1px; padding-right: 1px;\"><font size=\"3\" face=\"arial\" color=\"black\">-</font></td><td style=\"text-align: left; padding-top: 3px; padding-bottom: 3px; padding-left: 1px; padding-right: 1px;\"><font size=\"3\" face=\"arial\" color=\"black\">62</font></td><td style=\"text-align: left; padding-top: 3px; padding-bottom: 3px; padding-left: 20px; padding-right: 20px;\"></td><td style=\"text-align: left; padding-top: 3px; padding-bottom: 3px; padding-left: 1px; padding-right: 1px;\">+</td><td style=\"text-align: left; padding-top: 3px; padding-bottom: 3px; padding-left: 1px; padding-right: 1px;\"><font size=\"3\" face=\"arial\" color=\"black\">6</font></td><td style=\"text-align: left; padding-top: 3px; padding-bottom: 3px; padding-left: 20px; padding-right: 20px;\"></td><td style=\"text-align: left; padding-top: 3px; padding-bottom: 3px; padding-left: 20px; padding-right: 20px;\"></td><td style=\"text-align: right; padding-top: 3px; padding-bottom: 3px; padding-left: 1px; padding-right: 1px;\"><font size=\"3\" face=\"arial\" color=\"black\">12.00</font></td><td style=\"text-align: left; padding-top: 3px; padding-bottom: 3px; padding-left: 20px; padding-right: 20px;\"></td></tr><tr><td style=\"text-align: left; padding-top: 3px; padding-bottom: 3px; padding-left: 1px; padding-right: 1px;\"><font size=\"3\" face=\"arial\" color=\"black\">12.a</font></td><td style=\"text-align: left; padding-top: 3px; padding-bottom: 3px; padding-left: 20px; padding-right: 20px;\"></td><td style=\"text-align: left; padding-top: 3px; padding-bottom: 3px; padding-left: 20px; padding-right: 20px;\"></td><td style=\"text-align: left; padding-top: 3px; padding-bottom: 3px; padding-left: 1px; padding-right: 1px;\"><font size=\"3\" face=\"arial\" color=\"green\">SPOLETO</font></td><td style=\"text-align: left; padding-top: 3px; padding-bottom: 3px; padding-left: 1px; padding-right: 1px;\"><font size=\"3\" face=\"arial\" color=\"black\">-</font></td><td style=\"text-align: left; padding-top: 3px; padding-bottom: 3px; padding-left: 1px; padding-right: 1px;\"><font size=\"3\" face=\"arial\" color=\"green\">TOLENTINO</font></td><td style=\"text-align: left; padding-top: 3px; padding-bottom: 3px; padding-left: 20px; padding-right: 20px;\"></td><td style=\"text-align: left; padding-top: 3px; padding-bottom: 3px; padding-left: 1px; padding-right: 1px;\"><font size=\"3\" face=\"arial\" color=\"black\">67</font></td><td style=\"text-align: left; padding-top: 3px; padding-bottom: 3px; padding-left: 1px; padding-right: 1px;\"><font size=\"3\" face=\"arial\" color=\"black\">-</font></td><td style=\"text-align: left; padding-top: 3px; padding-bottom: 3px; padding-left: 1px; padding-right: 1px;\"><font size=\"3\" face=\"arial\" color=\"black\">68</font></td><td style=\"text-align: left; padding-top: 3px; padding-bottom: 3px; padding-left: 20px; padding-right: 20px;\"></td><td style=\"text-align: left; padding-top: 3px; padding-bottom: 3px; padding-left: 1px; padding-right: 1px;\">+</td><td style=\"text-align: left; padding-top: 3px; padding-bottom: 3px; padding-left: 1px; padding-right: 1px;\"><font size=\"3\" face=\"arial\" color=\"black\">1</font></td><td style=\"text-align: left; padding-top: 3px; padding-bottom: 3px; padding-left: 20px; padding-right: 20px;\"></td><td style=\"text-align: left; padding-top: 3px; padding-bottom: 3px; padding-left: 20px; padding-right: 20px;\"></td><td style=\"text-align: right; padding-top: 3px; padding-bottom: 3px; padding-left: 1px; padding-right: 1px;\"><font size=\"3\" face=\"arial\" color=\"black\">1.25</font></td><td style=\"text-align: left; padding-top: 3px; padding-bottom: 3px; padding-left: 20px; padding-right: 20px;\"></td></tr></table>"
      ],
      "text/plain": [
       "<IPython.core.display.HTML object>"
      ]
     },
     "metadata": {},
     "output_type": "display_data"
    }
   ],
   "source": [
    "# Display di una lista di partite di una squadra\n",
    "def displayPartite(partite, titolo=''):\n",
    "    size = 3\n",
    "    font = 'arial'\n",
    "    html = '<table>'\n",
    "    style  = ' style=\"text-align: left; padding-top: 3px; padding-bottom: 3px; padding-left: 1px; padding-right: 1px;\"'\n",
    "    styleR = ' style=\"text-align: right; padding-top: 3px; padding-bottom: 3px; padding-left: 1px; padding-right: 1px;\"'\n",
    "    stylew1 = style + ' width=\"300px;\"'\n",
    "    stylew2 = style + ' width=\"90px;\"'\n",
    "    stylelarge = ' style=\"text-align: left; padding-top: 3px; padding-bottom: 3px; padding-left: 20px; padding-right: 20px;\"'\n",
    "    html += '<tr>'\n",
    "    html += '<th%s colspan=\"3\"><font size=\"%d\" face=\"%s\" color=\"black\">Giornata</font></th>' % (style,size,font)\n",
    "    html += '<th%s colspan=\"4\"><font size=\"%d\" face=\"%s\" color=\"black\">%s</font></th>' % (stylew1,size,font,titolo)\n",
    "    html += '<th%s colspan=\"4\"><font size=\"%d\" face=\"%s\" color=\"black\">Risultato</font></th>' % (stylew2,size,font)\n",
    "    html += '<th%s colspan=\"3\"><font size=\"%d\" face=\"%s\" color=\"black\">Scarto</font></th>' % (style,size,font)\n",
    "    html += '<th%s colspan=\"3\"><font size=\"%d\" face=\"%s\" color=\"black\">Difficoltà</font></th>' % (styleR,size,font)\n",
    "    html += '</tr>'\n",
    "    totdifficolta = 0\n",
    "    for p in partite:\n",
    "        squadra,incasa,giornata,avversario,puntisquadra,puntiavversario,difficolta = p\n",
    "        vinta = puntisquadra > puntiavversario\n",
    "        if vinta:\n",
    "            color = 'green'\n",
    "        else:\n",
    "            color = 'red'\n",
    "        html += '<tr>'\n",
    "        html += '<td%s><font size=\"%d\" face=\"%s\" color=\"black\">%d.a</font></td>' % (style,size,font,giornata)\n",
    "        html += '<td%s></td>' % (stylelarge)\n",
    "        html += '<td%s></td>' % (stylelarge)\n",
    "        if incasa:\n",
    "            html += '<td%s><font size=\"%d\" face=\"%s\" color=\"%s\">%s</font></td>' % (style,size,font,color,squadra)\n",
    "            html += '<td%s><font size=\"%d\" face=\"%s\" color=\"%s\">%s</font></td>' % (style,size,font,'black','-')\n",
    "            html += '<td%s><font size=\"%d\" face=\"%s\" color=\"%s\">%s</font></td>' % (style,size,font,color,avversario)\n",
    "            html += '<td%s></td>' % (stylelarge)\n",
    "            html += '<td%s><font size=\"%d\" face=\"%s\" color=\"%s\">%d</font></td>' % (style,size,font,'black',puntisquadra)\n",
    "            html += '<td%s><font size=\"%d\" face=\"%s\" color=\"%s\">%s</font></td>' % (style,size,font,'black','-')\n",
    "            html += '<td%s><font size=\"%d\" face=\"%s\" color=\"%s\">%d</font></td>' % (style,size,font,'black',puntiavversario)\n",
    "            html += '<td%s></td>' % (stylelarge)\n",
    "            if vinta: html += '<td%s>+</td>' % (style)\n",
    "            else:     html += '<td%s>-</td>' % (style)\n",
    "            html += '<td%s><font size=\"%d\" face=\"%s\" color=\"%s\">%d</font></td>' % (style,size,font,'black',abs(puntisquadra-puntiavversario))\n",
    "        else:\n",
    "            html += '<td%s><font size=\"%d\" face=\"%s\" color=\"%s\">%s</font></td>' % (style,size,font,color,avversario)\n",
    "            html += '<td%s><font size=\"%d\" face=\"%s\" color=\"%s\">%s</font></td>' % (style,size,font,'black','-')\n",
    "            html += '<td%s><font size=\"%d\" face=\"%s\" color=\"%s\">%s</font></td>' % (style,size,font,color,squadra)\n",
    "            html += '<td%s></td>' % (stylelarge)\n",
    "            html += '<td%s><font size=\"%d\" face=\"%s\" color=\"%s\">%d</font></td>' % (style,size,font,'black',puntiavversario)\n",
    "            html += '<td%s><font size=\"%d\" face=\"%s\" color=\"%s\">%s</font></td>' % (style,size,font,'black','-')\n",
    "            html += '<td%s><font size=\"%d\" face=\"%s\" color=\"%s\">%d</font></td>' % (style,size,font,'black',puntisquadra)\n",
    "            html += '<td%s></td>' % (stylelarge)\n",
    "            if vinta: html += '<td%s>+</td>' % (style)\n",
    "            else:     html += '<td%s>-</td>' % (style)\n",
    "            html += '<td%s><font size=\"%d\" face=\"%s\" color=\"%s\">%d</font></td>' % (style,size,font,'black',abs(puntisquadra-puntiavversario))\n",
    "            \n",
    "        html += '<td%s></td>' % (stylelarge)\n",
    "        html += '<td%s></td>' % (stylelarge)\n",
    "        html += '<td%s><font size=\"%d\" face=\"%s\" color=\"%s\">%.2f</font></td>' % (styleR,size,font,'black',difficolta)\n",
    "        html += '<td%s></td>' % (stylelarge)\n",
    "        \n",
    "        html += '</tr>'\n",
    "        \n",
    "        totdifficolta += difficolta\n",
    "    html += '</table>'\n",
    "    \n",
    "    html = html.replace('Difficoltà','Difficoltà   %.2f'%totdifficolta)\n",
    "    return html\n",
    "    \n",
    "\n",
    "# Per le prime 10 squadre in classifica\n",
    "prime10 = list(dfClassifica['Squadra'])[:10]\n",
    "for squadra in prime10:\n",
    "    display(HTML(displayPartite(TutteLePartite(squadra),squadra)))"
   ]
  },
  {
   "cell_type": "code",
   "execution_count": null,
   "metadata": {},
   "outputs": [],
   "source": []
  }
 ],
 "metadata": {
  "kernelspec": {
   "display_name": "Python 3 (ipykernel)",
   "language": "python",
   "name": "python3"
  },
  "language_info": {
   "codemirror_mode": {
    "name": "ipython",
    "version": 3
   },
   "file_extension": ".py",
   "mimetype": "text/x-python",
   "name": "python",
   "nbconvert_exporter": "python",
   "pygments_lexer": "ipython3",
   "version": "3.7.13"
  }
 },
 "nbformat": 4,
 "nbformat_minor": 4
}
