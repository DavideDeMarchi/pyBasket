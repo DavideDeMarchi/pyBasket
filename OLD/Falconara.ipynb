{
 "cells": [
  {
   "cell_type": "code",
   "execution_count": 66,
   "id": "78806e1e",
   "metadata": {},
   "outputs": [],
   "source": [
    "Avversari = \"Falconara\"\n",
    "with open(Avversari + \".txt\") as file:\n",
    "    lines = [line.rstrip() for line in file]"
   ]
  },
  {
   "cell_type": "code",
   "execution_count": 67,
   "id": "76a2a447",
   "metadata": {},
   "outputs": [
    {
     "data": {
      "text/plain": [
       "['1. Falconara Basket - Bartoli Mechanics MBA 51-83',\n",
       " 'Falconara: Bolognini 6, Giorgini 6, Serrani 2, Ponzella 17, Barchetta, Grossi 4, Caggiula 5, Polonara 4, Piccinini 4, Corleoni ne, Martino, Falaschi 3. All. Reggiani',\n",
       " '',\n",
       " '2. Pallacanestro Recanati - Falconara Basket 85-68',\n",
       " 'Falconara: Bolognini 8, Barchetta 4, Giorgini 3, Serrani 3, Ponzella 11, Grossi 9, Caggiula 9, Polonara 13, Piccinini 5, Corleoni ne, Martino, Falaschi ne. All. Reggiani',\n",
       " '',\n",
       " '3. Falconara Basket - Perugia Basket 62-93',\n",
       " 'Falconara: Bolognini 11, Barchetta 8, Giorgini 8, Serrani 1, Ponzella 6, Grossi 6, Caggiula 4, Polonara 6, Piccinini 3, Corleoni, Martino, Falaschi 9. All. Reggiani',\n",
       " '',\n",
       " '4. B-Chem Virtus P.S.Giorgio - Falconara Basket 88-66',\n",
       " 'Falconara: Bolognini 8, Barchetta 2, Toia 12, Giorgini 19, Ponzella 2, Grilli 2, Grossi 5, Caggiula 3, Polonara 8, Piccinini 5, Corleoni, Falaschi.',\n",
       " '',\n",
       " '5. Falconara Basket - Basket Giovane Pesaro 72-64',\n",
       " 'Falconara: Bolognini 9, Barchetta ne, Toia 21, Giorgini 6, Ponzella 9, Grilli 3, Grossi 9, Caggiula 8, Polonara 7, Piccinini ne, Martino ne, Falaschi. All. Reggiani',\n",
       " '',\n",
       " '6. Loreto Pesaro - Falconara Basket 86-61',\n",
       " 'Falconara: Barchetta 2, Toia 17, Giorgini 6, Serrani 3, Ponzella 2, Grilli, Grossi 11, Caggiula 12, Polonara 8, Piccinini, Martino ne, Falaschi ne. All. Reggiani',\n",
       " '',\n",
       " '8. Fratta Umbertide - Falconara Basket 73-69',\n",
       " 'Falconara: Toia 16, Giorgini 7, Serrani, Ponzella 11, Grilli 6, Grossi 7, Caggiula 4, Formisano 5, Polonara 11, Piccinini, Falaschi 2. All. Reggiani',\n",
       " '',\n",
       " '9. Falconara Basket - Auximum Osimo 65-55',\n",
       " 'Falconara: Bolognini 13, Barchetta ne, Toia 22, Giorgini, Ponzella 8, Grilli, Grossi 12, Caggiula 4, Formisano 2, Polonara 4, Piccinini, Falaschi ne. All. Reggiani',\n",
       " '',\n",
       " '10. Falconara Basket - Basket Tolentino 77-67',\n",
       " 'Falconara: Bolognini 9, Barchetta ne, Toia 23, Giorgini 4, Serrani ne, Ponzella 1, Grilli ne, Grossi, Caggiula 19, Formisano 10, Polonara 4, Correia 7. All. Reggiani',\n",
       " '',\n",
       " '11. Atomika Spoleto - Falconara Basket 60-71',\n",
       " 'Falconara: Caggiula 9, Barchetta ne, Toia 15, Giorgini 12, Serrani 6, Ponzella 7, Da Silva 14, Formisano 4, Polonara 4, Piccinini, Falaschi ne. All. Reggiani']"
      ]
     },
     "execution_count": 67,
     "metadata": {},
     "output_type": "execute_result"
    }
   ],
   "source": [
    "lines"
   ]
  },
  {
   "cell_type": "code",
   "execution_count": 68,
   "id": "9d087bc7",
   "metadata": {},
   "outputs": [],
   "source": [
    "linee_punti = [x[len(Avversari)+2:].replace(', ',',').replace('.','').replace('ne','0') for x in lines if x[:len(Avversari)]==Avversari]\n",
    "#linee_punti"
   ]
  },
  {
   "cell_type": "code",
   "execution_count": 69,
   "id": "1b8c3254",
   "metadata": {},
   "outputs": [],
   "source": [
    "d = {}\n",
    "\n",
    "for linea in linee_punti:\n",
    "    #print(linea)\n",
    "    if ' All' in linea:\n",
    "        pos = linea.find(' All')\n",
    "        linea = linea[:pos]\n",
    "    #print(linea)\n",
    "    giocatori = linea.split(',')\n",
    "    for g in giocatori:\n",
    "        vvv = g.split(' ')\n",
    "        if len(vvv) == 1:\n",
    "            vvv.append('0')\n",
    "        while len(vvv) > 2:\n",
    "            vvv[0] = vvv[0] + ' ' + vvv[1]\n",
    "            del vvv[1]\n",
    "        if len(vvv) > 1 and len(vvv[1]) > 0:\n",
    "            punti = int(vvv[1])\n",
    "        else:\n",
    "            punti = 0\n",
    "        #print(vvv)\n",
    "        nome = vvv[0]\n",
    "        if nome in d:\n",
    "            d[nome].append(punti)\n",
    "        else:\n",
    "            d[nome] = [punti]"
   ]
  },
  {
   "cell_type": "code",
   "execution_count": 70,
   "id": "4b4e0fed",
   "metadata": {},
   "outputs": [
    {
     "data": {
      "text/plain": [
       "{'Bolognini': [6, 8, 11, 8, 9, 13, 9],\n",
       " 'Giorgini': [6, 3, 8, 19, 6, 6, 7, 0, 4, 12],\n",
       " 'Serrani': [2, 3, 1, 3, 0, 0, 6],\n",
       " 'Ponzella': [17, 11, 6, 2, 9, 2, 11, 8, 1, 7],\n",
       " 'Barchetta': [0, 4, 8, 2, 0, 2, 0, 0, 0],\n",
       " 'Grossi': [4, 9, 6, 5, 9, 11, 7, 12, 0],\n",
       " 'Caggiula': [5, 9, 4, 3, 8, 12, 4, 4, 19, 9],\n",
       " 'Polonara': [4, 13, 6, 8, 7, 8, 11, 4, 4, 4],\n",
       " 'Piccinini': [4, 5, 3, 5, 0, 0, 0, 0, 0],\n",
       " 'Corleoni': [0, 0, 0, 0],\n",
       " 'Martino': [0, 0, 0, 0, 0],\n",
       " 'Falaschi': [3, 0, 9, 0, 0, 0, 2, 0, 0],\n",
       " 'Toia': [12, 21, 17, 16, 22, 23, 15],\n",
       " 'Grilli': [2, 3, 0, 6, 0, 0],\n",
       " 'Formisano': [5, 2, 10, 4],\n",
       " 'Correia': [7],\n",
       " 'Da Silva': [14]}"
      ]
     },
     "execution_count": 70,
     "metadata": {},
     "output_type": "execute_result"
    }
   ],
   "source": [
    "d"
   ]
  },
  {
   "cell_type": "code",
   "execution_count": 72,
   "id": "632a65bf",
   "metadata": {},
   "outputs": [
    {
     "name": "stdout",
     "output_type": "stream",
     "text": [
      "Toia         18.00\n",
      "Da Silva     14.00\n",
      "Bolognini    9.14\n",
      "Caggiula     7.70\n",
      "Ponzella     7.40\n",
      "Giorgini     7.10\n",
      "Grossi       7.00\n",
      "Correia      7.00\n",
      "Polonara     6.90\n",
      "Formisano    5.25\n",
      "Serrani      2.14\n",
      "Piccinini    1.89\n",
      "Grilli       1.83\n",
      "Barchetta    1.78\n",
      "Falaschi     1.56\n",
      "Corleoni     0.00\n",
      "Martino      0.00\n"
     ]
    }
   ],
   "source": [
    "import statistics\n",
    "\n",
    "m = []\n",
    "for name in d:\n",
    "    punti = d[name]\n",
    "    media = statistics.mean(punti) \n",
    "    m.append((name,media))\n",
    "    \n",
    "m = sorted(m, key=lambda x: x[1], reverse=True)\n",
    "for v in m:\n",
    "    print('%-12s'%v[0], '%.2f'%v[1])"
   ]
  },
  {
   "cell_type": "code",
   "execution_count": null,
   "id": "255faa87",
   "metadata": {},
   "outputs": [],
   "source": []
  }
 ],
 "metadata": {
  "kernelspec": {
   "display_name": "Python 3 (ipykernel)",
   "language": "python",
   "name": "python3"
  },
  "language_info": {
   "codemirror_mode": {
    "name": "ipython",
    "version": 3
   },
   "file_extension": ".py",
   "mimetype": "text/x-python",
   "name": "python",
   "nbconvert_exporter": "python",
   "pygments_lexer": "ipython3",
   "version": "3.7.13"
  }
 },
 "nbformat": 4,
 "nbformat_minor": 5
}
