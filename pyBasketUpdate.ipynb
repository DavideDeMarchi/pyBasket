{
 "cells": [
  {
   "cell_type": "code",
   "execution_count": 1,
   "id": "2934f4fc-47b0-4db3-b466-e4e88f584208",
   "metadata": {},
   "outputs": [
    {
     "data": {
      "application/vnd.jupyter.widget-view+json": {
       "model_id": "d4a8cc9a5fa44d48b1a8d152d06bad20",
       "version_major": 2,
       "version_minor": 0
      },
      "text/plain": [
       "Output()"
      ]
     },
     "metadata": {},
     "output_type": "display_data"
    },
    {
     "data": {
      "application/vnd.jupyter.widget-view+json": {
       "model_id": "35bce3b8e46748c99f32c04d476c6f90",
       "version_major": 2,
       "version_minor": 0
      },
      "text/plain": [
       "Output()"
      ]
     },
     "metadata": {},
     "output_type": "display_data"
    }
   ],
   "source": [
    "import htmlsite\n",
    "\n",
    "import importlib\n",
    "importlib.reload(htmlsite)\n",
    "\n",
    "import ipyvuetify as v\n",
    "from vois.vuetify import settings, dialogMessage, dialogGeneric\n",
    "import ftplib\n",
    "\n",
    "from ipywidgets import widgets, HTML\n",
    "output = widgets.Output()\n",
    "display(output)\n",
    "\n",
    "messages = widgets.Output()\n",
    "display(messages)\n",
    "\n",
    "def on_ok():\n",
    "    try:\n",
    "        ftp_server = ftplib.FTP('ftp.daigio.it','2374799@aruba.it',tfp.v_model)\n",
    "        ftp_server.encoding = \"utf-8\"\n",
    "        \n",
    "        htmlsite.update(output, messages, ftp_server, dotest=False, players_to_remove_from_totals=['Matteucci', 'Giangaspro'])\n",
    "        \n",
    "        ftp_server.quit()\n",
    "    except ftplib.all_errors as e:\n",
    "        errorcode = str(e)\n",
    "        dlg = dialogMessage.dialogMessage(title='Error',\n",
    "                                          titleheight=30,\n",
    "                                          text='Cannot connect to server!\\n\\nError: %s'%errorcode,\n",
    "                                          addclosebuttons=True,\n",
    "                                          show=True, width=450, output=output)\n",
    "\n",
    "tfp = v.TextField(v_model='', autofocus=True, type='password', label='Insert password', color=settings.color_first, dense=False, class_=\"pa-0 ma-0 ml-8 mr-8\")\n",
    "dlg = dialogGeneric.dialogGeneric(title='Update pybasket HTML site',\n",
    "                                  text=' ', titleheight=30,\n",
    "                                  show=True, addclosebuttons=True, width=460,\n",
    "                                  addokcancelbuttons=True, on_ok=on_ok,\n",
    "                                  fullscreen=False, content=[tfp], output=output)"
   ]
  },
  {
   "cell_type": "code",
   "execution_count": null,
   "id": "d3c14d76-80ea-4cf2-ac13-3662ad168119",
   "metadata": {},
   "outputs": [],
   "source": []
  }
 ],
 "metadata": {
  "kernelspec": {
   "display_name": "Python 3.11.9 (davide)",
   "language": "python",
   "name": "davide"
  },
  "language_info": {
   "codemirror_mode": {
    "name": "ipython",
    "version": 3
   },
   "file_extension": ".py",
   "mimetype": "text/x-python",
   "name": "python",
   "nbconvert_exporter": "python",
   "pygments_lexer": "ipython3",
   "version": "3.11.9"
  }
 },
 "nbformat": 4,
 "nbformat_minor": 5
}
