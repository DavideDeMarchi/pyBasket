{
 "cells": [
  {
   "cell_type": "code",
   "execution_count": null,
   "id": "a13707f5-1081-4469-99aa-20f044eea8ce",
   "metadata": {},
   "outputs": [],
   "source": [
    "import CloudStorage\n",
    "\n",
    "import importlib\n",
    "importlib.reload(CloudStorage)\n",
    "\n",
    "from ipywidgets import widgets, HTML\n",
    "output = widgets.Output()\n",
    "display(output)\n",
    "\n",
    "c = CloudStorage.CloudStorage(output)\n",
    "c.connect()"
   ]
  },
  {
   "cell_type": "code",
   "execution_count": null,
   "id": "bff7f131-b19c-47f9-91ee-0ec02c00e1f6",
   "metadata": {},
   "outputs": [],
   "source": [
    "c.open('/pyBasket/Urbania2025')"
   ]
  },
  {
   "cell_type": "code",
   "execution_count": null,
   "id": "d30fe04e-bcc7-4251-8bff-465f42d8da3e",
   "metadata": {},
   "outputs": [],
   "source": [
    "c.gamefiles_names"
   ]
  },
  {
   "cell_type": "code",
   "execution_count": null,
   "id": "48f4643b-a04b-48ff-8743-3f6553430c71",
   "metadata": {},
   "outputs": [],
   "source": [
    "c.teamfile_name"
   ]
  },
  {
   "cell_type": "code",
   "execution_count": null,
   "id": "bd0db3a9-0373-41d4-a26f-8767a54825b5",
   "metadata": {},
   "outputs": [],
   "source": [
    "j = c.readGame('7.a-Andata-GUELFO BASKET.game')"
   ]
  },
  {
   "cell_type": "code",
   "execution_count": null,
   "id": "1a544594-1450-414d-81ee-4610da13ebcc",
   "metadata": {},
   "outputs": [],
   "source": [
    "#j"
   ]
  },
  {
   "cell_type": "code",
   "execution_count": null,
   "id": "a3ecd791-ace1-4ed4-9c7b-fbc7cefa1c14",
   "metadata": {},
   "outputs": [],
   "source": [
    "j['time'] = '18:00'"
   ]
  },
  {
   "cell_type": "code",
   "execution_count": null,
   "id": "1d124431-f787-45e3-b112-3d962784a0aa",
   "metadata": {},
   "outputs": [],
   "source": [
    "c.writeGame('7.a-Andata-GUELFO BASKET.game', j)"
   ]
  },
  {
   "cell_type": "code",
   "execution_count": null,
   "id": "2934c1ae-65d5-48ce-bfa0-42a21ab128ab",
   "metadata": {},
   "outputs": [],
   "source": [
    "j = c.readTeam()"
   ]
  },
  {
   "cell_type": "code",
   "execution_count": null,
   "id": "dde9296c-0c79-4616-8ecd-0deeb3f2d2bc",
   "metadata": {},
   "outputs": [],
   "source": [
    "j"
   ]
  },
  {
   "cell_type": "code",
   "execution_count": null,
   "id": "1fae54f2-2780-4a77-8ea9-d48bfa6fd7f4",
   "metadata": {},
   "outputs": [],
   "source": [
    "j['abbreviation'] = 'URB'"
   ]
  },
  {
   "cell_type": "code",
   "execution_count": null,
   "id": "9c04628c-6eb7-41e4-8afe-262493f5afe6",
   "metadata": {},
   "outputs": [],
   "source": [
    "c.writeTeam(j)"
   ]
  },
  {
   "cell_type": "code",
   "execution_count": null,
   "id": "ad6f7600-c8d1-4ad0-8f20-e5be303c4424",
   "metadata": {},
   "outputs": [],
   "source": [
    "!ls -lah /tmp"
   ]
  },
  {
   "cell_type": "code",
   "execution_count": null,
   "id": "0ce3eee0-199c-4f24-9e78-9f5923f6b6ec",
   "metadata": {},
   "outputs": [],
   "source": []
  }
 ],
 "metadata": {
  "kernelspec": {
   "display_name": "Python 3.11.9 (davide)",
   "language": "python",
   "name": "davide"
  },
  "language_info": {
   "codemirror_mode": {
    "name": "ipython",
    "version": 3
   },
   "file_extension": ".py",
   "mimetype": "text/x-python",
   "name": "python",
   "nbconvert_exporter": "python",
   "pygments_lexer": "ipython3",
   "version": "3.11.9"
  }
 },
 "nbformat": 4,
 "nbformat_minor": 5
}
