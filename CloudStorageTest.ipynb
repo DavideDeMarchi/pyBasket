{
 "cells": [
  {
   "cell_type": "code",
   "execution_count": 15,
   "id": "a13707f5-1081-4469-99aa-20f044eea8ce",
   "metadata": {},
   "outputs": [
    {
     "data": {
      "application/vnd.jupyter.widget-view+json": {
       "model_id": "c97f55070cdf4a79927c7a59f02d4b2a",
       "version_major": 2,
       "version_minor": 0
      },
      "text/plain": [
       "Output()"
      ]
     },
     "metadata": {},
     "output_type": "display_data"
    }
   ],
   "source": [
    "import CloudStorage\n",
    "\n",
    "import importlib\n",
    "importlib.reload(CloudStorage)\n",
    "\n",
    "from ipywidgets import widgets, HTML\n",
    "output = widgets.Output()\n",
    "display(output)\n",
    "\n",
    "c = CloudStorage.CloudStorage(output)\n",
    "c.connect()"
   ]
  },
  {
   "cell_type": "code",
   "execution_count": 16,
   "id": "bff7f131-b19c-47f9-91ee-0ec02c00e1f6",
   "metadata": {},
   "outputs": [],
   "source": [
    "c.open('/pyBasket/Urbania2025')"
   ]
  },
  {
   "cell_type": "code",
   "execution_count": 17,
   "id": "d30fe04e-bcc7-4251-8bff-465f42d8da3e",
   "metadata": {},
   "outputs": [
    {
     "data": {
      "text/plain": [
       "['1.a-Andata-PORTO S.ELPIDIO.game',\n",
       " '1.a-Playoff-PORTO S.ELPIDIO.game',\n",
       " '1.a-Ritorno-PORTO S.ELPIDIO.game',\n",
       " '10.a-Andata-REAL BASKET PESARO.game',\n",
       " '10.a-Ritorno-REAL BASKET PESARO.game',\n",
       " '11.a-Andata-STAMURA ANCONA.game',\n",
       " '11.a-Ritorno-STAMURA ANCONA.game',\n",
       " '12.a-Andata-BASKERS FORLIMPOPOLI.game',\n",
       " '12.a-Ritorno-BASKERS FORLIMPOPOLI.game',\n",
       " '13.a-Andata-DULCA SANTARCANGELO.game',\n",
       " '13.a-Ritorno-DULCA SANTARCANGELO.game',\n",
       " '2.a-Andata-PISAURUM PESARO.game',\n",
       " '2.a-Playoff-PORTO S.ELPIDIO.game',\n",
       " '2.a-Ritorno-PISAURUM PESARO.game',\n",
       " '3.a-Andata-SUTOR MONTEGRANARO.game',\n",
       " '3.a-Ritorno-SUTOR MONTEGRANARO.game',\n",
       " '4.a-Andata-GIOVANE ROBUR OSIMO.game',\n",
       " '4.a-Ritorno-GIOVANE ROBUR OSIMO.game',\n",
       " '5.a-Andata-BARTOLI FOSSOMBRONE.game',\n",
       " '5.a-Ritorno-BARTOLI FOSSOMBRONE.game',\n",
       " '6.a-Andata-TAURUS JESI.game',\n",
       " '6.a-Ritorno-TAURUS JESI.game',\n",
       " '7.a-Andata-GUELFO BASKET.game',\n",
       " '7.a-Ritorno-GUELFO BASKET.game',\n",
       " '8.a-Andata-TITANO SAN MARINO.game',\n",
       " '8.a-Ritorno-TITANO SAN MARINO.game',\n",
       " '9.a-Andata-FALCONARA BASKET.game',\n",
       " '9.a-Ritorno-FALCONARA BASKET.game']"
      ]
     },
     "execution_count": 17,
     "metadata": {},
     "output_type": "execute_result"
    }
   ],
   "source": [
    "c.gamefiles"
   ]
  },
  {
   "cell_type": "code",
   "execution_count": 18,
   "id": "48f4643b-a04b-48ff-8743-3f6553430c71",
   "metadata": {},
   "outputs": [
    {
     "data": {
      "text/plain": [
       "'Urbania.team'"
      ]
     },
     "execution_count": 18,
     "metadata": {},
     "output_type": "execute_result"
    }
   ],
   "source": [
    "c.teamfile"
   ]
  },
  {
   "cell_type": "code",
   "execution_count": null,
   "id": "2934c1ae-65d5-48ce-bfa0-42a21ab128ab",
   "metadata": {},
   "outputs": [],
   "source": []
  }
 ],
 "metadata": {
  "kernelspec": {
   "display_name": "Python 3.11.9 (davide)",
   "language": "python",
   "name": "davide"
  },
  "language_info": {
   "codemirror_mode": {
    "name": "ipython",
    "version": 3
   },
   "file_extension": ".py",
   "mimetype": "text/x-python",
   "name": "python",
   "nbconvert_exporter": "python",
   "pygments_lexer": "ipython3",
   "version": "3.11.9"
  }
 },
 "nbformat": 4,
 "nbformat_minor": 5
}
