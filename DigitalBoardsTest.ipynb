{
 "cells": [
  {
   "cell_type": "markdown",
   "id": "08b2302b-88b0-4900-b81c-aca7ea0a5dff",
   "metadata": {},
   "source": [
    "### TimeBoard"
   ]
  },
  {
   "cell_type": "code",
   "execution_count": null,
   "id": "6eac315b-587a-4598-819e-2b512b227123",
   "metadata": {
    "tags": []
   },
   "outputs": [],
   "source": [
    "import DigitalBoards\n",
    "\n",
    "import importlib\n",
    "importlib.reload(DigitalBoards)\n",
    "\n",
    "def onstopped():\n",
    "    print('stopped')\n",
    "    \n",
    "def onterminated():\n",
    "    print('terminated')\n",
    "    tb.gameover = True\n",
    "\n",
    "#tb = DigitalBoards.TimeBoard(color_back='#ffffff', color_off='#f3f3f3')\n",
    "tb = DigitalBoards.TimeBoard(scale=0.5, onstopped=onstopped, onterminated=onterminated)\n",
    "tb.seconds = 2\n",
    "display(tb.debug)\n",
    "tb"
   ]
  },
  {
   "cell_type": "code",
   "execution_count": null,
   "id": "30330d3b-9d83-40ad-bdea-b47f844c081e",
   "metadata": {
    "tags": []
   },
   "outputs": [],
   "source": [
    "tb.scale = 0.8"
   ]
  },
  {
   "cell_type": "code",
   "execution_count": null,
   "id": "d2dde9ac-513c-47a9-824f-21a7838268af",
   "metadata": {
    "tags": []
   },
   "outputs": [],
   "source": [
    "tb.gameover"
   ]
  },
  {
   "cell_type": "code",
   "execution_count": null,
   "id": "bcc3e154-143d-4677-b413-c644081a365a",
   "metadata": {
    "tags": []
   },
   "outputs": [],
   "source": [
    "tb.seconds = 10"
   ]
  },
  {
   "cell_type": "code",
   "execution_count": null,
   "id": "2177e2a4-42e7-4996-8a1f-a796c521cc0b",
   "metadata": {
    "tags": []
   },
   "outputs": [],
   "source": [
    "tb.start()"
   ]
  },
  {
   "cell_type": "code",
   "execution_count": null,
   "id": "b51be5a3-1ea8-46b3-9f38-f6c68a249415",
   "metadata": {
    "tags": []
   },
   "outputs": [],
   "source": [
    "tb.stop()"
   ]
  },
  {
   "cell_type": "code",
   "execution_count": null,
   "id": "7ed29543-1733-4ab5-8d48-d30f16f091aa",
   "metadata": {
    "tags": []
   },
   "outputs": [],
   "source": [
    "from random import randrange\n",
    "\n",
    "for i in range(100):\n",
    "    s = randrange(700)\n",
    "    tb.seconds = s"
   ]
  },
  {
   "cell_type": "code",
   "execution_count": null,
   "id": "e024d542-6208-42e0-91e9-beeb733310dc",
   "metadata": {
    "tags": []
   },
   "outputs": [],
   "source": [
    "tb.seconds = 234.2"
   ]
  },
  {
   "cell_type": "markdown",
   "id": "7dacd21a-e3e5-4809-b427-6343ab893c05",
   "metadata": {},
   "source": [
    "### PointsBoard"
   ]
  },
  {
   "cell_type": "code",
   "execution_count": null,
   "id": "af3585cf-9089-4781-aab3-78d9c4f6da03",
   "metadata": {
    "tags": []
   },
   "outputs": [],
   "source": [
    "from ipywidgets import widgets, HTML\n",
    "\n",
    "command = '''\n",
    "<style>.jp-OutputPrompt {\n",
    "    flex: 0 0 0 !important;\n",
    "    display: inline !important;\n",
    "    min-width: 0 !important;\n",
    "    padding: 0 !important;\n",
    "}\n",
    "</style>'''\n",
    "\n",
    "display(HTML(command))\n",
    "\n",
    "import DigitalBoards\n",
    "\n",
    "import importlib\n",
    "importlib.reload(DigitalBoards)\n",
    "\n",
    "out = widgets.Output()\n",
    "display(out)\n",
    "\n",
    "def onclick(x):\n",
    "    with out:\n",
    "        print(x)\n",
    "\n",
    "#tp = DigitalBoards.PointsBoard(width=14, height=16, color_back='#ffffff', color_off='#f3f3f3')\n",
    "tp1   = DigitalBoards.PointsBoard(scale=0.5, onclick=onclick, left_align=False)\n",
    "tp1"
   ]
  },
  {
   "cell_type": "code",
   "execution_count": null,
   "id": "207d3aaf-f5db-47b5-a676-051579a1d831",
   "metadata": {
    "tags": []
   },
   "outputs": [],
   "source": [
    "from ipywidgets import widgets, HTML\n",
    "\n",
    "command = '''\n",
    "<style>.jp-OutputPrompt {\n",
    "    flex: 0 0 0 !important;\n",
    "    display: inline !important;\n",
    "    min-width: 0 !important;\n",
    "    padding: 0 !important;\n",
    "}\n",
    "</style>'''\n",
    "\n",
    "display(HTML(command))\n",
    "\n",
    "import DigitalBoards\n",
    "\n",
    "import importlib\n",
    "importlib.reload(DigitalBoards)\n",
    "\n",
    "out = widgets.Output()\n",
    "display(out)\n",
    "\n",
    "colon = DigitalBoards.Colon(scale=0.5)\n",
    "colon"
   ]
  },
  {
   "cell_type": "code",
   "execution_count": null,
   "id": "f457af0d-f8a7-428a-9944-39c5c3e3a2fc",
   "metadata": {
    "tags": []
   },
   "outputs": [],
   "source": [
    "from ipywidgets import widgets, HTML\n",
    "\n",
    "command = '''\n",
    "<style>.jp-OutputPrompt {\n",
    "    flex: 0 0 0 !important;\n",
    "    display: inline !important;\n",
    "    min-width: 0 !important;\n",
    "    padding: 0 !important;\n",
    "}\n",
    "</style>'''\n",
    "\n",
    "display(HTML(command))\n",
    "\n",
    "import DigitalBoards\n",
    "\n",
    "import importlib\n",
    "importlib.reload(DigitalBoards)\n",
    "\n",
    "out = widgets.Output()\n",
    "display(out)\n",
    "\n",
    "def onclick(x):\n",
    "    with out:\n",
    "        print(x)\n",
    "\n",
    "scale = 0.7\n",
    "\n",
    "#tp = DigitalBoards.PointsBoard(width=14, height=16, color_back='#ffffff', color_off='#f3f3f3')\n",
    "tp1   = DigitalBoards.PointsBoard(scale=scale, onclick=onclick, left_align=False)\n",
    "colon = DigitalBoards.Colon(scale=scale)\n",
    "tp2   = DigitalBoards.PointsBoard(scale=scale, left_align=True)\n",
    "widgets.HBox([tp1, colon, tp2])"
   ]
  },
  {
   "cell_type": "code",
   "execution_count": null,
   "id": "2d11cddb-2117-4aca-b5e9-9e3648e3da50",
   "metadata": {
    "tags": []
   },
   "outputs": [],
   "source": [
    "tp1.scale = colon.scale = tp2.scale = 0.5"
   ]
  },
  {
   "cell_type": "code",
   "execution_count": null,
   "id": "0d68241b-373f-4d5b-b6c3-5b30cd4e2fae",
   "metadata": {
    "tags": []
   },
   "outputs": [],
   "source": [
    "tp1.points = 27\n",
    "tp2.points = 45"
   ]
  },
  {
   "cell_type": "code",
   "execution_count": null,
   "id": "7b2f328f-76b7-41dc-83c8-9148f8157f1d",
   "metadata": {
    "tags": []
   },
   "outputs": [],
   "source": [
    "for i in range(10):\n",
    "    tp2.points -= 3"
   ]
  },
  {
   "cell_type": "code",
   "execution_count": null,
   "id": "d83b38a9-5791-4ebd-9684-3c219fcffc13",
   "metadata": {
    "tags": []
   },
   "outputs": [],
   "source": [
    "tp1.points"
   ]
  },
  {
   "cell_type": "markdown",
   "id": "bea66e16-1cc0-4e11-84aa-2025f887ff3e",
   "metadata": {},
   "source": [
    "### FoulsBoard"
   ]
  },
  {
   "cell_type": "code",
   "execution_count": null,
   "id": "6127b002-e0da-4556-b5c2-591bd22d77e1",
   "metadata": {
    "tags": []
   },
   "outputs": [],
   "source": [
    "import DigitalBoards\n",
    "\n",
    "import importlib\n",
    "importlib.reload(DigitalBoards)\n",
    "\n",
    "#tp = DigitalBoards.FoulsBoard(width=14, height=16, color_back='#ffffff', color_off='#f3f3f3')\n",
    "tf = DigitalBoards.FoulsBoard(scale=0.5)\n",
    "tf"
   ]
  },
  {
   "cell_type": "code",
   "execution_count": null,
   "id": "3ebccf00-398a-457c-bba3-3a9e05ffa306",
   "metadata": {
    "tags": []
   },
   "outputs": [],
   "source": [
    "tf.scale = 0.8"
   ]
  },
  {
   "cell_type": "code",
   "execution_count": null,
   "id": "50e25bee-6892-4c96-a1b8-e22dc24d5223",
   "metadata": {
    "tags": []
   },
   "outputs": [],
   "source": [
    "tf.fouls = 47"
   ]
  },
  {
   "cell_type": "code",
   "execution_count": null,
   "id": "f7cc79b2-683b-45b5-84b0-3f6591eb3713",
   "metadata": {},
   "outputs": [],
   "source": []
  }
 ],
 "metadata": {
  "kernelspec": {
   "display_name": "Python 3.11.9 (davide)",
   "language": "python",
   "name": "davide"
  },
  "language_info": {
   "codemirror_mode": {
    "name": "ipython",
    "version": 3
   },
   "file_extension": ".py",
   "mimetype": "text/x-python",
   "name": "python",
   "nbconvert_exporter": "python",
   "pygments_lexer": "ipython3",
   "version": "3.11.9"
  }
 },
 "nbformat": 4,
 "nbformat_minor": 5
}
